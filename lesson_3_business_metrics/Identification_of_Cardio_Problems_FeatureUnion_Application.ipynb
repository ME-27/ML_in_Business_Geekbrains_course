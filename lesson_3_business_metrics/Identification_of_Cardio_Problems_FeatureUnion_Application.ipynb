{
 "cells": [
  {
   "cell_type": "markdown",
   "id": "f58f59b3",
   "metadata": {},
   "source": [
    "# Identification of Cardio Problems / FeatureUnion Application"
   ]
  },
  {
   "cell_type": "markdown",
   "id": "431cecc2",
   "metadata": {},
   "source": [
    "We have to predict cardio problems. There's given a dataset of 100 000 of real world cases. There're 3 groups of features:\n",
    "\n",
    "- objective features:\n",
    "    - age (in days)\n",
    "    - height\n",
    "    - weight\n",
    "    - gender\n",
    "- measurement results:\n",
    "    - arterial pressure/high\n",
    "    - arterial pressure/low\n",
    "    - cholesterol (normal/above normal/very above normal)\n",
    "    - glucose (normal/above normal/very above normal)\n",
    "- subjective features:\n",
    "    - smoking (yes/no)\n",
    "    - alcohol (yes/no)\n",
    "    - physical activity (yes/no)\n",
    "    \n",
    "Target - 'cardio'"
   ]
  },
  {
   "cell_type": "code",
   "execution_count": 1,
   "id": "856b10aa",
   "metadata": {},
   "outputs": [],
   "source": [
    "import numpy as np\n",
    "import pandas as pd\n",
    "\n",
    "from sklearn.linear_model import LogisticRegression\n",
    "from sklearn.model_selection import cross_val_score, train_test_split\n",
    "from sklearn.preprocessing import StandardScaler\n",
    "from sklearn.metrics import precision_recall_curve, roc_curve, roc_auc_score, confusion_matrix\n",
    "from sklearn.pipeline import Pipeline, FeatureUnion\n",
    "from sklearn.base import BaseEstimator, TransformerMixin\n",
    "\n",
    "import itertools\n",
    "import matplotlib.pyplot as plt\n",
    "%matplotlib inline"
   ]
  },
  {
   "cell_type": "markdown",
   "id": "8b228ed5",
   "metadata": {},
   "source": [
    "### uploading data"
   ]
  },
  {
   "cell_type": "code",
   "execution_count": 2,
   "id": "3a62b57d",
   "metadata": {},
   "outputs": [
    {
     "data": {
      "text/html": [
       "<div>\n",
       "<style scoped>\n",
       "    .dataframe tbody tr th:only-of-type {\n",
       "        vertical-align: middle;\n",
       "    }\n",
       "\n",
       "    .dataframe tbody tr th {\n",
       "        vertical-align: top;\n",
       "    }\n",
       "\n",
       "    .dataframe thead th {\n",
       "        text-align: right;\n",
       "    }\n",
       "</style>\n",
       "<table border=\"1\" class=\"dataframe\">\n",
       "  <thead>\n",
       "    <tr style=\"text-align: right;\">\n",
       "      <th></th>\n",
       "      <th>id</th>\n",
       "      <th>age</th>\n",
       "      <th>gender</th>\n",
       "      <th>height</th>\n",
       "      <th>weight</th>\n",
       "      <th>ap_hi</th>\n",
       "      <th>ap_lo</th>\n",
       "      <th>cholesterol</th>\n",
       "      <th>gluc</th>\n",
       "      <th>smoke</th>\n",
       "      <th>alco</th>\n",
       "      <th>active</th>\n",
       "      <th>cardio</th>\n",
       "    </tr>\n",
       "  </thead>\n",
       "  <tbody>\n",
       "    <tr>\n",
       "      <th>0</th>\n",
       "      <td>0</td>\n",
       "      <td>18393</td>\n",
       "      <td>2</td>\n",
       "      <td>168</td>\n",
       "      <td>62.0</td>\n",
       "      <td>110</td>\n",
       "      <td>80</td>\n",
       "      <td>1</td>\n",
       "      <td>1</td>\n",
       "      <td>0</td>\n",
       "      <td>0</td>\n",
       "      <td>1</td>\n",
       "      <td>0</td>\n",
       "    </tr>\n",
       "    <tr>\n",
       "      <th>1</th>\n",
       "      <td>1</td>\n",
       "      <td>20228</td>\n",
       "      <td>1</td>\n",
       "      <td>156</td>\n",
       "      <td>85.0</td>\n",
       "      <td>140</td>\n",
       "      <td>90</td>\n",
       "      <td>3</td>\n",
       "      <td>1</td>\n",
       "      <td>0</td>\n",
       "      <td>0</td>\n",
       "      <td>1</td>\n",
       "      <td>1</td>\n",
       "    </tr>\n",
       "    <tr>\n",
       "      <th>2</th>\n",
       "      <td>2</td>\n",
       "      <td>18857</td>\n",
       "      <td>1</td>\n",
       "      <td>165</td>\n",
       "      <td>64.0</td>\n",
       "      <td>130</td>\n",
       "      <td>70</td>\n",
       "      <td>3</td>\n",
       "      <td>1</td>\n",
       "      <td>0</td>\n",
       "      <td>0</td>\n",
       "      <td>0</td>\n",
       "      <td>1</td>\n",
       "    </tr>\n",
       "  </tbody>\n",
       "</table>\n",
       "</div>"
      ],
      "text/plain": [
       "   id    age  gender  height  weight  ap_hi  ap_lo  cholesterol  gluc  smoke  \\\n",
       "0   0  18393       2     168    62.0    110     80            1     1      0   \n",
       "1   1  20228       1     156    85.0    140     90            3     1      0   \n",
       "2   2  18857       1     165    64.0    130     70            3     1      0   \n",
       "\n",
       "   alco  active  cardio  \n",
       "0     0       1       0  \n",
       "1     0       1       1  \n",
       "2     0       0       1  "
      ]
     },
     "execution_count": 2,
     "metadata": {},
     "output_type": "execute_result"
    }
   ],
   "source": [
    "df = pd.read_csv('train_case2.csv', delimiter=';')\n",
    "df.head(3)"
   ]
  },
  {
   "cell_type": "markdown",
   "id": "7673b8b3",
   "metadata": {},
   "source": [
    "### train test split"
   ]
  },
  {
   "cell_type": "code",
   "execution_count": 3,
   "id": "d572dcc8",
   "metadata": {},
   "outputs": [],
   "source": [
    "X_train, X_test, y_train, y_test = train_test_split(df.drop('cardio', 1), \n",
    "                                                    df['cardio'], random_state=0)"
   ]
  },
  {
   "cell_type": "markdown",
   "id": "619ab5d8",
   "metadata": {},
   "source": [
    "### let's create 3 groups/lists of pipelines based on feature transformation they do"
   ]
  },
  {
   "cell_type": "markdown",
   "id": "a1364910",
   "metadata": {},
   "source": [
    "- gender, cholesterol - one-hot encoding\n",
    "- age, height, weight, ap_hi, ap_lo - StandardScaler\n",
    "- gluc, smoke, alco, active - leave them as they are"
   ]
  },
  {
   "cell_type": "code",
   "execution_count": 4,
   "id": "4b15356f",
   "metadata": {},
   "outputs": [],
   "source": [
    "class ColumnSelector(BaseEstimator, TransformerMixin):\n",
    "    \"\"\"\n",
    "    Transformer to select a single column from the data frame to perform additional transformations on\n",
    "    \"\"\"\n",
    "    def __init__(self, key):\n",
    "        self.key = key\n",
    "\n",
    "    def fit(self, X, y=None):\n",
    "        return self\n",
    "\n",
    "    def transform(self, X):\n",
    "        return X[self.key]\n",
    "\n",
    "    \n",
    "class NumberSelector(BaseEstimator, TransformerMixin):\n",
    "    \"\"\"\n",
    "    Transformer to select a single column from the data frame to perform additional transformations on\n",
    "    Use on numeric columns in the data\n",
    "    \"\"\"\n",
    "    def __init__(self, key):\n",
    "        self.key = key\n",
    "\n",
    "    def fit(self, X, y=None):\n",
    "        return self\n",
    "\n",
    "    def transform(self, X):\n",
    "        return X[[self.key]]\n",
    "\n",
    "\n",
    "class OHEEncoder(BaseEstimator, TransformerMixin):\n",
    "    def __init__(self, key):\n",
    "        self.key = key\n",
    "        self.columns = []\n",
    "\n",
    "    def fit(self, X, y=None):\n",
    "        self.columns = [col for col in pd.get_dummies(X, prefix=self.key).columns]\n",
    "        return self\n",
    "\n",
    "    def transform(self, X):\n",
    "        X = pd.get_dummies(X, prefix=self.key)\n",
    "        test_columns = [col for col in X.columns]\n",
    "        for col_ in test_columns:\n",
    "            if col_ not in self.columns:\n",
    "                X[col_] = 0\n",
    "        return X[self.columns]\n",
    "\n",
    "\n",
    "continuos_cols = ['age', 'height', 'weight', 'ap_hi', 'ap_lo']\n",
    "cat_cols = ['gender', 'cholesterol']\n",
    "base_cols = ['gluc', 'smoke', 'alco', 'active']\n",
    "\n",
    "continuos_transformers = []\n",
    "cat_transformers = []\n",
    "base_transformers = []\n",
    "\n",
    "\n",
    "for cont_col in continuos_cols:\n",
    "    transfomer =  Pipeline([\n",
    "                ('selector', NumberSelector(key=cont_col)),\n",
    "                ('standard', StandardScaler())\n",
    "            ])\n",
    "    continuos_transformers.append((cont_col, transfomer))\n",
    "    \n",
    "for cat_col in cat_cols:\n",
    "    cat_transformer = Pipeline([\n",
    "                ('selector', ColumnSelector(key=cat_col)),\n",
    "                ('ohe', OHEEncoder(key=cat_col))\n",
    "            ])\n",
    "    cat_transformers.append((cat_col, cat_transformer))\n",
    "    \n",
    "for base_col in base_cols:\n",
    "    base_transformer = Pipeline([\n",
    "                ('selector', NumberSelector(key=base_col))\n",
    "            ])\n",
    "    base_transformers.append((base_col, base_transformer))"
   ]
  },
  {
   "cell_type": "markdown",
   "id": "caa7c24d",
   "metadata": {},
   "source": [
    "### the 3 lists of pipelines look like"
   ]
  },
  {
   "cell_type": "code",
   "execution_count": 5,
   "id": "b4905ca1",
   "metadata": {},
   "outputs": [
    {
     "data": {
      "text/plain": [
       "([('age',\n",
       "   Pipeline(steps=[('selector', NumberSelector(key='age')),\n",
       "                   ('standard', StandardScaler())])),\n",
       "  ('height',\n",
       "   Pipeline(steps=[('selector', NumberSelector(key='height')),\n",
       "                   ('standard', StandardScaler())])),\n",
       "  ('weight',\n",
       "   Pipeline(steps=[('selector', NumberSelector(key='weight')),\n",
       "                   ('standard', StandardScaler())])),\n",
       "  ('ap_hi',\n",
       "   Pipeline(steps=[('selector', NumberSelector(key='ap_hi')),\n",
       "                   ('standard', StandardScaler())])),\n",
       "  ('ap_lo',\n",
       "   Pipeline(steps=[('selector', NumberSelector(key='ap_lo')),\n",
       "                   ('standard', StandardScaler())]))],\n",
       " [('gender',\n",
       "   Pipeline(steps=[('selector', ColumnSelector(key='gender')),\n",
       "                   ('ohe', OHEEncoder(key='gender'))])),\n",
       "  ('cholesterol',\n",
       "   Pipeline(steps=[('selector', ColumnSelector(key='cholesterol')),\n",
       "                   ('ohe', OHEEncoder(key='cholesterol'))]))],\n",
       " [('gluc', Pipeline(steps=[('selector', NumberSelector(key='gluc'))])),\n",
       "  ('smoke', Pipeline(steps=[('selector', NumberSelector(key='smoke'))])),\n",
       "  ('alco', Pipeline(steps=[('selector', NumberSelector(key='alco'))])),\n",
       "  ('active', Pipeline(steps=[('selector', NumberSelector(key='active'))]))])"
      ]
     },
     "execution_count": 5,
     "metadata": {},
     "output_type": "execute_result"
    }
   ],
   "source": [
    "continuos_transformers, cat_transformers, base_transformers"
   ]
  },
  {
   "cell_type": "markdown",
   "id": "72a85552",
   "metadata": {},
   "source": [
    "### let's unite them all into one pipeline with FeatureUnion"
   ]
  },
  {
   "cell_type": "code",
   "execution_count": 6,
   "id": "a235f878",
   "metadata": {},
   "outputs": [],
   "source": [
    "feats = FeatureUnion(continuos_transformers+cat_transformers+base_transformers)"
   ]
  },
  {
   "cell_type": "markdown",
   "id": "a8a9bbee",
   "metadata": {},
   "source": [
    "### let's take a look on how our combined pipeline transforms the data"
   ]
  },
  {
   "cell_type": "markdown",
   "id": "483c0074",
   "metadata": {},
   "source": [
    "NB! code in this section can be deleted, it's only for demonstration purposes; feature_processing is not required in the main code"
   ]
  },
  {
   "cell_type": "code",
   "execution_count": 7,
   "id": "bb73883d",
   "metadata": {},
   "outputs": [
    {
     "data": {
      "text/plain": [
       "(52500, 14)"
      ]
     },
     "execution_count": 7,
     "metadata": {},
     "output_type": "execute_result"
    }
   ],
   "source": [
    "feature_processing = Pipeline([('feats', feats)])\n",
    "feature_processing.fit_transform(X_train).shape"
   ]
  },
  {
   "cell_type": "code",
   "execution_count": 8,
   "id": "f5d45817",
   "metadata": {
    "scrolled": true
   },
   "outputs": [
    {
     "data": {
      "text/html": [
       "<div>\n",
       "<style scoped>\n",
       "    .dataframe tbody tr th:only-of-type {\n",
       "        vertical-align: middle;\n",
       "    }\n",
       "\n",
       "    .dataframe tbody tr th {\n",
       "        vertical-align: top;\n",
       "    }\n",
       "\n",
       "    .dataframe thead th {\n",
       "        text-align: right;\n",
       "    }\n",
       "</style>\n",
       "<table border=\"1\" class=\"dataframe\">\n",
       "  <thead>\n",
       "    <tr style=\"text-align: right;\">\n",
       "      <th></th>\n",
       "      <th>id</th>\n",
       "      <th>age</th>\n",
       "      <th>gender</th>\n",
       "      <th>height</th>\n",
       "      <th>weight</th>\n",
       "      <th>ap_hi</th>\n",
       "      <th>ap_lo</th>\n",
       "      <th>cholesterol</th>\n",
       "      <th>gluc</th>\n",
       "      <th>smoke</th>\n",
       "      <th>alco</th>\n",
       "      <th>active</th>\n",
       "    </tr>\n",
       "  </thead>\n",
       "  <tbody>\n",
       "    <tr>\n",
       "      <th>4497</th>\n",
       "      <td>6369</td>\n",
       "      <td>15212</td>\n",
       "      <td>2</td>\n",
       "      <td>170</td>\n",
       "      <td>85.0</td>\n",
       "      <td>130</td>\n",
       "      <td>80</td>\n",
       "      <td>3</td>\n",
       "      <td>3</td>\n",
       "      <td>1</td>\n",
       "      <td>0</td>\n",
       "      <td>1</td>\n",
       "    </tr>\n",
       "  </tbody>\n",
       "</table>\n",
       "</div>"
      ],
      "text/plain": [
       "        id    age  gender  height  weight  ap_hi  ap_lo  cholesterol  gluc  \\\n",
       "4497  6369  15212       2     170    85.0    130     80            3     3   \n",
       "\n",
       "      smoke  alco  active  \n",
       "4497      1     0       1  "
      ]
     },
     "execution_count": 8,
     "metadata": {},
     "output_type": "execute_result"
    }
   ],
   "source": [
    "X_train.head(1)"
   ]
  },
  {
   "cell_type": "code",
   "execution_count": 9,
   "id": "694ccb28",
   "metadata": {},
   "outputs": [
    {
     "data": {
      "text/plain": [
       "array([-1.73391771,  0.6873301 ,  0.74843904,  0.0085465 , -0.0911737 ,\n",
       "        0.        ,  1.        ,  0.        ,  0.        ,  1.        ,\n",
       "        3.        ,  1.        ,  0.        ,  1.        ])"
      ]
     },
     "execution_count": 9,
     "metadata": {},
     "output_type": "execute_result"
    }
   ],
   "source": [
    "feature_processing.fit_transform(X_train)[0]"
   ]
  },
  {
   "cell_type": "markdown",
   "id": "1122cd75",
   "metadata": {},
   "source": [
    "as it's seen one-hot encoding added 3 more columns for 'gender' and 'cholesterol', 'age' and other continuous features were standartized, 'id' was not included"
   ]
  },
  {
   "cell_type": "markdown",
   "id": "ee6f1eba",
   "metadata": {},
   "source": [
    "### let's upgrade our pipeline by adding a classifier"
   ]
  },
  {
   "cell_type": "code",
   "execution_count": 10,
   "id": "61b2b3c8",
   "metadata": {},
   "outputs": [
    {
     "name": "stdout",
     "output_type": "stream",
     "text": [
      "CV score is 0.7868698300824125 +/- 0.004835306405044692 (std)\n"
     ]
    }
   ],
   "source": [
    "classifier = Pipeline([\n",
    "    ('features', feats),\n",
    "#     ('classifier', LogisticRegression(C=0.1, random_state = 42)),\n",
    "    ('classifier', LogisticRegression(C=10, random_state = 42)),  # 'C' can be tuned to improve performance\n",
    "])\n",
    "\n",
    "# cross-validation\n",
    "cv_scores = cross_val_score(classifier, X_train, y_train, cv=6, scoring='roc_auc')\n",
    "cv_score = np.mean(cv_scores)\n",
    "cv_score_std = np.std(cv_scores)\n",
    "print('CV score is {} +/- {} (std)'.format(cv_score, cv_score_std))\n",
    "\n",
    "# fitting our pipeline \n",
    "classifier.fit(X_train, y_train)\n",
    "\n",
    "# predicting probabilities\n",
    "y_score = classifier.predict_proba(X_test)[:, 1]"
   ]
  },
  {
   "cell_type": "markdown",
   "id": "177fa766",
   "metadata": {},
   "source": [
    "### let's find the best threshold"
   ]
  },
  {
   "cell_type": "code",
   "execution_count": 11,
   "id": "69ae3208",
   "metadata": {},
   "outputs": [
    {
     "name": "stdout",
     "output_type": "stream",
     "text": [
      "Best Threshold=0.386133, F-Score=0.730, Precision=0.647, Recall=0.838\n"
     ]
    }
   ],
   "source": [
    "b = 1\n",
    "precision, recall, thresholds = precision_recall_curve(y_test.values, y_score)\n",
    "fscore = (1 + b**2) * (precision * recall) / (b**2 * precision + recall)\n",
    "\n",
    "# locate the index of the largest f-score\n",
    "ix = np.argmax(fscore)\n",
    "print('Best Threshold=%f, F-Score=%.3f, Precision=%.3f, Recall=%.3f' % (thresholds[ix], \n",
    "                                                                        fscore[ix],\n",
    "                                                                        precision[ix],\n",
    "                                                                        recall[ix]))"
   ]
  },
  {
   "cell_type": "markdown",
   "id": "f80fc11a",
   "metadata": {},
   "source": [
    "### let's draw ROC curve"
   ]
  },
  {
   "cell_type": "code",
   "execution_count": 12,
   "id": "62d66605",
   "metadata": {},
   "outputs": [
    {
     "data": {
      "image/png": "[encoded data removed]",
      "text/plain": [
       "<Figure size 720x576 with 1 Axes>"
      ]
     },
     "metadata": {
      "needs_background": "light"
     },
     "output_type": "display_data"
    }
   ],
   "source": [
    "plt.figure(figsize=(10, 8))\n",
    "# fpr, tpr, thresholds_ = roc_curve(y_test, y_score, pos_label=1)  # C = 0.1\n",
    "fpr_, tpr_, thresholds_ = roc_curve(y_test, y_score, pos_label=1)  # C = 10\n",
    "lw = 2\n",
    "\n",
    "# plt.plot(fpr, tpr, lw=lw, label='ROC curve2  C = 0.1')\n",
    "plt.plot(fpr_, tpr_, lw=lw, label='ROC curve C = 10')\n",
    "\n",
    "plt.plot([0, 1], [0, 1])\n",
    "plt.xlim([0.0, 1.0])\n",
    "plt.ylim([0.0, 1.05])\n",
    "\n",
    "plt.xlabel('False Positive Rate')\n",
    "plt.ylabel('True Positive Rate')\n",
    "plt.title('ROC curve')\n",
    "plt.legend()\n",
    "# plt.savefig(\"ROC.png\")\n",
    "plt.grid()\n",
    "plt.show()"
   ]
  },
  {
   "cell_type": "markdown",
   "id": "12e9f68a",
   "metadata": {},
   "source": [
    "### let's plot confusion matrix"
   ]
  },
  {
   "cell_type": "code",
   "execution_count": 13,
   "id": "de12b9ca",
   "metadata": {},
   "outputs": [],
   "source": [
    "def plot_confusion_matrix(cm, classes,\n",
    "                          normalize=False,\n",
    "                          title='Confusion matrix',\n",
    "                          cmap=plt.cm.Blues):\n",
    "    \"\"\"\n",
    "    This function prints and plots the confusion matrix.\n",
    "    Normalization can be applied by setting `normalize=True`.\n",
    "    \"\"\"\n",
    "    plt.imshow(cm, interpolation='nearest', cmap=cmap)\n",
    "    plt.title(title)\n",
    "    plt.colorbar()\n",
    "    tick_marks = np.arange(len(classes))\n",
    "    plt.xticks(tick_marks, classes, rotation=45)\n",
    "    plt.yticks(tick_marks, classes)\n",
    "\n",
    "    if normalize:\n",
    "        cm = cm.astype('float') / cm.sum(axis=1)[:, np.newaxis]\n",
    "        print(\"Normalized confusion matrix\")\n",
    "    else:\n",
    "        print('Confusion matrix, without normalization')\n",
    "\n",
    "    print(cm)\n",
    "\n",
    "    thresh = cm.max() / 2.\n",
    "    for i, j in itertools.product(range(cm.shape[0]), range(cm.shape[1])):\n",
    "        plt.text(j, i, cm[i, j],\n",
    "                 horizontalalignment=\"center\",\n",
    "                 color=\"white\" if cm[i, j] > thresh else \"black\")\n",
    "\n",
    "    plt.tight_layout()\n",
    "    plt.ylabel('True label')\n",
    "    plt.xlabel('Predicted label')"
   ]
  },
  {
   "cell_type": "code",
   "execution_count": 14,
   "id": "8501461c",
   "metadata": {},
   "outputs": [
    {
     "name": "stdout",
     "output_type": "stream",
     "text": [
      "Confusion matrix, without normalization\n",
      "[[2126 6694]\n",
      " [ 367 8313]]\n"
     ]
    },
    {
     "data": {
      "image/png": "[encoded data removed]",
      "text/plain": [
       "<Figure size 720x576 with 2 Axes>"
      ]
     },
     "metadata": {
      "needs_background": "light"
     },
     "output_type": "display_data"
    }
   ],
   "source": [
    "font = {'size' : 15}\n",
    "\n",
    "plt.rc('font', **font)\n",
    "\n",
    "business_threshold = 0.65  # 'business_threshold' can be tuned to impove business metrics\n",
    "\n",
    "cnf_matrix = confusion_matrix(y_test, y_score > thresholds[ix]*business_threshold)  # !!!\n",
    "plt.figure(figsize=(10, 8))\n",
    "plot_confusion_matrix(cnf_matrix, classes=['cardio 0', 'cardio 1'],\n",
    "                      title='Confusion matrix')\n",
    "# plt.savefig(\"conf_matrix.png\")\n",
    "plt.show()"
   ]
  },
  {
   "cell_type": "markdown",
   "id": "64db2997",
   "metadata": {},
   "source": [
    "### let's calculate TPR, FPR, TNR"
   ]
  },
  {
   "cell_type": "code",
   "execution_count": 15,
   "id": "a0dba4f8",
   "metadata": {},
   "outputs": [],
   "source": [
    "TN, FP, FN, TP = confusion_matrix(y_test, y_score > thresholds[ix]*business_threshold).ravel()"
   ]
  },
  {
   "cell_type": "code",
   "execution_count": 16,
   "id": "c2cc15a0",
   "metadata": {},
   "outputs": [
    {
     "data": {
      "text/plain": [
       "(0.9577188940092166, 0.7589569160997732, 0.24104308390022675)"
      ]
     },
     "execution_count": 16,
     "metadata": {},
     "output_type": "execute_result"
    }
   ],
   "source": [
    "TPR = TP/(TP+FN)\n",
    "FPR = FP/(FP+TN)\n",
    "TNR = TN/(FP+TN)\n",
    "TPR, FPR, TNR"
   ]
  },
  {
   "cell_type": "code",
   "execution_count": null,
   "id": "1b943b80",
   "metadata": {},
   "outputs": [],
   "source": []
  },
  {
   "cell_type": "markdown",
   "id": "e3a69695",
   "metadata": {},
   "source": [
    "## Business Metrics"
   ]
  },
  {
   "cell_type": "markdown",
   "id": "92553159",
   "metadata": {},
   "source": [
    "Let's imagine that we have a business dilemma where:\n",
    "\n",
    "- the cost of testing is 1500\n",
    "- the cost of early treatment is 13000 plus the cost of testing\n",
    "- the cost of late treatment is 13000\n",
    "\n",
    "Our task is to minimize our spendings."
   ]
  },
  {
   "cell_type": "code",
   "execution_count": 17,
   "id": "a4940e3b",
   "metadata": {},
   "outputs": [
    {
     "data": {
      "image/png": "[encoded data removed]",
      "text/plain": [
       "<Figure size 720x576 with 1 Axes>"
      ]
     },
     "metadata": {
      "needs_background": "light"
     },
     "output_type": "display_data"
    }
   ],
   "source": [
    "cost_to_test = 1500\n",
    "cost_to_early_treatment = 13000 + cost_to_test\n",
    "cost_to_late_treatment = 20000\n",
    "\n",
    "money_loss =[]\n",
    "business_threshold_levels = np.linspace(0, 3, 100).tolist()\n",
    "\n",
    "for business_threshold_level in business_threshold_levels:\n",
    "    TN, FP, FN, TP = confusion_matrix(y_test, y_score > thresholds[ix]*business_threshold_level).ravel()\n",
    "    money_loss.append(FP*cost_to_test + TP*cost_to_early_treatment + FN*cost_to_late_treatment)\n",
    "\n",
    "plt.figure(figsize=(10, 8))\n",
    "plt.plot(business_threshold_levels, money_loss)\n",
    "plt.ylabel('money loss $')\n",
    "plt.xlabel('business threshold')\n",
    "plt.title('business threshold and money loss')\n",
    "plt.grid()\n",
    "plt.show()"
   ]
  },
  {
   "cell_type": "markdown",
   "id": "c4fa8008",
   "metadata": {},
   "source": [
    "### here's the optimal business threshold established with ML"
   ]
  },
  {
   "cell_type": "code",
   "execution_count": 18,
   "id": "b92cb07f",
   "metadata": {},
   "outputs": [
    {
     "data": {
      "text/html": [
       "<div>\n",
       "<style scoped>\n",
       "    .dataframe tbody tr th:only-of-type {\n",
       "        vertical-align: middle;\n",
       "    }\n",
       "\n",
       "    .dataframe tbody tr th {\n",
       "        vertical-align: top;\n",
       "    }\n",
       "\n",
       "    .dataframe thead th {\n",
       "        text-align: right;\n",
       "    }\n",
       "</style>\n",
       "<table border=\"1\" class=\"dataframe\">\n",
       "  <thead>\n",
       "    <tr style=\"text-align: right;\">\n",
       "      <th></th>\n",
       "      <th>business_threshold_levels</th>\n",
       "      <th>money_loss</th>\n",
       "    </tr>\n",
       "  </thead>\n",
       "  <tbody>\n",
       "    <tr>\n",
       "      <th>25</th>\n",
       "      <td>0.757576</td>\n",
       "      <td>137931500</td>\n",
       "    </tr>\n",
       "  </tbody>\n",
       "</table>\n",
       "</div>"
      ],
      "text/plain": [
       "    business_threshold_levels  money_loss\n",
       "25                   0.757576   137931500"
      ]
     },
     "execution_count": 18,
     "metadata": {},
     "output_type": "execute_result"
    }
   ],
   "source": [
    "money_loss_and_bthresholds = pd.DataFrame({\n",
    "    'business_threshold_levels': business_threshold_levels,\n",
    "    'money_loss': money_loss  \n",
    "})\n",
    "\n",
    "money_loss_and_bthresholds.sort_values(by='money_loss', ascending=True).head(1)"
   ]
  },
  {
   "cell_type": "markdown",
   "id": "20a57960",
   "metadata": {},
   "source": [
    "### here's the money loss if we decide to test everyone"
   ]
  },
  {
   "cell_type": "code",
   "execution_count": 19,
   "id": "8417917b",
   "metadata": {},
   "outputs": [
    {
     "data": {
      "text/html": [
       "<div>\n",
       "<style scoped>\n",
       "    .dataframe tbody tr th:only-of-type {\n",
       "        vertical-align: middle;\n",
       "    }\n",
       "\n",
       "    .dataframe tbody tr th {\n",
       "        vertical-align: top;\n",
       "    }\n",
       "\n",
       "    .dataframe thead th {\n",
       "        text-align: right;\n",
       "    }\n",
       "</style>\n",
       "<table border=\"1\" class=\"dataframe\">\n",
       "  <thead>\n",
       "    <tr style=\"text-align: right;\">\n",
       "      <th></th>\n",
       "      <th>business_threshold_levels</th>\n",
       "      <th>money_loss</th>\n",
       "    </tr>\n",
       "  </thead>\n",
       "  <tbody>\n",
       "    <tr>\n",
       "      <th>0</th>\n",
       "      <td>0.0</td>\n",
       "      <td>139090000</td>\n",
       "    </tr>\n",
       "  </tbody>\n",
       "</table>\n",
       "</div>"
      ],
      "text/plain": [
       "   business_threshold_levels  money_loss\n",
       "0                        0.0   139090000"
      ]
     },
     "execution_count": 19,
     "metadata": {},
     "output_type": "execute_result"
    }
   ],
   "source": [
    "money_loss_and_bthresholds.sort_values(by='business_threshold_levels', ascending=True).head(1)"
   ]
  },
  {
   "cell_type": "markdown",
   "id": "e66773a8",
   "metadata": {},
   "source": [
    "### here's the money loss if we decide not to test at all"
   ]
  },
  {
   "cell_type": "code",
   "execution_count": 20,
   "id": "768b2099",
   "metadata": {},
   "outputs": [
    {
     "data": {
      "text/html": [
       "<div>\n",
       "<style scoped>\n",
       "    .dataframe tbody tr th:only-of-type {\n",
       "        vertical-align: middle;\n",
       "    }\n",
       "\n",
       "    .dataframe tbody tr th {\n",
       "        vertical-align: top;\n",
       "    }\n",
       "\n",
       "    .dataframe thead th {\n",
       "        text-align: right;\n",
       "    }\n",
       "</style>\n",
       "<table border=\"1\" class=\"dataframe\">\n",
       "  <thead>\n",
       "    <tr style=\"text-align: right;\">\n",
       "      <th></th>\n",
       "      <th>business_threshold_levels</th>\n",
       "      <th>money_loss</th>\n",
       "    </tr>\n",
       "  </thead>\n",
       "  <tbody>\n",
       "    <tr>\n",
       "      <th>99</th>\n",
       "      <td>3.0</td>\n",
       "      <td>173600000</td>\n",
       "    </tr>\n",
       "  </tbody>\n",
       "</table>\n",
       "</div>"
      ],
      "text/plain": [
       "    business_threshold_levels  money_loss\n",
       "99                        3.0   173600000"
      ]
     },
     "execution_count": 20,
     "metadata": {},
     "output_type": "execute_result"
    }
   ],
   "source": [
    "money_loss_and_bthresholds.sort_values(by='business_threshold_levels', ascending=False).head(1)"
   ]
  },
  {
   "cell_type": "markdown",
   "id": "dc658ba1",
   "metadata": {},
   "source": [
    "spendings in this case are definitely the biggest"
   ]
  },
  {
   "cell_type": "markdown",
   "id": "360cf569",
   "metadata": {},
   "source": [
    "### if we subtract spendings minimized by ML from the case where we test everyone, we will have our profit"
   ]
  },
  {
   "cell_type": "code",
   "execution_count": 21,
   "id": "5867a148",
   "metadata": {},
   "outputs": [
    {
     "data": {
      "text/plain": [
       "1158500"
      ]
     },
     "execution_count": 21,
     "metadata": {},
     "output_type": "execute_result"
    }
   ],
   "source": [
    "our_profit = money_loss_and_bthresholds.sort_values(by='business_threshold_levels', ascending=True)['money_loss'].iloc[0] -\\\n",
    "             money_loss_and_bthresholds.sort_values(by='money_loss', ascending=True)['money_loss'].iloc[0]\n",
    "our_profit"
   ]
  },
  {
   "cell_type": "code",
   "execution_count": null,
   "id": "57ea7a35",
   "metadata": {},
   "outputs": [],
   "source": []
  }
 ],
 "metadata": {
  "kernelspec": {
   "display_name": "Python 3",
   "language": "python",
   "name": "python3"
  },
  "language_info": {
   "codemirror_mode": {
    "name": "ipython",
    "version": 3
   },
   "file_extension": ".py",
   "mimetype": "text/x-python",
   "name": "python",
   "nbconvert_exporter": "python",
   "pygments_lexer": "ipython3",
   "version": "3.8.8"
  }
 },
 "nbformat": 4,
 "nbformat_minor": 5
}
