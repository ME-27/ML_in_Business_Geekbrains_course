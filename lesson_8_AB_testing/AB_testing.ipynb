{
 "cells": [
  {
   "cell_type": "markdown",
   "id": "a170bf99",
   "metadata": {},
   "source": [
    "# AB testing"
   ]
  },
  {
   "cell_type": "code",
   "execution_count": 1,
   "id": "a2b7ddc6",
   "metadata": {},
   "outputs": [],
   "source": [
    "import pandas as pd"
   ]
  },
  {
   "cell_type": "code",
   "execution_count": 2,
   "id": "c58c9236",
   "metadata": {},
   "outputs": [
    {
     "data": {
      "text/html": [
       "<div>\n",
       "<style scoped>\n",
       "    .dataframe tbody tr th:only-of-type {\n",
       "        vertical-align: middle;\n",
       "    }\n",
       "\n",
       "    .dataframe tbody tr th {\n",
       "        vertical-align: top;\n",
       "    }\n",
       "\n",
       "    .dataframe thead th {\n",
       "        text-align: right;\n",
       "    }\n",
       "</style>\n",
       "<table border=\"1\" class=\"dataframe\">\n",
       "  <thead>\n",
       "    <tr style=\"text-align: right;\">\n",
       "      <th></th>\n",
       "      <th>revenue</th>\n",
       "      <th>num_purchases</th>\n",
       "      <th>purchase</th>\n",
       "      <th>ab_group</th>\n",
       "    </tr>\n",
       "  </thead>\n",
       "  <tbody>\n",
       "    <tr>\n",
       "      <th>0</th>\n",
       "      <td>0.0</td>\n",
       "      <td>0.0</td>\n",
       "      <td>0</td>\n",
       "      <td>A</td>\n",
       "    </tr>\n",
       "    <tr>\n",
       "      <th>1</th>\n",
       "      <td>0.0</td>\n",
       "      <td>0.0</td>\n",
       "      <td>0</td>\n",
       "      <td>B</td>\n",
       "    </tr>\n",
       "    <tr>\n",
       "      <th>2</th>\n",
       "      <td>0.0</td>\n",
       "      <td>0.0</td>\n",
       "      <td>0</td>\n",
       "      <td>A</td>\n",
       "    </tr>\n",
       "  </tbody>\n",
       "</table>\n",
       "</div>"
      ],
      "text/plain": [
       "   revenue  num_purchases  purchase ab_group\n",
       "0      0.0            0.0         0        A\n",
       "1      0.0            0.0         0        B\n",
       "2      0.0            0.0         0        A"
      ]
     },
     "execution_count": 2,
     "metadata": {},
     "output_type": "execute_result"
    }
   ],
   "source": [
    "data = pd.read_csv(\"ab_stats.csv\")\n",
    "data.head(3)"
   ]
  },
  {
   "cell_type": "markdown",
   "id": "54213329",
   "metadata": {},
   "source": [
    "'purchase' (binary feature) indicates that there was a fact of a purchase"
   ]
  },
  {
   "cell_type": "code",
   "execution_count": 3,
   "id": "db989c24",
   "metadata": {},
   "outputs": [
    {
     "data": {
      "text/plain": [
       "True"
      ]
     },
     "execution_count": 3,
     "metadata": {},
     "output_type": "execute_result"
    }
   ],
   "source": [
    "data.shape[0] == data['purchase'].value_counts().sum()"
   ]
  },
  {
   "cell_type": "markdown",
   "id": "e25a039c",
   "metadata": {},
   "source": [
    "### group A"
   ]
  },
  {
   "cell_type": "code",
   "execution_count": 4,
   "id": "e53ba93d",
   "metadata": {},
   "outputs": [
    {
     "data": {
      "text/html": [
       "<div>\n",
       "<style scoped>\n",
       "    .dataframe tbody tr th:only-of-type {\n",
       "        vertical-align: middle;\n",
       "    }\n",
       "\n",
       "    .dataframe tbody tr th {\n",
       "        vertical-align: top;\n",
       "    }\n",
       "\n",
       "    .dataframe thead th {\n",
       "        text-align: right;\n",
       "    }\n",
       "</style>\n",
       "<table border=\"1\" class=\"dataframe\">\n",
       "  <thead>\n",
       "    <tr style=\"text-align: right;\">\n",
       "      <th></th>\n",
       "      <th>revenue</th>\n",
       "      <th>num_purchases</th>\n",
       "      <th>purchase</th>\n",
       "    </tr>\n",
       "  </thead>\n",
       "  <tbody>\n",
       "    <tr>\n",
       "      <th>count</th>\n",
       "      <td>11835.000000</td>\n",
       "      <td>11835.000000</td>\n",
       "      <td>11835.000000</td>\n",
       "    </tr>\n",
       "    <tr>\n",
       "      <th>mean</th>\n",
       "      <td>0.404462</td>\n",
       "      <td>0.050697</td>\n",
       "      <td>0.021631</td>\n",
       "    </tr>\n",
       "    <tr>\n",
       "      <th>std</th>\n",
       "      <td>13.133218</td>\n",
       "      <td>1.467511</td>\n",
       "      <td>0.145481</td>\n",
       "    </tr>\n",
       "    <tr>\n",
       "      <th>min</th>\n",
       "      <td>0.000000</td>\n",
       "      <td>0.000000</td>\n",
       "      <td>0.000000</td>\n",
       "    </tr>\n",
       "    <tr>\n",
       "      <th>25%</th>\n",
       "      <td>0.000000</td>\n",
       "      <td>0.000000</td>\n",
       "      <td>0.000000</td>\n",
       "    </tr>\n",
       "    <tr>\n",
       "      <th>50%</th>\n",
       "      <td>0.000000</td>\n",
       "      <td>0.000000</td>\n",
       "      <td>0.000000</td>\n",
       "    </tr>\n",
       "    <tr>\n",
       "      <th>75%</th>\n",
       "      <td>0.000000</td>\n",
       "      <td>0.000000</td>\n",
       "      <td>0.000000</td>\n",
       "    </tr>\n",
       "    <tr>\n",
       "      <th>max</th>\n",
       "      <td>1303.609284</td>\n",
       "      <td>152.000000</td>\n",
       "      <td>1.000000</td>\n",
       "    </tr>\n",
       "  </tbody>\n",
       "</table>\n",
       "</div>"
      ],
      "text/plain": [
       "            revenue  num_purchases      purchase\n",
       "count  11835.000000   11835.000000  11835.000000\n",
       "mean       0.404462       0.050697      0.021631\n",
       "std       13.133218       1.467511      0.145481\n",
       "min        0.000000       0.000000      0.000000\n",
       "25%        0.000000       0.000000      0.000000\n",
       "50%        0.000000       0.000000      0.000000\n",
       "75%        0.000000       0.000000      0.000000\n",
       "max     1303.609284     152.000000      1.000000"
      ]
     },
     "execution_count": 4,
     "metadata": {},
     "output_type": "execute_result"
    }
   ],
   "source": [
    "data[data['ab_group']=='A'].describe()"
   ]
  },
  {
   "cell_type": "markdown",
   "id": "af19e9ca",
   "metadata": {},
   "source": [
    "### group B"
   ]
  },
  {
   "cell_type": "code",
   "execution_count": 5,
   "id": "8d7756e2",
   "metadata": {},
   "outputs": [
    {
     "data": {
      "text/html": [
       "<div>\n",
       "<style scoped>\n",
       "    .dataframe tbody tr th:only-of-type {\n",
       "        vertical-align: middle;\n",
       "    }\n",
       "\n",
       "    .dataframe tbody tr th {\n",
       "        vertical-align: top;\n",
       "    }\n",
       "\n",
       "    .dataframe thead th {\n",
       "        text-align: right;\n",
       "    }\n",
       "</style>\n",
       "<table border=\"1\" class=\"dataframe\">\n",
       "  <thead>\n",
       "    <tr style=\"text-align: right;\">\n",
       "      <th></th>\n",
       "      <th>revenue</th>\n",
       "      <th>num_purchases</th>\n",
       "      <th>purchase</th>\n",
       "    </tr>\n",
       "  </thead>\n",
       "  <tbody>\n",
       "    <tr>\n",
       "      <th>count</th>\n",
       "      <td>11817.000000</td>\n",
       "      <td>11817.000000</td>\n",
       "      <td>11817.000000</td>\n",
       "    </tr>\n",
       "    <tr>\n",
       "      <th>mean</th>\n",
       "      <td>0.244794</td>\n",
       "      <td>0.036473</td>\n",
       "      <td>0.019802</td>\n",
       "    </tr>\n",
       "    <tr>\n",
       "      <th>std</th>\n",
       "      <td>3.176534</td>\n",
       "      <td>0.418480</td>\n",
       "      <td>0.139325</td>\n",
       "    </tr>\n",
       "    <tr>\n",
       "      <th>min</th>\n",
       "      <td>0.000000</td>\n",
       "      <td>0.000000</td>\n",
       "      <td>0.000000</td>\n",
       "    </tr>\n",
       "    <tr>\n",
       "      <th>25%</th>\n",
       "      <td>0.000000</td>\n",
       "      <td>0.000000</td>\n",
       "      <td>0.000000</td>\n",
       "    </tr>\n",
       "    <tr>\n",
       "      <th>50%</th>\n",
       "      <td>0.000000</td>\n",
       "      <td>0.000000</td>\n",
       "      <td>0.000000</td>\n",
       "    </tr>\n",
       "    <tr>\n",
       "      <th>75%</th>\n",
       "      <td>0.000000</td>\n",
       "      <td>0.000000</td>\n",
       "      <td>0.000000</td>\n",
       "    </tr>\n",
       "    <tr>\n",
       "      <th>max</th>\n",
       "      <td>113.830000</td>\n",
       "      <td>25.000000</td>\n",
       "      <td>1.000000</td>\n",
       "    </tr>\n",
       "  </tbody>\n",
       "</table>\n",
       "</div>"
      ],
      "text/plain": [
       "            revenue  num_purchases      purchase\n",
       "count  11817.000000   11817.000000  11817.000000\n",
       "mean       0.244794       0.036473      0.019802\n",
       "std        3.176534       0.418480      0.139325\n",
       "min        0.000000       0.000000      0.000000\n",
       "25%        0.000000       0.000000      0.000000\n",
       "50%        0.000000       0.000000      0.000000\n",
       "75%        0.000000       0.000000      0.000000\n",
       "max      113.830000      25.000000      1.000000"
      ]
     },
     "execution_count": 5,
     "metadata": {},
     "output_type": "execute_result"
    }
   ],
   "source": [
    "data[data['ab_group']=='B'].describe()"
   ]
  },
  {
   "cell_type": "code",
   "execution_count": null,
   "id": "388df98a",
   "metadata": {},
   "outputs": [],
   "source": []
  },
  {
   "cell_type": "code",
   "execution_count": null,
   "id": "1638c622",
   "metadata": {},
   "outputs": [],
   "source": []
  },
  {
   "cell_type": "markdown",
   "id": "2b6c86f8",
   "metadata": {},
   "source": [
    "### our metrics:"
   ]
  },
  {
   "cell_type": "markdown",
   "id": "6ad31b20",
   "metadata": {},
   "source": [
    "    arpu - average revenue per user\n",
    "    appu - average purchases per user\n",
    "    arppu - average revenue per paying user\n",
    "    crp - conversion rate payment (share of users who made a purchase (at least one))\n",
    "    retention_N_day"
   ]
  },
  {
   "cell_type": "code",
   "execution_count": null,
   "id": "70185439",
   "metadata": {},
   "outputs": [],
   "source": []
  },
  {
   "cell_type": "code",
   "execution_count": null,
   "id": "d36ddf80",
   "metadata": {},
   "outputs": [],
   "source": []
  },
  {
   "cell_type": "markdown",
   "id": "f4561411",
   "metadata": {},
   "source": [
    "## crp - conversion rate payment (share of users who made a purchase (at least one))"
   ]
  },
  {
   "cell_type": "markdown",
   "id": "a35d6893",
   "metadata": {},
   "source": [
    "we have to define whether differences between A and B categories are significant"
   ]
  },
  {
   "cell_type": "markdown",
   "id": "1fbb9697",
   "metadata": {},
   "source": [
    "    so, we have 2 hypotheses:\n",
    "    H0 - differences are insignificant\n",
    "    H1 - differences are significant"
   ]
  },
  {
   "cell_type": "markdown",
   "id": "9cddf4a9",
   "metadata": {},
   "source": [
    "### let's calculate z-value manually"
   ]
  },
  {
   "cell_type": "code",
   "execution_count": 6,
   "id": "a15c4286",
   "metadata": {},
   "outputs": [
    {
     "data": {
      "text/plain": [
       "(256, 234, 11835, 11817)"
      ]
     },
     "execution_count": 6,
     "metadata": {},
     "output_type": "execute_result"
    }
   ],
   "source": [
    "import numpy as np\n",
    "\n",
    "\n",
    "z_crit_value = 1.96  # corresponds to confidence interval = 95%\n",
    "k1, n1 = data[data['ab_group']=='A']['purchase'].sum(), data[data['ab_group']=='A'].shape[0]\n",
    "k2, n2 = data[data['ab_group']=='B']['purchase'].sum(), data[data['ab_group']=='B'].shape[0]\n",
    "k1, k2, n1, n2"
   ]
  },
  {
   "cell_type": "code",
   "execution_count": 7,
   "id": "45626dc7",
   "metadata": {},
   "outputs": [
    {
     "data": {
      "text/html": [
       "<div>\n",
       "<style scoped>\n",
       "    .dataframe tbody tr th:only-of-type {\n",
       "        vertical-align: middle;\n",
       "    }\n",
       "\n",
       "    .dataframe tbody tr th {\n",
       "        vertical-align: top;\n",
       "    }\n",
       "\n",
       "    .dataframe thead tr th {\n",
       "        text-align: left;\n",
       "    }\n",
       "\n",
       "    .dataframe thead tr:last-of-type th {\n",
       "        text-align: right;\n",
       "    }\n",
       "</style>\n",
       "<table border=\"1\" class=\"dataframe\">\n",
       "  <thead>\n",
       "    <tr>\n",
       "      <th></th>\n",
       "      <th>sum</th>\n",
       "      <th>count</th>\n",
       "    </tr>\n",
       "    <tr>\n",
       "      <th></th>\n",
       "      <th>purchase</th>\n",
       "      <th>purchase</th>\n",
       "    </tr>\n",
       "    <tr>\n",
       "      <th>ab_group</th>\n",
       "      <th></th>\n",
       "      <th></th>\n",
       "    </tr>\n",
       "  </thead>\n",
       "  <tbody>\n",
       "    <tr>\n",
       "      <th>A</th>\n",
       "      <td>256</td>\n",
       "      <td>11835</td>\n",
       "    </tr>\n",
       "    <tr>\n",
       "      <th>B</th>\n",
       "      <td>234</td>\n",
       "      <td>11817</td>\n",
       "    </tr>\n",
       "  </tbody>\n",
       "</table>\n",
       "</div>"
      ],
      "text/plain": [
       "              sum    count\n",
       "         purchase purchase\n",
       "ab_group                  \n",
       "A             256    11835\n",
       "B             234    11817"
      ]
     },
     "execution_count": 7,
     "metadata": {},
     "output_type": "execute_result"
    }
   ],
   "source": [
    "grouped = data.pivot_table(values='purchase', index='ab_group', aggfunc=['sum', 'count'])\n",
    "grouped"
   ]
  },
  {
   "cell_type": "code",
   "execution_count": 8,
   "id": "8bb13086",
   "metadata": {},
   "outputs": [
    {
     "data": {
      "text/plain": [
       "(0.02163075623151669, 0.019801980198019802)"
      ]
     },
     "execution_count": 8,
     "metadata": {},
     "output_type": "execute_result"
    }
   ],
   "source": [
    "p1, p2 = k1/n1, k2/n2\n",
    "p1, p2"
   ]
  },
  {
   "cell_type": "code",
   "execution_count": 9,
   "id": "1a7d6ab2",
   "metadata": {},
   "outputs": [
    {
     "data": {
      "text/plain": [
       "0.987293179904521"
      ]
     },
     "execution_count": 9,
     "metadata": {},
     "output_type": "execute_result"
    }
   ],
   "source": [
    "P = (p1*n1+p2*n2)/(n1+n2)\n",
    "z = (p1-p2)/(P*(1-P)*(1/n1+1/n2))**(1/2)\n",
    "z"
   ]
  },
  {
   "cell_type": "code",
   "execution_count": 10,
   "id": "da6c03ba",
   "metadata": {},
   "outputs": [
    {
     "name": "stdout",
     "output_type": "stream",
     "text": [
      "We have failed to reject the null hypothesis\n"
     ]
    }
   ],
   "source": [
    "if abs(z) > z_crit_value:\n",
    "    print(\"We may reject the null hypothesis!\")\n",
    "else:\n",
    "    print(\"We have failed to reject the null hypothesis\")"
   ]
  },
  {
   "cell_type": "markdown",
   "id": "84c33ec1",
   "metadata": {},
   "source": [
    "### the same, but with proportion.proportions_ztest; it's parametrical"
   ]
  },
  {
   "cell_type": "code",
   "execution_count": 11,
   "id": "8eabadab",
   "metadata": {},
   "outputs": [
    {
     "name": "stdout",
     "output_type": "stream",
     "text": [
      "Results are  z_score =0.987, pvalue = 0.323\n"
     ]
    }
   ],
   "source": [
    "from statsmodels.stats import proportion\n",
    "\n",
    "z_score, z_pvalue = proportion.proportions_ztest(np.array([k1, k2]), \n",
    "                                                 np.array([n1, n2]))\n",
    "print('Results are ','z_score =%.3f, pvalue = %.3f'%(z_score, z_pvalue))"
   ]
  },
  {
   "cell_type": "code",
   "execution_count": 12,
   "id": "f772688c",
   "metadata": {},
   "outputs": [
    {
     "data": {
      "image/png": "[encoded data removed]",
      "text/plain": [
       "<Figure size 576x432 with 1 Axes>"
      ]
     },
     "metadata": {
      "needs_background": "light"
     },
     "output_type": "display_data"
    }
   ],
   "source": [
    "import matplotlib.pyplot as plt\n",
    "\n",
    "plt.figure(figsize=(8, 6))\n",
    "plt.bar([1, 2], grouped['count']['purchase'], label='Всего клиентов')\n",
    "plt.bar([1, 2], grouped['sum']['purchase'], bottom=grouped['count']['purchase'], label='Покупки')\n",
    "plt.xticks([1, 2], ['A', 'B'])\n",
    "plt.legend();"
   ]
  },
  {
   "cell_type": "markdown",
   "id": "62fa046b",
   "metadata": {},
   "source": [
    "### let's calculate chi-square which is non-parametrical"
   ]
  },
  {
   "cell_type": "code",
   "execution_count": 13,
   "id": "ed97e718",
   "metadata": {},
   "outputs": [
    {
     "name": "stdout",
     "output_type": "stream",
     "text": [
      "Results are  chisq =0.975, pvalue = 0.323\n"
     ]
    }
   ],
   "source": [
    "chisq, pvalue, table = proportion.proportions_chisquare(np.array([k1, k2]), \n",
    "                                                        np.array([n1, n2]))\n",
    "\n",
    "print('Results are ','chisq =%.3f, pvalue = %.3f'%(chisq, pvalue))"
   ]
  },
  {
   "cell_type": "code",
   "execution_count": null,
   "id": "1ab54d7c",
   "metadata": {},
   "outputs": [],
   "source": []
  },
  {
   "cell_type": "code",
   "execution_count": null,
   "id": "34704488",
   "metadata": {},
   "outputs": [],
   "source": []
  },
  {
   "cell_type": "markdown",
   "id": "84f8e315",
   "metadata": {},
   "source": [
    "## arpu - average revenue per user"
   ]
  },
  {
   "cell_type": "markdown",
   "id": "34fac791",
   "metadata": {},
   "source": [
    "firstly, let's see whether the feature has normal distribution; Shapiro–Wilk test is here to help us"
   ]
  },
  {
   "cell_type": "code",
   "execution_count": 14,
   "id": "5e350084",
   "metadata": {},
   "outputs": [
    {
     "name": "stderr",
     "output_type": "stream",
     "text": [
      "C:\\Users\\fross\\anaconda3\\lib\\site-packages\\scipy\\stats\\morestats.py:1760: UserWarning: p-value may not be accurate for N > 5000.\n",
      "  warnings.warn(\"p-value may not be accurate for N > 5000.\")\n"
     ]
    },
    {
     "data": {
      "text/plain": [
       "ShapiroResult(statistic=0.011638760566711426, pvalue=0.0)"
      ]
     },
     "execution_count": 14,
     "metadata": {},
     "output_type": "execute_result"
    }
   ],
   "source": [
    "from scipy.stats import shapiro\n",
    "\n",
    "shapiro(data['revenue'])"
   ]
  },
  {
   "cell_type": "markdown",
   "id": "e3bc3dc0",
   "metadata": {},
   "source": [
    "pvalue < 0.05, thus we cannot use t-Sudent test which is parametrical; we have to use Mann–Whitney test which is not parametrical"
   ]
  },
  {
   "cell_type": "code",
   "execution_count": 15,
   "id": "b59270d3",
   "metadata": {},
   "outputs": [
    {
     "data": {
      "image/png": "[encoded data removed]",
      "text/plain": [
       "<Figure size 720x360 with 1 Axes>"
      ]
     },
     "metadata": {
      "needs_background": "light"
     },
     "output_type": "display_data"
    }
   ],
   "source": [
    "import seaborn as sns\n",
    "\n",
    "data_revenue = data[['revenue', 'ab_group']]\n",
    "data_revenue_A = data_revenue[data_revenue['ab_group'] == 'A']['revenue']\n",
    "data_revenue_B = data_revenue[data_revenue['ab_group'] == 'B']['revenue']\n",
    "\n",
    "plt.figure(figsize=(10, 5))\n",
    "\n",
    "sns.kdeplot(data_revenue_A, shade=True, label='Группа А', color='g')\n",
    "sns.kdeplot(data_revenue_B, shade=True, label='Группа B', color='r')\n",
    "\n",
    "plt.xlabel('Выручка')\n",
    "plt.legend()\n",
    "plt.grid()\n",
    "plt.show()"
   ]
  },
  {
   "cell_type": "code",
   "execution_count": 16,
   "id": "d0a507ae",
   "metadata": {},
   "outputs": [
    {
     "data": {
      "text/html": [
       "<div>\n",
       "<style scoped>\n",
       "    .dataframe tbody tr th:only-of-type {\n",
       "        vertical-align: middle;\n",
       "    }\n",
       "\n",
       "    .dataframe tbody tr th {\n",
       "        vertical-align: top;\n",
       "    }\n",
       "\n",
       "    .dataframe thead th {\n",
       "        text-align: right;\n",
       "    }\n",
       "</style>\n",
       "<table border=\"1\" class=\"dataframe\">\n",
       "  <thead>\n",
       "    <tr style=\"text-align: right;\">\n",
       "      <th></th>\n",
       "      <th>count</th>\n",
       "      <th>mean</th>\n",
       "      <th>std</th>\n",
       "      <th>min</th>\n",
       "      <th>25%</th>\n",
       "      <th>50%</th>\n",
       "      <th>75%</th>\n",
       "      <th>max</th>\n",
       "    </tr>\n",
       "    <tr>\n",
       "      <th>ab_group</th>\n",
       "      <th></th>\n",
       "      <th></th>\n",
       "      <th></th>\n",
       "      <th></th>\n",
       "      <th></th>\n",
       "      <th></th>\n",
       "      <th></th>\n",
       "      <th></th>\n",
       "    </tr>\n",
       "  </thead>\n",
       "  <tbody>\n",
       "    <tr>\n",
       "      <th>A</th>\n",
       "      <td>11835.0</td>\n",
       "      <td>0.404462</td>\n",
       "      <td>13.133218</td>\n",
       "      <td>0.0</td>\n",
       "      <td>0.0</td>\n",
       "      <td>0.0</td>\n",
       "      <td>0.0</td>\n",
       "      <td>1303.609284</td>\n",
       "    </tr>\n",
       "    <tr>\n",
       "      <th>B</th>\n",
       "      <td>11817.0</td>\n",
       "      <td>0.244794</td>\n",
       "      <td>3.176534</td>\n",
       "      <td>0.0</td>\n",
       "      <td>0.0</td>\n",
       "      <td>0.0</td>\n",
       "      <td>0.0</td>\n",
       "      <td>113.830000</td>\n",
       "    </tr>\n",
       "  </tbody>\n",
       "</table>\n",
       "</div>"
      ],
      "text/plain": [
       "            count      mean        std  min  25%  50%  75%          max\n",
       "ab_group                                                               \n",
       "A         11835.0  0.404462  13.133218  0.0  0.0  0.0  0.0  1303.609284\n",
       "B         11817.0  0.244794   3.176534  0.0  0.0  0.0  0.0   113.830000"
      ]
     },
     "execution_count": 16,
     "metadata": {},
     "output_type": "execute_result"
    }
   ],
   "source": [
    "data.groupby('ab_group')['revenue'].describe()"
   ]
  },
  {
   "cell_type": "markdown",
   "id": "5083210e",
   "metadata": {},
   "source": [
    "it looks that the differences are very serious, but very probably due to outliers which affect our mean significantly"
   ]
  },
  {
   "cell_type": "code",
   "execution_count": 17,
   "id": "cf228eae",
   "metadata": {},
   "outputs": [
    {
     "data": {
      "text/plain": [
       "MannwhitneyuResult(statistic=70054756.0, pvalue=0.3243889561742552)"
      ]
     },
     "execution_count": 17,
     "metadata": {},
     "output_type": "execute_result"
    }
   ],
   "source": [
    "from scipy.stats import mannwhitneyu\n",
    "\n",
    "mw_stats = mannwhitneyu(x=data[data['ab_group'] == 'A']['revenue'].values,\n",
    "                        y=data[data['ab_group'] == 'B']['revenue'].values)\n",
    "\n",
    "mw_stats"
   ]
  },
  {
   "cell_type": "markdown",
   "id": "9fa0a927",
   "metadata": {},
   "source": [
    "pvalue > 0.05, thus we cannot dismiss our null hypothesis"
   ]
  },
  {
   "cell_type": "code",
   "execution_count": null,
   "id": "24d2a5ec",
   "metadata": {},
   "outputs": [],
   "source": []
  },
  {
   "cell_type": "code",
   "execution_count": null,
   "id": "5fb58cd0",
   "metadata": {},
   "outputs": [],
   "source": []
  },
  {
   "cell_type": "markdown",
   "id": "e8c519b0",
   "metadata": {},
   "source": [
    "## appu - average purchases per user"
   ]
  },
  {
   "cell_type": "code",
   "execution_count": 18,
   "id": "d709fc4c",
   "metadata": {},
   "outputs": [
    {
     "data": {
      "image/png": "[encoded data removed]",
      "text/plain": [
       "<Figure size 720x360 with 1 Axes>"
      ]
     },
     "metadata": {
      "needs_background": "light"
     },
     "output_type": "display_data"
    }
   ],
   "source": [
    "data_num_purchases = data[['num_purchases', 'ab_group']]\n",
    "data_num_purchases_A = data_num_purchases[data_num_purchases['ab_group'] == 'A']['num_purchases']\n",
    "data_num_purchases_B = data_num_purchases[data_num_purchases['ab_group'] == 'B']['num_purchases']\n",
    "\n",
    "plt.figure(figsize=(10, 5))\n",
    "\n",
    "sns.kdeplot(data_num_purchases_A, shade=True, label='Группа А', color='g')\n",
    "sns.kdeplot(data_num_purchases_B, shade=True, label='Группа B', color='r')\n",
    "\n",
    "plt.xlabel('Количество покупок')\n",
    "plt.legend()\n",
    "plt.grid()\n",
    "plt.show()"
   ]
  },
  {
   "cell_type": "code",
   "execution_count": 19,
   "id": "7567173a",
   "metadata": {},
   "outputs": [
    {
     "data": {
      "text/plain": [
       "MannwhitneyuResult(statistic=70054599.0, pvalue=0.3249718497892071)"
      ]
     },
     "execution_count": 19,
     "metadata": {},
     "output_type": "execute_result"
    }
   ],
   "source": [
    "mw_stats = mannwhitneyu(x=data[data['ab_group'] == 'A']['num_purchases'].values,\n",
    "                        y=data[data['ab_group'] == 'B']['num_purchases'].values)\n",
    "mw_stats"
   ]
  },
  {
   "cell_type": "code",
   "execution_count": null,
   "id": "31a1740c",
   "metadata": {},
   "outputs": [],
   "source": []
  },
  {
   "cell_type": "code",
   "execution_count": null,
   "id": "a9aa4e39",
   "metadata": {},
   "outputs": [],
   "source": []
  },
  {
   "cell_type": "markdown",
   "id": "61487709",
   "metadata": {},
   "source": [
    "## arppu - average revenue per paying user"
   ]
  },
  {
   "cell_type": "code",
   "execution_count": 20,
   "id": "0c748c69",
   "metadata": {},
   "outputs": [
    {
     "data": {
      "image/png": "[encoded data removed]",
      "text/plain": [
       "<Figure size 720x360 with 1 Axes>"
      ]
     },
     "metadata": {
      "needs_background": "light"
     },
     "output_type": "display_data"
    }
   ],
   "source": [
    "data_revenue = data[['revenue', 'ab_group']][data['purchase'] == 1]\n",
    "data_revenue_A = data_revenue[data_revenue['ab_group'] == 'A']['revenue']\n",
    "data_revenue_B = data_revenue[data_revenue['ab_group'] == 'B']['revenue']\n",
    "\n",
    "plt.figure(figsize=(10, 5))\n",
    "\n",
    "sns.kdeplot(data_revenue_A, shade=True, label='Группа А', color='g')\n",
    "sns.kdeplot(data_revenue_B, shade=True, label='Группа B', color='r')\n",
    "\n",
    "plt.xlabel('Выручка')\n",
    "plt.legend()\n",
    "plt.grid()\n",
    "plt.show()"
   ]
  },
  {
   "cell_type": "code",
   "execution_count": 21,
   "id": "a2ea722e",
   "metadata": {},
   "outputs": [
    {
     "data": {
      "text/plain": [
       "MannwhitneyuResult(statistic=29729.5, pvalue=0.8871956616344514)"
      ]
     },
     "execution_count": 21,
     "metadata": {},
     "output_type": "execute_result"
    }
   ],
   "source": [
    "mw_stats = mannwhitneyu(x=data[(data['ab_group'] == 'A')&(data['purchase'] == 1)]['revenue'].values,\n",
    "                        y=data[(data['ab_group'] == 'B')&(data['purchase'] == 1)]['revenue'].values)\n",
    "mw_stats"
   ]
  },
  {
   "cell_type": "code",
   "execution_count": 22,
   "id": "96516a13",
   "metadata": {},
   "outputs": [
    {
     "data": {
      "text/html": [
       "<div>\n",
       "<style scoped>\n",
       "    .dataframe tbody tr th:only-of-type {\n",
       "        vertical-align: middle;\n",
       "    }\n",
       "\n",
       "    .dataframe tbody tr th {\n",
       "        vertical-align: top;\n",
       "    }\n",
       "\n",
       "    .dataframe thead th {\n",
       "        text-align: right;\n",
       "    }\n",
       "</style>\n",
       "<table border=\"1\" class=\"dataframe\">\n",
       "  <thead>\n",
       "    <tr style=\"text-align: right;\">\n",
       "      <th></th>\n",
       "      <th>count</th>\n",
       "      <th>mean</th>\n",
       "      <th>std</th>\n",
       "      <th>min</th>\n",
       "      <th>25%</th>\n",
       "      <th>50%</th>\n",
       "      <th>75%</th>\n",
       "      <th>max</th>\n",
       "    </tr>\n",
       "    <tr>\n",
       "      <th>ab_group</th>\n",
       "      <th></th>\n",
       "      <th></th>\n",
       "      <th></th>\n",
       "      <th></th>\n",
       "      <th></th>\n",
       "      <th></th>\n",
       "      <th></th>\n",
       "      <th></th>\n",
       "    </tr>\n",
       "  </thead>\n",
       "  <tbody>\n",
       "    <tr>\n",
       "      <th>A</th>\n",
       "      <td>256.0</td>\n",
       "      <td>18.698469</td>\n",
       "      <td>87.527589</td>\n",
       "      <td>0.259689</td>\n",
       "      <td>2.318301</td>\n",
       "      <td>4.28316</td>\n",
       "      <td>11.923141</td>\n",
       "      <td>1303.609284</td>\n",
       "    </tr>\n",
       "    <tr>\n",
       "      <th>B</th>\n",
       "      <td>234.0</td>\n",
       "      <td>12.362119</td>\n",
       "      <td>19.007065</td>\n",
       "      <td>0.259373</td>\n",
       "      <td>2.319883</td>\n",
       "      <td>3.98000</td>\n",
       "      <td>12.274829</td>\n",
       "      <td>113.830000</td>\n",
       "    </tr>\n",
       "  </tbody>\n",
       "</table>\n",
       "</div>"
      ],
      "text/plain": [
       "          count       mean        std       min       25%      50%        75%  \\\n",
       "ab_group                                                                        \n",
       "A         256.0  18.698469  87.527589  0.259689  2.318301  4.28316  11.923141   \n",
       "B         234.0  12.362119  19.007065  0.259373  2.319883  3.98000  12.274829   \n",
       "\n",
       "                  max  \n",
       "ab_group               \n",
       "A         1303.609284  \n",
       "B          113.830000  "
      ]
     },
     "execution_count": 22,
     "metadata": {},
     "output_type": "execute_result"
    }
   ],
   "source": [
    "data[data['purchase'] == 1].groupby('ab_group')['revenue'].describe()"
   ]
  },
  {
   "cell_type": "markdown",
   "id": "3a705544",
   "metadata": {},
   "source": [
    "### power of test"
   ]
  },
  {
   "cell_type": "markdown",
   "id": "b33d2371",
   "metadata": {},
   "source": [
    "see explanation in web_8 file"
   ]
  },
  {
   "cell_type": "markdown",
   "id": "20e943a0",
   "metadata": {},
   "source": [
    "https://www.hackdeploy.com/learn-what-is-statistical-power-with-python/"
   ]
  },
  {
   "cell_type": "code",
   "execution_count": 23,
   "id": "dfaded6f",
   "metadata": {},
   "outputs": [
    {
     "data": {
      "text/plain": [
       "0.6422049702698384"
      ]
     },
     "execution_count": 23,
     "metadata": {},
     "output_type": "execute_result"
    }
   ],
   "source": [
    "from statsmodels.stats.power import tt_ind_solve_power\n",
    "p = 0.05\n",
    "min_effect = 0.05\n",
    "\n",
    "tt_ind_solve_power(effect_size=p*min_effect/0.05, nobs1 = 1000, alpha=None, power=0.8, ratio=1, alternative='two-sided')"
   ]
  },
  {
   "cell_type": "code",
   "execution_count": null,
   "id": "9975b27f",
   "metadata": {},
   "outputs": [],
   "source": []
  },
  {
   "cell_type": "markdown",
   "id": "dc9b17ac",
   "metadata": {},
   "source": [
    "## there's another example in web_8 file"
   ]
  },
  {
   "cell_type": "code",
   "execution_count": null,
   "id": "3e23a579",
   "metadata": {},
   "outputs": [],
   "source": []
  },
  {
   "cell_type": "code",
   "execution_count": null,
   "id": "ff37a6da",
   "metadata": {},
   "outputs": [],
   "source": []
  },
  {
   "cell_type": "code",
   "execution_count": null,
   "id": "de3f8ffe",
   "metadata": {},
   "outputs": [],
   "source": []
  },
  {
   "cell_type": "code",
   "execution_count": null,
   "id": "8ab00e4c",
   "metadata": {},
   "outputs": [],
   "source": []
  }
 ],
 "metadata": {
  "kernelspec": {
   "display_name": "Python 3 (ipykernel)",
   "language": "python",
   "name": "python3"
  },
  "language_info": {
   "codemirror_mode": {
    "name": "ipython",
    "version": 3
   },
   "file_extension": ".py",
   "mimetype": "text/x-python",
   "name": "python",
   "nbconvert_exporter": "python",
   "pygments_lexer": "ipython3",
   "version": "3.9.7"
  }
 },
 "nbformat": 4,
 "nbformat_minor": 5
}
