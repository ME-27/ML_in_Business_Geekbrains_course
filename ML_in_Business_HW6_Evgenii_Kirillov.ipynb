{
 "cells": [
  {
   "cell_type": "markdown",
   "id": "a75f8704",
   "metadata": {},
   "source": [
    "# Домашнее задание № 6"
   ]
  },
  {
   "cell_type": "markdown",
   "id": "6e3ef63b",
   "metadata": {},
   "source": [
    "## по дисциплине: Машинное обучение в бизнесе"
   ]
  },
  {
   "cell_type": "markdown",
   "id": "d1715fa7",
   "metadata": {},
   "source": [
    "### выполнил: Евгений Кириллов"
   ]
  },
  {
   "cell_type": "code",
   "execution_count": null,
   "id": "e904395b",
   "metadata": {},
   "outputs": [],
   "source": []
  },
  {
   "cell_type": "code",
   "execution_count": null,
   "id": "4bd8c237",
   "metadata": {},
   "outputs": [],
   "source": []
  },
  {
   "cell_type": "markdown",
   "id": "3b3ef9f6",
   "metadata": {},
   "source": [
    "### Домашнее задание\n",
    "\n",
    "1. взять любой набор данных для бинарной классификации (можно скачать один из модельных с https://archive.ics.uci.edu/ml/datasets.php)\n",
    "3. сделать feature engineering\n",
    "4. обучить любой классификатор (какой вам нравится)\n",
    "5. далее разделить ваш набор данных на два множества: P (positives) и U (unlabeled). Причем брать нужно не все положительные (класс 1) примеры, а только лишь часть\n",
    "6. применить random negative sampling для построения классификатора в новых условиях\n",
    "7. сравнить качество с решением из пункта 4 (построить отчет - таблицу метрик)\n",
    "8. поэкспериментировать с долей P на шаге 5 (как будет меняться качество модели при уменьшении/увеличении размера P)"
   ]
  },
  {
   "cell_type": "code",
   "execution_count": null,
   "id": "d8dd55cf",
   "metadata": {},
   "outputs": [],
   "source": []
  },
  {
   "cell_type": "code",
   "execution_count": null,
   "id": "48098ba9",
   "metadata": {},
   "outputs": [],
   "source": []
  },
  {
   "cell_type": "markdown",
   "id": "32efafdf",
   "metadata": {},
   "source": [
    "## Задания 1-3"
   ]
  },
  {
   "cell_type": "markdown",
   "id": "f084e6e6",
   "metadata": {},
   "source": [
    "## data set information"
   ]
  },
  {
   "cell_type": "markdown",
   "id": "60b47620",
   "metadata": {},
   "source": [
    "data set taken: https://archive.ics.uci.edu/ml/datasets/Adult"
   ]
  },
  {
   "cell_type": "markdown",
   "id": "130801aa",
   "metadata": {},
   "source": [
    "Extraction was done by Barry Becker from the 1994 Census database. \n",
    "\n",
    "Prediction task is to determine whether a person makes over 50K a year."
   ]
  },
  {
   "cell_type": "code",
   "execution_count": 1,
   "id": "bc9526a1",
   "metadata": {},
   "outputs": [],
   "source": [
    "import pandas as pd\n",
    "import numpy as np\n",
    "\n",
    "from sklearn.pipeline import Pipeline, FeatureUnion\n",
    "from sklearn.base import BaseEstimator, TransformerMixin\n",
    "from sklearn.model_selection import train_test_split\n",
    "from sklearn.metrics import precision_recall_curve, confusion_matrix, classification_report, f1_score\n",
    "from sklearn.preprocessing import StandardScaler\n",
    "\n",
    "# from sklearn.linear_model import LogisticRegression\n",
    "from sklearn.ensemble import GradientBoostingClassifier\n",
    "\n",
    "import itertools\n",
    "import math\n",
    "\n",
    "import matplotlib.pyplot as plt\n",
    "%matplotlib inline"
   ]
  },
  {
   "cell_type": "code",
   "execution_count": 2,
   "id": "daecfb8d",
   "metadata": {},
   "outputs": [],
   "source": [
    "df = pd.read_csv(\"adult_data.csv\", \n",
    "                 names=['age', 'workclass', 'census-bureau-weight', 'education', 'education-num',\n",
    "                        'marital-status', 'occupation', 'relationship', 'race', 'sex', \n",
    "                        'capital-gain', 'capital-loss', 'hours-per-week', 'native-country', 'target']) "
   ]
  },
  {
   "cell_type": "code",
   "execution_count": 3,
   "id": "64a66a7a",
   "metadata": {},
   "outputs": [
    {
     "data": {
      "text/html": [
       "<div>\n",
       "<style scoped>\n",
       "    .dataframe tbody tr th:only-of-type {\n",
       "        vertical-align: middle;\n",
       "    }\n",
       "\n",
       "    .dataframe tbody tr th {\n",
       "        vertical-align: top;\n",
       "    }\n",
       "\n",
       "    .dataframe thead th {\n",
       "        text-align: right;\n",
       "    }\n",
       "</style>\n",
       "<table border=\"1\" class=\"dataframe\">\n",
       "  <thead>\n",
       "    <tr style=\"text-align: right;\">\n",
       "      <th></th>\n",
       "      <th>age</th>\n",
       "      <th>workclass</th>\n",
       "      <th>census-bureau-weight</th>\n",
       "      <th>education</th>\n",
       "      <th>education-num</th>\n",
       "      <th>marital-status</th>\n",
       "      <th>occupation</th>\n",
       "      <th>relationship</th>\n",
       "      <th>race</th>\n",
       "      <th>sex</th>\n",
       "      <th>capital-gain</th>\n",
       "      <th>capital-loss</th>\n",
       "      <th>hours-per-week</th>\n",
       "      <th>native-country</th>\n",
       "      <th>target</th>\n",
       "    </tr>\n",
       "  </thead>\n",
       "  <tbody>\n",
       "    <tr>\n",
       "      <th>0</th>\n",
       "      <td>39</td>\n",
       "      <td>State-gov</td>\n",
       "      <td>77516</td>\n",
       "      <td>Bachelors</td>\n",
       "      <td>13</td>\n",
       "      <td>Never-married</td>\n",
       "      <td>Adm-clerical</td>\n",
       "      <td>Not-in-family</td>\n",
       "      <td>White</td>\n",
       "      <td>Male</td>\n",
       "      <td>2174</td>\n",
       "      <td>0</td>\n",
       "      <td>40</td>\n",
       "      <td>United-States</td>\n",
       "      <td>&lt;=50K</td>\n",
       "    </tr>\n",
       "    <tr>\n",
       "      <th>1</th>\n",
       "      <td>50</td>\n",
       "      <td>Self-emp-not-inc</td>\n",
       "      <td>83311</td>\n",
       "      <td>Bachelors</td>\n",
       "      <td>13</td>\n",
       "      <td>Married-civ-spouse</td>\n",
       "      <td>Exec-managerial</td>\n",
       "      <td>Husband</td>\n",
       "      <td>White</td>\n",
       "      <td>Male</td>\n",
       "      <td>0</td>\n",
       "      <td>0</td>\n",
       "      <td>13</td>\n",
       "      <td>United-States</td>\n",
       "      <td>&lt;=50K</td>\n",
       "    </tr>\n",
       "  </tbody>\n",
       "</table>\n",
       "</div>"
      ],
      "text/plain": [
       "   age          workclass  census-bureau-weight   education  education-num  \\\n",
       "0   39          State-gov                 77516   Bachelors             13   \n",
       "1   50   Self-emp-not-inc                 83311   Bachelors             13   \n",
       "\n",
       "        marital-status        occupation    relationship    race    sex  \\\n",
       "0        Never-married      Adm-clerical   Not-in-family   White   Male   \n",
       "1   Married-civ-spouse   Exec-managerial         Husband   White   Male   \n",
       "\n",
       "   capital-gain  capital-loss  hours-per-week  native-country  target  \n",
       "0          2174             0              40   United-States   <=50K  \n",
       "1             0             0              13   United-States   <=50K  "
      ]
     },
     "execution_count": 3,
     "metadata": {},
     "output_type": "execute_result"
    }
   ],
   "source": [
    "df.head(2)"
   ]
  },
  {
   "cell_type": "code",
   "execution_count": 4,
   "id": "7ebb4a8f",
   "metadata": {},
   "outputs": [
    {
     "data": {
      "text/plain": [
       "0"
      ]
     },
     "execution_count": 4,
     "metadata": {},
     "output_type": "execute_result"
    }
   ],
   "source": [
    "df.isna().sum().sum()"
   ]
  },
  {
   "cell_type": "code",
   "execution_count": 5,
   "id": "f54ebedf",
   "metadata": {},
   "outputs": [
    {
     "data": {
      "text/plain": [
       "(32561, 15)"
      ]
     },
     "execution_count": 5,
     "metadata": {},
     "output_type": "execute_result"
    }
   ],
   "source": [
    "df.shape"
   ]
  },
  {
   "cell_type": "code",
   "execution_count": 6,
   "id": "fa90575b",
   "metadata": {},
   "outputs": [
    {
     "data": {
      "text/plain": [
       "age                      int64\n",
       "workclass               object\n",
       "census-bureau-weight     int64\n",
       "education               object\n",
       "education-num            int64\n",
       "marital-status          object\n",
       "occupation              object\n",
       "relationship            object\n",
       "race                    object\n",
       "sex                     object\n",
       "capital-gain             int64\n",
       "capital-loss             int64\n",
       "hours-per-week           int64\n",
       "native-country          object\n",
       "target                  object\n",
       "dtype: object"
      ]
     },
     "execution_count": 6,
     "metadata": {},
     "output_type": "execute_result"
    }
   ],
   "source": [
    "df.dtypes"
   ]
  },
  {
   "cell_type": "code",
   "execution_count": 7,
   "id": "d07b7472",
   "metadata": {},
   "outputs": [],
   "source": [
    "df_num_features = df.select_dtypes(include=['int64'])"
   ]
  },
  {
   "cell_type": "code",
   "execution_count": 8,
   "id": "4207a6ed",
   "metadata": {},
   "outputs": [
    {
     "data": {
      "image/png": "[encoded data removed]",
      "text/plain": [
       "<Figure size 1152x1152 with 6 Axes>"
      ]
     },
     "metadata": {
      "needs_background": "light"
     },
     "output_type": "display_data"
    }
   ],
   "source": [
    "df_num_features.hist(figsize=(16, 16), bins=20, grid=False);"
   ]
  },
  {
   "cell_type": "code",
   "execution_count": 9,
   "id": "e8228917",
   "metadata": {},
   "outputs": [],
   "source": [
    "df['target'] = df['target'].map({\n",
    "    ' <=50K': 0,\n",
    "    ' >50K': 1\n",
    "})"
   ]
  },
  {
   "cell_type": "code",
   "execution_count": 10,
   "id": "da894420",
   "metadata": {},
   "outputs": [
    {
     "data": {
      "text/plain": [
       "0    24720\n",
       "1     7841\n",
       "Name: target, dtype: int64"
      ]
     },
     "execution_count": 10,
     "metadata": {},
     "output_type": "execute_result"
    }
   ],
   "source": [
    "df['target'].value_counts()"
   ]
  },
  {
   "cell_type": "markdown",
   "id": "39030e8c",
   "metadata": {},
   "source": [
    "### train_test_split"
   ]
  },
  {
   "cell_type": "code",
   "execution_count": 11,
   "id": "d3299d8a",
   "metadata": {},
   "outputs": [],
   "source": [
    "X_train, X_test, y_train, y_test = train_test_split(df, \n",
    "                                                    df['target'], \n",
    "                                                    test_size=0.3,\n",
    "                                                    random_state=2022)"
   ]
  },
  {
   "cell_type": "markdown",
   "id": "dd80b08d",
   "metadata": {},
   "source": [
    "### undersampling X_train"
   ]
  },
  {
   "cell_type": "code",
   "execution_count": 12,
   "id": "1caf9953",
   "metadata": {},
   "outputs": [],
   "source": [
    "# y_train.value_counts()"
   ]
  },
  {
   "cell_type": "code",
   "execution_count": 13,
   "id": "579b0018",
   "metadata": {},
   "outputs": [],
   "source": [
    "# objects_1 = y_train[y_train == 1]\n",
    "# objects_1.size"
   ]
  },
  {
   "cell_type": "code",
   "execution_count": 14,
   "id": "db6c107e",
   "metadata": {},
   "outputs": [],
   "source": [
    "# objects_0 = y_train[y_train == 0].sample(objects_1.size)\n",
    "# objects_0.size"
   ]
  },
  {
   "cell_type": "code",
   "execution_count": 15,
   "id": "1af3b7ff",
   "metadata": {},
   "outputs": [],
   "source": [
    "# y_train = pd.concat([objects_1, objects_0])\n",
    "# X_train = X_train.loc[y_train.index]"
   ]
  },
  {
   "cell_type": "markdown",
   "id": "e54bede3",
   "metadata": {},
   "source": [
    "### pipeline"
   ]
  },
  {
   "cell_type": "code",
   "execution_count": 16,
   "id": "c2217209",
   "metadata": {},
   "outputs": [],
   "source": [
    "class FeatureSelector(BaseEstimator, TransformerMixin):\n",
    "    def __init__(self, column):\n",
    "        self.column = column\n",
    "\n",
    "    def fit(self, X, y=None):\n",
    "        return self\n",
    "\n",
    "    def transform(self, X, y=None):\n",
    "        return X[self.column]\n",
    "    \n",
    "\n",
    "class NumberSelector(BaseEstimator, TransformerMixin):\n",
    "    \"\"\"\n",
    "    Transformer to select a single column from the data frame to perform additional transformations on\n",
    "    Use on numeric columns in the data\n",
    "    \"\"\"\n",
    "    def __init__(self, key):\n",
    "        self.key = key\n",
    "\n",
    "    def fit(self, X, y=None):\n",
    "        return self\n",
    "\n",
    "    def transform(self, X):\n",
    "        return X[[self.key]]\n",
    "\n",
    "    \n",
    "class FeatureLogarithm(BaseEstimator, TransformerMixin):\n",
    "    \"\"\"\n",
    "    Transformer to select a single column from the data frame to perform additional transformations on\n",
    "    Use on numeric columns in the data\n",
    "    \"\"\"\n",
    "    def __init__(self, key):\n",
    "        self.key = key\n",
    "\n",
    "    def fit(self, X, y=None):\n",
    "        return self\n",
    "\n",
    "    def transform(self, X):\n",
    "        X[self.key] = X[self.key].apply(lambda x: math.log(x) if x != 0 else 0)\n",
    "        return X[[self.key]]\n",
    "    \n",
    "    \n",
    "class OHEEncoder(BaseEstimator, TransformerMixin):\n",
    "    def __init__(self, key):\n",
    "        self.key = key\n",
    "        self.columns = []\n",
    "\n",
    "    def fit(self, X, y=None):\n",
    "        self.columns = [col for col in pd.get_dummies(X, prefix=self.key).columns]\n",
    "        return self\n",
    "\n",
    "    def transform(self, X):\n",
    "        X = pd.get_dummies(X, prefix=self.key)\n",
    "        test_columns = [col for col in X.columns]\n",
    "        \n",
    "        for col_ in self.columns:\n",
    "            if col_ not in test_columns:\n",
    "                X[col_] = 0\n",
    "        return X[self.columns]"
   ]
  },
  {
   "cell_type": "code",
   "execution_count": 17,
   "id": "b0a398bc",
   "metadata": {},
   "outputs": [
    {
     "data": {
      "text/plain": [
       "Index(['age', 'workclass', 'census-bureau-weight', 'education',\n",
       "       'education-num', 'marital-status', 'occupation', 'relationship', 'race',\n",
       "       'sex', 'capital-gain', 'capital-loss', 'hours-per-week',\n",
       "       'native-country', 'target'],\n",
       "      dtype='object')"
      ]
     },
     "execution_count": 17,
     "metadata": {},
     "output_type": "execute_result"
    }
   ],
   "source": [
    "df.columns"
   ]
  },
  {
   "cell_type": "code",
   "execution_count": 18,
   "id": "85d5041b",
   "metadata": {},
   "outputs": [],
   "source": [
    "categorical_columns = [\n",
    "    'workclass', \n",
    "    'education', \n",
    "    'marital-status', \n",
    "    'occupation', \n",
    "    'relationship', \n",
    "    'race', \n",
    "    'sex', \n",
    "#     'native-country'\n",
    "]\n",
    "\n",
    "continuous_columns = [\n",
    "    'age', \n",
    "    'census-bureau-weight', \n",
    "    'education-num',\n",
    "    'capital-gain', \n",
    "    'capital-loss', \n",
    "    'hours-per-week'\n",
    "]\n",
    "\n",
    "columns_to_log = [\n",
    "#     'hours-per-week'\n",
    "]"
   ]
  },
  {
   "cell_type": "code",
   "execution_count": 19,
   "id": "f7a041b1",
   "metadata": {},
   "outputs": [],
   "source": [
    "final_transformers = list()\n",
    "\n",
    "for cat_col in categorical_columns:\n",
    "    cat_transformer = Pipeline([\n",
    "                ('selector', FeatureSelector(column=cat_col)),\n",
    "                ('ohe', OHEEncoder(key=cat_col))\n",
    "            ])\n",
    "    final_transformers.append((cat_col, cat_transformer))\n",
    "\n",
    "    \n",
    "for cont_col in continuous_columns:\n",
    "    cont_transformer = Pipeline([\n",
    "                ('selector', NumberSelector(key=cont_col)),\n",
    "                ('scaler', StandardScaler())\n",
    "            ]) \n",
    "    final_transformers.append((cont_col, cont_transformer))\n",
    "\n",
    "    \n",
    "for log_col in columns_to_log:\n",
    "    log_transformer = Pipeline([\n",
    "                ('selector', FeatureLogarithm(key=log_col)),\n",
    "                ('scaler', StandardScaler())\n",
    "            ])\n",
    "    final_transformers.append((log_col, log_transformer))"
   ]
  },
  {
   "cell_type": "code",
   "execution_count": 20,
   "id": "4fdb5572",
   "metadata": {},
   "outputs": [],
   "source": [
    "feats = FeatureUnion(final_transformers)\n",
    "\n",
    "feature_processing = Pipeline([('feats', feats)])"
   ]
  },
  {
   "cell_type": "markdown",
   "id": "37b87b08",
   "metadata": {},
   "source": [
    "### model"
   ]
  },
  {
   "cell_type": "code",
   "execution_count": 21,
   "id": "44b8425b",
   "metadata": {},
   "outputs": [],
   "source": [
    "pipeline_with_classifier = Pipeline([\n",
    "    ('features', feats),\n",
    "    ('classifier', GradientBoostingClassifier(random_state=2022)),\n",
    "])\n",
    "\n",
    "# GradientBoostingClassifier\n",
    "# LogisticRegression"
   ]
  },
  {
   "cell_type": "code",
   "execution_count": 22,
   "id": "b15ad424",
   "metadata": {},
   "outputs": [
    {
     "data": {
      "text/html": [
       "<style>#sk-container-id-1 {color: black;background-color: white;}#sk-container-id-1 pre{padding: 0;}#sk-container-id-1 div.sk-toggleable {background-color: white;}#sk-container-id-1 label.sk-toggleable__label {cursor: pointer;display: block;width: 100%;margin-bottom: 0;padding: 0.3em;box-sizing: border-box;text-align: center;}#sk-container-id-1 label.sk-toggleable__label-arrow:before {content: \"▸\";float: left;margin-right: 0.25em;color: #696969;}#sk-container-id-1 label.sk-toggleable__label-arrow:hover:before {color: black;}#sk-container-id-1 div.sk-estimator:hover label.sk-toggleable__label-arrow:before {color: black;}#sk-container-id-1 div.sk-toggleable__content {max-height: 0;max-width: 0;overflow: hidden;text-align: left;background-color: #f0f8ff;}#sk-container-id-1 div.sk-toggleable__content pre {margin: 0.2em;color: black;border-radius: 0.25em;background-color: #f0f8ff;}#sk-container-id-1 input.sk-toggleable__control:checked~div.sk-toggleable__content {max-height: 200px;max-width: 100%;overflow: auto;}#sk-container-id-1 input.sk-toggleable__control:checked~label.sk-toggleable__label-arrow:before {content: \"▾\";}#sk-container-id-1 div.sk-estimator input.sk-toggleable__control:checked~label.sk-toggleable__label {background-color: #d4ebff;}#sk-container-id-1 div.sk-label input.sk-toggleable__control:checked~label.sk-toggleable__label {background-color: #d4ebff;}#sk-container-id-1 input.sk-hidden--visually {border: 0;clip: rect(1px 1px 1px 1px);clip: rect(1px, 1px, 1px, 1px);height: 1px;margin: -1px;overflow: hidden;padding: 0;position: absolute;width: 1px;}#sk-container-id-1 div.sk-estimator {font-family: monospace;background-color: #f0f8ff;border: 1px dotted black;border-radius: 0.25em;box-sizing: border-box;margin-bottom: 0.5em;}#sk-container-id-1 div.sk-estimator:hover {background-color: #d4ebff;}#sk-container-id-1 div.sk-parallel-item::after {content: \"\";width: 100%;border-bottom: 1px solid gray;flex-grow: 1;}#sk-container-id-1 div.sk-label:hover label.sk-toggleable__label {background-color: #d4ebff;}#sk-container-id-1 div.sk-serial::before {content: \"\";position: absolute;border-left: 1px solid gray;box-sizing: border-box;top: 0;bottom: 0;left: 50%;z-index: 0;}#sk-container-id-1 div.sk-serial {display: flex;flex-direction: column;align-items: center;background-color: white;padding-right: 0.2em;padding-left: 0.2em;position: relative;}#sk-container-id-1 div.sk-item {position: relative;z-index: 1;}#sk-container-id-1 div.sk-parallel {display: flex;align-items: stretch;justify-content: center;background-color: white;position: relative;}#sk-container-id-1 div.sk-item::before, #sk-container-id-1 div.sk-parallel-item::before {content: \"\";position: absolute;border-left: 1px solid gray;box-sizing: border-box;top: 0;bottom: 0;left: 50%;z-index: -1;}#sk-container-id-1 div.sk-parallel-item {display: flex;flex-direction: column;z-index: 1;position: relative;background-color: white;}#sk-container-id-1 div.sk-parallel-item:first-child::after {align-self: flex-end;width: 50%;}#sk-container-id-1 div.sk-parallel-item:last-child::after {align-self: flex-start;width: 50%;}#sk-container-id-1 div.sk-parallel-item:only-child::after {width: 0;}#sk-container-id-1 div.sk-dashed-wrapped {border: 1px dashed gray;margin: 0 0.4em 0.5em 0.4em;box-sizing: border-box;padding-bottom: 0.4em;background-color: white;}#sk-container-id-1 div.sk-label label {font-family: monospace;font-weight: bold;display: inline-block;line-height: 1.2em;}#sk-container-id-1 div.sk-label-container {text-align: center;}#sk-container-id-1 div.sk-container {/* jupyter's `normalize.less` sets `[hidden] { display: none; }` but bootstrap.min.css set `[hidden] { display: none !important; }` so we also need the `!important` here to be able to override the default hidden behavior on the sphinx rendered scikit-learn.org. See: https://github.com/scikit-learn/scikit-learn/issues/21755 */display: inline-block !important;position: relative;}#sk-container-id-1 div.sk-text-repr-fallback {display: none;}</style><div id=\"sk-container-id-1\" class=\"sk-top-container\"><div class=\"sk-text-repr-fallback\"><pre>Pipeline(steps=[(&#x27;features&#x27;,\n",
       "                 FeatureUnion(transformer_list=[(&#x27;workclass&#x27;,\n",
       "                                                 Pipeline(steps=[(&#x27;selector&#x27;,\n",
       "                                                                  FeatureSelector(column=&#x27;workclass&#x27;)),\n",
       "                                                                 (&#x27;ohe&#x27;,\n",
       "                                                                  OHEEncoder(key=&#x27;workclass&#x27;))])),\n",
       "                                                (&#x27;education&#x27;,\n",
       "                                                 Pipeline(steps=[(&#x27;selector&#x27;,\n",
       "                                                                  FeatureSelector(column=&#x27;education&#x27;)),\n",
       "                                                                 (&#x27;ohe&#x27;,\n",
       "                                                                  OHEEncoder(key=&#x27;education&#x27;))])),\n",
       "                                                (&#x27;marital-status&#x27;,\n",
       "                                                 Pipeline(steps=[(&#x27;selector&#x27;,\n",
       "                                                                  FeatureSele...\n",
       "                                                                  NumberSelector(key=&#x27;capital-gain&#x27;)),\n",
       "                                                                 (&#x27;scaler&#x27;,\n",
       "                                                                  StandardScaler())])),\n",
       "                                                (&#x27;capital-loss&#x27;,\n",
       "                                                 Pipeline(steps=[(&#x27;selector&#x27;,\n",
       "                                                                  NumberSelector(key=&#x27;capital-loss&#x27;)),\n",
       "                                                                 (&#x27;scaler&#x27;,\n",
       "                                                                  StandardScaler())])),\n",
       "                                                (&#x27;hours-per-week&#x27;,\n",
       "                                                 Pipeline(steps=[(&#x27;selector&#x27;,\n",
       "                                                                  NumberSelector(key=&#x27;hours-per-week&#x27;)),\n",
       "                                                                 (&#x27;scaler&#x27;,\n",
       "                                                                  StandardScaler())]))])),\n",
       "                (&#x27;classifier&#x27;, GradientBoostingClassifier(random_state=2022))])</pre><b>In a Jupyter environment, please rerun this cell to show the HTML representation or trust the notebook. <br />On GitHub, the HTML representation is unable to render, please try loading this page with nbviewer.org.</b></div><div class=\"sk-container\" hidden><div class=\"sk-item sk-dashed-wrapped\"><div class=\"sk-label-container\"><div class=\"sk-label sk-toggleable\"><input class=\"sk-toggleable__control sk-hidden--visually\" id=\"sk-estimator-id-1\" type=\"checkbox\" ><label for=\"sk-estimator-id-1\" class=\"sk-toggleable__label sk-toggleable__label-arrow\">Pipeline</label><div class=\"sk-toggleable__content\"><pre>Pipeline(steps=[(&#x27;features&#x27;,\n",
       "                 FeatureUnion(transformer_list=[(&#x27;workclass&#x27;,\n",
       "                                                 Pipeline(steps=[(&#x27;selector&#x27;,\n",
       "                                                                  FeatureSelector(column=&#x27;workclass&#x27;)),\n",
       "                                                                 (&#x27;ohe&#x27;,\n",
       "                                                                  OHEEncoder(key=&#x27;workclass&#x27;))])),\n",
       "                                                (&#x27;education&#x27;,\n",
       "                                                 Pipeline(steps=[(&#x27;selector&#x27;,\n",
       "                                                                  FeatureSelector(column=&#x27;education&#x27;)),\n",
       "                                                                 (&#x27;ohe&#x27;,\n",
       "                                                                  OHEEncoder(key=&#x27;education&#x27;))])),\n",
       "                                                (&#x27;marital-status&#x27;,\n",
       "                                                 Pipeline(steps=[(&#x27;selector&#x27;,\n",
       "                                                                  FeatureSele...\n",
       "                                                                  NumberSelector(key=&#x27;capital-gain&#x27;)),\n",
       "                                                                 (&#x27;scaler&#x27;,\n",
       "                                                                  StandardScaler())])),\n",
       "                                                (&#x27;capital-loss&#x27;,\n",
       "                                                 Pipeline(steps=[(&#x27;selector&#x27;,\n",
       "                                                                  NumberSelector(key=&#x27;capital-loss&#x27;)),\n",
       "                                                                 (&#x27;scaler&#x27;,\n",
       "                                                                  StandardScaler())])),\n",
       "                                                (&#x27;hours-per-week&#x27;,\n",
       "                                                 Pipeline(steps=[(&#x27;selector&#x27;,\n",
       "                                                                  NumberSelector(key=&#x27;hours-per-week&#x27;)),\n",
       "                                                                 (&#x27;scaler&#x27;,\n",
       "                                                                  StandardScaler())]))])),\n",
       "                (&#x27;classifier&#x27;, GradientBoostingClassifier(random_state=2022))])</pre></div></div></div><div class=\"sk-serial\"><div class=\"sk-item sk-dashed-wrapped\"><div class=\"sk-label-container\"><div class=\"sk-label sk-toggleable\"><input class=\"sk-toggleable__control sk-hidden--visually\" id=\"sk-estimator-id-2\" type=\"checkbox\" ><label for=\"sk-estimator-id-2\" class=\"sk-toggleable__label sk-toggleable__label-arrow\">features: FeatureUnion</label><div class=\"sk-toggleable__content\"><pre>FeatureUnion(transformer_list=[(&#x27;workclass&#x27;,\n",
       "                                Pipeline(steps=[(&#x27;selector&#x27;,\n",
       "                                                 FeatureSelector(column=&#x27;workclass&#x27;)),\n",
       "                                                (&#x27;ohe&#x27;,\n",
       "                                                 OHEEncoder(key=&#x27;workclass&#x27;))])),\n",
       "                               (&#x27;education&#x27;,\n",
       "                                Pipeline(steps=[(&#x27;selector&#x27;,\n",
       "                                                 FeatureSelector(column=&#x27;education&#x27;)),\n",
       "                                                (&#x27;ohe&#x27;,\n",
       "                                                 OHEEncoder(key=&#x27;education&#x27;))])),\n",
       "                               (&#x27;marital-status&#x27;,\n",
       "                                Pipeline(steps=[(&#x27;selector&#x27;,\n",
       "                                                 FeatureSelector(column=&#x27;marital-status&#x27;...\n",
       "                                                (&#x27;scaler&#x27;, StandardScaler())])),\n",
       "                               (&#x27;capital-gain&#x27;,\n",
       "                                Pipeline(steps=[(&#x27;selector&#x27;,\n",
       "                                                 NumberSelector(key=&#x27;capital-gain&#x27;)),\n",
       "                                                (&#x27;scaler&#x27;, StandardScaler())])),\n",
       "                               (&#x27;capital-loss&#x27;,\n",
       "                                Pipeline(steps=[(&#x27;selector&#x27;,\n",
       "                                                 NumberSelector(key=&#x27;capital-loss&#x27;)),\n",
       "                                                (&#x27;scaler&#x27;, StandardScaler())])),\n",
       "                               (&#x27;hours-per-week&#x27;,\n",
       "                                Pipeline(steps=[(&#x27;selector&#x27;,\n",
       "                                                 NumberSelector(key=&#x27;hours-per-week&#x27;)),\n",
       "                                                (&#x27;scaler&#x27;,\n",
       "                                                 StandardScaler())]))])</pre></div></div></div><div class=\"sk-parallel\"><div class=\"sk-parallel-item\"><div class=\"sk-item\"><div class=\"sk-label-container\"><div class=\"sk-label sk-toggleable\"><label>workclass</label></div></div><div class=\"sk-serial\"><div class=\"sk-item\"><div class=\"sk-serial\"><div class=\"sk-item\"><div class=\"sk-estimator sk-toggleable\"><input class=\"sk-toggleable__control sk-hidden--visually\" id=\"sk-estimator-id-3\" type=\"checkbox\" ><label for=\"sk-estimator-id-3\" class=\"sk-toggleable__label sk-toggleable__label-arrow\">FeatureSelector</label><div class=\"sk-toggleable__content\"><pre>FeatureSelector(column=&#x27;workclass&#x27;)</pre></div></div></div><div class=\"sk-item\"><div class=\"sk-estimator sk-toggleable\"><input class=\"sk-toggleable__control sk-hidden--visually\" id=\"sk-estimator-id-4\" type=\"checkbox\" ><label for=\"sk-estimator-id-4\" class=\"sk-toggleable__label sk-toggleable__label-arrow\">OHEEncoder</label><div class=\"sk-toggleable__content\"><pre>OHEEncoder(key=&#x27;workclass&#x27;)</pre></div></div></div></div></div></div></div></div><div class=\"sk-parallel-item\"><div class=\"sk-item\"><div class=\"sk-label-container\"><div class=\"sk-label sk-toggleable\"><label>education</label></div></div><div class=\"sk-serial\"><div class=\"sk-item\"><div class=\"sk-serial\"><div class=\"sk-item\"><div class=\"sk-estimator sk-toggleable\"><input class=\"sk-toggleable__control sk-hidden--visually\" id=\"sk-estimator-id-5\" type=\"checkbox\" ><label for=\"sk-estimator-id-5\" class=\"sk-toggleable__label sk-toggleable__label-arrow\">FeatureSelector</label><div class=\"sk-toggleable__content\"><pre>FeatureSelector(column=&#x27;education&#x27;)</pre></div></div></div><div class=\"sk-item\"><div class=\"sk-estimator sk-toggleable\"><input class=\"sk-toggleable__control sk-hidden--visually\" id=\"sk-estimator-id-6\" type=\"checkbox\" ><label for=\"sk-estimator-id-6\" class=\"sk-toggleable__label sk-toggleable__label-arrow\">OHEEncoder</label><div class=\"sk-toggleable__content\"><pre>OHEEncoder(key=&#x27;education&#x27;)</pre></div></div></div></div></div></div></div></div><div class=\"sk-parallel-item\"><div class=\"sk-item\"><div class=\"sk-label-container\"><div class=\"sk-label sk-toggleable\"><label>marital-status</label></div></div><div class=\"sk-serial\"><div class=\"sk-item\"><div class=\"sk-serial\"><div class=\"sk-item\"><div class=\"sk-estimator sk-toggleable\"><input class=\"sk-toggleable__control sk-hidden--visually\" id=\"sk-estimator-id-7\" type=\"checkbox\" ><label for=\"sk-estimator-id-7\" class=\"sk-toggleable__label sk-toggleable__label-arrow\">FeatureSelector</label><div class=\"sk-toggleable__content\"><pre>FeatureSelector(column=&#x27;marital-status&#x27;)</pre></div></div></div><div class=\"sk-item\"><div class=\"sk-estimator sk-toggleable\"><input class=\"sk-toggleable__control sk-hidden--visually\" id=\"sk-estimator-id-8\" type=\"checkbox\" ><label for=\"sk-estimator-id-8\" class=\"sk-toggleable__label sk-toggleable__label-arrow\">OHEEncoder</label><div class=\"sk-toggleable__content\"><pre>OHEEncoder(key=&#x27;marital-status&#x27;)</pre></div></div></div></div></div></div></div></div><div class=\"sk-parallel-item\"><div class=\"sk-item\"><div class=\"sk-label-container\"><div class=\"sk-label sk-toggleable\"><label>occupation</label></div></div><div class=\"sk-serial\"><div class=\"sk-item\"><div class=\"sk-serial\"><div class=\"sk-item\"><div class=\"sk-estimator sk-toggleable\"><input class=\"sk-toggleable__control sk-hidden--visually\" id=\"sk-estimator-id-9\" type=\"checkbox\" ><label for=\"sk-estimator-id-9\" class=\"sk-toggleable__label sk-toggleable__label-arrow\">FeatureSelector</label><div class=\"sk-toggleable__content\"><pre>FeatureSelector(column=&#x27;occupation&#x27;)</pre></div></div></div><div class=\"sk-item\"><div class=\"sk-estimator sk-toggleable\"><input class=\"sk-toggleable__control sk-hidden--visually\" id=\"sk-estimator-id-10\" type=\"checkbox\" ><label for=\"sk-estimator-id-10\" class=\"sk-toggleable__label sk-toggleable__label-arrow\">OHEEncoder</label><div class=\"sk-toggleable__content\"><pre>OHEEncoder(key=&#x27;occupation&#x27;)</pre></div></div></div></div></div></div></div></div><div class=\"sk-parallel-item\"><div class=\"sk-item\"><div class=\"sk-label-container\"><div class=\"sk-label sk-toggleable\"><label>relationship</label></div></div><div class=\"sk-serial\"><div class=\"sk-item\"><div class=\"sk-serial\"><div class=\"sk-item\"><div class=\"sk-estimator sk-toggleable\"><input class=\"sk-toggleable__control sk-hidden--visually\" id=\"sk-estimator-id-11\" type=\"checkbox\" ><label for=\"sk-estimator-id-11\" class=\"sk-toggleable__label sk-toggleable__label-arrow\">FeatureSelector</label><div class=\"sk-toggleable__content\"><pre>FeatureSelector(column=&#x27;relationship&#x27;)</pre></div></div></div><div class=\"sk-item\"><div class=\"sk-estimator sk-toggleable\"><input class=\"sk-toggleable__control sk-hidden--visually\" id=\"sk-estimator-id-12\" type=\"checkbox\" ><label for=\"sk-estimator-id-12\" class=\"sk-toggleable__label sk-toggleable__label-arrow\">OHEEncoder</label><div class=\"sk-toggleable__content\"><pre>OHEEncoder(key=&#x27;relationship&#x27;)</pre></div></div></div></div></div></div></div></div><div class=\"sk-parallel-item\"><div class=\"sk-item\"><div class=\"sk-label-container\"><div class=\"sk-label sk-toggleable\"><label>race</label></div></div><div class=\"sk-serial\"><div class=\"sk-item\"><div class=\"sk-serial\"><div class=\"sk-item\"><div class=\"sk-estimator sk-toggleable\"><input class=\"sk-toggleable__control sk-hidden--visually\" id=\"sk-estimator-id-13\" type=\"checkbox\" ><label for=\"sk-estimator-id-13\" class=\"sk-toggleable__label sk-toggleable__label-arrow\">FeatureSelector</label><div class=\"sk-toggleable__content\"><pre>FeatureSelector(column=&#x27;race&#x27;)</pre></div></div></div><div class=\"sk-item\"><div class=\"sk-estimator sk-toggleable\"><input class=\"sk-toggleable__control sk-hidden--visually\" id=\"sk-estimator-id-14\" type=\"checkbox\" ><label for=\"sk-estimator-id-14\" class=\"sk-toggleable__label sk-toggleable__label-arrow\">OHEEncoder</label><div class=\"sk-toggleable__content\"><pre>OHEEncoder(key=&#x27;race&#x27;)</pre></div></div></div></div></div></div></div></div><div class=\"sk-parallel-item\"><div class=\"sk-item\"><div class=\"sk-label-container\"><div class=\"sk-label sk-toggleable\"><label>sex</label></div></div><div class=\"sk-serial\"><div class=\"sk-item\"><div class=\"sk-serial\"><div class=\"sk-item\"><div class=\"sk-estimator sk-toggleable\"><input class=\"sk-toggleable__control sk-hidden--visually\" id=\"sk-estimator-id-15\" type=\"checkbox\" ><label for=\"sk-estimator-id-15\" class=\"sk-toggleable__label sk-toggleable__label-arrow\">FeatureSelector</label><div class=\"sk-toggleable__content\"><pre>FeatureSelector(column=&#x27;sex&#x27;)</pre></div></div></div><div class=\"sk-item\"><div class=\"sk-estimator sk-toggleable\"><input class=\"sk-toggleable__control sk-hidden--visually\" id=\"sk-estimator-id-16\" type=\"checkbox\" ><label for=\"sk-estimator-id-16\" class=\"sk-toggleable__label sk-toggleable__label-arrow\">OHEEncoder</label><div class=\"sk-toggleable__content\"><pre>OHEEncoder(key=&#x27;sex&#x27;)</pre></div></div></div></div></div></div></div></div><div class=\"sk-parallel-item\"><div class=\"sk-item\"><div class=\"sk-label-container\"><div class=\"sk-label sk-toggleable\"><label>age</label></div></div><div class=\"sk-serial\"><div class=\"sk-item\"><div class=\"sk-serial\"><div class=\"sk-item\"><div class=\"sk-estimator sk-toggleable\"><input class=\"sk-toggleable__control sk-hidden--visually\" id=\"sk-estimator-id-17\" type=\"checkbox\" ><label for=\"sk-estimator-id-17\" class=\"sk-toggleable__label sk-toggleable__label-arrow\">NumberSelector</label><div class=\"sk-toggleable__content\"><pre>NumberSelector(key=&#x27;age&#x27;)</pre></div></div></div><div class=\"sk-item\"><div class=\"sk-estimator sk-toggleable\"><input class=\"sk-toggleable__control sk-hidden--visually\" id=\"sk-estimator-id-18\" type=\"checkbox\" ><label for=\"sk-estimator-id-18\" class=\"sk-toggleable__label sk-toggleable__label-arrow\">StandardScaler</label><div class=\"sk-toggleable__content\"><pre>StandardScaler()</pre></div></div></div></div></div></div></div></div><div class=\"sk-parallel-item\"><div class=\"sk-item\"><div class=\"sk-label-container\"><div class=\"sk-label sk-toggleable\"><label>census-bureau-weight</label></div></div><div class=\"sk-serial\"><div class=\"sk-item\"><div class=\"sk-serial\"><div class=\"sk-item\"><div class=\"sk-estimator sk-toggleable\"><input class=\"sk-toggleable__control sk-hidden--visually\" id=\"sk-estimator-id-19\" type=\"checkbox\" ><label for=\"sk-estimator-id-19\" class=\"sk-toggleable__label sk-toggleable__label-arrow\">NumberSelector</label><div class=\"sk-toggleable__content\"><pre>NumberSelector(key=&#x27;census-bureau-weight&#x27;)</pre></div></div></div><div class=\"sk-item\"><div class=\"sk-estimator sk-toggleable\"><input class=\"sk-toggleable__control sk-hidden--visually\" id=\"sk-estimator-id-20\" type=\"checkbox\" ><label for=\"sk-estimator-id-20\" class=\"sk-toggleable__label sk-toggleable__label-arrow\">StandardScaler</label><div class=\"sk-toggleable__content\"><pre>StandardScaler()</pre></div></div></div></div></div></div></div></div><div class=\"sk-parallel-item\"><div class=\"sk-item\"><div class=\"sk-label-container\"><div class=\"sk-label sk-toggleable\"><label>education-num</label></div></div><div class=\"sk-serial\"><div class=\"sk-item\"><div class=\"sk-serial\"><div class=\"sk-item\"><div class=\"sk-estimator sk-toggleable\"><input class=\"sk-toggleable__control sk-hidden--visually\" id=\"sk-estimator-id-21\" type=\"checkbox\" ><label for=\"sk-estimator-id-21\" class=\"sk-toggleable__label sk-toggleable__label-arrow\">NumberSelector</label><div class=\"sk-toggleable__content\"><pre>NumberSelector(key=&#x27;education-num&#x27;)</pre></div></div></div><div class=\"sk-item\"><div class=\"sk-estimator sk-toggleable\"><input class=\"sk-toggleable__control sk-hidden--visually\" id=\"sk-estimator-id-22\" type=\"checkbox\" ><label for=\"sk-estimator-id-22\" class=\"sk-toggleable__label sk-toggleable__label-arrow\">StandardScaler</label><div class=\"sk-toggleable__content\"><pre>StandardScaler()</pre></div></div></div></div></div></div></div></div><div class=\"sk-parallel-item\"><div class=\"sk-item\"><div class=\"sk-label-container\"><div class=\"sk-label sk-toggleable\"><label>capital-gain</label></div></div><div class=\"sk-serial\"><div class=\"sk-item\"><div class=\"sk-serial\"><div class=\"sk-item\"><div class=\"sk-estimator sk-toggleable\"><input class=\"sk-toggleable__control sk-hidden--visually\" id=\"sk-estimator-id-23\" type=\"checkbox\" ><label for=\"sk-estimator-id-23\" class=\"sk-toggleable__label sk-toggleable__label-arrow\">NumberSelector</label><div class=\"sk-toggleable__content\"><pre>NumberSelector(key=&#x27;capital-gain&#x27;)</pre></div></div></div><div class=\"sk-item\"><div class=\"sk-estimator sk-toggleable\"><input class=\"sk-toggleable__control sk-hidden--visually\" id=\"sk-estimator-id-24\" type=\"checkbox\" ><label for=\"sk-estimator-id-24\" class=\"sk-toggleable__label sk-toggleable__label-arrow\">StandardScaler</label><div class=\"sk-toggleable__content\"><pre>StandardScaler()</pre></div></div></div></div></div></div></div></div><div class=\"sk-parallel-item\"><div class=\"sk-item\"><div class=\"sk-label-container\"><div class=\"sk-label sk-toggleable\"><label>capital-loss</label></div></div><div class=\"sk-serial\"><div class=\"sk-item\"><div class=\"sk-serial\"><div class=\"sk-item\"><div class=\"sk-estimator sk-toggleable\"><input class=\"sk-toggleable__control sk-hidden--visually\" id=\"sk-estimator-id-25\" type=\"checkbox\" ><label for=\"sk-estimator-id-25\" class=\"sk-toggleable__label sk-toggleable__label-arrow\">NumberSelector</label><div class=\"sk-toggleable__content\"><pre>NumberSelector(key=&#x27;capital-loss&#x27;)</pre></div></div></div><div class=\"sk-item\"><div class=\"sk-estimator sk-toggleable\"><input class=\"sk-toggleable__control sk-hidden--visually\" id=\"sk-estimator-id-26\" type=\"checkbox\" ><label for=\"sk-estimator-id-26\" class=\"sk-toggleable__label sk-toggleable__label-arrow\">StandardScaler</label><div class=\"sk-toggleable__content\"><pre>StandardScaler()</pre></div></div></div></div></div></div></div></div><div class=\"sk-parallel-item\"><div class=\"sk-item\"><div class=\"sk-label-container\"><div class=\"sk-label sk-toggleable\"><label>hours-per-week</label></div></div><div class=\"sk-serial\"><div class=\"sk-item\"><div class=\"sk-serial\"><div class=\"sk-item\"><div class=\"sk-estimator sk-toggleable\"><input class=\"sk-toggleable__control sk-hidden--visually\" id=\"sk-estimator-id-27\" type=\"checkbox\" ><label for=\"sk-estimator-id-27\" class=\"sk-toggleable__label sk-toggleable__label-arrow\">NumberSelector</label><div class=\"sk-toggleable__content\"><pre>NumberSelector(key=&#x27;hours-per-week&#x27;)</pre></div></div></div><div class=\"sk-item\"><div class=\"sk-estimator sk-toggleable\"><input class=\"sk-toggleable__control sk-hidden--visually\" id=\"sk-estimator-id-28\" type=\"checkbox\" ><label for=\"sk-estimator-id-28\" class=\"sk-toggleable__label sk-toggleable__label-arrow\">StandardScaler</label><div class=\"sk-toggleable__content\"><pre>StandardScaler()</pre></div></div></div></div></div></div></div></div></div></div><div class=\"sk-item\"><div class=\"sk-estimator sk-toggleable\"><input class=\"sk-toggleable__control sk-hidden--visually\" id=\"sk-estimator-id-29\" type=\"checkbox\" ><label for=\"sk-estimator-id-29\" class=\"sk-toggleable__label sk-toggleable__label-arrow\">GradientBoostingClassifier</label><div class=\"sk-toggleable__content\"><pre>GradientBoostingClassifier(random_state=2022)</pre></div></div></div></div></div></div></div>"
      ],
      "text/plain": [
       "Pipeline(steps=[('features',\n",
       "                 FeatureUnion(transformer_list=[('workclass',\n",
       "                                                 Pipeline(steps=[('selector',\n",
       "                                                                  FeatureSelector(column='workclass')),\n",
       "                                                                 ('ohe',\n",
       "                                                                  OHEEncoder(key='workclass'))])),\n",
       "                                                ('education',\n",
       "                                                 Pipeline(steps=[('selector',\n",
       "                                                                  FeatureSelector(column='education')),\n",
       "                                                                 ('ohe',\n",
       "                                                                  OHEEncoder(key='education'))])),\n",
       "                                                ('marital-status',\n",
       "                                                 Pipeline(steps=[('selector',\n",
       "                                                                  FeatureSele...\n",
       "                                                                  NumberSelector(key='capital-gain')),\n",
       "                                                                 ('scaler',\n",
       "                                                                  StandardScaler())])),\n",
       "                                                ('capital-loss',\n",
       "                                                 Pipeline(steps=[('selector',\n",
       "                                                                  NumberSelector(key='capital-loss')),\n",
       "                                                                 ('scaler',\n",
       "                                                                  StandardScaler())])),\n",
       "                                                ('hours-per-week',\n",
       "                                                 Pipeline(steps=[('selector',\n",
       "                                                                  NumberSelector(key='hours-per-week')),\n",
       "                                                                 ('scaler',\n",
       "                                                                  StandardScaler())]))])),\n",
       "                ('classifier', GradientBoostingClassifier(random_state=2022))])"
      ]
     },
     "execution_count": 22,
     "metadata": {},
     "output_type": "execute_result"
    }
   ],
   "source": [
    "pipeline_with_classifier.fit(X_train, y_train)"
   ]
  },
  {
   "cell_type": "code",
   "execution_count": 23,
   "id": "0f4fd61a",
   "metadata": {},
   "outputs": [],
   "source": [
    "y_score = pipeline_with_classifier.predict_proba(X_train)[:, 1]"
   ]
  },
  {
   "cell_type": "code",
   "execution_count": 24,
   "id": "9ef161fc",
   "metadata": {},
   "outputs": [
    {
     "name": "stdout",
     "output_type": "stream",
     "text": [
      "Best Threshold=0.354695, F-Score=0.737, Precision=0.710, Recall=0.767\n"
     ]
    }
   ],
   "source": [
    "y = y_train\n",
    "b=1\n",
    "precision, recall, thresholds = precision_recall_curve(y.values, y_score)\n",
    "precision += 0.0001\n",
    "recall += 0.0001\n",
    "fscore = (1+b**2) * (precision * recall) / (b**2 * precision + recall)\n",
    "# locate the index of the largest f score\n",
    "ix = np.argmax(fscore)\n",
    "print('Best Threshold=%f, F-Score=%.3f, Precision=%.3f, Recall=%.3f' % (thresholds[ix], \n",
    "                                                                        fscore[ix],\n",
    "                                                                        precision[ix],\n",
    "                                                                        recall[ix]))"
   ]
  },
  {
   "cell_type": "markdown",
   "id": "09c85c58",
   "metadata": {},
   "source": [
    "### metrics"
   ]
  },
  {
   "cell_type": "code",
   "execution_count": 25,
   "id": "0a3f12b8",
   "metadata": {},
   "outputs": [],
   "source": [
    "def plot_confusion_matrix(cm, classes,\n",
    "                          normalize=False,\n",
    "                          title='Confusion matrix',\n",
    "                          cmap=plt.cm.Blues):\n",
    "    \"\"\"\n",
    "    This function prints and plots the confusion matrix.\n",
    "    Normalization can be applied by setting `normalize=True`.\n",
    "    \"\"\"\n",
    "    plt.imshow(cm, interpolation='nearest', cmap=cmap)\n",
    "    plt.title(title)\n",
    "    plt.colorbar()\n",
    "    tick_marks = np.arange(len(classes))\n",
    "    plt.xticks(tick_marks, classes, rotation=45)\n",
    "    plt.yticks(tick_marks, classes)\n",
    "\n",
    "    if normalize:\n",
    "        cm = cm.astype('float') / cm.sum(axis=1)[:, np.newaxis]\n",
    "        print(\"Normalized confusion matrix\")\n",
    "    else:\n",
    "        print('Confusion matrix, without normalization')\n",
    "\n",
    "    print(cm)\n",
    "\n",
    "    thresh = cm.max() / 2.\n",
    "    for i, j in itertools.product(range(cm.shape[0]), range(cm.shape[1])):\n",
    "        plt.text(j, i, cm[i, j],\n",
    "                 horizontalalignment=\"center\",\n",
    "                 color=\"white\" if cm[i, j] > thresh else \"black\")\n",
    "\n",
    "    plt.tight_layout()\n",
    "    plt.ylabel('True label')\n",
    "    plt.xlabel('Predicted label')"
   ]
  },
  {
   "cell_type": "code",
   "execution_count": 26,
   "id": "e8f1edf1",
   "metadata": {},
   "outputs": [],
   "source": [
    "y_score = pipeline_with_classifier.predict_proba(X_test)[:, 1]"
   ]
  },
  {
   "cell_type": "code",
   "execution_count": 27,
   "id": "2104061e",
   "metadata": {},
   "outputs": [
    {
     "name": "stdout",
     "output_type": "stream",
     "text": [
      "Confusion matrix, without normalization\n",
      "[[6628  808]\n",
      " [ 619 1714]]\n"
     ]
    },
    {
     "data": {
      "image/png": "[encoded data removed]",
      "text/plain": [
       "<Figure size 432x288 with 2 Axes>"
      ]
     },
     "metadata": {
      "needs_background": "light"
     },
     "output_type": "display_data"
    }
   ],
   "source": [
    "font = {'size' : 15}\n",
    "\n",
    "plt.rc('font', **font)\n",
    "\n",
    "cnf_matrix = confusion_matrix(y_test, y_score>thresholds[ix])\n",
    "plt.figure(figsize=(6, 4))\n",
    "plot_confusion_matrix(cnf_matrix, classes=[' <50K', ' >50K'],\n",
    "                      title='Confusion matrix')\n",
    "# plt.savefig(\"conf_matrix.png\")\n",
    "plt.show()"
   ]
  },
  {
   "cell_type": "code",
   "execution_count": 28,
   "id": "03061c7c",
   "metadata": {},
   "outputs": [
    {
     "name": "stdout",
     "output_type": "stream",
     "text": [
      "              precision    recall  f1-score   support\n",
      "\n",
      "           0       0.91      0.89      0.90      7436\n",
      "           1       0.68      0.73      0.71      2333\n",
      "\n",
      "    accuracy                           0.85      9769\n",
      "   macro avg       0.80      0.81      0.80      9769\n",
      "weighted avg       0.86      0.85      0.86      9769\n",
      "\n"
     ]
    }
   ],
   "source": [
    "print(classification_report(y_test, y_score > thresholds[ix]))"
   ]
  },
  {
   "cell_type": "code",
   "execution_count": null,
   "id": "0e03dec9",
   "metadata": {},
   "outputs": [],
   "source": []
  },
  {
   "cell_type": "code",
   "execution_count": null,
   "id": "5e043843",
   "metadata": {},
   "outputs": [],
   "source": []
  },
  {
   "cell_type": "markdown",
   "id": "a7a71b5b",
   "metadata": {},
   "source": [
    "## Задания 4-6"
   ]
  },
  {
   "cell_type": "code",
   "execution_count": 29,
   "id": "849778b5",
   "metadata": {},
   "outputs": [
    {
     "data": {
      "text/plain": [
       "3920"
      ]
     },
     "execution_count": 29,
     "metadata": {},
     "output_type": "execute_result"
    }
   ],
   "source": [
    "P = 0.5\n",
    "P_sample_size = int(df['target'].value_counts()[1] * P)\n",
    "P_sample_size"
   ]
  },
  {
   "cell_type": "code",
   "execution_count": 30,
   "id": "33ea4043",
   "metadata": {},
   "outputs": [
    {
     "data": {
      "text/plain": [
       "0    28641\n",
       "1     3920\n",
       "Name: PU, dtype: int64"
      ]
     },
     "execution_count": 30,
     "metadata": {},
     "output_type": "execute_result"
    }
   ],
   "source": [
    "df['PU'] = 0\n",
    "positive_indexes = df.loc[df['target'] == 1].sample(P_sample_size).index\n",
    "df.loc[positive_indexes, 'PU'] = 1\n",
    "df['PU'].value_counts()"
   ]
  },
  {
   "cell_type": "code",
   "execution_count": 31,
   "id": "ada4126e",
   "metadata": {},
   "outputs": [],
   "source": [
    "pipeline_with_classifier.fit(df, df['PU'])\n",
    "y_score = pipeline_with_classifier.predict_proba(df)[:, 1]"
   ]
  },
  {
   "cell_type": "markdown",
   "id": "160e31aa",
   "metadata": {},
   "source": [
    "### threshold finding"
   ]
  },
  {
   "cell_type": "code",
   "execution_count": 32,
   "id": "be90171c",
   "metadata": {},
   "outputs": [],
   "source": [
    "y = df['PU']  # df['PU'] to find the best threshold!!!"
   ]
  },
  {
   "cell_type": "code",
   "execution_count": 33,
   "id": "537fb40c",
   "metadata": {},
   "outputs": [],
   "source": [
    "b=1\n",
    "precision, recall, thresholds = precision_recall_curve(y.values, y_score)\n",
    "precision += 0.0001\n",
    "recall += 0.0001\n",
    "fscore = (1+b**2) * (precision * recall) / (b**2 * precision + recall)\n",
    "# locate the index of the largest f score\n",
    "ix = np.argmax(fscore)\n",
    "# print('Best Threshold=%f, F-Score=%.3f, Precision=%.3f, Recall=%.3f' % (thresholds[ix], \n",
    "#                                                                         fscore[ix],\n",
    "#                                                                         precision[ix],\n",
    "#                                                                         recall[ix]))"
   ]
  },
  {
   "cell_type": "markdown",
   "id": "6e51fdae",
   "metadata": {},
   "source": [
    "### metrics"
   ]
  },
  {
   "cell_type": "code",
   "execution_count": 34,
   "id": "a40e2937",
   "metadata": {},
   "outputs": [],
   "source": [
    "y = df['target']  # df['target'] to calculate metrics"
   ]
  },
  {
   "cell_type": "code",
   "execution_count": 35,
   "id": "846fce35",
   "metadata": {},
   "outputs": [
    {
     "name": "stdout",
     "output_type": "stream",
     "text": [
      "Confusion matrix, without normalization\n",
      "[[23067  1653]\n",
      " [ 2759  5082]]\n"
     ]
    },
    {
     "data": {
      "image/png": "[encoded data removed]",
      "text/plain": [
       "<Figure size 432x288 with 2 Axes>"
      ]
     },
     "metadata": {
      "needs_background": "light"
     },
     "output_type": "display_data"
    }
   ],
   "source": [
    "font = {'size' : 15}\n",
    "\n",
    "plt.rc('font', **font)\n",
    "\n",
    "cnf_matrix = confusion_matrix(y, y_score>thresholds[ix])\n",
    "plt.figure(figsize=(6, 4))\n",
    "plot_confusion_matrix(cnf_matrix, classes=[' <50K', ' >50K'],\n",
    "                      title='Confusion matrix')\n",
    "# plt.savefig(\"conf_matrix.png\")\n",
    "plt.show()"
   ]
  },
  {
   "cell_type": "code",
   "execution_count": 36,
   "id": "dec42c68",
   "metadata": {},
   "outputs": [
    {
     "name": "stdout",
     "output_type": "stream",
     "text": [
      "              precision    recall  f1-score   support\n",
      "\n",
      "           0       0.89      0.93      0.91     24720\n",
      "           1       0.75      0.65      0.70      7841\n",
      "\n",
      "    accuracy                           0.86     32561\n",
      "   macro avg       0.82      0.79      0.81     32561\n",
      "weighted avg       0.86      0.86      0.86     32561\n",
      "\n"
     ]
    }
   ],
   "source": [
    "print(classification_report(y, y_score>thresholds[ix]))"
   ]
  },
  {
   "cell_type": "markdown",
   "id": "07c43ca3",
   "metadata": {},
   "source": [
    "## качество модели поиска look-alike (при P = 0.5) примерно одинаково с обычным классификатором "
   ]
  },
  {
   "cell_type": "code",
   "execution_count": null,
   "id": "d1fbc8cb",
   "metadata": {},
   "outputs": [],
   "source": []
  },
  {
   "cell_type": "code",
   "execution_count": null,
   "id": "c1d7fccc",
   "metadata": {},
   "outputs": [],
   "source": []
  },
  {
   "cell_type": "markdown",
   "id": "abea5deb",
   "metadata": {},
   "source": [
    "## Задание 7"
   ]
  },
  {
   "cell_type": "code",
   "execution_count": 37,
   "id": "75928e3f",
   "metadata": {},
   "outputs": [],
   "source": [
    "def finding_dependencies_between_P_and_f1_score(P):\n",
    "    # creation of P/U binary feature\n",
    "    P_sample_size = int(df['target'].value_counts()[1] * P)\n",
    "    df['PU'] = 0\n",
    "    positive_indexes = df.loc[df['target'] == 1].sample(P_sample_size).index\n",
    "    df.loc[positive_indexes, 'PU'] = 1\n",
    "    \n",
    "    # fitting pipeline\n",
    "    pipeline_with_classifier.fit(df, df['PU'])\n",
    "    \n",
    "    # score calculation\n",
    "    y_score = pipeline_with_classifier.predict_proba(df)[:, 1]\n",
    "    \n",
    "    # threshold finding\n",
    "    b=1\n",
    "    precision, recall, thresholds = precision_recall_curve(df['PU'].values, y_score)\n",
    "    precision += 0.0001\n",
    "    recall += 0.0001\n",
    "    fscore = (1+b**2) * (precision * recall) / (b**2 * precision + recall)\n",
    "    ix = np.argmax(fscore)\n",
    "    \n",
    "    # returning f1_score\n",
    "    return f1_score(df['target'], y_score>thresholds[ix])"
   ]
  },
  {
   "cell_type": "code",
   "execution_count": 38,
   "id": "958df619",
   "metadata": {},
   "outputs": [],
   "source": [
    "P = np.linspace(0.1, 0.9, 9)\n",
    "F1 = [finding_dependencies_between_P_and_f1_score(_) for _ in P]"
   ]
  },
  {
   "cell_type": "code",
   "execution_count": 39,
   "id": "5e342683",
   "metadata": {},
   "outputs": [
    {
     "data": {
      "text/html": [
       "<div>\n",
       "<style scoped>\n",
       "    .dataframe tbody tr th:only-of-type {\n",
       "        vertical-align: middle;\n",
       "    }\n",
       "\n",
       "    .dataframe tbody tr th {\n",
       "        vertical-align: top;\n",
       "    }\n",
       "\n",
       "    .dataframe thead th {\n",
       "        text-align: right;\n",
       "    }\n",
       "</style>\n",
       "<table border=\"1\" class=\"dataframe\">\n",
       "  <thead>\n",
       "    <tr style=\"text-align: right;\">\n",
       "      <th></th>\n",
       "      <th>P</th>\n",
       "      <th>F1</th>\n",
       "    </tr>\n",
       "  </thead>\n",
       "  <tbody>\n",
       "    <tr>\n",
       "      <th>0</th>\n",
       "      <td>0.1</td>\n",
       "      <td>0.128886</td>\n",
       "    </tr>\n",
       "    <tr>\n",
       "      <th>1</th>\n",
       "      <td>0.2</td>\n",
       "      <td>0.479587</td>\n",
       "    </tr>\n",
       "    <tr>\n",
       "      <th>2</th>\n",
       "      <td>0.3</td>\n",
       "      <td>0.570547</td>\n",
       "    </tr>\n",
       "    <tr>\n",
       "      <th>3</th>\n",
       "      <td>0.4</td>\n",
       "      <td>0.681802</td>\n",
       "    </tr>\n",
       "    <tr>\n",
       "      <th>4</th>\n",
       "      <td>0.5</td>\n",
       "      <td>0.693307</td>\n",
       "    </tr>\n",
       "    <tr>\n",
       "      <th>5</th>\n",
       "      <td>0.6</td>\n",
       "      <td>0.713713</td>\n",
       "    </tr>\n",
       "    <tr>\n",
       "      <th>6</th>\n",
       "      <td>0.7</td>\n",
       "      <td>0.705587</td>\n",
       "    </tr>\n",
       "    <tr>\n",
       "      <th>7</th>\n",
       "      <td>0.8</td>\n",
       "      <td>0.721245</td>\n",
       "    </tr>\n",
       "    <tr>\n",
       "      <th>8</th>\n",
       "      <td>0.9</td>\n",
       "      <td>0.725981</td>\n",
       "    </tr>\n",
       "  </tbody>\n",
       "</table>\n",
       "</div>"
      ],
      "text/plain": [
       "     P        F1\n",
       "0  0.1  0.128886\n",
       "1  0.2  0.479587\n",
       "2  0.3  0.570547\n",
       "3  0.4  0.681802\n",
       "4  0.5  0.693307\n",
       "5  0.6  0.713713\n",
       "6  0.7  0.705587\n",
       "7  0.8  0.721245\n",
       "8  0.9  0.725981"
      ]
     },
     "execution_count": 39,
     "metadata": {},
     "output_type": "execute_result"
    }
   ],
   "source": [
    "pd.DataFrame({\n",
    "    'P': P,\n",
    "    'F1': F1\n",
    "})"
   ]
  },
  {
   "cell_type": "markdown",
   "id": "a03a12e0",
   "metadata": {},
   "source": [
    "## качество модели при увеличении P улучшается"
   ]
  },
  {
   "cell_type": "code",
   "execution_count": null,
   "id": "e77c5a1e",
   "metadata": {},
   "outputs": [],
   "source": []
  },
  {
   "cell_type": "code",
   "execution_count": null,
   "id": "2df3b17e",
   "metadata": {},
   "outputs": [],
   "source": []
  },
  {
   "cell_type": "code",
   "execution_count": null,
   "id": "1c178764",
   "metadata": {},
   "outputs": [],
   "source": []
  }
 ],
 "metadata": {
  "kernelspec": {
   "display_name": "Python 3 (ipykernel)",
   "language": "python",
   "name": "python3"
  },
  "language_info": {
   "codemirror_mode": {
    "name": "ipython",
    "version": 3
   },
   "file_extension": ".py",
   "mimetype": "text/x-python",
   "name": "python",
   "nbconvert_exporter": "python",
   "pygments_lexer": "ipython3",
   "version": "3.9.7"
  }
 },
 "nbformat": 4,
 "nbformat_minor": 5
}
