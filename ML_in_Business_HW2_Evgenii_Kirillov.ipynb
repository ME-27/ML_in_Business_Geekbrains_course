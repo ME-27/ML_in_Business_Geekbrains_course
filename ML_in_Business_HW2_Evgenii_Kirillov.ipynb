{
 "cells": [
  {
   "cell_type": "code",
   "execution_count": null,
   "id": "b838c1fb",
   "metadata": {},
   "outputs": [],
   "source": []
  },
  {
   "cell_type": "markdown",
   "id": "e77ff86b",
   "metadata": {},
   "source": [
    "# Домашнее задание № 2"
   ]
  },
  {
   "cell_type": "markdown",
   "id": "22937181",
   "metadata": {},
   "source": [
    "## по дисциплине: Машинное обучение в бизнесе"
   ]
  },
  {
   "cell_type": "markdown",
   "id": "27d2798f",
   "metadata": {},
   "source": [
    "### выполнил: Евгений Кириллов"
   ]
  },
  {
   "cell_type": "code",
   "execution_count": null,
   "id": "5abeea34",
   "metadata": {},
   "outputs": [],
   "source": []
  },
  {
   "cell_type": "markdown",
   "id": "7b4b9526",
   "metadata": {},
   "source": [
    "### Домашнее задание"
   ]
  },
  {
   "cell_type": "markdown",
   "id": "2955e209",
   "metadata": {},
   "source": [
    "1. Самостоятельно разобраться с тем, что такое tfidf (документация https://scikit-learn.org/stable/modules/generated/sklearn.feature_extraction.text.TfidfVectorizer.html и еще - https://scikit-learn.org/stable/modules/feature_extraction.html#text-feature-extraction)\n",
    "2. Модифицировать код функции get_user_embedding таким образом, чтобы считалось не среднее (как в примере np.mean), а медиана. Применить такое преобразование к данным, обучить модель прогнозирования оттока и посчитать метрики качества и сохранить их: roc auc, precision/recall/f_score (для 3 последних - подобрать оптимальный порог с помощью precision_recall_curve, как это делалось на уроке)\n",
    "3. Повторить п.2, но используя уже не медиану, а max\n",
    "4. (опциональное) Воспользовавшись полученными знаниями из п.1, повторить пункт 2, но уже взвешивая новости по tfidf (подсказка: нужно получить веса-коэффициенты для каждого документа. Не все документы одинаково информативны и несут какой-то положительный сигнал). Подсказка 2 - нужен именно idf, как вес.\n",
    "5. Сформировать на выходе единую таблицу, сравнивающую качество 4 разных методов получения эмбедингов пользователей: mean, median, max, idf_mean по метрикам roc_auc, precision, recall, f_score\n",
    "6. Сделать самостоятельные выводы и предположения о том, почему тот или ной способ оказался эффективнее остальных"
   ]
  },
  {
   "cell_type": "code",
   "execution_count": null,
   "id": "d576f192",
   "metadata": {},
   "outputs": [],
   "source": []
  },
  {
   "cell_type": "code",
   "execution_count": 1,
   "id": "b46c9f1f",
   "metadata": {},
   "outputs": [],
   "source": [
    "# !pip install gensim\n",
    "# !pip install razdel\n",
    "# !pip install pymorphy2\n",
    "# !pip install nltk"
   ]
  },
  {
   "cell_type": "code",
   "execution_count": 2,
   "id": "12286dc5",
   "metadata": {},
   "outputs": [],
   "source": [
    "import pandas as pd\n",
    "import numpy as np\n",
    "\n",
    "import re\n",
    "import nltk  # required to download stopwords - nltk.download('stopwords')\n",
    "import pymorphy2  # required for normalization of words\n",
    "\n",
    "from nltk.corpus import stopwords  # required to upload stopwords\n",
    "from gensim.corpora.dictionary import Dictionary  # required to create dictionary\n",
    "from razdel import tokenize  # required to tokenize a text - transform them into a list of words"
   ]
  },
  {
   "cell_type": "markdown",
   "id": "e9096a98",
   "metadata": {},
   "source": [
    "### uploading dataframe of articles"
   ]
  },
  {
   "cell_type": "code",
   "execution_count": 3,
   "id": "bf763b96",
   "metadata": {},
   "outputs": [
    {
     "name": "stdout",
     "output_type": "stream",
     "text": [
      "(27000, 2)\n"
     ]
    },
    {
     "data": {
      "text/html": [
       "<div>\n",
       "<style scoped>\n",
       "    .dataframe tbody tr th:only-of-type {\n",
       "        vertical-align: middle;\n",
       "    }\n",
       "\n",
       "    .dataframe tbody tr th {\n",
       "        vertical-align: top;\n",
       "    }\n",
       "\n",
       "    .dataframe thead th {\n",
       "        text-align: right;\n",
       "    }\n",
       "</style>\n",
       "<table border=\"1\" class=\"dataframe\">\n",
       "  <thead>\n",
       "    <tr style=\"text-align: right;\">\n",
       "      <th></th>\n",
       "      <th>doc_id</th>\n",
       "      <th>title</th>\n",
       "    </tr>\n",
       "  </thead>\n",
       "  <tbody>\n",
       "    <tr>\n",
       "      <th>0</th>\n",
       "      <td>6</td>\n",
       "      <td>Заместитель председателяnправительства РФnСерг...</td>\n",
       "    </tr>\n",
       "    <tr>\n",
       "      <th>1</th>\n",
       "      <td>4896</td>\n",
       "      <td>Матч 1/16 финала Кубка России по футболу был п...</td>\n",
       "    </tr>\n",
       "    <tr>\n",
       "      <th>2</th>\n",
       "      <td>4897</td>\n",
       "      <td>Форвард «Авангарда» Томаш Заборский прокоммент...</td>\n",
       "    </tr>\n",
       "  </tbody>\n",
       "</table>\n",
       "</div>"
      ],
      "text/plain": [
       "   doc_id                                              title\n",
       "0       6  Заместитель председателяnправительства РФnСерг...\n",
       "1    4896  Матч 1/16 финала Кубка России по футболу был п...\n",
       "2    4897  Форвард «Авангарда» Томаш Заборский прокоммент..."
      ]
     },
     "execution_count": 3,
     "metadata": {},
     "output_type": "execute_result"
    }
   ],
   "source": [
    "news = pd.read_csv(\"lesson_2_profiling_user_LDA/materials.csv\")\n",
    "print(news.shape)\n",
    "news.head(3)"
   ]
  },
  {
   "cell_type": "markdown",
   "id": "25572023",
   "metadata": {},
   "source": [
    "### uploading dataframe of users"
   ]
  },
  {
   "cell_type": "code",
   "execution_count": 4,
   "id": "193b1af6",
   "metadata": {},
   "outputs": [
    {
     "name": "stdout",
     "output_type": "stream",
     "text": [
      "(8000, 2)\n"
     ]
    },
    {
     "data": {
      "text/html": [
       "<div>\n",
       "<style scoped>\n",
       "    .dataframe tbody tr th:only-of-type {\n",
       "        vertical-align: middle;\n",
       "    }\n",
       "\n",
       "    .dataframe tbody tr th {\n",
       "        vertical-align: top;\n",
       "    }\n",
       "\n",
       "    .dataframe thead th {\n",
       "        text-align: right;\n",
       "    }\n",
       "</style>\n",
       "<table border=\"1\" class=\"dataframe\">\n",
       "  <thead>\n",
       "    <tr style=\"text-align: right;\">\n",
       "      <th></th>\n",
       "      <th>uid</th>\n",
       "      <th>articles</th>\n",
       "    </tr>\n",
       "  </thead>\n",
       "  <tbody>\n",
       "    <tr>\n",
       "      <th>0</th>\n",
       "      <td>u105138</td>\n",
       "      <td>[293672, 293328, 293001, 293622, 293126, 1852]</td>\n",
       "    </tr>\n",
       "    <tr>\n",
       "      <th>1</th>\n",
       "      <td>u108690</td>\n",
       "      <td>[3405, 1739, 2972, 1158, 1599, 322665]</td>\n",
       "    </tr>\n",
       "    <tr>\n",
       "      <th>2</th>\n",
       "      <td>u108339</td>\n",
       "      <td>[1845, 2009, 2356, 1424, 2939, 323389]</td>\n",
       "    </tr>\n",
       "  </tbody>\n",
       "</table>\n",
       "</div>"
      ],
      "text/plain": [
       "       uid                                        articles\n",
       "0  u105138  [293672, 293328, 293001, 293622, 293126, 1852]\n",
       "1  u108690          [3405, 1739, 2972, 1158, 1599, 322665]\n",
       "2  u108339          [1845, 2009, 2356, 1424, 2939, 323389]"
      ]
     },
     "execution_count": 4,
     "metadata": {},
     "output_type": "execute_result"
    }
   ],
   "source": [
    "users = pd.read_csv(\"lesson_2_profiling_user_LDA/users_articles.csv\")\n",
    "print(users.shape)\n",
    "users.head(3)"
   ]
  },
  {
   "cell_type": "markdown",
   "id": "23867ba4",
   "metadata": {},
   "source": [
    "## PART 1 - Vectors of Articles"
   ]
  },
  {
   "cell_type": "markdown",
   "id": "42841b46",
   "metadata": {},
   "source": [
    "### downloading stopwords"
   ]
  },
  {
   "cell_type": "code",
   "execution_count": 5,
   "id": "4a847bf6",
   "metadata": {},
   "outputs": [
    {
     "name": "stderr",
     "output_type": "stream",
     "text": [
      "[nltk_data] Downloading package stopwords to\n",
      "[nltk_data]     C:\\Users\\fross\\AppData\\Roaming\\nltk_data...\n",
      "[nltk_data]   Package stopwords is already up-to-date!\n"
     ]
    },
    {
     "data": {
      "text/plain": [
       "True"
      ]
     },
     "execution_count": 5,
     "metadata": {},
     "output_type": "execute_result"
    }
   ],
   "source": [
    "nltk.download('stopwords')"
   ]
  },
  {
   "cell_type": "code",
   "execution_count": 6,
   "id": "2bf39ed1",
   "metadata": {},
   "outputs": [
    {
     "name": "stdout",
     "output_type": "stream",
     "text": [
      "['и', 'в', 'во', 'не', 'что', 'он', 'на', 'я', 'с', 'со']\n",
      "151\n"
     ]
    }
   ],
   "source": [
    "stopword_ru = stopwords.words('russian')\n",
    "print(stopword_ru[:10])\n",
    "print(len(stopword_ru))"
   ]
  },
  {
   "cell_type": "markdown",
   "id": "0766e39f",
   "metadata": {},
   "source": [
    "### adding additional stopwards from file"
   ]
  },
  {
   "cell_type": "code",
   "execution_count": 7,
   "id": "aac8e9ea",
   "metadata": {},
   "outputs": [
    {
     "name": "stdout",
     "output_type": "stream",
     "text": [
      "['сообщает_риа_\"новости\"', 'передает_риа_\"новости\"', 'понедельник', 'вторник', 'среда', 'четверг', 'пятница', 'суббота', 'воскресенье', 'сообщил_журналист']\n"
     ]
    },
    {
     "data": {
      "text/plain": [
       "415"
      ]
     },
     "execution_count": 7,
     "metadata": {},
     "output_type": "execute_result"
    }
   ],
   "source": [
    "with open('lesson_2_profiling_user_LDA/stopwords_additional_russian.txt', encoding=\"utf8\") as f:\n",
    "    additional_stopwords = [w.strip() for w in f.readlines() if w]\n",
    "stopword_ru += additional_stopwords\n",
    "print(stopword_ru[-10:])\n",
    "len(stopword_ru)"
   ]
  },
  {
   "cell_type": "markdown",
   "id": "3de36cc9",
   "metadata": {},
   "source": [
    "### function to clean a text from special symbols"
   ]
  },
  {
   "cell_type": "code",
   "execution_count": 8,
   "id": "57ea0bfd",
   "metadata": {},
   "outputs": [],
   "source": [
    "def clean_text(text):\n",
    "    '''\n",
    "    очистка текста\n",
    "    на выходе очищеный текст\n",
    "    '''\n",
    "    \n",
    "    if not isinstance(text, str):\n",
    "        text = str(text)\n",
    "    \n",
    "    text = text.lower()\n",
    "    text = text.strip('\\n').strip('\\r').strip('\\t')\n",
    "    text = re.sub(\"-\\s\\r\\n\\|-\\s\\r\\n|\\r\\n\", '', str(text))\n",
    "\n",
    "    text = re.sub(\"[0-9]|[-—.,:;_%©«»?*!@#№$^'•·&()]|[+=]|[[]|[]]|[/]|\", '', text)\n",
    "    text = re.sub(r\"\\r\\n\\t|\\n|\\\\s|\\r\\t|\\\\n\", ' ', text)\n",
    "    text = re.sub(r'[\\xad]|[\\s+]', ' ', text.strip())\n",
    "    \n",
    "    return text"
   ]
  },
  {
   "cell_type": "markdown",
   "id": "4b4c51ec",
   "metadata": {},
   "source": [
    "#### demostration of how 'clean_text' works"
   ]
  },
  {
   "cell_type": "code",
   "execution_count": 9,
   "id": "a36cb69b",
   "metadata": {},
   "outputs": [
    {
     "name": "stderr",
     "output_type": "stream",
     "text": [
      "C:\\Users\\fross\\AppData\\Local\\Temp/ipykernel_4596/813516641.py:14: FutureWarning: Possible nested set at position 40\n",
      "  text = re.sub(\"[0-9]|[-—.,:;_%©«»?*!@#№$^'•·&()]|[+=]|[[]|[]]|[/]|\", '', text)\n"
     ]
    },
    {
     "data": {
      "text/plain": [
       "'i like  pineapples'"
      ]
     },
     "execution_count": 9,
     "metadata": {},
     "output_type": "execute_result"
    }
   ],
   "source": [
    "clean_text('\\n-I like 44 *pineapples!-')"
   ]
  },
  {
   "cell_type": "markdown",
   "id": "f9e7ca7e",
   "metadata": {},
   "source": [
    "### function to transform a text into tokenized list of words in their normal form"
   ]
  },
  {
   "cell_type": "code",
   "execution_count": 10,
   "id": "abcd8cad",
   "metadata": {},
   "outputs": [],
   "source": [
    "cache = {}\n",
    "morph = pymorphy2.MorphAnalyzer()\n",
    "def lemmatization(text):\n",
    "    '''\n",
    "    the function is required to transform a text/article into a list of words in their normal form\n",
    "        [0] changing of type to `str` if not `str`\n",
    "        [1] tokenization with razdel\n",
    "        [2] checking whether a word starts with '-'\n",
    "        [3] checking whether there is more than one symbol in a word\n",
    "        [4] checking whether a word is in cashe\n",
    "        [5] lemmatization of word - bringing it into its normal form\n",
    "        [6] throwing out stopwords from final list of words\n",
    "    '''\n",
    "    \n",
    "    # [0]\n",
    "    if not isinstance(text, str):\n",
    "        text = str(text)\n",
    "    \n",
    "    # [1]\n",
    "    tokens = list(tokenize(text))\n",
    "    words = [_.text for _ in tokens]\n",
    "\n",
    "    words_lem = []\n",
    "    for w in words:\n",
    "        if w[0] == '-': # [2]\n",
    "            w = w[1:]\n",
    "        if len(w) > 1: # [3]\n",
    "            if w in cache: # [4]\n",
    "                words_lem.append(cache[w])\n",
    "            else: # [5]\n",
    "                temp_cach = cache[w] = morph.parse(w)[0].normal_form\n",
    "                words_lem.append(temp_cach)\n",
    "    \n",
    "    words_lem_without_stopwords = [i for i in words_lem if not i in stopword_ru] # [6]\n",
    "    \n",
    "    return words_lem_without_stopwords"
   ]
  },
  {
   "cell_type": "markdown",
   "id": "a13b5cb0",
   "metadata": {},
   "source": [
    "#### demonstration of how pymorphy2.MorphAnalyzer().parse('...') works"
   ]
  },
  {
   "cell_type": "code",
   "execution_count": 11,
   "id": "8e3c2856",
   "metadata": {},
   "outputs": [
    {
     "data": {
      "text/plain": [
       "[Parse(word='играл', tag=OpencorporaTag('VERB,impf,tran masc,sing,past,indc'), normal_form='играть', score=1.0, methods_stack=((DictionaryAnalyzer(), 'играл', 1694, 7),))]"
      ]
     },
     "execution_count": 11,
     "metadata": {},
     "output_type": "execute_result"
    }
   ],
   "source": [
    "pymorphy2.MorphAnalyzer().parse('играл')"
   ]
  },
  {
   "cell_type": "code",
   "execution_count": 12,
   "id": "ed5a0681",
   "metadata": {},
   "outputs": [
    {
     "data": {
      "text/plain": [
       "'играть'"
      ]
     },
     "execution_count": 12,
     "metadata": {},
     "output_type": "execute_result"
    }
   ],
   "source": [
    "pymorphy2.MorphAnalyzer().parse('играл')[0].normal_form"
   ]
  },
  {
   "cell_type": "markdown",
   "id": "fffdb593",
   "metadata": {},
   "source": [
    "#### demonstration of how 'tokenize' (razdel.tokenize) works"
   ]
  },
  {
   "cell_type": "code",
   "execution_count": 13,
   "id": "963a486e",
   "metadata": {},
   "outputs": [
    {
     "data": {
      "text/plain": [
       "[Substring(0, 4, 'Мама'), Substring(5, 9, 'мыла'), Substring(10, 14, 'раму')]"
      ]
     },
     "execution_count": 13,
     "metadata": {},
     "output_type": "execute_result"
    }
   ],
   "source": [
    "[_ for _ in tokenize('Мама мыла раму')]"
   ]
  },
  {
   "cell_type": "code",
   "execution_count": 14,
   "id": "24ce5d7d",
   "metadata": {},
   "outputs": [
    {
     "data": {
      "text/plain": [
       "['Мама', 'мыла', 'раму']"
      ]
     },
     "execution_count": 14,
     "metadata": {},
     "output_type": "execute_result"
    }
   ],
   "source": [
    "[_.text for _ in tokenize('Мама мыла раму')]"
   ]
  },
  {
   "cell_type": "markdown",
   "id": "f8d8dc6b",
   "metadata": {},
   "source": [
    "#### demonstration of how 'lemmatization' works"
   ]
  },
  {
   "cell_type": "code",
   "execution_count": 15,
   "id": "a52da26e",
   "metadata": {},
   "outputs": [
    {
     "data": {
      "text/plain": [
       "['мама', 'мыло', 'рама']"
      ]
     },
     "execution_count": 15,
     "metadata": {},
     "output_type": "execute_result"
    }
   ],
   "source": [
    "lemmatization('Мама мыла раму')"
   ]
  },
  {
   "cell_type": "markdown",
   "id": "1e7468b3",
   "metadata": {},
   "source": [
    "### let's start 'clean_text', it is going to take some time..."
   ]
  },
  {
   "cell_type": "code",
   "execution_count": 16,
   "id": "e8f7560c",
   "metadata": {},
   "outputs": [
    {
     "name": "stdout",
     "output_type": "stream",
     "text": [
      "Футбольный клуб «Анжи» объявил об усилении тренерского штаба команды, об этом сообщаетnофициальный сайтnмахачкалинцев.nПомогать главному тренеру, Гусу Хиддинку, в тренировочном процессе призваны бывший сотрудник «Манчестер Юнайтед» Рене Меленстен (бывший помощник Алекса Фергюсона) и Хасанби Биджиев.nОба тренера имеют тренерскую категорию PRO. При этом Биджиев продолжит исполнение функций спортивного директора нашего клуба.nВ свою очередь медицинское подразделение штаба пополнят такие специалисты как массажист-терапевт Денни Флиттер (Великобритания, «Арсенал» Лондон), физиотерапевт Доминик Роган (Великобритания, «Эвертон»), тренер по физической подготовке Эдуардо Парра Гарсия (Испания, «Интер» Милан, «Ливерпуль»), специалист по спортивной науке Уорд Дирикс (Бельгия, «Гент»), массажист-терапевт Уильям Стори (Великобритания, «Вест Хэм») и тренер по физподготовке Брэм Суиннинен (Бельгия, БК «Химки»).\n"
     ]
    }
   ],
   "source": [
    "print(news['title'][88])  # before"
   ]
  },
  {
   "cell_type": "code",
   "execution_count": 17,
   "id": "03c60019",
   "metadata": {},
   "outputs": [
    {
     "name": "stdout",
     "output_type": "stream",
     "text": [
      "Wall time: 22.4 s\n"
     ]
    }
   ],
   "source": [
    "%%time\n",
    "news['title'] = news['title'].apply(lambda x: clean_text(x), 1)"
   ]
  },
  {
   "cell_type": "code",
   "execution_count": 18,
   "id": "18c42572",
   "metadata": {},
   "outputs": [
    {
     "name": "stdout",
     "output_type": "stream",
     "text": [
      "футбольный клуб анжи объявил об усилении тренерского штаба команды об этом сообщаетnофициальный сайтnмахачкалинцевnпомогать главному тренеру гусу хиддинку в тренировочном процессе призваны бывший сотрудник манчестер юнайтед рене меленстен бывший помощник алекса фергюсона и хасанби биджиевnоба тренера имеют тренерскую категорию pro при этом биджиев продолжит исполнение функций спортивного директора нашего клубаnв свою очередь медицинское подразделение штаба пополнят такие специалисты как массажисттерапевт денни флиттер великобритания арсенал лондон физиотерапевт доминик роган великобритания эвертон тренер по физической подготовке эдуардо парра гарсия испания интер милан ливерпуль специалист по спортивной науке уорд дирикс бельгия гент массажисттерапевт уильям стори великобритания вест хэм и тренер по физподготовке брэм суиннинен бельгия бк химки\n"
     ]
    }
   ],
   "source": [
    "print(news['title'][88])  # after"
   ]
  },
  {
   "cell_type": "markdown",
   "id": "6254fa7f",
   "metadata": {},
   "source": [
    "### let's start 'lemmatization', it is going to take long time..."
   ]
  },
  {
   "cell_type": "code",
   "execution_count": 19,
   "id": "a8c6c724",
   "metadata": {},
   "outputs": [
    {
     "name": "stdout",
     "output_type": "stream",
     "text": [
      "футбольный клуб анжи объявил об усилении тренерского штаба команды об этом сообщаетnофициальный сайтnмахачкалинцевnпомогать главному тренеру гусу хиддинку в тренировочном процессе призваны бывший сотрудник манчестер юнайтед рене меленстен бывший помощник алекса фергюсона и хасанби биджиевnоба тренера имеют тренерскую категорию pro при этом биджиев продолжит исполнение функций спортивного директора нашего клубаnв свою очередь медицинское подразделение штаба пополнят такие специалисты как массажисттерапевт денни флиттер великобритания арсенал лондон физиотерапевт доминик роган великобритания эвертон тренер по физической подготовке эдуардо парра гарсия испания интер милан ливерпуль специалист по спортивной науке уорд дирикс бельгия гент массажисттерапевт уильям стори великобритания вест хэм и тренер по физподготовке брэм суиннинен бельгия бк химки\n"
     ]
    }
   ],
   "source": [
    "print(news['title'][88])  # before"
   ]
  },
  {
   "cell_type": "code",
   "execution_count": 20,
   "id": "026d1901",
   "metadata": {},
   "outputs": [
    {
     "name": "stdout",
     "output_type": "stream",
     "text": [
      "Wall time: 2min 31s\n"
     ]
    }
   ],
   "source": [
    "%%time\n",
    "news['title'] = news['title'].apply(lambda x: lemmatization(x), 1)"
   ]
  },
  {
   "cell_type": "code",
   "execution_count": 21,
   "id": "aff6596f",
   "metadata": {},
   "outputs": [
    {
     "name": "stdout",
     "output_type": "stream",
     "text": [
      "['футбольный', 'клуб', 'анжи', 'объявить', 'усиление', 'тренерский', 'штаб', 'команда', 'официальный', 'сайт', 'махачкалинец', 'помогать', 'главный', 'тренер', 'гуса', 'хиддинк', 'тренировочный', 'процесс', 'призвать', 'бывший', 'сотрудник', 'манчестер', 'юнайтед', 'рен', 'меленстен', 'бывший', 'помощник', 'алекс', 'фергюсон', 'хасанби', 'биджиев', 'оба', 'тренер', 'иметь', 'тренерский', 'категория', 'pro', 'биджиев', 'продолжить', 'исполнение', 'функция', 'спортивный', 'директор', 'клуб', 'очередь', 'медицинский', 'подразделение', 'штаб', 'пополнить', 'специалист', 'массажисттерапевт', 'денни', 'флиттереть', 'великобритания', 'арсенал', 'лондон', 'физиотерапевт', 'доминик', 'рогать', 'великобритания', 'эвертон', 'тренер', 'физический', 'подготовка', 'эдуардо', 'парра', 'гарсия', 'испания', 'интер', 'милан', 'ливерпуль', 'специалист', 'спортивный', 'наука', 'уорд', 'дирикс', 'бельгия', 'гент', 'массажисттерапевт', 'уильям', 'стори', 'великобритания', 'вест', 'хэм', 'тренер', 'физподготовка', 'брэм', 'суиннинный', 'бельгия', 'бк', 'химки']\n"
     ]
    }
   ],
   "source": [
    "print(news['title'][88])  # after"
   ]
  },
  {
   "cell_type": "markdown",
   "id": "a3edec04",
   "metadata": {},
   "source": [
    "### let's create corpus - a list of 'bag of words' sparse matrixes, each of which corresponds to a news"
   ]
  },
  {
   "cell_type": "code",
   "execution_count": 22,
   "id": "b04d0268",
   "metadata": {},
   "outputs": [],
   "source": [
    "# creation of list of texts (texts are lists of cleanded and lemmatized words)\n",
    "texts = [_ for _ in news['title'].values]  # 'texts' is to be a list of lists of tokenized and lemmatized words\n",
    "\n",
    "# creation of a corpus from a list of texts\n",
    "common_dictionary = Dictionary(texts)  # creation of 'common_dictionary' - the list of all words in all documents;\n",
    "                                       # words are normalized and stopwords are not included\n",
    "common_corpus = [common_dictionary.doc2bow(_) for _ in texts]  # creation of 'common_corpus' - the list of all texts;\n",
    "                                                                     # texts are in form of 'bag of words' sparse matrix"
   ]
  },
  {
   "cell_type": "code",
   "execution_count": 23,
   "id": "1cc0c161",
   "metadata": {},
   "outputs": [
    {
     "name": "stdout",
     "output_type": "stream",
     "text": [
      "алексей \n",
      "\n",
      "эсенбог \n",
      "\n",
      "141570 \n",
      "\n",
      "[(92, 2), (93, 1), (94, 1), (95, 1), (96, 1), (97, 2), (98, 1), (99, 1), (100, 1), (101, 1), (102, 1), (103, 1), (104, 3), (105, 1), (106, 1), (107, 1), (108, 1), (109, 1), (110, 1), (111, 1), (112, 1), (113, 3), (114, 1), (115, 1), (116, 1), (117, 1), (118, 1), (119, 2), (120, 1), (121, 1), (122, 1), (123, 1), (124, 1)] \n",
      "\n",
      "27000 27000\n"
     ]
    }
   ],
   "source": [
    "print(common_dictionary[2], '\\n')\n",
    "print(common_dictionary[110111], '\\n')\n",
    "print(len(common_dictionary), '\\n')\n",
    "\n",
    "print(common_corpus[1], '\\n')  # article#1 in form of bag of words' sparse matrix\n",
    "print(len(common_corpus), news['title'].shape[0])"
   ]
  },
  {
   "cell_type": "markdown",
   "id": "4de412da",
   "metadata": {},
   "source": [
    "### setting our main hyperparameter - number of topics"
   ]
  },
  {
   "cell_type": "code",
   "execution_count": 24,
   "id": "65520288",
   "metadata": {},
   "outputs": [],
   "source": [
    "# N_topic = 25  # number of topics - hyperparameter; it can be tuned to improve performance\n",
    "N_topic = 100  # number of topics - hyperparameter; it can be tuned to improve performance"
   ]
  },
  {
   "cell_type": "markdown",
   "id": "b6fc94fd",
   "metadata": {},
   "source": [
    "### fitting our LdaModel"
   ]
  },
  {
   "cell_type": "code",
   "execution_count": 25,
   "id": "845f7497",
   "metadata": {},
   "outputs": [],
   "source": [
    "from gensim.models import LdaModel"
   ]
  },
  {
   "cell_type": "code",
   "execution_count": 26,
   "id": "caec7b72",
   "metadata": {},
   "outputs": [
    {
     "name": "stdout",
     "output_type": "stream",
     "text": [
      "Wall time: 30min\n"
     ]
    }
   ],
   "source": [
    "%%time\n",
    "lda = LdaModel(corpus=common_corpus,  # corpus param is fed with the list of all texts; texts are 'bag of words' sparse matrixes\n",
    "               num_topics=N_topic,  # number of topics\n",
    "               id2word=common_dictionary,  # id2word is fed with the dictionary of all words, so that the model may\n",
    "                                           # convert incoming texts into words' ids and define topics' probabilities related\n",
    "               passes=20)"
   ]
  },
  {
   "cell_type": "markdown",
   "id": "267d338d",
   "metadata": {},
   "source": [
    "### saving and loading the model"
   ]
  },
  {
   "cell_type": "code",
   "execution_count": 27,
   "id": "44a592fa",
   "metadata": {},
   "outputs": [],
   "source": [
    "# saving the model\n",
    "# lda.save(\"model.lda\")\n",
    "\n",
    "# loading the model\n",
    "# lda = LdaModel.load(\"model.lda\")"
   ]
  },
  {
   "cell_type": "markdown",
   "id": "10e6b913",
   "metadata": {},
   "source": [
    "#### demonstration of what LdaModel does"
   ]
  },
  {
   "cell_type": "code",
   "execution_count": 28,
   "id": "d1464a4e",
   "metadata": {},
   "outputs": [
    {
     "name": "stdout",
     "output_type": "stream",
     "text": [
      "['форвард', 'авангард', 'томаш', 'заборский', 'прокомментировать', 'игра', 'команда', 'матч', 'чемпионат', 'кхл', 'против', 'атланта', 'nnnn', 'плохой', 'матч', 'нижний', 'новгород', 'против', 'торпедо', 'настраиваться', 'первый', 'минута', 'включиться', 'заборский', 'получиться', 'забросить', 'быстрый', 'гол', 'задать', 'хороший', 'темп', 'поединок', 'играть', 'хороший', 'сторона', 'пять', 'очко', 'выезд', 'девять', 'хороший'] \n",
      "\n",
      "[(48, 1), (100, 1), (104, 2), (105, 1), (116, 1), (125, 1), (126, 1), (127, 1), (128, 1), (129, 1), (130, 1), (131, 1), (132, 1), (133, 2), (134, 1), (135, 1), (136, 1), (137, 1), (138, 1), (139, 1), (140, 1), (141, 1), (142, 1), (143, 1), (144, 1), (145, 1), (146, 1), (147, 2), (148, 1), (149, 1), (150, 1), (151, 1), (152, 1), (153, 3), (154, 1)] \n",
      "\n",
      "[(2, 0.025903475), (3, 0.026739819), (8, 0.03323719), (18, 0.026491338), (33, 0.026469134), (37, 0.051790442), (38, 0.022446366), (41, 0.023510017), (51, 0.06901089), (55, 0.029821845), (56, 0.39609653), (57, 0.11181168), (78, 0.05159068), (87, 0.031067552), (96, 0.05219398)]\n"
     ]
    }
   ],
   "source": [
    "# let's take first 10 tokenized texts/articles and presume that our lda-model hasn't seen them\n",
    "other_texts = [t for t in news['title'].iloc[:10]]\n",
    "\n",
    "# let's convert these 10 tokenized texts/articles into sparse matrixes with 'bag of words' method of our gensim Dictionary\n",
    "other_corpus = [common_dictionary.doc2bow(text) for text in other_texts]\n",
    "\n",
    "print(other_texts[2], '\\n')\n",
    "print(other_corpus[2], '\\n')\n",
    "\n",
    "# let's put one of these sparse matrices into our LdaModel to get topics' probabilities\n",
    "print(lda[other_corpus[2]])"
   ]
  },
  {
   "cell_type": "markdown",
   "id": "d21347f9",
   "metadata": {},
   "source": [
    "### let's describe each topic our LdaModel created with 7 words"
   ]
  },
  {
   "cell_type": "code",
   "execution_count": 29,
   "id": "215b729d",
   "metadata": {},
   "outputs": [
    {
     "name": "stdout",
     "output_type": "stream",
     "text": [
      "topic_0: сотрудник область задержать расследование служба уголовный препарат\n",
      "topic_1: рак письмо запустить берег написать дата левый\n",
      "topic_2: сравнение упасть километр летать лететь лагерь мск\n",
      "topic_3: форум немецкий предложение бизнес идея автор труд\n",
      "topic_4: млн млрд тыс стоимость около сумма составлять\n",
      "topic_5: восток фотография дальний твиттер латвия взлёт компенсировать\n",
      "topic_6: газета ru центр всё часть управление станция\n",
      "topic_7: школа океан пол кожа открыться итальянский отражать\n",
      "topic_8: ракета испытание противник боевой старт первый цель\n",
      "topic_9: индия азия греческий вероятно недостаточно калифорния сегмент\n",
      "topic_10: палата живой елена екатерина регистрация ирина остаток\n",
      "topic_11: день температура экипаж аэропорт двигатель москва скорость\n",
      "topic_12: рынок большой развитие первый программа проблема последний\n",
      "topic_13: проверка социальный влиять средний поведение административный форма\n",
      "topic_14: миссия вклад традиционный характерный родиться орден офис\n",
      "topic_15: день британский великобритания фон ожидаться лондон новый\n",
      "topic_16: космос работник сбить стрельба отменить опасаться стандарт\n",
      "topic_17: женщина мужчина семья летний жизнь отец девушка\n",
      "topic_18: возраст молодой публикация испания лауреат звание испанский\n",
      "topic_19: проект фонд бюджет строительство реформа развитие поддержка\n",
      "topic_20: место штат рейтинг иран первый канал тур\n",
      "topic_21: экономика экономический риск повышение расход способствовать мировой\n",
      "topic_22: ребёнок помощь обнаружить найти данные врач состояние\n",
      "topic_23: выяснить специальный учреждение структура гора способность реальный\n",
      "topic_24: объект автор удар звезда язык опубликовать нанести\n",
      "topic_25: академия николай исторический последствие старый считаться озеро\n",
      "topic_26: система новый создание комплекс создать разработка центр\n",
      "topic_27: армия оборона красный штаб якобы кампания удар\n",
      "topic_28: регион доход правительство вырасти объём область федеральный\n",
      "topic_29: долг топливо снизить снизиться дефицит нагрузка полоса\n",
      "topic_30: остров оборудование японский япония годовой рт японец\n",
      "topic_31: рейс знаменитый превысить перевод образоваться дополнительно заключать\n",
      "topic_32: близость турок разойтись везти волга невероятный дмитриев\n",
      "topic_33: фильм программа сезон площадка выходной зритель известный\n",
      "topic_34: санкция соглашение сделка актив контракт деньга финансовый\n",
      "topic_35: nn писать источник ссылка заявление глава новый\n",
      "topic_36: день московский праздник москва конкурс nn представить\n",
      "topic_37: рост цена уровень расти показатель высокий ниже\n",
      "topic_38: тыс час км маршрут около минута су\n",
      "topic_39: название туризм градус немец резерв водитель диск\n",
      "topic_40: мозг болезнь обращение определение испытывать ложный алексеев\n",
      "topic_41: страдать государство предполагаться лодка ирак прямой терминал\n",
      "topic_42: документ срок лицо свобода преступление заседание наказание\n",
      "topic_43: произойти тело местный инцидент причина спустя место\n",
      "topic_44: поездка транспорт железнодорожный берлин советовать отправиться антонов\n",
      "topic_45: участник мероприятие участие сайт nn фестиваль организатор\n",
      "topic_46: nn nnn пострадать район автомобиль авария происшествие\n",
      "topic_47: клиент вскоре реакция устойчивый агент реальность негативный\n",
      "topic_48: германия польша австралия франция канада великобритания европа\n",
      "topic_49: гражданин дом житель белый народный вицепремьер фронт\n",
      "topic_50: ставка чёрный пётр пообещать грунт орудие минский\n",
      "topic_51: погибнуть восточный нападение провинция среди снежный восемь\n",
      "topic_52: губернатор передать мэр вино фрагмент куба сложность\n",
      "topic_53: убийство заключение назначить донецк исполниться тимур гвоздь\n",
      "topic_54: смерть производитель организм трагедия век миллиард одежда\n",
      "topic_55: запуск террорист завод боевик кризис атака операция\n",
      "topic_56: поток команда погода клуб выдать необычный игра\n",
      "topic_57: хороший констатировать минск подсчитать проявление лишиться длинный\n",
      "topic_58: газ европа европейский солнце блок ночью парк\n",
      "topic_59: украинский территория телеканал билет интерфакс добавить подчёркивать\n",
      "topic_60: наука конфликт ночь подразделение вывести сценарий дешёвый\n",
      "topic_61: статья использование наиболее ст правило пространство нарушение\n",
      "topic_62: россиянин снижение прогноз падение данные доклад месяц\n",
      "topic_63: рубль размер реальный запрет мвд тысяча получение\n",
      "topic_64: власть решение закон принять право депутат мера\n",
      "topic_65: иностранный тема президентский звонок новак всемирный битва\n",
      "topic_66: украина киев белоруссия донбасс киевский республика сторона\n",
      "topic_67: пенсия небо балл бесплатный таиланд канадский пролететь\n",
      "topic_68: финансирование предмет выделить частный бумага учебный пропасть\n",
      "topic_69: израиль израильский италия эстония прочий норвегия литва\n",
      "topic_70: исследование вывод родитель дать изучить катастрофа лаборатория\n",
      "topic_71: партия правительство национальный парламент рекомендовать грузия лидер\n",
      "topic_72: сведение ближний сибирь индонезия спать обследование новосибирский\n",
      "topic_73: ситуация вопрос рф министр подчеркнуть всё район\n",
      "topic_74: республика the кремль чечня пережить грозный чеченский\n",
      "topic_75: военный сила действие территория пациент база часть\n",
      "topic_76: эксперт университет студент физика учиться паника химия\n",
      "topic_77: новость риа следствие москва орган обвинение следователь\n",
      "topic_78: дональд санктпетербург критика нижний советник лесной новгород\n",
      "topic_79: научный иметь высокий использовать современный вид мир\n",
      "topic_80: банк директор россия александр рф сергей совет\n",
      "topic_81: министерство спрос культура потребность гореть австралийский воспоминание\n",
      "topic_82: вода товар теория саммит ассоциация правовой ньюйорк\n",
      "topic_83: всё очень жить друг жизнь большой сделать\n",
      "topic_84: операция карта дождь порт сочи столичный единица\n",
      "topic_85: планета установить рекорд горизонт максимальный препятствие cnnn\n",
      "topic_86: улица выборы голосование воскресение седьмой вмешательство поддержать\n",
      "topic_87: сша американский китай доллар турция турецкий китайский\n",
      "topic_88: северный южный корея боль ким палец ми\n",
      "topic_89: земля журнал свет память крыло армения заявка\n",
      "topic_90: модель белорусский тенденция выпуск выражение концепция кирилл\n",
      "topic_91: технология граница век совместный вирус содержать линия\n",
      "topic_92: ввести связанный законодательство денежный функция широкий производить\n",
      "topic_93: советский ссср общество великий история отечественный мировой\n",
      "topic_94: поверхность французский франция гость питание миллиардер краснодарский\n",
      "topic_95: россия российский население международный сторона договор сотрудничество\n",
      "topic_96: девочка золото золотой кг рождение вес расширить\n",
      "topic_97: агентство рада треть закрытый медик странный дворец\n",
      "topic_98: путин владимир россия глава государство москва nn\n",
      "topic_99: курс лечение иск офицер компенсация вуз подать\n"
     ]
    }
   ],
   "source": [
    "x = lda.show_topics(num_topics=N_topic, num_words=7, formatted=False)\n",
    "topics_words = [(tp[0], [wd[0] for wd in tp[1]]) for tp in x]\n",
    "\n",
    "for topic, words in topics_words:\n",
    "    print(f'topic_{topic}: {\" \".join(words)}')"
   ]
  },
  {
   "cell_type": "markdown",
   "id": "9c971ed5",
   "metadata": {},
   "source": [
    "### function to to transform a tokenized text into array of topics' probabilities"
   ]
  },
  {
   "cell_type": "code",
   "execution_count": 30,
   "id": "cdde4a99",
   "metadata": {},
   "outputs": [],
   "source": [
    "def get_lda_vector(text):\n",
    "    unseen_doc = common_dictionary.doc2bow(text)\n",
    "    lda_tuple = lda[unseen_doc]\n",
    "    not_null_topics = dict(zip([i[0] for i in lda_tuple], [i[1] for i in lda_tuple]))\n",
    "\n",
    "    output_vector = []\n",
    "    for i in range(N_topic):\n",
    "        if i not in not_null_topics:\n",
    "            output_vector.append(0)\n",
    "        else:\n",
    "            output_vector.append(not_null_topics[i])\n",
    "    return np.array(output_vector)"
   ]
  },
  {
   "cell_type": "markdown",
   "id": "fb979e8b",
   "metadata": {},
   "source": [
    "#### demonstration of what get_lda_vector does"
   ]
  },
  {
   "cell_type": "code",
   "execution_count": 31,
   "id": "3ceb640b",
   "metadata": {},
   "outputs": [
    {
     "name": "stdout",
     "output_type": "stream",
     "text": [
      "['матч', 'финал', 'кубок', 'россия', 'футбол', 'приостановить', 'судья', 'изз', 'взрыв', 'пиротехнический', 'снаряд', 'передавать', 'корреспондент', 'газета', 'ru', 'болельщик', 'выбросить', 'поле', 'петарда', 'судья', 'увести', 'команда', 'поле', 'подтрибунный', 'помещение', 'динамовец', 'уйти', 'торпедовец', 'остаться', 'кромка', 'поле', 'матч', 'остановить', 'пять', 'минута', 'газета', 'ru', 'вести', 'онлайнтрансляция', 'матч']\n"
     ]
    }
   ],
   "source": [
    "print(news['title'].values[1])"
   ]
  },
  {
   "cell_type": "code",
   "execution_count": 32,
   "id": "d605f375",
   "metadata": {},
   "outputs": [
    {
     "data": {
      "text/plain": [
       "array([0.        , 0.        , 0.        , 0.        , 0.        ,\n",
       "       0.        , 0.57849669, 0.        , 0.        , 0.        ,\n",
       "       0.        , 0.        , 0.        , 0.        , 0.        ,\n",
       "       0.        , 0.        , 0.        , 0.        , 0.        ,\n",
       "       0.        , 0.        , 0.        , 0.        , 0.        ,\n",
       "       0.        , 0.        , 0.        , 0.        , 0.        ,\n",
       "       0.        , 0.        , 0.        , 0.        , 0.        ,\n",
       "       0.        , 0.        , 0.        , 0.0226203 , 0.        ,\n",
       "       0.        , 0.        , 0.05375262, 0.        , 0.        ,\n",
       "       0.        , 0.        , 0.        , 0.        , 0.        ,\n",
       "       0.        , 0.        , 0.        , 0.        , 0.        ,\n",
       "       0.        , 0.31985891, 0.        , 0.        , 0.        ,\n",
       "       0.        , 0.        , 0.        , 0.        , 0.        ,\n",
       "       0.        , 0.        , 0.        , 0.        , 0.        ,\n",
       "       0.        , 0.        , 0.        , 0.        , 0.        ,\n",
       "       0.        , 0.        , 0.        , 0.        , 0.        ,\n",
       "       0.        , 0.        , 0.        , 0.        , 0.        ,\n",
       "       0.        , 0.        , 0.        , 0.        , 0.        ,\n",
       "       0.        , 0.        , 0.        , 0.        , 0.        ,\n",
       "       0.        , 0.        , 0.        , 0.        , 0.        ])"
      ]
     },
     "execution_count": 32,
     "metadata": {},
     "output_type": "execute_result"
    }
   ],
   "source": [
    "get_lda_vector(news['title'].values[1])"
   ]
  },
  {
   "cell_type": "markdown",
   "id": "895b84e1",
   "metadata": {},
   "source": [
    "### creation of documents' ids/topics' probabilities dataframe"
   ]
  },
  {
   "cell_type": "code",
   "execution_count": 33,
   "id": "d5510676",
   "metadata": {},
   "outputs": [
    {
     "data": {
      "text/html": [
       "<div>\n",
       "<style scoped>\n",
       "    .dataframe tbody tr th:only-of-type {\n",
       "        vertical-align: middle;\n",
       "    }\n",
       "\n",
       "    .dataframe tbody tr th {\n",
       "        vertical-align: top;\n",
       "    }\n",
       "\n",
       "    .dataframe thead th {\n",
       "        text-align: right;\n",
       "    }\n",
       "</style>\n",
       "<table border=\"1\" class=\"dataframe\">\n",
       "  <thead>\n",
       "    <tr style=\"text-align: right;\">\n",
       "      <th></th>\n",
       "      <th>doc_id</th>\n",
       "      <th>topic_0</th>\n",
       "      <th>topic_1</th>\n",
       "      <th>topic_2</th>\n",
       "      <th>topic_3</th>\n",
       "      <th>topic_4</th>\n",
       "      <th>topic_5</th>\n",
       "      <th>topic_6</th>\n",
       "      <th>topic_7</th>\n",
       "      <th>topic_8</th>\n",
       "      <th>...</th>\n",
       "      <th>topic_90</th>\n",
       "      <th>topic_91</th>\n",
       "      <th>topic_92</th>\n",
       "      <th>topic_93</th>\n",
       "      <th>topic_94</th>\n",
       "      <th>topic_95</th>\n",
       "      <th>topic_96</th>\n",
       "      <th>topic_97</th>\n",
       "      <th>topic_98</th>\n",
       "      <th>topic_99</th>\n",
       "    </tr>\n",
       "  </thead>\n",
       "  <tbody>\n",
       "    <tr>\n",
       "      <th>0</th>\n",
       "      <td>6</td>\n",
       "      <td>0.0</td>\n",
       "      <td>0.0</td>\n",
       "      <td>0.0</td>\n",
       "      <td>0.000000</td>\n",
       "      <td>0.0</td>\n",
       "      <td>0.0</td>\n",
       "      <td>0.000000</td>\n",
       "      <td>0.0</td>\n",
       "      <td>0.000000</td>\n",
       "      <td>...</td>\n",
       "      <td>0.0</td>\n",
       "      <td>0.00000</td>\n",
       "      <td>0.0</td>\n",
       "      <td>0.0</td>\n",
       "      <td>0.000000</td>\n",
       "      <td>0.0</td>\n",
       "      <td>0.000000</td>\n",
       "      <td>0.0</td>\n",
       "      <td>0.0</td>\n",
       "      <td>0.0</td>\n",
       "    </tr>\n",
       "    <tr>\n",
       "      <th>1</th>\n",
       "      <td>4896</td>\n",
       "      <td>0.0</td>\n",
       "      <td>0.0</td>\n",
       "      <td>0.0</td>\n",
       "      <td>0.000000</td>\n",
       "      <td>0.0</td>\n",
       "      <td>0.0</td>\n",
       "      <td>0.578553</td>\n",
       "      <td>0.0</td>\n",
       "      <td>0.000000</td>\n",
       "      <td>...</td>\n",
       "      <td>0.0</td>\n",
       "      <td>0.00000</td>\n",
       "      <td>0.0</td>\n",
       "      <td>0.0</td>\n",
       "      <td>0.000000</td>\n",
       "      <td>0.0</td>\n",
       "      <td>0.000000</td>\n",
       "      <td>0.0</td>\n",
       "      <td>0.0</td>\n",
       "      <td>0.0</td>\n",
       "    </tr>\n",
       "    <tr>\n",
       "      <th>2</th>\n",
       "      <td>4897</td>\n",
       "      <td>0.0</td>\n",
       "      <td>0.0</td>\n",
       "      <td>0.0</td>\n",
       "      <td>0.026703</td>\n",
       "      <td>0.0</td>\n",
       "      <td>0.0</td>\n",
       "      <td>0.000000</td>\n",
       "      <td>0.0</td>\n",
       "      <td>0.033212</td>\n",
       "      <td>...</td>\n",
       "      <td>0.0</td>\n",
       "      <td>0.00000</td>\n",
       "      <td>0.0</td>\n",
       "      <td>0.0</td>\n",
       "      <td>0.000000</td>\n",
       "      <td>0.0</td>\n",
       "      <td>0.052196</td>\n",
       "      <td>0.0</td>\n",
       "      <td>0.0</td>\n",
       "      <td>0.0</td>\n",
       "    </tr>\n",
       "    <tr>\n",
       "      <th>3</th>\n",
       "      <td>4898</td>\n",
       "      <td>0.0</td>\n",
       "      <td>0.0</td>\n",
       "      <td>0.0</td>\n",
       "      <td>0.000000</td>\n",
       "      <td>0.0</td>\n",
       "      <td>0.0</td>\n",
       "      <td>0.000000</td>\n",
       "      <td>0.0</td>\n",
       "      <td>0.000000</td>\n",
       "      <td>...</td>\n",
       "      <td>0.0</td>\n",
       "      <td>0.02926</td>\n",
       "      <td>0.0</td>\n",
       "      <td>0.0</td>\n",
       "      <td>0.012924</td>\n",
       "      <td>0.0</td>\n",
       "      <td>0.000000</td>\n",
       "      <td>0.0</td>\n",
       "      <td>0.0</td>\n",
       "      <td>0.0</td>\n",
       "    </tr>\n",
       "    <tr>\n",
       "      <th>4</th>\n",
       "      <td>4899</td>\n",
       "      <td>0.0</td>\n",
       "      <td>0.0</td>\n",
       "      <td>0.0</td>\n",
       "      <td>0.000000</td>\n",
       "      <td>0.0</td>\n",
       "      <td>0.0</td>\n",
       "      <td>0.000000</td>\n",
       "      <td>0.0</td>\n",
       "      <td>0.000000</td>\n",
       "      <td>...</td>\n",
       "      <td>0.0</td>\n",
       "      <td>0.00000</td>\n",
       "      <td>0.0</td>\n",
       "      <td>0.0</td>\n",
       "      <td>0.000000</td>\n",
       "      <td>0.0</td>\n",
       "      <td>0.000000</td>\n",
       "      <td>0.0</td>\n",
       "      <td>0.0</td>\n",
       "      <td>0.0</td>\n",
       "    </tr>\n",
       "  </tbody>\n",
       "</table>\n",
       "<p>5 rows × 101 columns</p>\n",
       "</div>"
      ],
      "text/plain": [
       "   doc_id  topic_0  topic_1  topic_2   topic_3  topic_4  topic_5   topic_6  \\\n",
       "0       6      0.0      0.0      0.0  0.000000      0.0      0.0  0.000000   \n",
       "1    4896      0.0      0.0      0.0  0.000000      0.0      0.0  0.578553   \n",
       "2    4897      0.0      0.0      0.0  0.026703      0.0      0.0  0.000000   \n",
       "3    4898      0.0      0.0      0.0  0.000000      0.0      0.0  0.000000   \n",
       "4    4899      0.0      0.0      0.0  0.000000      0.0      0.0  0.000000   \n",
       "\n",
       "   topic_7   topic_8  ...  topic_90  topic_91  topic_92  topic_93  topic_94  \\\n",
       "0      0.0  0.000000  ...       0.0   0.00000       0.0       0.0  0.000000   \n",
       "1      0.0  0.000000  ...       0.0   0.00000       0.0       0.0  0.000000   \n",
       "2      0.0  0.033212  ...       0.0   0.00000       0.0       0.0  0.000000   \n",
       "3      0.0  0.000000  ...       0.0   0.02926       0.0       0.0  0.012924   \n",
       "4      0.0  0.000000  ...       0.0   0.00000       0.0       0.0  0.000000   \n",
       "\n",
       "   topic_95  topic_96  topic_97  topic_98  topic_99  \n",
       "0       0.0  0.000000       0.0       0.0       0.0  \n",
       "1       0.0  0.000000       0.0       0.0       0.0  \n",
       "2       0.0  0.052196       0.0       0.0       0.0  \n",
       "3       0.0  0.000000       0.0       0.0       0.0  \n",
       "4       0.0  0.000000       0.0       0.0       0.0  \n",
       "\n",
       "[5 rows x 101 columns]"
      ]
     },
     "execution_count": 33,
     "metadata": {},
     "output_type": "execute_result"
    }
   ],
   "source": [
    "topic_matrix = pd.DataFrame([get_lda_vector(text) for text in news['title'].values])\n",
    "topic_matrix.columns = ['topic_{}'.format(i) for i in range(N_topic)]\n",
    "topic_matrix['doc_id'] = news['doc_id'].values\n",
    "topic_matrix = topic_matrix[['doc_id']+['topic_{}'.format(i) for i in range(N_topic)]]\n",
    "topic_matrix.head(5)"
   ]
  },
  {
   "cell_type": "markdown",
   "id": "099c33ff",
   "metadata": {},
   "source": [
    "## PART 2 - Vectors of Users"
   ]
  },
  {
   "cell_type": "code",
   "execution_count": 34,
   "id": "4c2623ea",
   "metadata": {},
   "outputs": [
    {
     "data": {
      "text/html": [
       "<div>\n",
       "<style scoped>\n",
       "    .dataframe tbody tr th:only-of-type {\n",
       "        vertical-align: middle;\n",
       "    }\n",
       "\n",
       "    .dataframe tbody tr th {\n",
       "        vertical-align: top;\n",
       "    }\n",
       "\n",
       "    .dataframe thead th {\n",
       "        text-align: right;\n",
       "    }\n",
       "</style>\n",
       "<table border=\"1\" class=\"dataframe\">\n",
       "  <thead>\n",
       "    <tr style=\"text-align: right;\">\n",
       "      <th></th>\n",
       "      <th>uid</th>\n",
       "      <th>articles</th>\n",
       "    </tr>\n",
       "  </thead>\n",
       "  <tbody>\n",
       "    <tr>\n",
       "      <th>0</th>\n",
       "      <td>u105138</td>\n",
       "      <td>[293672, 293328, 293001, 293622, 293126, 1852]</td>\n",
       "    </tr>\n",
       "    <tr>\n",
       "      <th>1</th>\n",
       "      <td>u108690</td>\n",
       "      <td>[3405, 1739, 2972, 1158, 1599, 322665]</td>\n",
       "    </tr>\n",
       "  </tbody>\n",
       "</table>\n",
       "</div>"
      ],
      "text/plain": [
       "       uid                                        articles\n",
       "0  u105138  [293672, 293328, 293001, 293622, 293126, 1852]\n",
       "1  u108690          [3405, 1739, 2972, 1158, 1599, 322665]"
      ]
     },
     "execution_count": 34,
     "metadata": {},
     "output_type": "execute_result"
    }
   ],
   "source": [
    "users.head(2)"
   ]
  },
  {
   "cell_type": "code",
   "execution_count": 35,
   "id": "eea39059",
   "metadata": {},
   "outputs": [],
   "source": [
    "doc_dict = dict(zip(topic_matrix['doc_id'].values, topic_matrix[['topic_{}'.format(i) for i in range(N_topic)]].values))"
   ]
  },
  {
   "cell_type": "code",
   "execution_count": 36,
   "id": "ac7ae345",
   "metadata": {},
   "outputs": [
    {
     "data": {
      "text/plain": [
       "array([0.        , 0.        , 0.        , 0.        , 0.        ,\n",
       "       0.        , 0.        , 0.        , 0.        , 0.        ,\n",
       "       0.01107474, 0.        , 0.        , 0.        , 0.        ,\n",
       "       0.        , 0.        , 0.        , 0.        , 0.01069056,\n",
       "       0.        , 0.        , 0.        , 0.        , 0.        ,\n",
       "       0.        , 0.        , 0.        , 0.        , 0.        ,\n",
       "       0.        , 0.        , 0.        , 0.        , 0.        ,\n",
       "       0.        , 0.        , 0.        , 0.        , 0.        ,\n",
       "       0.        , 0.        , 0.        , 0.        , 0.        ,\n",
       "       0.        , 0.0432457 , 0.        , 0.        , 0.        ,\n",
       "       0.        , 0.        , 0.        , 0.        , 0.        ,\n",
       "       0.        , 0.07843778, 0.02325208, 0.0104759 , 0.        ,\n",
       "       0.        , 0.        , 0.        , 0.        , 0.05922883,\n",
       "       0.        , 0.        , 0.        , 0.        , 0.03284154,\n",
       "       0.        , 0.        , 0.        , 0.        , 0.        ,\n",
       "       0.        , 0.        , 0.        , 0.        , 0.        ,\n",
       "       0.68661106, 0.        , 0.        , 0.        , 0.        ,\n",
       "       0.        , 0.        , 0.        , 0.        , 0.        ,\n",
       "       0.        , 0.        , 0.        , 0.        , 0.        ,\n",
       "       0.        , 0.        , 0.        , 0.        , 0.        ])"
      ]
     },
     "execution_count": 36,
     "metadata": {},
     "output_type": "execute_result"
    }
   ],
   "source": [
    "doc_dict[6]  # array of topics' probabilities for article#6"
   ]
  },
  {
   "cell_type": "markdown",
   "id": "05071a66",
   "metadata": {},
   "source": [
    "### function to get the mean probabilities of topics of articles a user read"
   ]
  },
  {
   "cell_type": "code",
   "execution_count": 37,
   "id": "60b77381",
   "metadata": {},
   "outputs": [],
   "source": [
    "def get_user_embedding(user_articles_list):\n",
    "    '''\n",
    "    The function receives a list of articles' ids a user read - '[323329, 321961, 324743, 323186, 324632, 474690]'.\n",
    "    It converts it into a list. After this list is converted into an array of arrays of articles' probabilities.\n",
    "    After, the array of arrays is transformed into the array of mean values of probabilities.\n",
    "    '''\n",
    "    user_articles_list = eval(user_articles_list)  # converting string into list\n",
    "    user_vector = np.array([doc_dict[doc_id] for doc_id in user_articles_list])  # creation of array of arrays\n",
    "    user_vector = np.mean(user_vector, axis=0)  # creation of array of collumns' means\n",
    "    return user_vector"
   ]
  },
  {
   "cell_type": "markdown",
   "id": "70d6f485",
   "metadata": {},
   "source": [
    "#### simplified demonstration of the process"
   ]
  },
  {
   "cell_type": "code",
   "execution_count": 38,
   "id": "5b44e710",
   "metadata": {},
   "outputs": [
    {
     "name": "stdout",
     "output_type": "stream",
     "text": [
      "[[1 2 3]\n",
      " [4 5 6]]\n",
      "[2.5 3.5 4.5]\n"
     ]
    }
   ],
   "source": [
    "array_1 = np.array([1, 2, 3])\n",
    "array_2 = np.array([4, 5, 6])\n",
    "resulting_array = np.array([array_1, array_2])\n",
    "print(resulting_array)\n",
    "print(np.mean(resulting_array, axis=0))"
   ]
  },
  {
   "cell_type": "markdown",
   "id": "3daad715",
   "metadata": {},
   "source": [
    "#### demonstration of how get_user_embedding works"
   ]
  },
  {
   "cell_type": "code",
   "execution_count": 39,
   "id": "cd6294d5",
   "metadata": {},
   "outputs": [
    {
     "data": {
      "text/plain": [
       "'[323329, 321961, 324743, 323186, 324632, 474690]'"
      ]
     },
     "execution_count": 39,
     "metadata": {},
     "output_type": "execute_result"
    }
   ],
   "source": [
    "users['articles'].iloc[33]"
   ]
  },
  {
   "cell_type": "code",
   "execution_count": 40,
   "id": "6880402f",
   "metadata": {},
   "outputs": [
    {
     "data": {
      "text/plain": [
       "array([0.01828771, 0.00400727, 0.        , 0.01254563, 0.        ,\n",
       "       0.        , 0.00666731, 0.00200549, 0.01090309, 0.00166671,\n",
       "       0.        , 0.00202212, 0.04058334, 0.        , 0.        ,\n",
       "       0.0030554 , 0.        , 0.01037888, 0.01041013, 0.        ,\n",
       "       0.00489919, 0.        , 0.01964557, 0.        , 0.00647497,\n",
       "       0.0033169 , 0.02488346, 0.        , 0.02007472, 0.        ,\n",
       "       0.        , 0.        , 0.        , 0.        , 0.00361557,\n",
       "       0.05195309, 0.02813194, 0.        , 0.        , 0.        ,\n",
       "       0.        , 0.00501262, 0.03851996, 0.01238812, 0.        ,\n",
       "       0.        , 0.        , 0.        , 0.02342273, 0.00496619,\n",
       "       0.        , 0.        , 0.        , 0.        , 0.00204646,\n",
       "       0.        , 0.        , 0.        , 0.        , 0.        ,\n",
       "       0.00402803, 0.00314801, 0.01355019, 0.04342158, 0.04128985,\n",
       "       0.00596231, 0.        , 0.        , 0.        , 0.        ,\n",
       "       0.00276211, 0.00246003, 0.        , 0.03922434, 0.        ,\n",
       "       0.04214447, 0.00200509, 0.0554539 , 0.        , 0.0521475 ,\n",
       "       0.03558446, 0.        , 0.00454905, 0.02160605, 0.00205253,\n",
       "       0.        , 0.0285813 , 0.03867879, 0.00400778, 0.        ,\n",
       "       0.00205213, 0.        , 0.        , 0.        , 0.00442635,\n",
       "       0.06336575, 0.        , 0.00205173, 0.07856565, 0.        ])"
      ]
     },
     "execution_count": 40,
     "metadata": {},
     "output_type": "execute_result"
    }
   ],
   "source": [
    "get_user_embedding(users['articles'].iloc[33])"
   ]
  },
  {
   "cell_type": "markdown",
   "id": "77d09980",
   "metadata": {},
   "source": [
    "so, the result is user's vector"
   ]
  },
  {
   "cell_type": "markdown",
   "id": "340444e6",
   "metadata": {},
   "source": [
    "### creation of users' ids/mean topics' probabilities of articles read dataframe"
   ]
  },
  {
   "cell_type": "code",
   "execution_count": 41,
   "id": "78b3f4b4",
   "metadata": {},
   "outputs": [
    {
     "data": {
      "text/html": [
       "<div>\n",
       "<style scoped>\n",
       "    .dataframe tbody tr th:only-of-type {\n",
       "        vertical-align: middle;\n",
       "    }\n",
       "\n",
       "    .dataframe tbody tr th {\n",
       "        vertical-align: top;\n",
       "    }\n",
       "\n",
       "    .dataframe thead th {\n",
       "        text-align: right;\n",
       "    }\n",
       "</style>\n",
       "<table border=\"1\" class=\"dataframe\">\n",
       "  <thead>\n",
       "    <tr style=\"text-align: right;\">\n",
       "      <th></th>\n",
       "      <th>uid</th>\n",
       "      <th>topic_0</th>\n",
       "      <th>topic_1</th>\n",
       "      <th>topic_2</th>\n",
       "      <th>topic_3</th>\n",
       "      <th>topic_4</th>\n",
       "      <th>topic_5</th>\n",
       "      <th>topic_6</th>\n",
       "      <th>topic_7</th>\n",
       "      <th>topic_8</th>\n",
       "      <th>...</th>\n",
       "      <th>topic_90</th>\n",
       "      <th>topic_91</th>\n",
       "      <th>topic_92</th>\n",
       "      <th>topic_93</th>\n",
       "      <th>topic_94</th>\n",
       "      <th>topic_95</th>\n",
       "      <th>topic_96</th>\n",
       "      <th>topic_97</th>\n",
       "      <th>topic_98</th>\n",
       "      <th>topic_99</th>\n",
       "    </tr>\n",
       "  </thead>\n",
       "  <tbody>\n",
       "    <tr>\n",
       "      <th>0</th>\n",
       "      <td>u105138</td>\n",
       "      <td>0.000000</td>\n",
       "      <td>0.0</td>\n",
       "      <td>0.0</td>\n",
       "      <td>0.004999</td>\n",
       "      <td>0.022446</td>\n",
       "      <td>0.012564</td>\n",
       "      <td>0.044410</td>\n",
       "      <td>0.00443</td>\n",
       "      <td>0.019581</td>\n",
       "      <td>...</td>\n",
       "      <td>0.0</td>\n",
       "      <td>0.003972</td>\n",
       "      <td>0.004430</td>\n",
       "      <td>0.008595</td>\n",
       "      <td>0.004498</td>\n",
       "      <td>0.040726</td>\n",
       "      <td>0.000000</td>\n",
       "      <td>0.005747</td>\n",
       "      <td>0.026148</td>\n",
       "      <td>0.0</td>\n",
       "    </tr>\n",
       "    <tr>\n",
       "      <th>1</th>\n",
       "      <td>u108690</td>\n",
       "      <td>0.021884</td>\n",
       "      <td>0.0</td>\n",
       "      <td>0.0</td>\n",
       "      <td>0.000000</td>\n",
       "      <td>0.016836</td>\n",
       "      <td>0.002144</td>\n",
       "      <td>0.053757</td>\n",
       "      <td>0.00207</td>\n",
       "      <td>0.000000</td>\n",
       "      <td>...</td>\n",
       "      <td>0.0</td>\n",
       "      <td>0.000000</td>\n",
       "      <td>0.002071</td>\n",
       "      <td>0.000000</td>\n",
       "      <td>0.004578</td>\n",
       "      <td>0.054630</td>\n",
       "      <td>0.003296</td>\n",
       "      <td>0.002767</td>\n",
       "      <td>0.047489</td>\n",
       "      <td>0.0</td>\n",
       "    </tr>\n",
       "  </tbody>\n",
       "</table>\n",
       "<p>2 rows × 101 columns</p>\n",
       "</div>"
      ],
      "text/plain": [
       "       uid   topic_0  topic_1  topic_2   topic_3   topic_4   topic_5  \\\n",
       "0  u105138  0.000000      0.0      0.0  0.004999  0.022446  0.012564   \n",
       "1  u108690  0.021884      0.0      0.0  0.000000  0.016836  0.002144   \n",
       "\n",
       "    topic_6  topic_7   topic_8  ...  topic_90  topic_91  topic_92  topic_93  \\\n",
       "0  0.044410  0.00443  0.019581  ...       0.0  0.003972  0.004430  0.008595   \n",
       "1  0.053757  0.00207  0.000000  ...       0.0  0.000000  0.002071  0.000000   \n",
       "\n",
       "   topic_94  topic_95  topic_96  topic_97  topic_98  topic_99  \n",
       "0  0.004498  0.040726  0.000000  0.005747  0.026148       0.0  \n",
       "1  0.004578  0.054630  0.003296  0.002767  0.047489       0.0  \n",
       "\n",
       "[2 rows x 101 columns]"
      ]
     },
     "execution_count": 41,
     "metadata": {},
     "output_type": "execute_result"
    }
   ],
   "source": [
    "user_embeddings = pd.DataFrame([i for i in users['articles'].apply(lambda x: get_user_embedding(x), 1)])\n",
    "user_embeddings.columns = ['topic_{}'.format(i) for i in range(N_topic)]\n",
    "user_embeddings['uid'] = users['uid'].values\n",
    "user_embeddings = user_embeddings[['uid']+['topic_{}'.format(i) for i in range(N_topic)]]\n",
    "user_embeddings.head(2)"
   ]
  },
  {
   "cell_type": "markdown",
   "id": "a54a9ef9",
   "metadata": {},
   "source": [
    "### attaching to the dataframe the target - 'churn'"
   ]
  },
  {
   "cell_type": "code",
   "execution_count": 42,
   "id": "17e3067d",
   "metadata": {},
   "outputs": [
    {
     "data": {
      "text/html": [
       "<div>\n",
       "<style scoped>\n",
       "    .dataframe tbody tr th:only-of-type {\n",
       "        vertical-align: middle;\n",
       "    }\n",
       "\n",
       "    .dataframe tbody tr th {\n",
       "        vertical-align: top;\n",
       "    }\n",
       "\n",
       "    .dataframe thead th {\n",
       "        text-align: right;\n",
       "    }\n",
       "</style>\n",
       "<table border=\"1\" class=\"dataframe\">\n",
       "  <thead>\n",
       "    <tr style=\"text-align: right;\">\n",
       "      <th></th>\n",
       "      <th>uid</th>\n",
       "      <th>churn</th>\n",
       "    </tr>\n",
       "  </thead>\n",
       "  <tbody>\n",
       "    <tr>\n",
       "      <th>0</th>\n",
       "      <td>u107120</td>\n",
       "      <td>0</td>\n",
       "    </tr>\n",
       "    <tr>\n",
       "      <th>1</th>\n",
       "      <td>u102277</td>\n",
       "      <td>0</td>\n",
       "    </tr>\n",
       "    <tr>\n",
       "      <th>2</th>\n",
       "      <td>u102444</td>\n",
       "      <td>0</td>\n",
       "    </tr>\n",
       "  </tbody>\n",
       "</table>\n",
       "</div>"
      ],
      "text/plain": [
       "       uid  churn\n",
       "0  u107120      0\n",
       "1  u102277      0\n",
       "2  u102444      0"
      ]
     },
     "execution_count": 42,
     "metadata": {},
     "output_type": "execute_result"
    }
   ],
   "source": [
    "target = pd.read_csv(\"lesson_2_profiling_user_LDA/users_churn.csv\")\n",
    "target.head(3)"
   ]
  },
  {
   "cell_type": "code",
   "execution_count": 43,
   "id": "c53b6233",
   "metadata": {},
   "outputs": [
    {
     "data": {
      "text/html": [
       "<div>\n",
       "<style scoped>\n",
       "    .dataframe tbody tr th:only-of-type {\n",
       "        vertical-align: middle;\n",
       "    }\n",
       "\n",
       "    .dataframe tbody tr th {\n",
       "        vertical-align: top;\n",
       "    }\n",
       "\n",
       "    .dataframe thead th {\n",
       "        text-align: right;\n",
       "    }\n",
       "</style>\n",
       "<table border=\"1\" class=\"dataframe\">\n",
       "  <thead>\n",
       "    <tr style=\"text-align: right;\">\n",
       "      <th></th>\n",
       "      <th>uid</th>\n",
       "      <th>topic_0</th>\n",
       "      <th>topic_1</th>\n",
       "      <th>topic_2</th>\n",
       "      <th>topic_3</th>\n",
       "      <th>topic_4</th>\n",
       "      <th>topic_5</th>\n",
       "      <th>topic_6</th>\n",
       "      <th>topic_7</th>\n",
       "      <th>topic_8</th>\n",
       "      <th>...</th>\n",
       "      <th>topic_91</th>\n",
       "      <th>topic_92</th>\n",
       "      <th>topic_93</th>\n",
       "      <th>topic_94</th>\n",
       "      <th>topic_95</th>\n",
       "      <th>topic_96</th>\n",
       "      <th>topic_97</th>\n",
       "      <th>topic_98</th>\n",
       "      <th>topic_99</th>\n",
       "      <th>churn</th>\n",
       "    </tr>\n",
       "  </thead>\n",
       "  <tbody>\n",
       "    <tr>\n",
       "      <th>0</th>\n",
       "      <td>u105138</td>\n",
       "      <td>0.000000</td>\n",
       "      <td>0.0</td>\n",
       "      <td>0.0</td>\n",
       "      <td>0.004999</td>\n",
       "      <td>0.022446</td>\n",
       "      <td>0.012564</td>\n",
       "      <td>0.044410</td>\n",
       "      <td>0.00443</td>\n",
       "      <td>0.019581</td>\n",
       "      <td>...</td>\n",
       "      <td>0.003972</td>\n",
       "      <td>0.004430</td>\n",
       "      <td>0.008595</td>\n",
       "      <td>0.004498</td>\n",
       "      <td>0.040726</td>\n",
       "      <td>0.000000</td>\n",
       "      <td>0.005747</td>\n",
       "      <td>0.026148</td>\n",
       "      <td>0.0</td>\n",
       "      <td>0</td>\n",
       "    </tr>\n",
       "    <tr>\n",
       "      <th>1</th>\n",
       "      <td>u108690</td>\n",
       "      <td>0.021884</td>\n",
       "      <td>0.0</td>\n",
       "      <td>0.0</td>\n",
       "      <td>0.000000</td>\n",
       "      <td>0.016836</td>\n",
       "      <td>0.002144</td>\n",
       "      <td>0.053757</td>\n",
       "      <td>0.00207</td>\n",
       "      <td>0.000000</td>\n",
       "      <td>...</td>\n",
       "      <td>0.000000</td>\n",
       "      <td>0.002071</td>\n",
       "      <td>0.000000</td>\n",
       "      <td>0.004578</td>\n",
       "      <td>0.054630</td>\n",
       "      <td>0.003296</td>\n",
       "      <td>0.002767</td>\n",
       "      <td>0.047489</td>\n",
       "      <td>0.0</td>\n",
       "      <td>1</td>\n",
       "    </tr>\n",
       "    <tr>\n",
       "      <th>2</th>\n",
       "      <td>u108339</td>\n",
       "      <td>0.024508</td>\n",
       "      <td>0.0</td>\n",
       "      <td>0.0</td>\n",
       "      <td>0.000000</td>\n",
       "      <td>0.017284</td>\n",
       "      <td>0.000000</td>\n",
       "      <td>0.097509</td>\n",
       "      <td>0.00000</td>\n",
       "      <td>0.000000</td>\n",
       "      <td>...</td>\n",
       "      <td>0.000000</td>\n",
       "      <td>0.002797</td>\n",
       "      <td>0.000000</td>\n",
       "      <td>0.000000</td>\n",
       "      <td>0.027931</td>\n",
       "      <td>0.000000</td>\n",
       "      <td>0.002806</td>\n",
       "      <td>0.020488</td>\n",
       "      <td>0.0</td>\n",
       "      <td>1</td>\n",
       "    </tr>\n",
       "  </tbody>\n",
       "</table>\n",
       "<p>3 rows × 102 columns</p>\n",
       "</div>"
      ],
      "text/plain": [
       "       uid   topic_0  topic_1  topic_2   topic_3   topic_4   topic_5  \\\n",
       "0  u105138  0.000000      0.0      0.0  0.004999  0.022446  0.012564   \n",
       "1  u108690  0.021884      0.0      0.0  0.000000  0.016836  0.002144   \n",
       "2  u108339  0.024508      0.0      0.0  0.000000  0.017284  0.000000   \n",
       "\n",
       "    topic_6  topic_7   topic_8  ...  topic_91  topic_92  topic_93  topic_94  \\\n",
       "0  0.044410  0.00443  0.019581  ...  0.003972  0.004430  0.008595  0.004498   \n",
       "1  0.053757  0.00207  0.000000  ...  0.000000  0.002071  0.000000  0.004578   \n",
       "2  0.097509  0.00000  0.000000  ...  0.000000  0.002797  0.000000  0.000000   \n",
       "\n",
       "   topic_95  topic_96  topic_97  topic_98  topic_99  churn  \n",
       "0  0.040726  0.000000  0.005747  0.026148       0.0      0  \n",
       "1  0.054630  0.003296  0.002767  0.047489       0.0      1  \n",
       "2  0.027931  0.000000  0.002806  0.020488       0.0      1  \n",
       "\n",
       "[3 rows x 102 columns]"
      ]
     },
     "execution_count": 43,
     "metadata": {},
     "output_type": "execute_result"
    }
   ],
   "source": [
    "X = pd.merge(user_embeddings, target, 'left')\n",
    "X.head(3)"
   ]
  },
  {
   "cell_type": "markdown",
   "id": "3602cdae",
   "metadata": {},
   "source": [
    "BINGO! we have got the dataframe to teach a prediction model!!!"
   ]
  },
  {
   "cell_type": "markdown",
   "id": "52417a18",
   "metadata": {},
   "source": [
    "## PART 3 - Prediction Model"
   ]
  },
  {
   "cell_type": "code",
   "execution_count": 44,
   "id": "f42c95e5",
   "metadata": {},
   "outputs": [],
   "source": [
    "from sklearn.linear_model import LogisticRegression\n",
    "from sklearn.model_selection import train_test_split\n",
    "import itertools\n",
    "\n",
    "import matplotlib.pyplot as plt\n",
    "%matplotlib inline"
   ]
  },
  {
   "cell_type": "markdown",
   "id": "6bcdbef5",
   "metadata": {},
   "source": [
    "### train test split"
   ]
  },
  {
   "cell_type": "code",
   "execution_count": 45,
   "id": "a6807fc5",
   "metadata": {},
   "outputs": [],
   "source": [
    "X_train, X_test, y_train, y_test = train_test_split(X[['topic_{}'.format(i) for i in range(N_topic)]], \n",
    "                                                    X['churn'], random_state=0)"
   ]
  },
  {
   "cell_type": "markdown",
   "id": "54a6f5cd",
   "metadata": {},
   "source": [
    "### model initialization"
   ]
  },
  {
   "cell_type": "code",
   "execution_count": 46,
   "id": "53a8d6a3",
   "metadata": {},
   "outputs": [],
   "source": [
    "logreg = LogisticRegression()"
   ]
  },
  {
   "cell_type": "markdown",
   "id": "552d5943",
   "metadata": {},
   "source": [
    "### fitting the model"
   ]
  },
  {
   "cell_type": "code",
   "execution_count": 47,
   "id": "64869c62",
   "metadata": {},
   "outputs": [
    {
     "data": {
      "text/html": [
       "<style>#sk-container-id-1 {color: black;background-color: white;}#sk-container-id-1 pre{padding: 0;}#sk-container-id-1 div.sk-toggleable {background-color: white;}#sk-container-id-1 label.sk-toggleable__label {cursor: pointer;display: block;width: 100%;margin-bottom: 0;padding: 0.3em;box-sizing: border-box;text-align: center;}#sk-container-id-1 label.sk-toggleable__label-arrow:before {content: \"▸\";float: left;margin-right: 0.25em;color: #696969;}#sk-container-id-1 label.sk-toggleable__label-arrow:hover:before {color: black;}#sk-container-id-1 div.sk-estimator:hover label.sk-toggleable__label-arrow:before {color: black;}#sk-container-id-1 div.sk-toggleable__content {max-height: 0;max-width: 0;overflow: hidden;text-align: left;background-color: #f0f8ff;}#sk-container-id-1 div.sk-toggleable__content pre {margin: 0.2em;color: black;border-radius: 0.25em;background-color: #f0f8ff;}#sk-container-id-1 input.sk-toggleable__control:checked~div.sk-toggleable__content {max-height: 200px;max-width: 100%;overflow: auto;}#sk-container-id-1 input.sk-toggleable__control:checked~label.sk-toggleable__label-arrow:before {content: \"▾\";}#sk-container-id-1 div.sk-estimator input.sk-toggleable__control:checked~label.sk-toggleable__label {background-color: #d4ebff;}#sk-container-id-1 div.sk-label input.sk-toggleable__control:checked~label.sk-toggleable__label {background-color: #d4ebff;}#sk-container-id-1 input.sk-hidden--visually {border: 0;clip: rect(1px 1px 1px 1px);clip: rect(1px, 1px, 1px, 1px);height: 1px;margin: -1px;overflow: hidden;padding: 0;position: absolute;width: 1px;}#sk-container-id-1 div.sk-estimator {font-family: monospace;background-color: #f0f8ff;border: 1px dotted black;border-radius: 0.25em;box-sizing: border-box;margin-bottom: 0.5em;}#sk-container-id-1 div.sk-estimator:hover {background-color: #d4ebff;}#sk-container-id-1 div.sk-parallel-item::after {content: \"\";width: 100%;border-bottom: 1px solid gray;flex-grow: 1;}#sk-container-id-1 div.sk-label:hover label.sk-toggleable__label {background-color: #d4ebff;}#sk-container-id-1 div.sk-serial::before {content: \"\";position: absolute;border-left: 1px solid gray;box-sizing: border-box;top: 0;bottom: 0;left: 50%;z-index: 0;}#sk-container-id-1 div.sk-serial {display: flex;flex-direction: column;align-items: center;background-color: white;padding-right: 0.2em;padding-left: 0.2em;position: relative;}#sk-container-id-1 div.sk-item {position: relative;z-index: 1;}#sk-container-id-1 div.sk-parallel {display: flex;align-items: stretch;justify-content: center;background-color: white;position: relative;}#sk-container-id-1 div.sk-item::before, #sk-container-id-1 div.sk-parallel-item::before {content: \"\";position: absolute;border-left: 1px solid gray;box-sizing: border-box;top: 0;bottom: 0;left: 50%;z-index: -1;}#sk-container-id-1 div.sk-parallel-item {display: flex;flex-direction: column;z-index: 1;position: relative;background-color: white;}#sk-container-id-1 div.sk-parallel-item:first-child::after {align-self: flex-end;width: 50%;}#sk-container-id-1 div.sk-parallel-item:last-child::after {align-self: flex-start;width: 50%;}#sk-container-id-1 div.sk-parallel-item:only-child::after {width: 0;}#sk-container-id-1 div.sk-dashed-wrapped {border: 1px dashed gray;margin: 0 0.4em 0.5em 0.4em;box-sizing: border-box;padding-bottom: 0.4em;background-color: white;}#sk-container-id-1 div.sk-label label {font-family: monospace;font-weight: bold;display: inline-block;line-height: 1.2em;}#sk-container-id-1 div.sk-label-container {text-align: center;}#sk-container-id-1 div.sk-container {/* jupyter's `normalize.less` sets `[hidden] { display: none; }` but bootstrap.min.css set `[hidden] { display: none !important; }` so we also need the `!important` here to be able to override the default hidden behavior on the sphinx rendered scikit-learn.org. See: https://github.com/scikit-learn/scikit-learn/issues/21755 */display: inline-block !important;position: relative;}#sk-container-id-1 div.sk-text-repr-fallback {display: none;}</style><div id=\"sk-container-id-1\" class=\"sk-top-container\"><div class=\"sk-text-repr-fallback\"><pre>LogisticRegression()</pre><b>In a Jupyter environment, please rerun this cell to show the HTML representation or trust the notebook. <br />On GitHub, the HTML representation is unable to render, please try loading this page with nbviewer.org.</b></div><div class=\"sk-container\" hidden><div class=\"sk-item\"><div class=\"sk-estimator sk-toggleable\"><input class=\"sk-toggleable__control sk-hidden--visually\" id=\"sk-estimator-id-1\" type=\"checkbox\" checked><label for=\"sk-estimator-id-1\" class=\"sk-toggleable__label sk-toggleable__label-arrow\">LogisticRegression</label><div class=\"sk-toggleable__content\"><pre>LogisticRegression()</pre></div></div></div></div></div>"
      ],
      "text/plain": [
       "LogisticRegression()"
      ]
     },
     "execution_count": 47,
     "metadata": {},
     "output_type": "execute_result"
    }
   ],
   "source": [
    "logreg.fit(X_train, y_train)"
   ]
  },
  {
   "cell_type": "markdown",
   "id": "8580da8d",
   "metadata": {},
   "source": [
    "### prediction of probabilities of churn"
   ]
  },
  {
   "cell_type": "code",
   "execution_count": 48,
   "id": "d2d0145c",
   "metadata": {},
   "outputs": [
    {
     "data": {
      "text/plain": [
       "array([0.12996135, 0.11926748, 0.42329974, 0.25562291, 0.06077211,\n",
       "       0.06192009, 0.11836445, 0.01679178, 0.1277975 , 0.09876809])"
      ]
     },
     "execution_count": 48,
     "metadata": {},
     "output_type": "execute_result"
    }
   ],
   "source": [
    "preds = logreg.predict_proba(X_test)[:, 1]\n",
    "preds[:10]"
   ]
  },
  {
   "cell_type": "markdown",
   "id": "a40238ab",
   "metadata": {},
   "source": [
    "### finding best probability threshold"
   ]
  },
  {
   "cell_type": "code",
   "execution_count": 49,
   "id": "e01c030f",
   "metadata": {},
   "outputs": [],
   "source": [
    "from sklearn.metrics import f1_score, roc_auc_score, precision_score, classification_report, \\\n",
    "                            precision_recall_curve, confusion_matrix"
   ]
  },
  {
   "cell_type": "code",
   "execution_count": 50,
   "id": "f40b18d9",
   "metadata": {},
   "outputs": [
    {
     "name": "stdout",
     "output_type": "stream",
     "text": [
      "Best Threshold=0.247689, F-Score=0.839, Precision=0.818, Recall=0.861\n"
     ]
    }
   ],
   "source": [
    "precision, recall, thresholds = precision_recall_curve(y_test, preds)\n",
    "fscore = (2 * precision * recall) / (precision + recall)\n",
    "\n",
    "# locate the index of the largest f-score\n",
    "ix = np.argmax(fscore)\n",
    "print('Best Threshold=%f, F-Score=%.3f, Precision=%.3f, Recall=%.3f' % (thresholds[ix], \n",
    "                                                                        fscore[ix],\n",
    "                                                                        precision[ix],\n",
    "                                                                        recall[ix]))"
   ]
  },
  {
   "cell_type": "markdown",
   "id": "f011f98d",
   "metadata": {},
   "source": [
    "### drawing the confusion matrix"
   ]
  },
  {
   "cell_type": "code",
   "execution_count": 51,
   "id": "144a32a8",
   "metadata": {},
   "outputs": [],
   "source": [
    "def plot_confusion_matrix(cm, classes,\n",
    "                          normalize=False,\n",
    "                          title='Confusion matrix',\n",
    "                          cmap=plt.cm.Blues):\n",
    "    \"\"\"\n",
    "    This function prints and plots the confusion matrix.\n",
    "    Normalization can be applied by setting `normalize=True`.\n",
    "    \"\"\"\n",
    "    \n",
    "    plt.imshow(cm, interpolation='nearest', cmap=cmap)\n",
    "    plt.title(title)\n",
    "    plt.colorbar()\n",
    "    tick_marks = np.arange(len(classes))\n",
    "    plt.xticks(tick_marks, classes, rotation=45)\n",
    "    plt.yticks(tick_marks, classes)\n",
    "\n",
    "    if normalize:\n",
    "        cm = cm.astype('float') / cm.sum(axis=1)[:, np.newaxis]\n",
    "        print(\"Normalized confusion matrix\")\n",
    "    else:\n",
    "        print('Confusion matrix, without normalization')\n",
    "\n",
    "    print(cm)\n",
    "\n",
    "    thresh = cm.max() / 2.\n",
    "    for i, j in itertools.product(range(cm.shape[0]), range(cm.shape[1])):\n",
    "        plt.text(j, i, cm[i, j],\n",
    "                 horizontalalignment=\"center\",\n",
    "                 color=\"white\" if cm[i, j] > thresh else \"black\")\n",
    "\n",
    "    plt.tight_layout()\n",
    "    plt.ylabel('True label')\n",
    "    plt.xlabel('Predicted label')"
   ]
  },
  {
   "cell_type": "code",
   "execution_count": 52,
   "id": "6263794e",
   "metadata": {},
   "outputs": [
    {
     "name": "stdout",
     "output_type": "stream",
     "text": [
      "Confusion matrix, without normalization\n",
      "[[1708   47]\n",
      " [  35  210]]\n"
     ]
    },
    {
     "data": {
      "image/png": "[encoded data removed]",
      "text/plain": [
       "<Figure size 720x576 with 2 Axes>"
      ]
     },
     "metadata": {
      "needs_background": "light"
     },
     "output_type": "display_data"
    }
   ],
   "source": [
    "font = {'size' : 15}\n",
    "\n",
    "plt.rc('font', **font)\n",
    "\n",
    "cnf_matrix = confusion_matrix(y_test, preds > thresholds[ix])\n",
    "plt.figure(figsize=(10, 8))\n",
    "plot_confusion_matrix(cnf_matrix, classes=['non-churn', 'churn'],\n",
    "                      title='Confusion matrix')\n",
    "# plt.savefig(\"conf_matrix.png\")\n",
    "plt.show()"
   ]
  },
  {
   "cell_type": "code",
   "execution_count": 53,
   "id": "7dcab087",
   "metadata": {},
   "outputs": [
    {
     "data": {
      "text/plain": [
       "0.9843502529216814"
      ]
     },
     "execution_count": 53,
     "metadata": {},
     "output_type": "execute_result"
    }
   ],
   "source": [
    "roc_auc_score(y_test, preds)"
   ]
  },
  {
   "cell_type": "code",
   "execution_count": 54,
   "id": "66f75993",
   "metadata": {},
   "outputs": [],
   "source": [
    "metrics_lda_mean_embedding = [fscore[ix], precision[ix], recall[ix], roc_auc_score(y_test, preds)]"
   ]
  },
  {
   "cell_type": "code",
   "execution_count": null,
   "id": "576563c4",
   "metadata": {},
   "outputs": [],
   "source": []
  },
  {
   "cell_type": "code",
   "execution_count": null,
   "id": "522f640b",
   "metadata": {},
   "outputs": [],
   "source": []
  },
  {
   "cell_type": "code",
   "execution_count": null,
   "id": "34e4bd82",
   "metadata": {},
   "outputs": [],
   "source": []
  },
  {
   "cell_type": "markdown",
   "id": "8616758f",
   "metadata": {},
   "source": [
    "## Задание 2\n",
    "\n",
    "Модифицировать код функции get_user_embedding таким образом, чтобы считалось не среднее (как в примере np.mean), а медиана. Применить такое преобразование к данным, обучить модель прогнозирования оттока и посчитать метрики качества и сохранить их: roc auc, precision/recall/f_score (для 3 последних - подобрать оптимальный порог с помощью precision_recall_curve, как это делалось на уроке)"
   ]
  },
  {
   "cell_type": "code",
   "execution_count": 55,
   "id": "e8a93cd7",
   "metadata": {},
   "outputs": [],
   "source": [
    "def get_user_embedding(user_articles_list):\n",
    "    '''\n",
    "    The function receives a list of articles' ids a user read - '[323329, 321961, 324743, 323186, 324632, 474690]'.\n",
    "    It converts it into a list. After this list is converted into an array of arrays of articles' probabilities.\n",
    "    After, the array of arrays is transformed into the array of mean values of probabilities.\n",
    "    '''\n",
    "    user_articles_list = eval(user_articles_list)  # converting string into list\n",
    "    user_vector = np.array([doc_dict[doc_id] for doc_id in user_articles_list])  # creation of array of arrays\n",
    "    user_vector = np.median(user_vector, axis=0)  # creation of array of collumns' medians\n",
    "    return user_vector"
   ]
  },
  {
   "cell_type": "code",
   "execution_count": 56,
   "id": "d8544a75",
   "metadata": {},
   "outputs": [],
   "source": [
    "# array_1 = np.array([1, 2, 3])\n",
    "# array_2 = np.array([4, 5, 6])\n",
    "# array_3 = np.array([2, 3, 2])\n",
    "# resulting_array = np.array([array_1, array_2, array_3])\n",
    "# print(resulting_array)\n",
    "# print(np.median(resulting_array, axis=0))"
   ]
  },
  {
   "cell_type": "code",
   "execution_count": 57,
   "id": "e17df072",
   "metadata": {},
   "outputs": [
    {
     "data": {
      "text/html": [
       "<div>\n",
       "<style scoped>\n",
       "    .dataframe tbody tr th:only-of-type {\n",
       "        vertical-align: middle;\n",
       "    }\n",
       "\n",
       "    .dataframe tbody tr th {\n",
       "        vertical-align: top;\n",
       "    }\n",
       "\n",
       "    .dataframe thead th {\n",
       "        text-align: right;\n",
       "    }\n",
       "</style>\n",
       "<table border=\"1\" class=\"dataframe\">\n",
       "  <thead>\n",
       "    <tr style=\"text-align: right;\">\n",
       "      <th></th>\n",
       "      <th>uid</th>\n",
       "      <th>topic_0</th>\n",
       "      <th>topic_1</th>\n",
       "      <th>topic_2</th>\n",
       "      <th>topic_3</th>\n",
       "      <th>topic_4</th>\n",
       "      <th>topic_5</th>\n",
       "      <th>topic_6</th>\n",
       "      <th>topic_7</th>\n",
       "      <th>topic_8</th>\n",
       "      <th>...</th>\n",
       "      <th>topic_90</th>\n",
       "      <th>topic_91</th>\n",
       "      <th>topic_92</th>\n",
       "      <th>topic_93</th>\n",
       "      <th>topic_94</th>\n",
       "      <th>topic_95</th>\n",
       "      <th>topic_96</th>\n",
       "      <th>topic_97</th>\n",
       "      <th>topic_98</th>\n",
       "      <th>topic_99</th>\n",
       "    </tr>\n",
       "  </thead>\n",
       "  <tbody>\n",
       "    <tr>\n",
       "      <th>0</th>\n",
       "      <td>u105138</td>\n",
       "      <td>0.0</td>\n",
       "      <td>0.0</td>\n",
       "      <td>0.0</td>\n",
       "      <td>0.0</td>\n",
       "      <td>0.0</td>\n",
       "      <td>0.0</td>\n",
       "      <td>0.000000</td>\n",
       "      <td>0.0</td>\n",
       "      <td>0.0</td>\n",
       "      <td>...</td>\n",
       "      <td>0.0</td>\n",
       "      <td>0.0</td>\n",
       "      <td>0.0</td>\n",
       "      <td>0.0</td>\n",
       "      <td>0.0</td>\n",
       "      <td>0.033755</td>\n",
       "      <td>0.0</td>\n",
       "      <td>0.0</td>\n",
       "      <td>0.011471</td>\n",
       "      <td>0.0</td>\n",
       "    </tr>\n",
       "    <tr>\n",
       "      <th>1</th>\n",
       "      <td>u108690</td>\n",
       "      <td>0.0</td>\n",
       "      <td>0.0</td>\n",
       "      <td>0.0</td>\n",
       "      <td>0.0</td>\n",
       "      <td>0.0</td>\n",
       "      <td>0.0</td>\n",
       "      <td>0.050124</td>\n",
       "      <td>0.0</td>\n",
       "      <td>0.0</td>\n",
       "      <td>...</td>\n",
       "      <td>0.0</td>\n",
       "      <td>0.0</td>\n",
       "      <td>0.0</td>\n",
       "      <td>0.0</td>\n",
       "      <td>0.0</td>\n",
       "      <td>0.041416</td>\n",
       "      <td>0.0</td>\n",
       "      <td>0.0</td>\n",
       "      <td>0.025662</td>\n",
       "      <td>0.0</td>\n",
       "    </tr>\n",
       "  </tbody>\n",
       "</table>\n",
       "<p>2 rows × 101 columns</p>\n",
       "</div>"
      ],
      "text/plain": [
       "       uid  topic_0  topic_1  topic_2  topic_3  topic_4  topic_5   topic_6  \\\n",
       "0  u105138      0.0      0.0      0.0      0.0      0.0      0.0  0.000000   \n",
       "1  u108690      0.0      0.0      0.0      0.0      0.0      0.0  0.050124   \n",
       "\n",
       "   topic_7  topic_8  ...  topic_90  topic_91  topic_92  topic_93  topic_94  \\\n",
       "0      0.0      0.0  ...       0.0       0.0       0.0       0.0       0.0   \n",
       "1      0.0      0.0  ...       0.0       0.0       0.0       0.0       0.0   \n",
       "\n",
       "   topic_95  topic_96  topic_97  topic_98  topic_99  \n",
       "0  0.033755       0.0       0.0  0.011471       0.0  \n",
       "1  0.041416       0.0       0.0  0.025662       0.0  \n",
       "\n",
       "[2 rows x 101 columns]"
      ]
     },
     "execution_count": 57,
     "metadata": {},
     "output_type": "execute_result"
    }
   ],
   "source": [
    "user_embeddings = pd.DataFrame([i for i in users['articles'].apply(lambda x: get_user_embedding(x), 1)])\n",
    "user_embeddings.columns = ['topic_{}'.format(i) for i in range(N_topic)]\n",
    "user_embeddings['uid'] = users['uid'].values\n",
    "user_embeddings = user_embeddings[['uid']+['topic_{}'.format(i) for i in range(N_topic)]]\n",
    "user_embeddings.head(2)"
   ]
  },
  {
   "cell_type": "code",
   "execution_count": 58,
   "id": "06d9935c",
   "metadata": {},
   "outputs": [],
   "source": [
    "target = pd.read_csv(\"lesson_2_profiling_user_LDA/users_churn.csv\")"
   ]
  },
  {
   "cell_type": "code",
   "execution_count": 59,
   "id": "f6a57ee0",
   "metadata": {},
   "outputs": [],
   "source": [
    "X = pd.merge(user_embeddings, target, 'left')"
   ]
  },
  {
   "cell_type": "code",
   "execution_count": 60,
   "id": "72105b61",
   "metadata": {},
   "outputs": [],
   "source": [
    "X_train, X_test, y_train, y_test = train_test_split(X[['topic_{}'.format(i) for i in range(N_topic)]], \n",
    "                                                    X['churn'], random_state=0)"
   ]
  },
  {
   "cell_type": "code",
   "execution_count": 61,
   "id": "2736b64d",
   "metadata": {},
   "outputs": [],
   "source": [
    "logreg = LogisticRegression()"
   ]
  },
  {
   "cell_type": "code",
   "execution_count": 62,
   "id": "5d5393ae",
   "metadata": {},
   "outputs": [
    {
     "data": {
      "text/html": [
       "<style>#sk-container-id-2 {color: black;background-color: white;}#sk-container-id-2 pre{padding: 0;}#sk-container-id-2 div.sk-toggleable {background-color: white;}#sk-container-id-2 label.sk-toggleable__label {cursor: pointer;display: block;width: 100%;margin-bottom: 0;padding: 0.3em;box-sizing: border-box;text-align: center;}#sk-container-id-2 label.sk-toggleable__label-arrow:before {content: \"▸\";float: left;margin-right: 0.25em;color: #696969;}#sk-container-id-2 label.sk-toggleable__label-arrow:hover:before {color: black;}#sk-container-id-2 div.sk-estimator:hover label.sk-toggleable__label-arrow:before {color: black;}#sk-container-id-2 div.sk-toggleable__content {max-height: 0;max-width: 0;overflow: hidden;text-align: left;background-color: #f0f8ff;}#sk-container-id-2 div.sk-toggleable__content pre {margin: 0.2em;color: black;border-radius: 0.25em;background-color: #f0f8ff;}#sk-container-id-2 input.sk-toggleable__control:checked~div.sk-toggleable__content {max-height: 200px;max-width: 100%;overflow: auto;}#sk-container-id-2 input.sk-toggleable__control:checked~label.sk-toggleable__label-arrow:before {content: \"▾\";}#sk-container-id-2 div.sk-estimator input.sk-toggleable__control:checked~label.sk-toggleable__label {background-color: #d4ebff;}#sk-container-id-2 div.sk-label input.sk-toggleable__control:checked~label.sk-toggleable__label {background-color: #d4ebff;}#sk-container-id-2 input.sk-hidden--visually {border: 0;clip: rect(1px 1px 1px 1px);clip: rect(1px, 1px, 1px, 1px);height: 1px;margin: -1px;overflow: hidden;padding: 0;position: absolute;width: 1px;}#sk-container-id-2 div.sk-estimator {font-family: monospace;background-color: #f0f8ff;border: 1px dotted black;border-radius: 0.25em;box-sizing: border-box;margin-bottom: 0.5em;}#sk-container-id-2 div.sk-estimator:hover {background-color: #d4ebff;}#sk-container-id-2 div.sk-parallel-item::after {content: \"\";width: 100%;border-bottom: 1px solid gray;flex-grow: 1;}#sk-container-id-2 div.sk-label:hover label.sk-toggleable__label {background-color: #d4ebff;}#sk-container-id-2 div.sk-serial::before {content: \"\";position: absolute;border-left: 1px solid gray;box-sizing: border-box;top: 0;bottom: 0;left: 50%;z-index: 0;}#sk-container-id-2 div.sk-serial {display: flex;flex-direction: column;align-items: center;background-color: white;padding-right: 0.2em;padding-left: 0.2em;position: relative;}#sk-container-id-2 div.sk-item {position: relative;z-index: 1;}#sk-container-id-2 div.sk-parallel {display: flex;align-items: stretch;justify-content: center;background-color: white;position: relative;}#sk-container-id-2 div.sk-item::before, #sk-container-id-2 div.sk-parallel-item::before {content: \"\";position: absolute;border-left: 1px solid gray;box-sizing: border-box;top: 0;bottom: 0;left: 50%;z-index: -1;}#sk-container-id-2 div.sk-parallel-item {display: flex;flex-direction: column;z-index: 1;position: relative;background-color: white;}#sk-container-id-2 div.sk-parallel-item:first-child::after {align-self: flex-end;width: 50%;}#sk-container-id-2 div.sk-parallel-item:last-child::after {align-self: flex-start;width: 50%;}#sk-container-id-2 div.sk-parallel-item:only-child::after {width: 0;}#sk-container-id-2 div.sk-dashed-wrapped {border: 1px dashed gray;margin: 0 0.4em 0.5em 0.4em;box-sizing: border-box;padding-bottom: 0.4em;background-color: white;}#sk-container-id-2 div.sk-label label {font-family: monospace;font-weight: bold;display: inline-block;line-height: 1.2em;}#sk-container-id-2 div.sk-label-container {text-align: center;}#sk-container-id-2 div.sk-container {/* jupyter's `normalize.less` sets `[hidden] { display: none; }` but bootstrap.min.css set `[hidden] { display: none !important; }` so we also need the `!important` here to be able to override the default hidden behavior on the sphinx rendered scikit-learn.org. See: https://github.com/scikit-learn/scikit-learn/issues/21755 */display: inline-block !important;position: relative;}#sk-container-id-2 div.sk-text-repr-fallback {display: none;}</style><div id=\"sk-container-id-2\" class=\"sk-top-container\"><div class=\"sk-text-repr-fallback\"><pre>LogisticRegression()</pre><b>In a Jupyter environment, please rerun this cell to show the HTML representation or trust the notebook. <br />On GitHub, the HTML representation is unable to render, please try loading this page with nbviewer.org.</b></div><div class=\"sk-container\" hidden><div class=\"sk-item\"><div class=\"sk-estimator sk-toggleable\"><input class=\"sk-toggleable__control sk-hidden--visually\" id=\"sk-estimator-id-2\" type=\"checkbox\" checked><label for=\"sk-estimator-id-2\" class=\"sk-toggleable__label sk-toggleable__label-arrow\">LogisticRegression</label><div class=\"sk-toggleable__content\"><pre>LogisticRegression()</pre></div></div></div></div></div>"
      ],
      "text/plain": [
       "LogisticRegression()"
      ]
     },
     "execution_count": 62,
     "metadata": {},
     "output_type": "execute_result"
    }
   ],
   "source": [
    "logreg.fit(X_train, y_train)"
   ]
  },
  {
   "cell_type": "code",
   "execution_count": 63,
   "id": "7e4f0270",
   "metadata": {},
   "outputs": [],
   "source": [
    "preds = logreg.predict_proba(X_test)[:, 1]"
   ]
  },
  {
   "cell_type": "code",
   "execution_count": 64,
   "id": "623741e7",
   "metadata": {},
   "outputs": [],
   "source": [
    "from sklearn.metrics import f1_score, roc_auc_score, precision_score, classification_report, \\\n",
    "                            precision_recall_curve, confusion_matrix"
   ]
  },
  {
   "cell_type": "code",
   "execution_count": 65,
   "id": "2a0ecd54",
   "metadata": {},
   "outputs": [
    {
     "name": "stdout",
     "output_type": "stream",
     "text": [
      "Best Threshold=0.275469, F-Score=0.870, Precision=0.866, Recall=0.873\n"
     ]
    }
   ],
   "source": [
    "precision, recall, thresholds = precision_recall_curve(y_test, preds)\n",
    "fscore = (2 * precision * recall) / (precision + recall)\n",
    "\n",
    "# locate the index of the largest f-score\n",
    "ix = np.argmax(fscore)\n",
    "print('Best Threshold=%f, F-Score=%.3f, Precision=%.3f, Recall=%.3f' % (thresholds[ix], \n",
    "                                                                        fscore[ix],\n",
    "                                                                        precision[ix],\n",
    "                                                                        recall[ix]))"
   ]
  },
  {
   "cell_type": "code",
   "execution_count": 66,
   "id": "ea7ca3df",
   "metadata": {},
   "outputs": [
    {
     "name": "stdout",
     "output_type": "stream",
     "text": [
      "Confusion matrix, without normalization\n",
      "[[1722   33]\n",
      " [  32  213]]\n"
     ]
    },
    {
     "data": {
      "image/png": "[encoded data removed]",
      "text/plain": [
       "<Figure size 720x576 with 2 Axes>"
      ]
     },
     "metadata": {
      "needs_background": "light"
     },
     "output_type": "display_data"
    }
   ],
   "source": [
    "font = {'size' : 15}\n",
    "\n",
    "plt.rc('font', **font)\n",
    "\n",
    "cnf_matrix = confusion_matrix(y_test, preds > thresholds[ix])\n",
    "plt.figure(figsize=(10, 8))\n",
    "plot_confusion_matrix(cnf_matrix, classes=['non-churn', 'churn'],\n",
    "                      title='Confusion matrix')\n",
    "# plt.savefig(\"conf_matrix.png\")\n",
    "plt.show()"
   ]
  },
  {
   "cell_type": "code",
   "execution_count": 67,
   "id": "950dd2ff",
   "metadata": {},
   "outputs": [
    {
     "data": {
      "text/plain": [
       "0.9922344322344322"
      ]
     },
     "execution_count": 67,
     "metadata": {},
     "output_type": "execute_result"
    }
   ],
   "source": [
    "roc_auc_score(y_test, preds)"
   ]
  },
  {
   "cell_type": "code",
   "execution_count": 68,
   "id": "a3146632",
   "metadata": {},
   "outputs": [],
   "source": [
    "metrics_lda_median_embedding = [fscore[ix], precision[ix], recall[ix], roc_auc_score(y_test, preds)]"
   ]
  },
  {
   "cell_type": "code",
   "execution_count": null,
   "id": "6d4a5855",
   "metadata": {},
   "outputs": [],
   "source": []
  },
  {
   "cell_type": "code",
   "execution_count": null,
   "id": "72280718",
   "metadata": {},
   "outputs": [],
   "source": []
  },
  {
   "cell_type": "code",
   "execution_count": null,
   "id": "29c48193",
   "metadata": {},
   "outputs": [],
   "source": []
  },
  {
   "cell_type": "markdown",
   "id": "34e883a0",
   "metadata": {},
   "source": [
    "## Задание 3\n",
    "\n",
    "Повторить п.2, но используя уже не медиану, а max"
   ]
  },
  {
   "cell_type": "code",
   "execution_count": 69,
   "id": "8bb17b5a",
   "metadata": {},
   "outputs": [],
   "source": [
    "def get_user_embedding(user_articles_list):\n",
    "    '''\n",
    "    The function receives a list of articles' ids a user read - '[323329, 321961, 324743, 323186, 324632, 474690]'.\n",
    "    It converts it into a list. After this list is converted into an array of arrays of articles' probabilities.\n",
    "    After, the array of arrays is transformed into the array of mean values of probabilities.\n",
    "    '''\n",
    "    user_articles_list = eval(user_articles_list)  # converting string into list\n",
    "    user_vector = np.array([doc_dict[doc_id] for doc_id in user_articles_list])  # creation of array of arrays\n",
    "    user_vector = np.max(user_vector, axis=0)  # creation of array of collumns' maxs\n",
    "    return user_vector"
   ]
  },
  {
   "cell_type": "code",
   "execution_count": 70,
   "id": "9b99638d",
   "metadata": {},
   "outputs": [],
   "source": [
    "# array_1 = np.array([1, 2, 3])\n",
    "# array_2 = np.array([4, 5, 6])\n",
    "# array_3 = np.array([2, 3, 2])\n",
    "# resulting_array = np.array([array_1, array_2, array_3])\n",
    "# print(resulting_array)\n",
    "# print(np.max(resulting_array, axis=0))"
   ]
  },
  {
   "cell_type": "code",
   "execution_count": 71,
   "id": "f23002c8",
   "metadata": {},
   "outputs": [
    {
     "data": {
      "text/html": [
       "<div>\n",
       "<style scoped>\n",
       "    .dataframe tbody tr th:only-of-type {\n",
       "        vertical-align: middle;\n",
       "    }\n",
       "\n",
       "    .dataframe tbody tr th {\n",
       "        vertical-align: top;\n",
       "    }\n",
       "\n",
       "    .dataframe thead th {\n",
       "        text-align: right;\n",
       "    }\n",
       "</style>\n",
       "<table border=\"1\" class=\"dataframe\">\n",
       "  <thead>\n",
       "    <tr style=\"text-align: right;\">\n",
       "      <th></th>\n",
       "      <th>uid</th>\n",
       "      <th>topic_0</th>\n",
       "      <th>topic_1</th>\n",
       "      <th>topic_2</th>\n",
       "      <th>topic_3</th>\n",
       "      <th>topic_4</th>\n",
       "      <th>topic_5</th>\n",
       "      <th>topic_6</th>\n",
       "      <th>topic_7</th>\n",
       "      <th>topic_8</th>\n",
       "      <th>...</th>\n",
       "      <th>topic_90</th>\n",
       "      <th>topic_91</th>\n",
       "      <th>topic_92</th>\n",
       "      <th>topic_93</th>\n",
       "      <th>topic_94</th>\n",
       "      <th>topic_95</th>\n",
       "      <th>topic_96</th>\n",
       "      <th>topic_97</th>\n",
       "      <th>topic_98</th>\n",
       "      <th>topic_99</th>\n",
       "    </tr>\n",
       "  </thead>\n",
       "  <tbody>\n",
       "    <tr>\n",
       "      <th>0</th>\n",
       "      <td>u105138</td>\n",
       "      <td>0.000000</td>\n",
       "      <td>0.0</td>\n",
       "      <td>0.0</td>\n",
       "      <td>0.029994</td>\n",
       "      <td>0.070573</td>\n",
       "      <td>0.075383</td>\n",
       "      <td>0.214283</td>\n",
       "      <td>0.026582</td>\n",
       "      <td>0.063312</td>\n",
       "      <td>...</td>\n",
       "      <td>0.0</td>\n",
       "      <td>0.02383</td>\n",
       "      <td>0.026579</td>\n",
       "      <td>0.051569</td>\n",
       "      <td>0.026989</td>\n",
       "      <td>0.106288</td>\n",
       "      <td>0.000000</td>\n",
       "      <td>0.023284</td>\n",
       "      <td>0.083788</td>\n",
       "      <td>0.0</td>\n",
       "    </tr>\n",
       "    <tr>\n",
       "      <th>1</th>\n",
       "      <td>u108690</td>\n",
       "      <td>0.083141</td>\n",
       "      <td>0.0</td>\n",
       "      <td>0.0</td>\n",
       "      <td>0.000000</td>\n",
       "      <td>0.090656</td>\n",
       "      <td>0.012867</td>\n",
       "      <td>0.116760</td>\n",
       "      <td>0.012422</td>\n",
       "      <td>0.000000</td>\n",
       "      <td>...</td>\n",
       "      <td>0.0</td>\n",
       "      <td>0.00000</td>\n",
       "      <td>0.012428</td>\n",
       "      <td>0.000000</td>\n",
       "      <td>0.027469</td>\n",
       "      <td>0.173400</td>\n",
       "      <td>0.019776</td>\n",
       "      <td>0.016603</td>\n",
       "      <td>0.135950</td>\n",
       "      <td>0.0</td>\n",
       "    </tr>\n",
       "  </tbody>\n",
       "</table>\n",
       "<p>2 rows × 101 columns</p>\n",
       "</div>"
      ],
      "text/plain": [
       "       uid   topic_0  topic_1  topic_2   topic_3   topic_4   topic_5  \\\n",
       "0  u105138  0.000000      0.0      0.0  0.029994  0.070573  0.075383   \n",
       "1  u108690  0.083141      0.0      0.0  0.000000  0.090656  0.012867   \n",
       "\n",
       "    topic_6   topic_7   topic_8  ...  topic_90  topic_91  topic_92  topic_93  \\\n",
       "0  0.214283  0.026582  0.063312  ...       0.0   0.02383  0.026579  0.051569   \n",
       "1  0.116760  0.012422  0.000000  ...       0.0   0.00000  0.012428  0.000000   \n",
       "\n",
       "   topic_94  topic_95  topic_96  topic_97  topic_98  topic_99  \n",
       "0  0.026989  0.106288  0.000000  0.023284  0.083788       0.0  \n",
       "1  0.027469  0.173400  0.019776  0.016603  0.135950       0.0  \n",
       "\n",
       "[2 rows x 101 columns]"
      ]
     },
     "execution_count": 71,
     "metadata": {},
     "output_type": "execute_result"
    }
   ],
   "source": [
    "user_embeddings = pd.DataFrame([i for i in users['articles'].apply(lambda x: get_user_embedding(x), 1)])\n",
    "user_embeddings.columns = ['topic_{}'.format(i) for i in range(N_topic)]\n",
    "user_embeddings['uid'] = users['uid'].values\n",
    "user_embeddings = user_embeddings[['uid']+['topic_{}'.format(i) for i in range(N_topic)]]\n",
    "user_embeddings.head(2)"
   ]
  },
  {
   "cell_type": "code",
   "execution_count": 72,
   "id": "3310d013",
   "metadata": {},
   "outputs": [],
   "source": [
    "target = pd.read_csv(\"lesson_2_profiling_user_LDA/users_churn.csv\")"
   ]
  },
  {
   "cell_type": "code",
   "execution_count": 73,
   "id": "94954f55",
   "metadata": {},
   "outputs": [],
   "source": [
    "X = pd.merge(user_embeddings, target, 'left')"
   ]
  },
  {
   "cell_type": "code",
   "execution_count": 74,
   "id": "00685d6d",
   "metadata": {},
   "outputs": [],
   "source": [
    "X_train, X_test, y_train, y_test = train_test_split(X[['topic_{}'.format(i) for i in range(N_topic)]], \n",
    "                                                    X['churn'], random_state=0)"
   ]
  },
  {
   "cell_type": "code",
   "execution_count": 75,
   "id": "f2585f56",
   "metadata": {},
   "outputs": [],
   "source": [
    "logreg = LogisticRegression()"
   ]
  },
  {
   "cell_type": "code",
   "execution_count": 76,
   "id": "3d19a198",
   "metadata": {},
   "outputs": [
    {
     "data": {
      "text/html": [
       "<style>#sk-container-id-3 {color: black;background-color: white;}#sk-container-id-3 pre{padding: 0;}#sk-container-id-3 div.sk-toggleable {background-color: white;}#sk-container-id-3 label.sk-toggleable__label {cursor: pointer;display: block;width: 100%;margin-bottom: 0;padding: 0.3em;box-sizing: border-box;text-align: center;}#sk-container-id-3 label.sk-toggleable__label-arrow:before {content: \"▸\";float: left;margin-right: 0.25em;color: #696969;}#sk-container-id-3 label.sk-toggleable__label-arrow:hover:before {color: black;}#sk-container-id-3 div.sk-estimator:hover label.sk-toggleable__label-arrow:before {color: black;}#sk-container-id-3 div.sk-toggleable__content {max-height: 0;max-width: 0;overflow: hidden;text-align: left;background-color: #f0f8ff;}#sk-container-id-3 div.sk-toggleable__content pre {margin: 0.2em;color: black;border-radius: 0.25em;background-color: #f0f8ff;}#sk-container-id-3 input.sk-toggleable__control:checked~div.sk-toggleable__content {max-height: 200px;max-width: 100%;overflow: auto;}#sk-container-id-3 input.sk-toggleable__control:checked~label.sk-toggleable__label-arrow:before {content: \"▾\";}#sk-container-id-3 div.sk-estimator input.sk-toggleable__control:checked~label.sk-toggleable__label {background-color: #d4ebff;}#sk-container-id-3 div.sk-label input.sk-toggleable__control:checked~label.sk-toggleable__label {background-color: #d4ebff;}#sk-container-id-3 input.sk-hidden--visually {border: 0;clip: rect(1px 1px 1px 1px);clip: rect(1px, 1px, 1px, 1px);height: 1px;margin: -1px;overflow: hidden;padding: 0;position: absolute;width: 1px;}#sk-container-id-3 div.sk-estimator {font-family: monospace;background-color: #f0f8ff;border: 1px dotted black;border-radius: 0.25em;box-sizing: border-box;margin-bottom: 0.5em;}#sk-container-id-3 div.sk-estimator:hover {background-color: #d4ebff;}#sk-container-id-3 div.sk-parallel-item::after {content: \"\";width: 100%;border-bottom: 1px solid gray;flex-grow: 1;}#sk-container-id-3 div.sk-label:hover label.sk-toggleable__label {background-color: #d4ebff;}#sk-container-id-3 div.sk-serial::before {content: \"\";position: absolute;border-left: 1px solid gray;box-sizing: border-box;top: 0;bottom: 0;left: 50%;z-index: 0;}#sk-container-id-3 div.sk-serial {display: flex;flex-direction: column;align-items: center;background-color: white;padding-right: 0.2em;padding-left: 0.2em;position: relative;}#sk-container-id-3 div.sk-item {position: relative;z-index: 1;}#sk-container-id-3 div.sk-parallel {display: flex;align-items: stretch;justify-content: center;background-color: white;position: relative;}#sk-container-id-3 div.sk-item::before, #sk-container-id-3 div.sk-parallel-item::before {content: \"\";position: absolute;border-left: 1px solid gray;box-sizing: border-box;top: 0;bottom: 0;left: 50%;z-index: -1;}#sk-container-id-3 div.sk-parallel-item {display: flex;flex-direction: column;z-index: 1;position: relative;background-color: white;}#sk-container-id-3 div.sk-parallel-item:first-child::after {align-self: flex-end;width: 50%;}#sk-container-id-3 div.sk-parallel-item:last-child::after {align-self: flex-start;width: 50%;}#sk-container-id-3 div.sk-parallel-item:only-child::after {width: 0;}#sk-container-id-3 div.sk-dashed-wrapped {border: 1px dashed gray;margin: 0 0.4em 0.5em 0.4em;box-sizing: border-box;padding-bottom: 0.4em;background-color: white;}#sk-container-id-3 div.sk-label label {font-family: monospace;font-weight: bold;display: inline-block;line-height: 1.2em;}#sk-container-id-3 div.sk-label-container {text-align: center;}#sk-container-id-3 div.sk-container {/* jupyter's `normalize.less` sets `[hidden] { display: none; }` but bootstrap.min.css set `[hidden] { display: none !important; }` so we also need the `!important` here to be able to override the default hidden behavior on the sphinx rendered scikit-learn.org. See: https://github.com/scikit-learn/scikit-learn/issues/21755 */display: inline-block !important;position: relative;}#sk-container-id-3 div.sk-text-repr-fallback {display: none;}</style><div id=\"sk-container-id-3\" class=\"sk-top-container\"><div class=\"sk-text-repr-fallback\"><pre>LogisticRegression()</pre><b>In a Jupyter environment, please rerun this cell to show the HTML representation or trust the notebook. <br />On GitHub, the HTML representation is unable to render, please try loading this page with nbviewer.org.</b></div><div class=\"sk-container\" hidden><div class=\"sk-item\"><div class=\"sk-estimator sk-toggleable\"><input class=\"sk-toggleable__control sk-hidden--visually\" id=\"sk-estimator-id-3\" type=\"checkbox\" checked><label for=\"sk-estimator-id-3\" class=\"sk-toggleable__label sk-toggleable__label-arrow\">LogisticRegression</label><div class=\"sk-toggleable__content\"><pre>LogisticRegression()</pre></div></div></div></div></div>"
      ],
      "text/plain": [
       "LogisticRegression()"
      ]
     },
     "execution_count": 76,
     "metadata": {},
     "output_type": "execute_result"
    }
   ],
   "source": [
    "logreg.fit(X_train, y_train)"
   ]
  },
  {
   "cell_type": "code",
   "execution_count": 77,
   "id": "24feedff",
   "metadata": {},
   "outputs": [],
   "source": [
    "preds = logreg.predict_proba(X_test)[:, 1]"
   ]
  },
  {
   "cell_type": "code",
   "execution_count": 78,
   "id": "516ee7b7",
   "metadata": {},
   "outputs": [],
   "source": [
    "from sklearn.metrics import f1_score, roc_auc_score, precision_score, classification_report, \\\n",
    "                            precision_recall_curve, confusion_matrix"
   ]
  },
  {
   "cell_type": "code",
   "execution_count": 79,
   "id": "4050b512",
   "metadata": {},
   "outputs": [
    {
     "name": "stdout",
     "output_type": "stream",
     "text": [
      "Best Threshold=0.359268, F-Score=0.938, Precision=0.925, Recall=0.951\n"
     ]
    }
   ],
   "source": [
    "precision, recall, thresholds = precision_recall_curve(y_test, preds)\n",
    "fscore = (2 * precision * recall) / (precision + recall)\n",
    "\n",
    "# locate the index of the largest f-score\n",
    "ix = np.argmax(fscore)\n",
    "print('Best Threshold=%f, F-Score=%.3f, Precision=%.3f, Recall=%.3f' % (thresholds[ix], \n",
    "                                                                        fscore[ix],\n",
    "                                                                        precision[ix],\n",
    "                                                                        recall[ix]))"
   ]
  },
  {
   "cell_type": "code",
   "execution_count": 80,
   "id": "73f95aff",
   "metadata": {},
   "outputs": [
    {
     "name": "stdout",
     "output_type": "stream",
     "text": [
      "Confusion matrix, without normalization\n",
      "[[1736   19]\n",
      " [  13  232]]\n"
     ]
    },
    {
     "data": {
      "image/png": "[encoded data removed]",
      "text/plain": [
       "<Figure size 720x576 with 2 Axes>"
      ]
     },
     "metadata": {
      "needs_background": "light"
     },
     "output_type": "display_data"
    }
   ],
   "source": [
    "font = {'size' : 15}\n",
    "\n",
    "plt.rc('font', **font)\n",
    "\n",
    "cnf_matrix = confusion_matrix(y_test, preds > thresholds[ix])\n",
    "plt.figure(figsize=(10, 8))\n",
    "plot_confusion_matrix(cnf_matrix, classes=['non-churn', 'churn'],\n",
    "                      title='Confusion matrix')\n",
    "# plt.savefig(\"conf_matrix.png\")\n",
    "plt.show()"
   ]
  },
  {
   "cell_type": "code",
   "execution_count": 81,
   "id": "b90c3db1",
   "metadata": {},
   "outputs": [
    {
     "data": {
      "text/plain": [
       "0.9970719227862085"
      ]
     },
     "execution_count": 81,
     "metadata": {},
     "output_type": "execute_result"
    }
   ],
   "source": [
    "roc_auc_score(y_test, preds)"
   ]
  },
  {
   "cell_type": "code",
   "execution_count": 82,
   "id": "f19c0979",
   "metadata": {},
   "outputs": [],
   "source": [
    "metrics_lda_max_embedding = [fscore[ix], precision[ix], recall[ix], roc_auc_score(y_test, preds)]"
   ]
  },
  {
   "cell_type": "code",
   "execution_count": null,
   "id": "83729e5e",
   "metadata": {},
   "outputs": [],
   "source": []
  },
  {
   "cell_type": "code",
   "execution_count": null,
   "id": "caac8178",
   "metadata": {},
   "outputs": [],
   "source": []
  },
  {
   "cell_type": "code",
   "execution_count": null,
   "id": "b9f2e8e7",
   "metadata": {},
   "outputs": [],
   "source": []
  },
  {
   "cell_type": "markdown",
   "id": "c28978b2",
   "metadata": {},
   "source": [
    "### Задание 4 (опциональное) \n",
    "\n",
    "Воспользовавшись полученными знаниями из п.1, повторить пункт 2, но уже взвешивая новости по tfidf (подсказка: нужно получить веса-коэффициенты для каждого документа. Не все документы одинаково информативны и несут какой-то положительный сигнал). Подсказка 2 - нужен именно idf, как вес."
   ]
  },
  {
   "cell_type": "markdown",
   "id": "4047afb6",
   "metadata": {},
   "source": [
    "# as it was expected - right answer"
   ]
  },
  {
   "cell_type": "markdown",
   "id": "2dfb77eb",
   "metadata": {},
   "source": [
    "# LDA approach + weighting of IDFs of articles and multiplication of those weights on their LDA vectors while calculating users' vectors"
   ]
  },
  {
   "cell_type": "markdown",
   "id": "f25e8b0e",
   "metadata": {},
   "source": [
    "### getting IDFs of articles"
   ]
  },
  {
   "cell_type": "code",
   "execution_count": 83,
   "id": "de2a4202",
   "metadata": {},
   "outputs": [],
   "source": [
    "users_ = users.copy()"
   ]
  },
  {
   "cell_type": "code",
   "execution_count": 84,
   "id": "a9ce18a9",
   "metadata": {},
   "outputs": [
    {
     "data": {
      "text/plain": [
       "0    [293672, 293328, 293001, 293622, 293126, 1852]\n",
       "1            [3405, 1739, 2972, 1158, 1599, 322665]\n",
       "Name: articles, dtype: object"
      ]
     },
     "execution_count": 84,
     "metadata": {},
     "output_type": "execute_result"
    }
   ],
   "source": [
    "users_['articles'].head(2)"
   ]
  },
  {
   "cell_type": "code",
   "execution_count": 85,
   "id": "513ea599",
   "metadata": {},
   "outputs": [
    {
     "data": {
      "text/plain": [
       "0    293672 293328 293001 293622 293126 1852\n",
       "1            3405 1739 2972 1158 1599 322665\n",
       "Name: articles, dtype: object"
      ]
     },
     "execution_count": 85,
     "metadata": {},
     "output_type": "execute_result"
    }
   ],
   "source": [
    "users_['articles'] = users_['articles'].apply(lambda x: x.strip('[]').replace(',', ''))\n",
    "users_['articles'].head(2)"
   ]
  },
  {
   "cell_type": "code",
   "execution_count": 86,
   "id": "9ce29b67",
   "metadata": {},
   "outputs": [],
   "source": [
    "from sklearn.feature_extraction.text import TfidfVectorizer"
   ]
  },
  {
   "cell_type": "code",
   "execution_count": 87,
   "id": "79578d98",
   "metadata": {},
   "outputs": [
    {
     "data": {
      "text/html": [
       "<style>#sk-container-id-4 {color: black;background-color: white;}#sk-container-id-4 pre{padding: 0;}#sk-container-id-4 div.sk-toggleable {background-color: white;}#sk-container-id-4 label.sk-toggleable__label {cursor: pointer;display: block;width: 100%;margin-bottom: 0;padding: 0.3em;box-sizing: border-box;text-align: center;}#sk-container-id-4 label.sk-toggleable__label-arrow:before {content: \"▸\";float: left;margin-right: 0.25em;color: #696969;}#sk-container-id-4 label.sk-toggleable__label-arrow:hover:before {color: black;}#sk-container-id-4 div.sk-estimator:hover label.sk-toggleable__label-arrow:before {color: black;}#sk-container-id-4 div.sk-toggleable__content {max-height: 0;max-width: 0;overflow: hidden;text-align: left;background-color: #f0f8ff;}#sk-container-id-4 div.sk-toggleable__content pre {margin: 0.2em;color: black;border-radius: 0.25em;background-color: #f0f8ff;}#sk-container-id-4 input.sk-toggleable__control:checked~div.sk-toggleable__content {max-height: 200px;max-width: 100%;overflow: auto;}#sk-container-id-4 input.sk-toggleable__control:checked~label.sk-toggleable__label-arrow:before {content: \"▾\";}#sk-container-id-4 div.sk-estimator input.sk-toggleable__control:checked~label.sk-toggleable__label {background-color: #d4ebff;}#sk-container-id-4 div.sk-label input.sk-toggleable__control:checked~label.sk-toggleable__label {background-color: #d4ebff;}#sk-container-id-4 input.sk-hidden--visually {border: 0;clip: rect(1px 1px 1px 1px);clip: rect(1px, 1px, 1px, 1px);height: 1px;margin: -1px;overflow: hidden;padding: 0;position: absolute;width: 1px;}#sk-container-id-4 div.sk-estimator {font-family: monospace;background-color: #f0f8ff;border: 1px dotted black;border-radius: 0.25em;box-sizing: border-box;margin-bottom: 0.5em;}#sk-container-id-4 div.sk-estimator:hover {background-color: #d4ebff;}#sk-container-id-4 div.sk-parallel-item::after {content: \"\";width: 100%;border-bottom: 1px solid gray;flex-grow: 1;}#sk-container-id-4 div.sk-label:hover label.sk-toggleable__label {background-color: #d4ebff;}#sk-container-id-4 div.sk-serial::before {content: \"\";position: absolute;border-left: 1px solid gray;box-sizing: border-box;top: 0;bottom: 0;left: 50%;z-index: 0;}#sk-container-id-4 div.sk-serial {display: flex;flex-direction: column;align-items: center;background-color: white;padding-right: 0.2em;padding-left: 0.2em;position: relative;}#sk-container-id-4 div.sk-item {position: relative;z-index: 1;}#sk-container-id-4 div.sk-parallel {display: flex;align-items: stretch;justify-content: center;background-color: white;position: relative;}#sk-container-id-4 div.sk-item::before, #sk-container-id-4 div.sk-parallel-item::before {content: \"\";position: absolute;border-left: 1px solid gray;box-sizing: border-box;top: 0;bottom: 0;left: 50%;z-index: -1;}#sk-container-id-4 div.sk-parallel-item {display: flex;flex-direction: column;z-index: 1;position: relative;background-color: white;}#sk-container-id-4 div.sk-parallel-item:first-child::after {align-self: flex-end;width: 50%;}#sk-container-id-4 div.sk-parallel-item:last-child::after {align-self: flex-start;width: 50%;}#sk-container-id-4 div.sk-parallel-item:only-child::after {width: 0;}#sk-container-id-4 div.sk-dashed-wrapped {border: 1px dashed gray;margin: 0 0.4em 0.5em 0.4em;box-sizing: border-box;padding-bottom: 0.4em;background-color: white;}#sk-container-id-4 div.sk-label label {font-family: monospace;font-weight: bold;display: inline-block;line-height: 1.2em;}#sk-container-id-4 div.sk-label-container {text-align: center;}#sk-container-id-4 div.sk-container {/* jupyter's `normalize.less` sets `[hidden] { display: none; }` but bootstrap.min.css set `[hidden] { display: none !important; }` so we also need the `!important` here to be able to override the default hidden behavior on the sphinx rendered scikit-learn.org. See: https://github.com/scikit-learn/scikit-learn/issues/21755 */display: inline-block !important;position: relative;}#sk-container-id-4 div.sk-text-repr-fallback {display: none;}</style><div id=\"sk-container-id-4\" class=\"sk-top-container\"><div class=\"sk-text-repr-fallback\"><pre>TfidfVectorizer()</pre><b>In a Jupyter environment, please rerun this cell to show the HTML representation or trust the notebook. <br />On GitHub, the HTML representation is unable to render, please try loading this page with nbviewer.org.</b></div><div class=\"sk-container\" hidden><div class=\"sk-item\"><div class=\"sk-estimator sk-toggleable\"><input class=\"sk-toggleable__control sk-hidden--visually\" id=\"sk-estimator-id-4\" type=\"checkbox\" checked><label for=\"sk-estimator-id-4\" class=\"sk-toggleable__label sk-toggleable__label-arrow\">TfidfVectorizer</label><div class=\"sk-toggleable__content\"><pre>TfidfVectorizer()</pre></div></div></div></div></div>"
      ],
      "text/plain": [
       "TfidfVectorizer()"
      ]
     },
     "execution_count": 87,
     "metadata": {},
     "output_type": "execute_result"
    }
   ],
   "source": [
    "tfidf = TfidfVectorizer()\n",
    "tfidf.fit(users['articles'])"
   ]
  },
  {
   "cell_type": "code",
   "execution_count": 88,
   "id": "15ef3885",
   "metadata": {},
   "outputs": [
    {
     "data": {
      "text/plain": [
       "[10, 100, 1000, 1001, 1002, 1003, 1005, 1006, 1007, 1008]"
      ]
     },
     "execution_count": 88,
     "metadata": {},
     "output_type": "execute_result"
    }
   ],
   "source": [
    "ids_of_articles_list = [int(_) for _ in tfidf.get_feature_names_out()]\n",
    "ids_of_articles_list[:10]"
   ]
  },
  {
   "cell_type": "code",
   "execution_count": 89,
   "id": "bc087675",
   "metadata": {},
   "outputs": [
    {
     "data": {
      "text/plain": [
       "array([8.88870952, 7.90788027, 8.04141166, 8.88870952, 8.88870952,\n",
       "       8.04141166, 8.60102745, 9.29417463, 9.29417463, 9.29417463])"
      ]
     },
     "execution_count": 89,
     "metadata": {},
     "output_type": "execute_result"
    }
   ],
   "source": [
    "idfs_of_articles = tfidf.idf_\n",
    "idfs_of_articles[:10]"
   ]
  },
  {
   "cell_type": "code",
   "execution_count": 90,
   "id": "3d455dac",
   "metadata": {},
   "outputs": [
    {
     "data": {
      "text/plain": [
       "True"
      ]
     },
     "execution_count": 90,
     "metadata": {},
     "output_type": "execute_result"
    }
   ],
   "source": [
    "len(ids_of_articles_list) == len(idfs_of_articles)"
   ]
  },
  {
   "cell_type": "code",
   "execution_count": 91,
   "id": "d3704eab",
   "metadata": {},
   "outputs": [],
   "source": [
    "idf_dict = dict(zip(ids_of_articles_list, idfs_of_articles))\n",
    "# idf_dict"
   ]
  },
  {
   "cell_type": "code",
   "execution_count": 92,
   "id": "e5154715",
   "metadata": {},
   "outputs": [],
   "source": [
    "doc_dict = dict(zip(topic_matrix['doc_id'].values, topic_matrix[['topic_{}'.format(i) for i in range(N_topic)]].values))"
   ]
  },
  {
   "cell_type": "markdown",
   "id": "6f28b7b8",
   "metadata": {},
   "source": [
    "### creation of users' vectors; np.mean is used in embedding"
   ]
  },
  {
   "cell_type": "code",
   "execution_count": 93,
   "id": "da9ef70f",
   "metadata": {},
   "outputs": [],
   "source": [
    "def get_user_embedding(user_articles_list):\n",
    "    '''\n",
    "    The function receives a list of articles' ids a user read - '[323329, 321961, 324743, 323186, 324632, 474690]'.\n",
    "    It converts it into a list. After this list is converted into an array of arrays of articles' probabilities.\n",
    "    After, the array of arrays is transformed into the array of mean values of probabilities.\n",
    "    '''\n",
    "    user_articles_list = eval(user_articles_list)  # converting string into list\n",
    "    user_vector = np.array([doc_dict[doc_id] * idf_dict[doc_id] for doc_id in user_articles_list if doc_id in idf_dict])  \n",
    "                                                                                            # creation of array of arrays\n",
    "    user_vector = np.mean(user_vector, axis=0)  # creation of array of collumns' maxs\n",
    "    return user_vector"
   ]
  },
  {
   "cell_type": "code",
   "execution_count": 94,
   "id": "772f6594",
   "metadata": {},
   "outputs": [
    {
     "data": {
      "text/html": [
       "<div>\n",
       "<style scoped>\n",
       "    .dataframe tbody tr th:only-of-type {\n",
       "        vertical-align: middle;\n",
       "    }\n",
       "\n",
       "    .dataframe tbody tr th {\n",
       "        vertical-align: top;\n",
       "    }\n",
       "\n",
       "    .dataframe thead th {\n",
       "        text-align: right;\n",
       "    }\n",
       "</style>\n",
       "<table border=\"1\" class=\"dataframe\">\n",
       "  <thead>\n",
       "    <tr style=\"text-align: right;\">\n",
       "      <th></th>\n",
       "      <th>uid</th>\n",
       "      <th>topic_0</th>\n",
       "      <th>topic_1</th>\n",
       "      <th>topic_2</th>\n",
       "      <th>topic_3</th>\n",
       "      <th>topic_4</th>\n",
       "      <th>topic_5</th>\n",
       "      <th>topic_6</th>\n",
       "      <th>topic_7</th>\n",
       "      <th>topic_8</th>\n",
       "      <th>...</th>\n",
       "      <th>topic_90</th>\n",
       "      <th>topic_91</th>\n",
       "      <th>topic_92</th>\n",
       "      <th>topic_93</th>\n",
       "      <th>topic_94</th>\n",
       "      <th>topic_95</th>\n",
       "      <th>topic_96</th>\n",
       "      <th>topic_97</th>\n",
       "      <th>topic_98</th>\n",
       "      <th>topic_99</th>\n",
       "    </tr>\n",
       "  </thead>\n",
       "  <tbody>\n",
       "    <tr>\n",
       "      <th>0</th>\n",
       "      <td>u105138</td>\n",
       "      <td>0.000000</td>\n",
       "      <td>0.0</td>\n",
       "      <td>0.0</td>\n",
       "      <td>0.046462</td>\n",
       "      <td>0.190434</td>\n",
       "      <td>0.102967</td>\n",
       "      <td>0.378445</td>\n",
       "      <td>0.038105</td>\n",
       "      <td>0.172319</td>\n",
       "      <td>...</td>\n",
       "      <td>0.0</td>\n",
       "      <td>0.036913</td>\n",
       "      <td>0.038101</td>\n",
       "      <td>0.07044</td>\n",
       "      <td>0.038688</td>\n",
       "      <td>0.351258</td>\n",
       "      <td>0.000000</td>\n",
       "      <td>0.047856</td>\n",
       "      <td>0.231193</td>\n",
       "      <td>0.0</td>\n",
       "    </tr>\n",
       "    <tr>\n",
       "      <th>1</th>\n",
       "      <td>u108690</td>\n",
       "      <td>0.193787</td>\n",
       "      <td>0.0</td>\n",
       "      <td>0.0</td>\n",
       "      <td>0.000000</td>\n",
       "      <td>0.154582</td>\n",
       "      <td>0.016706</td>\n",
       "      <td>0.469116</td>\n",
       "      <td>0.017806</td>\n",
       "      <td>0.000000</td>\n",
       "      <td>...</td>\n",
       "      <td>0.0</td>\n",
       "      <td>0.000000</td>\n",
       "      <td>0.016975</td>\n",
       "      <td>0.00000</td>\n",
       "      <td>0.037521</td>\n",
       "      <td>0.445936</td>\n",
       "      <td>0.029297</td>\n",
       "      <td>0.024597</td>\n",
       "      <td>0.397225</td>\n",
       "      <td>0.0</td>\n",
       "    </tr>\n",
       "  </tbody>\n",
       "</table>\n",
       "<p>2 rows × 101 columns</p>\n",
       "</div>"
      ],
      "text/plain": [
       "       uid   topic_0  topic_1  topic_2   topic_3   topic_4   topic_5  \\\n",
       "0  u105138  0.000000      0.0      0.0  0.046462  0.190434  0.102967   \n",
       "1  u108690  0.193787      0.0      0.0  0.000000  0.154582  0.016706   \n",
       "\n",
       "    topic_6   topic_7   topic_8  ...  topic_90  topic_91  topic_92  topic_93  \\\n",
       "0  0.378445  0.038105  0.172319  ...       0.0  0.036913  0.038101   0.07044   \n",
       "1  0.469116  0.017806  0.000000  ...       0.0  0.000000  0.016975   0.00000   \n",
       "\n",
       "   topic_94  topic_95  topic_96  topic_97  topic_98  topic_99  \n",
       "0  0.038688  0.351258  0.000000  0.047856  0.231193       0.0  \n",
       "1  0.037521  0.445936  0.029297  0.024597  0.397225       0.0  \n",
       "\n",
       "[2 rows x 101 columns]"
      ]
     },
     "execution_count": 94,
     "metadata": {},
     "output_type": "execute_result"
    }
   ],
   "source": [
    "user_embeddings = pd.DataFrame([i for i in users['articles'].apply(lambda x: get_user_embedding(x), 1)])\n",
    "user_embeddings.columns = ['topic_{}'.format(i) for i in range(N_topic)]\n",
    "user_embeddings['uid'] = users['uid'].values\n",
    "user_embeddings = user_embeddings[['uid']+['topic_{}'.format(i) for i in range(N_topic)]]\n",
    "user_embeddings.head(2)"
   ]
  },
  {
   "cell_type": "markdown",
   "id": "55b46575",
   "metadata": {},
   "source": [
    "### prediction model and test"
   ]
  },
  {
   "cell_type": "code",
   "execution_count": 95,
   "id": "cd74bb90",
   "metadata": {},
   "outputs": [],
   "source": [
    "target = pd.read_csv(\"lesson_2_profiling_user_LDA/users_churn.csv\")"
   ]
  },
  {
   "cell_type": "code",
   "execution_count": 96,
   "id": "a8e7d556",
   "metadata": {},
   "outputs": [],
   "source": [
    "X = pd.merge(user_embeddings, target, 'left')"
   ]
  },
  {
   "cell_type": "code",
   "execution_count": 97,
   "id": "09fe7def",
   "metadata": {},
   "outputs": [],
   "source": [
    "X_train, X_test, y_train, y_test = train_test_split(X[['topic_{}'.format(i) for i in range(N_topic)]], \n",
    "                                                    X['churn'], random_state=0)"
   ]
  },
  {
   "cell_type": "code",
   "execution_count": 98,
   "id": "89dd44ce",
   "metadata": {},
   "outputs": [],
   "source": [
    "logreg = LogisticRegression()"
   ]
  },
  {
   "cell_type": "code",
   "execution_count": 99,
   "id": "0c383b64",
   "metadata": {},
   "outputs": [
    {
     "data": {
      "text/html": [
       "<style>#sk-container-id-5 {color: black;background-color: white;}#sk-container-id-5 pre{padding: 0;}#sk-container-id-5 div.sk-toggleable {background-color: white;}#sk-container-id-5 label.sk-toggleable__label {cursor: pointer;display: block;width: 100%;margin-bottom: 0;padding: 0.3em;box-sizing: border-box;text-align: center;}#sk-container-id-5 label.sk-toggleable__label-arrow:before {content: \"▸\";float: left;margin-right: 0.25em;color: #696969;}#sk-container-id-5 label.sk-toggleable__label-arrow:hover:before {color: black;}#sk-container-id-5 div.sk-estimator:hover label.sk-toggleable__label-arrow:before {color: black;}#sk-container-id-5 div.sk-toggleable__content {max-height: 0;max-width: 0;overflow: hidden;text-align: left;background-color: #f0f8ff;}#sk-container-id-5 div.sk-toggleable__content pre {margin: 0.2em;color: black;border-radius: 0.25em;background-color: #f0f8ff;}#sk-container-id-5 input.sk-toggleable__control:checked~div.sk-toggleable__content {max-height: 200px;max-width: 100%;overflow: auto;}#sk-container-id-5 input.sk-toggleable__control:checked~label.sk-toggleable__label-arrow:before {content: \"▾\";}#sk-container-id-5 div.sk-estimator input.sk-toggleable__control:checked~label.sk-toggleable__label {background-color: #d4ebff;}#sk-container-id-5 div.sk-label input.sk-toggleable__control:checked~label.sk-toggleable__label {background-color: #d4ebff;}#sk-container-id-5 input.sk-hidden--visually {border: 0;clip: rect(1px 1px 1px 1px);clip: rect(1px, 1px, 1px, 1px);height: 1px;margin: -1px;overflow: hidden;padding: 0;position: absolute;width: 1px;}#sk-container-id-5 div.sk-estimator {font-family: monospace;background-color: #f0f8ff;border: 1px dotted black;border-radius: 0.25em;box-sizing: border-box;margin-bottom: 0.5em;}#sk-container-id-5 div.sk-estimator:hover {background-color: #d4ebff;}#sk-container-id-5 div.sk-parallel-item::after {content: \"\";width: 100%;border-bottom: 1px solid gray;flex-grow: 1;}#sk-container-id-5 div.sk-label:hover label.sk-toggleable__label {background-color: #d4ebff;}#sk-container-id-5 div.sk-serial::before {content: \"\";position: absolute;border-left: 1px solid gray;box-sizing: border-box;top: 0;bottom: 0;left: 50%;z-index: 0;}#sk-container-id-5 div.sk-serial {display: flex;flex-direction: column;align-items: center;background-color: white;padding-right: 0.2em;padding-left: 0.2em;position: relative;}#sk-container-id-5 div.sk-item {position: relative;z-index: 1;}#sk-container-id-5 div.sk-parallel {display: flex;align-items: stretch;justify-content: center;background-color: white;position: relative;}#sk-container-id-5 div.sk-item::before, #sk-container-id-5 div.sk-parallel-item::before {content: \"\";position: absolute;border-left: 1px solid gray;box-sizing: border-box;top: 0;bottom: 0;left: 50%;z-index: -1;}#sk-container-id-5 div.sk-parallel-item {display: flex;flex-direction: column;z-index: 1;position: relative;background-color: white;}#sk-container-id-5 div.sk-parallel-item:first-child::after {align-self: flex-end;width: 50%;}#sk-container-id-5 div.sk-parallel-item:last-child::after {align-self: flex-start;width: 50%;}#sk-container-id-5 div.sk-parallel-item:only-child::after {width: 0;}#sk-container-id-5 div.sk-dashed-wrapped {border: 1px dashed gray;margin: 0 0.4em 0.5em 0.4em;box-sizing: border-box;padding-bottom: 0.4em;background-color: white;}#sk-container-id-5 div.sk-label label {font-family: monospace;font-weight: bold;display: inline-block;line-height: 1.2em;}#sk-container-id-5 div.sk-label-container {text-align: center;}#sk-container-id-5 div.sk-container {/* jupyter's `normalize.less` sets `[hidden] { display: none; }` but bootstrap.min.css set `[hidden] { display: none !important; }` so we also need the `!important` here to be able to override the default hidden behavior on the sphinx rendered scikit-learn.org. See: https://github.com/scikit-learn/scikit-learn/issues/21755 */display: inline-block !important;position: relative;}#sk-container-id-5 div.sk-text-repr-fallback {display: none;}</style><div id=\"sk-container-id-5\" class=\"sk-top-container\"><div class=\"sk-text-repr-fallback\"><pre>LogisticRegression()</pre><b>In a Jupyter environment, please rerun this cell to show the HTML representation or trust the notebook. <br />On GitHub, the HTML representation is unable to render, please try loading this page with nbviewer.org.</b></div><div class=\"sk-container\" hidden><div class=\"sk-item\"><div class=\"sk-estimator sk-toggleable\"><input class=\"sk-toggleable__control sk-hidden--visually\" id=\"sk-estimator-id-5\" type=\"checkbox\" checked><label for=\"sk-estimator-id-5\" class=\"sk-toggleable__label sk-toggleable__label-arrow\">LogisticRegression</label><div class=\"sk-toggleable__content\"><pre>LogisticRegression()</pre></div></div></div></div></div>"
      ],
      "text/plain": [
       "LogisticRegression()"
      ]
     },
     "execution_count": 99,
     "metadata": {},
     "output_type": "execute_result"
    }
   ],
   "source": [
    "logreg.fit(X_train, y_train)"
   ]
  },
  {
   "cell_type": "code",
   "execution_count": 100,
   "id": "f42b00d5",
   "metadata": {},
   "outputs": [],
   "source": [
    "preds = logreg.predict_proba(X_test)[:, 1]"
   ]
  },
  {
   "cell_type": "code",
   "execution_count": 101,
   "id": "551356c3",
   "metadata": {},
   "outputs": [],
   "source": [
    "from sklearn.metrics import f1_score, roc_auc_score, precision_score, classification_report, \\\n",
    "                            precision_recall_curve, confusion_matrix"
   ]
  },
  {
   "cell_type": "code",
   "execution_count": 102,
   "id": "800d89eb",
   "metadata": {},
   "outputs": [
    {
     "name": "stdout",
     "output_type": "stream",
     "text": [
      "Best Threshold=0.436821, F-Score=0.916, Precision=0.901, Recall=0.931\n"
     ]
    }
   ],
   "source": [
    "precision, recall, thresholds = precision_recall_curve(y_test, preds)\n",
    "fscore = (2 * precision * recall) / (precision + recall)\n",
    "\n",
    "# locate the index of the largest f-score\n",
    "ix = np.argmax(fscore)\n",
    "print('Best Threshold=%f, F-Score=%.3f, Precision=%.3f, Recall=%.3f' % (thresholds[ix], \n",
    "                                                                        fscore[ix],\n",
    "                                                                        precision[ix],\n",
    "                                                                        recall[ix]))"
   ]
  },
  {
   "cell_type": "code",
   "execution_count": 103,
   "id": "f6f39a82",
   "metadata": {},
   "outputs": [
    {
     "name": "stdout",
     "output_type": "stream",
     "text": [
      "Confusion matrix, without normalization\n",
      "[[1730   25]\n",
      " [  18  227]]\n"
     ]
    },
    {
     "data": {
      "image/png": "[encoded data removed]",
      "text/plain": [
       "<Figure size 720x576 with 2 Axes>"
      ]
     },
     "metadata": {
      "needs_background": "light"
     },
     "output_type": "display_data"
    }
   ],
   "source": [
    "font = {'size' : 15}\n",
    "\n",
    "plt.rc('font', **font)\n",
    "\n",
    "cnf_matrix = confusion_matrix(y_test, preds > thresholds[ix])\n",
    "plt.figure(figsize=(10, 8))\n",
    "plot_confusion_matrix(cnf_matrix, classes=['non-churn', 'churn'],\n",
    "                      title='Confusion matrix')\n",
    "# plt.savefig(\"conf_matrix.png\")\n",
    "plt.show()"
   ]
  },
  {
   "cell_type": "code",
   "execution_count": 104,
   "id": "51c6b4d7",
   "metadata": {},
   "outputs": [
    {
     "data": {
      "text/plain": [
       "0.9954881097738241"
      ]
     },
     "execution_count": 104,
     "metadata": {},
     "output_type": "execute_result"
    }
   ],
   "source": [
    "roc_auc_score(y_test, preds)"
   ]
  },
  {
   "cell_type": "code",
   "execution_count": 105,
   "id": "03a30012",
   "metadata": {},
   "outputs": [],
   "source": [
    "metrics_lda_idf_mean_embedding = [fscore[ix], precision[ix], recall[ix], roc_auc_score(y_test, preds)]"
   ]
  },
  {
   "cell_type": "code",
   "execution_count": null,
   "id": "9e936e7b",
   "metadata": {},
   "outputs": [],
   "source": []
  },
  {
   "cell_type": "code",
   "execution_count": null,
   "id": "a5c78bce",
   "metadata": {},
   "outputs": [],
   "source": []
  },
  {
   "cell_type": "code",
   "execution_count": null,
   "id": "1f48bcf2",
   "metadata": {},
   "outputs": [],
   "source": []
  },
  {
   "cell_type": "markdown",
   "id": "22662ecb",
   "metadata": {},
   "source": [
    "# my version (initial, there is an improved one)!!!"
   ]
  },
  {
   "cell_type": "markdown",
   "id": "5b879df9",
   "metadata": {},
   "source": [
    "# creation of a user's vector through calculation of the mean of TF-IDF vectors of articles a user read; LDA is not used"
   ]
  },
  {
   "cell_type": "code",
   "execution_count": 106,
   "id": "126df147",
   "metadata": {},
   "outputs": [],
   "source": [
    "from sklearn.feature_extraction.text import TfidfVectorizer"
   ]
  },
  {
   "cell_type": "markdown",
   "id": "9af4facc",
   "metadata": {},
   "source": [
    "### TfidfVectorizer initialization"
   ]
  },
  {
   "cell_type": "code",
   "execution_count": 107,
   "id": "ab730dc6",
   "metadata": {},
   "outputs": [],
   "source": [
    "N_features=100\n",
    "tf = TfidfVectorizer(stop_words=stopword_ru, max_features=N_features)"
   ]
  },
  {
   "cell_type": "code",
   "execution_count": 108,
   "id": "0f7a537e",
   "metadata": {},
   "outputs": [
    {
     "data": {
      "text/html": [
       "<div>\n",
       "<style scoped>\n",
       "    .dataframe tbody tr th:only-of-type {\n",
       "        vertical-align: middle;\n",
       "    }\n",
       "\n",
       "    .dataframe tbody tr th {\n",
       "        vertical-align: top;\n",
       "    }\n",
       "\n",
       "    .dataframe thead th {\n",
       "        text-align: right;\n",
       "    }\n",
       "</style>\n",
       "<table border=\"1\" class=\"dataframe\">\n",
       "  <thead>\n",
       "    <tr style=\"text-align: right;\">\n",
       "      <th></th>\n",
       "      <th>doc_id</th>\n",
       "      <th>title</th>\n",
       "    </tr>\n",
       "  </thead>\n",
       "  <tbody>\n",
       "    <tr>\n",
       "      <th>0</th>\n",
       "      <td>6</td>\n",
       "      <td>[заместитель, председатель, правительство, рф,...</td>\n",
       "    </tr>\n",
       "    <tr>\n",
       "      <th>1</th>\n",
       "      <td>4896</td>\n",
       "      <td>[матч, финал, кубок, россия, футбол, приостано...</td>\n",
       "    </tr>\n",
       "    <tr>\n",
       "      <th>2</th>\n",
       "      <td>4897</td>\n",
       "      <td>[форвард, авангард, томаш, заборский, прокомме...</td>\n",
       "    </tr>\n",
       "    <tr>\n",
       "      <th>3</th>\n",
       "      <td>4898</td>\n",
       "      <td>[главный, тренер, кубань, юрий, красножанин, п...</td>\n",
       "    </tr>\n",
       "    <tr>\n",
       "      <th>4</th>\n",
       "      <td>4899</td>\n",
       "      <td>[решение, попечительский, совет, владивостокск...</td>\n",
       "    </tr>\n",
       "    <tr>\n",
       "      <th>...</th>\n",
       "      <td>...</td>\n",
       "      <td>...</td>\n",
       "    </tr>\n",
       "    <tr>\n",
       "      <th>26995</th>\n",
       "      <td>513441</td>\n",
       "      <td>[учёный, токийский, университет, морской, наук...</td>\n",
       "    </tr>\n",
       "    <tr>\n",
       "      <th>26996</th>\n",
       "      <td>513442</td>\n",
       "      <td>[глава, кафедра, отечественный, история, xx, в...</td>\n",
       "    </tr>\n",
       "    <tr>\n",
       "      <th>26997</th>\n",
       "      <td>513443</td>\n",
       "      <td>[американский, учёный, уточнить, возраст, расп...</td>\n",
       "    </tr>\n",
       "    <tr>\n",
       "      <th>26998</th>\n",
       "      <td>513444</td>\n",
       "      <td>[последний, тропический, углеродный, цикл, чув...</td>\n",
       "    </tr>\n",
       "    <tr>\n",
       "      <th>26999</th>\n",
       "      <td>513445</td>\n",
       "      <td>[жить, примерно, тыс, назад, территория, совре...</td>\n",
       "    </tr>\n",
       "  </tbody>\n",
       "</table>\n",
       "<p>27000 rows × 2 columns</p>\n",
       "</div>"
      ],
      "text/plain": [
       "       doc_id                                              title\n",
       "0           6  [заместитель, председатель, правительство, рф,...\n",
       "1        4896  [матч, финал, кубок, россия, футбол, приостано...\n",
       "2        4897  [форвард, авангард, томаш, заборский, прокомме...\n",
       "3        4898  [главный, тренер, кубань, юрий, красножанин, п...\n",
       "4        4899  [решение, попечительский, совет, владивостокск...\n",
       "...       ...                                                ...\n",
       "26995  513441  [учёный, токийский, университет, морской, наук...\n",
       "26996  513442  [глава, кафедра, отечественный, история, xx, в...\n",
       "26997  513443  [американский, учёный, уточнить, возраст, расп...\n",
       "26998  513444  [последний, тропический, углеродный, цикл, чув...\n",
       "26999  513445  [жить, примерно, тыс, назад, территория, совре...\n",
       "\n",
       "[27000 rows x 2 columns]"
      ]
     },
     "execution_count": 108,
     "metadata": {},
     "output_type": "execute_result"
    }
   ],
   "source": [
    "news_ = news.copy()  # precautions measures\n",
    "news_"
   ]
  },
  {
   "cell_type": "markdown",
   "id": "0f36abd0",
   "metadata": {},
   "source": [
    "### changing datatype of news_['title'] from list to string"
   ]
  },
  {
   "cell_type": "code",
   "execution_count": 109,
   "id": "a4009bc6",
   "metadata": {},
   "outputs": [],
   "source": [
    "news_['title'] = news_['title'].apply(lambda x: clean_text(str(x)))"
   ]
  },
  {
   "cell_type": "code",
   "execution_count": 110,
   "id": "55308e6e",
   "metadata": {},
   "outputs": [
    {
     "data": {
      "text/plain": [
       "0        заместитель председатель правительство рф серг...\n",
       "1        матч финал кубок россия футбол приостановить с...\n",
       "2        форвард авангард томаш заборский прокомментиро...\n",
       "3        главный тренер кубань юрий красножанин прокомм...\n",
       "4        решение попечительский совет владивостокский с...\n",
       "                               ...                        \n",
       "26995    учёный токийский университет морской наука тех...\n",
       "26996    глава кафедра отечественный история xx век ист...\n",
       "26997    американский учёный уточнить возраст расположи...\n",
       "26998    последний тропический углеродный цикл чувствит...\n",
       "26999    жить примерно тыс назад территория современный...\n",
       "Name: title, Length: 27000, dtype: object"
      ]
     },
     "execution_count": 110,
     "metadata": {},
     "output_type": "execute_result"
    }
   ],
   "source": [
    "news_['title']"
   ]
  },
  {
   "cell_type": "markdown",
   "id": "1b701a16",
   "metadata": {},
   "source": [
    "### creation of sparse matrix with tf.fit_transform"
   ]
  },
  {
   "cell_type": "code",
   "execution_count": 111,
   "id": "69c618f3",
   "metadata": {},
   "outputs": [
    {
     "name": "stderr",
     "output_type": "stream",
     "text": [
      "C:\\Users\\fross\\anaconda3\\lib\\site-packages\\sklearn\\feature_extraction\\text.py:404: UserWarning: Your stop_words may be inconsistent with your preprocessing. Tokenizing the stop words generated tokens ['_ссылка', 'всё', 'интерфакс', 'как_сообщили_риа_', 'новости', 'передает_риа_', 'сообщает_', 'сообщает_риа_'] not in stop_words.\n",
      "  warnings.warn(\n"
     ]
    },
    {
     "data": {
      "text/plain": [
       "<27000x100 sparse matrix of type '<class 'numpy.float64'>'\n",
       "\twith 463980 stored elements in Compressed Sparse Row format>"
      ]
     },
     "execution_count": 111,
     "metadata": {},
     "output_type": "execute_result"
    }
   ],
   "source": [
    "tfidf_articles = tf.fit_transform(news_['title'])\n",
    "tfidf_articles"
   ]
  },
  {
   "cell_type": "code",
   "execution_count": 112,
   "id": "de6ee187",
   "metadata": {},
   "outputs": [
    {
     "data": {
      "text/html": [
       "<div>\n",
       "<style scoped>\n",
       "    .dataframe tbody tr th:only-of-type {\n",
       "        vertical-align: middle;\n",
       "    }\n",
       "\n",
       "    .dataframe tbody tr th {\n",
       "        vertical-align: top;\n",
       "    }\n",
       "\n",
       "    .dataframe thead th {\n",
       "        text-align: right;\n",
       "    }\n",
       "</style>\n",
       "<table border=\"1\" class=\"dataframe\">\n",
       "  <thead>\n",
       "    <tr style=\"text-align: right;\">\n",
       "      <th></th>\n",
       "      <th>word_0</th>\n",
       "      <th>word_1</th>\n",
       "      <th>word_2</th>\n",
       "      <th>word_3</th>\n",
       "      <th>word_4</th>\n",
       "      <th>word_5</th>\n",
       "      <th>word_6</th>\n",
       "      <th>word_7</th>\n",
       "      <th>word_8</th>\n",
       "      <th>word_9</th>\n",
       "      <th>...</th>\n",
       "      <th>word_90</th>\n",
       "      <th>word_91</th>\n",
       "      <th>word_92</th>\n",
       "      <th>word_93</th>\n",
       "      <th>word_94</th>\n",
       "      <th>word_95</th>\n",
       "      <th>word_96</th>\n",
       "      <th>word_97</th>\n",
       "      <th>word_98</th>\n",
       "      <th>word_99</th>\n",
       "    </tr>\n",
       "  </thead>\n",
       "  <tbody>\n",
       "    <tr>\n",
       "      <th>0</th>\n",
       "      <td>0.564466</td>\n",
       "      <td>0.000000</td>\n",
       "      <td>0.0</td>\n",
       "      <td>0.255722</td>\n",
       "      <td>0.0</td>\n",
       "      <td>0.0</td>\n",
       "      <td>0.0</td>\n",
       "      <td>0.0</td>\n",
       "      <td>0.177648</td>\n",
       "      <td>0.0</td>\n",
       "      <td>...</td>\n",
       "      <td>0.0</td>\n",
       "      <td>0.0</td>\n",
       "      <td>0.0</td>\n",
       "      <td>0.0</td>\n",
       "      <td>0.0</td>\n",
       "      <td>0.0</td>\n",
       "      <td>0.0</td>\n",
       "      <td>0.0</td>\n",
       "      <td>0.0</td>\n",
       "      <td>0.0</td>\n",
       "    </tr>\n",
       "    <tr>\n",
       "      <th>1</th>\n",
       "      <td>0.000000</td>\n",
       "      <td>0.697328</td>\n",
       "      <td>0.0</td>\n",
       "      <td>0.000000</td>\n",
       "      <td>0.0</td>\n",
       "      <td>0.0</td>\n",
       "      <td>0.0</td>\n",
       "      <td>0.0</td>\n",
       "      <td>0.000000</td>\n",
       "      <td>0.0</td>\n",
       "      <td>...</td>\n",
       "      <td>0.0</td>\n",
       "      <td>0.0</td>\n",
       "      <td>0.0</td>\n",
       "      <td>0.0</td>\n",
       "      <td>0.0</td>\n",
       "      <td>0.0</td>\n",
       "      <td>0.0</td>\n",
       "      <td>0.0</td>\n",
       "      <td>0.0</td>\n",
       "      <td>0.0</td>\n",
       "    </tr>\n",
       "  </tbody>\n",
       "</table>\n",
       "<p>2 rows × 100 columns</p>\n",
       "</div>"
      ],
      "text/plain": [
       "     word_0    word_1  word_2    word_3  word_4  word_5  word_6  word_7  \\\n",
       "0  0.564466  0.000000     0.0  0.255722     0.0     0.0     0.0     0.0   \n",
       "1  0.000000  0.697328     0.0  0.000000     0.0     0.0     0.0     0.0   \n",
       "\n",
       "     word_8  word_9  ...  word_90  word_91  word_92  word_93  word_94  \\\n",
       "0  0.177648     0.0  ...      0.0      0.0      0.0      0.0      0.0   \n",
       "1  0.000000     0.0  ...      0.0      0.0      0.0      0.0      0.0   \n",
       "\n",
       "   word_95  word_96  word_97  word_98  word_99  \n",
       "0      0.0      0.0      0.0      0.0      0.0  \n",
       "1      0.0      0.0      0.0      0.0      0.0  \n",
       "\n",
       "[2 rows x 100 columns]"
      ]
     },
     "execution_count": 112,
     "metadata": {},
     "output_type": "execute_result"
    }
   ],
   "source": [
    "tfidf_matrix = pd.DataFrame.sparse.from_spmatrix(tfidf_articles, columns=sorted(tf.vocabulary_))\n",
    "tfidf_matrix.columns = ['word_{}'.format(i) for i in range(N_features)]  # changing names of columns from real words \n",
    "                                                                         # to word_0, word_1, word_2...\n",
    "tfidf_matrix.head(2)"
   ]
  },
  {
   "cell_type": "markdown",
   "id": "4f040f15",
   "metadata": {},
   "source": [
    "### adding to tfidf_matrix 'doc_id' column"
   ]
  },
  {
   "cell_type": "code",
   "execution_count": 113,
   "id": "50296230",
   "metadata": {},
   "outputs": [
    {
     "name": "stderr",
     "output_type": "stream",
     "text": [
      "C:\\Users\\fross\\AppData\\Local\\Temp/ipykernel_4596/3738657765.py:1: PerformanceWarning: DataFrame is highly fragmented.  This is usually the result of calling `frame.insert` many times, which has poor performance.  Consider joining all columns at once using pd.concat(axis=1) instead.  To get a de-fragmented frame, use `newframe = frame.copy()`\n",
      "  tfidf_matrix['doc_id'] = news_['doc_id'].values\n"
     ]
    },
    {
     "data": {
      "text/html": [
       "<div>\n",
       "<style scoped>\n",
       "    .dataframe tbody tr th:only-of-type {\n",
       "        vertical-align: middle;\n",
       "    }\n",
       "\n",
       "    .dataframe tbody tr th {\n",
       "        vertical-align: top;\n",
       "    }\n",
       "\n",
       "    .dataframe thead th {\n",
       "        text-align: right;\n",
       "    }\n",
       "</style>\n",
       "<table border=\"1\" class=\"dataframe\">\n",
       "  <thead>\n",
       "    <tr style=\"text-align: right;\">\n",
       "      <th></th>\n",
       "      <th>word_0</th>\n",
       "      <th>word_1</th>\n",
       "      <th>word_2</th>\n",
       "      <th>word_3</th>\n",
       "      <th>word_4</th>\n",
       "      <th>word_5</th>\n",
       "      <th>word_6</th>\n",
       "      <th>word_7</th>\n",
       "      <th>word_8</th>\n",
       "      <th>word_9</th>\n",
       "      <th>...</th>\n",
       "      <th>word_91</th>\n",
       "      <th>word_92</th>\n",
       "      <th>word_93</th>\n",
       "      <th>word_94</th>\n",
       "      <th>word_95</th>\n",
       "      <th>word_96</th>\n",
       "      <th>word_97</th>\n",
       "      <th>word_98</th>\n",
       "      <th>word_99</th>\n",
       "      <th>doc_id</th>\n",
       "    </tr>\n",
       "  </thead>\n",
       "  <tbody>\n",
       "    <tr>\n",
       "      <th>0</th>\n",
       "      <td>0.564466</td>\n",
       "      <td>0.000000</td>\n",
       "      <td>0.0</td>\n",
       "      <td>0.255722</td>\n",
       "      <td>0.0</td>\n",
       "      <td>0.0</td>\n",
       "      <td>0.0</td>\n",
       "      <td>0.0</td>\n",
       "      <td>0.177648</td>\n",
       "      <td>0.0</td>\n",
       "      <td>...</td>\n",
       "      <td>0.0</td>\n",
       "      <td>0.0</td>\n",
       "      <td>0.0</td>\n",
       "      <td>0.0</td>\n",
       "      <td>0.0</td>\n",
       "      <td>0.0</td>\n",
       "      <td>0.0</td>\n",
       "      <td>0.0</td>\n",
       "      <td>0.0</td>\n",
       "      <td>6</td>\n",
       "    </tr>\n",
       "    <tr>\n",
       "      <th>1</th>\n",
       "      <td>0.000000</td>\n",
       "      <td>0.697328</td>\n",
       "      <td>0.0</td>\n",
       "      <td>0.000000</td>\n",
       "      <td>0.0</td>\n",
       "      <td>0.0</td>\n",
       "      <td>0.0</td>\n",
       "      <td>0.0</td>\n",
       "      <td>0.000000</td>\n",
       "      <td>0.0</td>\n",
       "      <td>...</td>\n",
       "      <td>0.0</td>\n",
       "      <td>0.0</td>\n",
       "      <td>0.0</td>\n",
       "      <td>0.0</td>\n",
       "      <td>0.0</td>\n",
       "      <td>0.0</td>\n",
       "      <td>0.0</td>\n",
       "      <td>0.0</td>\n",
       "      <td>0.0</td>\n",
       "      <td>4896</td>\n",
       "    </tr>\n",
       "  </tbody>\n",
       "</table>\n",
       "<p>2 rows × 101 columns</p>\n",
       "</div>"
      ],
      "text/plain": [
       "     word_0    word_1  word_2    word_3  word_4  word_5  word_6  word_7  \\\n",
       "0  0.564466  0.000000     0.0  0.255722     0.0     0.0     0.0     0.0   \n",
       "1  0.000000  0.697328     0.0  0.000000     0.0     0.0     0.0     0.0   \n",
       "\n",
       "     word_8  word_9  ...  word_91  word_92  word_93  word_94  word_95  \\\n",
       "0  0.177648     0.0  ...      0.0      0.0      0.0      0.0      0.0   \n",
       "1  0.000000     0.0  ...      0.0      0.0      0.0      0.0      0.0   \n",
       "\n",
       "   word_96  word_97  word_98  word_99  doc_id  \n",
       "0      0.0      0.0      0.0      0.0       6  \n",
       "1      0.0      0.0      0.0      0.0    4896  \n",
       "\n",
       "[2 rows x 101 columns]"
      ]
     },
     "execution_count": 113,
     "metadata": {},
     "output_type": "execute_result"
    }
   ],
   "source": [
    "tfidf_matrix['doc_id'] = news_['doc_id'].values\n",
    "tfidf_matrix.head(2)"
   ]
  },
  {
   "cell_type": "markdown",
   "id": "e34e705c",
   "metadata": {},
   "source": [
    "### transformation of tfidf_matrix into a dictionary"
   ]
  },
  {
   "cell_type": "code",
   "execution_count": 114,
   "id": "0693c686",
   "metadata": {},
   "outputs": [],
   "source": [
    "doc_dict = dict(zip(tfidf_matrix['doc_id'].values, tfidf_matrix[['word_{}'.format(i) for i in range(N_features)]].values))"
   ]
  },
  {
   "cell_type": "markdown",
   "id": "d03004f4",
   "metadata": {},
   "source": [
    "### creation of users' vectors; np.mean is used in embedding"
   ]
  },
  {
   "cell_type": "code",
   "execution_count": 115,
   "id": "1ae46581",
   "metadata": {},
   "outputs": [],
   "source": [
    "def get_user_embedding(user_articles_list):\n",
    "    '''\n",
    "    The function receives a list of articles' ids a user read - '[323329, 321961, 324743, 323186, 324632, 474690]'.\n",
    "    It converts it into a list. After this list is converted into an array of arrays of articles' probabilities.\n",
    "    After, the array of arrays is transformed into the array of mean values of probabilities.\n",
    "    '''\n",
    "    user_articles_list = eval(user_articles_list)  # converting string into list\n",
    "    user_vector = np.array([doc_dict[doc_id] for doc_id in user_articles_list])  # creation of array of arrays\n",
    "    user_vector = np.mean(user_vector, axis=0)  # creation of array of collumns' maxs\n",
    "    return user_vector"
   ]
  },
  {
   "cell_type": "code",
   "execution_count": 116,
   "id": "11342ce3",
   "metadata": {},
   "outputs": [
    {
     "data": {
      "text/html": [
       "<div>\n",
       "<style scoped>\n",
       "    .dataframe tbody tr th:only-of-type {\n",
       "        vertical-align: middle;\n",
       "    }\n",
       "\n",
       "    .dataframe tbody tr th {\n",
       "        vertical-align: top;\n",
       "    }\n",
       "\n",
       "    .dataframe thead th {\n",
       "        text-align: right;\n",
       "    }\n",
       "</style>\n",
       "<table border=\"1\" class=\"dataframe\">\n",
       "  <thead>\n",
       "    <tr style=\"text-align: right;\">\n",
       "      <th></th>\n",
       "      <th>uid</th>\n",
       "      <th>word_0</th>\n",
       "      <th>word_1</th>\n",
       "      <th>word_2</th>\n",
       "      <th>word_3</th>\n",
       "      <th>word_4</th>\n",
       "      <th>word_5</th>\n",
       "      <th>word_6</th>\n",
       "      <th>word_7</th>\n",
       "      <th>word_8</th>\n",
       "      <th>...</th>\n",
       "      <th>word_90</th>\n",
       "      <th>word_91</th>\n",
       "      <th>word_92</th>\n",
       "      <th>word_93</th>\n",
       "      <th>word_94</th>\n",
       "      <th>word_95</th>\n",
       "      <th>word_96</th>\n",
       "      <th>word_97</th>\n",
       "      <th>word_98</th>\n",
       "      <th>word_99</th>\n",
       "    </tr>\n",
       "  </thead>\n",
       "  <tbody>\n",
       "    <tr>\n",
       "      <th>0</th>\n",
       "      <td>u105138</td>\n",
       "      <td>0.170270</td>\n",
       "      <td>0.035110</td>\n",
       "      <td>0.125729</td>\n",
       "      <td>0.0</td>\n",
       "      <td>0.078510</td>\n",
       "      <td>0.000000</td>\n",
       "      <td>0.000000</td>\n",
       "      <td>0.066400</td>\n",
       "      <td>0.064866</td>\n",
       "      <td>...</td>\n",
       "      <td>0.0</td>\n",
       "      <td>0.110193</td>\n",
       "      <td>0.000000</td>\n",
       "      <td>0.000000</td>\n",
       "      <td>0.000000</td>\n",
       "      <td>0.0</td>\n",
       "      <td>0.0</td>\n",
       "      <td>0.000000</td>\n",
       "      <td>0.000000</td>\n",
       "      <td>0.000000</td>\n",
       "    </tr>\n",
       "    <tr>\n",
       "      <th>1</th>\n",
       "      <td>u108690</td>\n",
       "      <td>0.048984</td>\n",
       "      <td>0.008298</td>\n",
       "      <td>0.030378</td>\n",
       "      <td>0.0</td>\n",
       "      <td>0.060469</td>\n",
       "      <td>0.031747</td>\n",
       "      <td>0.050475</td>\n",
       "      <td>0.026896</td>\n",
       "      <td>0.046313</td>\n",
       "      <td>...</td>\n",
       "      <td>0.0</td>\n",
       "      <td>0.328820</td>\n",
       "      <td>0.091238</td>\n",
       "      <td>0.035267</td>\n",
       "      <td>0.010589</td>\n",
       "      <td>0.0</td>\n",
       "      <td>0.0</td>\n",
       "      <td>0.039674</td>\n",
       "      <td>0.021024</td>\n",
       "      <td>0.021627</td>\n",
       "    </tr>\n",
       "  </tbody>\n",
       "</table>\n",
       "<p>2 rows × 101 columns</p>\n",
       "</div>"
      ],
      "text/plain": [
       "       uid    word_0    word_1    word_2  word_3    word_4    word_5  \\\n",
       "0  u105138  0.170270  0.035110  0.125729     0.0  0.078510  0.000000   \n",
       "1  u108690  0.048984  0.008298  0.030378     0.0  0.060469  0.031747   \n",
       "\n",
       "     word_6    word_7    word_8  ...  word_90   word_91   word_92   word_93  \\\n",
       "0  0.000000  0.066400  0.064866  ...      0.0  0.110193  0.000000  0.000000   \n",
       "1  0.050475  0.026896  0.046313  ...      0.0  0.328820  0.091238  0.035267   \n",
       "\n",
       "    word_94  word_95  word_96   word_97   word_98   word_99  \n",
       "0  0.000000      0.0      0.0  0.000000  0.000000  0.000000  \n",
       "1  0.010589      0.0      0.0  0.039674  0.021024  0.021627  \n",
       "\n",
       "[2 rows x 101 columns]"
      ]
     },
     "execution_count": 116,
     "metadata": {},
     "output_type": "execute_result"
    }
   ],
   "source": [
    "user_embeddings = pd.DataFrame([i for i in users['articles'].apply(lambda x: get_user_embedding(x), 1)])\n",
    "user_embeddings.columns = ['word_{}'.format(i) for i in range(N_features)]\n",
    "user_embeddings['uid'] = users['uid'].values\n",
    "user_embeddings = user_embeddings[['uid']+['word_{}'.format(i) for i in range(N_features)]]\n",
    "user_embeddings.head(2)"
   ]
  },
  {
   "cell_type": "markdown",
   "id": "64acfaef",
   "metadata": {},
   "source": [
    "### prediction model and test"
   ]
  },
  {
   "cell_type": "code",
   "execution_count": 117,
   "id": "8705759c",
   "metadata": {},
   "outputs": [],
   "source": [
    "target = pd.read_csv(\"lesson_2_profiling_user_LDA/users_churn.csv\")"
   ]
  },
  {
   "cell_type": "code",
   "execution_count": 118,
   "id": "c662df9d",
   "metadata": {},
   "outputs": [],
   "source": [
    "X = pd.merge(user_embeddings, target, 'left')"
   ]
  },
  {
   "cell_type": "code",
   "execution_count": 119,
   "id": "191cd752",
   "metadata": {},
   "outputs": [],
   "source": [
    "X_train, X_test, y_train, y_test = train_test_split(X[['word_{}'.format(i) for i in range(N_features)]], \n",
    "                                                    X['churn'], random_state=0)"
   ]
  },
  {
   "cell_type": "code",
   "execution_count": 120,
   "id": "cf883962",
   "metadata": {},
   "outputs": [],
   "source": [
    "logreg = LogisticRegression()"
   ]
  },
  {
   "cell_type": "code",
   "execution_count": 121,
   "id": "8f710687",
   "metadata": {},
   "outputs": [
    {
     "data": {
      "text/html": [
       "<style>#sk-container-id-6 {color: black;background-color: white;}#sk-container-id-6 pre{padding: 0;}#sk-container-id-6 div.sk-toggleable {background-color: white;}#sk-container-id-6 label.sk-toggleable__label {cursor: pointer;display: block;width: 100%;margin-bottom: 0;padding: 0.3em;box-sizing: border-box;text-align: center;}#sk-container-id-6 label.sk-toggleable__label-arrow:before {content: \"▸\";float: left;margin-right: 0.25em;color: #696969;}#sk-container-id-6 label.sk-toggleable__label-arrow:hover:before {color: black;}#sk-container-id-6 div.sk-estimator:hover label.sk-toggleable__label-arrow:before {color: black;}#sk-container-id-6 div.sk-toggleable__content {max-height: 0;max-width: 0;overflow: hidden;text-align: left;background-color: #f0f8ff;}#sk-container-id-6 div.sk-toggleable__content pre {margin: 0.2em;color: black;border-radius: 0.25em;background-color: #f0f8ff;}#sk-container-id-6 input.sk-toggleable__control:checked~div.sk-toggleable__content {max-height: 200px;max-width: 100%;overflow: auto;}#sk-container-id-6 input.sk-toggleable__control:checked~label.sk-toggleable__label-arrow:before {content: \"▾\";}#sk-container-id-6 div.sk-estimator input.sk-toggleable__control:checked~label.sk-toggleable__label {background-color: #d4ebff;}#sk-container-id-6 div.sk-label input.sk-toggleable__control:checked~label.sk-toggleable__label {background-color: #d4ebff;}#sk-container-id-6 input.sk-hidden--visually {border: 0;clip: rect(1px 1px 1px 1px);clip: rect(1px, 1px, 1px, 1px);height: 1px;margin: -1px;overflow: hidden;padding: 0;position: absolute;width: 1px;}#sk-container-id-6 div.sk-estimator {font-family: monospace;background-color: #f0f8ff;border: 1px dotted black;border-radius: 0.25em;box-sizing: border-box;margin-bottom: 0.5em;}#sk-container-id-6 div.sk-estimator:hover {background-color: #d4ebff;}#sk-container-id-6 div.sk-parallel-item::after {content: \"\";width: 100%;border-bottom: 1px solid gray;flex-grow: 1;}#sk-container-id-6 div.sk-label:hover label.sk-toggleable__label {background-color: #d4ebff;}#sk-container-id-6 div.sk-serial::before {content: \"\";position: absolute;border-left: 1px solid gray;box-sizing: border-box;top: 0;bottom: 0;left: 50%;z-index: 0;}#sk-container-id-6 div.sk-serial {display: flex;flex-direction: column;align-items: center;background-color: white;padding-right: 0.2em;padding-left: 0.2em;position: relative;}#sk-container-id-6 div.sk-item {position: relative;z-index: 1;}#sk-container-id-6 div.sk-parallel {display: flex;align-items: stretch;justify-content: center;background-color: white;position: relative;}#sk-container-id-6 div.sk-item::before, #sk-container-id-6 div.sk-parallel-item::before {content: \"\";position: absolute;border-left: 1px solid gray;box-sizing: border-box;top: 0;bottom: 0;left: 50%;z-index: -1;}#sk-container-id-6 div.sk-parallel-item {display: flex;flex-direction: column;z-index: 1;position: relative;background-color: white;}#sk-container-id-6 div.sk-parallel-item:first-child::after {align-self: flex-end;width: 50%;}#sk-container-id-6 div.sk-parallel-item:last-child::after {align-self: flex-start;width: 50%;}#sk-container-id-6 div.sk-parallel-item:only-child::after {width: 0;}#sk-container-id-6 div.sk-dashed-wrapped {border: 1px dashed gray;margin: 0 0.4em 0.5em 0.4em;box-sizing: border-box;padding-bottom: 0.4em;background-color: white;}#sk-container-id-6 div.sk-label label {font-family: monospace;font-weight: bold;display: inline-block;line-height: 1.2em;}#sk-container-id-6 div.sk-label-container {text-align: center;}#sk-container-id-6 div.sk-container {/* jupyter's `normalize.less` sets `[hidden] { display: none; }` but bootstrap.min.css set `[hidden] { display: none !important; }` so we also need the `!important` here to be able to override the default hidden behavior on the sphinx rendered scikit-learn.org. See: https://github.com/scikit-learn/scikit-learn/issues/21755 */display: inline-block !important;position: relative;}#sk-container-id-6 div.sk-text-repr-fallback {display: none;}</style><div id=\"sk-container-id-6\" class=\"sk-top-container\"><div class=\"sk-text-repr-fallback\"><pre>LogisticRegression()</pre><b>In a Jupyter environment, please rerun this cell to show the HTML representation or trust the notebook. <br />On GitHub, the HTML representation is unable to render, please try loading this page with nbviewer.org.</b></div><div class=\"sk-container\" hidden><div class=\"sk-item\"><div class=\"sk-estimator sk-toggleable\"><input class=\"sk-toggleable__control sk-hidden--visually\" id=\"sk-estimator-id-6\" type=\"checkbox\" checked><label for=\"sk-estimator-id-6\" class=\"sk-toggleable__label sk-toggleable__label-arrow\">LogisticRegression</label><div class=\"sk-toggleable__content\"><pre>LogisticRegression()</pre></div></div></div></div></div>"
      ],
      "text/plain": [
       "LogisticRegression()"
      ]
     },
     "execution_count": 121,
     "metadata": {},
     "output_type": "execute_result"
    }
   ],
   "source": [
    "logreg.fit(X_train, y_train)"
   ]
  },
  {
   "cell_type": "code",
   "execution_count": 122,
   "id": "900b1538",
   "metadata": {},
   "outputs": [],
   "source": [
    "preds = logreg.predict_proba(X_test)[:, 1]"
   ]
  },
  {
   "cell_type": "code",
   "execution_count": 123,
   "id": "e55f9277",
   "metadata": {},
   "outputs": [],
   "source": [
    "from sklearn.metrics import f1_score, roc_auc_score, precision_score, classification_report, \\\n",
    "                            precision_recall_curve, confusion_matrix"
   ]
  },
  {
   "cell_type": "code",
   "execution_count": 124,
   "id": "7aff1d43",
   "metadata": {},
   "outputs": [
    {
     "name": "stdout",
     "output_type": "stream",
     "text": [
      "Best Threshold=0.296801, F-Score=0.984, Precision=0.976, Recall=0.992\n"
     ]
    }
   ],
   "source": [
    "precision, recall, thresholds = precision_recall_curve(y_test, preds)\n",
    "fscore = (2 * precision * recall) / (precision + recall)\n",
    "\n",
    "# locate the index of the largest f-score\n",
    "ix = np.argmax(fscore)\n",
    "print('Best Threshold=%f, F-Score=%.3f, Precision=%.3f, Recall=%.3f' % (thresholds[ix], \n",
    "                                                                        fscore[ix],\n",
    "                                                                        precision[ix],\n",
    "                                                                        recall[ix]))"
   ]
  },
  {
   "cell_type": "code",
   "execution_count": 125,
   "id": "2b40436a",
   "metadata": {},
   "outputs": [
    {
     "name": "stdout",
     "output_type": "stream",
     "text": [
      "Confusion matrix, without normalization\n",
      "[[1749    6]\n",
      " [   3  242]]\n"
     ]
    },
    {
     "data": {
      "image/png": "[encoded data removed]",
      "text/plain": [
       "<Figure size 720x576 with 2 Axes>"
      ]
     },
     "metadata": {
      "needs_background": "light"
     },
     "output_type": "display_data"
    }
   ],
   "source": [
    "font = {'size' : 15}\n",
    "\n",
    "plt.rc('font', **font)\n",
    "\n",
    "cnf_matrix = confusion_matrix(y_test, preds > thresholds[ix])\n",
    "plt.figure(figsize=(10, 8))\n",
    "plot_confusion_matrix(cnf_matrix, classes=['non-churn', 'churn'],\n",
    "                      title='Confusion matrix')\n",
    "# plt.savefig(\"conf_matrix.png\")\n",
    "plt.show()"
   ]
  },
  {
   "cell_type": "code",
   "execution_count": 126,
   "id": "b4c9790b",
   "metadata": {},
   "outputs": [
    {
     "data": {
      "text/plain": [
       "0.9998558055700912"
      ]
     },
     "execution_count": 126,
     "metadata": {},
     "output_type": "execute_result"
    }
   ],
   "source": [
    "roc_auc_score(y_test, preds)"
   ]
  },
  {
   "cell_type": "code",
   "execution_count": 127,
   "id": "c5eefd56",
   "metadata": {},
   "outputs": [],
   "source": [
    "metrics_tfidf_mean_embedding = [fscore[ix], precision[ix], recall[ix], roc_auc_score(y_test, preds)]"
   ]
  },
  {
   "cell_type": "code",
   "execution_count": null,
   "id": "fd394524",
   "metadata": {},
   "outputs": [],
   "source": []
  },
  {
   "cell_type": "code",
   "execution_count": null,
   "id": "16f730dc",
   "metadata": {},
   "outputs": [],
   "source": []
  },
  {
   "cell_type": "code",
   "execution_count": null,
   "id": "b6c29f4a",
   "metadata": {},
   "outputs": [],
   "source": []
  },
  {
   "cell_type": "markdown",
   "id": "ac5222db",
   "metadata": {},
   "source": [
    "# my improved version!!!"
   ]
  },
  {
   "cell_type": "markdown",
   "id": "133406ed",
   "metadata": {},
   "source": [
    "# creation of a user's vector through calculation of the mean of TF-IDF vectors of articles a user read + weighting of IDFs of those articles and multiplication of those weights on their TF-IDF vectors while calculating users' vectors; LDA is not used"
   ]
  },
  {
   "cell_type": "code",
   "execution_count": 128,
   "id": "ea3e666e",
   "metadata": {},
   "outputs": [],
   "source": [
    "users_ = users.copy()"
   ]
  },
  {
   "cell_type": "code",
   "execution_count": 129,
   "id": "960f98c1",
   "metadata": {},
   "outputs": [
    {
     "data": {
      "text/plain": [
       "0    [293672, 293328, 293001, 293622, 293126, 1852]\n",
       "1            [3405, 1739, 2972, 1158, 1599, 322665]\n",
       "Name: articles, dtype: object"
      ]
     },
     "execution_count": 129,
     "metadata": {},
     "output_type": "execute_result"
    }
   ],
   "source": [
    "users_['articles'].head(2)"
   ]
  },
  {
   "cell_type": "code",
   "execution_count": 130,
   "id": "dbe148c2",
   "metadata": {},
   "outputs": [
    {
     "data": {
      "text/plain": [
       "0    293672 293328 293001 293622 293126 1852\n",
       "1            3405 1739 2972 1158 1599 322665\n",
       "Name: articles, dtype: object"
      ]
     },
     "execution_count": 130,
     "metadata": {},
     "output_type": "execute_result"
    }
   ],
   "source": [
    "users_['articles'] = users_['articles'].apply(lambda x: x.strip('[]').replace(',', ''))\n",
    "users_['articles'].head(2)"
   ]
  },
  {
   "cell_type": "code",
   "execution_count": 131,
   "id": "acba4afd",
   "metadata": {},
   "outputs": [
    {
     "data": {
      "text/html": [
       "<style>#sk-container-id-7 {color: black;background-color: white;}#sk-container-id-7 pre{padding: 0;}#sk-container-id-7 div.sk-toggleable {background-color: white;}#sk-container-id-7 label.sk-toggleable__label {cursor: pointer;display: block;width: 100%;margin-bottom: 0;padding: 0.3em;box-sizing: border-box;text-align: center;}#sk-container-id-7 label.sk-toggleable__label-arrow:before {content: \"▸\";float: left;margin-right: 0.25em;color: #696969;}#sk-container-id-7 label.sk-toggleable__label-arrow:hover:before {color: black;}#sk-container-id-7 div.sk-estimator:hover label.sk-toggleable__label-arrow:before {color: black;}#sk-container-id-7 div.sk-toggleable__content {max-height: 0;max-width: 0;overflow: hidden;text-align: left;background-color: #f0f8ff;}#sk-container-id-7 div.sk-toggleable__content pre {margin: 0.2em;color: black;border-radius: 0.25em;background-color: #f0f8ff;}#sk-container-id-7 input.sk-toggleable__control:checked~div.sk-toggleable__content {max-height: 200px;max-width: 100%;overflow: auto;}#sk-container-id-7 input.sk-toggleable__control:checked~label.sk-toggleable__label-arrow:before {content: \"▾\";}#sk-container-id-7 div.sk-estimator input.sk-toggleable__control:checked~label.sk-toggleable__label {background-color: #d4ebff;}#sk-container-id-7 div.sk-label input.sk-toggleable__control:checked~label.sk-toggleable__label {background-color: #d4ebff;}#sk-container-id-7 input.sk-hidden--visually {border: 0;clip: rect(1px 1px 1px 1px);clip: rect(1px, 1px, 1px, 1px);height: 1px;margin: -1px;overflow: hidden;padding: 0;position: absolute;width: 1px;}#sk-container-id-7 div.sk-estimator {font-family: monospace;background-color: #f0f8ff;border: 1px dotted black;border-radius: 0.25em;box-sizing: border-box;margin-bottom: 0.5em;}#sk-container-id-7 div.sk-estimator:hover {background-color: #d4ebff;}#sk-container-id-7 div.sk-parallel-item::after {content: \"\";width: 100%;border-bottom: 1px solid gray;flex-grow: 1;}#sk-container-id-7 div.sk-label:hover label.sk-toggleable__label {background-color: #d4ebff;}#sk-container-id-7 div.sk-serial::before {content: \"\";position: absolute;border-left: 1px solid gray;box-sizing: border-box;top: 0;bottom: 0;left: 50%;z-index: 0;}#sk-container-id-7 div.sk-serial {display: flex;flex-direction: column;align-items: center;background-color: white;padding-right: 0.2em;padding-left: 0.2em;position: relative;}#sk-container-id-7 div.sk-item {position: relative;z-index: 1;}#sk-container-id-7 div.sk-parallel {display: flex;align-items: stretch;justify-content: center;background-color: white;position: relative;}#sk-container-id-7 div.sk-item::before, #sk-container-id-7 div.sk-parallel-item::before {content: \"\";position: absolute;border-left: 1px solid gray;box-sizing: border-box;top: 0;bottom: 0;left: 50%;z-index: -1;}#sk-container-id-7 div.sk-parallel-item {display: flex;flex-direction: column;z-index: 1;position: relative;background-color: white;}#sk-container-id-7 div.sk-parallel-item:first-child::after {align-self: flex-end;width: 50%;}#sk-container-id-7 div.sk-parallel-item:last-child::after {align-self: flex-start;width: 50%;}#sk-container-id-7 div.sk-parallel-item:only-child::after {width: 0;}#sk-container-id-7 div.sk-dashed-wrapped {border: 1px dashed gray;margin: 0 0.4em 0.5em 0.4em;box-sizing: border-box;padding-bottom: 0.4em;background-color: white;}#sk-container-id-7 div.sk-label label {font-family: monospace;font-weight: bold;display: inline-block;line-height: 1.2em;}#sk-container-id-7 div.sk-label-container {text-align: center;}#sk-container-id-7 div.sk-container {/* jupyter's `normalize.less` sets `[hidden] { display: none; }` but bootstrap.min.css set `[hidden] { display: none !important; }` so we also need the `!important` here to be able to override the default hidden behavior on the sphinx rendered scikit-learn.org. See: https://github.com/scikit-learn/scikit-learn/issues/21755 */display: inline-block !important;position: relative;}#sk-container-id-7 div.sk-text-repr-fallback {display: none;}</style><div id=\"sk-container-id-7\" class=\"sk-top-container\"><div class=\"sk-text-repr-fallback\"><pre>TfidfVectorizer()</pre><b>In a Jupyter environment, please rerun this cell to show the HTML representation or trust the notebook. <br />On GitHub, the HTML representation is unable to render, please try loading this page with nbviewer.org.</b></div><div class=\"sk-container\" hidden><div class=\"sk-item\"><div class=\"sk-estimator sk-toggleable\"><input class=\"sk-toggleable__control sk-hidden--visually\" id=\"sk-estimator-id-7\" type=\"checkbox\" checked><label for=\"sk-estimator-id-7\" class=\"sk-toggleable__label sk-toggleable__label-arrow\">TfidfVectorizer</label><div class=\"sk-toggleable__content\"><pre>TfidfVectorizer()</pre></div></div></div></div></div>"
      ],
      "text/plain": [
       "TfidfVectorizer()"
      ]
     },
     "execution_count": 131,
     "metadata": {},
     "output_type": "execute_result"
    }
   ],
   "source": [
    "tfidf = TfidfVectorizer()\n",
    "tfidf.fit(users['articles'])"
   ]
  },
  {
   "cell_type": "code",
   "execution_count": 132,
   "id": "3f1a93e4",
   "metadata": {},
   "outputs": [
    {
     "data": {
      "text/plain": [
       "[10, 100, 1000, 1001, 1002, 1003, 1005, 1006, 1007, 1008]"
      ]
     },
     "execution_count": 132,
     "metadata": {},
     "output_type": "execute_result"
    }
   ],
   "source": [
    "ids_of_articles_list = [int(_) for _ in tfidf.get_feature_names_out()]\n",
    "ids_of_articles_list[:10]"
   ]
  },
  {
   "cell_type": "code",
   "execution_count": 133,
   "id": "f90404ac",
   "metadata": {},
   "outputs": [
    {
     "data": {
      "text/plain": [
       "array([8.88870952, 7.90788027, 8.04141166, 8.88870952, 8.88870952,\n",
       "       8.04141166, 8.60102745, 9.29417463, 9.29417463, 9.29417463])"
      ]
     },
     "execution_count": 133,
     "metadata": {},
     "output_type": "execute_result"
    }
   ],
   "source": [
    "idfs_of_articles = tfidf.idf_\n",
    "idfs_of_articles[:10]"
   ]
  },
  {
   "cell_type": "code",
   "execution_count": 134,
   "id": "ba5482f8",
   "metadata": {},
   "outputs": [
    {
     "data": {
      "text/plain": [
       "True"
      ]
     },
     "execution_count": 134,
     "metadata": {},
     "output_type": "execute_result"
    }
   ],
   "source": [
    "len(ids_of_articles_list) == len(idfs_of_articles)"
   ]
  },
  {
   "cell_type": "code",
   "execution_count": 135,
   "id": "bdd5dd5b",
   "metadata": {},
   "outputs": [],
   "source": [
    "idf_dict = dict(zip(ids_of_articles_list, idfs_of_articles))\n",
    "# idf_dict"
   ]
  },
  {
   "cell_type": "markdown",
   "id": "aa95ef94",
   "metadata": {},
   "source": [
    "### TfidfVectorizer initialization"
   ]
  },
  {
   "cell_type": "code",
   "execution_count": 136,
   "id": "92673f33",
   "metadata": {},
   "outputs": [],
   "source": [
    "N_features=100\n",
    "tf = TfidfVectorizer(stop_words=stopword_ru, max_features=N_features)"
   ]
  },
  {
   "cell_type": "code",
   "execution_count": 137,
   "id": "48ca7ccc",
   "metadata": {},
   "outputs": [],
   "source": [
    "news_ = news.copy()  # precautions measures"
   ]
  },
  {
   "cell_type": "markdown",
   "id": "7444f238",
   "metadata": {},
   "source": [
    "### changing datatype of news_['title'] from list to string"
   ]
  },
  {
   "cell_type": "code",
   "execution_count": 138,
   "id": "57232db5",
   "metadata": {},
   "outputs": [],
   "source": [
    "news_['title'] = news_['title'].apply(lambda x: clean_text(str(x)))"
   ]
  },
  {
   "cell_type": "code",
   "execution_count": 139,
   "id": "0e019ba1",
   "metadata": {},
   "outputs": [
    {
     "data": {
      "text/plain": [
       "0        заместитель председатель правительство рф серг...\n",
       "1        матч финал кубок россия футбол приостановить с...\n",
       "2        форвард авангард томаш заборский прокомментиро...\n",
       "3        главный тренер кубань юрий красножанин прокомм...\n",
       "4        решение попечительский совет владивостокский с...\n",
       "                               ...                        \n",
       "26995    учёный токийский университет морской наука тех...\n",
       "26996    глава кафедра отечественный история xx век ист...\n",
       "26997    американский учёный уточнить возраст расположи...\n",
       "26998    последний тропический углеродный цикл чувствит...\n",
       "26999    жить примерно тыс назад территория современный...\n",
       "Name: title, Length: 27000, dtype: object"
      ]
     },
     "execution_count": 139,
     "metadata": {},
     "output_type": "execute_result"
    }
   ],
   "source": [
    "news_['title']"
   ]
  },
  {
   "cell_type": "markdown",
   "id": "ab4b6cff",
   "metadata": {},
   "source": [
    "### creation of sparse matrix with tf.fit_transform"
   ]
  },
  {
   "cell_type": "code",
   "execution_count": 140,
   "id": "7b9591a0",
   "metadata": {},
   "outputs": [
    {
     "name": "stderr",
     "output_type": "stream",
     "text": [
      "C:\\Users\\fross\\anaconda3\\lib\\site-packages\\sklearn\\feature_extraction\\text.py:404: UserWarning: Your stop_words may be inconsistent with your preprocessing. Tokenizing the stop words generated tokens ['_ссылка', 'всё', 'интерфакс', 'как_сообщили_риа_', 'новости', 'передает_риа_', 'сообщает_', 'сообщает_риа_'] not in stop_words.\n",
      "  warnings.warn(\n"
     ]
    },
    {
     "data": {
      "text/plain": [
       "<27000x100 sparse matrix of type '<class 'numpy.float64'>'\n",
       "\twith 463980 stored elements in Compressed Sparse Row format>"
      ]
     },
     "execution_count": 140,
     "metadata": {},
     "output_type": "execute_result"
    }
   ],
   "source": [
    "tfidf_articles = tf.fit_transform(news_['title'])\n",
    "tfidf_articles"
   ]
  },
  {
   "cell_type": "code",
   "execution_count": 141,
   "id": "086e0600",
   "metadata": {},
   "outputs": [
    {
     "data": {
      "text/html": [
       "<div>\n",
       "<style scoped>\n",
       "    .dataframe tbody tr th:only-of-type {\n",
       "        vertical-align: middle;\n",
       "    }\n",
       "\n",
       "    .dataframe tbody tr th {\n",
       "        vertical-align: top;\n",
       "    }\n",
       "\n",
       "    .dataframe thead th {\n",
       "        text-align: right;\n",
       "    }\n",
       "</style>\n",
       "<table border=\"1\" class=\"dataframe\">\n",
       "  <thead>\n",
       "    <tr style=\"text-align: right;\">\n",
       "      <th></th>\n",
       "      <th>word_0</th>\n",
       "      <th>word_1</th>\n",
       "      <th>word_2</th>\n",
       "      <th>word_3</th>\n",
       "      <th>word_4</th>\n",
       "      <th>word_5</th>\n",
       "      <th>word_6</th>\n",
       "      <th>word_7</th>\n",
       "      <th>word_8</th>\n",
       "      <th>word_9</th>\n",
       "      <th>...</th>\n",
       "      <th>word_90</th>\n",
       "      <th>word_91</th>\n",
       "      <th>word_92</th>\n",
       "      <th>word_93</th>\n",
       "      <th>word_94</th>\n",
       "      <th>word_95</th>\n",
       "      <th>word_96</th>\n",
       "      <th>word_97</th>\n",
       "      <th>word_98</th>\n",
       "      <th>word_99</th>\n",
       "    </tr>\n",
       "  </thead>\n",
       "  <tbody>\n",
       "    <tr>\n",
       "      <th>0</th>\n",
       "      <td>0.564466</td>\n",
       "      <td>0.000000</td>\n",
       "      <td>0.0</td>\n",
       "      <td>0.255722</td>\n",
       "      <td>0.0</td>\n",
       "      <td>0.0</td>\n",
       "      <td>0.0</td>\n",
       "      <td>0.0</td>\n",
       "      <td>0.177648</td>\n",
       "      <td>0.0</td>\n",
       "      <td>...</td>\n",
       "      <td>0.0</td>\n",
       "      <td>0.0</td>\n",
       "      <td>0.0</td>\n",
       "      <td>0.0</td>\n",
       "      <td>0.0</td>\n",
       "      <td>0.0</td>\n",
       "      <td>0.0</td>\n",
       "      <td>0.0</td>\n",
       "      <td>0.0</td>\n",
       "      <td>0.0</td>\n",
       "    </tr>\n",
       "    <tr>\n",
       "      <th>1</th>\n",
       "      <td>0.000000</td>\n",
       "      <td>0.697328</td>\n",
       "      <td>0.0</td>\n",
       "      <td>0.000000</td>\n",
       "      <td>0.0</td>\n",
       "      <td>0.0</td>\n",
       "      <td>0.0</td>\n",
       "      <td>0.0</td>\n",
       "      <td>0.000000</td>\n",
       "      <td>0.0</td>\n",
       "      <td>...</td>\n",
       "      <td>0.0</td>\n",
       "      <td>0.0</td>\n",
       "      <td>0.0</td>\n",
       "      <td>0.0</td>\n",
       "      <td>0.0</td>\n",
       "      <td>0.0</td>\n",
       "      <td>0.0</td>\n",
       "      <td>0.0</td>\n",
       "      <td>0.0</td>\n",
       "      <td>0.0</td>\n",
       "    </tr>\n",
       "  </tbody>\n",
       "</table>\n",
       "<p>2 rows × 100 columns</p>\n",
       "</div>"
      ],
      "text/plain": [
       "     word_0    word_1  word_2    word_3  word_4  word_5  word_6  word_7  \\\n",
       "0  0.564466  0.000000     0.0  0.255722     0.0     0.0     0.0     0.0   \n",
       "1  0.000000  0.697328     0.0  0.000000     0.0     0.0     0.0     0.0   \n",
       "\n",
       "     word_8  word_9  ...  word_90  word_91  word_92  word_93  word_94  \\\n",
       "0  0.177648     0.0  ...      0.0      0.0      0.0      0.0      0.0   \n",
       "1  0.000000     0.0  ...      0.0      0.0      0.0      0.0      0.0   \n",
       "\n",
       "   word_95  word_96  word_97  word_98  word_99  \n",
       "0      0.0      0.0      0.0      0.0      0.0  \n",
       "1      0.0      0.0      0.0      0.0      0.0  \n",
       "\n",
       "[2 rows x 100 columns]"
      ]
     },
     "execution_count": 141,
     "metadata": {},
     "output_type": "execute_result"
    }
   ],
   "source": [
    "tfidf_matrix = pd.DataFrame.sparse.from_spmatrix(tfidf_articles, columns=sorted(tf.vocabulary_))\n",
    "tfidf_matrix.columns = ['word_{}'.format(i) for i in range(N_features)]  # changing names of columns from real words \n",
    "                                                                         # to word_0, word_1, word_2...\n",
    "tfidf_matrix.head(2)"
   ]
  },
  {
   "cell_type": "markdown",
   "id": "4d493895",
   "metadata": {},
   "source": [
    "### adding to tfidf_matrix 'doc_id' column"
   ]
  },
  {
   "cell_type": "code",
   "execution_count": 142,
   "id": "b26a2494",
   "metadata": {},
   "outputs": [
    {
     "name": "stderr",
     "output_type": "stream",
     "text": [
      "C:\\Users\\fross\\AppData\\Local\\Temp/ipykernel_4596/3738657765.py:1: PerformanceWarning: DataFrame is highly fragmented.  This is usually the result of calling `frame.insert` many times, which has poor performance.  Consider joining all columns at once using pd.concat(axis=1) instead.  To get a de-fragmented frame, use `newframe = frame.copy()`\n",
      "  tfidf_matrix['doc_id'] = news_['doc_id'].values\n"
     ]
    },
    {
     "data": {
      "text/html": [
       "<div>\n",
       "<style scoped>\n",
       "    .dataframe tbody tr th:only-of-type {\n",
       "        vertical-align: middle;\n",
       "    }\n",
       "\n",
       "    .dataframe tbody tr th {\n",
       "        vertical-align: top;\n",
       "    }\n",
       "\n",
       "    .dataframe thead th {\n",
       "        text-align: right;\n",
       "    }\n",
       "</style>\n",
       "<table border=\"1\" class=\"dataframe\">\n",
       "  <thead>\n",
       "    <tr style=\"text-align: right;\">\n",
       "      <th></th>\n",
       "      <th>word_0</th>\n",
       "      <th>word_1</th>\n",
       "      <th>word_2</th>\n",
       "      <th>word_3</th>\n",
       "      <th>word_4</th>\n",
       "      <th>word_5</th>\n",
       "      <th>word_6</th>\n",
       "      <th>word_7</th>\n",
       "      <th>word_8</th>\n",
       "      <th>word_9</th>\n",
       "      <th>...</th>\n",
       "      <th>word_91</th>\n",
       "      <th>word_92</th>\n",
       "      <th>word_93</th>\n",
       "      <th>word_94</th>\n",
       "      <th>word_95</th>\n",
       "      <th>word_96</th>\n",
       "      <th>word_97</th>\n",
       "      <th>word_98</th>\n",
       "      <th>word_99</th>\n",
       "      <th>doc_id</th>\n",
       "    </tr>\n",
       "  </thead>\n",
       "  <tbody>\n",
       "    <tr>\n",
       "      <th>0</th>\n",
       "      <td>0.564466</td>\n",
       "      <td>0.000000</td>\n",
       "      <td>0.0</td>\n",
       "      <td>0.255722</td>\n",
       "      <td>0.0</td>\n",
       "      <td>0.0</td>\n",
       "      <td>0.0</td>\n",
       "      <td>0.0</td>\n",
       "      <td>0.177648</td>\n",
       "      <td>0.0</td>\n",
       "      <td>...</td>\n",
       "      <td>0.0</td>\n",
       "      <td>0.0</td>\n",
       "      <td>0.0</td>\n",
       "      <td>0.0</td>\n",
       "      <td>0.0</td>\n",
       "      <td>0.0</td>\n",
       "      <td>0.0</td>\n",
       "      <td>0.0</td>\n",
       "      <td>0.0</td>\n",
       "      <td>6</td>\n",
       "    </tr>\n",
       "    <tr>\n",
       "      <th>1</th>\n",
       "      <td>0.000000</td>\n",
       "      <td>0.697328</td>\n",
       "      <td>0.0</td>\n",
       "      <td>0.000000</td>\n",
       "      <td>0.0</td>\n",
       "      <td>0.0</td>\n",
       "      <td>0.0</td>\n",
       "      <td>0.0</td>\n",
       "      <td>0.000000</td>\n",
       "      <td>0.0</td>\n",
       "      <td>...</td>\n",
       "      <td>0.0</td>\n",
       "      <td>0.0</td>\n",
       "      <td>0.0</td>\n",
       "      <td>0.0</td>\n",
       "      <td>0.0</td>\n",
       "      <td>0.0</td>\n",
       "      <td>0.0</td>\n",
       "      <td>0.0</td>\n",
       "      <td>0.0</td>\n",
       "      <td>4896</td>\n",
       "    </tr>\n",
       "  </tbody>\n",
       "</table>\n",
       "<p>2 rows × 101 columns</p>\n",
       "</div>"
      ],
      "text/plain": [
       "     word_0    word_1  word_2    word_3  word_4  word_5  word_6  word_7  \\\n",
       "0  0.564466  0.000000     0.0  0.255722     0.0     0.0     0.0     0.0   \n",
       "1  0.000000  0.697328     0.0  0.000000     0.0     0.0     0.0     0.0   \n",
       "\n",
       "     word_8  word_9  ...  word_91  word_92  word_93  word_94  word_95  \\\n",
       "0  0.177648     0.0  ...      0.0      0.0      0.0      0.0      0.0   \n",
       "1  0.000000     0.0  ...      0.0      0.0      0.0      0.0      0.0   \n",
       "\n",
       "   word_96  word_97  word_98  word_99  doc_id  \n",
       "0      0.0      0.0      0.0      0.0       6  \n",
       "1      0.0      0.0      0.0      0.0    4896  \n",
       "\n",
       "[2 rows x 101 columns]"
      ]
     },
     "execution_count": 142,
     "metadata": {},
     "output_type": "execute_result"
    }
   ],
   "source": [
    "tfidf_matrix['doc_id'] = news_['doc_id'].values\n",
    "tfidf_matrix.head(2)"
   ]
  },
  {
   "cell_type": "markdown",
   "id": "aabeb4bb",
   "metadata": {},
   "source": [
    "### transformation of tfidf_matrix into a dictionary"
   ]
  },
  {
   "cell_type": "code",
   "execution_count": 143,
   "id": "8049c5a7",
   "metadata": {},
   "outputs": [],
   "source": [
    "doc_dict = dict(zip(tfidf_matrix['doc_id'].values, tfidf_matrix[['word_{}'.format(i) for i in range(N_features)]].values))"
   ]
  },
  {
   "cell_type": "markdown",
   "id": "ac944c35",
   "metadata": {},
   "source": [
    "### creation of users' vectors; np.mean is used in embedding"
   ]
  },
  {
   "cell_type": "code",
   "execution_count": 144,
   "id": "aeb12b81",
   "metadata": {},
   "outputs": [],
   "source": [
    "def get_user_embedding(user_articles_list):\n",
    "    '''\n",
    "    The function receives a list of articles' ids a user read - '[323329, 321961, 324743, 323186, 324632, 474690]'.\n",
    "    It converts it into a list. After this list is converted into an array of arrays of articles' probabilities.\n",
    "    After, the array of arrays is transformed into the array of mean values of probabilities.\n",
    "    '''\n",
    "    user_articles_list = eval(user_articles_list)  # converting string into list\n",
    "#     user_vector = np.array([doc_dict[doc_id] for doc_id in user_articles_list])  # creation of array of arrays\n",
    "    user_vector = np.array([doc_dict[doc_id] * idf_dict[doc_id] for doc_id in user_articles_list if doc_id in idf_dict]) \n",
    "    user_vector = np.mean(user_vector, axis=0)  # creation of array of collumns' maxs\n",
    "    return user_vector"
   ]
  },
  {
   "cell_type": "code",
   "execution_count": 145,
   "id": "0748847f",
   "metadata": {},
   "outputs": [
    {
     "data": {
      "text/html": [
       "<div>\n",
       "<style scoped>\n",
       "    .dataframe tbody tr th:only-of-type {\n",
       "        vertical-align: middle;\n",
       "    }\n",
       "\n",
       "    .dataframe tbody tr th {\n",
       "        vertical-align: top;\n",
       "    }\n",
       "\n",
       "    .dataframe thead th {\n",
       "        text-align: right;\n",
       "    }\n",
       "</style>\n",
       "<table border=\"1\" class=\"dataframe\">\n",
       "  <thead>\n",
       "    <tr style=\"text-align: right;\">\n",
       "      <th></th>\n",
       "      <th>uid</th>\n",
       "      <th>word_0</th>\n",
       "      <th>word_1</th>\n",
       "      <th>word_2</th>\n",
       "      <th>word_3</th>\n",
       "      <th>word_4</th>\n",
       "      <th>word_5</th>\n",
       "      <th>word_6</th>\n",
       "      <th>word_7</th>\n",
       "      <th>word_8</th>\n",
       "      <th>...</th>\n",
       "      <th>word_90</th>\n",
       "      <th>word_91</th>\n",
       "      <th>word_92</th>\n",
       "      <th>word_93</th>\n",
       "      <th>word_94</th>\n",
       "      <th>word_95</th>\n",
       "      <th>word_96</th>\n",
       "      <th>word_97</th>\n",
       "      <th>word_98</th>\n",
       "      <th>word_99</th>\n",
       "    </tr>\n",
       "  </thead>\n",
       "  <tbody>\n",
       "    <tr>\n",
       "      <th>0</th>\n",
       "      <td>u105138</td>\n",
       "      <td>1.485463</td>\n",
       "      <td>0.301986</td>\n",
       "      <td>1.030418</td>\n",
       "      <td>0.0</td>\n",
       "      <td>0.675263</td>\n",
       "      <td>0.000000</td>\n",
       "      <td>0.000000</td>\n",
       "      <td>0.604884</td>\n",
       "      <td>0.590911</td>\n",
       "      <td>...</td>\n",
       "      <td>0.0</td>\n",
       "      <td>0.947773</td>\n",
       "      <td>0.000000</td>\n",
       "      <td>0.000000</td>\n",
       "      <td>0.000000</td>\n",
       "      <td>0.0</td>\n",
       "      <td>0.0</td>\n",
       "      <td>0.000000</td>\n",
       "      <td>0.000000</td>\n",
       "      <td>0.000000</td>\n",
       "    </tr>\n",
       "    <tr>\n",
       "      <th>1</th>\n",
       "      <td>u108690</td>\n",
       "      <td>0.406232</td>\n",
       "      <td>0.077124</td>\n",
       "      <td>0.270021</td>\n",
       "      <td>0.0</td>\n",
       "      <td>0.493104</td>\n",
       "      <td>0.282189</td>\n",
       "      <td>0.429644</td>\n",
       "      <td>0.245841</td>\n",
       "      <td>0.421590</td>\n",
       "      <td>...</td>\n",
       "      <td>0.0</td>\n",
       "      <td>2.972486</td>\n",
       "      <td>0.829185</td>\n",
       "      <td>0.294348</td>\n",
       "      <td>0.094126</td>\n",
       "      <td>0.0</td>\n",
       "      <td>0.0</td>\n",
       "      <td>0.359531</td>\n",
       "      <td>0.186878</td>\n",
       "      <td>0.184691</td>\n",
       "    </tr>\n",
       "  </tbody>\n",
       "</table>\n",
       "<p>2 rows × 101 columns</p>\n",
       "</div>"
      ],
      "text/plain": [
       "       uid    word_0    word_1    word_2  word_3    word_4    word_5  \\\n",
       "0  u105138  1.485463  0.301986  1.030418     0.0  0.675263  0.000000   \n",
       "1  u108690  0.406232  0.077124  0.270021     0.0  0.493104  0.282189   \n",
       "\n",
       "     word_6    word_7    word_8  ...  word_90   word_91   word_92   word_93  \\\n",
       "0  0.000000  0.604884  0.590911  ...      0.0  0.947773  0.000000  0.000000   \n",
       "1  0.429644  0.245841  0.421590  ...      0.0  2.972486  0.829185  0.294348   \n",
       "\n",
       "    word_94  word_95  word_96   word_97   word_98   word_99  \n",
       "0  0.000000      0.0      0.0  0.000000  0.000000  0.000000  \n",
       "1  0.094126      0.0      0.0  0.359531  0.186878  0.184691  \n",
       "\n",
       "[2 rows x 101 columns]"
      ]
     },
     "execution_count": 145,
     "metadata": {},
     "output_type": "execute_result"
    }
   ],
   "source": [
    "user_embeddings = pd.DataFrame([i for i in users['articles'].apply(lambda x: get_user_embedding(x), 1)])\n",
    "user_embeddings.columns = ['word_{}'.format(i) for i in range(N_features)]\n",
    "user_embeddings['uid'] = users['uid'].values\n",
    "user_embeddings = user_embeddings[['uid']+['word_{}'.format(i) for i in range(N_features)]]\n",
    "user_embeddings.head(2)"
   ]
  },
  {
   "cell_type": "markdown",
   "id": "ec49eb94",
   "metadata": {},
   "source": [
    "### prediction model and test"
   ]
  },
  {
   "cell_type": "code",
   "execution_count": 146,
   "id": "55f50a3f",
   "metadata": {},
   "outputs": [],
   "source": [
    "target = pd.read_csv(\"lesson_2_profiling_user_LDA/users_churn.csv\")"
   ]
  },
  {
   "cell_type": "code",
   "execution_count": 147,
   "id": "c3314877",
   "metadata": {},
   "outputs": [],
   "source": [
    "X = pd.merge(user_embeddings, target, 'left')"
   ]
  },
  {
   "cell_type": "code",
   "execution_count": 148,
   "id": "f1a14675",
   "metadata": {},
   "outputs": [],
   "source": [
    "X_train, X_test, y_train, y_test = train_test_split(X[['word_{}'.format(i) for i in range(N_features)]], \n",
    "                                                    X['churn'], random_state=0)"
   ]
  },
  {
   "cell_type": "code",
   "execution_count": 149,
   "id": "fff9aadf",
   "metadata": {},
   "outputs": [],
   "source": [
    "logreg = LogisticRegression()"
   ]
  },
  {
   "cell_type": "code",
   "execution_count": 150,
   "id": "6082cd69",
   "metadata": {},
   "outputs": [
    {
     "data": {
      "text/html": [
       "<style>#sk-container-id-8 {color: black;background-color: white;}#sk-container-id-8 pre{padding: 0;}#sk-container-id-8 div.sk-toggleable {background-color: white;}#sk-container-id-8 label.sk-toggleable__label {cursor: pointer;display: block;width: 100%;margin-bottom: 0;padding: 0.3em;box-sizing: border-box;text-align: center;}#sk-container-id-8 label.sk-toggleable__label-arrow:before {content: \"▸\";float: left;margin-right: 0.25em;color: #696969;}#sk-container-id-8 label.sk-toggleable__label-arrow:hover:before {color: black;}#sk-container-id-8 div.sk-estimator:hover label.sk-toggleable__label-arrow:before {color: black;}#sk-container-id-8 div.sk-toggleable__content {max-height: 0;max-width: 0;overflow: hidden;text-align: left;background-color: #f0f8ff;}#sk-container-id-8 div.sk-toggleable__content pre {margin: 0.2em;color: black;border-radius: 0.25em;background-color: #f0f8ff;}#sk-container-id-8 input.sk-toggleable__control:checked~div.sk-toggleable__content {max-height: 200px;max-width: 100%;overflow: auto;}#sk-container-id-8 input.sk-toggleable__control:checked~label.sk-toggleable__label-arrow:before {content: \"▾\";}#sk-container-id-8 div.sk-estimator input.sk-toggleable__control:checked~label.sk-toggleable__label {background-color: #d4ebff;}#sk-container-id-8 div.sk-label input.sk-toggleable__control:checked~label.sk-toggleable__label {background-color: #d4ebff;}#sk-container-id-8 input.sk-hidden--visually {border: 0;clip: rect(1px 1px 1px 1px);clip: rect(1px, 1px, 1px, 1px);height: 1px;margin: -1px;overflow: hidden;padding: 0;position: absolute;width: 1px;}#sk-container-id-8 div.sk-estimator {font-family: monospace;background-color: #f0f8ff;border: 1px dotted black;border-radius: 0.25em;box-sizing: border-box;margin-bottom: 0.5em;}#sk-container-id-8 div.sk-estimator:hover {background-color: #d4ebff;}#sk-container-id-8 div.sk-parallel-item::after {content: \"\";width: 100%;border-bottom: 1px solid gray;flex-grow: 1;}#sk-container-id-8 div.sk-label:hover label.sk-toggleable__label {background-color: #d4ebff;}#sk-container-id-8 div.sk-serial::before {content: \"\";position: absolute;border-left: 1px solid gray;box-sizing: border-box;top: 0;bottom: 0;left: 50%;z-index: 0;}#sk-container-id-8 div.sk-serial {display: flex;flex-direction: column;align-items: center;background-color: white;padding-right: 0.2em;padding-left: 0.2em;position: relative;}#sk-container-id-8 div.sk-item {position: relative;z-index: 1;}#sk-container-id-8 div.sk-parallel {display: flex;align-items: stretch;justify-content: center;background-color: white;position: relative;}#sk-container-id-8 div.sk-item::before, #sk-container-id-8 div.sk-parallel-item::before {content: \"\";position: absolute;border-left: 1px solid gray;box-sizing: border-box;top: 0;bottom: 0;left: 50%;z-index: -1;}#sk-container-id-8 div.sk-parallel-item {display: flex;flex-direction: column;z-index: 1;position: relative;background-color: white;}#sk-container-id-8 div.sk-parallel-item:first-child::after {align-self: flex-end;width: 50%;}#sk-container-id-8 div.sk-parallel-item:last-child::after {align-self: flex-start;width: 50%;}#sk-container-id-8 div.sk-parallel-item:only-child::after {width: 0;}#sk-container-id-8 div.sk-dashed-wrapped {border: 1px dashed gray;margin: 0 0.4em 0.5em 0.4em;box-sizing: border-box;padding-bottom: 0.4em;background-color: white;}#sk-container-id-8 div.sk-label label {font-family: monospace;font-weight: bold;display: inline-block;line-height: 1.2em;}#sk-container-id-8 div.sk-label-container {text-align: center;}#sk-container-id-8 div.sk-container {/* jupyter's `normalize.less` sets `[hidden] { display: none; }` but bootstrap.min.css set `[hidden] { display: none !important; }` so we also need the `!important` here to be able to override the default hidden behavior on the sphinx rendered scikit-learn.org. See: https://github.com/scikit-learn/scikit-learn/issues/21755 */display: inline-block !important;position: relative;}#sk-container-id-8 div.sk-text-repr-fallback {display: none;}</style><div id=\"sk-container-id-8\" class=\"sk-top-container\"><div class=\"sk-text-repr-fallback\"><pre>LogisticRegression()</pre><b>In a Jupyter environment, please rerun this cell to show the HTML representation or trust the notebook. <br />On GitHub, the HTML representation is unable to render, please try loading this page with nbviewer.org.</b></div><div class=\"sk-container\" hidden><div class=\"sk-item\"><div class=\"sk-estimator sk-toggleable\"><input class=\"sk-toggleable__control sk-hidden--visually\" id=\"sk-estimator-id-8\" type=\"checkbox\" checked><label for=\"sk-estimator-id-8\" class=\"sk-toggleable__label sk-toggleable__label-arrow\">LogisticRegression</label><div class=\"sk-toggleable__content\"><pre>LogisticRegression()</pre></div></div></div></div></div>"
      ],
      "text/plain": [
       "LogisticRegression()"
      ]
     },
     "execution_count": 150,
     "metadata": {},
     "output_type": "execute_result"
    }
   ],
   "source": [
    "logreg.fit(X_train, y_train)"
   ]
  },
  {
   "cell_type": "code",
   "execution_count": 151,
   "id": "f56a47d6",
   "metadata": {},
   "outputs": [],
   "source": [
    "preds = logreg.predict_proba(X_test)[:, 1]"
   ]
  },
  {
   "cell_type": "code",
   "execution_count": 152,
   "id": "e3046e42",
   "metadata": {},
   "outputs": [],
   "source": [
    "from sklearn.metrics import f1_score, roc_auc_score, precision_score, classification_report, \\\n",
    "                            precision_recall_curve, confusion_matrix"
   ]
  },
  {
   "cell_type": "code",
   "execution_count": 153,
   "id": "3a98fb76",
   "metadata": {},
   "outputs": [
    {
     "name": "stdout",
     "output_type": "stream",
     "text": [
      "Best Threshold=0.489742, F-Score=0.996, Precision=0.992, Recall=1.000\n"
     ]
    }
   ],
   "source": [
    "precision, recall, thresholds = precision_recall_curve(y_test, preds)\n",
    "fscore = (2 * precision * recall) / (precision + recall)\n",
    "\n",
    "# locate the index of the largest f-score\n",
    "ix = np.argmax(fscore)\n",
    "print('Best Threshold=%f, F-Score=%.3f, Precision=%.3f, Recall=%.3f' % (thresholds[ix], \n",
    "                                                                        fscore[ix],\n",
    "                                                                        precision[ix],\n",
    "                                                                        recall[ix]))"
   ]
  },
  {
   "cell_type": "code",
   "execution_count": 154,
   "id": "4edd8cb1",
   "metadata": {},
   "outputs": [
    {
     "name": "stdout",
     "output_type": "stream",
     "text": [
      "Confusion matrix, without normalization\n",
      "[[1753    2]\n",
      " [   1  244]]\n"
     ]
    },
    {
     "data": {
      "image/png": "[encoded data removed]",
      "text/plain": [
       "<Figure size 720x576 with 2 Axes>"
      ]
     },
     "metadata": {
      "needs_background": "light"
     },
     "output_type": "display_data"
    }
   ],
   "source": [
    "font = {'size' : 15}\n",
    "\n",
    "plt.rc('font', **font)\n",
    "\n",
    "cnf_matrix = confusion_matrix(y_test, preds > thresholds[ix])\n",
    "plt.figure(figsize=(10, 8))\n",
    "plot_confusion_matrix(cnf_matrix, classes=['non-churn', 'churn'],\n",
    "                      title='Confusion matrix')\n",
    "# plt.savefig(\"conf_matrix.png\")\n",
    "plt.show()"
   ]
  },
  {
   "cell_type": "code",
   "execution_count": 155,
   "id": "adee8ec8",
   "metadata": {},
   "outputs": [
    {
     "data": {
      "text/plain": [
       "0.9999651142508286"
      ]
     },
     "execution_count": 155,
     "metadata": {},
     "output_type": "execute_result"
    }
   ],
   "source": [
    "roc_auc_score(y_test, preds)"
   ]
  },
  {
   "cell_type": "code",
   "execution_count": 156,
   "id": "3af7302e",
   "metadata": {},
   "outputs": [],
   "source": [
    "metrics_tfidf_and_idf_mean_embedding = [fscore[ix], precision[ix], recall[ix], roc_auc_score(y_test, preds)]"
   ]
  },
  {
   "cell_type": "code",
   "execution_count": null,
   "id": "932276dc",
   "metadata": {},
   "outputs": [],
   "source": []
  },
  {
   "cell_type": "code",
   "execution_count": null,
   "id": "233e2c8a",
   "metadata": {},
   "outputs": [],
   "source": []
  },
  {
   "cell_type": "code",
   "execution_count": null,
   "id": "6765ff62",
   "metadata": {},
   "outputs": [],
   "source": []
  },
  {
   "cell_type": "markdown",
   "id": "b2c2102e",
   "metadata": {},
   "source": [
    "### Задание 5\n",
    "\n",
    "Сформировать на выходе единую таблицу, сравнивающую качество 4 разных методов получения эмбедингов пользователей: mean, median, max, idf_mean по метрикам roc_auc, precision, recall, f_score"
   ]
  },
  {
   "cell_type": "markdown",
   "id": "62edb91c",
   "metadata": {},
   "source": [
    "### table of metrics"
   ]
  },
  {
   "cell_type": "code",
   "execution_count": 157,
   "id": "18d080bf",
   "metadata": {},
   "outputs": [
    {
     "data": {
      "text/html": [
       "<div>\n",
       "<style scoped>\n",
       "    .dataframe tbody tr th:only-of-type {\n",
       "        vertical-align: middle;\n",
       "    }\n",
       "\n",
       "    .dataframe tbody tr th {\n",
       "        vertical-align: top;\n",
       "    }\n",
       "\n",
       "    .dataframe thead th {\n",
       "        text-align: right;\n",
       "    }\n",
       "</style>\n",
       "<table border=\"1\" class=\"dataframe\">\n",
       "  <thead>\n",
       "    <tr style=\"text-align: right;\">\n",
       "      <th></th>\n",
       "      <th>fscore</th>\n",
       "      <th>precision</th>\n",
       "      <th>recall</th>\n",
       "      <th>roc_auc_score</th>\n",
       "    </tr>\n",
       "  </thead>\n",
       "  <tbody>\n",
       "    <tr>\n",
       "      <th>metrics_lda_mean_embedding</th>\n",
       "      <td>0.838966</td>\n",
       "      <td>0.817829</td>\n",
       "      <td>0.861224</td>\n",
       "      <td>0.984350</td>\n",
       "    </tr>\n",
       "    <tr>\n",
       "      <th>metrics_lda_median_embedding</th>\n",
       "      <td>0.869919</td>\n",
       "      <td>0.866397</td>\n",
       "      <td>0.873469</td>\n",
       "      <td>0.992234</td>\n",
       "    </tr>\n",
       "    <tr>\n",
       "      <th>metrics_lda_max_embedding</th>\n",
       "      <td>0.937626</td>\n",
       "      <td>0.924603</td>\n",
       "      <td>0.951020</td>\n",
       "      <td>0.997072</td>\n",
       "    </tr>\n",
       "    <tr>\n",
       "      <th>metrics_lda_idf_mean_embedding</th>\n",
       "      <td>0.915663</td>\n",
       "      <td>0.901186</td>\n",
       "      <td>0.930612</td>\n",
       "      <td>0.995488</td>\n",
       "    </tr>\n",
       "    <tr>\n",
       "      <th>metrics_tfidf_mean_embedding</th>\n",
       "      <td>0.983806</td>\n",
       "      <td>0.975904</td>\n",
       "      <td>0.991837</td>\n",
       "      <td>0.999856</td>\n",
       "    </tr>\n",
       "    <tr>\n",
       "      <th>metrics_tfidf_and_idf_mean_embedding</th>\n",
       "      <td>0.995935</td>\n",
       "      <td>0.991903</td>\n",
       "      <td>1.000000</td>\n",
       "      <td>0.999965</td>\n",
       "    </tr>\n",
       "  </tbody>\n",
       "</table>\n",
       "</div>"
      ],
      "text/plain": [
       "                                        fscore  precision    recall  \\\n",
       "metrics_lda_mean_embedding            0.838966   0.817829  0.861224   \n",
       "metrics_lda_median_embedding          0.869919   0.866397  0.873469   \n",
       "metrics_lda_max_embedding             0.937626   0.924603  0.951020   \n",
       "metrics_lda_idf_mean_embedding        0.915663   0.901186  0.930612   \n",
       "metrics_tfidf_mean_embedding          0.983806   0.975904  0.991837   \n",
       "metrics_tfidf_and_idf_mean_embedding  0.995935   0.991903  1.000000   \n",
       "\n",
       "                                      roc_auc_score  \n",
       "metrics_lda_mean_embedding                 0.984350  \n",
       "metrics_lda_median_embedding               0.992234  \n",
       "metrics_lda_max_embedding                  0.997072  \n",
       "metrics_lda_idf_mean_embedding             0.995488  \n",
       "metrics_tfidf_mean_embedding               0.999856  \n",
       "metrics_tfidf_and_idf_mean_embedding       0.999965  "
      ]
     },
     "execution_count": 157,
     "metadata": {},
     "output_type": "execute_result"
    }
   ],
   "source": [
    "pd.DataFrame({\n",
    "    'metrics_lda_mean_embedding': metrics_lda_mean_embedding,\n",
    "    'metrics_lda_median_embedding': metrics_lda_median_embedding,\n",
    "    'metrics_lda_max_embedding': metrics_lda_max_embedding,\n",
    "    'metrics_lda_idf_mean_embedding': metrics_lda_idf_mean_embedding,\n",
    "    'metrics_tfidf_mean_embedding': metrics_tfidf_mean_embedding,  # the way I invented it!!!\n",
    "    'metrics_tfidf_and_idf_mean_embedding': metrics_tfidf_and_idf_mean_embedding  # the way I improved it!!!\n",
    "}, index=['fscore', 'precision', 'recall', 'roc_auc_score']).transpose()"
   ]
  },
  {
   "cell_type": "code",
   "execution_count": null,
   "id": "b168be38",
   "metadata": {},
   "outputs": [],
   "source": []
  },
  {
   "cell_type": "code",
   "execution_count": null,
   "id": "2fb326a3",
   "metadata": {},
   "outputs": [],
   "source": []
  },
  {
   "cell_type": "code",
   "execution_count": null,
   "id": "c4778331",
   "metadata": {},
   "outputs": [],
   "source": []
  },
  {
   "cell_type": "markdown",
   "id": "35ac66d3",
   "metadata": {},
   "source": [
    "### Задание 6\n",
    "\n",
    "Сделать самостоятельные выводы и предположения о том, почему тот или ной способ оказался эффективнее остальных"
   ]
  },
  {
   "cell_type": "code",
   "execution_count": null,
   "id": "49f0cf8e",
   "metadata": {},
   "outputs": [],
   "source": []
  },
  {
   "cell_type": "markdown",
   "id": "7eef19af",
   "metadata": {},
   "source": [
    "1. Подход со взвешиванием статей по IDF в дополнение к LDA подходу (fscore=0.915663) не улучшил метрику по сравнению с np.max.\n",
    "2. TF-IDF подход моей разработки показал себя практически идеально по метрикам (fscore=0.983806), чем всё остальное, даже при равном количестве признаков с LDA подходом (100 в TF-IDF и 100 в LDA при 20 проходах).\n",
    "3. Добавление к моему TF-IDF подходу взвешивания статей по IDF показало __fscore=0.995935!!!__ (и __до 1__ при классификации по 300 словам!!!)\n",
    "3. Добавление гиперпараметра passes=20 при инициализации LdaModel (LDA подход) существенно улучшило метрики по сравнению с passes=1 по дефолту.\n",
    "4. embedding-и с np.mean и np.median в LDA подходе дали метрики слабее, чем с np.max. Скорее всего, np.max делает более 'выразительные' координаты объектов пользователей в пространстве признаков, тем самым помогая сформировать более лучшую разделяющую гиперплоскость."
   ]
  },
  {
   "cell_type": "code",
   "execution_count": null,
   "id": "4430a44e",
   "metadata": {},
   "outputs": [],
   "source": []
  },
  {
   "cell_type": "markdown",
   "id": "d4c846c0",
   "metadata": {},
   "source": [
    "PS: было очень интересно!"
   ]
  },
  {
   "cell_type": "code",
   "execution_count": null,
   "id": "645c77d6",
   "metadata": {},
   "outputs": [],
   "source": []
  }
 ],
 "metadata": {
  "kernelspec": {
   "display_name": "Python 3 (ipykernel)",
   "language": "python",
   "name": "python3"
  },
  "language_info": {
   "codemirror_mode": {
    "name": "ipython",
    "version": 3
   },
   "file_extension": ".py",
   "mimetype": "text/x-python",
   "name": "python",
   "nbconvert_exporter": "python",
   "pygments_lexer": "ipython3",
   "version": "3.9.7"
  }
 },
 "nbformat": 4,
 "nbformat_minor": 5
}
