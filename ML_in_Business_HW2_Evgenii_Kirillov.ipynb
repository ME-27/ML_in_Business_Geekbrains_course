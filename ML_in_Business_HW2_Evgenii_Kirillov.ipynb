{
 "cells": [
  {
   "cell_type": "markdown",
   "id": "ed6701a7",
   "metadata": {},
   "source": [
    "# Домашнее задание № 2"
   ]
  },
  {
   "cell_type": "markdown",
   "id": "2ada4553",
   "metadata": {},
   "source": [
    "## по дисциплине: Машинное обучение в бизнесе"
   ]
  },
  {
   "cell_type": "markdown",
   "id": "b18ca035",
   "metadata": {},
   "source": [
    "### выполнил: Евгений Кириллов"
   ]
  },
  {
   "cell_type": "code",
   "execution_count": null,
   "id": "5788d5e3",
   "metadata": {},
   "outputs": [],
   "source": []
  },
  {
   "cell_type": "markdown",
   "id": "81bcbd87",
   "metadata": {},
   "source": [
    "### Домашнее задание"
   ]
  },
  {
   "cell_type": "markdown",
   "id": "8e94b460",
   "metadata": {},
   "source": [
    "1. Самостоятельно разобраться с тем, что такое tfidf (документация https://scikit-learn.org/stable/modules/generated/sklearn.feature_extraction.text.TfidfVectorizer.html и еще - https://scikit-learn.org/stable/modules/feature_extraction.html#text-feature-extraction)\n",
    "2. Модифицировать код функции get_user_embedding таким образом, чтобы считалось не среднее (как в примере np.mean), а медиана. Применить такое преобразование к данным, обучить модель прогнозирования оттока и посчитать метрики качества и сохранить их: roc auc, precision/recall/f_score (для 3 последних - подобрать оптимальный порог с помощью precision_recall_curve, как это делалось на уроке)\n",
    "3. Повторить п.2, но используя уже не медиану, а max\n",
    "4. (опциональное) Воспользовавшись полученными знаниями из п.1, повторить пункт 2, но уже взвешивая новости по tfidf (подсказка: нужно получить веса-коэффициенты для каждого документа. Не все документы одинаково информативны и несут какой-то положительный сигнал). Подсказка 2 - нужен именно idf, как вес.\n",
    "5. Сформировать на выходе единую таблицу, сравнивающую качество 4 разных методов получения эмбедингов пользователей: mean, median, max, idf_mean по метрикам roc_auc, precision, recall, f_score\n",
    "6. Сделать самостоятельные выводы и предположения о том, почему тот или ной способ оказался эффективнее остальных"
   ]
  },
  {
   "cell_type": "code",
   "execution_count": null,
   "id": "ef639374",
   "metadata": {},
   "outputs": [],
   "source": []
  },
  {
   "cell_type": "code",
   "execution_count": 1,
   "id": "94def673",
   "metadata": {},
   "outputs": [],
   "source": [
    "# !pip install gensim\n",
    "# !pip install razdel\n",
    "# !pip install pymorphy2\n",
    "# !pip install nltk"
   ]
  },
  {
   "cell_type": "code",
   "execution_count": 2,
   "id": "4a356833",
   "metadata": {},
   "outputs": [],
   "source": [
    "import pandas as pd\n",
    "import numpy as np\n",
    "\n",
    "import re\n",
    "import nltk  # required to download stopwords - nltk.download('stopwords')\n",
    "import pymorphy2  # required for normalization of words\n",
    "\n",
    "from nltk.corpus import stopwords  # required to upload stopwords\n",
    "from gensim.corpora.dictionary import Dictionary  # required to create dictionary\n",
    "from razdel import tokenize  # required to tokenize a text - transform them into a list of words"
   ]
  },
  {
   "cell_type": "markdown",
   "id": "07ebed8c",
   "metadata": {},
   "source": [
    "### uploading dataframe of articles"
   ]
  },
  {
   "cell_type": "code",
   "execution_count": 3,
   "id": "f473007d",
   "metadata": {},
   "outputs": [
    {
     "name": "stdout",
     "output_type": "stream",
     "text": [
      "(27000, 2)\n"
     ]
    },
    {
     "data": {
      "text/html": [
       "<div>\n",
       "<style scoped>\n",
       "    .dataframe tbody tr th:only-of-type {\n",
       "        vertical-align: middle;\n",
       "    }\n",
       "\n",
       "    .dataframe tbody tr th {\n",
       "        vertical-align: top;\n",
       "    }\n",
       "\n",
       "    .dataframe thead th {\n",
       "        text-align: right;\n",
       "    }\n",
       "</style>\n",
       "<table border=\"1\" class=\"dataframe\">\n",
       "  <thead>\n",
       "    <tr style=\"text-align: right;\">\n",
       "      <th></th>\n",
       "      <th>doc_id</th>\n",
       "      <th>title</th>\n",
       "    </tr>\n",
       "  </thead>\n",
       "  <tbody>\n",
       "    <tr>\n",
       "      <th>0</th>\n",
       "      <td>6</td>\n",
       "      <td>Заместитель председателяnправительства РФnСерг...</td>\n",
       "    </tr>\n",
       "    <tr>\n",
       "      <th>1</th>\n",
       "      <td>4896</td>\n",
       "      <td>Матч 1/16 финала Кубка России по футболу был п...</td>\n",
       "    </tr>\n",
       "    <tr>\n",
       "      <th>2</th>\n",
       "      <td>4897</td>\n",
       "      <td>Форвард «Авангарда» Томаш Заборский прокоммент...</td>\n",
       "    </tr>\n",
       "  </tbody>\n",
       "</table>\n",
       "</div>"
      ],
      "text/plain": [
       "   doc_id                                              title\n",
       "0       6  Заместитель председателяnправительства РФnСерг...\n",
       "1    4896  Матч 1/16 финала Кубка России по футболу был п...\n",
       "2    4897  Форвард «Авангарда» Томаш Заборский прокоммент..."
      ]
     },
     "execution_count": 3,
     "metadata": {},
     "output_type": "execute_result"
    }
   ],
   "source": [
    "news = pd.read_csv(\"lesson_2_profiling_user_LDA/materials.csv\")\n",
    "print(news.shape)\n",
    "news.head(3)"
   ]
  },
  {
   "cell_type": "markdown",
   "id": "9f613df8",
   "metadata": {},
   "source": [
    "### uploading dataframe of users"
   ]
  },
  {
   "cell_type": "code",
   "execution_count": 4,
   "id": "ceef07b0",
   "metadata": {},
   "outputs": [
    {
     "name": "stdout",
     "output_type": "stream",
     "text": [
      "(8000, 2)\n"
     ]
    },
    {
     "data": {
      "text/html": [
       "<div>\n",
       "<style scoped>\n",
       "    .dataframe tbody tr th:only-of-type {\n",
       "        vertical-align: middle;\n",
       "    }\n",
       "\n",
       "    .dataframe tbody tr th {\n",
       "        vertical-align: top;\n",
       "    }\n",
       "\n",
       "    .dataframe thead th {\n",
       "        text-align: right;\n",
       "    }\n",
       "</style>\n",
       "<table border=\"1\" class=\"dataframe\">\n",
       "  <thead>\n",
       "    <tr style=\"text-align: right;\">\n",
       "      <th></th>\n",
       "      <th>uid</th>\n",
       "      <th>articles</th>\n",
       "    </tr>\n",
       "  </thead>\n",
       "  <tbody>\n",
       "    <tr>\n",
       "      <th>0</th>\n",
       "      <td>u105138</td>\n",
       "      <td>[293672, 293328, 293001, 293622, 293126, 1852]</td>\n",
       "    </tr>\n",
       "    <tr>\n",
       "      <th>1</th>\n",
       "      <td>u108690</td>\n",
       "      <td>[3405, 1739, 2972, 1158, 1599, 322665]</td>\n",
       "    </tr>\n",
       "    <tr>\n",
       "      <th>2</th>\n",
       "      <td>u108339</td>\n",
       "      <td>[1845, 2009, 2356, 1424, 2939, 323389]</td>\n",
       "    </tr>\n",
       "  </tbody>\n",
       "</table>\n",
       "</div>"
      ],
      "text/plain": [
       "       uid                                        articles\n",
       "0  u105138  [293672, 293328, 293001, 293622, 293126, 1852]\n",
       "1  u108690          [3405, 1739, 2972, 1158, 1599, 322665]\n",
       "2  u108339          [1845, 2009, 2356, 1424, 2939, 323389]"
      ]
     },
     "execution_count": 4,
     "metadata": {},
     "output_type": "execute_result"
    }
   ],
   "source": [
    "users = pd.read_csv(\"lesson_2_profiling_user_LDA/users_articles.csv\")\n",
    "print(users.shape)\n",
    "users.head(3)"
   ]
  },
  {
   "cell_type": "markdown",
   "id": "4f34b911",
   "metadata": {},
   "source": [
    "## PART 1 - Vectors of Articles"
   ]
  },
  {
   "cell_type": "markdown",
   "id": "fd8cd876",
   "metadata": {},
   "source": [
    "### downloading stopwords"
   ]
  },
  {
   "cell_type": "code",
   "execution_count": 5,
   "id": "d0ebb115",
   "metadata": {},
   "outputs": [
    {
     "name": "stderr",
     "output_type": "stream",
     "text": [
      "[nltk_data] Downloading package stopwords to\n",
      "[nltk_data]     C:\\Users\\fross\\AppData\\Roaming\\nltk_data...\n",
      "[nltk_data]   Package stopwords is already up-to-date!\n"
     ]
    },
    {
     "data": {
      "text/plain": [
       "True"
      ]
     },
     "execution_count": 5,
     "metadata": {},
     "output_type": "execute_result"
    }
   ],
   "source": [
    "nltk.download('stopwords')"
   ]
  },
  {
   "cell_type": "code",
   "execution_count": 6,
   "id": "59de815f",
   "metadata": {},
   "outputs": [
    {
     "name": "stdout",
     "output_type": "stream",
     "text": [
      "['и', 'в', 'во', 'не', 'что', 'он', 'на', 'я', 'с', 'со']\n",
      "151\n"
     ]
    }
   ],
   "source": [
    "stopword_ru = stopwords.words('russian')\n",
    "print(stopword_ru[:10])\n",
    "print(len(stopword_ru))"
   ]
  },
  {
   "cell_type": "markdown",
   "id": "db3d5505",
   "metadata": {},
   "source": [
    "### adding additional stopwards from file"
   ]
  },
  {
   "cell_type": "code",
   "execution_count": 7,
   "id": "ca9cc3a7",
   "metadata": {},
   "outputs": [
    {
     "name": "stdout",
     "output_type": "stream",
     "text": [
      "['сообщает_риа_\"новости\"', 'передает_риа_\"новости\"', 'понедельник', 'вторник', 'среда', 'четверг', 'пятница', 'суббота', 'воскресенье', 'сообщил_журналист']\n"
     ]
    },
    {
     "data": {
      "text/plain": [
       "415"
      ]
     },
     "execution_count": 7,
     "metadata": {},
     "output_type": "execute_result"
    }
   ],
   "source": [
    "with open('lesson_2_profiling_user_LDA/stopwords_additional_russian.txt', encoding=\"utf8\") as f:\n",
    "    additional_stopwords = [w.strip() for w in f.readlines() if w]\n",
    "stopword_ru += additional_stopwords\n",
    "print(stopword_ru[-10:])\n",
    "len(stopword_ru)"
   ]
  },
  {
   "cell_type": "markdown",
   "id": "49bfb88c",
   "metadata": {},
   "source": [
    "### function to clean a text from special symbols"
   ]
  },
  {
   "cell_type": "code",
   "execution_count": 8,
   "id": "6b6f8a28",
   "metadata": {},
   "outputs": [],
   "source": [
    "def clean_text(text):\n",
    "    '''\n",
    "    очистка текста\n",
    "    на выходе очищеный текст\n",
    "    '''\n",
    "    \n",
    "    if not isinstance(text, str):\n",
    "        text = str(text)\n",
    "    \n",
    "    text = text.lower()\n",
    "    text = text.strip('\\n').strip('\\r').strip('\\t')\n",
    "    text = re.sub(\"-\\s\\r\\n\\|-\\s\\r\\n|\\r\\n\", '', str(text))\n",
    "\n",
    "    text = re.sub(\"[0-9]|[-—.,:;_%©«»?*!@#№$^'•·&()]|[+=]|[[]|[]]|[/]|\", '', text)\n",
    "    text = re.sub(r\"\\r\\n\\t|\\n|\\\\s|\\r\\t|\\\\n\", ' ', text)\n",
    "    text = re.sub(r'[\\xad]|[\\s+]', ' ', text.strip())\n",
    "    \n",
    "    return text"
   ]
  },
  {
   "cell_type": "markdown",
   "id": "07c0678e",
   "metadata": {},
   "source": [
    "#### demostration of how 'clean_text' works"
   ]
  },
  {
   "cell_type": "code",
   "execution_count": 9,
   "id": "c85046b1",
   "metadata": {},
   "outputs": [
    {
     "name": "stderr",
     "output_type": "stream",
     "text": [
      "C:\\Users\\fross\\AppData\\Local\\Temp/ipykernel_16436/813516641.py:14: FutureWarning: Possible nested set at position 40\n",
      "  text = re.sub(\"[0-9]|[-—.,:;_%©«»?*!@#№$^'•·&()]|[+=]|[[]|[]]|[/]|\", '', text)\n"
     ]
    },
    {
     "data": {
      "text/plain": [
       "'i like  pineapples'"
      ]
     },
     "execution_count": 9,
     "metadata": {},
     "output_type": "execute_result"
    }
   ],
   "source": [
    "clean_text('\\n-I like 44 *pineapples!-')"
   ]
  },
  {
   "cell_type": "markdown",
   "id": "9b7fd3d7",
   "metadata": {},
   "source": [
    "### function to transform a text into tokenized list of words in their normal form"
   ]
  },
  {
   "cell_type": "code",
   "execution_count": 10,
   "id": "0662ec6f",
   "metadata": {},
   "outputs": [],
   "source": [
    "cache = {}\n",
    "morph = pymorphy2.MorphAnalyzer()\n",
    "def lemmatization(text):\n",
    "    '''\n",
    "    the function is required to transform a text/article into a list of words in their normal form\n",
    "        [0] changing of type to `str` if not `str`\n",
    "        [1] tokenization with razdel\n",
    "        [2] checking whether a word starts with '-'\n",
    "        [3] checking whether there is more than one symbol in a word\n",
    "        [4] checking whether a word is in cashe\n",
    "        [5] lemmatization of word - bringing it into its normal form\n",
    "        [6] throwing out stopwords from final list of words\n",
    "    '''\n",
    "    \n",
    "    # [0]\n",
    "    if not isinstance(text, str):\n",
    "        text = str(text)\n",
    "    \n",
    "    # [1]\n",
    "    tokens = list(tokenize(text))\n",
    "    words = [_.text for _ in tokens]\n",
    "\n",
    "    words_lem = []\n",
    "    for w in words:\n",
    "        if w[0] == '-': # [2]\n",
    "            w = w[1:]\n",
    "        if len(w) > 1: # [3]\n",
    "            if w in cache: # [4]\n",
    "                words_lem.append(cache[w])\n",
    "            else: # [5]\n",
    "                temp_cach = cache[w] = morph.parse(w)[0].normal_form\n",
    "                words_lem.append(temp_cach)\n",
    "    \n",
    "    words_lem_without_stopwords = [i for i in words_lem if not i in stopword_ru] # [6]\n",
    "    \n",
    "    return words_lem_without_stopwords"
   ]
  },
  {
   "cell_type": "markdown",
   "id": "564282a3",
   "metadata": {},
   "source": [
    "#### demonstration of how pymorphy2.MorphAnalyzer().parse('...') works"
   ]
  },
  {
   "cell_type": "code",
   "execution_count": 11,
   "id": "82fac791",
   "metadata": {},
   "outputs": [
    {
     "data": {
      "text/plain": [
       "[Parse(word='играл', tag=OpencorporaTag('VERB,impf,tran masc,sing,past,indc'), normal_form='играть', score=1.0, methods_stack=((DictionaryAnalyzer(), 'играл', 1694, 7),))]"
      ]
     },
     "execution_count": 11,
     "metadata": {},
     "output_type": "execute_result"
    }
   ],
   "source": [
    "pymorphy2.MorphAnalyzer().parse('играл')"
   ]
  },
  {
   "cell_type": "code",
   "execution_count": 12,
   "id": "39fead0d",
   "metadata": {},
   "outputs": [
    {
     "data": {
      "text/plain": [
       "'играть'"
      ]
     },
     "execution_count": 12,
     "metadata": {},
     "output_type": "execute_result"
    }
   ],
   "source": [
    "pymorphy2.MorphAnalyzer().parse('играл')[0].normal_form"
   ]
  },
  {
   "cell_type": "markdown",
   "id": "b74f4f4c",
   "metadata": {},
   "source": [
    "#### demonstration of how 'tokenize' (razdel.tokenize) works"
   ]
  },
  {
   "cell_type": "code",
   "execution_count": 13,
   "id": "dc971c56",
   "metadata": {},
   "outputs": [
    {
     "data": {
      "text/plain": [
       "[Substring(0, 4, 'Мама'), Substring(5, 9, 'мыла'), Substring(10, 14, 'раму')]"
      ]
     },
     "execution_count": 13,
     "metadata": {},
     "output_type": "execute_result"
    }
   ],
   "source": [
    "[_ for _ in tokenize('Мама мыла раму')]"
   ]
  },
  {
   "cell_type": "code",
   "execution_count": 14,
   "id": "dbcbab01",
   "metadata": {},
   "outputs": [
    {
     "data": {
      "text/plain": [
       "['Мама', 'мыла', 'раму']"
      ]
     },
     "execution_count": 14,
     "metadata": {},
     "output_type": "execute_result"
    }
   ],
   "source": [
    "[_.text for _ in tokenize('Мама мыла раму')]"
   ]
  },
  {
   "cell_type": "markdown",
   "id": "7979c902",
   "metadata": {},
   "source": [
    "#### demonstration of how 'lemmatization' works"
   ]
  },
  {
   "cell_type": "code",
   "execution_count": 15,
   "id": "52c95493",
   "metadata": {},
   "outputs": [
    {
     "data": {
      "text/plain": [
       "['мама', 'мыло', 'рама']"
      ]
     },
     "execution_count": 15,
     "metadata": {},
     "output_type": "execute_result"
    }
   ],
   "source": [
    "lemmatization('Мама мыла раму')"
   ]
  },
  {
   "cell_type": "markdown",
   "id": "5f027fcf",
   "metadata": {},
   "source": [
    "### let's start 'clean_text', it is going to take some time..."
   ]
  },
  {
   "cell_type": "code",
   "execution_count": 16,
   "id": "500039ae",
   "metadata": {},
   "outputs": [
    {
     "name": "stdout",
     "output_type": "stream",
     "text": [
      "Футбольный клуб «Анжи» объявил об усилении тренерского штаба команды, об этом сообщаетnофициальный сайтnмахачкалинцев.nПомогать главному тренеру, Гусу Хиддинку, в тренировочном процессе призваны бывший сотрудник «Манчестер Юнайтед» Рене Меленстен (бывший помощник Алекса Фергюсона) и Хасанби Биджиев.nОба тренера имеют тренерскую категорию PRO. При этом Биджиев продолжит исполнение функций спортивного директора нашего клуба.nВ свою очередь медицинское подразделение штаба пополнят такие специалисты как массажист-терапевт Денни Флиттер (Великобритания, «Арсенал» Лондон), физиотерапевт Доминик Роган (Великобритания, «Эвертон»), тренер по физической подготовке Эдуардо Парра Гарсия (Испания, «Интер» Милан, «Ливерпуль»), специалист по спортивной науке Уорд Дирикс (Бельгия, «Гент»), массажист-терапевт Уильям Стори (Великобритания, «Вест Хэм») и тренер по физподготовке Брэм Суиннинен (Бельгия, БК «Химки»).\n"
     ]
    }
   ],
   "source": [
    "print(news['title'][88])  # before"
   ]
  },
  {
   "cell_type": "code",
   "execution_count": 17,
   "id": "46fc3a75",
   "metadata": {},
   "outputs": [
    {
     "name": "stdout",
     "output_type": "stream",
     "text": [
      "Wall time: 22.2 s\n"
     ]
    }
   ],
   "source": [
    "%%time\n",
    "news['title'] = news['title'].apply(lambda x: clean_text(x), 1)"
   ]
  },
  {
   "cell_type": "code",
   "execution_count": 18,
   "id": "a45a9614",
   "metadata": {},
   "outputs": [
    {
     "name": "stdout",
     "output_type": "stream",
     "text": [
      "футбольный клуб анжи объявил об усилении тренерского штаба команды об этом сообщаетnофициальный сайтnмахачкалинцевnпомогать главному тренеру гусу хиддинку в тренировочном процессе призваны бывший сотрудник манчестер юнайтед рене меленстен бывший помощник алекса фергюсона и хасанби биджиевnоба тренера имеют тренерскую категорию pro при этом биджиев продолжит исполнение функций спортивного директора нашего клубаnв свою очередь медицинское подразделение штаба пополнят такие специалисты как массажисттерапевт денни флиттер великобритания арсенал лондон физиотерапевт доминик роган великобритания эвертон тренер по физической подготовке эдуардо парра гарсия испания интер милан ливерпуль специалист по спортивной науке уорд дирикс бельгия гент массажисттерапевт уильям стори великобритания вест хэм и тренер по физподготовке брэм суиннинен бельгия бк химки\n"
     ]
    }
   ],
   "source": [
    "print(news['title'][88])  # after"
   ]
  },
  {
   "cell_type": "markdown",
   "id": "a1951d56",
   "metadata": {},
   "source": [
    "### let's start 'lemmatization', it is going to take long time..."
   ]
  },
  {
   "cell_type": "code",
   "execution_count": 19,
   "id": "07b83a65",
   "metadata": {},
   "outputs": [
    {
     "name": "stdout",
     "output_type": "stream",
     "text": [
      "футбольный клуб анжи объявил об усилении тренерского штаба команды об этом сообщаетnофициальный сайтnмахачкалинцевnпомогать главному тренеру гусу хиддинку в тренировочном процессе призваны бывший сотрудник манчестер юнайтед рене меленстен бывший помощник алекса фергюсона и хасанби биджиевnоба тренера имеют тренерскую категорию pro при этом биджиев продолжит исполнение функций спортивного директора нашего клубаnв свою очередь медицинское подразделение штаба пополнят такие специалисты как массажисттерапевт денни флиттер великобритания арсенал лондон физиотерапевт доминик роган великобритания эвертон тренер по физической подготовке эдуардо парра гарсия испания интер милан ливерпуль специалист по спортивной науке уорд дирикс бельгия гент массажисттерапевт уильям стори великобритания вест хэм и тренер по физподготовке брэм суиннинен бельгия бк химки\n"
     ]
    }
   ],
   "source": [
    "print(news['title'][88])  # before"
   ]
  },
  {
   "cell_type": "code",
   "execution_count": 20,
   "id": "6070a221",
   "metadata": {},
   "outputs": [
    {
     "name": "stdout",
     "output_type": "stream",
     "text": [
      "Wall time: 2min 28s\n"
     ]
    }
   ],
   "source": [
    "%%time\n",
    "news['title'] = news['title'].apply(lambda x: lemmatization(x), 1)"
   ]
  },
  {
   "cell_type": "code",
   "execution_count": 21,
   "id": "d8ee0fbb",
   "metadata": {},
   "outputs": [
    {
     "name": "stdout",
     "output_type": "stream",
     "text": [
      "['футбольный', 'клуб', 'анжи', 'объявить', 'усиление', 'тренерский', 'штаб', 'команда', 'официальный', 'сайт', 'махачкалинец', 'помогать', 'главный', 'тренер', 'гуса', 'хиддинк', 'тренировочный', 'процесс', 'призвать', 'бывший', 'сотрудник', 'манчестер', 'юнайтед', 'рен', 'меленстен', 'бывший', 'помощник', 'алекс', 'фергюсон', 'хасанби', 'биджиев', 'оба', 'тренер', 'иметь', 'тренерский', 'категория', 'pro', 'биджиев', 'продолжить', 'исполнение', 'функция', 'спортивный', 'директор', 'клуб', 'очередь', 'медицинский', 'подразделение', 'штаб', 'пополнить', 'специалист', 'массажисттерапевт', 'денни', 'флиттереть', 'великобритания', 'арсенал', 'лондон', 'физиотерапевт', 'доминик', 'рогать', 'великобритания', 'эвертон', 'тренер', 'физический', 'подготовка', 'эдуардо', 'парра', 'гарсия', 'испания', 'интер', 'милан', 'ливерпуль', 'специалист', 'спортивный', 'наука', 'уорд', 'дирикс', 'бельгия', 'гент', 'массажисттерапевт', 'уильям', 'стори', 'великобритания', 'вест', 'хэм', 'тренер', 'физподготовка', 'брэм', 'суиннинный', 'бельгия', 'бк', 'химки']\n"
     ]
    }
   ],
   "source": [
    "print(news['title'][88])  # after"
   ]
  },
  {
   "cell_type": "markdown",
   "id": "eac08fb7",
   "metadata": {},
   "source": [
    "### let's create corpus - a list of 'bag of words' sparse matrixes, each of which corresponds to a news"
   ]
  },
  {
   "cell_type": "code",
   "execution_count": 22,
   "id": "b0c5ad6b",
   "metadata": {},
   "outputs": [],
   "source": [
    "# creation of list of texts (texts are lists of cleanded and lemmatized words)\n",
    "texts = [_ for _ in news['title'].values]  # 'texts' is to be a list of lists of tokenized and lemmatized words\n",
    "\n",
    "# creation of a corpus from a list of texts\n",
    "common_dictionary = Dictionary(texts)  # creation of 'common_dictionary' - the list of all words in all documents;\n",
    "                                       # words are normalized and stopwords are not included\n",
    "common_corpus = [common_dictionary.doc2bow(_) for _ in texts]  # creation of 'common_corpus' - the list of all texts;\n",
    "                                                                     # texts are in form of 'bag of words' sparse matrix"
   ]
  },
  {
   "cell_type": "code",
   "execution_count": 23,
   "id": "72d2ed35",
   "metadata": {},
   "outputs": [
    {
     "name": "stdout",
     "output_type": "stream",
     "text": [
      "алексей \n",
      "\n",
      "эсенбог \n",
      "\n",
      "141570 \n",
      "\n",
      "[(92, 2), (93, 1), (94, 1), (95, 1), (96, 1), (97, 2), (98, 1), (99, 1), (100, 1), (101, 1), (102, 1), (103, 1), (104, 3), (105, 1), (106, 1), (107, 1), (108, 1), (109, 1), (110, 1), (111, 1), (112, 1), (113, 3), (114, 1), (115, 1), (116, 1), (117, 1), (118, 1), (119, 2), (120, 1), (121, 1), (122, 1), (123, 1), (124, 1)] \n",
      "\n",
      "27000 27000\n"
     ]
    }
   ],
   "source": [
    "print(common_dictionary[2], '\\n')\n",
    "print(common_dictionary[110111], '\\n')\n",
    "print(len(common_dictionary), '\\n')\n",
    "\n",
    "print(common_corpus[1], '\\n')  # article#1 in form of bag of words' sparse matrix\n",
    "print(len(common_corpus), news['title'].shape[0])"
   ]
  },
  {
   "cell_type": "markdown",
   "id": "01242774",
   "metadata": {},
   "source": [
    "### setting our main hyperparameter - number of topics"
   ]
  },
  {
   "cell_type": "code",
   "execution_count": 24,
   "id": "8aebdfd0",
   "metadata": {},
   "outputs": [],
   "source": [
    "N_topic = 25  # number of topics - hyperparameter; it can be tuned to improve performance"
   ]
  },
  {
   "cell_type": "markdown",
   "id": "7c3aa710",
   "metadata": {},
   "source": [
    "### fitting our LdaModel"
   ]
  },
  {
   "cell_type": "code",
   "execution_count": 25,
   "id": "f2867b39",
   "metadata": {},
   "outputs": [],
   "source": [
    "from gensim.models import LdaModel"
   ]
  },
  {
   "cell_type": "code",
   "execution_count": 26,
   "id": "1619fd3a",
   "metadata": {},
   "outputs": [
    {
     "name": "stdout",
     "output_type": "stream",
     "text": [
      "Wall time: 3min 48s\n"
     ]
    }
   ],
   "source": [
    "%%time\n",
    "lda = LdaModel(corpus=common_corpus,  # corpus param is fed with the list of all texts; texts are 'bag of words' sparse matrixes\n",
    "               num_topics=N_topic,  # number of topics\n",
    "               id2word=common_dictionary,  # id2word is fed with the dictionary of all words, so that the model may\n",
    "                                           # convert incoming texts into words' ids and define topics' probabilities related\n",
    "               passes=10)"
   ]
  },
  {
   "cell_type": "markdown",
   "id": "1769450c",
   "metadata": {},
   "source": [
    "### saving and loading the model"
   ]
  },
  {
   "cell_type": "code",
   "execution_count": 27,
   "id": "283e7306",
   "metadata": {},
   "outputs": [],
   "source": [
    "# saving the model\n",
    "lda.save(\"model.lda\")\n",
    "\n",
    "# loading the model\n",
    "lda = LdaModel.load(\"model.lda\")"
   ]
  },
  {
   "cell_type": "markdown",
   "id": "e9937c87",
   "metadata": {},
   "source": [
    "#### demonstration of what LdaModel does"
   ]
  },
  {
   "cell_type": "code",
   "execution_count": 28,
   "id": "40adfd24",
   "metadata": {},
   "outputs": [
    {
     "name": "stdout",
     "output_type": "stream",
     "text": [
      "['форвард', 'авангард', 'томаш', 'заборский', 'прокомментировать', 'игра', 'команда', 'матч', 'чемпионат', 'кхл', 'против', 'атланта', 'nnnn', 'плохой', 'матч', 'нижний', 'новгород', 'против', 'торпедо', 'настраиваться', 'первый', 'минута', 'включиться', 'заборский', 'получиться', 'забросить', 'быстрый', 'гол', 'задать', 'хороший', 'темп', 'поединок', 'играть', 'хороший', 'сторона', 'пять', 'очко', 'выезд', 'девять', 'хороший'] \n",
      "\n",
      "[(48, 1), (100, 1), (104, 2), (105, 1), (116, 1), (125, 1), (126, 1), (127, 1), (128, 1), (129, 1), (130, 1), (131, 1), (132, 1), (133, 2), (134, 1), (135, 1), (136, 1), (137, 1), (138, 1), (139, 1), (140, 1), (141, 1), (142, 1), (143, 1), (144, 1), (145, 1), (146, 1), (147, 2), (148, 1), (149, 1), (150, 1), (151, 1), (152, 1), (153, 3), (154, 1)] \n",
      "\n",
      "[(10, 0.44638368), (11, 0.12527122), (12, 0.1044596), (14, 0.21208312), (17, 0.031261493), (24, 0.060991917)]\n"
     ]
    }
   ],
   "source": [
    "# let's take first 10 tokenized texts/articles and presume that our lda-model hasn't seen them\n",
    "other_texts = [t for t in news['title'].iloc[:10]]\n",
    "\n",
    "# let's convert these 10 tokenized texts/articles into sparse matrixes with 'bag of words' method of our gensim Dictionary\n",
    "other_corpus = [common_dictionary.doc2bow(text) for text in other_texts]\n",
    "\n",
    "print(other_texts[2], '\\n')\n",
    "print(other_corpus[2], '\\n')\n",
    "\n",
    "# let's put one of these sparse matrices into our LdaModel to get topics' probabilities\n",
    "print(lda[other_corpus[2]])"
   ]
  },
  {
   "cell_type": "markdown",
   "id": "93688271",
   "metadata": {},
   "source": [
    "### let's describe each topic our LdaModel created with 7 words"
   ]
  },
  {
   "cell_type": "code",
   "execution_count": 29,
   "id": "94d8ca7d",
   "metadata": {},
   "outputs": [
    {
     "name": "stdout",
     "output_type": "stream",
     "text": [
      "topic_0: земля армия вода станция советский часть выяснить\n",
      "topic_1: мозг продукция иск снизить сотрудничать подать компенсация\n",
      "topic_2: the флот океан кожа ресторан заложить название\n",
      "topic_3: сотрудник данные министерство задержать экипаж источник квартира\n",
      "topic_4: nn мероприятие мир сайт участник новый участие\n",
      "topic_5: nn газ nnn глава день москва правительство\n",
      "topic_6: территория русский власть писать террорист восточный житель\n",
      "topic_7: проект система новый погибнуть объём программа строительство\n",
      "topic_8: миссия фильм клинический необычный зуб добраться фрагмент\n",
      "topic_9: рубль цена млн ракета стоимость доллар сумма\n",
      "topic_10: температура солнце погода команда градус игра лёд\n",
      "topic_11: китай запуск двигатель остров китайский км испытание\n",
      "topic_12: всё ребёнок день жизнь женщина мужчина обнаружить\n",
      "topic_13: гражданин фонд закон документ совет право принять\n",
      "topic_14: исследование помощь снижение дом летний nn житель\n",
      "topic_15: рынок банк рост всё вопрос проблема исследование\n",
      "topic_16: россия российский путин рф владимир москва глава\n",
      "topic_17: клуб предупредить звание орудие испания испанский сезон\n",
      "topic_18: сша американский военный журнал сила операция боевой\n",
      "topic_19: европа германия северный немецкий польша великобритания греция\n",
      "topic_20: область уголовный управление торговый участок преступление москва\n",
      "topic_21: украина украинский киев проверка пётр офицер подчеркнуть\n",
      "topic_22: научный наука новый технология большой эксперт очень\n",
      "topic_23: производитель су кг сочи таиланд золото орден\n",
      "topic_24: млрд составить уровень россия млн тыс доход\n"
     ]
    }
   ],
   "source": [
    "x = lda.show_topics(num_topics=N_topic, num_words=7, formatted=False)\n",
    "topics_words = [(tp[0], [wd[0] for wd in tp[1]]) for tp in x]\n",
    "\n",
    "for topic, words in topics_words:\n",
    "    print(f'topic_{topic}: {\" \".join(words)}')"
   ]
  },
  {
   "cell_type": "markdown",
   "id": "44d8c75a",
   "metadata": {},
   "source": [
    "### function to to transform a tokenized text into array of topics' probabilities"
   ]
  },
  {
   "cell_type": "code",
   "execution_count": 30,
   "id": "edc1f1b1",
   "metadata": {},
   "outputs": [],
   "source": [
    "def get_lda_vector(text):\n",
    "    unseen_doc = common_dictionary.doc2bow(text)\n",
    "    lda_tuple = lda[unseen_doc]\n",
    "    not_null_topics = dict(zip([i[0] for i in lda_tuple], [i[1] for i in lda_tuple]))\n",
    "\n",
    "    output_vector = []\n",
    "    for i in range(N_topic):\n",
    "        if i not in not_null_topics:\n",
    "            output_vector.append(0)\n",
    "        else:\n",
    "            output_vector.append(not_null_topics[i])\n",
    "    return np.array(output_vector)"
   ]
  },
  {
   "cell_type": "markdown",
   "id": "84130e26",
   "metadata": {},
   "source": [
    "#### demonstration of what get_lda_vector does"
   ]
  },
  {
   "cell_type": "code",
   "execution_count": 31,
   "id": "2bb5803e",
   "metadata": {},
   "outputs": [
    {
     "name": "stdout",
     "output_type": "stream",
     "text": [
      "['матч', 'финал', 'кубок', 'россия', 'футбол', 'приостановить', 'судья', 'изз', 'взрыв', 'пиротехнический', 'снаряд', 'передавать', 'корреспондент', 'газета', 'ru', 'болельщик', 'выбросить', 'поле', 'петарда', 'судья', 'увести', 'команда', 'поле', 'подтрибунный', 'помещение', 'динамовец', 'уйти', 'торпедовец', 'остаться', 'кромка', 'поле', 'матч', 'остановить', 'пять', 'минута', 'газета', 'ru', 'вести', 'онлайнтрансляция', 'матч']\n"
     ]
    }
   ],
   "source": [
    "print(news['title'].values[1])"
   ]
  },
  {
   "cell_type": "code",
   "execution_count": 32,
   "id": "a4b864bc",
   "metadata": {},
   "outputs": [
    {
     "data": {
      "text/plain": [
       "array([0.42441219, 0.        , 0.        , 0.        , 0.        ,\n",
       "       0.14892302, 0.        , 0.        , 0.        , 0.        ,\n",
       "       0.4034991 , 0.        , 0.        , 0.        , 0.        ,\n",
       "       0.        , 0.        , 0.        , 0.        , 0.        ,\n",
       "       0.        , 0.        , 0.        , 0.        , 0.        ])"
      ]
     },
     "execution_count": 32,
     "metadata": {},
     "output_type": "execute_result"
    }
   ],
   "source": [
    "get_lda_vector(news['title'].values[1])"
   ]
  },
  {
   "cell_type": "markdown",
   "id": "f86fba28",
   "metadata": {},
   "source": [
    "### creation of documents' ids/topics' probabilities dataframe"
   ]
  },
  {
   "cell_type": "code",
   "execution_count": 33,
   "id": "8d06e88c",
   "metadata": {},
   "outputs": [
    {
     "data": {
      "text/html": [
       "<div>\n",
       "<style scoped>\n",
       "    .dataframe tbody tr th:only-of-type {\n",
       "        vertical-align: middle;\n",
       "    }\n",
       "\n",
       "    .dataframe tbody tr th {\n",
       "        vertical-align: top;\n",
       "    }\n",
       "\n",
       "    .dataframe thead th {\n",
       "        text-align: right;\n",
       "    }\n",
       "</style>\n",
       "<table border=\"1\" class=\"dataframe\">\n",
       "  <thead>\n",
       "    <tr style=\"text-align: right;\">\n",
       "      <th></th>\n",
       "      <th>doc_id</th>\n",
       "      <th>topic_0</th>\n",
       "      <th>topic_1</th>\n",
       "      <th>topic_2</th>\n",
       "      <th>topic_3</th>\n",
       "      <th>topic_4</th>\n",
       "      <th>topic_5</th>\n",
       "      <th>topic_6</th>\n",
       "      <th>topic_7</th>\n",
       "      <th>topic_8</th>\n",
       "      <th>...</th>\n",
       "      <th>topic_15</th>\n",
       "      <th>topic_16</th>\n",
       "      <th>topic_17</th>\n",
       "      <th>topic_18</th>\n",
       "      <th>topic_19</th>\n",
       "      <th>topic_20</th>\n",
       "      <th>topic_21</th>\n",
       "      <th>topic_22</th>\n",
       "      <th>topic_23</th>\n",
       "      <th>topic_24</th>\n",
       "    </tr>\n",
       "  </thead>\n",
       "  <tbody>\n",
       "    <tr>\n",
       "      <th>0</th>\n",
       "      <td>6</td>\n",
       "      <td>0.000000</td>\n",
       "      <td>0.0</td>\n",
       "      <td>0.0</td>\n",
       "      <td>0.0</td>\n",
       "      <td>0.019065</td>\n",
       "      <td>0.074933</td>\n",
       "      <td>0.053031</td>\n",
       "      <td>0.256881</td>\n",
       "      <td>0.0</td>\n",
       "      <td>...</td>\n",
       "      <td>0.037911</td>\n",
       "      <td>0.0</td>\n",
       "      <td>0.020319</td>\n",
       "      <td>0.0</td>\n",
       "      <td>0.0</td>\n",
       "      <td>0.302805</td>\n",
       "      <td>0.0</td>\n",
       "      <td>0.000000</td>\n",
       "      <td>0.0</td>\n",
       "      <td>0.000000</td>\n",
       "    </tr>\n",
       "    <tr>\n",
       "      <th>1</th>\n",
       "      <td>4896</td>\n",
       "      <td>0.424519</td>\n",
       "      <td>0.0</td>\n",
       "      <td>0.0</td>\n",
       "      <td>0.0</td>\n",
       "      <td>0.000000</td>\n",
       "      <td>0.148735</td>\n",
       "      <td>0.000000</td>\n",
       "      <td>0.000000</td>\n",
       "      <td>0.0</td>\n",
       "      <td>...</td>\n",
       "      <td>0.000000</td>\n",
       "      <td>0.0</td>\n",
       "      <td>0.000000</td>\n",
       "      <td>0.0</td>\n",
       "      <td>0.0</td>\n",
       "      <td>0.000000</td>\n",
       "      <td>0.0</td>\n",
       "      <td>0.000000</td>\n",
       "      <td>0.0</td>\n",
       "      <td>0.000000</td>\n",
       "    </tr>\n",
       "    <tr>\n",
       "      <th>2</th>\n",
       "      <td>4897</td>\n",
       "      <td>0.000000</td>\n",
       "      <td>0.0</td>\n",
       "      <td>0.0</td>\n",
       "      <td>0.0</td>\n",
       "      <td>0.000000</td>\n",
       "      <td>0.000000</td>\n",
       "      <td>0.000000</td>\n",
       "      <td>0.000000</td>\n",
       "      <td>0.0</td>\n",
       "      <td>...</td>\n",
       "      <td>0.000000</td>\n",
       "      <td>0.0</td>\n",
       "      <td>0.031261</td>\n",
       "      <td>0.0</td>\n",
       "      <td>0.0</td>\n",
       "      <td>0.000000</td>\n",
       "      <td>0.0</td>\n",
       "      <td>0.000000</td>\n",
       "      <td>0.0</td>\n",
       "      <td>0.060977</td>\n",
       "    </tr>\n",
       "    <tr>\n",
       "      <th>3</th>\n",
       "      <td>4898</td>\n",
       "      <td>0.000000</td>\n",
       "      <td>0.0</td>\n",
       "      <td>0.0</td>\n",
       "      <td>0.0</td>\n",
       "      <td>0.000000</td>\n",
       "      <td>0.059828</td>\n",
       "      <td>0.000000</td>\n",
       "      <td>0.041658</td>\n",
       "      <td>0.0</td>\n",
       "      <td>...</td>\n",
       "      <td>0.167705</td>\n",
       "      <td>0.0</td>\n",
       "      <td>0.021921</td>\n",
       "      <td>0.0</td>\n",
       "      <td>0.0</td>\n",
       "      <td>0.000000</td>\n",
       "      <td>0.0</td>\n",
       "      <td>0.106298</td>\n",
       "      <td>0.0</td>\n",
       "      <td>0.039579</td>\n",
       "    </tr>\n",
       "    <tr>\n",
       "      <th>4</th>\n",
       "      <td>4899</td>\n",
       "      <td>0.000000</td>\n",
       "      <td>0.0</td>\n",
       "      <td>0.0</td>\n",
       "      <td>0.0</td>\n",
       "      <td>0.101067</td>\n",
       "      <td>0.000000</td>\n",
       "      <td>0.271723</td>\n",
       "      <td>0.000000</td>\n",
       "      <td>0.0</td>\n",
       "      <td>...</td>\n",
       "      <td>0.000000</td>\n",
       "      <td>0.0</td>\n",
       "      <td>0.134322</td>\n",
       "      <td>0.0</td>\n",
       "      <td>0.0</td>\n",
       "      <td>0.256301</td>\n",
       "      <td>0.0</td>\n",
       "      <td>0.000000</td>\n",
       "      <td>0.0</td>\n",
       "      <td>0.000000</td>\n",
       "    </tr>\n",
       "  </tbody>\n",
       "</table>\n",
       "<p>5 rows × 26 columns</p>\n",
       "</div>"
      ],
      "text/plain": [
       "   doc_id   topic_0  topic_1  topic_2  topic_3   topic_4   topic_5   topic_6  \\\n",
       "0       6  0.000000      0.0      0.0      0.0  0.019065  0.074933  0.053031   \n",
       "1    4896  0.424519      0.0      0.0      0.0  0.000000  0.148735  0.000000   \n",
       "2    4897  0.000000      0.0      0.0      0.0  0.000000  0.000000  0.000000   \n",
       "3    4898  0.000000      0.0      0.0      0.0  0.000000  0.059828  0.000000   \n",
       "4    4899  0.000000      0.0      0.0      0.0  0.101067  0.000000  0.271723   \n",
       "\n",
       "    topic_7  topic_8  ...  topic_15  topic_16  topic_17  topic_18  topic_19  \\\n",
       "0  0.256881      0.0  ...  0.037911       0.0  0.020319       0.0       0.0   \n",
       "1  0.000000      0.0  ...  0.000000       0.0  0.000000       0.0       0.0   \n",
       "2  0.000000      0.0  ...  0.000000       0.0  0.031261       0.0       0.0   \n",
       "3  0.041658      0.0  ...  0.167705       0.0  0.021921       0.0       0.0   \n",
       "4  0.000000      0.0  ...  0.000000       0.0  0.134322       0.0       0.0   \n",
       "\n",
       "   topic_20  topic_21  topic_22  topic_23  topic_24  \n",
       "0  0.302805       0.0  0.000000       0.0  0.000000  \n",
       "1  0.000000       0.0  0.000000       0.0  0.000000  \n",
       "2  0.000000       0.0  0.000000       0.0  0.060977  \n",
       "3  0.000000       0.0  0.106298       0.0  0.039579  \n",
       "4  0.256301       0.0  0.000000       0.0  0.000000  \n",
       "\n",
       "[5 rows x 26 columns]"
      ]
     },
     "execution_count": 33,
     "metadata": {},
     "output_type": "execute_result"
    }
   ],
   "source": [
    "topic_matrix = pd.DataFrame([get_lda_vector(text) for text in news['title'].values])\n",
    "topic_matrix.columns = ['topic_{}'.format(i) for i in range(N_topic)]\n",
    "topic_matrix['doc_id'] = news['doc_id'].values\n",
    "topic_matrix = topic_matrix[['doc_id']+['topic_{}'.format(i) for i in range(N_topic)]]\n",
    "topic_matrix.head(5)"
   ]
  },
  {
   "cell_type": "markdown",
   "id": "b1d2f70c",
   "metadata": {},
   "source": [
    "## PART 2 - Vectors of Users"
   ]
  },
  {
   "cell_type": "code",
   "execution_count": 34,
   "id": "d2fc1790",
   "metadata": {},
   "outputs": [
    {
     "data": {
      "text/html": [
       "<div>\n",
       "<style scoped>\n",
       "    .dataframe tbody tr th:only-of-type {\n",
       "        vertical-align: middle;\n",
       "    }\n",
       "\n",
       "    .dataframe tbody tr th {\n",
       "        vertical-align: top;\n",
       "    }\n",
       "\n",
       "    .dataframe thead th {\n",
       "        text-align: right;\n",
       "    }\n",
       "</style>\n",
       "<table border=\"1\" class=\"dataframe\">\n",
       "  <thead>\n",
       "    <tr style=\"text-align: right;\">\n",
       "      <th></th>\n",
       "      <th>uid</th>\n",
       "      <th>articles</th>\n",
       "    </tr>\n",
       "  </thead>\n",
       "  <tbody>\n",
       "    <tr>\n",
       "      <th>0</th>\n",
       "      <td>u105138</td>\n",
       "      <td>[293672, 293328, 293001, 293622, 293126, 1852]</td>\n",
       "    </tr>\n",
       "    <tr>\n",
       "      <th>1</th>\n",
       "      <td>u108690</td>\n",
       "      <td>[3405, 1739, 2972, 1158, 1599, 322665]</td>\n",
       "    </tr>\n",
       "  </tbody>\n",
       "</table>\n",
       "</div>"
      ],
      "text/plain": [
       "       uid                                        articles\n",
       "0  u105138  [293672, 293328, 293001, 293622, 293126, 1852]\n",
       "1  u108690          [3405, 1739, 2972, 1158, 1599, 322665]"
      ]
     },
     "execution_count": 34,
     "metadata": {},
     "output_type": "execute_result"
    }
   ],
   "source": [
    "users.head(2)"
   ]
  },
  {
   "cell_type": "code",
   "execution_count": 35,
   "id": "46367d89",
   "metadata": {},
   "outputs": [],
   "source": [
    "doc_dict = dict(zip(topic_matrix['doc_id'].values, topic_matrix[['topic_{}'.format(i) for i in range(N_topic)]].values))"
   ]
  },
  {
   "cell_type": "code",
   "execution_count": 36,
   "id": "38add6e1",
   "metadata": {},
   "outputs": [
    {
     "data": {
      "text/plain": [
       "array([0.        , 0.        , 0.        , 0.        , 0.01906497,\n",
       "       0.07493287, 0.05303096, 0.25688103, 0.        , 0.        ,\n",
       "       0.07897807, 0.        , 0.        , 0.11189011, 0.02107659,\n",
       "       0.03791129, 0.        , 0.02031869, 0.        , 0.        ,\n",
       "       0.30280533, 0.        , 0.        , 0.        , 0.        ])"
      ]
     },
     "execution_count": 36,
     "metadata": {},
     "output_type": "execute_result"
    }
   ],
   "source": [
    "doc_dict[6]  # array of topics' probabilities for article#6"
   ]
  },
  {
   "cell_type": "markdown",
   "id": "bbc1fed2",
   "metadata": {},
   "source": [
    "### function to get the mean probabilities of topics of articles a user read"
   ]
  },
  {
   "cell_type": "code",
   "execution_count": 37,
   "id": "28d6cdeb",
   "metadata": {},
   "outputs": [],
   "source": [
    "def get_user_embedding(user_articles_list):\n",
    "    '''\n",
    "    The function receives a list of articles' ids a user read - '[323329, 321961, 324743, 323186, 324632, 474690]'.\n",
    "    It converts it into a list. After this list is converted into an array of arrays of articles' probabilities.\n",
    "    After, the array of arrays is transformed into the array of mean values of probabilities.\n",
    "    '''\n",
    "    user_articles_list = eval(user_articles_list)  # converting string into list\n",
    "    user_vector = np.array([doc_dict[doc_id] for doc_id in user_articles_list])  # creation of array of arrays\n",
    "    user_vector = np.mean(user_vector, axis=0)  # creation of array of collumns' means\n",
    "    return user_vector"
   ]
  },
  {
   "cell_type": "markdown",
   "id": "928b01db",
   "metadata": {},
   "source": [
    "#### simplified demonstration of the process"
   ]
  },
  {
   "cell_type": "code",
   "execution_count": 38,
   "id": "a3d2b8a9",
   "metadata": {},
   "outputs": [
    {
     "name": "stdout",
     "output_type": "stream",
     "text": [
      "[[1 2 3]\n",
      " [4 5 6]]\n",
      "[2.5 3.5 4.5]\n"
     ]
    }
   ],
   "source": [
    "array_1 = np.array([1, 2, 3])\n",
    "array_2 = np.array([4, 5, 6])\n",
    "resulting_array = np.array([array_1, array_2])\n",
    "print(resulting_array)\n",
    "print(np.mean(resulting_array, axis=0))"
   ]
  },
  {
   "cell_type": "markdown",
   "id": "c84f8711",
   "metadata": {},
   "source": [
    "#### demonstration of how get_user_embedding works"
   ]
  },
  {
   "cell_type": "code",
   "execution_count": 39,
   "id": "287b7742",
   "metadata": {},
   "outputs": [
    {
     "data": {
      "text/plain": [
       "'[323329, 321961, 324743, 323186, 324632, 474690]'"
      ]
     },
     "execution_count": 39,
     "metadata": {},
     "output_type": "execute_result"
    }
   ],
   "source": [
    "users['articles'].iloc[33]"
   ]
  },
  {
   "cell_type": "code",
   "execution_count": 40,
   "id": "76808a2f",
   "metadata": {},
   "outputs": [
    {
     "data": {
      "text/plain": [
       "array([0.01512223, 0.01691588, 0.        , 0.01061657, 0.01663565,\n",
       "       0.06579475, 0.02051223, 0.0296666 , 0.01125699, 0.00388169,\n",
       "       0.        , 0.00833341, 0.09867641, 0.11544927, 0.04643137,\n",
       "       0.15852862, 0.14988388, 0.        , 0.06280547, 0.        ,\n",
       "       0.06453303, 0.00595915, 0.04880925, 0.        , 0.0373562 ])"
      ]
     },
     "execution_count": 40,
     "metadata": {},
     "output_type": "execute_result"
    }
   ],
   "source": [
    "get_user_embedding(users['articles'].iloc[33])"
   ]
  },
  {
   "cell_type": "markdown",
   "id": "b611ef60",
   "metadata": {},
   "source": [
    "so, the result is user's vector"
   ]
  },
  {
   "cell_type": "markdown",
   "id": "47d53d7f",
   "metadata": {},
   "source": [
    "### creation of users' ids/mean topics' probabilities of articles read dataframe"
   ]
  },
  {
   "cell_type": "code",
   "execution_count": 41,
   "id": "0741be35",
   "metadata": {},
   "outputs": [
    {
     "data": {
      "text/html": [
       "<div>\n",
       "<style scoped>\n",
       "    .dataframe tbody tr th:only-of-type {\n",
       "        vertical-align: middle;\n",
       "    }\n",
       "\n",
       "    .dataframe tbody tr th {\n",
       "        vertical-align: top;\n",
       "    }\n",
       "\n",
       "    .dataframe thead th {\n",
       "        text-align: right;\n",
       "    }\n",
       "</style>\n",
       "<table border=\"1\" class=\"dataframe\">\n",
       "  <thead>\n",
       "    <tr style=\"text-align: right;\">\n",
       "      <th></th>\n",
       "      <th>uid</th>\n",
       "      <th>topic_0</th>\n",
       "      <th>topic_1</th>\n",
       "      <th>topic_2</th>\n",
       "      <th>topic_3</th>\n",
       "      <th>topic_4</th>\n",
       "      <th>topic_5</th>\n",
       "      <th>topic_6</th>\n",
       "      <th>topic_7</th>\n",
       "      <th>topic_8</th>\n",
       "      <th>...</th>\n",
       "      <th>topic_15</th>\n",
       "      <th>topic_16</th>\n",
       "      <th>topic_17</th>\n",
       "      <th>topic_18</th>\n",
       "      <th>topic_19</th>\n",
       "      <th>topic_20</th>\n",
       "      <th>topic_21</th>\n",
       "      <th>topic_22</th>\n",
       "      <th>topic_23</th>\n",
       "      <th>topic_24</th>\n",
       "    </tr>\n",
       "  </thead>\n",
       "  <tbody>\n",
       "    <tr>\n",
       "      <th>0</th>\n",
       "      <td>u105138</td>\n",
       "      <td>0.026462</td>\n",
       "      <td>0.000000</td>\n",
       "      <td>0.0</td>\n",
       "      <td>0.009722</td>\n",
       "      <td>0.096365</td>\n",
       "      <td>0.114325</td>\n",
       "      <td>0.062516</td>\n",
       "      <td>0.023527</td>\n",
       "      <td>0.000000</td>\n",
       "      <td>...</td>\n",
       "      <td>0.053138</td>\n",
       "      <td>0.039518</td>\n",
       "      <td>0.000000</td>\n",
       "      <td>0.013301</td>\n",
       "      <td>0.000000</td>\n",
       "      <td>0.044900</td>\n",
       "      <td>0.067698</td>\n",
       "      <td>0.031606</td>\n",
       "      <td>0.020508</td>\n",
       "      <td>0.016974</td>\n",
       "    </tr>\n",
       "    <tr>\n",
       "      <th>1</th>\n",
       "      <td>u108690</td>\n",
       "      <td>0.016784</td>\n",
       "      <td>0.001966</td>\n",
       "      <td>0.0</td>\n",
       "      <td>0.022162</td>\n",
       "      <td>0.006398</td>\n",
       "      <td>0.116239</td>\n",
       "      <td>0.035870</td>\n",
       "      <td>0.006789</td>\n",
       "      <td>0.008352</td>\n",
       "      <td>...</td>\n",
       "      <td>0.149083</td>\n",
       "      <td>0.079995</td>\n",
       "      <td>0.009175</td>\n",
       "      <td>0.029576</td>\n",
       "      <td>0.007174</td>\n",
       "      <td>0.032872</td>\n",
       "      <td>0.089209</td>\n",
       "      <td>0.046665</td>\n",
       "      <td>0.000000</td>\n",
       "      <td>0.030090</td>\n",
       "    </tr>\n",
       "  </tbody>\n",
       "</table>\n",
       "<p>2 rows × 26 columns</p>\n",
       "</div>"
      ],
      "text/plain": [
       "       uid   topic_0   topic_1  topic_2   topic_3   topic_4   topic_5  \\\n",
       "0  u105138  0.026462  0.000000      0.0  0.009722  0.096365  0.114325   \n",
       "1  u108690  0.016784  0.001966      0.0  0.022162  0.006398  0.116239   \n",
       "\n",
       "    topic_6   topic_7   topic_8  ...  topic_15  topic_16  topic_17  topic_18  \\\n",
       "0  0.062516  0.023527  0.000000  ...  0.053138  0.039518  0.000000  0.013301   \n",
       "1  0.035870  0.006789  0.008352  ...  0.149083  0.079995  0.009175  0.029576   \n",
       "\n",
       "   topic_19  topic_20  topic_21  topic_22  topic_23  topic_24  \n",
       "0  0.000000  0.044900  0.067698  0.031606  0.020508  0.016974  \n",
       "1  0.007174  0.032872  0.089209  0.046665  0.000000  0.030090  \n",
       "\n",
       "[2 rows x 26 columns]"
      ]
     },
     "execution_count": 41,
     "metadata": {},
     "output_type": "execute_result"
    }
   ],
   "source": [
    "user_embeddings = pd.DataFrame([i for i in users['articles'].apply(lambda x: get_user_embedding(x), 1)])\n",
    "user_embeddings.columns = ['topic_{}'.format(i) for i in range(N_topic)]\n",
    "user_embeddings['uid'] = users['uid'].values\n",
    "user_embeddings = user_embeddings[['uid']+['topic_{}'.format(i) for i in range(N_topic)]]\n",
    "user_embeddings.head(2)"
   ]
  },
  {
   "cell_type": "markdown",
   "id": "af71dc00",
   "metadata": {},
   "source": [
    "### attaching to the dataframe the target - 'churn'"
   ]
  },
  {
   "cell_type": "code",
   "execution_count": 42,
   "id": "d0595bb5",
   "metadata": {},
   "outputs": [
    {
     "data": {
      "text/html": [
       "<div>\n",
       "<style scoped>\n",
       "    .dataframe tbody tr th:only-of-type {\n",
       "        vertical-align: middle;\n",
       "    }\n",
       "\n",
       "    .dataframe tbody tr th {\n",
       "        vertical-align: top;\n",
       "    }\n",
       "\n",
       "    .dataframe thead th {\n",
       "        text-align: right;\n",
       "    }\n",
       "</style>\n",
       "<table border=\"1\" class=\"dataframe\">\n",
       "  <thead>\n",
       "    <tr style=\"text-align: right;\">\n",
       "      <th></th>\n",
       "      <th>uid</th>\n",
       "      <th>churn</th>\n",
       "    </tr>\n",
       "  </thead>\n",
       "  <tbody>\n",
       "    <tr>\n",
       "      <th>0</th>\n",
       "      <td>u107120</td>\n",
       "      <td>0</td>\n",
       "    </tr>\n",
       "    <tr>\n",
       "      <th>1</th>\n",
       "      <td>u102277</td>\n",
       "      <td>0</td>\n",
       "    </tr>\n",
       "    <tr>\n",
       "      <th>2</th>\n",
       "      <td>u102444</td>\n",
       "      <td>0</td>\n",
       "    </tr>\n",
       "  </tbody>\n",
       "</table>\n",
       "</div>"
      ],
      "text/plain": [
       "       uid  churn\n",
       "0  u107120      0\n",
       "1  u102277      0\n",
       "2  u102444      0"
      ]
     },
     "execution_count": 42,
     "metadata": {},
     "output_type": "execute_result"
    }
   ],
   "source": [
    "target = pd.read_csv(\"lesson_2_profiling_user_LDA/users_churn.csv\")\n",
    "target.head(3)"
   ]
  },
  {
   "cell_type": "code",
   "execution_count": 43,
   "id": "5115df6e",
   "metadata": {},
   "outputs": [
    {
     "data": {
      "text/html": [
       "<div>\n",
       "<style scoped>\n",
       "    .dataframe tbody tr th:only-of-type {\n",
       "        vertical-align: middle;\n",
       "    }\n",
       "\n",
       "    .dataframe tbody tr th {\n",
       "        vertical-align: top;\n",
       "    }\n",
       "\n",
       "    .dataframe thead th {\n",
       "        text-align: right;\n",
       "    }\n",
       "</style>\n",
       "<table border=\"1\" class=\"dataframe\">\n",
       "  <thead>\n",
       "    <tr style=\"text-align: right;\">\n",
       "      <th></th>\n",
       "      <th>uid</th>\n",
       "      <th>topic_0</th>\n",
       "      <th>topic_1</th>\n",
       "      <th>topic_2</th>\n",
       "      <th>topic_3</th>\n",
       "      <th>topic_4</th>\n",
       "      <th>topic_5</th>\n",
       "      <th>topic_6</th>\n",
       "      <th>topic_7</th>\n",
       "      <th>topic_8</th>\n",
       "      <th>...</th>\n",
       "      <th>topic_16</th>\n",
       "      <th>topic_17</th>\n",
       "      <th>topic_18</th>\n",
       "      <th>topic_19</th>\n",
       "      <th>topic_20</th>\n",
       "      <th>topic_21</th>\n",
       "      <th>topic_22</th>\n",
       "      <th>topic_23</th>\n",
       "      <th>topic_24</th>\n",
       "      <th>churn</th>\n",
       "    </tr>\n",
       "  </thead>\n",
       "  <tbody>\n",
       "    <tr>\n",
       "      <th>0</th>\n",
       "      <td>u105138</td>\n",
       "      <td>0.026462</td>\n",
       "      <td>0.000000</td>\n",
       "      <td>0.0</td>\n",
       "      <td>0.009722</td>\n",
       "      <td>0.096365</td>\n",
       "      <td>0.114325</td>\n",
       "      <td>0.062516</td>\n",
       "      <td>0.023527</td>\n",
       "      <td>0.000000</td>\n",
       "      <td>...</td>\n",
       "      <td>0.039518</td>\n",
       "      <td>0.000000</td>\n",
       "      <td>0.013301</td>\n",
       "      <td>0.000000</td>\n",
       "      <td>0.044900</td>\n",
       "      <td>0.067698</td>\n",
       "      <td>0.031606</td>\n",
       "      <td>0.020508</td>\n",
       "      <td>0.016974</td>\n",
       "      <td>0</td>\n",
       "    </tr>\n",
       "    <tr>\n",
       "      <th>1</th>\n",
       "      <td>u108690</td>\n",
       "      <td>0.016784</td>\n",
       "      <td>0.001966</td>\n",
       "      <td>0.0</td>\n",
       "      <td>0.022162</td>\n",
       "      <td>0.006398</td>\n",
       "      <td>0.116239</td>\n",
       "      <td>0.035870</td>\n",
       "      <td>0.006789</td>\n",
       "      <td>0.008352</td>\n",
       "      <td>...</td>\n",
       "      <td>0.079995</td>\n",
       "      <td>0.009175</td>\n",
       "      <td>0.029576</td>\n",
       "      <td>0.007174</td>\n",
       "      <td>0.032872</td>\n",
       "      <td>0.089209</td>\n",
       "      <td>0.046665</td>\n",
       "      <td>0.000000</td>\n",
       "      <td>0.030090</td>\n",
       "      <td>1</td>\n",
       "    </tr>\n",
       "    <tr>\n",
       "      <th>2</th>\n",
       "      <td>u108339</td>\n",
       "      <td>0.053936</td>\n",
       "      <td>0.013709</td>\n",
       "      <td>0.0</td>\n",
       "      <td>0.036918</td>\n",
       "      <td>0.019274</td>\n",
       "      <td>0.185698</td>\n",
       "      <td>0.024896</td>\n",
       "      <td>0.023860</td>\n",
       "      <td>0.000000</td>\n",
       "      <td>...</td>\n",
       "      <td>0.041302</td>\n",
       "      <td>0.004929</td>\n",
       "      <td>0.041324</td>\n",
       "      <td>0.002114</td>\n",
       "      <td>0.073427</td>\n",
       "      <td>0.027261</td>\n",
       "      <td>0.029220</td>\n",
       "      <td>0.000000</td>\n",
       "      <td>0.039028</td>\n",
       "      <td>1</td>\n",
       "    </tr>\n",
       "  </tbody>\n",
       "</table>\n",
       "<p>3 rows × 27 columns</p>\n",
       "</div>"
      ],
      "text/plain": [
       "       uid   topic_0   topic_1  topic_2   topic_3   topic_4   topic_5  \\\n",
       "0  u105138  0.026462  0.000000      0.0  0.009722  0.096365  0.114325   \n",
       "1  u108690  0.016784  0.001966      0.0  0.022162  0.006398  0.116239   \n",
       "2  u108339  0.053936  0.013709      0.0  0.036918  0.019274  0.185698   \n",
       "\n",
       "    topic_6   topic_7   topic_8  ...  topic_16  topic_17  topic_18  topic_19  \\\n",
       "0  0.062516  0.023527  0.000000  ...  0.039518  0.000000  0.013301  0.000000   \n",
       "1  0.035870  0.006789  0.008352  ...  0.079995  0.009175  0.029576  0.007174   \n",
       "2  0.024896  0.023860  0.000000  ...  0.041302  0.004929  0.041324  0.002114   \n",
       "\n",
       "   topic_20  topic_21  topic_22  topic_23  topic_24  churn  \n",
       "0  0.044900  0.067698  0.031606  0.020508  0.016974      0  \n",
       "1  0.032872  0.089209  0.046665  0.000000  0.030090      1  \n",
       "2  0.073427  0.027261  0.029220  0.000000  0.039028      1  \n",
       "\n",
       "[3 rows x 27 columns]"
      ]
     },
     "execution_count": 43,
     "metadata": {},
     "output_type": "execute_result"
    }
   ],
   "source": [
    "X = pd.merge(user_embeddings, target, 'left')\n",
    "X.head(3)"
   ]
  },
  {
   "cell_type": "markdown",
   "id": "755263ab",
   "metadata": {},
   "source": [
    "BINGO! we have got the dataframe to teach a prediction model!!!"
   ]
  },
  {
   "cell_type": "markdown",
   "id": "fa41d253",
   "metadata": {},
   "source": [
    "## PART 3 - Prediction Model"
   ]
  },
  {
   "cell_type": "code",
   "execution_count": 44,
   "id": "eb456dfc",
   "metadata": {},
   "outputs": [],
   "source": [
    "from sklearn.linear_model import LogisticRegression\n",
    "from sklearn.model_selection import train_test_split\n",
    "import itertools\n",
    "\n",
    "import matplotlib.pyplot as plt\n",
    "%matplotlib inline"
   ]
  },
  {
   "cell_type": "markdown",
   "id": "98af9558",
   "metadata": {},
   "source": [
    "### train test split"
   ]
  },
  {
   "cell_type": "code",
   "execution_count": 45,
   "id": "7fba4e05",
   "metadata": {},
   "outputs": [],
   "source": [
    "X_train, X_test, y_train, y_test = train_test_split(X[['topic_{}'.format(i) for i in range(N_topic)]], \n",
    "                                                    X['churn'], random_state=0)"
   ]
  },
  {
   "cell_type": "markdown",
   "id": "2c1034c2",
   "metadata": {},
   "source": [
    "### model initialization"
   ]
  },
  {
   "cell_type": "code",
   "execution_count": 46,
   "id": "594b5e37",
   "metadata": {},
   "outputs": [],
   "source": [
    "logreg = LogisticRegression()"
   ]
  },
  {
   "cell_type": "markdown",
   "id": "d748f67c",
   "metadata": {},
   "source": [
    "### fitting the model"
   ]
  },
  {
   "cell_type": "code",
   "execution_count": 47,
   "id": "f4b5df87",
   "metadata": {},
   "outputs": [
    {
     "data": {
      "text/html": [
       "<style>#sk-container-id-1 {color: black;background-color: white;}#sk-container-id-1 pre{padding: 0;}#sk-container-id-1 div.sk-toggleable {background-color: white;}#sk-container-id-1 label.sk-toggleable__label {cursor: pointer;display: block;width: 100%;margin-bottom: 0;padding: 0.3em;box-sizing: border-box;text-align: center;}#sk-container-id-1 label.sk-toggleable__label-arrow:before {content: \"▸\";float: left;margin-right: 0.25em;color: #696969;}#sk-container-id-1 label.sk-toggleable__label-arrow:hover:before {color: black;}#sk-container-id-1 div.sk-estimator:hover label.sk-toggleable__label-arrow:before {color: black;}#sk-container-id-1 div.sk-toggleable__content {max-height: 0;max-width: 0;overflow: hidden;text-align: left;background-color: #f0f8ff;}#sk-container-id-1 div.sk-toggleable__content pre {margin: 0.2em;color: black;border-radius: 0.25em;background-color: #f0f8ff;}#sk-container-id-1 input.sk-toggleable__control:checked~div.sk-toggleable__content {max-height: 200px;max-width: 100%;overflow: auto;}#sk-container-id-1 input.sk-toggleable__control:checked~label.sk-toggleable__label-arrow:before {content: \"▾\";}#sk-container-id-1 div.sk-estimator input.sk-toggleable__control:checked~label.sk-toggleable__label {background-color: #d4ebff;}#sk-container-id-1 div.sk-label input.sk-toggleable__control:checked~label.sk-toggleable__label {background-color: #d4ebff;}#sk-container-id-1 input.sk-hidden--visually {border: 0;clip: rect(1px 1px 1px 1px);clip: rect(1px, 1px, 1px, 1px);height: 1px;margin: -1px;overflow: hidden;padding: 0;position: absolute;width: 1px;}#sk-container-id-1 div.sk-estimator {font-family: monospace;background-color: #f0f8ff;border: 1px dotted black;border-radius: 0.25em;box-sizing: border-box;margin-bottom: 0.5em;}#sk-container-id-1 div.sk-estimator:hover {background-color: #d4ebff;}#sk-container-id-1 div.sk-parallel-item::after {content: \"\";width: 100%;border-bottom: 1px solid gray;flex-grow: 1;}#sk-container-id-1 div.sk-label:hover label.sk-toggleable__label {background-color: #d4ebff;}#sk-container-id-1 div.sk-serial::before {content: \"\";position: absolute;border-left: 1px solid gray;box-sizing: border-box;top: 0;bottom: 0;left: 50%;z-index: 0;}#sk-container-id-1 div.sk-serial {display: flex;flex-direction: column;align-items: center;background-color: white;padding-right: 0.2em;padding-left: 0.2em;position: relative;}#sk-container-id-1 div.sk-item {position: relative;z-index: 1;}#sk-container-id-1 div.sk-parallel {display: flex;align-items: stretch;justify-content: center;background-color: white;position: relative;}#sk-container-id-1 div.sk-item::before, #sk-container-id-1 div.sk-parallel-item::before {content: \"\";position: absolute;border-left: 1px solid gray;box-sizing: border-box;top: 0;bottom: 0;left: 50%;z-index: -1;}#sk-container-id-1 div.sk-parallel-item {display: flex;flex-direction: column;z-index: 1;position: relative;background-color: white;}#sk-container-id-1 div.sk-parallel-item:first-child::after {align-self: flex-end;width: 50%;}#sk-container-id-1 div.sk-parallel-item:last-child::after {align-self: flex-start;width: 50%;}#sk-container-id-1 div.sk-parallel-item:only-child::after {width: 0;}#sk-container-id-1 div.sk-dashed-wrapped {border: 1px dashed gray;margin: 0 0.4em 0.5em 0.4em;box-sizing: border-box;padding-bottom: 0.4em;background-color: white;}#sk-container-id-1 div.sk-label label {font-family: monospace;font-weight: bold;display: inline-block;line-height: 1.2em;}#sk-container-id-1 div.sk-label-container {text-align: center;}#sk-container-id-1 div.sk-container {/* jupyter's `normalize.less` sets `[hidden] { display: none; }` but bootstrap.min.css set `[hidden] { display: none !important; }` so we also need the `!important` here to be able to override the default hidden behavior on the sphinx rendered scikit-learn.org. See: https://github.com/scikit-learn/scikit-learn/issues/21755 */display: inline-block !important;position: relative;}#sk-container-id-1 div.sk-text-repr-fallback {display: none;}</style><div id=\"sk-container-id-1\" class=\"sk-top-container\"><div class=\"sk-text-repr-fallback\"><pre>LogisticRegression()</pre><b>In a Jupyter environment, please rerun this cell to show the HTML representation or trust the notebook. <br />On GitHub, the HTML representation is unable to render, please try loading this page with nbviewer.org.</b></div><div class=\"sk-container\" hidden><div class=\"sk-item\"><div class=\"sk-estimator sk-toggleable\"><input class=\"sk-toggleable__control sk-hidden--visually\" id=\"sk-estimator-id-1\" type=\"checkbox\" checked><label for=\"sk-estimator-id-1\" class=\"sk-toggleable__label sk-toggleable__label-arrow\">LogisticRegression</label><div class=\"sk-toggleable__content\"><pre>LogisticRegression()</pre></div></div></div></div></div>"
      ],
      "text/plain": [
       "LogisticRegression()"
      ]
     },
     "execution_count": 47,
     "metadata": {},
     "output_type": "execute_result"
    }
   ],
   "source": [
    "logreg.fit(X_train, y_train)"
   ]
  },
  {
   "cell_type": "markdown",
   "id": "621a5936",
   "metadata": {},
   "source": [
    "### prediction of probabilities of churn"
   ]
  },
  {
   "cell_type": "code",
   "execution_count": 48,
   "id": "04272866",
   "metadata": {},
   "outputs": [
    {
     "data": {
      "text/plain": [
       "array([0.06780659, 0.1316582 , 0.6013908 , 0.24135864, 0.0423989 ,\n",
       "       0.04244047, 0.04294354, 0.02460519, 0.02698535, 0.02744698])"
      ]
     },
     "execution_count": 48,
     "metadata": {},
     "output_type": "execute_result"
    }
   ],
   "source": [
    "preds = logreg.predict_proba(X_test)[:, 1]\n",
    "preds[:10]"
   ]
  },
  {
   "cell_type": "markdown",
   "id": "2f70b465",
   "metadata": {},
   "source": [
    "### finding best probability threshold"
   ]
  },
  {
   "cell_type": "code",
   "execution_count": 49,
   "id": "e4226646",
   "metadata": {},
   "outputs": [],
   "source": [
    "from sklearn.metrics import f1_score, roc_auc_score, precision_score, classification_report, \\\n",
    "                            precision_recall_curve, confusion_matrix"
   ]
  },
  {
   "cell_type": "code",
   "execution_count": 50,
   "id": "549d6fcc",
   "metadata": {},
   "outputs": [
    {
     "name": "stdout",
     "output_type": "stream",
     "text": [
      "Best Threshold=0.316188, F-Score=0.832, Precision=0.847, Recall=0.816\n"
     ]
    }
   ],
   "source": [
    "precision, recall, thresholds = precision_recall_curve(y_test, preds)\n",
    "fscore = (2 * precision * recall) / (precision + recall)\n",
    "\n",
    "# locate the index of the largest f-score\n",
    "ix = np.argmax(fscore)\n",
    "print('Best Threshold=%f, F-Score=%.3f, Precision=%.3f, Recall=%.3f' % (thresholds[ix], \n",
    "                                                                        fscore[ix],\n",
    "                                                                        precision[ix],\n",
    "                                                                        recall[ix]))"
   ]
  },
  {
   "cell_type": "markdown",
   "id": "2510bbef",
   "metadata": {},
   "source": [
    "### drawing the confusion matrix"
   ]
  },
  {
   "cell_type": "code",
   "execution_count": 51,
   "id": "13d135b5",
   "metadata": {},
   "outputs": [],
   "source": [
    "def plot_confusion_matrix(cm, classes,\n",
    "                          normalize=False,\n",
    "                          title='Confusion matrix',\n",
    "                          cmap=plt.cm.Blues):\n",
    "    \"\"\"\n",
    "    This function prints and plots the confusion matrix.\n",
    "    Normalization can be applied by setting `normalize=True`.\n",
    "    \"\"\"\n",
    "    \n",
    "    plt.imshow(cm, interpolation='nearest', cmap=cmap)\n",
    "    plt.title(title)\n",
    "    plt.colorbar()\n",
    "    tick_marks = np.arange(len(classes))\n",
    "    plt.xticks(tick_marks, classes, rotation=45)\n",
    "    plt.yticks(tick_marks, classes)\n",
    "\n",
    "    if normalize:\n",
    "        cm = cm.astype('float') / cm.sum(axis=1)[:, np.newaxis]\n",
    "        print(\"Normalized confusion matrix\")\n",
    "    else:\n",
    "        print('Confusion matrix, without normalization')\n",
    "\n",
    "    print(cm)\n",
    "\n",
    "    thresh = cm.max() / 2.\n",
    "    for i, j in itertools.product(range(cm.shape[0]), range(cm.shape[1])):\n",
    "        plt.text(j, i, cm[i, j],\n",
    "                 horizontalalignment=\"center\",\n",
    "                 color=\"white\" if cm[i, j] > thresh else \"black\")\n",
    "\n",
    "    plt.tight_layout()\n",
    "    plt.ylabel('True label')\n",
    "    plt.xlabel('Predicted label')"
   ]
  },
  {
   "cell_type": "code",
   "execution_count": 52,
   "id": "49f4e2e9",
   "metadata": {},
   "outputs": [
    {
     "name": "stdout",
     "output_type": "stream",
     "text": [
      "Confusion matrix, without normalization\n",
      "[[1719   36]\n",
      " [  46  199]]\n"
     ]
    },
    {
     "data": {
      "image/png": "[encoded data removed]",
      "text/plain": [
       "<Figure size 720x576 with 2 Axes>"
      ]
     },
     "metadata": {
      "needs_background": "light"
     },
     "output_type": "display_data"
    }
   ],
   "source": [
    "font = {'size' : 15}\n",
    "\n",
    "plt.rc('font', **font)\n",
    "\n",
    "cnf_matrix = confusion_matrix(y_test, preds > thresholds[ix])\n",
    "plt.figure(figsize=(10, 8))\n",
    "plot_confusion_matrix(cnf_matrix, classes=['non-churn', 'churn'],\n",
    "                      title='Confusion matrix')\n",
    "# plt.savefig(\"conf_matrix.png\")\n",
    "plt.show()"
   ]
  },
  {
   "cell_type": "code",
   "execution_count": 53,
   "id": "45437856",
   "metadata": {},
   "outputs": [
    {
     "data": {
      "text/plain": [
       "0.9832687946973662"
      ]
     },
     "execution_count": 53,
     "metadata": {},
     "output_type": "execute_result"
    }
   ],
   "source": [
    "roc_auc_score(y_test, preds)"
   ]
  },
  {
   "cell_type": "code",
   "execution_count": 54,
   "id": "6fe9096e",
   "metadata": {},
   "outputs": [],
   "source": [
    "metrics_lda_mean_embedding = [fscore[ix], precision[ix], recall[ix], roc_auc_score(y_test, preds)]"
   ]
  },
  {
   "cell_type": "code",
   "execution_count": null,
   "id": "7addda81",
   "metadata": {},
   "outputs": [],
   "source": []
  },
  {
   "cell_type": "code",
   "execution_count": null,
   "id": "8c97ce76",
   "metadata": {},
   "outputs": [],
   "source": []
  },
  {
   "cell_type": "code",
   "execution_count": null,
   "id": "bcadbdff",
   "metadata": {},
   "outputs": [],
   "source": []
  },
  {
   "cell_type": "markdown",
   "id": "21e93749",
   "metadata": {},
   "source": [
    "## Задание 2\n",
    "\n",
    "Модифицировать код функции get_user_embedding таким образом, чтобы считалось не среднее (как в примере np.mean), а медиана. Применить такое преобразование к данным, обучить модель прогнозирования оттока и посчитать метрики качества и сохранить их: roc auc, precision/recall/f_score (для 3 последних - подобрать оптимальный порог с помощью precision_recall_curve, как это делалось на уроке)"
   ]
  },
  {
   "cell_type": "code",
   "execution_count": 55,
   "id": "1d1b9f91",
   "metadata": {},
   "outputs": [],
   "source": [
    "def get_user_embedding(user_articles_list):\n",
    "    '''\n",
    "    The function receives a list of articles' ids a user read - '[323329, 321961, 324743, 323186, 324632, 474690]'.\n",
    "    It converts it into a list. After this list is converted into an array of arrays of articles' probabilities.\n",
    "    After, the array of arrays is transformed into the array of mean values of probabilities.\n",
    "    '''\n",
    "    user_articles_list = eval(user_articles_list)  # converting string into list\n",
    "    user_vector = np.array([doc_dict[doc_id] for doc_id in user_articles_list])  # creation of array of arrays\n",
    "    user_vector = np.median(user_vector, axis=0)  # creation of array of collumns' medians\n",
    "    return user_vector"
   ]
  },
  {
   "cell_type": "code",
   "execution_count": 56,
   "id": "8b5d1011",
   "metadata": {},
   "outputs": [],
   "source": [
    "# array_1 = np.array([1, 2, 3])\n",
    "# array_2 = np.array([4, 5, 6])\n",
    "# array_3 = np.array([2, 3, 2])\n",
    "# resulting_array = np.array([array_1, array_2, array_3])\n",
    "# print(resulting_array)\n",
    "# print(np.median(resulting_array, axis=0))"
   ]
  },
  {
   "cell_type": "code",
   "execution_count": 57,
   "id": "6cba5aea",
   "metadata": {},
   "outputs": [
    {
     "data": {
      "text/html": [
       "<div>\n",
       "<style scoped>\n",
       "    .dataframe tbody tr th:only-of-type {\n",
       "        vertical-align: middle;\n",
       "    }\n",
       "\n",
       "    .dataframe tbody tr th {\n",
       "        vertical-align: top;\n",
       "    }\n",
       "\n",
       "    .dataframe thead th {\n",
       "        text-align: right;\n",
       "    }\n",
       "</style>\n",
       "<table border=\"1\" class=\"dataframe\">\n",
       "  <thead>\n",
       "    <tr style=\"text-align: right;\">\n",
       "      <th></th>\n",
       "      <th>uid</th>\n",
       "      <th>topic_0</th>\n",
       "      <th>topic_1</th>\n",
       "      <th>topic_2</th>\n",
       "      <th>topic_3</th>\n",
       "      <th>topic_4</th>\n",
       "      <th>topic_5</th>\n",
       "      <th>topic_6</th>\n",
       "      <th>topic_7</th>\n",
       "      <th>topic_8</th>\n",
       "      <th>...</th>\n",
       "      <th>topic_15</th>\n",
       "      <th>topic_16</th>\n",
       "      <th>topic_17</th>\n",
       "      <th>topic_18</th>\n",
       "      <th>topic_19</th>\n",
       "      <th>topic_20</th>\n",
       "      <th>topic_21</th>\n",
       "      <th>topic_22</th>\n",
       "      <th>topic_23</th>\n",
       "      <th>topic_24</th>\n",
       "    </tr>\n",
       "  </thead>\n",
       "  <tbody>\n",
       "    <tr>\n",
       "      <th>0</th>\n",
       "      <td>u105138</td>\n",
       "      <td>0.000000</td>\n",
       "      <td>0.0</td>\n",
       "      <td>0.0</td>\n",
       "      <td>0.0</td>\n",
       "      <td>0.091542</td>\n",
       "      <td>0.081277</td>\n",
       "      <td>0.021869</td>\n",
       "      <td>0.0</td>\n",
       "      <td>0.0</td>\n",
       "      <td>...</td>\n",
       "      <td>0.000000</td>\n",
       "      <td>0.019345</td>\n",
       "      <td>0.0</td>\n",
       "      <td>0.000000</td>\n",
       "      <td>0.0</td>\n",
       "      <td>0.009564</td>\n",
       "      <td>0.00000</td>\n",
       "      <td>0.000000</td>\n",
       "      <td>0.0</td>\n",
       "      <td>0.0</td>\n",
       "    </tr>\n",
       "    <tr>\n",
       "      <th>1</th>\n",
       "      <td>u108690</td>\n",
       "      <td>0.014356</td>\n",
       "      <td>0.0</td>\n",
       "      <td>0.0</td>\n",
       "      <td>0.0</td>\n",
       "      <td>0.000000</td>\n",
       "      <td>0.112113</td>\n",
       "      <td>0.030432</td>\n",
       "      <td>0.0</td>\n",
       "      <td>0.0</td>\n",
       "      <td>...</td>\n",
       "      <td>0.136202</td>\n",
       "      <td>0.052789</td>\n",
       "      <td>0.0</td>\n",
       "      <td>0.011914</td>\n",
       "      <td>0.0</td>\n",
       "      <td>0.000000</td>\n",
       "      <td>0.08156</td>\n",
       "      <td>0.018897</td>\n",
       "      <td>0.0</td>\n",
       "      <td>0.0</td>\n",
       "    </tr>\n",
       "  </tbody>\n",
       "</table>\n",
       "<p>2 rows × 26 columns</p>\n",
       "</div>"
      ],
      "text/plain": [
       "       uid   topic_0  topic_1  topic_2  topic_3   topic_4   topic_5   topic_6  \\\n",
       "0  u105138  0.000000      0.0      0.0      0.0  0.091542  0.081277  0.021869   \n",
       "1  u108690  0.014356      0.0      0.0      0.0  0.000000  0.112113  0.030432   \n",
       "\n",
       "   topic_7  topic_8  ...  topic_15  topic_16  topic_17  topic_18  topic_19  \\\n",
       "0      0.0      0.0  ...  0.000000  0.019345       0.0  0.000000       0.0   \n",
       "1      0.0      0.0  ...  0.136202  0.052789       0.0  0.011914       0.0   \n",
       "\n",
       "   topic_20  topic_21  topic_22  topic_23  topic_24  \n",
       "0  0.009564   0.00000  0.000000       0.0       0.0  \n",
       "1  0.000000   0.08156  0.018897       0.0       0.0  \n",
       "\n",
       "[2 rows x 26 columns]"
      ]
     },
     "execution_count": 57,
     "metadata": {},
     "output_type": "execute_result"
    }
   ],
   "source": [
    "user_embeddings = pd.DataFrame([i for i in users['articles'].apply(lambda x: get_user_embedding(x), 1)])\n",
    "user_embeddings.columns = ['topic_{}'.format(i) for i in range(N_topic)]\n",
    "user_embeddings['uid'] = users['uid'].values\n",
    "user_embeddings = user_embeddings[['uid']+['topic_{}'.format(i) for i in range(N_topic)]]\n",
    "user_embeddings.head(2)"
   ]
  },
  {
   "cell_type": "code",
   "execution_count": 58,
   "id": "39ed6a9f",
   "metadata": {},
   "outputs": [],
   "source": [
    "target = pd.read_csv(\"lesson_2_profiling_user_LDA/users_churn.csv\")"
   ]
  },
  {
   "cell_type": "code",
   "execution_count": 59,
   "id": "fdcb447f",
   "metadata": {},
   "outputs": [],
   "source": [
    "X = pd.merge(user_embeddings, target, 'left')"
   ]
  },
  {
   "cell_type": "code",
   "execution_count": 60,
   "id": "0ee4ebe3",
   "metadata": {},
   "outputs": [],
   "source": [
    "X_train, X_test, y_train, y_test = train_test_split(X[['topic_{}'.format(i) for i in range(N_topic)]], \n",
    "                                                    X['churn'], random_state=0)"
   ]
  },
  {
   "cell_type": "code",
   "execution_count": 61,
   "id": "a3fdf2b9",
   "metadata": {},
   "outputs": [],
   "source": [
    "logreg = LogisticRegression()"
   ]
  },
  {
   "cell_type": "code",
   "execution_count": 62,
   "id": "d5f6b778",
   "metadata": {},
   "outputs": [
    {
     "data": {
      "text/html": [
       "<style>#sk-container-id-2 {color: black;background-color: white;}#sk-container-id-2 pre{padding: 0;}#sk-container-id-2 div.sk-toggleable {background-color: white;}#sk-container-id-2 label.sk-toggleable__label {cursor: pointer;display: block;width: 100%;margin-bottom: 0;padding: 0.3em;box-sizing: border-box;text-align: center;}#sk-container-id-2 label.sk-toggleable__label-arrow:before {content: \"▸\";float: left;margin-right: 0.25em;color: #696969;}#sk-container-id-2 label.sk-toggleable__label-arrow:hover:before {color: black;}#sk-container-id-2 div.sk-estimator:hover label.sk-toggleable__label-arrow:before {color: black;}#sk-container-id-2 div.sk-toggleable__content {max-height: 0;max-width: 0;overflow: hidden;text-align: left;background-color: #f0f8ff;}#sk-container-id-2 div.sk-toggleable__content pre {margin: 0.2em;color: black;border-radius: 0.25em;background-color: #f0f8ff;}#sk-container-id-2 input.sk-toggleable__control:checked~div.sk-toggleable__content {max-height: 200px;max-width: 100%;overflow: auto;}#sk-container-id-2 input.sk-toggleable__control:checked~label.sk-toggleable__label-arrow:before {content: \"▾\";}#sk-container-id-2 div.sk-estimator input.sk-toggleable__control:checked~label.sk-toggleable__label {background-color: #d4ebff;}#sk-container-id-2 div.sk-label input.sk-toggleable__control:checked~label.sk-toggleable__label {background-color: #d4ebff;}#sk-container-id-2 input.sk-hidden--visually {border: 0;clip: rect(1px 1px 1px 1px);clip: rect(1px, 1px, 1px, 1px);height: 1px;margin: -1px;overflow: hidden;padding: 0;position: absolute;width: 1px;}#sk-container-id-2 div.sk-estimator {font-family: monospace;background-color: #f0f8ff;border: 1px dotted black;border-radius: 0.25em;box-sizing: border-box;margin-bottom: 0.5em;}#sk-container-id-2 div.sk-estimator:hover {background-color: #d4ebff;}#sk-container-id-2 div.sk-parallel-item::after {content: \"\";width: 100%;border-bottom: 1px solid gray;flex-grow: 1;}#sk-container-id-2 div.sk-label:hover label.sk-toggleable__label {background-color: #d4ebff;}#sk-container-id-2 div.sk-serial::before {content: \"\";position: absolute;border-left: 1px solid gray;box-sizing: border-box;top: 0;bottom: 0;left: 50%;z-index: 0;}#sk-container-id-2 div.sk-serial {display: flex;flex-direction: column;align-items: center;background-color: white;padding-right: 0.2em;padding-left: 0.2em;position: relative;}#sk-container-id-2 div.sk-item {position: relative;z-index: 1;}#sk-container-id-2 div.sk-parallel {display: flex;align-items: stretch;justify-content: center;background-color: white;position: relative;}#sk-container-id-2 div.sk-item::before, #sk-container-id-2 div.sk-parallel-item::before {content: \"\";position: absolute;border-left: 1px solid gray;box-sizing: border-box;top: 0;bottom: 0;left: 50%;z-index: -1;}#sk-container-id-2 div.sk-parallel-item {display: flex;flex-direction: column;z-index: 1;position: relative;background-color: white;}#sk-container-id-2 div.sk-parallel-item:first-child::after {align-self: flex-end;width: 50%;}#sk-container-id-2 div.sk-parallel-item:last-child::after {align-self: flex-start;width: 50%;}#sk-container-id-2 div.sk-parallel-item:only-child::after {width: 0;}#sk-container-id-2 div.sk-dashed-wrapped {border: 1px dashed gray;margin: 0 0.4em 0.5em 0.4em;box-sizing: border-box;padding-bottom: 0.4em;background-color: white;}#sk-container-id-2 div.sk-label label {font-family: monospace;font-weight: bold;display: inline-block;line-height: 1.2em;}#sk-container-id-2 div.sk-label-container {text-align: center;}#sk-container-id-2 div.sk-container {/* jupyter's `normalize.less` sets `[hidden] { display: none; }` but bootstrap.min.css set `[hidden] { display: none !important; }` so we also need the `!important` here to be able to override the default hidden behavior on the sphinx rendered scikit-learn.org. See: https://github.com/scikit-learn/scikit-learn/issues/21755 */display: inline-block !important;position: relative;}#sk-container-id-2 div.sk-text-repr-fallback {display: none;}</style><div id=\"sk-container-id-2\" class=\"sk-top-container\"><div class=\"sk-text-repr-fallback\"><pre>LogisticRegression()</pre><b>In a Jupyter environment, please rerun this cell to show the HTML representation or trust the notebook. <br />On GitHub, the HTML representation is unable to render, please try loading this page with nbviewer.org.</b></div><div class=\"sk-container\" hidden><div class=\"sk-item\"><div class=\"sk-estimator sk-toggleable\"><input class=\"sk-toggleable__control sk-hidden--visually\" id=\"sk-estimator-id-2\" type=\"checkbox\" checked><label for=\"sk-estimator-id-2\" class=\"sk-toggleable__label sk-toggleable__label-arrow\">LogisticRegression</label><div class=\"sk-toggleable__content\"><pre>LogisticRegression()</pre></div></div></div></div></div>"
      ],
      "text/plain": [
       "LogisticRegression()"
      ]
     },
     "execution_count": 62,
     "metadata": {},
     "output_type": "execute_result"
    }
   ],
   "source": [
    "logreg.fit(X_train, y_train)"
   ]
  },
  {
   "cell_type": "code",
   "execution_count": 63,
   "id": "d9f842a4",
   "metadata": {},
   "outputs": [],
   "source": [
    "preds = logreg.predict_proba(X_test)[:, 1]"
   ]
  },
  {
   "cell_type": "code",
   "execution_count": 64,
   "id": "1318da90",
   "metadata": {},
   "outputs": [],
   "source": [
    "from sklearn.metrics import f1_score, roc_auc_score, precision_score, classification_report, \\\n",
    "                            precision_recall_curve, confusion_matrix"
   ]
  },
  {
   "cell_type": "code",
   "execution_count": 65,
   "id": "901a3804",
   "metadata": {},
   "outputs": [
    {
     "name": "stdout",
     "output_type": "stream",
     "text": [
      "Best Threshold=0.299647, F-Score=0.823, Precision=0.813, Recall=0.833\n"
     ]
    }
   ],
   "source": [
    "precision, recall, thresholds = precision_recall_curve(y_test, preds)\n",
    "fscore = (2 * precision * recall) / (precision + recall)\n",
    "\n",
    "# locate the index of the largest f-score\n",
    "ix = np.argmax(fscore)\n",
    "print('Best Threshold=%f, F-Score=%.3f, Precision=%.3f, Recall=%.3f' % (thresholds[ix], \n",
    "                                                                        fscore[ix],\n",
    "                                                                        precision[ix],\n",
    "                                                                        recall[ix]))"
   ]
  },
  {
   "cell_type": "code",
   "execution_count": 66,
   "id": "ffadb498",
   "metadata": {},
   "outputs": [
    {
     "name": "stdout",
     "output_type": "stream",
     "text": [
      "Confusion matrix, without normalization\n",
      "[[1708   47]\n",
      " [  42  203]]\n"
     ]
    },
    {
     "data": {
      "image/png": "[encoded data removed]",
      "text/plain": [
       "<Figure size 720x576 with 2 Axes>"
      ]
     },
     "metadata": {
      "needs_background": "light"
     },
     "output_type": "display_data"
    }
   ],
   "source": [
    "font = {'size' : 15}\n",
    "\n",
    "plt.rc('font', **font)\n",
    "\n",
    "cnf_matrix = confusion_matrix(y_test, preds > thresholds[ix])\n",
    "plt.figure(figsize=(10, 8))\n",
    "plot_confusion_matrix(cnf_matrix, classes=['non-churn', 'churn'],\n",
    "                      title='Confusion matrix')\n",
    "# plt.savefig(\"conf_matrix.png\")\n",
    "plt.show()"
   ]
  },
  {
   "cell_type": "code",
   "execution_count": 67,
   "id": "81ad1c85",
   "metadata": {},
   "outputs": [
    {
     "data": {
      "text/plain": [
       "0.9812710041281469"
      ]
     },
     "execution_count": 67,
     "metadata": {},
     "output_type": "execute_result"
    }
   ],
   "source": [
    "roc_auc_score(y_test, preds)"
   ]
  },
  {
   "cell_type": "code",
   "execution_count": 68,
   "id": "993d9ba1",
   "metadata": {},
   "outputs": [],
   "source": [
    "metrics_lda_median_embedding = [fscore[ix], precision[ix], recall[ix], roc_auc_score(y_test, preds)]"
   ]
  },
  {
   "cell_type": "code",
   "execution_count": null,
   "id": "73046c06",
   "metadata": {},
   "outputs": [],
   "source": []
  },
  {
   "cell_type": "code",
   "execution_count": null,
   "id": "87522001",
   "metadata": {},
   "outputs": [],
   "source": []
  },
  {
   "cell_type": "code",
   "execution_count": null,
   "id": "fc799b31",
   "metadata": {},
   "outputs": [],
   "source": []
  },
  {
   "cell_type": "markdown",
   "id": "f49ef96d",
   "metadata": {},
   "source": [
    "## Задание 3\n",
    "\n",
    "Повторить п.2, но используя уже не медиану, а max"
   ]
  },
  {
   "cell_type": "code",
   "execution_count": 69,
   "id": "f1bd0778",
   "metadata": {},
   "outputs": [],
   "source": [
    "def get_user_embedding(user_articles_list):\n",
    "    '''\n",
    "    The function receives a list of articles' ids a user read - '[323329, 321961, 324743, 323186, 324632, 474690]'.\n",
    "    It converts it into a list. After this list is converted into an array of arrays of articles' probabilities.\n",
    "    After, the array of arrays is transformed into the array of mean values of probabilities.\n",
    "    '''\n",
    "    user_articles_list = eval(user_articles_list)  # converting string into list\n",
    "    user_vector = np.array([doc_dict[doc_id] for doc_id in user_articles_list])  # creation of array of arrays\n",
    "    user_vector = np.max(user_vector, axis=0)  # creation of array of collumns' maxs\n",
    "    return user_vector"
   ]
  },
  {
   "cell_type": "code",
   "execution_count": 70,
   "id": "83d4bbd4",
   "metadata": {},
   "outputs": [],
   "source": [
    "# array_1 = np.array([1, 2, 3])\n",
    "# array_2 = np.array([4, 5, 6])\n",
    "# array_3 = np.array([2, 3, 2])\n",
    "# resulting_array = np.array([array_1, array_2, array_3])\n",
    "# print(resulting_array)\n",
    "# print(np.max(resulting_array, axis=0))"
   ]
  },
  {
   "cell_type": "code",
   "execution_count": 71,
   "id": "616e537a",
   "metadata": {},
   "outputs": [
    {
     "data": {
      "text/html": [
       "<div>\n",
       "<style scoped>\n",
       "    .dataframe tbody tr th:only-of-type {\n",
       "        vertical-align: middle;\n",
       "    }\n",
       "\n",
       "    .dataframe tbody tr th {\n",
       "        vertical-align: top;\n",
       "    }\n",
       "\n",
       "    .dataframe thead th {\n",
       "        text-align: right;\n",
       "    }\n",
       "</style>\n",
       "<table border=\"1\" class=\"dataframe\">\n",
       "  <thead>\n",
       "    <tr style=\"text-align: right;\">\n",
       "      <th></th>\n",
       "      <th>uid</th>\n",
       "      <th>topic_0</th>\n",
       "      <th>topic_1</th>\n",
       "      <th>topic_2</th>\n",
       "      <th>topic_3</th>\n",
       "      <th>topic_4</th>\n",
       "      <th>topic_5</th>\n",
       "      <th>topic_6</th>\n",
       "      <th>topic_7</th>\n",
       "      <th>topic_8</th>\n",
       "      <th>...</th>\n",
       "      <th>topic_15</th>\n",
       "      <th>topic_16</th>\n",
       "      <th>topic_17</th>\n",
       "      <th>topic_18</th>\n",
       "      <th>topic_19</th>\n",
       "      <th>topic_20</th>\n",
       "      <th>topic_21</th>\n",
       "      <th>topic_22</th>\n",
       "      <th>topic_23</th>\n",
       "      <th>topic_24</th>\n",
       "    </tr>\n",
       "  </thead>\n",
       "  <tbody>\n",
       "    <tr>\n",
       "      <th>0</th>\n",
       "      <td>u105138</td>\n",
       "      <td>0.158772</td>\n",
       "      <td>0.000000</td>\n",
       "      <td>0.0</td>\n",
       "      <td>0.058333</td>\n",
       "      <td>0.203928</td>\n",
       "      <td>0.348624</td>\n",
       "      <td>0.192348</td>\n",
       "      <td>0.103198</td>\n",
       "      <td>0.000000</td>\n",
       "      <td>...</td>\n",
       "      <td>0.195284</td>\n",
       "      <td>0.107282</td>\n",
       "      <td>0.00000</td>\n",
       "      <td>0.079808</td>\n",
       "      <td>0.000000</td>\n",
       "      <td>0.159556</td>\n",
       "      <td>0.347493</td>\n",
       "      <td>0.148938</td>\n",
       "      <td>0.104413</td>\n",
       "      <td>0.066466</td>\n",
       "    </tr>\n",
       "    <tr>\n",
       "      <th>1</th>\n",
       "      <td>u108690</td>\n",
       "      <td>0.031024</td>\n",
       "      <td>0.011794</td>\n",
       "      <td>0.0</td>\n",
       "      <td>0.104296</td>\n",
       "      <td>0.038389</td>\n",
       "      <td>0.179930</td>\n",
       "      <td>0.099016</td>\n",
       "      <td>0.024939</td>\n",
       "      <td>0.038773</td>\n",
       "      <td>...</td>\n",
       "      <td>0.310217</td>\n",
       "      <td>0.237830</td>\n",
       "      <td>0.03758</td>\n",
       "      <td>0.096497</td>\n",
       "      <td>0.032915</td>\n",
       "      <td>0.153489</td>\n",
       "      <td>0.204899</td>\n",
       "      <td>0.182706</td>\n",
       "      <td>0.000000</td>\n",
       "      <td>0.142745</td>\n",
       "    </tr>\n",
       "  </tbody>\n",
       "</table>\n",
       "<p>2 rows × 26 columns</p>\n",
       "</div>"
      ],
      "text/plain": [
       "       uid   topic_0   topic_1  topic_2   topic_3   topic_4   topic_5  \\\n",
       "0  u105138  0.158772  0.000000      0.0  0.058333  0.203928  0.348624   \n",
       "1  u108690  0.031024  0.011794      0.0  0.104296  0.038389  0.179930   \n",
       "\n",
       "    topic_6   topic_7   topic_8  ...  topic_15  topic_16  topic_17  topic_18  \\\n",
       "0  0.192348  0.103198  0.000000  ...  0.195284  0.107282   0.00000  0.079808   \n",
       "1  0.099016  0.024939  0.038773  ...  0.310217  0.237830   0.03758  0.096497   \n",
       "\n",
       "   topic_19  topic_20  topic_21  topic_22  topic_23  topic_24  \n",
       "0  0.000000  0.159556  0.347493  0.148938  0.104413  0.066466  \n",
       "1  0.032915  0.153489  0.204899  0.182706  0.000000  0.142745  \n",
       "\n",
       "[2 rows x 26 columns]"
      ]
     },
     "execution_count": 71,
     "metadata": {},
     "output_type": "execute_result"
    }
   ],
   "source": [
    "user_embeddings = pd.DataFrame([i for i in users['articles'].apply(lambda x: get_user_embedding(x), 1)])\n",
    "user_embeddings.columns = ['topic_{}'.format(i) for i in range(N_topic)]\n",
    "user_embeddings['uid'] = users['uid'].values\n",
    "user_embeddings = user_embeddings[['uid']+['topic_{}'.format(i) for i in range(N_topic)]]\n",
    "user_embeddings.head(2)"
   ]
  },
  {
   "cell_type": "code",
   "execution_count": 72,
   "id": "95243a2c",
   "metadata": {},
   "outputs": [],
   "source": [
    "target = pd.read_csv(\"lesson_2_profiling_user_LDA/users_churn.csv\")"
   ]
  },
  {
   "cell_type": "code",
   "execution_count": 73,
   "id": "66bff0e1",
   "metadata": {},
   "outputs": [],
   "source": [
    "X = pd.merge(user_embeddings, target, 'left')"
   ]
  },
  {
   "cell_type": "code",
   "execution_count": 74,
   "id": "873a5975",
   "metadata": {},
   "outputs": [],
   "source": [
    "X_train, X_test, y_train, y_test = train_test_split(X[['topic_{}'.format(i) for i in range(N_topic)]], \n",
    "                                                    X['churn'], random_state=0)"
   ]
  },
  {
   "cell_type": "code",
   "execution_count": 75,
   "id": "a852524e",
   "metadata": {},
   "outputs": [],
   "source": [
    "logreg = LogisticRegression()"
   ]
  },
  {
   "cell_type": "code",
   "execution_count": 76,
   "id": "3d998c98",
   "metadata": {},
   "outputs": [
    {
     "data": {
      "text/html": [
       "<style>#sk-container-id-3 {color: black;background-color: white;}#sk-container-id-3 pre{padding: 0;}#sk-container-id-3 div.sk-toggleable {background-color: white;}#sk-container-id-3 label.sk-toggleable__label {cursor: pointer;display: block;width: 100%;margin-bottom: 0;padding: 0.3em;box-sizing: border-box;text-align: center;}#sk-container-id-3 label.sk-toggleable__label-arrow:before {content: \"▸\";float: left;margin-right: 0.25em;color: #696969;}#sk-container-id-3 label.sk-toggleable__label-arrow:hover:before {color: black;}#sk-container-id-3 div.sk-estimator:hover label.sk-toggleable__label-arrow:before {color: black;}#sk-container-id-3 div.sk-toggleable__content {max-height: 0;max-width: 0;overflow: hidden;text-align: left;background-color: #f0f8ff;}#sk-container-id-3 div.sk-toggleable__content pre {margin: 0.2em;color: black;border-radius: 0.25em;background-color: #f0f8ff;}#sk-container-id-3 input.sk-toggleable__control:checked~div.sk-toggleable__content {max-height: 200px;max-width: 100%;overflow: auto;}#sk-container-id-3 input.sk-toggleable__control:checked~label.sk-toggleable__label-arrow:before {content: \"▾\";}#sk-container-id-3 div.sk-estimator input.sk-toggleable__control:checked~label.sk-toggleable__label {background-color: #d4ebff;}#sk-container-id-3 div.sk-label input.sk-toggleable__control:checked~label.sk-toggleable__label {background-color: #d4ebff;}#sk-container-id-3 input.sk-hidden--visually {border: 0;clip: rect(1px 1px 1px 1px);clip: rect(1px, 1px, 1px, 1px);height: 1px;margin: -1px;overflow: hidden;padding: 0;position: absolute;width: 1px;}#sk-container-id-3 div.sk-estimator {font-family: monospace;background-color: #f0f8ff;border: 1px dotted black;border-radius: 0.25em;box-sizing: border-box;margin-bottom: 0.5em;}#sk-container-id-3 div.sk-estimator:hover {background-color: #d4ebff;}#sk-container-id-3 div.sk-parallel-item::after {content: \"\";width: 100%;border-bottom: 1px solid gray;flex-grow: 1;}#sk-container-id-3 div.sk-label:hover label.sk-toggleable__label {background-color: #d4ebff;}#sk-container-id-3 div.sk-serial::before {content: \"\";position: absolute;border-left: 1px solid gray;box-sizing: border-box;top: 0;bottom: 0;left: 50%;z-index: 0;}#sk-container-id-3 div.sk-serial {display: flex;flex-direction: column;align-items: center;background-color: white;padding-right: 0.2em;padding-left: 0.2em;position: relative;}#sk-container-id-3 div.sk-item {position: relative;z-index: 1;}#sk-container-id-3 div.sk-parallel {display: flex;align-items: stretch;justify-content: center;background-color: white;position: relative;}#sk-container-id-3 div.sk-item::before, #sk-container-id-3 div.sk-parallel-item::before {content: \"\";position: absolute;border-left: 1px solid gray;box-sizing: border-box;top: 0;bottom: 0;left: 50%;z-index: -1;}#sk-container-id-3 div.sk-parallel-item {display: flex;flex-direction: column;z-index: 1;position: relative;background-color: white;}#sk-container-id-3 div.sk-parallel-item:first-child::after {align-self: flex-end;width: 50%;}#sk-container-id-3 div.sk-parallel-item:last-child::after {align-self: flex-start;width: 50%;}#sk-container-id-3 div.sk-parallel-item:only-child::after {width: 0;}#sk-container-id-3 div.sk-dashed-wrapped {border: 1px dashed gray;margin: 0 0.4em 0.5em 0.4em;box-sizing: border-box;padding-bottom: 0.4em;background-color: white;}#sk-container-id-3 div.sk-label label {font-family: monospace;font-weight: bold;display: inline-block;line-height: 1.2em;}#sk-container-id-3 div.sk-label-container {text-align: center;}#sk-container-id-3 div.sk-container {/* jupyter's `normalize.less` sets `[hidden] { display: none; }` but bootstrap.min.css set `[hidden] { display: none !important; }` so we also need the `!important` here to be able to override the default hidden behavior on the sphinx rendered scikit-learn.org. See: https://github.com/scikit-learn/scikit-learn/issues/21755 */display: inline-block !important;position: relative;}#sk-container-id-3 div.sk-text-repr-fallback {display: none;}</style><div id=\"sk-container-id-3\" class=\"sk-top-container\"><div class=\"sk-text-repr-fallback\"><pre>LogisticRegression()</pre><b>In a Jupyter environment, please rerun this cell to show the HTML representation or trust the notebook. <br />On GitHub, the HTML representation is unable to render, please try loading this page with nbviewer.org.</b></div><div class=\"sk-container\" hidden><div class=\"sk-item\"><div class=\"sk-estimator sk-toggleable\"><input class=\"sk-toggleable__control sk-hidden--visually\" id=\"sk-estimator-id-3\" type=\"checkbox\" checked><label for=\"sk-estimator-id-3\" class=\"sk-toggleable__label sk-toggleable__label-arrow\">LogisticRegression</label><div class=\"sk-toggleable__content\"><pre>LogisticRegression()</pre></div></div></div></div></div>"
      ],
      "text/plain": [
       "LogisticRegression()"
      ]
     },
     "execution_count": 76,
     "metadata": {},
     "output_type": "execute_result"
    }
   ],
   "source": [
    "logreg.fit(X_train, y_train)"
   ]
  },
  {
   "cell_type": "code",
   "execution_count": 77,
   "id": "8b4e7f0d",
   "metadata": {},
   "outputs": [],
   "source": [
    "preds = logreg.predict_proba(X_test)[:, 1]"
   ]
  },
  {
   "cell_type": "code",
   "execution_count": 78,
   "id": "03f3d3be",
   "metadata": {},
   "outputs": [],
   "source": [
    "from sklearn.metrics import f1_score, roc_auc_score, precision_score, classification_report, \\\n",
    "                            precision_recall_curve, confusion_matrix"
   ]
  },
  {
   "cell_type": "code",
   "execution_count": 79,
   "id": "2beab655",
   "metadata": {},
   "outputs": [
    {
     "name": "stdout",
     "output_type": "stream",
     "text": [
      "Best Threshold=0.430505, F-Score=0.818, Precision=0.838, Recall=0.800\n"
     ]
    }
   ],
   "source": [
    "precision, recall, thresholds = precision_recall_curve(y_test, preds)\n",
    "fscore = (2 * precision * recall) / (precision + recall)\n",
    "\n",
    "# locate the index of the largest f-score\n",
    "ix = np.argmax(fscore)\n",
    "print('Best Threshold=%f, F-Score=%.3f, Precision=%.3f, Recall=%.3f' % (thresholds[ix], \n",
    "                                                                        fscore[ix],\n",
    "                                                                        precision[ix],\n",
    "                                                                        recall[ix]))"
   ]
  },
  {
   "cell_type": "code",
   "execution_count": 80,
   "id": "1b2e6b38",
   "metadata": {},
   "outputs": [
    {
     "name": "stdout",
     "output_type": "stream",
     "text": [
      "Confusion matrix, without normalization\n",
      "[[1717   38]\n",
      " [  50  195]]\n"
     ]
    },
    {
     "data": {
      "image/png": "[encoded data removed]",
      "text/plain": [
       "<Figure size 720x576 with 2 Axes>"
      ]
     },
     "metadata": {
      "needs_background": "light"
     },
     "output_type": "display_data"
    }
   ],
   "source": [
    "font = {'size' : 15}\n",
    "\n",
    "plt.rc('font', **font)\n",
    "\n",
    "cnf_matrix = confusion_matrix(y_test, preds > thresholds[ix])\n",
    "plt.figure(figsize=(10, 8))\n",
    "plot_confusion_matrix(cnf_matrix, classes=['non-churn', 'churn'],\n",
    "                      title='Confusion matrix')\n",
    "# plt.savefig(\"conf_matrix.png\")\n",
    "plt.show()"
   ]
  },
  {
   "cell_type": "code",
   "execution_count": 81,
   "id": "a364f95f",
   "metadata": {},
   "outputs": [
    {
     "data": {
      "text/plain": [
       "0.9824106052677481"
      ]
     },
     "execution_count": 81,
     "metadata": {},
     "output_type": "execute_result"
    }
   ],
   "source": [
    "roc_auc_score(y_test, preds)"
   ]
  },
  {
   "cell_type": "code",
   "execution_count": 82,
   "id": "8bf82395",
   "metadata": {},
   "outputs": [],
   "source": [
    "metrics_lda_max_embedding = [fscore[ix], precision[ix], recall[ix], roc_auc_score(y_test, preds)]"
   ]
  },
  {
   "cell_type": "code",
   "execution_count": null,
   "id": "0f7b31db",
   "metadata": {},
   "outputs": [],
   "source": []
  },
  {
   "cell_type": "code",
   "execution_count": null,
   "id": "641065ce",
   "metadata": {},
   "outputs": [],
   "source": []
  },
  {
   "cell_type": "code",
   "execution_count": null,
   "id": "3d792b73",
   "metadata": {},
   "outputs": [],
   "source": []
  },
  {
   "cell_type": "markdown",
   "id": "89f695c0",
   "metadata": {},
   "source": [
    "### Задание 4 (опциональное) \n",
    "\n",
    "Воспользовавшись полученными знаниями из п.1, повторить пункт 2, но уже взвешивая новости по tfidf (подсказка: нужно получить веса-коэффициенты для каждого документа. Не все документы одинаково информативны и несут какой-то положительный сигнал). Подсказка 2 - нужен именно idf, как вес."
   ]
  },
  {
   "cell_type": "markdown",
   "id": "bbe8f2f8",
   "metadata": {},
   "source": [
    "# my version!!!"
   ]
  },
  {
   "cell_type": "code",
   "execution_count": null,
   "id": "353c8ac1",
   "metadata": {},
   "outputs": [],
   "source": []
  },
  {
   "cell_type": "code",
   "execution_count": 83,
   "id": "0dbbf4b7",
   "metadata": {},
   "outputs": [],
   "source": [
    "from sklearn.feature_extraction.text import TfidfVectorizer"
   ]
  },
  {
   "cell_type": "markdown",
   "id": "1fb6ffa9",
   "metadata": {},
   "source": [
    "### TfidfVectorizer initialization"
   ]
  },
  {
   "cell_type": "code",
   "execution_count": 84,
   "id": "9c6852a6",
   "metadata": {},
   "outputs": [],
   "source": [
    "N_features=100\n",
    "tf = TfidfVectorizer(stop_words=stopword_ru, max_features=N_features)"
   ]
  },
  {
   "cell_type": "code",
   "execution_count": 85,
   "id": "43ec9fd5",
   "metadata": {},
   "outputs": [
    {
     "data": {
      "text/html": [
       "<div>\n",
       "<style scoped>\n",
       "    .dataframe tbody tr th:only-of-type {\n",
       "        vertical-align: middle;\n",
       "    }\n",
       "\n",
       "    .dataframe tbody tr th {\n",
       "        vertical-align: top;\n",
       "    }\n",
       "\n",
       "    .dataframe thead th {\n",
       "        text-align: right;\n",
       "    }\n",
       "</style>\n",
       "<table border=\"1\" class=\"dataframe\">\n",
       "  <thead>\n",
       "    <tr style=\"text-align: right;\">\n",
       "      <th></th>\n",
       "      <th>doc_id</th>\n",
       "      <th>title</th>\n",
       "    </tr>\n",
       "  </thead>\n",
       "  <tbody>\n",
       "    <tr>\n",
       "      <th>0</th>\n",
       "      <td>6</td>\n",
       "      <td>[заместитель, председатель, правительство, рф,...</td>\n",
       "    </tr>\n",
       "    <tr>\n",
       "      <th>1</th>\n",
       "      <td>4896</td>\n",
       "      <td>[матч, финал, кубок, россия, футбол, приостано...</td>\n",
       "    </tr>\n",
       "    <tr>\n",
       "      <th>2</th>\n",
       "      <td>4897</td>\n",
       "      <td>[форвард, авангард, томаш, заборский, прокомме...</td>\n",
       "    </tr>\n",
       "    <tr>\n",
       "      <th>3</th>\n",
       "      <td>4898</td>\n",
       "      <td>[главный, тренер, кубань, юрий, красножанин, п...</td>\n",
       "    </tr>\n",
       "    <tr>\n",
       "      <th>4</th>\n",
       "      <td>4899</td>\n",
       "      <td>[решение, попечительский, совет, владивостокск...</td>\n",
       "    </tr>\n",
       "    <tr>\n",
       "      <th>...</th>\n",
       "      <td>...</td>\n",
       "      <td>...</td>\n",
       "    </tr>\n",
       "    <tr>\n",
       "      <th>26995</th>\n",
       "      <td>513441</td>\n",
       "      <td>[учёный, токийский, университет, морской, наук...</td>\n",
       "    </tr>\n",
       "    <tr>\n",
       "      <th>26996</th>\n",
       "      <td>513442</td>\n",
       "      <td>[глава, кафедра, отечественный, история, xx, в...</td>\n",
       "    </tr>\n",
       "    <tr>\n",
       "      <th>26997</th>\n",
       "      <td>513443</td>\n",
       "      <td>[американский, учёный, уточнить, возраст, расп...</td>\n",
       "    </tr>\n",
       "    <tr>\n",
       "      <th>26998</th>\n",
       "      <td>513444</td>\n",
       "      <td>[последний, тропический, углеродный, цикл, чув...</td>\n",
       "    </tr>\n",
       "    <tr>\n",
       "      <th>26999</th>\n",
       "      <td>513445</td>\n",
       "      <td>[жить, примерно, тыс, назад, территория, совре...</td>\n",
       "    </tr>\n",
       "  </tbody>\n",
       "</table>\n",
       "<p>27000 rows × 2 columns</p>\n",
       "</div>"
      ],
      "text/plain": [
       "       doc_id                                              title\n",
       "0           6  [заместитель, председатель, правительство, рф,...\n",
       "1        4896  [матч, финал, кубок, россия, футбол, приостано...\n",
       "2        4897  [форвард, авангард, томаш, заборский, прокомме...\n",
       "3        4898  [главный, тренер, кубань, юрий, красножанин, п...\n",
       "4        4899  [решение, попечительский, совет, владивостокск...\n",
       "...       ...                                                ...\n",
       "26995  513441  [учёный, токийский, университет, морской, наук...\n",
       "26996  513442  [глава, кафедра, отечественный, история, xx, в...\n",
       "26997  513443  [американский, учёный, уточнить, возраст, расп...\n",
       "26998  513444  [последний, тропический, углеродный, цикл, чув...\n",
       "26999  513445  [жить, примерно, тыс, назад, территория, совре...\n",
       "\n",
       "[27000 rows x 2 columns]"
      ]
     },
     "execution_count": 85,
     "metadata": {},
     "output_type": "execute_result"
    }
   ],
   "source": [
    "news_ = news.copy()  # precautions measures\n",
    "news_"
   ]
  },
  {
   "cell_type": "markdown",
   "id": "c29fbe87",
   "metadata": {},
   "source": [
    "### changing datatype of news_['title'] from list to string"
   ]
  },
  {
   "cell_type": "code",
   "execution_count": 86,
   "id": "9710de31",
   "metadata": {},
   "outputs": [],
   "source": [
    "news_['title'] = news_['title'].apply(lambda x: clean_text(str(x)))"
   ]
  },
  {
   "cell_type": "code",
   "execution_count": 87,
   "id": "c7090882",
   "metadata": {},
   "outputs": [
    {
     "data": {
      "text/plain": [
       "0        заместитель председатель правительство рф серг...\n",
       "1        матч финал кубок россия футбол приостановить с...\n",
       "2        форвард авангард томаш заборский прокомментиро...\n",
       "3        главный тренер кубань юрий красножанин прокомм...\n",
       "4        решение попечительский совет владивостокский с...\n",
       "                               ...                        \n",
       "26995    учёный токийский университет морской наука тех...\n",
       "26996    глава кафедра отечественный история xx век ист...\n",
       "26997    американский учёный уточнить возраст расположи...\n",
       "26998    последний тропический углеродный цикл чувствит...\n",
       "26999    жить примерно тыс назад территория современный...\n",
       "Name: title, Length: 27000, dtype: object"
      ]
     },
     "execution_count": 87,
     "metadata": {},
     "output_type": "execute_result"
    }
   ],
   "source": [
    "news_['title']"
   ]
  },
  {
   "cell_type": "markdown",
   "id": "13b0f648",
   "metadata": {},
   "source": [
    "### creation of sparse matrix with tf.fit_transform"
   ]
  },
  {
   "cell_type": "code",
   "execution_count": 88,
   "id": "5c689a4f",
   "metadata": {},
   "outputs": [
    {
     "name": "stderr",
     "output_type": "stream",
     "text": [
      "C:\\Users\\fross\\anaconda3\\lib\\site-packages\\sklearn\\feature_extraction\\text.py:404: UserWarning: Your stop_words may be inconsistent with your preprocessing. Tokenizing the stop words generated tokens ['_ссылка', 'всё', 'интерфакс', 'как_сообщили_риа_', 'новости', 'передает_риа_', 'сообщает_', 'сообщает_риа_'] not in stop_words.\n",
      "  warnings.warn(\n"
     ]
    },
    {
     "data": {
      "text/plain": [
       "<27000x100 sparse matrix of type '<class 'numpy.float64'>'\n",
       "\twith 463980 stored elements in Compressed Sparse Row format>"
      ]
     },
     "execution_count": 88,
     "metadata": {},
     "output_type": "execute_result"
    }
   ],
   "source": [
    "tfidf_articles = tf.fit_transform(news_['title'])\n",
    "tfidf_articles"
   ]
  },
  {
   "cell_type": "code",
   "execution_count": 89,
   "id": "ae1a9430",
   "metadata": {},
   "outputs": [
    {
     "data": {
      "text/html": [
       "<div>\n",
       "<style scoped>\n",
       "    .dataframe tbody tr th:only-of-type {\n",
       "        vertical-align: middle;\n",
       "    }\n",
       "\n",
       "    .dataframe tbody tr th {\n",
       "        vertical-align: top;\n",
       "    }\n",
       "\n",
       "    .dataframe thead th {\n",
       "        text-align: right;\n",
       "    }\n",
       "</style>\n",
       "<table border=\"1\" class=\"dataframe\">\n",
       "  <thead>\n",
       "    <tr style=\"text-align: right;\">\n",
       "      <th></th>\n",
       "      <th>word_0</th>\n",
       "      <th>word_1</th>\n",
       "      <th>word_2</th>\n",
       "      <th>word_3</th>\n",
       "      <th>word_4</th>\n",
       "      <th>word_5</th>\n",
       "      <th>word_6</th>\n",
       "      <th>word_7</th>\n",
       "      <th>word_8</th>\n",
       "      <th>word_9</th>\n",
       "      <th>...</th>\n",
       "      <th>word_90</th>\n",
       "      <th>word_91</th>\n",
       "      <th>word_92</th>\n",
       "      <th>word_93</th>\n",
       "      <th>word_94</th>\n",
       "      <th>word_95</th>\n",
       "      <th>word_96</th>\n",
       "      <th>word_97</th>\n",
       "      <th>word_98</th>\n",
       "      <th>word_99</th>\n",
       "    </tr>\n",
       "  </thead>\n",
       "  <tbody>\n",
       "    <tr>\n",
       "      <th>0</th>\n",
       "      <td>0.564466</td>\n",
       "      <td>0.000000</td>\n",
       "      <td>0.0</td>\n",
       "      <td>0.255722</td>\n",
       "      <td>0.0</td>\n",
       "      <td>0.0</td>\n",
       "      <td>0.0</td>\n",
       "      <td>0.0</td>\n",
       "      <td>0.177648</td>\n",
       "      <td>0.0</td>\n",
       "      <td>...</td>\n",
       "      <td>0.0</td>\n",
       "      <td>0.0</td>\n",
       "      <td>0.0</td>\n",
       "      <td>0.0</td>\n",
       "      <td>0.0</td>\n",
       "      <td>0.0</td>\n",
       "      <td>0.0</td>\n",
       "      <td>0.0</td>\n",
       "      <td>0.0</td>\n",
       "      <td>0.0</td>\n",
       "    </tr>\n",
       "    <tr>\n",
       "      <th>1</th>\n",
       "      <td>0.000000</td>\n",
       "      <td>0.697328</td>\n",
       "      <td>0.0</td>\n",
       "      <td>0.000000</td>\n",
       "      <td>0.0</td>\n",
       "      <td>0.0</td>\n",
       "      <td>0.0</td>\n",
       "      <td>0.0</td>\n",
       "      <td>0.000000</td>\n",
       "      <td>0.0</td>\n",
       "      <td>...</td>\n",
       "      <td>0.0</td>\n",
       "      <td>0.0</td>\n",
       "      <td>0.0</td>\n",
       "      <td>0.0</td>\n",
       "      <td>0.0</td>\n",
       "      <td>0.0</td>\n",
       "      <td>0.0</td>\n",
       "      <td>0.0</td>\n",
       "      <td>0.0</td>\n",
       "      <td>0.0</td>\n",
       "    </tr>\n",
       "  </tbody>\n",
       "</table>\n",
       "<p>2 rows × 100 columns</p>\n",
       "</div>"
      ],
      "text/plain": [
       "     word_0    word_1  word_2    word_3  word_4  word_5  word_6  word_7  \\\n",
       "0  0.564466  0.000000     0.0  0.255722     0.0     0.0     0.0     0.0   \n",
       "1  0.000000  0.697328     0.0  0.000000     0.0     0.0     0.0     0.0   \n",
       "\n",
       "     word_8  word_9  ...  word_90  word_91  word_92  word_93  word_94  \\\n",
       "0  0.177648     0.0  ...      0.0      0.0      0.0      0.0      0.0   \n",
       "1  0.000000     0.0  ...      0.0      0.0      0.0      0.0      0.0   \n",
       "\n",
       "   word_95  word_96  word_97  word_98  word_99  \n",
       "0      0.0      0.0      0.0      0.0      0.0  \n",
       "1      0.0      0.0      0.0      0.0      0.0  \n",
       "\n",
       "[2 rows x 100 columns]"
      ]
     },
     "execution_count": 89,
     "metadata": {},
     "output_type": "execute_result"
    }
   ],
   "source": [
    "tfidf_matrix = pd.DataFrame.sparse.from_spmatrix(tfidf_articles, columns=sorted(tf.vocabulary_))\n",
    "tfidf_matrix.columns = ['word_{}'.format(i) for i in range(N_features)]  # changing names of columns from real words \n",
    "                                                                         # to word_0, word_1, word_2...\n",
    "tfidf_matrix.head(2)"
   ]
  },
  {
   "cell_type": "markdown",
   "id": "9023ab4d",
   "metadata": {},
   "source": [
    "### adding to tfidf_matrix 'doc_id' column"
   ]
  },
  {
   "cell_type": "code",
   "execution_count": 90,
   "id": "0e530d99",
   "metadata": {},
   "outputs": [
    {
     "name": "stderr",
     "output_type": "stream",
     "text": [
      "C:\\Users\\fross\\AppData\\Local\\Temp/ipykernel_16436/3738657765.py:1: PerformanceWarning: DataFrame is highly fragmented.  This is usually the result of calling `frame.insert` many times, which has poor performance.  Consider joining all columns at once using pd.concat(axis=1) instead.  To get a de-fragmented frame, use `newframe = frame.copy()`\n",
      "  tfidf_matrix['doc_id'] = news_['doc_id'].values\n"
     ]
    },
    {
     "data": {
      "text/html": [
       "<div>\n",
       "<style scoped>\n",
       "    .dataframe tbody tr th:only-of-type {\n",
       "        vertical-align: middle;\n",
       "    }\n",
       "\n",
       "    .dataframe tbody tr th {\n",
       "        vertical-align: top;\n",
       "    }\n",
       "\n",
       "    .dataframe thead th {\n",
       "        text-align: right;\n",
       "    }\n",
       "</style>\n",
       "<table border=\"1\" class=\"dataframe\">\n",
       "  <thead>\n",
       "    <tr style=\"text-align: right;\">\n",
       "      <th></th>\n",
       "      <th>word_0</th>\n",
       "      <th>word_1</th>\n",
       "      <th>word_2</th>\n",
       "      <th>word_3</th>\n",
       "      <th>word_4</th>\n",
       "      <th>word_5</th>\n",
       "      <th>word_6</th>\n",
       "      <th>word_7</th>\n",
       "      <th>word_8</th>\n",
       "      <th>word_9</th>\n",
       "      <th>...</th>\n",
       "      <th>word_91</th>\n",
       "      <th>word_92</th>\n",
       "      <th>word_93</th>\n",
       "      <th>word_94</th>\n",
       "      <th>word_95</th>\n",
       "      <th>word_96</th>\n",
       "      <th>word_97</th>\n",
       "      <th>word_98</th>\n",
       "      <th>word_99</th>\n",
       "      <th>doc_id</th>\n",
       "    </tr>\n",
       "  </thead>\n",
       "  <tbody>\n",
       "    <tr>\n",
       "      <th>0</th>\n",
       "      <td>0.564466</td>\n",
       "      <td>0.000000</td>\n",
       "      <td>0.0</td>\n",
       "      <td>0.255722</td>\n",
       "      <td>0.0</td>\n",
       "      <td>0.0</td>\n",
       "      <td>0.0</td>\n",
       "      <td>0.0</td>\n",
       "      <td>0.177648</td>\n",
       "      <td>0.0</td>\n",
       "      <td>...</td>\n",
       "      <td>0.0</td>\n",
       "      <td>0.0</td>\n",
       "      <td>0.0</td>\n",
       "      <td>0.0</td>\n",
       "      <td>0.0</td>\n",
       "      <td>0.0</td>\n",
       "      <td>0.0</td>\n",
       "      <td>0.0</td>\n",
       "      <td>0.0</td>\n",
       "      <td>6</td>\n",
       "    </tr>\n",
       "    <tr>\n",
       "      <th>1</th>\n",
       "      <td>0.000000</td>\n",
       "      <td>0.697328</td>\n",
       "      <td>0.0</td>\n",
       "      <td>0.000000</td>\n",
       "      <td>0.0</td>\n",
       "      <td>0.0</td>\n",
       "      <td>0.0</td>\n",
       "      <td>0.0</td>\n",
       "      <td>0.000000</td>\n",
       "      <td>0.0</td>\n",
       "      <td>...</td>\n",
       "      <td>0.0</td>\n",
       "      <td>0.0</td>\n",
       "      <td>0.0</td>\n",
       "      <td>0.0</td>\n",
       "      <td>0.0</td>\n",
       "      <td>0.0</td>\n",
       "      <td>0.0</td>\n",
       "      <td>0.0</td>\n",
       "      <td>0.0</td>\n",
       "      <td>4896</td>\n",
       "    </tr>\n",
       "  </tbody>\n",
       "</table>\n",
       "<p>2 rows × 101 columns</p>\n",
       "</div>"
      ],
      "text/plain": [
       "     word_0    word_1  word_2    word_3  word_4  word_5  word_6  word_7  \\\n",
       "0  0.564466  0.000000     0.0  0.255722     0.0     0.0     0.0     0.0   \n",
       "1  0.000000  0.697328     0.0  0.000000     0.0     0.0     0.0     0.0   \n",
       "\n",
       "     word_8  word_9  ...  word_91  word_92  word_93  word_94  word_95  \\\n",
       "0  0.177648     0.0  ...      0.0      0.0      0.0      0.0      0.0   \n",
       "1  0.000000     0.0  ...      0.0      0.0      0.0      0.0      0.0   \n",
       "\n",
       "   word_96  word_97  word_98  word_99  doc_id  \n",
       "0      0.0      0.0      0.0      0.0       6  \n",
       "1      0.0      0.0      0.0      0.0    4896  \n",
       "\n",
       "[2 rows x 101 columns]"
      ]
     },
     "execution_count": 90,
     "metadata": {},
     "output_type": "execute_result"
    }
   ],
   "source": [
    "tfidf_matrix['doc_id'] = news_['doc_id'].values\n",
    "tfidf_matrix.head(2)"
   ]
  },
  {
   "cell_type": "markdown",
   "id": "49c0f943",
   "metadata": {},
   "source": [
    "### transformation of tfidf_matrix into a dictionary"
   ]
  },
  {
   "cell_type": "code",
   "execution_count": 91,
   "id": "c5f87961",
   "metadata": {},
   "outputs": [],
   "source": [
    "doc_dict = dict(zip(tfidf_matrix['doc_id'].values, tfidf_matrix[['word_{}'.format(i) for i in range(N_features)]].values))"
   ]
  },
  {
   "cell_type": "markdown",
   "id": "0a715be7",
   "metadata": {},
   "source": [
    "### creation of users' vectors; np.mean is used in embedding"
   ]
  },
  {
   "cell_type": "code",
   "execution_count": 92,
   "id": "57fab1ac",
   "metadata": {},
   "outputs": [],
   "source": [
    "def get_user_embedding(user_articles_list):\n",
    "    '''\n",
    "    The function receives a list of articles' ids a user read - '[323329, 321961, 324743, 323186, 324632, 474690]'.\n",
    "    It converts it into a list. After this list is converted into an array of arrays of articles' probabilities.\n",
    "    After, the array of arrays is transformed into the array of mean values of probabilities.\n",
    "    '''\n",
    "    user_articles_list = eval(user_articles_list)  # converting string into list\n",
    "    user_vector = np.array([doc_dict[doc_id] for doc_id in user_articles_list])  # creation of array of arrays\n",
    "    user_vector = np.mean(user_vector, axis=0)  # creation of array of collumns' maxs\n",
    "    return user_vector"
   ]
  },
  {
   "cell_type": "code",
   "execution_count": 93,
   "id": "a5abfb11",
   "metadata": {},
   "outputs": [
    {
     "data": {
      "text/html": [
       "<div>\n",
       "<style scoped>\n",
       "    .dataframe tbody tr th:only-of-type {\n",
       "        vertical-align: middle;\n",
       "    }\n",
       "\n",
       "    .dataframe tbody tr th {\n",
       "        vertical-align: top;\n",
       "    }\n",
       "\n",
       "    .dataframe thead th {\n",
       "        text-align: right;\n",
       "    }\n",
       "</style>\n",
       "<table border=\"1\" class=\"dataframe\">\n",
       "  <thead>\n",
       "    <tr style=\"text-align: right;\">\n",
       "      <th></th>\n",
       "      <th>uid</th>\n",
       "      <th>word_0</th>\n",
       "      <th>word_1</th>\n",
       "      <th>word_2</th>\n",
       "      <th>word_3</th>\n",
       "      <th>word_4</th>\n",
       "      <th>word_5</th>\n",
       "      <th>word_6</th>\n",
       "      <th>word_7</th>\n",
       "      <th>word_8</th>\n",
       "      <th>...</th>\n",
       "      <th>word_90</th>\n",
       "      <th>word_91</th>\n",
       "      <th>word_92</th>\n",
       "      <th>word_93</th>\n",
       "      <th>word_94</th>\n",
       "      <th>word_95</th>\n",
       "      <th>word_96</th>\n",
       "      <th>word_97</th>\n",
       "      <th>word_98</th>\n",
       "      <th>word_99</th>\n",
       "    </tr>\n",
       "  </thead>\n",
       "  <tbody>\n",
       "    <tr>\n",
       "      <th>0</th>\n",
       "      <td>u105138</td>\n",
       "      <td>0.170270</td>\n",
       "      <td>0.035110</td>\n",
       "      <td>0.125729</td>\n",
       "      <td>0.0</td>\n",
       "      <td>0.078510</td>\n",
       "      <td>0.000000</td>\n",
       "      <td>0.000000</td>\n",
       "      <td>0.066400</td>\n",
       "      <td>0.064866</td>\n",
       "      <td>...</td>\n",
       "      <td>0.0</td>\n",
       "      <td>0.110193</td>\n",
       "      <td>0.000000</td>\n",
       "      <td>0.000000</td>\n",
       "      <td>0.000000</td>\n",
       "      <td>0.0</td>\n",
       "      <td>0.0</td>\n",
       "      <td>0.000000</td>\n",
       "      <td>0.000000</td>\n",
       "      <td>0.000000</td>\n",
       "    </tr>\n",
       "    <tr>\n",
       "      <th>1</th>\n",
       "      <td>u108690</td>\n",
       "      <td>0.048984</td>\n",
       "      <td>0.008298</td>\n",
       "      <td>0.030378</td>\n",
       "      <td>0.0</td>\n",
       "      <td>0.060469</td>\n",
       "      <td>0.031747</td>\n",
       "      <td>0.050475</td>\n",
       "      <td>0.026896</td>\n",
       "      <td>0.046313</td>\n",
       "      <td>...</td>\n",
       "      <td>0.0</td>\n",
       "      <td>0.328820</td>\n",
       "      <td>0.091238</td>\n",
       "      <td>0.035267</td>\n",
       "      <td>0.010589</td>\n",
       "      <td>0.0</td>\n",
       "      <td>0.0</td>\n",
       "      <td>0.039674</td>\n",
       "      <td>0.021024</td>\n",
       "      <td>0.021627</td>\n",
       "    </tr>\n",
       "  </tbody>\n",
       "</table>\n",
       "<p>2 rows × 101 columns</p>\n",
       "</div>"
      ],
      "text/plain": [
       "       uid    word_0    word_1    word_2  word_3    word_4    word_5  \\\n",
       "0  u105138  0.170270  0.035110  0.125729     0.0  0.078510  0.000000   \n",
       "1  u108690  0.048984  0.008298  0.030378     0.0  0.060469  0.031747   \n",
       "\n",
       "     word_6    word_7    word_8  ...  word_90   word_91   word_92   word_93  \\\n",
       "0  0.000000  0.066400  0.064866  ...      0.0  0.110193  0.000000  0.000000   \n",
       "1  0.050475  0.026896  0.046313  ...      0.0  0.328820  0.091238  0.035267   \n",
       "\n",
       "    word_94  word_95  word_96   word_97   word_98   word_99  \n",
       "0  0.000000      0.0      0.0  0.000000  0.000000  0.000000  \n",
       "1  0.010589      0.0      0.0  0.039674  0.021024  0.021627  \n",
       "\n",
       "[2 rows x 101 columns]"
      ]
     },
     "execution_count": 93,
     "metadata": {},
     "output_type": "execute_result"
    }
   ],
   "source": [
    "user_embeddings = pd.DataFrame([i for i in users['articles'].apply(lambda x: get_user_embedding(x), 1)])\n",
    "user_embeddings.columns = ['word_{}'.format(i) for i in range(N_features)]\n",
    "user_embeddings['uid'] = users['uid'].values\n",
    "user_embeddings = user_embeddings[['uid']+['word_{}'.format(i) for i in range(N_features)]]\n",
    "user_embeddings.head(2)"
   ]
  },
  {
   "cell_type": "markdown",
   "id": "0ea27303",
   "metadata": {},
   "source": [
    "### prediction model and test"
   ]
  },
  {
   "cell_type": "code",
   "execution_count": 94,
   "id": "134894e1",
   "metadata": {},
   "outputs": [],
   "source": [
    "target = pd.read_csv(\"lesson_2_profiling_user_LDA/users_churn.csv\")"
   ]
  },
  {
   "cell_type": "code",
   "execution_count": 95,
   "id": "8bbe6d96",
   "metadata": {},
   "outputs": [],
   "source": [
    "X = pd.merge(user_embeddings, target, 'left')"
   ]
  },
  {
   "cell_type": "code",
   "execution_count": 96,
   "id": "83e3998c",
   "metadata": {},
   "outputs": [],
   "source": [
    "X_train, X_test, y_train, y_test = train_test_split(X[['word_{}'.format(i) for i in range(N_features)]], \n",
    "                                                    X['churn'], random_state=0)"
   ]
  },
  {
   "cell_type": "code",
   "execution_count": 97,
   "id": "490cb913",
   "metadata": {},
   "outputs": [],
   "source": [
    "logreg = LogisticRegression()"
   ]
  },
  {
   "cell_type": "code",
   "execution_count": 98,
   "id": "d21d2816",
   "metadata": {},
   "outputs": [
    {
     "data": {
      "text/html": [
       "<style>#sk-container-id-4 {color: black;background-color: white;}#sk-container-id-4 pre{padding: 0;}#sk-container-id-4 div.sk-toggleable {background-color: white;}#sk-container-id-4 label.sk-toggleable__label {cursor: pointer;display: block;width: 100%;margin-bottom: 0;padding: 0.3em;box-sizing: border-box;text-align: center;}#sk-container-id-4 label.sk-toggleable__label-arrow:before {content: \"▸\";float: left;margin-right: 0.25em;color: #696969;}#sk-container-id-4 label.sk-toggleable__label-arrow:hover:before {color: black;}#sk-container-id-4 div.sk-estimator:hover label.sk-toggleable__label-arrow:before {color: black;}#sk-container-id-4 div.sk-toggleable__content {max-height: 0;max-width: 0;overflow: hidden;text-align: left;background-color: #f0f8ff;}#sk-container-id-4 div.sk-toggleable__content pre {margin: 0.2em;color: black;border-radius: 0.25em;background-color: #f0f8ff;}#sk-container-id-4 input.sk-toggleable__control:checked~div.sk-toggleable__content {max-height: 200px;max-width: 100%;overflow: auto;}#sk-container-id-4 input.sk-toggleable__control:checked~label.sk-toggleable__label-arrow:before {content: \"▾\";}#sk-container-id-4 div.sk-estimator input.sk-toggleable__control:checked~label.sk-toggleable__label {background-color: #d4ebff;}#sk-container-id-4 div.sk-label input.sk-toggleable__control:checked~label.sk-toggleable__label {background-color: #d4ebff;}#sk-container-id-4 input.sk-hidden--visually {border: 0;clip: rect(1px 1px 1px 1px);clip: rect(1px, 1px, 1px, 1px);height: 1px;margin: -1px;overflow: hidden;padding: 0;position: absolute;width: 1px;}#sk-container-id-4 div.sk-estimator {font-family: monospace;background-color: #f0f8ff;border: 1px dotted black;border-radius: 0.25em;box-sizing: border-box;margin-bottom: 0.5em;}#sk-container-id-4 div.sk-estimator:hover {background-color: #d4ebff;}#sk-container-id-4 div.sk-parallel-item::after {content: \"\";width: 100%;border-bottom: 1px solid gray;flex-grow: 1;}#sk-container-id-4 div.sk-label:hover label.sk-toggleable__label {background-color: #d4ebff;}#sk-container-id-4 div.sk-serial::before {content: \"\";position: absolute;border-left: 1px solid gray;box-sizing: border-box;top: 0;bottom: 0;left: 50%;z-index: 0;}#sk-container-id-4 div.sk-serial {display: flex;flex-direction: column;align-items: center;background-color: white;padding-right: 0.2em;padding-left: 0.2em;position: relative;}#sk-container-id-4 div.sk-item {position: relative;z-index: 1;}#sk-container-id-4 div.sk-parallel {display: flex;align-items: stretch;justify-content: center;background-color: white;position: relative;}#sk-container-id-4 div.sk-item::before, #sk-container-id-4 div.sk-parallel-item::before {content: \"\";position: absolute;border-left: 1px solid gray;box-sizing: border-box;top: 0;bottom: 0;left: 50%;z-index: -1;}#sk-container-id-4 div.sk-parallel-item {display: flex;flex-direction: column;z-index: 1;position: relative;background-color: white;}#sk-container-id-4 div.sk-parallel-item:first-child::after {align-self: flex-end;width: 50%;}#sk-container-id-4 div.sk-parallel-item:last-child::after {align-self: flex-start;width: 50%;}#sk-container-id-4 div.sk-parallel-item:only-child::after {width: 0;}#sk-container-id-4 div.sk-dashed-wrapped {border: 1px dashed gray;margin: 0 0.4em 0.5em 0.4em;box-sizing: border-box;padding-bottom: 0.4em;background-color: white;}#sk-container-id-4 div.sk-label label {font-family: monospace;font-weight: bold;display: inline-block;line-height: 1.2em;}#sk-container-id-4 div.sk-label-container {text-align: center;}#sk-container-id-4 div.sk-container {/* jupyter's `normalize.less` sets `[hidden] { display: none; }` but bootstrap.min.css set `[hidden] { display: none !important; }` so we also need the `!important` here to be able to override the default hidden behavior on the sphinx rendered scikit-learn.org. See: https://github.com/scikit-learn/scikit-learn/issues/21755 */display: inline-block !important;position: relative;}#sk-container-id-4 div.sk-text-repr-fallback {display: none;}</style><div id=\"sk-container-id-4\" class=\"sk-top-container\"><div class=\"sk-text-repr-fallback\"><pre>LogisticRegression()</pre><b>In a Jupyter environment, please rerun this cell to show the HTML representation or trust the notebook. <br />On GitHub, the HTML representation is unable to render, please try loading this page with nbviewer.org.</b></div><div class=\"sk-container\" hidden><div class=\"sk-item\"><div class=\"sk-estimator sk-toggleable\"><input class=\"sk-toggleable__control sk-hidden--visually\" id=\"sk-estimator-id-4\" type=\"checkbox\" checked><label for=\"sk-estimator-id-4\" class=\"sk-toggleable__label sk-toggleable__label-arrow\">LogisticRegression</label><div class=\"sk-toggleable__content\"><pre>LogisticRegression()</pre></div></div></div></div></div>"
      ],
      "text/plain": [
       "LogisticRegression()"
      ]
     },
     "execution_count": 98,
     "metadata": {},
     "output_type": "execute_result"
    }
   ],
   "source": [
    "logreg.fit(X_train, y_train)"
   ]
  },
  {
   "cell_type": "code",
   "execution_count": 99,
   "id": "2d0e90cf",
   "metadata": {},
   "outputs": [],
   "source": [
    "preds = logreg.predict_proba(X_test)[:, 1]"
   ]
  },
  {
   "cell_type": "code",
   "execution_count": 100,
   "id": "a88b6e50",
   "metadata": {},
   "outputs": [],
   "source": [
    "from sklearn.metrics import f1_score, roc_auc_score, precision_score, classification_report, \\\n",
    "                            precision_recall_curve, confusion_matrix"
   ]
  },
  {
   "cell_type": "code",
   "execution_count": 101,
   "id": "f548ee8f",
   "metadata": {},
   "outputs": [
    {
     "name": "stdout",
     "output_type": "stream",
     "text": [
      "Best Threshold=0.296801, F-Score=0.984, Precision=0.976, Recall=0.992\n"
     ]
    }
   ],
   "source": [
    "precision, recall, thresholds = precision_recall_curve(y_test, preds)\n",
    "fscore = (2 * precision * recall) / (precision + recall)\n",
    "\n",
    "# locate the index of the largest f-score\n",
    "ix = np.argmax(fscore)\n",
    "print('Best Threshold=%f, F-Score=%.3f, Precision=%.3f, Recall=%.3f' % (thresholds[ix], \n",
    "                                                                        fscore[ix],\n",
    "                                                                        precision[ix],\n",
    "                                                                        recall[ix]))"
   ]
  },
  {
   "cell_type": "code",
   "execution_count": 102,
   "id": "06c2bdd1",
   "metadata": {},
   "outputs": [
    {
     "name": "stdout",
     "output_type": "stream",
     "text": [
      "Confusion matrix, without normalization\n",
      "[[1749    6]\n",
      " [   3  242]]\n"
     ]
    },
    {
     "data": {
      "image/png": "[encoded data removed]",
      "text/plain": [
       "<Figure size 720x576 with 2 Axes>"
      ]
     },
     "metadata": {
      "needs_background": "light"
     },
     "output_type": "display_data"
    }
   ],
   "source": [
    "font = {'size' : 15}\n",
    "\n",
    "plt.rc('font', **font)\n",
    "\n",
    "cnf_matrix = confusion_matrix(y_test, preds > thresholds[ix])\n",
    "plt.figure(figsize=(10, 8))\n",
    "plot_confusion_matrix(cnf_matrix, classes=['non-churn', 'churn'],\n",
    "                      title='Confusion matrix')\n",
    "# plt.savefig(\"conf_matrix.png\")\n",
    "plt.show()"
   ]
  },
  {
   "cell_type": "code",
   "execution_count": 103,
   "id": "87608630",
   "metadata": {},
   "outputs": [
    {
     "data": {
      "text/plain": [
       "0.9998558055700912"
      ]
     },
     "execution_count": 103,
     "metadata": {},
     "output_type": "execute_result"
    }
   ],
   "source": [
    "roc_auc_score(y_test, preds)"
   ]
  },
  {
   "cell_type": "code",
   "execution_count": 104,
   "id": "e9a12d0f",
   "metadata": {},
   "outputs": [],
   "source": [
    "metrics_tfidf_mean_embedding = [fscore[ix], precision[ix], recall[ix], roc_auc_score(y_test, preds)]"
   ]
  },
  {
   "cell_type": "code",
   "execution_count": null,
   "id": "4915412c",
   "metadata": {},
   "outputs": [],
   "source": []
  },
  {
   "cell_type": "code",
   "execution_count": null,
   "id": "88d4c39d",
   "metadata": {},
   "outputs": [],
   "source": []
  },
  {
   "cell_type": "code",
   "execution_count": null,
   "id": "a1280442",
   "metadata": {},
   "outputs": [],
   "source": []
  },
  {
   "cell_type": "markdown",
   "id": "5b951643",
   "metadata": {},
   "source": [
    "### Задание 4 (опциональное) \n",
    "\n",
    "Воспользовавшись полученными знаниями из п.1, повторить пункт 2, но уже взвешивая новости по tfidf (подсказка: нужно получить веса-коэффициенты для каждого документа. Не все документы одинаково информативны и несут какой-то положительный сигнал). Подсказка 2 - нужен именно idf, как вес."
   ]
  },
  {
   "cell_type": "markdown",
   "id": "62c82773",
   "metadata": {},
   "source": [
    "# as it was expected"
   ]
  },
  {
   "cell_type": "code",
   "execution_count": 105,
   "id": "55cbe0a4",
   "metadata": {},
   "outputs": [],
   "source": [
    "users_ = users.copy()"
   ]
  },
  {
   "cell_type": "code",
   "execution_count": 106,
   "id": "d6bd6254",
   "metadata": {},
   "outputs": [
    {
     "data": {
      "text/plain": [
       "0    [293672, 293328, 293001, 293622, 293126, 1852]\n",
       "1            [3405, 1739, 2972, 1158, 1599, 322665]\n",
       "Name: articles, dtype: object"
      ]
     },
     "execution_count": 106,
     "metadata": {},
     "output_type": "execute_result"
    }
   ],
   "source": [
    "users_['articles'].head(2)"
   ]
  },
  {
   "cell_type": "code",
   "execution_count": 107,
   "id": "53df2c92",
   "metadata": {},
   "outputs": [
    {
     "data": {
      "text/plain": [
       "0    293672 293328 293001 293622 293126 1852\n",
       "1            3405 1739 2972 1158 1599 322665\n",
       "Name: articles, dtype: object"
      ]
     },
     "execution_count": 107,
     "metadata": {},
     "output_type": "execute_result"
    }
   ],
   "source": [
    "users_['articles'] = users_['articles'].apply(lambda x: x.strip('[]').replace(',', ''))\n",
    "users_['articles'].head(2)"
   ]
  },
  {
   "cell_type": "code",
   "execution_count": 108,
   "id": "deec79c8",
   "metadata": {},
   "outputs": [
    {
     "data": {
      "text/html": [
       "<style>#sk-container-id-5 {color: black;background-color: white;}#sk-container-id-5 pre{padding: 0;}#sk-container-id-5 div.sk-toggleable {background-color: white;}#sk-container-id-5 label.sk-toggleable__label {cursor: pointer;display: block;width: 100%;margin-bottom: 0;padding: 0.3em;box-sizing: border-box;text-align: center;}#sk-container-id-5 label.sk-toggleable__label-arrow:before {content: \"▸\";float: left;margin-right: 0.25em;color: #696969;}#sk-container-id-5 label.sk-toggleable__label-arrow:hover:before {color: black;}#sk-container-id-5 div.sk-estimator:hover label.sk-toggleable__label-arrow:before {color: black;}#sk-container-id-5 div.sk-toggleable__content {max-height: 0;max-width: 0;overflow: hidden;text-align: left;background-color: #f0f8ff;}#sk-container-id-5 div.sk-toggleable__content pre {margin: 0.2em;color: black;border-radius: 0.25em;background-color: #f0f8ff;}#sk-container-id-5 input.sk-toggleable__control:checked~div.sk-toggleable__content {max-height: 200px;max-width: 100%;overflow: auto;}#sk-container-id-5 input.sk-toggleable__control:checked~label.sk-toggleable__label-arrow:before {content: \"▾\";}#sk-container-id-5 div.sk-estimator input.sk-toggleable__control:checked~label.sk-toggleable__label {background-color: #d4ebff;}#sk-container-id-5 div.sk-label input.sk-toggleable__control:checked~label.sk-toggleable__label {background-color: #d4ebff;}#sk-container-id-5 input.sk-hidden--visually {border: 0;clip: rect(1px 1px 1px 1px);clip: rect(1px, 1px, 1px, 1px);height: 1px;margin: -1px;overflow: hidden;padding: 0;position: absolute;width: 1px;}#sk-container-id-5 div.sk-estimator {font-family: monospace;background-color: #f0f8ff;border: 1px dotted black;border-radius: 0.25em;box-sizing: border-box;margin-bottom: 0.5em;}#sk-container-id-5 div.sk-estimator:hover {background-color: #d4ebff;}#sk-container-id-5 div.sk-parallel-item::after {content: \"\";width: 100%;border-bottom: 1px solid gray;flex-grow: 1;}#sk-container-id-5 div.sk-label:hover label.sk-toggleable__label {background-color: #d4ebff;}#sk-container-id-5 div.sk-serial::before {content: \"\";position: absolute;border-left: 1px solid gray;box-sizing: border-box;top: 0;bottom: 0;left: 50%;z-index: 0;}#sk-container-id-5 div.sk-serial {display: flex;flex-direction: column;align-items: center;background-color: white;padding-right: 0.2em;padding-left: 0.2em;position: relative;}#sk-container-id-5 div.sk-item {position: relative;z-index: 1;}#sk-container-id-5 div.sk-parallel {display: flex;align-items: stretch;justify-content: center;background-color: white;position: relative;}#sk-container-id-5 div.sk-item::before, #sk-container-id-5 div.sk-parallel-item::before {content: \"\";position: absolute;border-left: 1px solid gray;box-sizing: border-box;top: 0;bottom: 0;left: 50%;z-index: -1;}#sk-container-id-5 div.sk-parallel-item {display: flex;flex-direction: column;z-index: 1;position: relative;background-color: white;}#sk-container-id-5 div.sk-parallel-item:first-child::after {align-self: flex-end;width: 50%;}#sk-container-id-5 div.sk-parallel-item:last-child::after {align-self: flex-start;width: 50%;}#sk-container-id-5 div.sk-parallel-item:only-child::after {width: 0;}#sk-container-id-5 div.sk-dashed-wrapped {border: 1px dashed gray;margin: 0 0.4em 0.5em 0.4em;box-sizing: border-box;padding-bottom: 0.4em;background-color: white;}#sk-container-id-5 div.sk-label label {font-family: monospace;font-weight: bold;display: inline-block;line-height: 1.2em;}#sk-container-id-5 div.sk-label-container {text-align: center;}#sk-container-id-5 div.sk-container {/* jupyter's `normalize.less` sets `[hidden] { display: none; }` but bootstrap.min.css set `[hidden] { display: none !important; }` so we also need the `!important` here to be able to override the default hidden behavior on the sphinx rendered scikit-learn.org. See: https://github.com/scikit-learn/scikit-learn/issues/21755 */display: inline-block !important;position: relative;}#sk-container-id-5 div.sk-text-repr-fallback {display: none;}</style><div id=\"sk-container-id-5\" class=\"sk-top-container\"><div class=\"sk-text-repr-fallback\"><pre>TfidfVectorizer()</pre><b>In a Jupyter environment, please rerun this cell to show the HTML representation or trust the notebook. <br />On GitHub, the HTML representation is unable to render, please try loading this page with nbviewer.org.</b></div><div class=\"sk-container\" hidden><div class=\"sk-item\"><div class=\"sk-estimator sk-toggleable\"><input class=\"sk-toggleable__control sk-hidden--visually\" id=\"sk-estimator-id-5\" type=\"checkbox\" checked><label for=\"sk-estimator-id-5\" class=\"sk-toggleable__label sk-toggleable__label-arrow\">TfidfVectorizer</label><div class=\"sk-toggleable__content\"><pre>TfidfVectorizer()</pre></div></div></div></div></div>"
      ],
      "text/plain": [
       "TfidfVectorizer()"
      ]
     },
     "execution_count": 108,
     "metadata": {},
     "output_type": "execute_result"
    }
   ],
   "source": [
    "tfidf = TfidfVectorizer()\n",
    "tfidf.fit(users['articles'])"
   ]
  },
  {
   "cell_type": "code",
   "execution_count": 109,
   "id": "5f0a364e",
   "metadata": {},
   "outputs": [
    {
     "data": {
      "text/plain": [
       "[10, 100, 1000, 1001, 1002, 1003, 1005, 1006, 1007, 1008]"
      ]
     },
     "execution_count": 109,
     "metadata": {},
     "output_type": "execute_result"
    }
   ],
   "source": [
    "ids_of_articles_list = [int(_) for _ in tfidf.get_feature_names_out()]\n",
    "ids_of_articles_list[:10]"
   ]
  },
  {
   "cell_type": "code",
   "execution_count": 110,
   "id": "0ef34e93",
   "metadata": {},
   "outputs": [
    {
     "data": {
      "text/plain": [
       "array([8.88870952, 7.90788027, 8.04141166, 8.88870952, 8.88870952,\n",
       "       8.04141166, 8.60102745, 9.29417463, 9.29417463, 9.29417463])"
      ]
     },
     "execution_count": 110,
     "metadata": {},
     "output_type": "execute_result"
    }
   ],
   "source": [
    "idfs_of_articles = tfidf.idf_\n",
    "idfs_of_articles[:10]"
   ]
  },
  {
   "cell_type": "code",
   "execution_count": 111,
   "id": "7f1fd48d",
   "metadata": {},
   "outputs": [
    {
     "data": {
      "text/plain": [
       "True"
      ]
     },
     "execution_count": 111,
     "metadata": {},
     "output_type": "execute_result"
    }
   ],
   "source": [
    "len(ids_of_articles_list) == len(idfs_of_articles)"
   ]
  },
  {
   "cell_type": "code",
   "execution_count": 113,
   "id": "92a1eca0",
   "metadata": {},
   "outputs": [
    {
     "data": {
      "text/plain": [
       "{10: 8.888709524182016,\n",
       " 100: 7.9078802711702885,\n",
       " 1000: 8.041411663794811,\n",
       " 1001: 8.888709524182016,\n",
       " 1002: 8.888709524182016,\n",
       " 1003: 8.041411663794811,\n",
       " 1005: 8.601027451730232,\n",
       " 1006: 9.29417463229018,\n",
       " 1007: 9.29417463229018,\n",
       " 1008: 9.29417463229018,\n",
       " 1009: 8.888709524182016,\n",
       " 101: 7.589426540051753,\n",
       " 1010: 8.601027451730232,\n",
       " 1011: 9.29417463229018,\n",
       " 1012: 8.377883900416023,\n",
       " 1013: 8.888709524182016,\n",
       " 1014: 8.888709524182016,\n",
       " 1015: 9.29417463229018,\n",
       " 1016: 8.888709524182016,\n",
       " 1017: 8.888709524182016,\n",
       " 1018: 8.888709524182016,\n",
       " 1019: 8.377883900416023,\n",
       " 102: 7.9078802711702885,\n",
       " 1020: 8.888709524182016,\n",
       " 1021: 9.29417463229018,\n",
       " 1022: 9.29417463229018,\n",
       " 1023: 8.601027451730232,\n",
       " 1024: 9.29417463229018,\n",
       " 1025: 8.888709524182016,\n",
       " 1026: 8.888709524182016,\n",
       " 1027: 8.888709524182016,\n",
       " 1028: 8.888709524182016,\n",
       " 103: 7.9078802711702885,\n",
       " 1030: 8.601027451730232,\n",
       " 1031: 8.377883900416023,\n",
       " 1032: 8.377883900416023,\n",
       " 1033: 8.601027451730232,\n",
       " 1034: 8.377883900416023,\n",
       " 1035: 8.888709524182016,\n",
       " 1036: 8.601027451730232,\n",
       " 1037: 8.601027451730232,\n",
       " 1039: 8.601027451730232,\n",
       " 104: 9.29417463229018,\n",
       " 1041: 8.888709524182016,\n",
       " 1042: 8.888709524182016,\n",
       " 1043: 8.601027451730232,\n",
       " 1044: 8.041411663794811,\n",
       " 1045: 7.790097235513905,\n",
       " 1047: 8.377883900416023,\n",
       " 1048: 8.377883900416023,\n",
       " 1049: 9.29417463229018,\n",
       " 105: 7.684736719856078,\n",
       " 1050: 8.377883900416023,\n",
       " 1051: 8.377883900416023,\n",
       " 1052: 8.601027451730232,\n",
       " 1053: 8.377883900416023,\n",
       " 1054: 8.377883900416023,\n",
       " 1055: 8.041411663794811,\n",
       " 1056: 8.888709524182016,\n",
       " 1057: 8.601027451730232,\n",
       " 1058: 9.29417463229018,\n",
       " 1059: 9.29417463229018,\n",
       " 106: 8.888709524182016,\n",
       " 1060: 8.601027451730232,\n",
       " 1061: 9.29417463229018,\n",
       " 1062: 8.195562343622068,\n",
       " 1063: 8.377883900416023,\n",
       " 1064: 8.888709524182016,\n",
       " 1065: 8.377883900416023,\n",
       " 1066: 8.377883900416023,\n",
       " 1067: 8.195562343622068,\n",
       " 1068: 8.377883900416023,\n",
       " 1069: 8.601027451730232,\n",
       " 1070: 8.888709524182016,\n",
       " 1071: 9.29417463229018,\n",
       " 1072: 8.601027451730232,\n",
       " 1073: 9.29417463229018,\n",
       " 1074: 9.29417463229018,\n",
       " 1075: 8.601027451730232,\n",
       " 1076: 8.195562343622068,\n",
       " 1077: 9.29417463229018,\n",
       " 1079: 9.29417463229018,\n",
       " 108: 9.29417463229018,\n",
       " 1080: 8.377883900416023,\n",
       " 1081: 8.195562343622068,\n",
       " 1082: 8.601027451730232,\n",
       " 1083: 8.601027451730232,\n",
       " 1084: 8.888709524182016,\n",
       " 1085: 8.601027451730232,\n",
       " 1086: 8.601027451730232,\n",
       " 1087: 8.601027451730232,\n",
       " 1088: 8.601027451730232,\n",
       " 1089: 8.601027451730232,\n",
       " 109: 9.29417463229018,\n",
       " 1090: 8.601027451730232,\n",
       " 1091: 8.601027451730232,\n",
       " 1092: 9.29417463229018,\n",
       " 1093: 8.195562343622068,\n",
       " 1094: 9.29417463229018,\n",
       " 1095: 9.29417463229018,\n",
       " 1096: 9.29417463229018,\n",
       " 1098: 9.29417463229018,\n",
       " 1099: 8.377883900416023,\n",
       " 11: 8.601027451730232,\n",
       " 1101: 8.888709524182016,\n",
       " 1102: 8.195562343622068,\n",
       " 1103: 8.041411663794811,\n",
       " 1104: 9.29417463229018,\n",
       " 1105: 8.601027451730232,\n",
       " 1107: 8.377883900416023,\n",
       " 1109: 8.601027451730232,\n",
       " 1110: 8.888709524182016,\n",
       " 1111: 8.377883900416023,\n",
       " 1112: 8.601027451730232,\n",
       " 1114: 8.888709524182016,\n",
       " 1116: 8.888709524182016,\n",
       " 1117: 9.29417463229018,\n",
       " 1118: 8.377883900416023,\n",
       " 1119: 8.888709524182016,\n",
       " 1120: 8.601027451730232,\n",
       " 1121: 8.601027451730232,\n",
       " 1122: 8.601027451730232,\n",
       " 1123: 9.29417463229018,\n",
       " 1124: 8.377883900416023,\n",
       " 1125: 8.888709524182016,\n",
       " 1126: 8.601027451730232,\n",
       " 1127: 8.888709524182016,\n",
       " 1128: 8.377883900416023,\n",
       " 1129: 8.601027451730232,\n",
       " 113: 9.29417463229018,\n",
       " 1130: 9.29417463229018,\n",
       " 1131: 8.601027451730232,\n",
       " 1132: 8.888709524182016,\n",
       " 1133: 8.377883900416023,\n",
       " 1134: 8.888709524182016,\n",
       " 1135: 8.377883900416023,\n",
       " 1136: 8.888709524182016,\n",
       " 1137: 8.601027451730232,\n",
       " 1138: 9.29417463229018,\n",
       " 1139: 9.29417463229018,\n",
       " 1140: 8.601027451730232,\n",
       " 1141: 8.377883900416023,\n",
       " 1142: 8.601027451730232,\n",
       " 1143: 9.29417463229018,\n",
       " 1144: 8.041411663794811,\n",
       " 1145: 9.29417463229018,\n",
       " 1146: 9.29417463229018,\n",
       " 1147: 8.377883900416023,\n",
       " 1148: 8.888709524182016,\n",
       " 1149: 9.29417463229018,\n",
       " 115: 8.888709524182016,\n",
       " 1150: 8.888709524182016,\n",
       " 1151: 8.377883900416023,\n",
       " 1154: 9.29417463229018,\n",
       " 1155: 9.29417463229018,\n",
       " 1156: 8.377883900416023,\n",
       " 1157: 8.195562343622068,\n",
       " 1158: 8.195562343622068,\n",
       " 1159: 8.888709524182016,\n",
       " 116: 9.29417463229018,\n",
       " 1160: 8.888709524182016,\n",
       " 1161: 8.377883900416023,\n",
       " 1162: 8.601027451730232,\n",
       " 1163: 8.601027451730232,\n",
       " 1164: 8.888709524182016,\n",
       " 1165: 9.29417463229018,\n",
       " 1166: 8.888709524182016,\n",
       " 1168: 8.601027451730232,\n",
       " 1169: 7.790097235513905,\n",
       " 1170: 7.9078802711702885,\n",
       " 1171: 8.195562343622068,\n",
       " 1172: 8.601027451730232,\n",
       " 1173: 9.29417463229018,\n",
       " 1174: 8.377883900416023,\n",
       " 1175: 8.195562343622068,\n",
       " 1176: 8.195562343622068,\n",
       " 1177: 9.29417463229018,\n",
       " 1178: 8.377883900416023,\n",
       " 1179: 8.888709524182016,\n",
       " 118: 9.29417463229018,\n",
       " 1180: 8.888709524182016,\n",
       " 1181: 8.601027451730232,\n",
       " 1182: 8.601027451730232,\n",
       " 1183: 8.888709524182016,\n",
       " 1184: 8.601027451730232,\n",
       " 1185: 9.29417463229018,\n",
       " 1186: 8.888709524182016,\n",
       " 1187: 8.888709524182016,\n",
       " 1188: 8.888709524182016,\n",
       " 1189: 8.888709524182016,\n",
       " 1190: 8.601027451730232,\n",
       " 1191: 9.29417463229018,\n",
       " 1192: 9.29417463229018,\n",
       " 1193: 9.29417463229018,\n",
       " 1194: 8.601027451730232,\n",
       " 1195: 8.888709524182016,\n",
       " 1196: 8.888709524182016,\n",
       " 1198: 8.377883900416023,\n",
       " 1199: 8.601027451730232,\n",
       " 120: 8.888709524182016,\n",
       " 1200: 8.195562343622068,\n",
       " 1202: 8.377883900416023,\n",
       " 1203: 8.601027451730232,\n",
       " 1204: 8.601027451730232,\n",
       " 1205: 8.601027451730232,\n",
       " 1206: 8.888709524182016,\n",
       " 1207: 7.9078802711702885,\n",
       " 121: 9.29417463229018,\n",
       " 1210: 8.888709524182016,\n",
       " 1211: 8.601027451730232,\n",
       " 1212: 8.377883900416023,\n",
       " 1213: 9.29417463229018,\n",
       " 1215: 8.888709524182016,\n",
       " 1216: 8.888709524182016,\n",
       " 1217: 8.377883900416023,\n",
       " 1218: 8.195562343622068,\n",
       " 1221: 8.195562343622068,\n",
       " 1222: 9.29417463229018,\n",
       " 1223: 8.888709524182016,\n",
       " 1224: 8.377883900416023,\n",
       " 1226: 8.377883900416023,\n",
       " 1227: 8.377883900416023,\n",
       " 1228: 8.601027451730232,\n",
       " 1229: 8.888709524182016,\n",
       " 123: 9.29417463229018,\n",
       " 1230: 8.041411663794811,\n",
       " 1231: 8.888709524182016,\n",
       " 1232: 9.29417463229018,\n",
       " 1233: 8.601027451730232,\n",
       " 1234: 8.888709524182016,\n",
       " 1235: 9.29417463229018,\n",
       " 1236: 8.601027451730232,\n",
       " 1237: 9.29417463229018,\n",
       " 1239: 8.601027451730232,\n",
       " 124: 9.29417463229018,\n",
       " 1240: 8.888709524182016,\n",
       " 1241: 8.888709524182016,\n",
       " 1242: 9.29417463229018,\n",
       " 1244: 8.888709524182016,\n",
       " 1245: 8.377883900416023,\n",
       " 1247: 8.195562343622068,\n",
       " 1248: 8.601027451730232,\n",
       " 1249: 8.888709524182016,\n",
       " 125: 9.29417463229018,\n",
       " 1250: 8.888709524182016,\n",
       " 1251: 8.888709524182016,\n",
       " 1252: 8.888709524182016,\n",
       " 1253: 8.601027451730232,\n",
       " 1254: 8.888709524182016,\n",
       " 1255: 8.377883900416023,\n",
       " 1256: 9.29417463229018,\n",
       " 1257: 8.888709524182016,\n",
       " 1258: 9.29417463229018,\n",
       " 1259: 8.888709524182016,\n",
       " 1260: 8.888709524182016,\n",
       " 1261: 8.377883900416023,\n",
       " 1262: 9.29417463229018,\n",
       " 1263: 8.377883900416023,\n",
       " 1264: 8.601027451730232,\n",
       " 1265: 8.601027451730232,\n",
       " 1266: 9.29417463229018,\n",
       " 1267: 8.888709524182016,\n",
       " 1268: 8.601027451730232,\n",
       " 1269: 8.601027451730232,\n",
       " 1270: 8.601027451730232,\n",
       " 1271: 8.377883900416023,\n",
       " 1272: 8.601027451730232,\n",
       " 1273: 9.29417463229018,\n",
       " 1274: 8.601027451730232,\n",
       " 1275: 8.601027451730232,\n",
       " 1276: 8.888709524182016,\n",
       " 1277: 8.888709524182016,\n",
       " 1278: 8.888709524182016,\n",
       " 1279: 8.888709524182016,\n",
       " 1280: 8.377883900416023,\n",
       " 1281: 9.29417463229018,\n",
       " 1282: 8.377883900416023,\n",
       " 1283: 8.377883900416023,\n",
       " 1284: 8.888709524182016,\n",
       " 1286: 8.888709524182016,\n",
       " 1287: 8.888709524182016,\n",
       " 1288: 9.29417463229018,\n",
       " 1289: 8.888709524182016,\n",
       " 1290: 8.377883900416023,\n",
       " 1291: 8.377883900416023,\n",
       " 1292: 8.601027451730232,\n",
       " 1293: 8.888709524182016,\n",
       " 1294: 8.601027451730232,\n",
       " 1295: 8.601027451730232,\n",
       " 1296: 8.888709524182016,\n",
       " 1297: 8.377883900416023,\n",
       " 1298: 8.888709524182016,\n",
       " 1299: 8.601027451730232,\n",
       " 13: 9.29417463229018,\n",
       " 1300: 8.601027451730232,\n",
       " 1301: 8.888709524182016,\n",
       " 1302: 8.888709524182016,\n",
       " 1303: 8.377883900416023,\n",
       " 1304: 8.377883900416023,\n",
       " 1307: 9.29417463229018,\n",
       " 1308: 8.377883900416023,\n",
       " 1309: 8.377883900416023,\n",
       " 131: 9.29417463229018,\n",
       " 1310: 8.601027451730232,\n",
       " 1311: 8.888709524182016,\n",
       " 1314: 9.29417463229018,\n",
       " 1315: 8.601027451730232,\n",
       " 1316: 8.888709524182016,\n",
       " 1317: 8.377883900416023,\n",
       " 1318: 8.195562343622068,\n",
       " 1319: 8.888709524182016,\n",
       " 132: 9.29417463229018,\n",
       " 1320: 8.041411663794811,\n",
       " 1321: 8.888709524182016,\n",
       " 1322: 8.601027451730232,\n",
       " 1323: 9.29417463229018,\n",
       " 1324: 9.29417463229018,\n",
       " 1326: 8.195562343622068,\n",
       " 1327: 8.041411663794811,\n",
       " 1328: 8.041411663794811,\n",
       " 1329: 9.29417463229018,\n",
       " 1330: 8.888709524182016,\n",
       " 1331: 8.601027451730232,\n",
       " 1332: 8.601027451730232,\n",
       " 1333: 9.29417463229018,\n",
       " 1334: 8.888709524182016,\n",
       " 1335: 9.29417463229018,\n",
       " 1336: 8.195562343622068,\n",
       " 1337: 8.888709524182016,\n",
       " 1338: 8.377883900416023,\n",
       " 1339: 8.888709524182016,\n",
       " 1340: 8.195562343622068,\n",
       " 1341: 8.888709524182016,\n",
       " 1342: 8.601027451730232,\n",
       " 1343: 8.888709524182016,\n",
       " 1344: 8.601027451730232,\n",
       " 1345: 8.601027451730232,\n",
       " 1346: 8.888709524182016,\n",
       " 1347: 8.888709524182016,\n",
       " 1348: 8.888709524182016,\n",
       " 1349: 8.377883900416023,\n",
       " 1350: 8.195562343622068,\n",
       " 1351: 8.888709524182016,\n",
       " 1352: 9.29417463229018,\n",
       " 1353: 8.888709524182016,\n",
       " 1355: 8.888709524182016,\n",
       " 1356: 8.601027451730232,\n",
       " 1357: 8.888709524182016,\n",
       " 1358: 8.888709524182016,\n",
       " 1359: 8.377883900416023,\n",
       " 136: 9.29417463229018,\n",
       " 1360: 9.29417463229018,\n",
       " 1361: 8.888709524182016,\n",
       " 1363: 9.29417463229018,\n",
       " 1364: 8.888709524182016,\n",
       " 1366: 8.377883900416023,\n",
       " 1367: 9.29417463229018,\n",
       " 1368: 9.29417463229018,\n",
       " 1369: 8.601027451730232,\n",
       " 1370: 8.888709524182016,\n",
       " 1371: 8.601027451730232,\n",
       " 1372: 8.601027451730232,\n",
       " 1373: 8.377883900416023,\n",
       " 1374: 8.888709524182016,\n",
       " 1375: 9.29417463229018,\n",
       " 1376: 8.377883900416023,\n",
       " 1377: 8.377883900416023,\n",
       " 1378: 9.29417463229018,\n",
       " 1379: 8.888709524182016,\n",
       " 1380: 8.601027451730232,\n",
       " 1381: 9.29417463229018,\n",
       " 1382: 9.29417463229018,\n",
       " 1383: 8.601027451730232,\n",
       " 1384: 8.888709524182016,\n",
       " 1385: 8.888709524182016,\n",
       " 1386: 8.888709524182016,\n",
       " 1388: 8.888709524182016,\n",
       " 1389: 8.888709524182016,\n",
       " 1390: 8.601027451730232,\n",
       " 1391: 8.888709524182016,\n",
       " 1393: 8.377883900416023,\n",
       " 1394: 9.29417463229018,\n",
       " 1395: 9.29417463229018,\n",
       " 1396: 9.29417463229018,\n",
       " 1398: 8.377883900416023,\n",
       " 1399: 8.888709524182016,\n",
       " 14: 8.377883900416023,\n",
       " 1400: 9.29417463229018,\n",
       " 1401: 8.601027451730232,\n",
       " 1402: 8.601027451730232,\n",
       " 1403: 9.29417463229018,\n",
       " 1404: 8.377883900416023,\n",
       " 1405: 8.601027451730232,\n",
       " 1406: 9.29417463229018,\n",
       " 1407: 8.888709524182016,\n",
       " 1408: 8.601027451730232,\n",
       " 1409: 9.29417463229018,\n",
       " 141: 9.29417463229018,\n",
       " 1410: 8.888709524182016,\n",
       " 1411: 8.888709524182016,\n",
       " 1412: 8.888709524182016,\n",
       " 1413: 9.29417463229018,\n",
       " 1414: 8.601027451730232,\n",
       " 1415: 9.29417463229018,\n",
       " 1416: 8.888709524182016,\n",
       " 1417: 9.29417463229018,\n",
       " 1418: 9.29417463229018,\n",
       " 1419: 8.888709524182016,\n",
       " 1420: 8.377883900416023,\n",
       " 1422: 7.9078802711702885,\n",
       " 1423: 8.601027451730232,\n",
       " 1424: 8.601027451730232,\n",
       " 1425: 9.29417463229018,\n",
       " 1426: 8.888709524182016,\n",
       " 1427: 8.601027451730232,\n",
       " 1428: 8.377883900416023,\n",
       " 1429: 8.195562343622068,\n",
       " 143: 9.29417463229018,\n",
       " 1430: 8.195562343622068,\n",
       " 1431: 8.888709524182016,\n",
       " 1432: 8.377883900416023,\n",
       " 1433: 9.29417463229018,\n",
       " 1434: 8.888709524182016,\n",
       " 1435: 8.888709524182016,\n",
       " 1437: 8.377883900416023,\n",
       " 1438: 9.29417463229018,\n",
       " 1439: 9.29417463229018,\n",
       " 144: 9.29417463229018,\n",
       " 1440: 8.888709524182016,\n",
       " 1441: 8.888709524182016,\n",
       " 1442: 8.888709524182016,\n",
       " 1443: 8.195562343622068,\n",
       " 1445: 9.29417463229018,\n",
       " 1446: 8.601027451730232,\n",
       " 1447: 8.601027451730232,\n",
       " 1448: 8.888709524182016,\n",
       " 1449: 7.9078802711702885,\n",
       " 1451: 9.29417463229018,\n",
       " 1452: 8.601027451730232,\n",
       " 1453: 8.888709524182016,\n",
       " 1454: 9.29417463229018,\n",
       " 1456: 8.888709524182016,\n",
       " 1457: 8.888709524182016,\n",
       " 1458: 8.888709524182016,\n",
       " 1459: 8.601027451730232,\n",
       " 146: 9.29417463229018,\n",
       " 1460: 8.195562343622068,\n",
       " 1461: 9.29417463229018,\n",
       " 1462: 8.601027451730232,\n",
       " 1464: 8.601027451730232,\n",
       " 1465: 8.888709524182016,\n",
       " 1466: 8.377883900416023,\n",
       " 1467: 8.195562343622068,\n",
       " 1468: 8.888709524182016,\n",
       " 1469: 8.377883900416023,\n",
       " 147: 9.29417463229018,\n",
       " 1470: 9.29417463229018,\n",
       " 1471: 8.195562343622068,\n",
       " 1472: 9.29417463229018,\n",
       " 1474: 8.601027451730232,\n",
       " 1475: 8.195562343622068,\n",
       " 1476: 8.601027451730232,\n",
       " 1477: 9.29417463229018,\n",
       " 1478: 8.888709524182016,\n",
       " 1479: 9.29417463229018,\n",
       " 1480: 8.601027451730232,\n",
       " 1481: 9.29417463229018,\n",
       " 1482: 8.888709524182016,\n",
       " 1483: 8.888709524182016,\n",
       " 1484: 8.601027451730232,\n",
       " 1485: 8.195562343622068,\n",
       " 1486: 8.601027451730232,\n",
       " 1487: 8.377883900416023,\n",
       " 1488: 8.377883900416023,\n",
       " 1489: 8.601027451730232,\n",
       " 1490: 8.888709524182016,\n",
       " 1491: 9.29417463229018,\n",
       " 1492: 9.29417463229018,\n",
       " 1493: 8.601027451730232,\n",
       " 1494: 8.195562343622068,\n",
       " 1495: 8.601027451730232,\n",
       " 1496: 8.888709524182016,\n",
       " 1498: 8.195562343622068,\n",
       " 1499: 8.888709524182016,\n",
       " 15: 8.888709524182016,\n",
       " 1501: 8.888709524182016,\n",
       " 1502: 8.377883900416023,\n",
       " 1503: 9.29417463229018,\n",
       " 1505: 9.29417463229018,\n",
       " 1506: 9.29417463229018,\n",
       " 1507: 8.888709524182016,\n",
       " 1508: 8.195562343622068,\n",
       " 1509: 9.29417463229018,\n",
       " 1510: 9.29417463229018,\n",
       " 1511: 8.888709524182016,\n",
       " 1512: 8.601027451730232,\n",
       " 1513: 8.601027451730232,\n",
       " 1514: 8.601027451730232,\n",
       " 1515: 9.29417463229018,\n",
       " 1516: 8.888709524182016,\n",
       " 1517: 8.601027451730232,\n",
       " 1518: 8.601027451730232,\n",
       " 1520: 9.29417463229018,\n",
       " 1521: 8.601027451730232,\n",
       " 1522: 9.29417463229018,\n",
       " 1523: 9.29417463229018,\n",
       " 1525: 8.195562343622068,\n",
       " 1526: 9.29417463229018,\n",
       " 1527: 9.29417463229018,\n",
       " 1528: 8.888709524182016,\n",
       " 1529: 8.888709524182016,\n",
       " 1530: 8.601027451730232,\n",
       " 1531: 8.601027451730232,\n",
       " 1532: 8.377883900416023,\n",
       " 1533: 8.601027451730232,\n",
       " 1534: 8.888709524182016,\n",
       " 1535: 8.377883900416023,\n",
       " 1536: 8.601027451730232,\n",
       " 1537: 8.601027451730232,\n",
       " 1538: 8.601027451730232,\n",
       " 1539: 8.888709524182016,\n",
       " 1540: 8.888709524182016,\n",
       " 1541: 8.601027451730232,\n",
       " 1542: 8.601027451730232,\n",
       " 1543: 8.377883900416023,\n",
       " 1545: 8.888709524182016,\n",
       " 1546: 8.888709524182016,\n",
       " 1547: 8.888709524182016,\n",
       " 1549: 8.601027451730232,\n",
       " 155: 9.29417463229018,\n",
       " 1550: 8.195562343622068,\n",
       " 1551: 9.29417463229018,\n",
       " 1552: 9.29417463229018,\n",
       " 1553: 9.29417463229018,\n",
       " 1554: 8.377883900416023,\n",
       " 1555: 9.29417463229018,\n",
       " 1556: 8.377883900416023,\n",
       " 1557: 8.601027451730232,\n",
       " 1558: 8.377883900416023,\n",
       " 1559: 8.888709524182016,\n",
       " 156: 9.29417463229018,\n",
       " 1560: 9.29417463229018,\n",
       " 1561: 8.888709524182016,\n",
       " 1562: 7.9078802711702885,\n",
       " 1564: 8.888709524182016,\n",
       " 1565: 9.29417463229018,\n",
       " 1566: 8.888709524182016,\n",
       " 1567: 8.888709524182016,\n",
       " 1568: 8.377883900416023,\n",
       " 1569: 8.888709524182016,\n",
       " 157: 9.29417463229018,\n",
       " 1570: 8.888709524182016,\n",
       " 1571: 8.377883900416023,\n",
       " 1573: 8.377883900416023,\n",
       " 1574: 9.29417463229018,\n",
       " 1576: 8.601027451730232,\n",
       " 1577: 8.195562343622068,\n",
       " 1579: 8.601027451730232,\n",
       " 158: 9.29417463229018,\n",
       " 1580: 8.195562343622068,\n",
       " 1581: 8.888709524182016,\n",
       " 1582: 8.377883900416023,\n",
       " 1584: 8.601027451730232,\n",
       " 1585: 7.9078802711702885,\n",
       " 1586: 8.888709524182016,\n",
       " 1587: 8.377883900416023,\n",
       " 1588: 8.888709524182016,\n",
       " 1589: 8.601027451730232,\n",
       " 1590: 9.29417463229018,\n",
       " 1591: 8.601027451730232,\n",
       " 1592: 8.601027451730232,\n",
       " 1593: 8.888709524182016,\n",
       " 1595: 8.377883900416023,\n",
       " 1596: 9.29417463229018,\n",
       " 1597: 8.601027451730232,\n",
       " 1598: 8.377883900416023,\n",
       " 1599: 8.888709524182016,\n",
       " 16: 8.888709524182016,\n",
       " 160: 9.29417463229018,\n",
       " 1600: 8.377883900416023,\n",
       " 1601: 8.888709524182016,\n",
       " 1602: 8.888709524182016,\n",
       " 1603: 8.195562343622068,\n",
       " 1604: 9.29417463229018,\n",
       " 1605: 9.29417463229018,\n",
       " 1606: 8.601027451730232,\n",
       " 1607: 8.377883900416023,\n",
       " 1608: 8.888709524182016,\n",
       " 1609: 8.601027451730232,\n",
       " 1610: 8.888709524182016,\n",
       " 1611: 8.195562343622068,\n",
       " 1612: 8.888709524182016,\n",
       " 1613: 8.601027451730232,\n",
       " 1614: 8.888709524182016,\n",
       " 1615: 8.888709524182016,\n",
       " 1616: 8.041411663794811,\n",
       " 1617: 8.377883900416023,\n",
       " 1619: 8.601027451730232,\n",
       " 162: 9.29417463229018,\n",
       " 1620: 9.29417463229018,\n",
       " 1621: 8.377883900416023,\n",
       " 1622: 8.888709524182016,\n",
       " 1623: 9.29417463229018,\n",
       " 1624: 8.888709524182016,\n",
       " 1625: 8.195562343622068,\n",
       " 1626: 9.29417463229018,\n",
       " 1627: 9.29417463229018,\n",
       " 1628: 8.888709524182016,\n",
       " 1629: 8.195562343622068,\n",
       " 1630: 8.888709524182016,\n",
       " 1631: 8.888709524182016,\n",
       " 1632: 8.888709524182016,\n",
       " 1633: 8.888709524182016,\n",
       " 1634: 8.377883900416023,\n",
       " 1635: 8.601027451730232,\n",
       " 1637: 8.601027451730232,\n",
       " 1638: 8.601027451730232,\n",
       " 164: 9.29417463229018,\n",
       " 1640: 9.29417463229018,\n",
       " 1641: 8.601027451730232,\n",
       " 1642: 8.195562343622068,\n",
       " 1643: 8.888709524182016,\n",
       " 1644: 8.377883900416023,\n",
       " 1646: 9.29417463229018,\n",
       " 1647: 8.601027451730232,\n",
       " 1648: 8.041411663794811,\n",
       " 1649: 8.195562343622068,\n",
       " 1650: 8.888709524182016,\n",
       " 1651: 9.29417463229018,\n",
       " 1654: 8.888709524182016,\n",
       " 1655: 8.195562343622068,\n",
       " 1656: 8.377883900416023,\n",
       " 1657: 9.29417463229018,\n",
       " 1658: 9.29417463229018,\n",
       " 1659: 8.888709524182016,\n",
       " 166: 9.29417463229018,\n",
       " 1660: 8.601027451730232,\n",
       " 1661: 8.888709524182016,\n",
       " 1662: 9.29417463229018,\n",
       " 1663: 8.601027451730232,\n",
       " 1664: 8.601027451730232,\n",
       " 1665: 8.377883900416023,\n",
       " 1666: 8.601027451730232,\n",
       " 1667: 8.601027451730232,\n",
       " 1668: 8.888709524182016,\n",
       " 1669: 9.29417463229018,\n",
       " 167: 9.29417463229018,\n",
       " 1670: 9.29417463229018,\n",
       " 1671: 8.601027451730232,\n",
       " 1672: 9.29417463229018,\n",
       " 1673: 8.888709524182016,\n",
       " 1674: 8.601027451730232,\n",
       " 1675: 8.377883900416023,\n",
       " 1676: 8.041411663794811,\n",
       " 1677: 8.888709524182016,\n",
       " 1678: 8.041411663794811,\n",
       " 1679: 9.29417463229018,\n",
       " 1680: 8.888709524182016,\n",
       " 1681: 8.888709524182016,\n",
       " 1682: 9.29417463229018,\n",
       " 1683: 9.29417463229018,\n",
       " 1684: 8.601027451730232,\n",
       " 1686: 9.29417463229018,\n",
       " 1688: 7.790097235513905,\n",
       " 1689: 8.888709524182016,\n",
       " 169: 8.888709524182016,\n",
       " 1690: 8.601027451730232,\n",
       " 1691: 8.888709524182016,\n",
       " 1693: 9.29417463229018,\n",
       " 1694: 9.29417463229018,\n",
       " 1696: 9.29417463229018,\n",
       " 1697: 8.601027451730232,\n",
       " 1698: 8.601027451730232,\n",
       " 1699: 8.601027451730232,\n",
       " 17: 9.29417463229018,\n",
       " 1701: 9.29417463229018,\n",
       " 1702: 8.377883900416023,\n",
       " 1703: 9.29417463229018,\n",
       " 1704: 8.377883900416023,\n",
       " 1705: 8.377883900416023,\n",
       " 1707: 8.601027451730232,\n",
       " 1708: 8.377883900416023,\n",
       " 1709: 8.888709524182016,\n",
       " 171: 9.29417463229018,\n",
       " 1710: 9.29417463229018,\n",
       " 1711: 8.888709524182016,\n",
       " 1712: 8.888709524182016,\n",
       " 1713: 8.888709524182016,\n",
       " 1714: 8.377883900416023,\n",
       " 1716: 8.888709524182016,\n",
       " 1717: 8.377883900416023,\n",
       " 1718: 9.29417463229018,\n",
       " 1719: 7.9078802711702885,\n",
       " 172: 9.29417463229018,\n",
       " 1720: 9.29417463229018,\n",
       " 1721: 9.29417463229018,\n",
       " 1722: 8.601027451730232,\n",
       " 1723: 9.29417463229018,\n",
       " 1724: 8.888709524182016,\n",
       " 1725: 8.041411663794811,\n",
       " 1726: 8.888709524182016,\n",
       " 1727: 9.29417463229018,\n",
       " 1728: 8.888709524182016,\n",
       " 1729: 8.888709524182016,\n",
       " 173: 9.29417463229018,\n",
       " 1730: 8.041411663794811,\n",
       " 1731: 9.29417463229018,\n",
       " 1732: 8.041411663794811,\n",
       " 1733: 8.601027451730232,\n",
       " 1734: 9.29417463229018,\n",
       " 1735: 9.29417463229018,\n",
       " 1736: 8.601027451730232,\n",
       " 1737: 9.29417463229018,\n",
       " 1738: 8.888709524182016,\n",
       " 1739: 8.888709524182016,\n",
       " 174: 8.888709524182016,\n",
       " 1740: 9.29417463229018,\n",
       " 1741: 8.601027451730232,\n",
       " 1742: 8.601027451730232,\n",
       " 1743: 8.601027451730232,\n",
       " 1744: 8.888709524182016,\n",
       " 1745: 9.29417463229018,\n",
       " 1746: 8.601027451730232,\n",
       " 1747: 8.195562343622068,\n",
       " 1748: 8.601027451730232,\n",
       " 1749: 9.29417463229018,\n",
       " 1750: 8.888709524182016,\n",
       " 1751: 9.29417463229018,\n",
       " 1752: 8.195562343622068,\n",
       " 1753: 8.888709524182016,\n",
       " 1754: 9.29417463229018,\n",
       " 1755: 8.601027451730232,\n",
       " 1756: 8.888709524182016,\n",
       " 1757: 8.195562343622068,\n",
       " 1759: 9.29417463229018,\n",
       " 176: 8.888709524182016,\n",
       " 1760: 8.601027451730232,\n",
       " 1761: 8.195562343622068,\n",
       " 1762: 9.29417463229018,\n",
       " 1763: 9.29417463229018,\n",
       " 1764: 9.29417463229018,\n",
       " 1765: 8.888709524182016,\n",
       " 1766: 8.601027451730232,\n",
       " 1767: 9.29417463229018,\n",
       " 1768: 8.041411663794811,\n",
       " 1769: 8.888709524182016,\n",
       " 1770: 8.041411663794811,\n",
       " 1772: 9.29417463229018,\n",
       " 1773: 8.888709524182016,\n",
       " 1774: 9.29417463229018,\n",
       " 1775: 8.888709524182016,\n",
       " 1776: 8.888709524182016,\n",
       " 1777: 9.29417463229018,\n",
       " 1778: 8.888709524182016,\n",
       " 178: 8.888709524182016,\n",
       " 1780: 9.29417463229018,\n",
       " 1781: 8.888709524182016,\n",
       " 1782: 8.601027451730232,\n",
       " 1783: 9.29417463229018,\n",
       " 1784: 8.195562343622068,\n",
       " 1785: 8.601027451730232,\n",
       " 1786: 7.9078802711702885,\n",
       " 1787: 9.29417463229018,\n",
       " 1788: 8.601027451730232,\n",
       " 1789: 9.29417463229018,\n",
       " 1790: 9.29417463229018,\n",
       " 1791: 9.29417463229018,\n",
       " 1792: 8.888709524182016,\n",
       " 1794: 9.29417463229018,\n",
       " 1795: 8.888709524182016,\n",
       " 1796: 9.29417463229018,\n",
       " 1797: 8.888709524182016,\n",
       " 1798: 9.29417463229018,\n",
       " 1799: 8.888709524182016,\n",
       " 18: 9.29417463229018,\n",
       " 1800: 8.888709524182016,\n",
       " 1801: 9.29417463229018,\n",
       " 1802: 9.29417463229018,\n",
       " 1803: 9.29417463229018,\n",
       " 1804: 9.29417463229018,\n",
       " 1805: 8.041411663794811,\n",
       " 1806: 8.601027451730232,\n",
       " 1807: 8.888709524182016,\n",
       " 1808: 8.195562343622068,\n",
       " 181: 9.29417463229018,\n",
       " 1810: 9.29417463229018,\n",
       " 1811: 8.041411663794811,\n",
       " 1812: 8.888709524182016,\n",
       " 1813: 9.29417463229018,\n",
       " 1814: 8.377883900416023,\n",
       " 1815: 8.888709524182016,\n",
       " 1816: 8.195562343622068,\n",
       " 1817: 8.601027451730232,\n",
       " 1818: 8.888709524182016,\n",
       " 1819: 8.888709524182016,\n",
       " 1820: 9.29417463229018,\n",
       " 1821: 9.29417463229018,\n",
       " 1822: 9.29417463229018,\n",
       " 1823: 8.601027451730232,\n",
       " 1825: 8.377883900416023,\n",
       " 1826: 8.888709524182016,\n",
       " 1827: 8.601027451730232,\n",
       " 1828: 8.888709524182016,\n",
       " 1829: 9.29417463229018,\n",
       " 183: 9.29417463229018,\n",
       " 1830: 8.888709524182016,\n",
       " 1831: 8.601027451730232,\n",
       " 1832: 8.601027451730232,\n",
       " 1833: 8.601027451730232,\n",
       " 1835: 8.888709524182016,\n",
       " 1838: 9.29417463229018,\n",
       " 1839: 9.29417463229018,\n",
       " 184: 9.29417463229018,\n",
       " 1840: 8.601027451730232,\n",
       " 1841: 9.29417463229018,\n",
       " 1842: 8.888709524182016,\n",
       " 1843: 9.29417463229018,\n",
       " 1844: 8.888709524182016,\n",
       " 1845: 8.195562343622068,\n",
       " 1846: 8.888709524182016,\n",
       " 1847: 9.29417463229018,\n",
       " 1848: 9.29417463229018,\n",
       " 1849: 8.195562343622068,\n",
       " 1850: 8.888709524182016,\n",
       " 1851: 9.29417463229018,\n",
       " 1852: 8.601027451730232,\n",
       " 1853: 9.29417463229018,\n",
       " 1854: 8.888709524182016,\n",
       " 1855: 8.195562343622068,\n",
       " 1856: 8.888709524182016,\n",
       " 1857: 9.29417463229018,\n",
       " 1858: 9.29417463229018,\n",
       " 1859: 8.601027451730232,\n",
       " 1860: 9.29417463229018,\n",
       " 1861: 8.888709524182016,\n",
       " 1862: 9.29417463229018,\n",
       " 1863: 9.29417463229018,\n",
       " 1864: 8.377883900416023,\n",
       " 1865: 8.195562343622068,\n",
       " 1866: 8.601027451730232,\n",
       " 1867: 9.29417463229018,\n",
       " 1868: 8.888709524182016,\n",
       " 1870: 8.195562343622068,\n",
       " 1871: 9.29417463229018,\n",
       " 1872: 9.29417463229018,\n",
       " 1874: 9.29417463229018,\n",
       " 1875: 9.29417463229018,\n",
       " 1877: 8.377883900416023,\n",
       " 1878: 8.377883900416023,\n",
       " 1879: 8.601027451730232,\n",
       " 188: 9.29417463229018,\n",
       " 1880: 8.601027451730232,\n",
       " 1881: 8.195562343622068,\n",
       " 1882: 9.29417463229018,\n",
       " 1883: 8.888709524182016,\n",
       " 1884: 8.041411663794811,\n",
       " 1885: 8.601027451730232,\n",
       " 1887: 8.041411663794811,\n",
       " 1888: 9.29417463229018,\n",
       " 1889: 9.29417463229018,\n",
       " 189: 8.601027451730232,\n",
       " 1890: 9.29417463229018,\n",
       " 1891: 9.29417463229018,\n",
       " 1892: 9.29417463229018,\n",
       " 1893: 9.29417463229018,\n",
       " 1894: 8.377883900416023,\n",
       " 1895: 8.601027451730232,\n",
       " 1896: 8.377883900416023,\n",
       " 1897: 9.29417463229018,\n",
       " 1898: 8.377883900416023,\n",
       " 1899: 9.29417463229018,\n",
       " 19: 8.601027451730232,\n",
       " 1900: 8.601027451730232,\n",
       " 1901: 8.888709524182016,\n",
       " 1902: 8.601027451730232,\n",
       " 1903: 8.888709524182016,\n",
       " 1906: 8.377883900416023,\n",
       " 1907: 9.29417463229018,\n",
       " 1908: 9.29417463229018,\n",
       " 1909: 8.377883900416023,\n",
       " 191: 9.29417463229018,\n",
       " 1910: 8.601027451730232,\n",
       " 1911: 9.29417463229018,\n",
       " 1912: 8.888709524182016,\n",
       " 1913: 8.888709524182016,\n",
       " 1914: 8.377883900416023,\n",
       " 1915: 9.29417463229018,\n",
       " 1917: 8.601027451730232,\n",
       " 1919: 8.601027451730232,\n",
       " 1920: 8.377883900416023,\n",
       " 1922: 9.29417463229018,\n",
       " 1923: 8.888709524182016,\n",
       " 1924: 8.888709524182016,\n",
       " 1926: 8.888709524182016,\n",
       " 1927: 8.888709524182016,\n",
       " 1928: 9.29417463229018,\n",
       " 1929: 8.888709524182016,\n",
       " 1930: 8.601027451730232,\n",
       " 1931: 8.601027451730232,\n",
       " 1932: 9.29417463229018,\n",
       " 1933: 8.888709524182016,\n",
       " 1934: 8.888709524182016,\n",
       " 1935: 8.195562343622068,\n",
       " 1936: 8.888709524182016,\n",
       " 1937: 8.195562343622068,\n",
       " 1938: 8.888709524182016,\n",
       " 1939: 8.377883900416023,\n",
       " 194: 9.29417463229018,\n",
       " 1940: 8.888709524182016,\n",
       " 1942: 8.377883900416023,\n",
       " 1943: 8.888709524182016,\n",
       " 1944: 8.888709524182016,\n",
       " 1945: 8.888709524182016,\n",
       " 1946: 8.888709524182016,\n",
       " 1947: 9.29417463229018,\n",
       " 1948: 8.888709524182016,\n",
       " 1949: 8.601027451730232,\n",
       " 195: 9.29417463229018,\n",
       " 1950: 7.790097235513905,\n",
       " 1951: 9.29417463229018,\n",
       " 1953: 8.601027451730232,\n",
       " 1954: 9.29417463229018,\n",
       " 1955: 8.377883900416023,\n",
       " 1956: 8.888709524182016,\n",
       " 1957: 8.601027451730232,\n",
       " 1959: 8.601027451730232,\n",
       " 1960: 9.29417463229018,\n",
       " 1962: 8.888709524182016,\n",
       " 1963: 8.377883900416023,\n",
       " 1964: 8.888709524182016,\n",
       " 1965: 8.601027451730232,\n",
       " 1967: 8.888709524182016,\n",
       " 1968: 8.377883900416023,\n",
       " 1970: 8.888709524182016,\n",
       " 1971: 8.601027451730232,\n",
       " 1972: 8.601027451730232,\n",
       " 1973: 8.601027451730232,\n",
       " 1974: 8.377883900416023,\n",
       " 1976: 8.601027451730232,\n",
       " 1977: 8.377883900416023,\n",
       " 1979: 9.29417463229018,\n",
       " 1980: 8.888709524182016,\n",
       " 1982: 9.29417463229018,\n",
       " 1983: 8.601027451730232,\n",
       " 1984: 8.888709524182016,\n",
       " 1985: 8.888709524182016,\n",
       " 1987: 8.888709524182016,\n",
       " 1988: 8.888709524182016,\n",
       " 1989: 8.888709524182016,\n",
       " 1990: 8.377883900416023,\n",
       " 1991: 8.888709524182016,\n",
       " 1992: 8.377883900416023,\n",
       " 1993: 8.377883900416023,\n",
       " 1994: 8.377883900416023,\n",
       " 1995: 9.29417463229018,\n",
       " 1996: 8.601027451730232,\n",
       " 1997: 8.195562343622068,\n",
       " 1998: 9.29417463229018,\n",
       " 1999: 8.601027451730232,\n",
       " 20: 8.601027451730232,\n",
       " 2000: 8.601027451730232,\n",
       " 2001: 8.601027451730232,\n",
       " 2002: 8.601027451730232,\n",
       " 2003: 9.29417463229018,\n",
       " 2004: 8.041411663794811,\n",
       " 2005: 8.377883900416023,\n",
       " 2006: 8.377883900416023,\n",
       " 2007: 9.29417463229018,\n",
       " 2008: 8.601027451730232,\n",
       " 2009: 9.29417463229018,\n",
       " 2010: 8.601027451730232,\n",
       " 2011: 8.601027451730232,\n",
       " 2012: 8.888709524182016,\n",
       " 2013: 9.29417463229018,\n",
       " 2014: 8.888709524182016,\n",
       " 2015: 9.29417463229018,\n",
       " 2016: 8.888709524182016,\n",
       " 2017: 8.888709524182016,\n",
       " 2018: 9.29417463229018,\n",
       " 2019: 8.601027451730232,\n",
       " 202: 9.29417463229018,\n",
       " 2020: 9.29417463229018,\n",
       " 2021: 9.29417463229018,\n",
       " 2022: 9.29417463229018,\n",
       " 2023: 8.377883900416023,\n",
       " 2024: 8.888709524182016,\n",
       " 2026: 9.29417463229018,\n",
       " 2028: 8.601027451730232,\n",
       " 2029: 8.601027451730232,\n",
       " 2030: 8.888709524182016,\n",
       " 2031: 8.601027451730232,\n",
       " 2032: 9.29417463229018,\n",
       " 2034: 8.601027451730232,\n",
       " 2035: 8.888709524182016,\n",
       " 2036: 9.29417463229018,\n",
       " 2037: 9.29417463229018,\n",
       " 2038: 8.888709524182016,\n",
       " 2039: 8.377883900416023,\n",
       " 2040: 8.601027451730232,\n",
       " 2042: 9.29417463229018,\n",
       " ...}"
      ]
     },
     "execution_count": 113,
     "metadata": {},
     "output_type": "execute_result"
    }
   ],
   "source": [
    "idf_dict = dict(zip(ids_of_articles_list, idfs_of_articles))\n",
    "idf_dict"
   ]
  },
  {
   "cell_type": "code",
   "execution_count": 114,
   "id": "e196baed",
   "metadata": {},
   "outputs": [],
   "source": [
    "doc_dict = dict(zip(topic_matrix['doc_id'].values, topic_matrix[['topic_{}'.format(i) for i in range(N_topic)]].values))"
   ]
  },
  {
   "cell_type": "code",
   "execution_count": 115,
   "id": "c78365ea",
   "metadata": {},
   "outputs": [],
   "source": [
    "def get_user_embedding(user_articles_list):\n",
    "    '''\n",
    "    The function receives a list of articles' ids a user read - '[323329, 321961, 324743, 323186, 324632, 474690]'.\n",
    "    It converts it into a list. After this list is converted into an array of arrays of articles' probabilities.\n",
    "    After, the array of arrays is transformed into the array of mean values of probabilities.\n",
    "    '''\n",
    "    user_articles_list = eval(user_articles_list)  # converting string into list\n",
    "    user_vector = np.array([doc_dict[doc_id] * idf_dict[doc_id] for doc_id in user_articles_list if doc_id in idf_dict])  # creation of array of arrays\n",
    "    user_vector = np.mean(user_vector, axis=0)  # creation of array of collumns' maxs\n",
    "    return user_vector"
   ]
  },
  {
   "cell_type": "code",
   "execution_count": 116,
   "id": "1bcfeaa7",
   "metadata": {},
   "outputs": [
    {
     "data": {
      "text/html": [
       "<div>\n",
       "<style scoped>\n",
       "    .dataframe tbody tr th:only-of-type {\n",
       "        vertical-align: middle;\n",
       "    }\n",
       "\n",
       "    .dataframe tbody tr th {\n",
       "        vertical-align: top;\n",
       "    }\n",
       "\n",
       "    .dataframe thead th {\n",
       "        text-align: right;\n",
       "    }\n",
       "</style>\n",
       "<table border=\"1\" class=\"dataframe\">\n",
       "  <thead>\n",
       "    <tr style=\"text-align: right;\">\n",
       "      <th></th>\n",
       "      <th>uid</th>\n",
       "      <th>topic_0</th>\n",
       "      <th>topic_1</th>\n",
       "      <th>topic_2</th>\n",
       "      <th>topic_3</th>\n",
       "      <th>topic_4</th>\n",
       "      <th>topic_5</th>\n",
       "      <th>topic_6</th>\n",
       "      <th>topic_7</th>\n",
       "      <th>topic_8</th>\n",
       "      <th>...</th>\n",
       "      <th>topic_15</th>\n",
       "      <th>topic_16</th>\n",
       "      <th>topic_17</th>\n",
       "      <th>topic_18</th>\n",
       "      <th>topic_19</th>\n",
       "      <th>topic_20</th>\n",
       "      <th>topic_21</th>\n",
       "      <th>topic_22</th>\n",
       "      <th>topic_23</th>\n",
       "      <th>topic_24</th>\n",
       "    </tr>\n",
       "  </thead>\n",
       "  <tbody>\n",
       "    <tr>\n",
       "      <th>0</th>\n",
       "      <td>u105138</td>\n",
       "      <td>0.227600</td>\n",
       "      <td>0.00000</td>\n",
       "      <td>0.0</td>\n",
       "      <td>0.083621</td>\n",
       "      <td>0.842878</td>\n",
       "      <td>0.977517</td>\n",
       "      <td>0.540762</td>\n",
       "      <td>0.202353</td>\n",
       "      <td>0.000000</td>\n",
       "      <td>...</td>\n",
       "      <td>0.458120</td>\n",
       "      <td>0.347812</td>\n",
       "      <td>0.000000</td>\n",
       "      <td>0.109011</td>\n",
       "      <td>0.000000</td>\n",
       "      <td>0.382268</td>\n",
       "      <td>0.589055</td>\n",
       "      <td>0.266307</td>\n",
       "      <td>0.178544</td>\n",
       "      <td>0.145996</td>\n",
       "    </tr>\n",
       "    <tr>\n",
       "      <th>1</th>\n",
       "      <td>u108690</td>\n",
       "      <td>0.148567</td>\n",
       "      <td>0.01611</td>\n",
       "      <td>0.0</td>\n",
       "      <td>0.188675</td>\n",
       "      <td>0.056871</td>\n",
       "      <td>1.000630</td>\n",
       "      <td>0.302715</td>\n",
       "      <td>0.056708</td>\n",
       "      <td>0.074241</td>\n",
       "      <td>...</td>\n",
       "      <td>1.248297</td>\n",
       "      <td>0.662386</td>\n",
       "      <td>0.083259</td>\n",
       "      <td>0.243665</td>\n",
       "      <td>0.063286</td>\n",
       "      <td>0.287787</td>\n",
       "      <td>0.804303</td>\n",
       "      <td>0.410863</td>\n",
       "      <td>0.000000</td>\n",
       "      <td>0.253522</td>\n",
       "    </tr>\n",
       "  </tbody>\n",
       "</table>\n",
       "<p>2 rows × 26 columns</p>\n",
       "</div>"
      ],
      "text/plain": [
       "       uid   topic_0  topic_1  topic_2   topic_3   topic_4   topic_5  \\\n",
       "0  u105138  0.227600  0.00000      0.0  0.083621  0.842878  0.977517   \n",
       "1  u108690  0.148567  0.01611      0.0  0.188675  0.056871  1.000630   \n",
       "\n",
       "    topic_6   topic_7   topic_8  ...  topic_15  topic_16  topic_17  topic_18  \\\n",
       "0  0.540762  0.202353  0.000000  ...  0.458120  0.347812  0.000000  0.109011   \n",
       "1  0.302715  0.056708  0.074241  ...  1.248297  0.662386  0.083259  0.243665   \n",
       "\n",
       "   topic_19  topic_20  topic_21  topic_22  topic_23  topic_24  \n",
       "0  0.000000  0.382268  0.589055  0.266307  0.178544  0.145996  \n",
       "1  0.063286  0.287787  0.804303  0.410863  0.000000  0.253522  \n",
       "\n",
       "[2 rows x 26 columns]"
      ]
     },
     "execution_count": 116,
     "metadata": {},
     "output_type": "execute_result"
    }
   ],
   "source": [
    "user_embeddings = pd.DataFrame([i for i in users['articles'].apply(lambda x: get_user_embedding(x), 1)])\n",
    "user_embeddings.columns = ['topic_{}'.format(i) for i in range(N_topic)]\n",
    "user_embeddings['uid'] = users['uid'].values\n",
    "user_embeddings = user_embeddings[['uid']+['topic_{}'.format(i) for i in range(N_topic)]]\n",
    "user_embeddings.head(2)"
   ]
  },
  {
   "cell_type": "code",
   "execution_count": 117,
   "id": "e9d06160",
   "metadata": {},
   "outputs": [],
   "source": [
    "target = pd.read_csv(\"lesson_2_profiling_user_LDA/users_churn.csv\")"
   ]
  },
  {
   "cell_type": "code",
   "execution_count": 118,
   "id": "471a6d7b",
   "metadata": {},
   "outputs": [],
   "source": [
    "X = pd.merge(user_embeddings, target, 'left')"
   ]
  },
  {
   "cell_type": "code",
   "execution_count": 119,
   "id": "1f5ec0f6",
   "metadata": {},
   "outputs": [],
   "source": [
    "X_train, X_test, y_train, y_test = train_test_split(X[['topic_{}'.format(i) for i in range(N_topic)]], \n",
    "                                                    X['churn'], random_state=0)"
   ]
  },
  {
   "cell_type": "code",
   "execution_count": 120,
   "id": "a8ba7723",
   "metadata": {},
   "outputs": [],
   "source": [
    "logreg = LogisticRegression()"
   ]
  },
  {
   "cell_type": "code",
   "execution_count": 121,
   "id": "81775263",
   "metadata": {},
   "outputs": [
    {
     "data": {
      "text/html": [
       "<style>#sk-container-id-6 {color: black;background-color: white;}#sk-container-id-6 pre{padding: 0;}#sk-container-id-6 div.sk-toggleable {background-color: white;}#sk-container-id-6 label.sk-toggleable__label {cursor: pointer;display: block;width: 100%;margin-bottom: 0;padding: 0.3em;box-sizing: border-box;text-align: center;}#sk-container-id-6 label.sk-toggleable__label-arrow:before {content: \"▸\";float: left;margin-right: 0.25em;color: #696969;}#sk-container-id-6 label.sk-toggleable__label-arrow:hover:before {color: black;}#sk-container-id-6 div.sk-estimator:hover label.sk-toggleable__label-arrow:before {color: black;}#sk-container-id-6 div.sk-toggleable__content {max-height: 0;max-width: 0;overflow: hidden;text-align: left;background-color: #f0f8ff;}#sk-container-id-6 div.sk-toggleable__content pre {margin: 0.2em;color: black;border-radius: 0.25em;background-color: #f0f8ff;}#sk-container-id-6 input.sk-toggleable__control:checked~div.sk-toggleable__content {max-height: 200px;max-width: 100%;overflow: auto;}#sk-container-id-6 input.sk-toggleable__control:checked~label.sk-toggleable__label-arrow:before {content: \"▾\";}#sk-container-id-6 div.sk-estimator input.sk-toggleable__control:checked~label.sk-toggleable__label {background-color: #d4ebff;}#sk-container-id-6 div.sk-label input.sk-toggleable__control:checked~label.sk-toggleable__label {background-color: #d4ebff;}#sk-container-id-6 input.sk-hidden--visually {border: 0;clip: rect(1px 1px 1px 1px);clip: rect(1px, 1px, 1px, 1px);height: 1px;margin: -1px;overflow: hidden;padding: 0;position: absolute;width: 1px;}#sk-container-id-6 div.sk-estimator {font-family: monospace;background-color: #f0f8ff;border: 1px dotted black;border-radius: 0.25em;box-sizing: border-box;margin-bottom: 0.5em;}#sk-container-id-6 div.sk-estimator:hover {background-color: #d4ebff;}#sk-container-id-6 div.sk-parallel-item::after {content: \"\";width: 100%;border-bottom: 1px solid gray;flex-grow: 1;}#sk-container-id-6 div.sk-label:hover label.sk-toggleable__label {background-color: #d4ebff;}#sk-container-id-6 div.sk-serial::before {content: \"\";position: absolute;border-left: 1px solid gray;box-sizing: border-box;top: 0;bottom: 0;left: 50%;z-index: 0;}#sk-container-id-6 div.sk-serial {display: flex;flex-direction: column;align-items: center;background-color: white;padding-right: 0.2em;padding-left: 0.2em;position: relative;}#sk-container-id-6 div.sk-item {position: relative;z-index: 1;}#sk-container-id-6 div.sk-parallel {display: flex;align-items: stretch;justify-content: center;background-color: white;position: relative;}#sk-container-id-6 div.sk-item::before, #sk-container-id-6 div.sk-parallel-item::before {content: \"\";position: absolute;border-left: 1px solid gray;box-sizing: border-box;top: 0;bottom: 0;left: 50%;z-index: -1;}#sk-container-id-6 div.sk-parallel-item {display: flex;flex-direction: column;z-index: 1;position: relative;background-color: white;}#sk-container-id-6 div.sk-parallel-item:first-child::after {align-self: flex-end;width: 50%;}#sk-container-id-6 div.sk-parallel-item:last-child::after {align-self: flex-start;width: 50%;}#sk-container-id-6 div.sk-parallel-item:only-child::after {width: 0;}#sk-container-id-6 div.sk-dashed-wrapped {border: 1px dashed gray;margin: 0 0.4em 0.5em 0.4em;box-sizing: border-box;padding-bottom: 0.4em;background-color: white;}#sk-container-id-6 div.sk-label label {font-family: monospace;font-weight: bold;display: inline-block;line-height: 1.2em;}#sk-container-id-6 div.sk-label-container {text-align: center;}#sk-container-id-6 div.sk-container {/* jupyter's `normalize.less` sets `[hidden] { display: none; }` but bootstrap.min.css set `[hidden] { display: none !important; }` so we also need the `!important` here to be able to override the default hidden behavior on the sphinx rendered scikit-learn.org. See: https://github.com/scikit-learn/scikit-learn/issues/21755 */display: inline-block !important;position: relative;}#sk-container-id-6 div.sk-text-repr-fallback {display: none;}</style><div id=\"sk-container-id-6\" class=\"sk-top-container\"><div class=\"sk-text-repr-fallback\"><pre>LogisticRegression()</pre><b>In a Jupyter environment, please rerun this cell to show the HTML representation or trust the notebook. <br />On GitHub, the HTML representation is unable to render, please try loading this page with nbviewer.org.</b></div><div class=\"sk-container\" hidden><div class=\"sk-item\"><div class=\"sk-estimator sk-toggleable\"><input class=\"sk-toggleable__control sk-hidden--visually\" id=\"sk-estimator-id-6\" type=\"checkbox\" checked><label for=\"sk-estimator-id-6\" class=\"sk-toggleable__label sk-toggleable__label-arrow\">LogisticRegression</label><div class=\"sk-toggleable__content\"><pre>LogisticRegression()</pre></div></div></div></div></div>"
      ],
      "text/plain": [
       "LogisticRegression()"
      ]
     },
     "execution_count": 121,
     "metadata": {},
     "output_type": "execute_result"
    }
   ],
   "source": [
    "logreg.fit(X_train, y_train)"
   ]
  },
  {
   "cell_type": "code",
   "execution_count": 122,
   "id": "470a8ef4",
   "metadata": {},
   "outputs": [],
   "source": [
    "preds = logreg.predict_proba(X_test)[:, 1]"
   ]
  },
  {
   "cell_type": "code",
   "execution_count": 123,
   "id": "c5d890de",
   "metadata": {},
   "outputs": [],
   "source": [
    "from sklearn.metrics import f1_score, roc_auc_score, precision_score, classification_report, \\\n",
    "                            precision_recall_curve, confusion_matrix"
   ]
  },
  {
   "cell_type": "code",
   "execution_count": 124,
   "id": "abc67fbd",
   "metadata": {},
   "outputs": [
    {
     "name": "stdout",
     "output_type": "stream",
     "text": [
      "Best Threshold=0.470567, F-Score=0.919, Precision=0.912, Recall=0.927\n"
     ]
    }
   ],
   "source": [
    "precision, recall, thresholds = precision_recall_curve(y_test, preds)\n",
    "fscore = (2 * precision * recall) / (precision + recall)\n",
    "\n",
    "# locate the index of the largest f-score\n",
    "ix = np.argmax(fscore)\n",
    "print('Best Threshold=%f, F-Score=%.3f, Precision=%.3f, Recall=%.3f' % (thresholds[ix], \n",
    "                                                                        fscore[ix],\n",
    "                                                                        precision[ix],\n",
    "                                                                        recall[ix]))"
   ]
  },
  {
   "cell_type": "code",
   "execution_count": 125,
   "id": "d907c826",
   "metadata": {},
   "outputs": [
    {
     "name": "stdout",
     "output_type": "stream",
     "text": [
      "Confusion matrix, without normalization\n",
      "[[1733   22]\n",
      " [  19  226]]\n"
     ]
    },
    {
     "data": {
      "image/png": "[encoded data removed]",
      "text/plain": [
       "<Figure size 720x576 with 2 Axes>"
      ]
     },
     "metadata": {
      "needs_background": "light"
     },
     "output_type": "display_data"
    }
   ],
   "source": [
    "font = {'size' : 15}\n",
    "\n",
    "plt.rc('font', **font)\n",
    "\n",
    "cnf_matrix = confusion_matrix(y_test, preds > thresholds[ix])\n",
    "plt.figure(figsize=(10, 8))\n",
    "plot_confusion_matrix(cnf_matrix, classes=['non-churn', 'churn'],\n",
    "                      title='Confusion matrix')\n",
    "# plt.savefig(\"conf_matrix.png\")\n",
    "plt.show()"
   ]
  },
  {
   "cell_type": "code",
   "execution_count": 126,
   "id": "a4cb0d85",
   "metadata": {},
   "outputs": [
    {
     "data": {
      "text/plain": [
       "0.9952764695621839"
      ]
     },
     "execution_count": 126,
     "metadata": {},
     "output_type": "execute_result"
    }
   ],
   "source": [
    "roc_auc_score(y_test, preds)"
   ]
  },
  {
   "cell_type": "code",
   "execution_count": 127,
   "id": "48741433",
   "metadata": {},
   "outputs": [],
   "source": [
    "metrics_lda_idf_mean_embedding = [fscore[ix], precision[ix], recall[ix], roc_auc_score(y_test, preds)]"
   ]
  },
  {
   "cell_type": "code",
   "execution_count": null,
   "id": "585b68e0",
   "metadata": {},
   "outputs": [],
   "source": []
  },
  {
   "cell_type": "code",
   "execution_count": null,
   "id": "e6952fe6",
   "metadata": {},
   "outputs": [],
   "source": []
  },
  {
   "cell_type": "code",
   "execution_count": null,
   "id": "2bdf2527",
   "metadata": {},
   "outputs": [],
   "source": []
  },
  {
   "cell_type": "markdown",
   "id": "111bd044",
   "metadata": {},
   "source": [
    "### Задание 5\n",
    "\n",
    "Сформировать на выходе единую таблицу, сравнивающую качество 4 разных методов получения эмбедингов пользователей: mean, median, max, idf_mean по метрикам roc_auc, precision, recall, f_score"
   ]
  },
  {
   "cell_type": "markdown",
   "id": "8298638d",
   "metadata": {},
   "source": [
    "### table of metrics"
   ]
  },
  {
   "cell_type": "code",
   "execution_count": 128,
   "id": "4b253844",
   "metadata": {},
   "outputs": [
    {
     "data": {
      "text/html": [
       "<div>\n",
       "<style scoped>\n",
       "    .dataframe tbody tr th:only-of-type {\n",
       "        vertical-align: middle;\n",
       "    }\n",
       "\n",
       "    .dataframe tbody tr th {\n",
       "        vertical-align: top;\n",
       "    }\n",
       "\n",
       "    .dataframe thead th {\n",
       "        text-align: right;\n",
       "    }\n",
       "</style>\n",
       "<table border=\"1\" class=\"dataframe\">\n",
       "  <thead>\n",
       "    <tr style=\"text-align: right;\">\n",
       "      <th></th>\n",
       "      <th>fscore</th>\n",
       "      <th>precision</th>\n",
       "      <th>recall</th>\n",
       "      <th>roc_auc_score</th>\n",
       "    </tr>\n",
       "  </thead>\n",
       "  <tbody>\n",
       "    <tr>\n",
       "      <th>metrics_lda_mean_embedding</th>\n",
       "      <td>0.831601</td>\n",
       "      <td>0.847458</td>\n",
       "      <td>0.816327</td>\n",
       "      <td>0.983269</td>\n",
       "    </tr>\n",
       "    <tr>\n",
       "      <th>metrics_lda_median_embedding</th>\n",
       "      <td>0.822581</td>\n",
       "      <td>0.812749</td>\n",
       "      <td>0.832653</td>\n",
       "      <td>0.981271</td>\n",
       "    </tr>\n",
       "    <tr>\n",
       "      <th>metrics_lda_max_embedding</th>\n",
       "      <td>0.818372</td>\n",
       "      <td>0.837607</td>\n",
       "      <td>0.800000</td>\n",
       "      <td>0.982411</td>\n",
       "    </tr>\n",
       "    <tr>\n",
       "      <th>metrics_lda_idf_mean_embedding</th>\n",
       "      <td>0.919028</td>\n",
       "      <td>0.911647</td>\n",
       "      <td>0.926531</td>\n",
       "      <td>0.995276</td>\n",
       "    </tr>\n",
       "    <tr>\n",
       "      <th>metrics_tfidf_mean_embedding</th>\n",
       "      <td>0.983806</td>\n",
       "      <td>0.975904</td>\n",
       "      <td>0.991837</td>\n",
       "      <td>0.999856</td>\n",
       "    </tr>\n",
       "  </tbody>\n",
       "</table>\n",
       "</div>"
      ],
      "text/plain": [
       "                                  fscore  precision    recall  roc_auc_score\n",
       "metrics_lda_mean_embedding      0.831601   0.847458  0.816327       0.983269\n",
       "metrics_lda_median_embedding    0.822581   0.812749  0.832653       0.981271\n",
       "metrics_lda_max_embedding       0.818372   0.837607  0.800000       0.982411\n",
       "metrics_lda_idf_mean_embedding  0.919028   0.911647  0.926531       0.995276\n",
       "metrics_tfidf_mean_embedding    0.983806   0.975904  0.991837       0.999856"
      ]
     },
     "execution_count": 128,
     "metadata": {},
     "output_type": "execute_result"
    }
   ],
   "source": [
    "pd.DataFrame({\n",
    "    'metrics_lda_mean_embedding': metrics_lda_mean_embedding,\n",
    "    'metrics_lda_median_embedding': metrics_lda_median_embedding,\n",
    "    'metrics_lda_max_embedding': metrics_lda_max_embedding,\n",
    "    'metrics_lda_idf_mean_embedding': metrics_lda_idf_mean_embedding,\n",
    "    'metrics_tfidf_mean_embedding': metrics_tfidf_mean_embedding  # the way I invented it!!!\n",
    "}, index=['fscore', 'precision', 'recall', 'roc_auc_score']).transpose()"
   ]
  },
  {
   "cell_type": "code",
   "execution_count": null,
   "id": "708dabe7",
   "metadata": {},
   "outputs": [],
   "source": []
  },
  {
   "cell_type": "code",
   "execution_count": null,
   "id": "b5309cc9",
   "metadata": {},
   "outputs": [],
   "source": []
  },
  {
   "cell_type": "code",
   "execution_count": null,
   "id": "ad622eab",
   "metadata": {},
   "outputs": [],
   "source": []
  },
  {
   "cell_type": "markdown",
   "id": "edcebbd3",
   "metadata": {},
   "source": [
    "### Задание 6\n",
    "\n",
    "Сделать самостоятельные выводы и предположения о том, почему тот или ной способ оказался эффективнее остальных"
   ]
  },
  {
   "cell_type": "code",
   "execution_count": null,
   "id": "9e37f80f",
   "metadata": {},
   "outputs": [],
   "source": []
  },
  {
   "cell_type": "markdown",
   "id": "70e74de5",
   "metadata": {},
   "source": [
    "1. Подход со взвешиванием статей по IDF в дополнение к LDA подходу улучшил метрику (fscore=0.919028), но TF-IDF подход моей разработки показал себя практически идеально по метрикам (fscore=0.983806), чем всё остальное. Возможно, в том числе, из-за большего количества сгенерированных признаков (100 в TF-IDF против 25 в LDA).\n",
    "2. Добавление гиперпараметра passes=10 при инициализации LdaModel (LDA подход) существенно улучшило метрики по сравнению с passes=1 по дефолту.\n",
    "3. embedding-и с np.mean и np.median в LDA подходе дали метрики слабее, чем с np.max. Скорее всего, np.max делает более 'выразительные' координаты объектов пользователей в пространстве признаков, тем самым помогая сформировать более лучшую разделяющую гиперплоскость."
   ]
  },
  {
   "cell_type": "code",
   "execution_count": null,
   "id": "57445656",
   "metadata": {},
   "outputs": [],
   "source": []
  },
  {
   "cell_type": "markdown",
   "id": "c11ec793",
   "metadata": {},
   "source": [
    "PS: было очень интересно!"
   ]
  },
  {
   "cell_type": "code",
   "execution_count": null,
   "id": "bd75230a",
   "metadata": {},
   "outputs": [],
   "source": []
  }
 ],
 "metadata": {
  "kernelspec": {
   "display_name": "Python 3 (ipykernel)",
   "language": "python",
   "name": "python3"
  },
  "language_info": {
   "codemirror_mode": {
    "name": "ipython",
    "version": 3
   },
   "file_extension": ".py",
   "mimetype": "text/x-python",
   "name": "python",
   "nbconvert_exporter": "python",
   "pygments_lexer": "ipython3",
   "version": "3.9.7"
  }
 },
 "nbformat": 4,
 "nbformat_minor": 5
}
