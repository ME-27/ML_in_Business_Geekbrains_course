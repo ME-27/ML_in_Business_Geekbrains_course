{
 "cells": [
  {
   "cell_type": "markdown",
   "id": "ed6701a7",
   "metadata": {},
   "source": [
    "# Домашнее задание № 2"
   ]
  },
  {
   "cell_type": "markdown",
   "id": "2ada4553",
   "metadata": {},
   "source": [
    "## по дисциплине: Машинное обучение в бизнесе"
   ]
  },
  {
   "cell_type": "markdown",
   "id": "b18ca035",
   "metadata": {},
   "source": [
    "### выполнил: Евгений Кириллов"
   ]
  },
  {
   "cell_type": "code",
   "execution_count": null,
   "id": "5788d5e3",
   "metadata": {},
   "outputs": [],
   "source": []
  },
  {
   "cell_type": "markdown",
   "id": "81bcbd87",
   "metadata": {},
   "source": [
    "### Домашнее задание"
   ]
  },
  {
   "cell_type": "markdown",
   "id": "8e94b460",
   "metadata": {},
   "source": [
    "1. Самостоятельно разобраться с тем, что такое tfidf (документация https://scikit-learn.org/stable/modules/generated/sklearn.feature_extraction.text.TfidfVectorizer.html и еще - https://scikit-learn.org/stable/modules/feature_extraction.html#text-feature-extraction)\n",
    "2. Модифицировать код функции get_user_embedding таким образом, чтобы считалось не среднее (как в примере np.mean), а медиана. Применить такое преобразование к данным, обучить модель прогнозирования оттока и посчитать метрики качества и сохранить их: roc auc, precision/recall/f_score (для 3 последних - подобрать оптимальный порог с помощью precision_recall_curve, как это делалось на уроке)\n",
    "3. Повторить п.2, но используя уже не медиану, а max\n",
    "4. (опциональное) Воспользовавшись полученными знаниями из п.1, повторить пункт 2, но уже взвешивая новости по tfidf (подсказка: нужно получить веса-коэффициенты для каждого документа. Не все документы одинаково информативны и несут какой-то положительный сигнал). Подсказка 2 - нужен именно idf, как вес.\n",
    "5. Сформировать на выходе единую таблицу, сравнивающую качество 4 разных методов получения эмбедингов пользователей: mean, median, max, idf_mean по метрикам roc_auc, precision, recall, f_score\n",
    "6. Сделать самостоятельные выводы и предположения о том, почему тот или ной способ оказался эффективнее остальных"
   ]
  },
  {
   "cell_type": "code",
   "execution_count": null,
   "id": "ef639374",
   "metadata": {},
   "outputs": [],
   "source": []
  },
  {
   "cell_type": "code",
   "execution_count": 1,
   "id": "94def673",
   "metadata": {},
   "outputs": [],
   "source": [
    "# !pip install gensim\n",
    "# !pip install razdel\n",
    "# !pip install pymorphy2\n",
    "# !pip install nltk"
   ]
  },
  {
   "cell_type": "code",
   "execution_count": 2,
   "id": "4a356833",
   "metadata": {},
   "outputs": [],
   "source": [
    "import pandas as pd\n",
    "import numpy as np\n",
    "\n",
    "import re\n",
    "import nltk  # required to download stopwords - nltk.download('stopwords')\n",
    "import pymorphy2  # required for normalization of words\n",
    "\n",
    "from nltk.corpus import stopwords  # required to upload stopwords\n",
    "from gensim.corpora.dictionary import Dictionary  # required to create dictionary\n",
    "from razdel import tokenize  # required to tokenize a text - transform them into a list of words"
   ]
  },
  {
   "cell_type": "markdown",
   "id": "07ebed8c",
   "metadata": {},
   "source": [
    "### uploading dataframe of articles"
   ]
  },
  {
   "cell_type": "code",
   "execution_count": 3,
   "id": "f473007d",
   "metadata": {},
   "outputs": [
    {
     "name": "stdout",
     "output_type": "stream",
     "text": [
      "(27000, 2)\n"
     ]
    },
    {
     "data": {
      "text/html": [
       "<div>\n",
       "<style scoped>\n",
       "    .dataframe tbody tr th:only-of-type {\n",
       "        vertical-align: middle;\n",
       "    }\n",
       "\n",
       "    .dataframe tbody tr th {\n",
       "        vertical-align: top;\n",
       "    }\n",
       "\n",
       "    .dataframe thead th {\n",
       "        text-align: right;\n",
       "    }\n",
       "</style>\n",
       "<table border=\"1\" class=\"dataframe\">\n",
       "  <thead>\n",
       "    <tr style=\"text-align: right;\">\n",
       "      <th></th>\n",
       "      <th>doc_id</th>\n",
       "      <th>title</th>\n",
       "    </tr>\n",
       "  </thead>\n",
       "  <tbody>\n",
       "    <tr>\n",
       "      <th>0</th>\n",
       "      <td>6</td>\n",
       "      <td>Заместитель председателяnправительства РФnСерг...</td>\n",
       "    </tr>\n",
       "    <tr>\n",
       "      <th>1</th>\n",
       "      <td>4896</td>\n",
       "      <td>Матч 1/16 финала Кубка России по футболу был п...</td>\n",
       "    </tr>\n",
       "    <tr>\n",
       "      <th>2</th>\n",
       "      <td>4897</td>\n",
       "      <td>Форвард «Авангарда» Томаш Заборский прокоммент...</td>\n",
       "    </tr>\n",
       "  </tbody>\n",
       "</table>\n",
       "</div>"
      ],
      "text/plain": [
       "   doc_id                                              title\n",
       "0       6  Заместитель председателяnправительства РФnСерг...\n",
       "1    4896  Матч 1/16 финала Кубка России по футболу был п...\n",
       "2    4897  Форвард «Авангарда» Томаш Заборский прокоммент..."
      ]
     },
     "execution_count": 3,
     "metadata": {},
     "output_type": "execute_result"
    }
   ],
   "source": [
    "news = pd.read_csv(\"lesson_2_profiling_user_LDA/materials.csv\")\n",
    "print(news.shape)\n",
    "news.head(3)"
   ]
  },
  {
   "cell_type": "markdown",
   "id": "9f613df8",
   "metadata": {},
   "source": [
    "### uploading dataframe of users"
   ]
  },
  {
   "cell_type": "code",
   "execution_count": 4,
   "id": "ceef07b0",
   "metadata": {},
   "outputs": [
    {
     "name": "stdout",
     "output_type": "stream",
     "text": [
      "(8000, 2)\n"
     ]
    },
    {
     "data": {
      "text/html": [
       "<div>\n",
       "<style scoped>\n",
       "    .dataframe tbody tr th:only-of-type {\n",
       "        vertical-align: middle;\n",
       "    }\n",
       "\n",
       "    .dataframe tbody tr th {\n",
       "        vertical-align: top;\n",
       "    }\n",
       "\n",
       "    .dataframe thead th {\n",
       "        text-align: right;\n",
       "    }\n",
       "</style>\n",
       "<table border=\"1\" class=\"dataframe\">\n",
       "  <thead>\n",
       "    <tr style=\"text-align: right;\">\n",
       "      <th></th>\n",
       "      <th>uid</th>\n",
       "      <th>articles</th>\n",
       "    </tr>\n",
       "  </thead>\n",
       "  <tbody>\n",
       "    <tr>\n",
       "      <th>0</th>\n",
       "      <td>u105138</td>\n",
       "      <td>[293672, 293328, 293001, 293622, 293126, 1852]</td>\n",
       "    </tr>\n",
       "    <tr>\n",
       "      <th>1</th>\n",
       "      <td>u108690</td>\n",
       "      <td>[3405, 1739, 2972, 1158, 1599, 322665]</td>\n",
       "    </tr>\n",
       "    <tr>\n",
       "      <th>2</th>\n",
       "      <td>u108339</td>\n",
       "      <td>[1845, 2009, 2356, 1424, 2939, 323389]</td>\n",
       "    </tr>\n",
       "  </tbody>\n",
       "</table>\n",
       "</div>"
      ],
      "text/plain": [
       "       uid                                        articles\n",
       "0  u105138  [293672, 293328, 293001, 293622, 293126, 1852]\n",
       "1  u108690          [3405, 1739, 2972, 1158, 1599, 322665]\n",
       "2  u108339          [1845, 2009, 2356, 1424, 2939, 323389]"
      ]
     },
     "execution_count": 4,
     "metadata": {},
     "output_type": "execute_result"
    }
   ],
   "source": [
    "users = pd.read_csv(\"lesson_2_profiling_user_LDA/users_articles.csv\")\n",
    "print(users.shape)\n",
    "users.head(3)"
   ]
  },
  {
   "cell_type": "markdown",
   "id": "4f34b911",
   "metadata": {},
   "source": [
    "## PART 1 - Vectors of Articles"
   ]
  },
  {
   "cell_type": "markdown",
   "id": "fd8cd876",
   "metadata": {},
   "source": [
    "### downloading stopwords"
   ]
  },
  {
   "cell_type": "code",
   "execution_count": 5,
   "id": "d0ebb115",
   "metadata": {},
   "outputs": [
    {
     "name": "stderr",
     "output_type": "stream",
     "text": [
      "[nltk_data] Downloading package stopwords to\n",
      "[nltk_data]     C:\\Users\\fross\\AppData\\Roaming\\nltk_data...\n",
      "[nltk_data]   Package stopwords is already up-to-date!\n"
     ]
    },
    {
     "data": {
      "text/plain": [
       "True"
      ]
     },
     "execution_count": 5,
     "metadata": {},
     "output_type": "execute_result"
    }
   ],
   "source": [
    "nltk.download('stopwords')"
   ]
  },
  {
   "cell_type": "code",
   "execution_count": 6,
   "id": "59de815f",
   "metadata": {},
   "outputs": [
    {
     "name": "stdout",
     "output_type": "stream",
     "text": [
      "['и', 'в', 'во', 'не', 'что', 'он', 'на', 'я', 'с', 'со']\n",
      "151\n"
     ]
    }
   ],
   "source": [
    "stopword_ru = stopwords.words('russian')\n",
    "print(stopword_ru[:10])\n",
    "print(len(stopword_ru))"
   ]
  },
  {
   "cell_type": "markdown",
   "id": "db3d5505",
   "metadata": {},
   "source": [
    "### adding additional stopwards from file"
   ]
  },
  {
   "cell_type": "code",
   "execution_count": 7,
   "id": "ca9cc3a7",
   "metadata": {},
   "outputs": [
    {
     "name": "stdout",
     "output_type": "stream",
     "text": [
      "['сообщает_риа_\"новости\"', 'передает_риа_\"новости\"', 'понедельник', 'вторник', 'среда', 'четверг', 'пятница', 'суббота', 'воскресенье', 'сообщил_журналист']\n"
     ]
    },
    {
     "data": {
      "text/plain": [
       "415"
      ]
     },
     "execution_count": 7,
     "metadata": {},
     "output_type": "execute_result"
    }
   ],
   "source": [
    "with open('lesson_2_profiling_user_LDA/stopwords_additional_russian.txt', encoding=\"utf8\") as f:\n",
    "    additional_stopwords = [w.strip() for w in f.readlines() if w]\n",
    "stopword_ru += additional_stopwords\n",
    "print(stopword_ru[-10:])\n",
    "len(stopword_ru)"
   ]
  },
  {
   "cell_type": "markdown",
   "id": "49bfb88c",
   "metadata": {},
   "source": [
    "### function to clean a text from special symbols"
   ]
  },
  {
   "cell_type": "code",
   "execution_count": 8,
   "id": "6b6f8a28",
   "metadata": {},
   "outputs": [],
   "source": [
    "def clean_text(text):\n",
    "    '''\n",
    "    очистка текста\n",
    "    на выходе очищеный текст\n",
    "    '''\n",
    "    \n",
    "    if not isinstance(text, str):\n",
    "        text = str(text)\n",
    "    \n",
    "    text = text.lower()\n",
    "    text = text.strip('\\n').strip('\\r').strip('\\t')\n",
    "    text = re.sub(\"-\\s\\r\\n\\|-\\s\\r\\n|\\r\\n\", '', str(text))\n",
    "\n",
    "    text = re.sub(\"[0-9]|[-—.,:;_%©«»?*!@#№$^'•·&()]|[+=]|[[]|[]]|[/]|\", '', text)\n",
    "    text = re.sub(r\"\\r\\n\\t|\\n|\\\\s|\\r\\t|\\\\n\", ' ', text)\n",
    "    text = re.sub(r'[\\xad]|[\\s+]', ' ', text.strip())\n",
    "    \n",
    "    return text"
   ]
  },
  {
   "cell_type": "markdown",
   "id": "07c0678e",
   "metadata": {},
   "source": [
    "#### demostration of how 'clean_text' works"
   ]
  },
  {
   "cell_type": "code",
   "execution_count": 9,
   "id": "c85046b1",
   "metadata": {},
   "outputs": [
    {
     "name": "stderr",
     "output_type": "stream",
     "text": [
      "C:\\Users\\fross\\AppData\\Local\\Temp/ipykernel_18224/813516641.py:14: FutureWarning: Possible nested set at position 40\n",
      "  text = re.sub(\"[0-9]|[-—.,:;_%©«»?*!@#№$^'•·&()]|[+=]|[[]|[]]|[/]|\", '', text)\n"
     ]
    },
    {
     "data": {
      "text/plain": [
       "'i like  pineapples'"
      ]
     },
     "execution_count": 9,
     "metadata": {},
     "output_type": "execute_result"
    }
   ],
   "source": [
    "clean_text('\\n-I like 44 *pineapples!-')"
   ]
  },
  {
   "cell_type": "markdown",
   "id": "9b7fd3d7",
   "metadata": {},
   "source": [
    "### function to transform a text into tokenized list of words in their normal form"
   ]
  },
  {
   "cell_type": "code",
   "execution_count": 10,
   "id": "0662ec6f",
   "metadata": {},
   "outputs": [],
   "source": [
    "cache = {}\n",
    "morph = pymorphy2.MorphAnalyzer()\n",
    "def lemmatization(text):\n",
    "    '''\n",
    "    the function is required to transform a text/article into a list of words in their normal form\n",
    "        [0] changing of type to `str` if not `str`\n",
    "        [1] tokenization with razdel\n",
    "        [2] checking whether a word starts with '-'\n",
    "        [3] checking whether there is more than one symbol in a word\n",
    "        [4] checking whether a word is in cashe\n",
    "        [5] lemmatization of word - bringing it into its normal form\n",
    "        [6] throwing out stopwords from final list of words\n",
    "    '''\n",
    "    \n",
    "    # [0]\n",
    "    if not isinstance(text, str):\n",
    "        text = str(text)\n",
    "    \n",
    "    # [1]\n",
    "    tokens = list(tokenize(text))\n",
    "    words = [_.text for _ in tokens]\n",
    "\n",
    "    words_lem = []\n",
    "    for w in words:\n",
    "        if w[0] == '-': # [2]\n",
    "            w = w[1:]\n",
    "        if len(w) > 1: # [3]\n",
    "            if w in cache: # [4]\n",
    "                words_lem.append(cache[w])\n",
    "            else: # [5]\n",
    "                temp_cach = cache[w] = morph.parse(w)[0].normal_form\n",
    "                words_lem.append(temp_cach)\n",
    "    \n",
    "    words_lem_without_stopwords = [i for i in words_lem if not i in stopword_ru] # [6]\n",
    "    \n",
    "    return words_lem_without_stopwords"
   ]
  },
  {
   "cell_type": "markdown",
   "id": "564282a3",
   "metadata": {},
   "source": [
    "#### demonstration of how pymorphy2.MorphAnalyzer().parse('...') works"
   ]
  },
  {
   "cell_type": "code",
   "execution_count": 11,
   "id": "82fac791",
   "metadata": {},
   "outputs": [
    {
     "data": {
      "text/plain": [
       "[Parse(word='играл', tag=OpencorporaTag('VERB,impf,tran masc,sing,past,indc'), normal_form='играть', score=1.0, methods_stack=((DictionaryAnalyzer(), 'играл', 1694, 7),))]"
      ]
     },
     "execution_count": 11,
     "metadata": {},
     "output_type": "execute_result"
    }
   ],
   "source": [
    "pymorphy2.MorphAnalyzer().parse('играл')"
   ]
  },
  {
   "cell_type": "code",
   "execution_count": 12,
   "id": "39fead0d",
   "metadata": {},
   "outputs": [
    {
     "data": {
      "text/plain": [
       "'играть'"
      ]
     },
     "execution_count": 12,
     "metadata": {},
     "output_type": "execute_result"
    }
   ],
   "source": [
    "pymorphy2.MorphAnalyzer().parse('играл')[0].normal_form"
   ]
  },
  {
   "cell_type": "markdown",
   "id": "b74f4f4c",
   "metadata": {},
   "source": [
    "#### demonstration of how 'tokenize' (razdel.tokenize) works"
   ]
  },
  {
   "cell_type": "code",
   "execution_count": 13,
   "id": "dc971c56",
   "metadata": {},
   "outputs": [
    {
     "data": {
      "text/plain": [
       "[Substring(0, 4, 'Мама'), Substring(5, 9, 'мыла'), Substring(10, 14, 'раму')]"
      ]
     },
     "execution_count": 13,
     "metadata": {},
     "output_type": "execute_result"
    }
   ],
   "source": [
    "[_ for _ in tokenize('Мама мыла раму')]"
   ]
  },
  {
   "cell_type": "code",
   "execution_count": 14,
   "id": "dbcbab01",
   "metadata": {},
   "outputs": [
    {
     "data": {
      "text/plain": [
       "['Мама', 'мыла', 'раму']"
      ]
     },
     "execution_count": 14,
     "metadata": {},
     "output_type": "execute_result"
    }
   ],
   "source": [
    "[_.text for _ in tokenize('Мама мыла раму')]"
   ]
  },
  {
   "cell_type": "markdown",
   "id": "7979c902",
   "metadata": {},
   "source": [
    "#### demonstration of how 'lemmatization' works"
   ]
  },
  {
   "cell_type": "code",
   "execution_count": 15,
   "id": "52c95493",
   "metadata": {},
   "outputs": [
    {
     "data": {
      "text/plain": [
       "['мама', 'мыло', 'рама']"
      ]
     },
     "execution_count": 15,
     "metadata": {},
     "output_type": "execute_result"
    }
   ],
   "source": [
    "lemmatization('Мама мыла раму')"
   ]
  },
  {
   "cell_type": "markdown",
   "id": "5f027fcf",
   "metadata": {},
   "source": [
    "### let's start 'clean_text', it is going to take some time..."
   ]
  },
  {
   "cell_type": "code",
   "execution_count": 16,
   "id": "500039ae",
   "metadata": {},
   "outputs": [
    {
     "name": "stdout",
     "output_type": "stream",
     "text": [
      "Футбольный клуб «Анжи» объявил об усилении тренерского штаба команды, об этом сообщаетnофициальный сайтnмахачкалинцев.nПомогать главному тренеру, Гусу Хиддинку, в тренировочном процессе призваны бывший сотрудник «Манчестер Юнайтед» Рене Меленстен (бывший помощник Алекса Фергюсона) и Хасанби Биджиев.nОба тренера имеют тренерскую категорию PRO. При этом Биджиев продолжит исполнение функций спортивного директора нашего клуба.nВ свою очередь медицинское подразделение штаба пополнят такие специалисты как массажист-терапевт Денни Флиттер (Великобритания, «Арсенал» Лондон), физиотерапевт Доминик Роган (Великобритания, «Эвертон»), тренер по физической подготовке Эдуардо Парра Гарсия (Испания, «Интер» Милан, «Ливерпуль»), специалист по спортивной науке Уорд Дирикс (Бельгия, «Гент»), массажист-терапевт Уильям Стори (Великобритания, «Вест Хэм») и тренер по физподготовке Брэм Суиннинен (Бельгия, БК «Химки»).\n"
     ]
    }
   ],
   "source": [
    "print(news['title'][88])  # before"
   ]
  },
  {
   "cell_type": "code",
   "execution_count": 17,
   "id": "46fc3a75",
   "metadata": {},
   "outputs": [
    {
     "name": "stdout",
     "output_type": "stream",
     "text": [
      "Wall time: 21.6 s\n"
     ]
    }
   ],
   "source": [
    "%%time\n",
    "news['title'] = news['title'].apply(lambda x: clean_text(x), 1)"
   ]
  },
  {
   "cell_type": "code",
   "execution_count": 18,
   "id": "a45a9614",
   "metadata": {},
   "outputs": [
    {
     "name": "stdout",
     "output_type": "stream",
     "text": [
      "футбольный клуб анжи объявил об усилении тренерского штаба команды об этом сообщаетnофициальный сайтnмахачкалинцевnпомогать главному тренеру гусу хиддинку в тренировочном процессе призваны бывший сотрудник манчестер юнайтед рене меленстен бывший помощник алекса фергюсона и хасанби биджиевnоба тренера имеют тренерскую категорию pro при этом биджиев продолжит исполнение функций спортивного директора нашего клубаnв свою очередь медицинское подразделение штаба пополнят такие специалисты как массажисттерапевт денни флиттер великобритания арсенал лондон физиотерапевт доминик роган великобритания эвертон тренер по физической подготовке эдуардо парра гарсия испания интер милан ливерпуль специалист по спортивной науке уорд дирикс бельгия гент массажисттерапевт уильям стори великобритания вест хэм и тренер по физподготовке брэм суиннинен бельгия бк химки\n"
     ]
    }
   ],
   "source": [
    "print(news['title'][88])  # after"
   ]
  },
  {
   "cell_type": "markdown",
   "id": "a1951d56",
   "metadata": {},
   "source": [
    "### let's start 'lemmatization', it is going to take long time..."
   ]
  },
  {
   "cell_type": "code",
   "execution_count": 19,
   "id": "07b83a65",
   "metadata": {},
   "outputs": [
    {
     "name": "stdout",
     "output_type": "stream",
     "text": [
      "футбольный клуб анжи объявил об усилении тренерского штаба команды об этом сообщаетnофициальный сайтnмахачкалинцевnпомогать главному тренеру гусу хиддинку в тренировочном процессе призваны бывший сотрудник манчестер юнайтед рене меленстен бывший помощник алекса фергюсона и хасанби биджиевnоба тренера имеют тренерскую категорию pro при этом биджиев продолжит исполнение функций спортивного директора нашего клубаnв свою очередь медицинское подразделение штаба пополнят такие специалисты как массажисттерапевт денни флиттер великобритания арсенал лондон физиотерапевт доминик роган великобритания эвертон тренер по физической подготовке эдуардо парра гарсия испания интер милан ливерпуль специалист по спортивной науке уорд дирикс бельгия гент массажисттерапевт уильям стори великобритания вест хэм и тренер по физподготовке брэм суиннинен бельгия бк химки\n"
     ]
    }
   ],
   "source": [
    "print(news['title'][88])  # before"
   ]
  },
  {
   "cell_type": "code",
   "execution_count": 20,
   "id": "6070a221",
   "metadata": {},
   "outputs": [
    {
     "name": "stdout",
     "output_type": "stream",
     "text": [
      "Wall time: 2min 28s\n"
     ]
    }
   ],
   "source": [
    "%%time\n",
    "news['title'] = news['title'].apply(lambda x: lemmatization(x), 1)"
   ]
  },
  {
   "cell_type": "code",
   "execution_count": 21,
   "id": "d8ee0fbb",
   "metadata": {},
   "outputs": [
    {
     "name": "stdout",
     "output_type": "stream",
     "text": [
      "['футбольный', 'клуб', 'анжи', 'объявить', 'усиление', 'тренерский', 'штаб', 'команда', 'официальный', 'сайт', 'махачкалинец', 'помогать', 'главный', 'тренер', 'гуса', 'хиддинк', 'тренировочный', 'процесс', 'призвать', 'бывший', 'сотрудник', 'манчестер', 'юнайтед', 'рен', 'меленстен', 'бывший', 'помощник', 'алекс', 'фергюсон', 'хасанби', 'биджиев', 'оба', 'тренер', 'иметь', 'тренерский', 'категория', 'pro', 'биджиев', 'продолжить', 'исполнение', 'функция', 'спортивный', 'директор', 'клуб', 'очередь', 'медицинский', 'подразделение', 'штаб', 'пополнить', 'специалист', 'массажисттерапевт', 'денни', 'флиттереть', 'великобритания', 'арсенал', 'лондон', 'физиотерапевт', 'доминик', 'рогать', 'великобритания', 'эвертон', 'тренер', 'физический', 'подготовка', 'эдуардо', 'парра', 'гарсия', 'испания', 'интер', 'милан', 'ливерпуль', 'специалист', 'спортивный', 'наука', 'уорд', 'дирикс', 'бельгия', 'гент', 'массажисттерапевт', 'уильям', 'стори', 'великобритания', 'вест', 'хэм', 'тренер', 'физподготовка', 'брэм', 'суиннинный', 'бельгия', 'бк', 'химки']\n"
     ]
    }
   ],
   "source": [
    "print(news['title'][88])  # after"
   ]
  },
  {
   "cell_type": "markdown",
   "id": "eac08fb7",
   "metadata": {},
   "source": [
    "### let's create corpus - a list of 'bag of words' sparse matrixes, each of which corresponds to a news"
   ]
  },
  {
   "cell_type": "code",
   "execution_count": 22,
   "id": "b0c5ad6b",
   "metadata": {},
   "outputs": [],
   "source": [
    "# creation of list of texts (texts are lists of cleanded and lemmatized words)\n",
    "texts = [_ for _ in news['title'].values]  # 'texts' is to be a list of lists of tokenized and lemmatized words\n",
    "\n",
    "# creation of a corpus from a list of texts\n",
    "common_dictionary = Dictionary(texts)  # creation of 'common_dictionary' - the list of all words in all documents;\n",
    "                                       # words are normalized and stopwords are not included\n",
    "common_corpus = [common_dictionary.doc2bow(_) for _ in texts]  # creation of 'common_corpus' - the list of all texts;\n",
    "                                                                     # texts are in form of 'bag of words' sparse matrix"
   ]
  },
  {
   "cell_type": "code",
   "execution_count": 23,
   "id": "72d2ed35",
   "metadata": {},
   "outputs": [
    {
     "name": "stdout",
     "output_type": "stream",
     "text": [
      "алексей \n",
      "\n",
      "эсенбог \n",
      "\n",
      "141570 \n",
      "\n",
      "[(92, 2), (93, 1), (94, 1), (95, 1), (96, 1), (97, 2), (98, 1), (99, 1), (100, 1), (101, 1), (102, 1), (103, 1), (104, 3), (105, 1), (106, 1), (107, 1), (108, 1), (109, 1), (110, 1), (111, 1), (112, 1), (113, 3), (114, 1), (115, 1), (116, 1), (117, 1), (118, 1), (119, 2), (120, 1), (121, 1), (122, 1), (123, 1), (124, 1)] \n",
      "\n",
      "27000 27000\n"
     ]
    }
   ],
   "source": [
    "print(common_dictionary[2], '\\n')\n",
    "print(common_dictionary[110111], '\\n')\n",
    "print(len(common_dictionary), '\\n')\n",
    "\n",
    "print(common_corpus[1], '\\n')  # article#1 in form of bag of words' sparse matrix\n",
    "print(len(common_corpus), news['title'].shape[0])"
   ]
  },
  {
   "cell_type": "markdown",
   "id": "01242774",
   "metadata": {},
   "source": [
    "### setting our main hyperparameter - number of topics"
   ]
  },
  {
   "cell_type": "code",
   "execution_count": 24,
   "id": "8aebdfd0",
   "metadata": {},
   "outputs": [],
   "source": [
    "N_topic = 25  # number of topics - hyperparameter; it can be tuned to improve performance"
   ]
  },
  {
   "cell_type": "markdown",
   "id": "7c3aa710",
   "metadata": {},
   "source": [
    "### fitting our LdaModel"
   ]
  },
  {
   "cell_type": "code",
   "execution_count": 25,
   "id": "f2867b39",
   "metadata": {},
   "outputs": [],
   "source": [
    "from gensim.models import LdaModel"
   ]
  },
  {
   "cell_type": "code",
   "execution_count": 26,
   "id": "1619fd3a",
   "metadata": {},
   "outputs": [
    {
     "name": "stdout",
     "output_type": "stream",
     "text": [
      "Wall time: 3min 49s\n"
     ]
    }
   ],
   "source": [
    "%%time\n",
    "lda = LdaModel(corpus=common_corpus,  # corpus param is fed with the list of all texts; texts are 'bag of words' sparse matrixes\n",
    "               num_topics=N_topic,  # number of topics\n",
    "               id2word=common_dictionary,  # id2word is fed with the dictionary of all words, so that the model may\n",
    "                                           # convert incoming texts into words' ids and define topics' probabilities related\n",
    "               passes=10)"
   ]
  },
  {
   "cell_type": "markdown",
   "id": "1769450c",
   "metadata": {},
   "source": [
    "### saving and loading the model"
   ]
  },
  {
   "cell_type": "code",
   "execution_count": 27,
   "id": "283e7306",
   "metadata": {},
   "outputs": [],
   "source": [
    "# saving the model\n",
    "lda.save(\"model.lda\")\n",
    "\n",
    "# loading the model\n",
    "lda = LdaModel.load(\"model.lda\")"
   ]
  },
  {
   "cell_type": "markdown",
   "id": "e9937c87",
   "metadata": {},
   "source": [
    "#### demonstration of what LdaModel does"
   ]
  },
  {
   "cell_type": "code",
   "execution_count": 28,
   "id": "40adfd24",
   "metadata": {},
   "outputs": [
    {
     "name": "stdout",
     "output_type": "stream",
     "text": [
      "['форвард', 'авангард', 'томаш', 'заборский', 'прокомментировать', 'игра', 'команда', 'матч', 'чемпионат', 'кхл', 'против', 'атланта', 'nnnn', 'плохой', 'матч', 'нижний', 'новгород', 'против', 'торпедо', 'настраиваться', 'первый', 'минута', 'включиться', 'заборский', 'получиться', 'забросить', 'быстрый', 'гол', 'задать', 'хороший', 'темп', 'поединок', 'играть', 'хороший', 'сторона', 'пять', 'очко', 'выезд', 'девять', 'хороший'] \n",
      "\n",
      "[(48, 1), (100, 1), (104, 2), (105, 1), (116, 1), (125, 1), (126, 1), (127, 1), (128, 1), (129, 1), (130, 1), (131, 1), (132, 1), (133, 2), (134, 1), (135, 1), (136, 1), (137, 1), (138, 1), (139, 1), (140, 1), (141, 1), (142, 1), (143, 1), (144, 1), (145, 1), (146, 1), (147, 2), (148, 1), (149, 1), (150, 1), (151, 1), (152, 1), (153, 3), (154, 1)] \n",
      "\n",
      "[(0, 0.06953883), (1, 0.059479717), (11, 0.46070507), (13, 0.036541425), (15, 0.15180784), (16, 0.08884015), (17, 0.049752165), (21, 0.065746285)]\n"
     ]
    }
   ],
   "source": [
    "# let's take first 10 tokenized texts/articles and presume that our lda-model hasn't seen them\n",
    "other_texts = [t for t in news['title'].iloc[:10]]\n",
    "\n",
    "# let's convert these 10 tokenized texts/articles into sparse matrixes with 'bag of words' method of our gensim Dictionary\n",
    "other_corpus = [common_dictionary.doc2bow(text) for text in other_texts]\n",
    "\n",
    "print(other_texts[2], '\\n')\n",
    "print(other_corpus[2], '\\n')\n",
    "\n",
    "# let's put one of these sparse matrices into our LdaModel to get topics' probabilities\n",
    "print(lda[other_corpus[2]])"
   ]
  },
  {
   "cell_type": "markdown",
   "id": "93688271",
   "metadata": {},
   "source": [
    "### let's describe each topic our LdaModel created with 7 words"
   ]
  },
  {
   "cell_type": "code",
   "execution_count": 29,
   "id": "94d8ca7d",
   "metadata": {},
   "outputs": [
    {
     "name": "stdout",
     "output_type": "stream",
     "text": [
      "topic_0: млн рубль рост цена рынок тыс составить\n",
      "topic_1: газ германия европа место египет nn великобритания\n",
      "topic_2: ракета китай the китайский система северный корея\n",
      "topic_3: банк закон документ решение взрыв право принять\n",
      "topic_4: данные произойти подчеркнуть помощь изз причина территория\n",
      "topic_5: флот медицина этаж армения занятость борис вмф\n",
      "topic_6: наука nn русский мероприятие сайт участие участник\n",
      "topic_7: россия nn российский глава путин владимир nnn\n",
      "topic_8: ребёнок женщина университет семья школа температура форум\n",
      "topic_9: район операция турция турецкий налог автомобиль граница\n",
      "topic_10: сша американский иран вашингтон американец против израиль\n",
      "topic_11: пенсия проверка команда игра клуб последствие сезон\n",
      "topic_12: ливия присудить плоский турок шриланка тимур акула\n",
      "topic_13: военный сила армия погибнуть советский оборона боевой\n",
      "topic_14: совет депутат партия член комитет председатель сенатор\n",
      "topic_15: исследование всё жизнь nn первый очень большой\n",
      "topic_16: украина украинский выяснить мозг киев сторона власть\n",
      "topic_17: тело журнал статья мужчина высота доклад активность\n",
      "topic_18: земля день москва станция вода планета первый\n",
      "topic_19: область фестиваль культура памятник край туризм вероятно\n",
      "topic_20: сотрудник уголовный дом задержать убийство квартира миссия\n",
      "topic_21: россия новый млрд система проект развитие российский\n",
      "topic_22: остров км кровь фотография лаборатория снизить маршрут\n",
      "topic_23: гражданин штат препарат реформа страдать лекарство грузия\n",
      "topic_24: продукция писать завод бизнесмен вина тепло сотрудничать\n"
     ]
    }
   ],
   "source": [
    "x = lda.show_topics(num_topics=N_topic, num_words=7, formatted=False)\n",
    "topics_words = [(tp[0], [wd[0] for wd in tp[1]]) for tp in x]\n",
    "\n",
    "for topic, words in topics_words:\n",
    "    print(f'topic_{topic}: {\" \".join(words)}')"
   ]
  },
  {
   "cell_type": "markdown",
   "id": "44d8c75a",
   "metadata": {},
   "source": [
    "### function to to transform a tokenized text into array of topics' probabilities"
   ]
  },
  {
   "cell_type": "code",
   "execution_count": 30,
   "id": "edc1f1b1",
   "metadata": {},
   "outputs": [],
   "source": [
    "def get_lda_vector(text):\n",
    "    unseen_doc = common_dictionary.doc2bow(text)\n",
    "    lda_tuple = lda[unseen_doc]\n",
    "    not_null_topics = dict(zip([i[0] for i in lda_tuple], [i[1] for i in lda_tuple]))\n",
    "\n",
    "    output_vector = []\n",
    "    for i in range(N_topic):\n",
    "        if i not in not_null_topics:\n",
    "            output_vector.append(0)\n",
    "        else:\n",
    "            output_vector.append(not_null_topics[i])\n",
    "    return np.array(output_vector)"
   ]
  },
  {
   "cell_type": "markdown",
   "id": "84130e26",
   "metadata": {},
   "source": [
    "#### demonstration of what get_lda_vector does"
   ]
  },
  {
   "cell_type": "code",
   "execution_count": 31,
   "id": "2bb5803e",
   "metadata": {},
   "outputs": [
    {
     "name": "stdout",
     "output_type": "stream",
     "text": [
      "['матч', 'финал', 'кубок', 'россия', 'футбол', 'приостановить', 'судья', 'изз', 'взрыв', 'пиротехнический', 'снаряд', 'передавать', 'корреспондент', 'газета', 'ru', 'болельщик', 'выбросить', 'поле', 'петарда', 'судья', 'увести', 'команда', 'поле', 'подтрибунный', 'помещение', 'динамовец', 'уйти', 'торпедовец', 'остаться', 'кромка', 'поле', 'матч', 'остановить', 'пять', 'минута', 'газета', 'ru', 'вести', 'онлайнтрансляция', 'матч']\n"
     ]
    }
   ],
   "source": [
    "print(news['title'].values[1])"
   ]
  },
  {
   "cell_type": "code",
   "execution_count": 32,
   "id": "a4b864bc",
   "metadata": {},
   "outputs": [
    {
     "data": {
      "text/plain": [
       "array([0.        , 0.08515758, 0.        , 0.37538949, 0.        ,\n",
       "       0.        , 0.        , 0.        , 0.        , 0.        ,\n",
       "       0.        , 0.41806644, 0.        , 0.        , 0.        ,\n",
       "       0.        , 0.09926899, 0.        , 0.        , 0.        ,\n",
       "       0.        , 0.        , 0.        , 0.        , 0.        ])"
      ]
     },
     "execution_count": 32,
     "metadata": {},
     "output_type": "execute_result"
    }
   ],
   "source": [
    "get_lda_vector(news['title'].values[1])"
   ]
  },
  {
   "cell_type": "markdown",
   "id": "f86fba28",
   "metadata": {},
   "source": [
    "### creation of documents' ids/topics' probabilities dataframe"
   ]
  },
  {
   "cell_type": "code",
   "execution_count": 33,
   "id": "8d06e88c",
   "metadata": {},
   "outputs": [
    {
     "data": {
      "text/html": [
       "<div>\n",
       "<style scoped>\n",
       "    .dataframe tbody tr th:only-of-type {\n",
       "        vertical-align: middle;\n",
       "    }\n",
       "\n",
       "    .dataframe tbody tr th {\n",
       "        vertical-align: top;\n",
       "    }\n",
       "\n",
       "    .dataframe thead th {\n",
       "        text-align: right;\n",
       "    }\n",
       "</style>\n",
       "<table border=\"1\" class=\"dataframe\">\n",
       "  <thead>\n",
       "    <tr style=\"text-align: right;\">\n",
       "      <th></th>\n",
       "      <th>doc_id</th>\n",
       "      <th>topic_0</th>\n",
       "      <th>topic_1</th>\n",
       "      <th>topic_2</th>\n",
       "      <th>topic_3</th>\n",
       "      <th>topic_4</th>\n",
       "      <th>topic_5</th>\n",
       "      <th>topic_6</th>\n",
       "      <th>topic_7</th>\n",
       "      <th>topic_8</th>\n",
       "      <th>...</th>\n",
       "      <th>topic_15</th>\n",
       "      <th>topic_16</th>\n",
       "      <th>topic_17</th>\n",
       "      <th>topic_18</th>\n",
       "      <th>topic_19</th>\n",
       "      <th>topic_20</th>\n",
       "      <th>topic_21</th>\n",
       "      <th>topic_22</th>\n",
       "      <th>topic_23</th>\n",
       "      <th>topic_24</th>\n",
       "    </tr>\n",
       "  </thead>\n",
       "  <tbody>\n",
       "    <tr>\n",
       "      <th>0</th>\n",
       "      <td>6</td>\n",
       "      <td>0.000000</td>\n",
       "      <td>0.000000</td>\n",
       "      <td>0.0</td>\n",
       "      <td>0.000000</td>\n",
       "      <td>0.000000</td>\n",
       "      <td>0.0</td>\n",
       "      <td>0.0</td>\n",
       "      <td>0.168471</td>\n",
       "      <td>0.0</td>\n",
       "      <td>...</td>\n",
       "      <td>0.000000</td>\n",
       "      <td>0.000000</td>\n",
       "      <td>0.000000</td>\n",
       "      <td>0.0</td>\n",
       "      <td>0.027576</td>\n",
       "      <td>0.180940</td>\n",
       "      <td>0.435773</td>\n",
       "      <td>0.0</td>\n",
       "      <td>0.0</td>\n",
       "      <td>0.0</td>\n",
       "    </tr>\n",
       "    <tr>\n",
       "      <th>1</th>\n",
       "      <td>4896</td>\n",
       "      <td>0.000000</td>\n",
       "      <td>0.085250</td>\n",
       "      <td>0.0</td>\n",
       "      <td>0.375417</td>\n",
       "      <td>0.000000</td>\n",
       "      <td>0.0</td>\n",
       "      <td>0.0</td>\n",
       "      <td>0.000000</td>\n",
       "      <td>0.0</td>\n",
       "      <td>...</td>\n",
       "      <td>0.000000</td>\n",
       "      <td>0.099121</td>\n",
       "      <td>0.000000</td>\n",
       "      <td>0.0</td>\n",
       "      <td>0.000000</td>\n",
       "      <td>0.000000</td>\n",
       "      <td>0.000000</td>\n",
       "      <td>0.0</td>\n",
       "      <td>0.0</td>\n",
       "      <td>0.0</td>\n",
       "    </tr>\n",
       "    <tr>\n",
       "      <th>2</th>\n",
       "      <td>4897</td>\n",
       "      <td>0.069536</td>\n",
       "      <td>0.059377</td>\n",
       "      <td>0.0</td>\n",
       "      <td>0.000000</td>\n",
       "      <td>0.000000</td>\n",
       "      <td>0.0</td>\n",
       "      <td>0.0</td>\n",
       "      <td>0.000000</td>\n",
       "      <td>0.0</td>\n",
       "      <td>...</td>\n",
       "      <td>0.151892</td>\n",
       "      <td>0.088912</td>\n",
       "      <td>0.049748</td>\n",
       "      <td>0.0</td>\n",
       "      <td>0.000000</td>\n",
       "      <td>0.000000</td>\n",
       "      <td>0.065700</td>\n",
       "      <td>0.0</td>\n",
       "      <td>0.0</td>\n",
       "      <td>0.0</td>\n",
       "    </tr>\n",
       "    <tr>\n",
       "      <th>3</th>\n",
       "      <td>4898</td>\n",
       "      <td>0.000000</td>\n",
       "      <td>0.059247</td>\n",
       "      <td>0.0</td>\n",
       "      <td>0.000000</td>\n",
       "      <td>0.104273</td>\n",
       "      <td>0.0</td>\n",
       "      <td>0.0</td>\n",
       "      <td>0.000000</td>\n",
       "      <td>0.0</td>\n",
       "      <td>...</td>\n",
       "      <td>0.149200</td>\n",
       "      <td>0.252215</td>\n",
       "      <td>0.000000</td>\n",
       "      <td>0.0</td>\n",
       "      <td>0.000000</td>\n",
       "      <td>0.000000</td>\n",
       "      <td>0.101988</td>\n",
       "      <td>0.0</td>\n",
       "      <td>0.0</td>\n",
       "      <td>0.0</td>\n",
       "    </tr>\n",
       "    <tr>\n",
       "      <th>4</th>\n",
       "      <td>4899</td>\n",
       "      <td>0.000000</td>\n",
       "      <td>0.000000</td>\n",
       "      <td>0.0</td>\n",
       "      <td>0.000000</td>\n",
       "      <td>0.000000</td>\n",
       "      <td>0.0</td>\n",
       "      <td>0.0</td>\n",
       "      <td>0.138239</td>\n",
       "      <td>0.0</td>\n",
       "      <td>...</td>\n",
       "      <td>0.190674</td>\n",
       "      <td>0.000000</td>\n",
       "      <td>0.000000</td>\n",
       "      <td>0.0</td>\n",
       "      <td>0.172074</td>\n",
       "      <td>0.044429</td>\n",
       "      <td>0.000000</td>\n",
       "      <td>0.0</td>\n",
       "      <td>0.0</td>\n",
       "      <td>0.0</td>\n",
       "    </tr>\n",
       "  </tbody>\n",
       "</table>\n",
       "<p>5 rows × 26 columns</p>\n",
       "</div>"
      ],
      "text/plain": [
       "   doc_id   topic_0   topic_1  topic_2   topic_3   topic_4  topic_5  topic_6  \\\n",
       "0       6  0.000000  0.000000      0.0  0.000000  0.000000      0.0      0.0   \n",
       "1    4896  0.000000  0.085250      0.0  0.375417  0.000000      0.0      0.0   \n",
       "2    4897  0.069536  0.059377      0.0  0.000000  0.000000      0.0      0.0   \n",
       "3    4898  0.000000  0.059247      0.0  0.000000  0.104273      0.0      0.0   \n",
       "4    4899  0.000000  0.000000      0.0  0.000000  0.000000      0.0      0.0   \n",
       "\n",
       "    topic_7  topic_8  ...  topic_15  topic_16  topic_17  topic_18  topic_19  \\\n",
       "0  0.168471      0.0  ...  0.000000  0.000000  0.000000       0.0  0.027576   \n",
       "1  0.000000      0.0  ...  0.000000  0.099121  0.000000       0.0  0.000000   \n",
       "2  0.000000      0.0  ...  0.151892  0.088912  0.049748       0.0  0.000000   \n",
       "3  0.000000      0.0  ...  0.149200  0.252215  0.000000       0.0  0.000000   \n",
       "4  0.138239      0.0  ...  0.190674  0.000000  0.000000       0.0  0.172074   \n",
       "\n",
       "   topic_20  topic_21  topic_22  topic_23  topic_24  \n",
       "0  0.180940  0.435773       0.0       0.0       0.0  \n",
       "1  0.000000  0.000000       0.0       0.0       0.0  \n",
       "2  0.000000  0.065700       0.0       0.0       0.0  \n",
       "3  0.000000  0.101988       0.0       0.0       0.0  \n",
       "4  0.044429  0.000000       0.0       0.0       0.0  \n",
       "\n",
       "[5 rows x 26 columns]"
      ]
     },
     "execution_count": 33,
     "metadata": {},
     "output_type": "execute_result"
    }
   ],
   "source": [
    "topic_matrix = pd.DataFrame([get_lda_vector(text) for text in news['title'].values])\n",
    "topic_matrix.columns = ['topic_{}'.format(i) for i in range(N_topic)]\n",
    "topic_matrix['doc_id'] = news['doc_id'].values\n",
    "topic_matrix = topic_matrix[['doc_id']+['topic_{}'.format(i) for i in range(N_topic)]]\n",
    "topic_matrix.head(5)"
   ]
  },
  {
   "cell_type": "markdown",
   "id": "b1d2f70c",
   "metadata": {},
   "source": [
    "## PART 2 - Vectors of Users"
   ]
  },
  {
   "cell_type": "code",
   "execution_count": 34,
   "id": "d2fc1790",
   "metadata": {},
   "outputs": [
    {
     "data": {
      "text/html": [
       "<div>\n",
       "<style scoped>\n",
       "    .dataframe tbody tr th:only-of-type {\n",
       "        vertical-align: middle;\n",
       "    }\n",
       "\n",
       "    .dataframe tbody tr th {\n",
       "        vertical-align: top;\n",
       "    }\n",
       "\n",
       "    .dataframe thead th {\n",
       "        text-align: right;\n",
       "    }\n",
       "</style>\n",
       "<table border=\"1\" class=\"dataframe\">\n",
       "  <thead>\n",
       "    <tr style=\"text-align: right;\">\n",
       "      <th></th>\n",
       "      <th>uid</th>\n",
       "      <th>articles</th>\n",
       "    </tr>\n",
       "  </thead>\n",
       "  <tbody>\n",
       "    <tr>\n",
       "      <th>0</th>\n",
       "      <td>u105138</td>\n",
       "      <td>[293672, 293328, 293001, 293622, 293126, 1852]</td>\n",
       "    </tr>\n",
       "    <tr>\n",
       "      <th>1</th>\n",
       "      <td>u108690</td>\n",
       "      <td>[3405, 1739, 2972, 1158, 1599, 322665]</td>\n",
       "    </tr>\n",
       "  </tbody>\n",
       "</table>\n",
       "</div>"
      ],
      "text/plain": [
       "       uid                                        articles\n",
       "0  u105138  [293672, 293328, 293001, 293622, 293126, 1852]\n",
       "1  u108690          [3405, 1739, 2972, 1158, 1599, 322665]"
      ]
     },
     "execution_count": 34,
     "metadata": {},
     "output_type": "execute_result"
    }
   ],
   "source": [
    "users.head(2)"
   ]
  },
  {
   "cell_type": "code",
   "execution_count": 35,
   "id": "46367d89",
   "metadata": {},
   "outputs": [],
   "source": [
    "doc_dict = dict(zip(topic_matrix['doc_id'].values, topic_matrix[['topic_{}'.format(i) for i in range(N_topic)]].values))"
   ]
  },
  {
   "cell_type": "code",
   "execution_count": 36,
   "id": "38add6e1",
   "metadata": {},
   "outputs": [
    {
     "data": {
      "text/plain": [
       "array([0.        , 0.        , 0.        , 0.        , 0.        ,\n",
       "       0.        , 0.        , 0.16847093, 0.        , 0.        ,\n",
       "       0.        , 0.09681854, 0.        , 0.01925806, 0.05550943,\n",
       "       0.        , 0.        , 0.        , 0.        , 0.02757635,\n",
       "       0.18093988, 0.43577349, 0.        , 0.        , 0.        ])"
      ]
     },
     "execution_count": 36,
     "metadata": {},
     "output_type": "execute_result"
    }
   ],
   "source": [
    "doc_dict[6]  # array of topics' probabilities for article#6"
   ]
  },
  {
   "cell_type": "markdown",
   "id": "bbc1fed2",
   "metadata": {},
   "source": [
    "### function to get the mean probabilities of topics of articles a user read"
   ]
  },
  {
   "cell_type": "code",
   "execution_count": 37,
   "id": "28d6cdeb",
   "metadata": {},
   "outputs": [],
   "source": [
    "def get_user_embedding(user_articles_list):\n",
    "    '''\n",
    "    The function receives a list of articles' ids a user read - '[323329, 321961, 324743, 323186, 324632, 474690]'.\n",
    "    It converts it into a list. After this list is converted into an array of arrays of articles' probabilities.\n",
    "    After, the array of arrays is transformed into the array of mean values of probabilities.\n",
    "    '''\n",
    "    user_articles_list = eval(user_articles_list)  # converting string into list\n",
    "    user_vector = np.array([doc_dict[doc_id] for doc_id in user_articles_list])  # creation of array of arrays\n",
    "    user_vector = np.mean(user_vector, axis=0)  # creation of array of collumns' means\n",
    "    return user_vector"
   ]
  },
  {
   "cell_type": "markdown",
   "id": "928b01db",
   "metadata": {},
   "source": [
    "#### simplified demonstration of the process"
   ]
  },
  {
   "cell_type": "code",
   "execution_count": 38,
   "id": "a3d2b8a9",
   "metadata": {},
   "outputs": [
    {
     "name": "stdout",
     "output_type": "stream",
     "text": [
      "[[1 2 3]\n",
      " [4 5 6]]\n",
      "[2.5 3.5 4.5]\n"
     ]
    }
   ],
   "source": [
    "array_1 = np.array([1, 2, 3])\n",
    "array_2 = np.array([4, 5, 6])\n",
    "resulting_array = np.array([array_1, array_2])\n",
    "print(resulting_array)\n",
    "print(np.mean(resulting_array, axis=0))"
   ]
  },
  {
   "cell_type": "markdown",
   "id": "c84f8711",
   "metadata": {},
   "source": [
    "#### demonstration of how get_user_embedding works"
   ]
  },
  {
   "cell_type": "code",
   "execution_count": 39,
   "id": "287b7742",
   "metadata": {},
   "outputs": [
    {
     "data": {
      "text/plain": [
       "'[323329, 321961, 324743, 323186, 324632, 474690]'"
      ]
     },
     "execution_count": 39,
     "metadata": {},
     "output_type": "execute_result"
    }
   ],
   "source": [
    "users['articles'].iloc[33]"
   ]
  },
  {
   "cell_type": "code",
   "execution_count": 40,
   "id": "76808a2f",
   "metadata": {},
   "outputs": [
    {
     "data": {
      "text/plain": [
       "array([0.03168471, 0.        , 0.00621214, 0.05318726, 0.04968918,\n",
       "       0.        , 0.0120231 , 0.16820208, 0.03485876, 0.        ,\n",
       "       0.04033781, 0.        , 0.        , 0.03441348, 0.02558522,\n",
       "       0.08668407, 0.01401476, 0.03251028, 0.01341634, 0.02000649,\n",
       "       0.08998099, 0.26252908, 0.00412695, 0.00419819, 0.00206503])"
      ]
     },
     "execution_count": 40,
     "metadata": {},
     "output_type": "execute_result"
    }
   ],
   "source": [
    "get_user_embedding(users['articles'].iloc[33])"
   ]
  },
  {
   "cell_type": "markdown",
   "id": "b611ef60",
   "metadata": {},
   "source": [
    "so, the result is user's vector"
   ]
  },
  {
   "cell_type": "markdown",
   "id": "47d53d7f",
   "metadata": {},
   "source": [
    "### creation of users' ids/mean topics' probabilities of articles read dataframe"
   ]
  },
  {
   "cell_type": "code",
   "execution_count": 41,
   "id": "0741be35",
   "metadata": {},
   "outputs": [
    {
     "data": {
      "text/html": [
       "<div>\n",
       "<style scoped>\n",
       "    .dataframe tbody tr th:only-of-type {\n",
       "        vertical-align: middle;\n",
       "    }\n",
       "\n",
       "    .dataframe tbody tr th {\n",
       "        vertical-align: top;\n",
       "    }\n",
       "\n",
       "    .dataframe thead th {\n",
       "        text-align: right;\n",
       "    }\n",
       "</style>\n",
       "<table border=\"1\" class=\"dataframe\">\n",
       "  <thead>\n",
       "    <tr style=\"text-align: right;\">\n",
       "      <th></th>\n",
       "      <th>uid</th>\n",
       "      <th>topic_0</th>\n",
       "      <th>topic_1</th>\n",
       "      <th>topic_2</th>\n",
       "      <th>topic_3</th>\n",
       "      <th>topic_4</th>\n",
       "      <th>topic_5</th>\n",
       "      <th>topic_6</th>\n",
       "      <th>topic_7</th>\n",
       "      <th>topic_8</th>\n",
       "      <th>...</th>\n",
       "      <th>topic_15</th>\n",
       "      <th>topic_16</th>\n",
       "      <th>topic_17</th>\n",
       "      <th>topic_18</th>\n",
       "      <th>topic_19</th>\n",
       "      <th>topic_20</th>\n",
       "      <th>topic_21</th>\n",
       "      <th>topic_22</th>\n",
       "      <th>topic_23</th>\n",
       "      <th>topic_24</th>\n",
       "    </tr>\n",
       "  </thead>\n",
       "  <tbody>\n",
       "    <tr>\n",
       "      <th>0</th>\n",
       "      <td>u105138</td>\n",
       "      <td>0.046046</td>\n",
       "      <td>0.009571</td>\n",
       "      <td>0.0</td>\n",
       "      <td>0.061415</td>\n",
       "      <td>0.093899</td>\n",
       "      <td>0.0</td>\n",
       "      <td>0.115469</td>\n",
       "      <td>0.081255</td>\n",
       "      <td>0.035058</td>\n",
       "      <td>...</td>\n",
       "      <td>0.066438</td>\n",
       "      <td>0.113144</td>\n",
       "      <td>0.010051</td>\n",
       "      <td>0.035850</td>\n",
       "      <td>0.051858</td>\n",
       "      <td>0.028417</td>\n",
       "      <td>0.154080</td>\n",
       "      <td>0.003425</td>\n",
       "      <td>0.0</td>\n",
       "      <td>0.000000</td>\n",
       "    </tr>\n",
       "    <tr>\n",
       "      <th>1</th>\n",
       "      <td>u108690</td>\n",
       "      <td>0.048840</td>\n",
       "      <td>0.008367</td>\n",
       "      <td>0.0</td>\n",
       "      <td>0.028985</td>\n",
       "      <td>0.088908</td>\n",
       "      <td>0.0</td>\n",
       "      <td>0.019308</td>\n",
       "      <td>0.085851</td>\n",
       "      <td>0.042285</td>\n",
       "      <td>...</td>\n",
       "      <td>0.117995</td>\n",
       "      <td>0.184303</td>\n",
       "      <td>0.012591</td>\n",
       "      <td>0.002141</td>\n",
       "      <td>0.005724</td>\n",
       "      <td>0.082927</td>\n",
       "      <td>0.182752</td>\n",
       "      <td>0.000000</td>\n",
       "      <td>0.0</td>\n",
       "      <td>0.009292</td>\n",
       "    </tr>\n",
       "  </tbody>\n",
       "</table>\n",
       "<p>2 rows × 26 columns</p>\n",
       "</div>"
      ],
      "text/plain": [
       "       uid   topic_0   topic_1  topic_2   topic_3   topic_4  topic_5  \\\n",
       "0  u105138  0.046046  0.009571      0.0  0.061415  0.093899      0.0   \n",
       "1  u108690  0.048840  0.008367      0.0  0.028985  0.088908      0.0   \n",
       "\n",
       "    topic_6   topic_7   topic_8  ...  topic_15  topic_16  topic_17  topic_18  \\\n",
       "0  0.115469  0.081255  0.035058  ...  0.066438  0.113144  0.010051  0.035850   \n",
       "1  0.019308  0.085851  0.042285  ...  0.117995  0.184303  0.012591  0.002141   \n",
       "\n",
       "   topic_19  topic_20  topic_21  topic_22  topic_23  topic_24  \n",
       "0  0.051858  0.028417  0.154080  0.003425       0.0  0.000000  \n",
       "1  0.005724  0.082927  0.182752  0.000000       0.0  0.009292  \n",
       "\n",
       "[2 rows x 26 columns]"
      ]
     },
     "execution_count": 41,
     "metadata": {},
     "output_type": "execute_result"
    }
   ],
   "source": [
    "user_embeddings = pd.DataFrame([i for i in users['articles'].apply(lambda x: get_user_embedding(x), 1)])\n",
    "user_embeddings.columns = ['topic_{}'.format(i) for i in range(N_topic)]\n",
    "user_embeddings['uid'] = users['uid'].values\n",
    "user_embeddings = user_embeddings[['uid']+['topic_{}'.format(i) for i in range(N_topic)]]\n",
    "user_embeddings.head(2)"
   ]
  },
  {
   "cell_type": "markdown",
   "id": "af71dc00",
   "metadata": {},
   "source": [
    "### attaching to the dataframe the target - 'churn'"
   ]
  },
  {
   "cell_type": "code",
   "execution_count": 42,
   "id": "d0595bb5",
   "metadata": {},
   "outputs": [
    {
     "data": {
      "text/html": [
       "<div>\n",
       "<style scoped>\n",
       "    .dataframe tbody tr th:only-of-type {\n",
       "        vertical-align: middle;\n",
       "    }\n",
       "\n",
       "    .dataframe tbody tr th {\n",
       "        vertical-align: top;\n",
       "    }\n",
       "\n",
       "    .dataframe thead th {\n",
       "        text-align: right;\n",
       "    }\n",
       "</style>\n",
       "<table border=\"1\" class=\"dataframe\">\n",
       "  <thead>\n",
       "    <tr style=\"text-align: right;\">\n",
       "      <th></th>\n",
       "      <th>uid</th>\n",
       "      <th>churn</th>\n",
       "    </tr>\n",
       "  </thead>\n",
       "  <tbody>\n",
       "    <tr>\n",
       "      <th>0</th>\n",
       "      <td>u107120</td>\n",
       "      <td>0</td>\n",
       "    </tr>\n",
       "    <tr>\n",
       "      <th>1</th>\n",
       "      <td>u102277</td>\n",
       "      <td>0</td>\n",
       "    </tr>\n",
       "    <tr>\n",
       "      <th>2</th>\n",
       "      <td>u102444</td>\n",
       "      <td>0</td>\n",
       "    </tr>\n",
       "  </tbody>\n",
       "</table>\n",
       "</div>"
      ],
      "text/plain": [
       "       uid  churn\n",
       "0  u107120      0\n",
       "1  u102277      0\n",
       "2  u102444      0"
      ]
     },
     "execution_count": 42,
     "metadata": {},
     "output_type": "execute_result"
    }
   ],
   "source": [
    "target = pd.read_csv(\"lesson_2_profiling_user_LDA/users_churn.csv\")\n",
    "target.head(3)"
   ]
  },
  {
   "cell_type": "code",
   "execution_count": 43,
   "id": "5115df6e",
   "metadata": {},
   "outputs": [
    {
     "data": {
      "text/html": [
       "<div>\n",
       "<style scoped>\n",
       "    .dataframe tbody tr th:only-of-type {\n",
       "        vertical-align: middle;\n",
       "    }\n",
       "\n",
       "    .dataframe tbody tr th {\n",
       "        vertical-align: top;\n",
       "    }\n",
       "\n",
       "    .dataframe thead th {\n",
       "        text-align: right;\n",
       "    }\n",
       "</style>\n",
       "<table border=\"1\" class=\"dataframe\">\n",
       "  <thead>\n",
       "    <tr style=\"text-align: right;\">\n",
       "      <th></th>\n",
       "      <th>uid</th>\n",
       "      <th>topic_0</th>\n",
       "      <th>topic_1</th>\n",
       "      <th>topic_2</th>\n",
       "      <th>topic_3</th>\n",
       "      <th>topic_4</th>\n",
       "      <th>topic_5</th>\n",
       "      <th>topic_6</th>\n",
       "      <th>topic_7</th>\n",
       "      <th>topic_8</th>\n",
       "      <th>...</th>\n",
       "      <th>topic_16</th>\n",
       "      <th>topic_17</th>\n",
       "      <th>topic_18</th>\n",
       "      <th>topic_19</th>\n",
       "      <th>topic_20</th>\n",
       "      <th>topic_21</th>\n",
       "      <th>topic_22</th>\n",
       "      <th>topic_23</th>\n",
       "      <th>topic_24</th>\n",
       "      <th>churn</th>\n",
       "    </tr>\n",
       "  </thead>\n",
       "  <tbody>\n",
       "    <tr>\n",
       "      <th>0</th>\n",
       "      <td>u105138</td>\n",
       "      <td>0.046046</td>\n",
       "      <td>0.009571</td>\n",
       "      <td>0.0</td>\n",
       "      <td>0.061415</td>\n",
       "      <td>0.093899</td>\n",
       "      <td>0.000000</td>\n",
       "      <td>0.115469</td>\n",
       "      <td>0.081255</td>\n",
       "      <td>0.035058</td>\n",
       "      <td>...</td>\n",
       "      <td>0.113144</td>\n",
       "      <td>0.010051</td>\n",
       "      <td>0.035850</td>\n",
       "      <td>0.051858</td>\n",
       "      <td>0.028417</td>\n",
       "      <td>0.154080</td>\n",
       "      <td>0.003425</td>\n",
       "      <td>0.0</td>\n",
       "      <td>0.000000</td>\n",
       "      <td>0</td>\n",
       "    </tr>\n",
       "    <tr>\n",
       "      <th>1</th>\n",
       "      <td>u108690</td>\n",
       "      <td>0.048840</td>\n",
       "      <td>0.008367</td>\n",
       "      <td>0.0</td>\n",
       "      <td>0.028985</td>\n",
       "      <td>0.088908</td>\n",
       "      <td>0.000000</td>\n",
       "      <td>0.019308</td>\n",
       "      <td>0.085851</td>\n",
       "      <td>0.042285</td>\n",
       "      <td>...</td>\n",
       "      <td>0.184303</td>\n",
       "      <td>0.012591</td>\n",
       "      <td>0.002141</td>\n",
       "      <td>0.005724</td>\n",
       "      <td>0.082927</td>\n",
       "      <td>0.182752</td>\n",
       "      <td>0.000000</td>\n",
       "      <td>0.0</td>\n",
       "      <td>0.009292</td>\n",
       "      <td>1</td>\n",
       "    </tr>\n",
       "    <tr>\n",
       "      <th>2</th>\n",
       "      <td>u108339</td>\n",
       "      <td>0.026013</td>\n",
       "      <td>0.012883</td>\n",
       "      <td>0.0</td>\n",
       "      <td>0.036336</td>\n",
       "      <td>0.196225</td>\n",
       "      <td>0.003057</td>\n",
       "      <td>0.026385</td>\n",
       "      <td>0.034550</td>\n",
       "      <td>0.031249</td>\n",
       "      <td>...</td>\n",
       "      <td>0.053660</td>\n",
       "      <td>0.037700</td>\n",
       "      <td>0.089915</td>\n",
       "      <td>0.017577</td>\n",
       "      <td>0.140603</td>\n",
       "      <td>0.137464</td>\n",
       "      <td>0.000000</td>\n",
       "      <td>0.0</td>\n",
       "      <td>0.000000</td>\n",
       "      <td>1</td>\n",
       "    </tr>\n",
       "  </tbody>\n",
       "</table>\n",
       "<p>3 rows × 27 columns</p>\n",
       "</div>"
      ],
      "text/plain": [
       "       uid   topic_0   topic_1  topic_2   topic_3   topic_4   topic_5  \\\n",
       "0  u105138  0.046046  0.009571      0.0  0.061415  0.093899  0.000000   \n",
       "1  u108690  0.048840  0.008367      0.0  0.028985  0.088908  0.000000   \n",
       "2  u108339  0.026013  0.012883      0.0  0.036336  0.196225  0.003057   \n",
       "\n",
       "    topic_6   topic_7   topic_8  ...  topic_16  topic_17  topic_18  topic_19  \\\n",
       "0  0.115469  0.081255  0.035058  ...  0.113144  0.010051  0.035850  0.051858   \n",
       "1  0.019308  0.085851  0.042285  ...  0.184303  0.012591  0.002141  0.005724   \n",
       "2  0.026385  0.034550  0.031249  ...  0.053660  0.037700  0.089915  0.017577   \n",
       "\n",
       "   topic_20  topic_21  topic_22  topic_23  topic_24  churn  \n",
       "0  0.028417  0.154080  0.003425       0.0  0.000000      0  \n",
       "1  0.082927  0.182752  0.000000       0.0  0.009292      1  \n",
       "2  0.140603  0.137464  0.000000       0.0  0.000000      1  \n",
       "\n",
       "[3 rows x 27 columns]"
      ]
     },
     "execution_count": 43,
     "metadata": {},
     "output_type": "execute_result"
    }
   ],
   "source": [
    "X = pd.merge(user_embeddings, target, 'left')\n",
    "X.head(3)"
   ]
  },
  {
   "cell_type": "markdown",
   "id": "755263ab",
   "metadata": {},
   "source": [
    "BINGO! we have got the dataframe to teach a prediction model!!!"
   ]
  },
  {
   "cell_type": "markdown",
   "id": "fa41d253",
   "metadata": {},
   "source": [
    "## PART 3 - Prediction Model"
   ]
  },
  {
   "cell_type": "code",
   "execution_count": 44,
   "id": "eb456dfc",
   "metadata": {},
   "outputs": [],
   "source": [
    "from sklearn.linear_model import LogisticRegression\n",
    "from sklearn.model_selection import train_test_split\n",
    "import itertools\n",
    "\n",
    "import matplotlib.pyplot as plt\n",
    "%matplotlib inline"
   ]
  },
  {
   "cell_type": "markdown",
   "id": "98af9558",
   "metadata": {},
   "source": [
    "### train test split"
   ]
  },
  {
   "cell_type": "code",
   "execution_count": 45,
   "id": "7fba4e05",
   "metadata": {},
   "outputs": [],
   "source": [
    "X_train, X_test, y_train, y_test = train_test_split(X[['topic_{}'.format(i) for i in range(N_topic)]], \n",
    "                                                    X['churn'], random_state=0)"
   ]
  },
  {
   "cell_type": "markdown",
   "id": "2c1034c2",
   "metadata": {},
   "source": [
    "### model initialization"
   ]
  },
  {
   "cell_type": "code",
   "execution_count": 46,
   "id": "594b5e37",
   "metadata": {},
   "outputs": [],
   "source": [
    "logreg = LogisticRegression()"
   ]
  },
  {
   "cell_type": "markdown",
   "id": "d748f67c",
   "metadata": {},
   "source": [
    "### fitting the model"
   ]
  },
  {
   "cell_type": "code",
   "execution_count": 47,
   "id": "f4b5df87",
   "metadata": {},
   "outputs": [
    {
     "data": {
      "text/html": [
       "<style>#sk-container-id-1 {color: black;background-color: white;}#sk-container-id-1 pre{padding: 0;}#sk-container-id-1 div.sk-toggleable {background-color: white;}#sk-container-id-1 label.sk-toggleable__label {cursor: pointer;display: block;width: 100%;margin-bottom: 0;padding: 0.3em;box-sizing: border-box;text-align: center;}#sk-container-id-1 label.sk-toggleable__label-arrow:before {content: \"▸\";float: left;margin-right: 0.25em;color: #696969;}#sk-container-id-1 label.sk-toggleable__label-arrow:hover:before {color: black;}#sk-container-id-1 div.sk-estimator:hover label.sk-toggleable__label-arrow:before {color: black;}#sk-container-id-1 div.sk-toggleable__content {max-height: 0;max-width: 0;overflow: hidden;text-align: left;background-color: #f0f8ff;}#sk-container-id-1 div.sk-toggleable__content pre {margin: 0.2em;color: black;border-radius: 0.25em;background-color: #f0f8ff;}#sk-container-id-1 input.sk-toggleable__control:checked~div.sk-toggleable__content {max-height: 200px;max-width: 100%;overflow: auto;}#sk-container-id-1 input.sk-toggleable__control:checked~label.sk-toggleable__label-arrow:before {content: \"▾\";}#sk-container-id-1 div.sk-estimator input.sk-toggleable__control:checked~label.sk-toggleable__label {background-color: #d4ebff;}#sk-container-id-1 div.sk-label input.sk-toggleable__control:checked~label.sk-toggleable__label {background-color: #d4ebff;}#sk-container-id-1 input.sk-hidden--visually {border: 0;clip: rect(1px 1px 1px 1px);clip: rect(1px, 1px, 1px, 1px);height: 1px;margin: -1px;overflow: hidden;padding: 0;position: absolute;width: 1px;}#sk-container-id-1 div.sk-estimator {font-family: monospace;background-color: #f0f8ff;border: 1px dotted black;border-radius: 0.25em;box-sizing: border-box;margin-bottom: 0.5em;}#sk-container-id-1 div.sk-estimator:hover {background-color: #d4ebff;}#sk-container-id-1 div.sk-parallel-item::after {content: \"\";width: 100%;border-bottom: 1px solid gray;flex-grow: 1;}#sk-container-id-1 div.sk-label:hover label.sk-toggleable__label {background-color: #d4ebff;}#sk-container-id-1 div.sk-serial::before {content: \"\";position: absolute;border-left: 1px solid gray;box-sizing: border-box;top: 0;bottom: 0;left: 50%;z-index: 0;}#sk-container-id-1 div.sk-serial {display: flex;flex-direction: column;align-items: center;background-color: white;padding-right: 0.2em;padding-left: 0.2em;position: relative;}#sk-container-id-1 div.sk-item {position: relative;z-index: 1;}#sk-container-id-1 div.sk-parallel {display: flex;align-items: stretch;justify-content: center;background-color: white;position: relative;}#sk-container-id-1 div.sk-item::before, #sk-container-id-1 div.sk-parallel-item::before {content: \"\";position: absolute;border-left: 1px solid gray;box-sizing: border-box;top: 0;bottom: 0;left: 50%;z-index: -1;}#sk-container-id-1 div.sk-parallel-item {display: flex;flex-direction: column;z-index: 1;position: relative;background-color: white;}#sk-container-id-1 div.sk-parallel-item:first-child::after {align-self: flex-end;width: 50%;}#sk-container-id-1 div.sk-parallel-item:last-child::after {align-self: flex-start;width: 50%;}#sk-container-id-1 div.sk-parallel-item:only-child::after {width: 0;}#sk-container-id-1 div.sk-dashed-wrapped {border: 1px dashed gray;margin: 0 0.4em 0.5em 0.4em;box-sizing: border-box;padding-bottom: 0.4em;background-color: white;}#sk-container-id-1 div.sk-label label {font-family: monospace;font-weight: bold;display: inline-block;line-height: 1.2em;}#sk-container-id-1 div.sk-label-container {text-align: center;}#sk-container-id-1 div.sk-container {/* jupyter's `normalize.less` sets `[hidden] { display: none; }` but bootstrap.min.css set `[hidden] { display: none !important; }` so we also need the `!important` here to be able to override the default hidden behavior on the sphinx rendered scikit-learn.org. See: https://github.com/scikit-learn/scikit-learn/issues/21755 */display: inline-block !important;position: relative;}#sk-container-id-1 div.sk-text-repr-fallback {display: none;}</style><div id=\"sk-container-id-1\" class=\"sk-top-container\"><div class=\"sk-text-repr-fallback\"><pre>LogisticRegression()</pre><b>In a Jupyter environment, please rerun this cell to show the HTML representation or trust the notebook. <br />On GitHub, the HTML representation is unable to render, please try loading this page with nbviewer.org.</b></div><div class=\"sk-container\" hidden><div class=\"sk-item\"><div class=\"sk-estimator sk-toggleable\"><input class=\"sk-toggleable__control sk-hidden--visually\" id=\"sk-estimator-id-1\" type=\"checkbox\" checked><label for=\"sk-estimator-id-1\" class=\"sk-toggleable__label sk-toggleable__label-arrow\">LogisticRegression</label><div class=\"sk-toggleable__content\"><pre>LogisticRegression()</pre></div></div></div></div></div>"
      ],
      "text/plain": [
       "LogisticRegression()"
      ]
     },
     "execution_count": 47,
     "metadata": {},
     "output_type": "execute_result"
    }
   ],
   "source": [
    "logreg.fit(X_train, y_train)"
   ]
  },
  {
   "cell_type": "markdown",
   "id": "621a5936",
   "metadata": {},
   "source": [
    "### prediction of probabilities of churn"
   ]
  },
  {
   "cell_type": "code",
   "execution_count": 48,
   "id": "04272866",
   "metadata": {},
   "outputs": [
    {
     "data": {
      "text/plain": [
       "array([0.11085014, 0.03894825, 0.59851926, 0.28516505, 0.13078516,\n",
       "       0.07352145, 0.12888344, 0.01646797, 0.18885208, 0.11607231])"
      ]
     },
     "execution_count": 48,
     "metadata": {},
     "output_type": "execute_result"
    }
   ],
   "source": [
    "preds = logreg.predict_proba(X_test)[:, 1]\n",
    "preds[:10]"
   ]
  },
  {
   "cell_type": "markdown",
   "id": "2f70b465",
   "metadata": {},
   "source": [
    "### finding best probability threshold"
   ]
  },
  {
   "cell_type": "code",
   "execution_count": 49,
   "id": "e4226646",
   "metadata": {},
   "outputs": [],
   "source": [
    "from sklearn.metrics import f1_score, roc_auc_score, precision_score, classification_report, \\\n",
    "                            precision_recall_curve, confusion_matrix"
   ]
  },
  {
   "cell_type": "code",
   "execution_count": 50,
   "id": "549d6fcc",
   "metadata": {},
   "outputs": [
    {
     "name": "stdout",
     "output_type": "stream",
     "text": [
      "Best Threshold=0.287473, F-Score=0.831, Precision=0.802, Recall=0.861\n"
     ]
    }
   ],
   "source": [
    "precision, recall, thresholds = precision_recall_curve(y_test, preds)\n",
    "fscore = (2 * precision * recall) / (precision + recall)\n",
    "\n",
    "# locate the index of the largest f-score\n",
    "ix = np.argmax(fscore)\n",
    "print('Best Threshold=%f, F-Score=%.3f, Precision=%.3f, Recall=%.3f' % (thresholds[ix], \n",
    "                                                                        fscore[ix],\n",
    "                                                                        precision[ix],\n",
    "                                                                        recall[ix]))"
   ]
  },
  {
   "cell_type": "markdown",
   "id": "2510bbef",
   "metadata": {},
   "source": [
    "### drawing the confusion matrix"
   ]
  },
  {
   "cell_type": "code",
   "execution_count": 51,
   "id": "13d135b5",
   "metadata": {},
   "outputs": [],
   "source": [
    "def plot_confusion_matrix(cm, classes,\n",
    "                          normalize=False,\n",
    "                          title='Confusion matrix',\n",
    "                          cmap=plt.cm.Blues):\n",
    "    \"\"\"\n",
    "    This function prints and plots the confusion matrix.\n",
    "    Normalization can be applied by setting `normalize=True`.\n",
    "    \"\"\"\n",
    "    \n",
    "    plt.imshow(cm, interpolation='nearest', cmap=cmap)\n",
    "    plt.title(title)\n",
    "    plt.colorbar()\n",
    "    tick_marks = np.arange(len(classes))\n",
    "    plt.xticks(tick_marks, classes, rotation=45)\n",
    "    plt.yticks(tick_marks, classes)\n",
    "\n",
    "    if normalize:\n",
    "        cm = cm.astype('float') / cm.sum(axis=1)[:, np.newaxis]\n",
    "        print(\"Normalized confusion matrix\")\n",
    "    else:\n",
    "        print('Confusion matrix, without normalization')\n",
    "\n",
    "    print(cm)\n",
    "\n",
    "    thresh = cm.max() / 2.\n",
    "    for i, j in itertools.product(range(cm.shape[0]), range(cm.shape[1])):\n",
    "        plt.text(j, i, cm[i, j],\n",
    "                 horizontalalignment=\"center\",\n",
    "                 color=\"white\" if cm[i, j] > thresh else \"black\")\n",
    "\n",
    "    plt.tight_layout()\n",
    "    plt.ylabel('True label')\n",
    "    plt.xlabel('Predicted label')"
   ]
  },
  {
   "cell_type": "code",
   "execution_count": 52,
   "id": "49f4e2e9",
   "metadata": {},
   "outputs": [
    {
     "name": "stdout",
     "output_type": "stream",
     "text": [
      "Confusion matrix, without normalization\n",
      "[[1703   52]\n",
      " [  35  210]]\n"
     ]
    },
    {
     "data": {
      "image/png": "[encoded data removed]",
      "text/plain": [
       "<Figure size 720x576 with 2 Axes>"
      ]
     },
     "metadata": {
      "needs_background": "light"
     },
     "output_type": "display_data"
    }
   ],
   "source": [
    "font = {'size' : 15}\n",
    "\n",
    "plt.rc('font', **font)\n",
    "\n",
    "cnf_matrix = confusion_matrix(y_test, preds > thresholds[ix])\n",
    "plt.figure(figsize=(10, 8))\n",
    "plot_confusion_matrix(cnf_matrix, classes=['non-churn', 'churn'],\n",
    "                      title='Confusion matrix')\n",
    "# plt.savefig(\"conf_matrix.png\")\n",
    "plt.show()"
   ]
  },
  {
   "cell_type": "code",
   "execution_count": 53,
   "id": "45437856",
   "metadata": {},
   "outputs": [
    {
     "data": {
      "text/plain": [
       "0.9822012907727194"
      ]
     },
     "execution_count": 53,
     "metadata": {},
     "output_type": "execute_result"
    }
   ],
   "source": [
    "roc_auc_score(y_test, preds)"
   ]
  },
  {
   "cell_type": "code",
   "execution_count": 54,
   "id": "6fe9096e",
   "metadata": {},
   "outputs": [],
   "source": [
    "metrics_lda_mean_embedding = [fscore[ix], precision[ix], recall[ix], roc_auc_score(y_test, preds)]"
   ]
  },
  {
   "cell_type": "code",
   "execution_count": null,
   "id": "7addda81",
   "metadata": {},
   "outputs": [],
   "source": []
  },
  {
   "cell_type": "code",
   "execution_count": null,
   "id": "8c97ce76",
   "metadata": {},
   "outputs": [],
   "source": []
  },
  {
   "cell_type": "code",
   "execution_count": null,
   "id": "bcadbdff",
   "metadata": {},
   "outputs": [],
   "source": []
  },
  {
   "cell_type": "markdown",
   "id": "21e93749",
   "metadata": {},
   "source": [
    "## Задание 2\n",
    "\n",
    "Модифицировать код функции get_user_embedding таким образом, чтобы считалось не среднее (как в примере np.mean), а медиана. Применить такое преобразование к данным, обучить модель прогнозирования оттока и посчитать метрики качества и сохранить их: roc auc, precision/recall/f_score (для 3 последних - подобрать оптимальный порог с помощью precision_recall_curve, как это делалось на уроке)"
   ]
  },
  {
   "cell_type": "code",
   "execution_count": 55,
   "id": "1d1b9f91",
   "metadata": {},
   "outputs": [],
   "source": [
    "def get_user_embedding(user_articles_list):\n",
    "    '''\n",
    "    The function receives a list of articles' ids a user read - '[323329, 321961, 324743, 323186, 324632, 474690]'.\n",
    "    It converts it into a list. After this list is converted into an array of arrays of articles' probabilities.\n",
    "    After, the array of arrays is transformed into the array of mean values of probabilities.\n",
    "    '''\n",
    "    user_articles_list = eval(user_articles_list)  # converting string into list\n",
    "    user_vector = np.array([doc_dict[doc_id] for doc_id in user_articles_list])  # creation of array of arrays\n",
    "    user_vector = np.median(user_vector, axis=0)  # creation of array of collumns' medians\n",
    "    return user_vector"
   ]
  },
  {
   "cell_type": "code",
   "execution_count": 56,
   "id": "8b5d1011",
   "metadata": {},
   "outputs": [],
   "source": [
    "# array_1 = np.array([1, 2, 3])\n",
    "# array_2 = np.array([4, 5, 6])\n",
    "# array_3 = np.array([2, 3, 2])\n",
    "# resulting_array = np.array([array_1, array_2, array_3])\n",
    "# print(resulting_array)\n",
    "# print(np.median(resulting_array, axis=0))"
   ]
  },
  {
   "cell_type": "code",
   "execution_count": 57,
   "id": "6cba5aea",
   "metadata": {},
   "outputs": [
    {
     "data": {
      "text/html": [
       "<div>\n",
       "<style scoped>\n",
       "    .dataframe tbody tr th:only-of-type {\n",
       "        vertical-align: middle;\n",
       "    }\n",
       "\n",
       "    .dataframe tbody tr th {\n",
       "        vertical-align: top;\n",
       "    }\n",
       "\n",
       "    .dataframe thead th {\n",
       "        text-align: right;\n",
       "    }\n",
       "</style>\n",
       "<table border=\"1\" class=\"dataframe\">\n",
       "  <thead>\n",
       "    <tr style=\"text-align: right;\">\n",
       "      <th></th>\n",
       "      <th>uid</th>\n",
       "      <th>topic_0</th>\n",
       "      <th>topic_1</th>\n",
       "      <th>topic_2</th>\n",
       "      <th>topic_3</th>\n",
       "      <th>topic_4</th>\n",
       "      <th>topic_5</th>\n",
       "      <th>topic_6</th>\n",
       "      <th>topic_7</th>\n",
       "      <th>topic_8</th>\n",
       "      <th>...</th>\n",
       "      <th>topic_15</th>\n",
       "      <th>topic_16</th>\n",
       "      <th>topic_17</th>\n",
       "      <th>topic_18</th>\n",
       "      <th>topic_19</th>\n",
       "      <th>topic_20</th>\n",
       "      <th>topic_21</th>\n",
       "      <th>topic_22</th>\n",
       "      <th>topic_23</th>\n",
       "      <th>topic_24</th>\n",
       "    </tr>\n",
       "  </thead>\n",
       "  <tbody>\n",
       "    <tr>\n",
       "      <th>0</th>\n",
       "      <td>u105138</td>\n",
       "      <td>0.024431</td>\n",
       "      <td>0.0</td>\n",
       "      <td>0.0</td>\n",
       "      <td>0.055337</td>\n",
       "      <td>0.100121</td>\n",
       "      <td>0.0</td>\n",
       "      <td>0.092227</td>\n",
       "      <td>0.084859</td>\n",
       "      <td>0.008842</td>\n",
       "      <td>...</td>\n",
       "      <td>0.000000</td>\n",
       "      <td>0.045902</td>\n",
       "      <td>0.00000</td>\n",
       "      <td>0.028614</td>\n",
       "      <td>0.028052</td>\n",
       "      <td>0.000000</td>\n",
       "      <td>0.090085</td>\n",
       "      <td>0.0</td>\n",
       "      <td>0.0</td>\n",
       "      <td>0.0</td>\n",
       "    </tr>\n",
       "    <tr>\n",
       "      <th>1</th>\n",
       "      <td>u108690</td>\n",
       "      <td>0.010877</td>\n",
       "      <td>0.0</td>\n",
       "      <td>0.0</td>\n",
       "      <td>0.009210</td>\n",
       "      <td>0.104138</td>\n",
       "      <td>0.0</td>\n",
       "      <td>0.000000</td>\n",
       "      <td>0.051339</td>\n",
       "      <td>0.023914</td>\n",
       "      <td>...</td>\n",
       "      <td>0.116473</td>\n",
       "      <td>0.178623</td>\n",
       "      <td>0.01271</td>\n",
       "      <td>0.000000</td>\n",
       "      <td>0.000000</td>\n",
       "      <td>0.014986</td>\n",
       "      <td>0.133469</td>\n",
       "      <td>0.0</td>\n",
       "      <td>0.0</td>\n",
       "      <td>0.0</td>\n",
       "    </tr>\n",
       "  </tbody>\n",
       "</table>\n",
       "<p>2 rows × 26 columns</p>\n",
       "</div>"
      ],
      "text/plain": [
       "       uid   topic_0  topic_1  topic_2   topic_3   topic_4  topic_5   topic_6  \\\n",
       "0  u105138  0.024431      0.0      0.0  0.055337  0.100121      0.0  0.092227   \n",
       "1  u108690  0.010877      0.0      0.0  0.009210  0.104138      0.0  0.000000   \n",
       "\n",
       "    topic_7   topic_8  ...  topic_15  topic_16  topic_17  topic_18  topic_19  \\\n",
       "0  0.084859  0.008842  ...  0.000000  0.045902   0.00000  0.028614  0.028052   \n",
       "1  0.051339  0.023914  ...  0.116473  0.178623   0.01271  0.000000  0.000000   \n",
       "\n",
       "   topic_20  topic_21  topic_22  topic_23  topic_24  \n",
       "0  0.000000  0.090085       0.0       0.0       0.0  \n",
       "1  0.014986  0.133469       0.0       0.0       0.0  \n",
       "\n",
       "[2 rows x 26 columns]"
      ]
     },
     "execution_count": 57,
     "metadata": {},
     "output_type": "execute_result"
    }
   ],
   "source": [
    "user_embeddings = pd.DataFrame([i for i in users['articles'].apply(lambda x: get_user_embedding(x), 1)])\n",
    "user_embeddings.columns = ['topic_{}'.format(i) for i in range(N_topic)]\n",
    "user_embeddings['uid'] = users['uid'].values\n",
    "user_embeddings = user_embeddings[['uid']+['topic_{}'.format(i) for i in range(N_topic)]]\n",
    "user_embeddings.head(2)"
   ]
  },
  {
   "cell_type": "code",
   "execution_count": 58,
   "id": "39ed6a9f",
   "metadata": {},
   "outputs": [],
   "source": [
    "target = pd.read_csv(\"lesson_2_profiling_user_LDA/users_churn.csv\")"
   ]
  },
  {
   "cell_type": "code",
   "execution_count": 59,
   "id": "fdcb447f",
   "metadata": {},
   "outputs": [],
   "source": [
    "X = pd.merge(user_embeddings, target, 'left')"
   ]
  },
  {
   "cell_type": "code",
   "execution_count": 60,
   "id": "0ee4ebe3",
   "metadata": {},
   "outputs": [],
   "source": [
    "X_train, X_test, y_train, y_test = train_test_split(X[['topic_{}'.format(i) for i in range(N_topic)]], \n",
    "                                                    X['churn'], random_state=0)"
   ]
  },
  {
   "cell_type": "code",
   "execution_count": 61,
   "id": "a3fdf2b9",
   "metadata": {},
   "outputs": [],
   "source": [
    "logreg = LogisticRegression()"
   ]
  },
  {
   "cell_type": "code",
   "execution_count": 62,
   "id": "d5f6b778",
   "metadata": {},
   "outputs": [
    {
     "data": {
      "text/html": [
       "<style>#sk-container-id-2 {color: black;background-color: white;}#sk-container-id-2 pre{padding: 0;}#sk-container-id-2 div.sk-toggleable {background-color: white;}#sk-container-id-2 label.sk-toggleable__label {cursor: pointer;display: block;width: 100%;margin-bottom: 0;padding: 0.3em;box-sizing: border-box;text-align: center;}#sk-container-id-2 label.sk-toggleable__label-arrow:before {content: \"▸\";float: left;margin-right: 0.25em;color: #696969;}#sk-container-id-2 label.sk-toggleable__label-arrow:hover:before {color: black;}#sk-container-id-2 div.sk-estimator:hover label.sk-toggleable__label-arrow:before {color: black;}#sk-container-id-2 div.sk-toggleable__content {max-height: 0;max-width: 0;overflow: hidden;text-align: left;background-color: #f0f8ff;}#sk-container-id-2 div.sk-toggleable__content pre {margin: 0.2em;color: black;border-radius: 0.25em;background-color: #f0f8ff;}#sk-container-id-2 input.sk-toggleable__control:checked~div.sk-toggleable__content {max-height: 200px;max-width: 100%;overflow: auto;}#sk-container-id-2 input.sk-toggleable__control:checked~label.sk-toggleable__label-arrow:before {content: \"▾\";}#sk-container-id-2 div.sk-estimator input.sk-toggleable__control:checked~label.sk-toggleable__label {background-color: #d4ebff;}#sk-container-id-2 div.sk-label input.sk-toggleable__control:checked~label.sk-toggleable__label {background-color: #d4ebff;}#sk-container-id-2 input.sk-hidden--visually {border: 0;clip: rect(1px 1px 1px 1px);clip: rect(1px, 1px, 1px, 1px);height: 1px;margin: -1px;overflow: hidden;padding: 0;position: absolute;width: 1px;}#sk-container-id-2 div.sk-estimator {font-family: monospace;background-color: #f0f8ff;border: 1px dotted black;border-radius: 0.25em;box-sizing: border-box;margin-bottom: 0.5em;}#sk-container-id-2 div.sk-estimator:hover {background-color: #d4ebff;}#sk-container-id-2 div.sk-parallel-item::after {content: \"\";width: 100%;border-bottom: 1px solid gray;flex-grow: 1;}#sk-container-id-2 div.sk-label:hover label.sk-toggleable__label {background-color: #d4ebff;}#sk-container-id-2 div.sk-serial::before {content: \"\";position: absolute;border-left: 1px solid gray;box-sizing: border-box;top: 0;bottom: 0;left: 50%;z-index: 0;}#sk-container-id-2 div.sk-serial {display: flex;flex-direction: column;align-items: center;background-color: white;padding-right: 0.2em;padding-left: 0.2em;position: relative;}#sk-container-id-2 div.sk-item {position: relative;z-index: 1;}#sk-container-id-2 div.sk-parallel {display: flex;align-items: stretch;justify-content: center;background-color: white;position: relative;}#sk-container-id-2 div.sk-item::before, #sk-container-id-2 div.sk-parallel-item::before {content: \"\";position: absolute;border-left: 1px solid gray;box-sizing: border-box;top: 0;bottom: 0;left: 50%;z-index: -1;}#sk-container-id-2 div.sk-parallel-item {display: flex;flex-direction: column;z-index: 1;position: relative;background-color: white;}#sk-container-id-2 div.sk-parallel-item:first-child::after {align-self: flex-end;width: 50%;}#sk-container-id-2 div.sk-parallel-item:last-child::after {align-self: flex-start;width: 50%;}#sk-container-id-2 div.sk-parallel-item:only-child::after {width: 0;}#sk-container-id-2 div.sk-dashed-wrapped {border: 1px dashed gray;margin: 0 0.4em 0.5em 0.4em;box-sizing: border-box;padding-bottom: 0.4em;background-color: white;}#sk-container-id-2 div.sk-label label {font-family: monospace;font-weight: bold;display: inline-block;line-height: 1.2em;}#sk-container-id-2 div.sk-label-container {text-align: center;}#sk-container-id-2 div.sk-container {/* jupyter's `normalize.less` sets `[hidden] { display: none; }` but bootstrap.min.css set `[hidden] { display: none !important; }` so we also need the `!important` here to be able to override the default hidden behavior on the sphinx rendered scikit-learn.org. See: https://github.com/scikit-learn/scikit-learn/issues/21755 */display: inline-block !important;position: relative;}#sk-container-id-2 div.sk-text-repr-fallback {display: none;}</style><div id=\"sk-container-id-2\" class=\"sk-top-container\"><div class=\"sk-text-repr-fallback\"><pre>LogisticRegression()</pre><b>In a Jupyter environment, please rerun this cell to show the HTML representation or trust the notebook. <br />On GitHub, the HTML representation is unable to render, please try loading this page with nbviewer.org.</b></div><div class=\"sk-container\" hidden><div class=\"sk-item\"><div class=\"sk-estimator sk-toggleable\"><input class=\"sk-toggleable__control sk-hidden--visually\" id=\"sk-estimator-id-2\" type=\"checkbox\" checked><label for=\"sk-estimator-id-2\" class=\"sk-toggleable__label sk-toggleable__label-arrow\">LogisticRegression</label><div class=\"sk-toggleable__content\"><pre>LogisticRegression()</pre></div></div></div></div></div>"
      ],
      "text/plain": [
       "LogisticRegression()"
      ]
     },
     "execution_count": 62,
     "metadata": {},
     "output_type": "execute_result"
    }
   ],
   "source": [
    "logreg.fit(X_train, y_train)"
   ]
  },
  {
   "cell_type": "code",
   "execution_count": 63,
   "id": "d9f842a4",
   "metadata": {},
   "outputs": [],
   "source": [
    "preds = logreg.predict_proba(X_test)[:, 1]"
   ]
  },
  {
   "cell_type": "code",
   "execution_count": 64,
   "id": "1318da90",
   "metadata": {},
   "outputs": [],
   "source": [
    "from sklearn.metrics import f1_score, roc_auc_score, precision_score, classification_report, \\\n",
    "                            precision_recall_curve, confusion_matrix"
   ]
  },
  {
   "cell_type": "code",
   "execution_count": 65,
   "id": "901a3804",
   "metadata": {},
   "outputs": [
    {
     "name": "stdout",
     "output_type": "stream",
     "text": [
      "Best Threshold=0.257029, F-Score=0.758, Precision=0.684, Recall=0.849\n"
     ]
    }
   ],
   "source": [
    "precision, recall, thresholds = precision_recall_curve(y_test, preds)\n",
    "fscore = (2 * precision * recall) / (precision + recall)\n",
    "\n",
    "# locate the index of the largest f-score\n",
    "ix = np.argmax(fscore)\n",
    "print('Best Threshold=%f, F-Score=%.3f, Precision=%.3f, Recall=%.3f' % (thresholds[ix], \n",
    "                                                                        fscore[ix],\n",
    "                                                                        precision[ix],\n",
    "                                                                        recall[ix]))"
   ]
  },
  {
   "cell_type": "code",
   "execution_count": 66,
   "id": "ffadb498",
   "metadata": {},
   "outputs": [
    {
     "name": "stdout",
     "output_type": "stream",
     "text": [
      "Confusion matrix, without normalization\n",
      "[[1659   96]\n",
      " [  38  207]]\n"
     ]
    },
    {
     "data": {
      "image/png": "[encoded data removed]",
      "text/plain": [
       "<Figure size 720x576 with 2 Axes>"
      ]
     },
     "metadata": {
      "needs_background": "light"
     },
     "output_type": "display_data"
    }
   ],
   "source": [
    "font = {'size' : 15}\n",
    "\n",
    "plt.rc('font', **font)\n",
    "\n",
    "cnf_matrix = confusion_matrix(y_test, preds > thresholds[ix])\n",
    "plt.figure(figsize=(10, 8))\n",
    "plot_confusion_matrix(cnf_matrix, classes=['non-churn', 'churn'],\n",
    "                      title='Confusion matrix')\n",
    "# plt.savefig(\"conf_matrix.png\")\n",
    "plt.show()"
   ]
  },
  {
   "cell_type": "code",
   "execution_count": 67,
   "id": "81ad1c85",
   "metadata": {},
   "outputs": [
    {
     "data": {
      "text/plain": [
       "0.9752520495377638"
      ]
     },
     "execution_count": 67,
     "metadata": {},
     "output_type": "execute_result"
    }
   ],
   "source": [
    "roc_auc_score(y_test, preds)"
   ]
  },
  {
   "cell_type": "code",
   "execution_count": 68,
   "id": "993d9ba1",
   "metadata": {},
   "outputs": [],
   "source": [
    "metrics_lda_median_embedding = [fscore[ix], precision[ix], recall[ix], roc_auc_score(y_test, preds)]"
   ]
  },
  {
   "cell_type": "code",
   "execution_count": null,
   "id": "73046c06",
   "metadata": {},
   "outputs": [],
   "source": []
  },
  {
   "cell_type": "code",
   "execution_count": null,
   "id": "87522001",
   "metadata": {},
   "outputs": [],
   "source": []
  },
  {
   "cell_type": "code",
   "execution_count": null,
   "id": "fc799b31",
   "metadata": {},
   "outputs": [],
   "source": []
  },
  {
   "cell_type": "markdown",
   "id": "f49ef96d",
   "metadata": {},
   "source": [
    "## Задание 3\n",
    "\n",
    "Повторить п.2, но используя уже не медиану, а max"
   ]
  },
  {
   "cell_type": "code",
   "execution_count": 69,
   "id": "f1bd0778",
   "metadata": {},
   "outputs": [],
   "source": [
    "def get_user_embedding(user_articles_list):\n",
    "    '''\n",
    "    The function receives a list of articles' ids a user read - '[323329, 321961, 324743, 323186, 324632, 474690]'.\n",
    "    It converts it into a list. After this list is converted into an array of arrays of articles' probabilities.\n",
    "    After, the array of arrays is transformed into the array of mean values of probabilities.\n",
    "    '''\n",
    "    user_articles_list = eval(user_articles_list)  # converting string into list\n",
    "    user_vector = np.array([doc_dict[doc_id] for doc_id in user_articles_list])  # creation of array of arrays\n",
    "    user_vector = np.max(user_vector, axis=0)  # creation of array of collumns' maxs\n",
    "    return user_vector"
   ]
  },
  {
   "cell_type": "code",
   "execution_count": 70,
   "id": "83d4bbd4",
   "metadata": {},
   "outputs": [],
   "source": [
    "# array_1 = np.array([1, 2, 3])\n",
    "# array_2 = np.array([4, 5, 6])\n",
    "# array_3 = np.array([2, 3, 2])\n",
    "# resulting_array = np.array([array_1, array_2, array_3])\n",
    "# print(resulting_array)\n",
    "# print(np.max(resulting_array, axis=0))"
   ]
  },
  {
   "cell_type": "code",
   "execution_count": 71,
   "id": "616e537a",
   "metadata": {},
   "outputs": [
    {
     "data": {
      "text/html": [
       "<div>\n",
       "<style scoped>\n",
       "    .dataframe tbody tr th:only-of-type {\n",
       "        vertical-align: middle;\n",
       "    }\n",
       "\n",
       "    .dataframe tbody tr th {\n",
       "        vertical-align: top;\n",
       "    }\n",
       "\n",
       "    .dataframe thead th {\n",
       "        text-align: right;\n",
       "    }\n",
       "</style>\n",
       "<table border=\"1\" class=\"dataframe\">\n",
       "  <thead>\n",
       "    <tr style=\"text-align: right;\">\n",
       "      <th></th>\n",
       "      <th>uid</th>\n",
       "      <th>topic_0</th>\n",
       "      <th>topic_1</th>\n",
       "      <th>topic_2</th>\n",
       "      <th>topic_3</th>\n",
       "      <th>topic_4</th>\n",
       "      <th>topic_5</th>\n",
       "      <th>topic_6</th>\n",
       "      <th>topic_7</th>\n",
       "      <th>topic_8</th>\n",
       "      <th>...</th>\n",
       "      <th>topic_15</th>\n",
       "      <th>topic_16</th>\n",
       "      <th>topic_17</th>\n",
       "      <th>topic_18</th>\n",
       "      <th>topic_19</th>\n",
       "      <th>topic_20</th>\n",
       "      <th>topic_21</th>\n",
       "      <th>topic_22</th>\n",
       "      <th>topic_23</th>\n",
       "      <th>topic_24</th>\n",
       "    </tr>\n",
       "  </thead>\n",
       "  <tbody>\n",
       "    <tr>\n",
       "      <th>0</th>\n",
       "      <td>u105138</td>\n",
       "      <td>0.119026</td>\n",
       "      <td>0.057425</td>\n",
       "      <td>0.0</td>\n",
       "      <td>0.157714</td>\n",
       "      <td>0.188634</td>\n",
       "      <td>0.0</td>\n",
       "      <td>0.344222</td>\n",
       "      <td>0.161402</td>\n",
       "      <td>0.169670</td>\n",
       "      <td>...</td>\n",
       "      <td>0.252780</td>\n",
       "      <td>0.440728</td>\n",
       "      <td>0.031934</td>\n",
       "      <td>0.096510</td>\n",
       "      <td>0.198478</td>\n",
       "      <td>0.170504</td>\n",
       "      <td>0.428349</td>\n",
       "      <td>0.020547</td>\n",
       "      <td>0.0</td>\n",
       "      <td>0.000000</td>\n",
       "    </tr>\n",
       "    <tr>\n",
       "      <th>1</th>\n",
       "      <td>u108690</td>\n",
       "      <td>0.147906</td>\n",
       "      <td>0.039221</td>\n",
       "      <td>0.0</td>\n",
       "      <td>0.099395</td>\n",
       "      <td>0.111989</td>\n",
       "      <td>0.0</td>\n",
       "      <td>0.084388</td>\n",
       "      <td>0.234925</td>\n",
       "      <td>0.104932</td>\n",
       "      <td>...</td>\n",
       "      <td>0.240721</td>\n",
       "      <td>0.336214</td>\n",
       "      <td>0.026211</td>\n",
       "      <td>0.012847</td>\n",
       "      <td>0.034344</td>\n",
       "      <td>0.298409</td>\n",
       "      <td>0.392371</td>\n",
       "      <td>0.000000</td>\n",
       "      <td>0.0</td>\n",
       "      <td>0.055754</td>\n",
       "    </tr>\n",
       "  </tbody>\n",
       "</table>\n",
       "<p>2 rows × 26 columns</p>\n",
       "</div>"
      ],
      "text/plain": [
       "       uid   topic_0   topic_1  topic_2   topic_3   topic_4  topic_5  \\\n",
       "0  u105138  0.119026  0.057425      0.0  0.157714  0.188634      0.0   \n",
       "1  u108690  0.147906  0.039221      0.0  0.099395  0.111989      0.0   \n",
       "\n",
       "    topic_6   topic_7   topic_8  ...  topic_15  topic_16  topic_17  topic_18  \\\n",
       "0  0.344222  0.161402  0.169670  ...  0.252780  0.440728  0.031934  0.096510   \n",
       "1  0.084388  0.234925  0.104932  ...  0.240721  0.336214  0.026211  0.012847   \n",
       "\n",
       "   topic_19  topic_20  topic_21  topic_22  topic_23  topic_24  \n",
       "0  0.198478  0.170504  0.428349  0.020547       0.0  0.000000  \n",
       "1  0.034344  0.298409  0.392371  0.000000       0.0  0.055754  \n",
       "\n",
       "[2 rows x 26 columns]"
      ]
     },
     "execution_count": 71,
     "metadata": {},
     "output_type": "execute_result"
    }
   ],
   "source": [
    "user_embeddings = pd.DataFrame([i for i in users['articles'].apply(lambda x: get_user_embedding(x), 1)])\n",
    "user_embeddings.columns = ['topic_{}'.format(i) for i in range(N_topic)]\n",
    "user_embeddings['uid'] = users['uid'].values\n",
    "user_embeddings = user_embeddings[['uid']+['topic_{}'.format(i) for i in range(N_topic)]]\n",
    "user_embeddings.head(2)"
   ]
  },
  {
   "cell_type": "code",
   "execution_count": 72,
   "id": "95243a2c",
   "metadata": {},
   "outputs": [],
   "source": [
    "target = pd.read_csv(\"lesson_2_profiling_user_LDA/users_churn.csv\")"
   ]
  },
  {
   "cell_type": "code",
   "execution_count": 73,
   "id": "66bff0e1",
   "metadata": {},
   "outputs": [],
   "source": [
    "X = pd.merge(user_embeddings, target, 'left')"
   ]
  },
  {
   "cell_type": "code",
   "execution_count": 74,
   "id": "873a5975",
   "metadata": {},
   "outputs": [],
   "source": [
    "X_train, X_test, y_train, y_test = train_test_split(X[['topic_{}'.format(i) for i in range(N_topic)]], \n",
    "                                                    X['churn'], random_state=0)"
   ]
  },
  {
   "cell_type": "code",
   "execution_count": 75,
   "id": "a852524e",
   "metadata": {},
   "outputs": [],
   "source": [
    "logreg = LogisticRegression()"
   ]
  },
  {
   "cell_type": "code",
   "execution_count": 76,
   "id": "3d998c98",
   "metadata": {},
   "outputs": [
    {
     "data": {
      "text/html": [
       "<style>#sk-container-id-3 {color: black;background-color: white;}#sk-container-id-3 pre{padding: 0;}#sk-container-id-3 div.sk-toggleable {background-color: white;}#sk-container-id-3 label.sk-toggleable__label {cursor: pointer;display: block;width: 100%;margin-bottom: 0;padding: 0.3em;box-sizing: border-box;text-align: center;}#sk-container-id-3 label.sk-toggleable__label-arrow:before {content: \"▸\";float: left;margin-right: 0.25em;color: #696969;}#sk-container-id-3 label.sk-toggleable__label-arrow:hover:before {color: black;}#sk-container-id-3 div.sk-estimator:hover label.sk-toggleable__label-arrow:before {color: black;}#sk-container-id-3 div.sk-toggleable__content {max-height: 0;max-width: 0;overflow: hidden;text-align: left;background-color: #f0f8ff;}#sk-container-id-3 div.sk-toggleable__content pre {margin: 0.2em;color: black;border-radius: 0.25em;background-color: #f0f8ff;}#sk-container-id-3 input.sk-toggleable__control:checked~div.sk-toggleable__content {max-height: 200px;max-width: 100%;overflow: auto;}#sk-container-id-3 input.sk-toggleable__control:checked~label.sk-toggleable__label-arrow:before {content: \"▾\";}#sk-container-id-3 div.sk-estimator input.sk-toggleable__control:checked~label.sk-toggleable__label {background-color: #d4ebff;}#sk-container-id-3 div.sk-label input.sk-toggleable__control:checked~label.sk-toggleable__label {background-color: #d4ebff;}#sk-container-id-3 input.sk-hidden--visually {border: 0;clip: rect(1px 1px 1px 1px);clip: rect(1px, 1px, 1px, 1px);height: 1px;margin: -1px;overflow: hidden;padding: 0;position: absolute;width: 1px;}#sk-container-id-3 div.sk-estimator {font-family: monospace;background-color: #f0f8ff;border: 1px dotted black;border-radius: 0.25em;box-sizing: border-box;margin-bottom: 0.5em;}#sk-container-id-3 div.sk-estimator:hover {background-color: #d4ebff;}#sk-container-id-3 div.sk-parallel-item::after {content: \"\";width: 100%;border-bottom: 1px solid gray;flex-grow: 1;}#sk-container-id-3 div.sk-label:hover label.sk-toggleable__label {background-color: #d4ebff;}#sk-container-id-3 div.sk-serial::before {content: \"\";position: absolute;border-left: 1px solid gray;box-sizing: border-box;top: 0;bottom: 0;left: 50%;z-index: 0;}#sk-container-id-3 div.sk-serial {display: flex;flex-direction: column;align-items: center;background-color: white;padding-right: 0.2em;padding-left: 0.2em;position: relative;}#sk-container-id-3 div.sk-item {position: relative;z-index: 1;}#sk-container-id-3 div.sk-parallel {display: flex;align-items: stretch;justify-content: center;background-color: white;position: relative;}#sk-container-id-3 div.sk-item::before, #sk-container-id-3 div.sk-parallel-item::before {content: \"\";position: absolute;border-left: 1px solid gray;box-sizing: border-box;top: 0;bottom: 0;left: 50%;z-index: -1;}#sk-container-id-3 div.sk-parallel-item {display: flex;flex-direction: column;z-index: 1;position: relative;background-color: white;}#sk-container-id-3 div.sk-parallel-item:first-child::after {align-self: flex-end;width: 50%;}#sk-container-id-3 div.sk-parallel-item:last-child::after {align-self: flex-start;width: 50%;}#sk-container-id-3 div.sk-parallel-item:only-child::after {width: 0;}#sk-container-id-3 div.sk-dashed-wrapped {border: 1px dashed gray;margin: 0 0.4em 0.5em 0.4em;box-sizing: border-box;padding-bottom: 0.4em;background-color: white;}#sk-container-id-3 div.sk-label label {font-family: monospace;font-weight: bold;display: inline-block;line-height: 1.2em;}#sk-container-id-3 div.sk-label-container {text-align: center;}#sk-container-id-3 div.sk-container {/* jupyter's `normalize.less` sets `[hidden] { display: none; }` but bootstrap.min.css set `[hidden] { display: none !important; }` so we also need the `!important` here to be able to override the default hidden behavior on the sphinx rendered scikit-learn.org. See: https://github.com/scikit-learn/scikit-learn/issues/21755 */display: inline-block !important;position: relative;}#sk-container-id-3 div.sk-text-repr-fallback {display: none;}</style><div id=\"sk-container-id-3\" class=\"sk-top-container\"><div class=\"sk-text-repr-fallback\"><pre>LogisticRegression()</pre><b>In a Jupyter environment, please rerun this cell to show the HTML representation or trust the notebook. <br />On GitHub, the HTML representation is unable to render, please try loading this page with nbviewer.org.</b></div><div class=\"sk-container\" hidden><div class=\"sk-item\"><div class=\"sk-estimator sk-toggleable\"><input class=\"sk-toggleable__control sk-hidden--visually\" id=\"sk-estimator-id-3\" type=\"checkbox\" checked><label for=\"sk-estimator-id-3\" class=\"sk-toggleable__label sk-toggleable__label-arrow\">LogisticRegression</label><div class=\"sk-toggleable__content\"><pre>LogisticRegression()</pre></div></div></div></div></div>"
      ],
      "text/plain": [
       "LogisticRegression()"
      ]
     },
     "execution_count": 76,
     "metadata": {},
     "output_type": "execute_result"
    }
   ],
   "source": [
    "logreg.fit(X_train, y_train)"
   ]
  },
  {
   "cell_type": "code",
   "execution_count": 77,
   "id": "8b4e7f0d",
   "metadata": {},
   "outputs": [],
   "source": [
    "preds = logreg.predict_proba(X_test)[:, 1]"
   ]
  },
  {
   "cell_type": "code",
   "execution_count": 78,
   "id": "03f3d3be",
   "metadata": {},
   "outputs": [],
   "source": [
    "from sklearn.metrics import f1_score, roc_auc_score, precision_score, classification_report, \\\n",
    "                            precision_recall_curve, confusion_matrix"
   ]
  },
  {
   "cell_type": "code",
   "execution_count": 79,
   "id": "2beab655",
   "metadata": {},
   "outputs": [
    {
     "name": "stdout",
     "output_type": "stream",
     "text": [
      "Best Threshold=0.367353, F-Score=0.845, Precision=0.857, Recall=0.833\n"
     ]
    }
   ],
   "source": [
    "precision, recall, thresholds = precision_recall_curve(y_test, preds)\n",
    "fscore = (2 * precision * recall) / (precision + recall)\n",
    "\n",
    "# locate the index of the largest f-score\n",
    "ix = np.argmax(fscore)\n",
    "print('Best Threshold=%f, F-Score=%.3f, Precision=%.3f, Recall=%.3f' % (thresholds[ix], \n",
    "                                                                        fscore[ix],\n",
    "                                                                        precision[ix],\n",
    "                                                                        recall[ix]))"
   ]
  },
  {
   "cell_type": "code",
   "execution_count": 80,
   "id": "1b2e6b38",
   "metadata": {},
   "outputs": [
    {
     "name": "stdout",
     "output_type": "stream",
     "text": [
      "Confusion matrix, without normalization\n",
      "[[1721   34]\n",
      " [  42  203]]\n"
     ]
    },
    {
     "data": {
      "image/png": "[encoded data removed]",
      "text/plain": [
       "<Figure size 720x576 with 2 Axes>"
      ]
     },
     "metadata": {
      "needs_background": "light"
     },
     "output_type": "display_data"
    }
   ],
   "source": [
    "font = {'size' : 15}\n",
    "\n",
    "plt.rc('font', **font)\n",
    "\n",
    "cnf_matrix = confusion_matrix(y_test, preds > thresholds[ix])\n",
    "plt.figure(figsize=(10, 8))\n",
    "plot_confusion_matrix(cnf_matrix, classes=['non-churn', 'churn'],\n",
    "                      title='Confusion matrix')\n",
    "# plt.savefig(\"conf_matrix.png\")\n",
    "plt.show()"
   ]
  },
  {
   "cell_type": "code",
   "execution_count": 81,
   "id": "a364f95f",
   "metadata": {},
   "outputs": [
    {
     "data": {
      "text/plain": [
       "0.9830478516192802"
      ]
     },
     "execution_count": 81,
     "metadata": {},
     "output_type": "execute_result"
    }
   ],
   "source": [
    "roc_auc_score(y_test, preds)"
   ]
  },
  {
   "cell_type": "code",
   "execution_count": 82,
   "id": "8bf82395",
   "metadata": {},
   "outputs": [],
   "source": [
    "metrics_lda_max_embedding = [fscore[ix], precision[ix], recall[ix], roc_auc_score(y_test, preds)]"
   ]
  },
  {
   "cell_type": "code",
   "execution_count": null,
   "id": "0f7b31db",
   "metadata": {},
   "outputs": [],
   "source": []
  },
  {
   "cell_type": "code",
   "execution_count": null,
   "id": "641065ce",
   "metadata": {},
   "outputs": [],
   "source": []
  },
  {
   "cell_type": "code",
   "execution_count": null,
   "id": "3d792b73",
   "metadata": {},
   "outputs": [],
   "source": []
  },
  {
   "cell_type": "markdown",
   "id": "89f695c0",
   "metadata": {},
   "source": [
    "### Задание 4 (опциональное) \n",
    "\n",
    "Воспользовавшись полученными знаниями из п.1, повторить пункт 2, но уже взвешивая новости по tfidf (подсказка: нужно получить веса-коэффициенты для каждого документа. Не все документы одинаково информативны и несут какой-то положительный сигнал). Подсказка 2 - нужен именно idf, как вес."
   ]
  },
  {
   "cell_type": "code",
   "execution_count": null,
   "id": "98ca260c",
   "metadata": {},
   "outputs": [],
   "source": []
  },
  {
   "cell_type": "markdown",
   "id": "6dad1a44",
   "metadata": {},
   "source": [
    "# не знаю как 'нужен именно idf, как вес', сделал как получилось, но с TF-IDF подходом"
   ]
  },
  {
   "cell_type": "code",
   "execution_count": null,
   "id": "9b9666c6",
   "metadata": {},
   "outputs": [],
   "source": []
  },
  {
   "cell_type": "code",
   "execution_count": 125,
   "id": "0dbbf4b7",
   "metadata": {},
   "outputs": [],
   "source": [
    "from sklearn.feature_extraction.text import TfidfVectorizer"
   ]
  },
  {
   "cell_type": "markdown",
   "id": "1fb6ffa9",
   "metadata": {},
   "source": [
    "### TfidfVectorizer initialization"
   ]
  },
  {
   "cell_type": "code",
   "execution_count": 126,
   "id": "9c6852a6",
   "metadata": {},
   "outputs": [],
   "source": [
    "N_features=100\n",
    "tf = TfidfVectorizer(stop_words=stopword_ru, max_features=N_features)"
   ]
  },
  {
   "cell_type": "code",
   "execution_count": 127,
   "id": "43ec9fd5",
   "metadata": {},
   "outputs": [
    {
     "data": {
      "text/html": [
       "<div>\n",
       "<style scoped>\n",
       "    .dataframe tbody tr th:only-of-type {\n",
       "        vertical-align: middle;\n",
       "    }\n",
       "\n",
       "    .dataframe tbody tr th {\n",
       "        vertical-align: top;\n",
       "    }\n",
       "\n",
       "    .dataframe thead th {\n",
       "        text-align: right;\n",
       "    }\n",
       "</style>\n",
       "<table border=\"1\" class=\"dataframe\">\n",
       "  <thead>\n",
       "    <tr style=\"text-align: right;\">\n",
       "      <th></th>\n",
       "      <th>doc_id</th>\n",
       "      <th>title</th>\n",
       "    </tr>\n",
       "  </thead>\n",
       "  <tbody>\n",
       "    <tr>\n",
       "      <th>0</th>\n",
       "      <td>6</td>\n",
       "      <td>[заместитель, председатель, правительство, рф,...</td>\n",
       "    </tr>\n",
       "    <tr>\n",
       "      <th>1</th>\n",
       "      <td>4896</td>\n",
       "      <td>[матч, финал, кубок, россия, футбол, приостано...</td>\n",
       "    </tr>\n",
       "    <tr>\n",
       "      <th>2</th>\n",
       "      <td>4897</td>\n",
       "      <td>[форвард, авангард, томаш, заборский, прокомме...</td>\n",
       "    </tr>\n",
       "    <tr>\n",
       "      <th>3</th>\n",
       "      <td>4898</td>\n",
       "      <td>[главный, тренер, кубань, юрий, красножанин, п...</td>\n",
       "    </tr>\n",
       "    <tr>\n",
       "      <th>4</th>\n",
       "      <td>4899</td>\n",
       "      <td>[решение, попечительский, совет, владивостокск...</td>\n",
       "    </tr>\n",
       "    <tr>\n",
       "      <th>...</th>\n",
       "      <td>...</td>\n",
       "      <td>...</td>\n",
       "    </tr>\n",
       "    <tr>\n",
       "      <th>26995</th>\n",
       "      <td>513441</td>\n",
       "      <td>[учёный, токийский, университет, морской, наук...</td>\n",
       "    </tr>\n",
       "    <tr>\n",
       "      <th>26996</th>\n",
       "      <td>513442</td>\n",
       "      <td>[глава, кафедра, отечественный, история, xx, в...</td>\n",
       "    </tr>\n",
       "    <tr>\n",
       "      <th>26997</th>\n",
       "      <td>513443</td>\n",
       "      <td>[американский, учёный, уточнить, возраст, расп...</td>\n",
       "    </tr>\n",
       "    <tr>\n",
       "      <th>26998</th>\n",
       "      <td>513444</td>\n",
       "      <td>[последний, тропический, углеродный, цикл, чув...</td>\n",
       "    </tr>\n",
       "    <tr>\n",
       "      <th>26999</th>\n",
       "      <td>513445</td>\n",
       "      <td>[жить, примерно, тыс, назад, территория, совре...</td>\n",
       "    </tr>\n",
       "  </tbody>\n",
       "</table>\n",
       "<p>27000 rows × 2 columns</p>\n",
       "</div>"
      ],
      "text/plain": [
       "       doc_id                                              title\n",
       "0           6  [заместитель, председатель, правительство, рф,...\n",
       "1        4896  [матч, финал, кубок, россия, футбол, приостано...\n",
       "2        4897  [форвард, авангард, томаш, заборский, прокомме...\n",
       "3        4898  [главный, тренер, кубань, юрий, красножанин, п...\n",
       "4        4899  [решение, попечительский, совет, владивостокск...\n",
       "...       ...                                                ...\n",
       "26995  513441  [учёный, токийский, университет, морской, наук...\n",
       "26996  513442  [глава, кафедра, отечественный, история, xx, в...\n",
       "26997  513443  [американский, учёный, уточнить, возраст, расп...\n",
       "26998  513444  [последний, тропический, углеродный, цикл, чув...\n",
       "26999  513445  [жить, примерно, тыс, назад, территория, совре...\n",
       "\n",
       "[27000 rows x 2 columns]"
      ]
     },
     "execution_count": 127,
     "metadata": {},
     "output_type": "execute_result"
    }
   ],
   "source": [
    "news_ = news.copy()  # precautions measures\n",
    "news_"
   ]
  },
  {
   "cell_type": "markdown",
   "id": "c29fbe87",
   "metadata": {},
   "source": [
    "### changing datatype of news_['title'] from list to string"
   ]
  },
  {
   "cell_type": "code",
   "execution_count": 128,
   "id": "9710de31",
   "metadata": {},
   "outputs": [],
   "source": [
    "news_['title'] = news_['title'].apply(lambda x: clean_text(str(x)))"
   ]
  },
  {
   "cell_type": "code",
   "execution_count": 129,
   "id": "c7090882",
   "metadata": {},
   "outputs": [
    {
     "data": {
      "text/plain": [
       "0        заместитель председатель правительство рф серг...\n",
       "1        матч финал кубок россия футбол приостановить с...\n",
       "2        форвард авангард томаш заборский прокомментиро...\n",
       "3        главный тренер кубань юрий красножанин прокомм...\n",
       "4        решение попечительский совет владивостокский с...\n",
       "                               ...                        \n",
       "26995    учёный токийский университет морской наука тех...\n",
       "26996    глава кафедра отечественный история xx век ист...\n",
       "26997    американский учёный уточнить возраст расположи...\n",
       "26998    последний тропический углеродный цикл чувствит...\n",
       "26999    жить примерно тыс назад территория современный...\n",
       "Name: title, Length: 27000, dtype: object"
      ]
     },
     "execution_count": 129,
     "metadata": {},
     "output_type": "execute_result"
    }
   ],
   "source": [
    "news_['title']"
   ]
  },
  {
   "cell_type": "markdown",
   "id": "13b0f648",
   "metadata": {},
   "source": [
    "### creation of sparse matrix with tf.fit_transform"
   ]
  },
  {
   "cell_type": "code",
   "execution_count": 130,
   "id": "5c689a4f",
   "metadata": {},
   "outputs": [
    {
     "name": "stderr",
     "output_type": "stream",
     "text": [
      "C:\\Users\\fross\\anaconda3\\lib\\site-packages\\sklearn\\feature_extraction\\text.py:404: UserWarning: Your stop_words may be inconsistent with your preprocessing. Tokenizing the stop words generated tokens ['_ссылка', 'всё', 'интерфакс', 'как_сообщили_риа_', 'новости', 'передает_риа_', 'сообщает_', 'сообщает_риа_'] not in stop_words.\n",
      "  warnings.warn(\n"
     ]
    },
    {
     "data": {
      "text/plain": [
       "<27000x100 sparse matrix of type '<class 'numpy.float64'>'\n",
       "\twith 463980 stored elements in Compressed Sparse Row format>"
      ]
     },
     "execution_count": 130,
     "metadata": {},
     "output_type": "execute_result"
    }
   ],
   "source": [
    "tfidf_articles = tf.fit_transform(news_['title'])\n",
    "tfidf_articles"
   ]
  },
  {
   "cell_type": "code",
   "execution_count": 131,
   "id": "ae1a9430",
   "metadata": {},
   "outputs": [
    {
     "data": {
      "text/html": [
       "<div>\n",
       "<style scoped>\n",
       "    .dataframe tbody tr th:only-of-type {\n",
       "        vertical-align: middle;\n",
       "    }\n",
       "\n",
       "    .dataframe tbody tr th {\n",
       "        vertical-align: top;\n",
       "    }\n",
       "\n",
       "    .dataframe thead th {\n",
       "        text-align: right;\n",
       "    }\n",
       "</style>\n",
       "<table border=\"1\" class=\"dataframe\">\n",
       "  <thead>\n",
       "    <tr style=\"text-align: right;\">\n",
       "      <th></th>\n",
       "      <th>word_0</th>\n",
       "      <th>word_1</th>\n",
       "      <th>word_2</th>\n",
       "      <th>word_3</th>\n",
       "      <th>word_4</th>\n",
       "      <th>word_5</th>\n",
       "      <th>word_6</th>\n",
       "      <th>word_7</th>\n",
       "      <th>word_8</th>\n",
       "      <th>word_9</th>\n",
       "      <th>...</th>\n",
       "      <th>word_90</th>\n",
       "      <th>word_91</th>\n",
       "      <th>word_92</th>\n",
       "      <th>word_93</th>\n",
       "      <th>word_94</th>\n",
       "      <th>word_95</th>\n",
       "      <th>word_96</th>\n",
       "      <th>word_97</th>\n",
       "      <th>word_98</th>\n",
       "      <th>word_99</th>\n",
       "    </tr>\n",
       "  </thead>\n",
       "  <tbody>\n",
       "    <tr>\n",
       "      <th>0</th>\n",
       "      <td>0.564466</td>\n",
       "      <td>0.000000</td>\n",
       "      <td>0.0</td>\n",
       "      <td>0.255722</td>\n",
       "      <td>0.0</td>\n",
       "      <td>0.0</td>\n",
       "      <td>0.0</td>\n",
       "      <td>0.0</td>\n",
       "      <td>0.177648</td>\n",
       "      <td>0.0</td>\n",
       "      <td>...</td>\n",
       "      <td>0.0</td>\n",
       "      <td>0.0</td>\n",
       "      <td>0.0</td>\n",
       "      <td>0.0</td>\n",
       "      <td>0.0</td>\n",
       "      <td>0.0</td>\n",
       "      <td>0.0</td>\n",
       "      <td>0.0</td>\n",
       "      <td>0.0</td>\n",
       "      <td>0.0</td>\n",
       "    </tr>\n",
       "    <tr>\n",
       "      <th>1</th>\n",
       "      <td>0.000000</td>\n",
       "      <td>0.697328</td>\n",
       "      <td>0.0</td>\n",
       "      <td>0.000000</td>\n",
       "      <td>0.0</td>\n",
       "      <td>0.0</td>\n",
       "      <td>0.0</td>\n",
       "      <td>0.0</td>\n",
       "      <td>0.000000</td>\n",
       "      <td>0.0</td>\n",
       "      <td>...</td>\n",
       "      <td>0.0</td>\n",
       "      <td>0.0</td>\n",
       "      <td>0.0</td>\n",
       "      <td>0.0</td>\n",
       "      <td>0.0</td>\n",
       "      <td>0.0</td>\n",
       "      <td>0.0</td>\n",
       "      <td>0.0</td>\n",
       "      <td>0.0</td>\n",
       "      <td>0.0</td>\n",
       "    </tr>\n",
       "  </tbody>\n",
       "</table>\n",
       "<p>2 rows × 100 columns</p>\n",
       "</div>"
      ],
      "text/plain": [
       "     word_0    word_1  word_2    word_3  word_4  word_5  word_6  word_7  \\\n",
       "0  0.564466  0.000000     0.0  0.255722     0.0     0.0     0.0     0.0   \n",
       "1  0.000000  0.697328     0.0  0.000000     0.0     0.0     0.0     0.0   \n",
       "\n",
       "     word_8  word_9  ...  word_90  word_91  word_92  word_93  word_94  \\\n",
       "0  0.177648     0.0  ...      0.0      0.0      0.0      0.0      0.0   \n",
       "1  0.000000     0.0  ...      0.0      0.0      0.0      0.0      0.0   \n",
       "\n",
       "   word_95  word_96  word_97  word_98  word_99  \n",
       "0      0.0      0.0      0.0      0.0      0.0  \n",
       "1      0.0      0.0      0.0      0.0      0.0  \n",
       "\n",
       "[2 rows x 100 columns]"
      ]
     },
     "execution_count": 131,
     "metadata": {},
     "output_type": "execute_result"
    }
   ],
   "source": [
    "tfidf_matrix = pd.DataFrame.sparse.from_spmatrix(tfidf_articles, columns=sorted(tf.vocabulary_))\n",
    "tfidf_matrix.columns = ['word_{}'.format(i) for i in range(N_features)]  # changing names of columns from real words \n",
    "                                                                         # to word_0, word_1, word_2...\n",
    "tfidf_matrix.head(2)"
   ]
  },
  {
   "cell_type": "markdown",
   "id": "9023ab4d",
   "metadata": {},
   "source": [
    "### adding to tfidf_matrix 'doc_id' column"
   ]
  },
  {
   "cell_type": "code",
   "execution_count": 132,
   "id": "0e530d99",
   "metadata": {},
   "outputs": [
    {
     "name": "stderr",
     "output_type": "stream",
     "text": [
      "C:\\Users\\fross\\AppData\\Local\\Temp/ipykernel_18224/3738657765.py:1: PerformanceWarning: DataFrame is highly fragmented.  This is usually the result of calling `frame.insert` many times, which has poor performance.  Consider joining all columns at once using pd.concat(axis=1) instead.  To get a de-fragmented frame, use `newframe = frame.copy()`\n",
      "  tfidf_matrix['doc_id'] = news_['doc_id'].values\n"
     ]
    },
    {
     "data": {
      "text/html": [
       "<div>\n",
       "<style scoped>\n",
       "    .dataframe tbody tr th:only-of-type {\n",
       "        vertical-align: middle;\n",
       "    }\n",
       "\n",
       "    .dataframe tbody tr th {\n",
       "        vertical-align: top;\n",
       "    }\n",
       "\n",
       "    .dataframe thead th {\n",
       "        text-align: right;\n",
       "    }\n",
       "</style>\n",
       "<table border=\"1\" class=\"dataframe\">\n",
       "  <thead>\n",
       "    <tr style=\"text-align: right;\">\n",
       "      <th></th>\n",
       "      <th>word_0</th>\n",
       "      <th>word_1</th>\n",
       "      <th>word_2</th>\n",
       "      <th>word_3</th>\n",
       "      <th>word_4</th>\n",
       "      <th>word_5</th>\n",
       "      <th>word_6</th>\n",
       "      <th>word_7</th>\n",
       "      <th>word_8</th>\n",
       "      <th>word_9</th>\n",
       "      <th>...</th>\n",
       "      <th>word_91</th>\n",
       "      <th>word_92</th>\n",
       "      <th>word_93</th>\n",
       "      <th>word_94</th>\n",
       "      <th>word_95</th>\n",
       "      <th>word_96</th>\n",
       "      <th>word_97</th>\n",
       "      <th>word_98</th>\n",
       "      <th>word_99</th>\n",
       "      <th>doc_id</th>\n",
       "    </tr>\n",
       "  </thead>\n",
       "  <tbody>\n",
       "    <tr>\n",
       "      <th>0</th>\n",
       "      <td>0.564466</td>\n",
       "      <td>0.000000</td>\n",
       "      <td>0.0</td>\n",
       "      <td>0.255722</td>\n",
       "      <td>0.0</td>\n",
       "      <td>0.0</td>\n",
       "      <td>0.0</td>\n",
       "      <td>0.0</td>\n",
       "      <td>0.177648</td>\n",
       "      <td>0.0</td>\n",
       "      <td>...</td>\n",
       "      <td>0.0</td>\n",
       "      <td>0.0</td>\n",
       "      <td>0.0</td>\n",
       "      <td>0.0</td>\n",
       "      <td>0.0</td>\n",
       "      <td>0.0</td>\n",
       "      <td>0.0</td>\n",
       "      <td>0.0</td>\n",
       "      <td>0.0</td>\n",
       "      <td>6</td>\n",
       "    </tr>\n",
       "    <tr>\n",
       "      <th>1</th>\n",
       "      <td>0.000000</td>\n",
       "      <td>0.697328</td>\n",
       "      <td>0.0</td>\n",
       "      <td>0.000000</td>\n",
       "      <td>0.0</td>\n",
       "      <td>0.0</td>\n",
       "      <td>0.0</td>\n",
       "      <td>0.0</td>\n",
       "      <td>0.000000</td>\n",
       "      <td>0.0</td>\n",
       "      <td>...</td>\n",
       "      <td>0.0</td>\n",
       "      <td>0.0</td>\n",
       "      <td>0.0</td>\n",
       "      <td>0.0</td>\n",
       "      <td>0.0</td>\n",
       "      <td>0.0</td>\n",
       "      <td>0.0</td>\n",
       "      <td>0.0</td>\n",
       "      <td>0.0</td>\n",
       "      <td>4896</td>\n",
       "    </tr>\n",
       "  </tbody>\n",
       "</table>\n",
       "<p>2 rows × 101 columns</p>\n",
       "</div>"
      ],
      "text/plain": [
       "     word_0    word_1  word_2    word_3  word_4  word_5  word_6  word_7  \\\n",
       "0  0.564466  0.000000     0.0  0.255722     0.0     0.0     0.0     0.0   \n",
       "1  0.000000  0.697328     0.0  0.000000     0.0     0.0     0.0     0.0   \n",
       "\n",
       "     word_8  word_9  ...  word_91  word_92  word_93  word_94  word_95  \\\n",
       "0  0.177648     0.0  ...      0.0      0.0      0.0      0.0      0.0   \n",
       "1  0.000000     0.0  ...      0.0      0.0      0.0      0.0      0.0   \n",
       "\n",
       "   word_96  word_97  word_98  word_99  doc_id  \n",
       "0      0.0      0.0      0.0      0.0       6  \n",
       "1      0.0      0.0      0.0      0.0    4896  \n",
       "\n",
       "[2 rows x 101 columns]"
      ]
     },
     "execution_count": 132,
     "metadata": {},
     "output_type": "execute_result"
    }
   ],
   "source": [
    "tfidf_matrix['doc_id'] = news_['doc_id'].values\n",
    "tfidf_matrix.head(2)"
   ]
  },
  {
   "cell_type": "markdown",
   "id": "49c0f943",
   "metadata": {},
   "source": [
    "### transformation of tfidf_matrix into a dictionary"
   ]
  },
  {
   "cell_type": "code",
   "execution_count": 133,
   "id": "c5f87961",
   "metadata": {},
   "outputs": [],
   "source": [
    "doc_dict = dict(zip(tfidf_matrix['doc_id'].values, tfidf_matrix[['word_{}'.format(i) for i in range(N_features)]].values))"
   ]
  },
  {
   "cell_type": "markdown",
   "id": "0a715be7",
   "metadata": {},
   "source": [
    "### creation of users' vectors; np.mean is used in embedding"
   ]
  },
  {
   "cell_type": "code",
   "execution_count": 134,
   "id": "57fab1ac",
   "metadata": {},
   "outputs": [],
   "source": [
    "def get_user_embedding(user_articles_list):\n",
    "    '''\n",
    "    The function receives a list of articles' ids a user read - '[323329, 321961, 324743, 323186, 324632, 474690]'.\n",
    "    It converts it into a list. After this list is converted into an array of arrays of articles' probabilities.\n",
    "    After, the array of arrays is transformed into the array of mean values of probabilities.\n",
    "    '''\n",
    "    user_articles_list = eval(user_articles_list)  # converting string into list\n",
    "    user_vector = np.array([doc_dict[doc_id] for doc_id in user_articles_list])  # creation of array of arrays\n",
    "    user_vector = np.mean(user_vector, axis=0)  # creation of array of collumns' maxs\n",
    "    return user_vector"
   ]
  },
  {
   "cell_type": "code",
   "execution_count": 135,
   "id": "a5abfb11",
   "metadata": {},
   "outputs": [
    {
     "data": {
      "text/html": [
       "<div>\n",
       "<style scoped>\n",
       "    .dataframe tbody tr th:only-of-type {\n",
       "        vertical-align: middle;\n",
       "    }\n",
       "\n",
       "    .dataframe tbody tr th {\n",
       "        vertical-align: top;\n",
       "    }\n",
       "\n",
       "    .dataframe thead th {\n",
       "        text-align: right;\n",
       "    }\n",
       "</style>\n",
       "<table border=\"1\" class=\"dataframe\">\n",
       "  <thead>\n",
       "    <tr style=\"text-align: right;\">\n",
       "      <th></th>\n",
       "      <th>uid</th>\n",
       "      <th>word_0</th>\n",
       "      <th>word_1</th>\n",
       "      <th>word_2</th>\n",
       "      <th>word_3</th>\n",
       "      <th>word_4</th>\n",
       "      <th>word_5</th>\n",
       "      <th>word_6</th>\n",
       "      <th>word_7</th>\n",
       "      <th>word_8</th>\n",
       "      <th>...</th>\n",
       "      <th>word_90</th>\n",
       "      <th>word_91</th>\n",
       "      <th>word_92</th>\n",
       "      <th>word_93</th>\n",
       "      <th>word_94</th>\n",
       "      <th>word_95</th>\n",
       "      <th>word_96</th>\n",
       "      <th>word_97</th>\n",
       "      <th>word_98</th>\n",
       "      <th>word_99</th>\n",
       "    </tr>\n",
       "  </thead>\n",
       "  <tbody>\n",
       "    <tr>\n",
       "      <th>0</th>\n",
       "      <td>u105138</td>\n",
       "      <td>0.170270</td>\n",
       "      <td>0.035110</td>\n",
       "      <td>0.125729</td>\n",
       "      <td>0.0</td>\n",
       "      <td>0.078510</td>\n",
       "      <td>0.000000</td>\n",
       "      <td>0.000000</td>\n",
       "      <td>0.066400</td>\n",
       "      <td>0.064866</td>\n",
       "      <td>...</td>\n",
       "      <td>0.0</td>\n",
       "      <td>0.110193</td>\n",
       "      <td>0.000000</td>\n",
       "      <td>0.000000</td>\n",
       "      <td>0.000000</td>\n",
       "      <td>0.0</td>\n",
       "      <td>0.0</td>\n",
       "      <td>0.000000</td>\n",
       "      <td>0.000000</td>\n",
       "      <td>0.000000</td>\n",
       "    </tr>\n",
       "    <tr>\n",
       "      <th>1</th>\n",
       "      <td>u108690</td>\n",
       "      <td>0.048984</td>\n",
       "      <td>0.008298</td>\n",
       "      <td>0.030378</td>\n",
       "      <td>0.0</td>\n",
       "      <td>0.060469</td>\n",
       "      <td>0.031747</td>\n",
       "      <td>0.050475</td>\n",
       "      <td>0.026896</td>\n",
       "      <td>0.046313</td>\n",
       "      <td>...</td>\n",
       "      <td>0.0</td>\n",
       "      <td>0.328820</td>\n",
       "      <td>0.091238</td>\n",
       "      <td>0.035267</td>\n",
       "      <td>0.010589</td>\n",
       "      <td>0.0</td>\n",
       "      <td>0.0</td>\n",
       "      <td>0.039674</td>\n",
       "      <td>0.021024</td>\n",
       "      <td>0.021627</td>\n",
       "    </tr>\n",
       "  </tbody>\n",
       "</table>\n",
       "<p>2 rows × 101 columns</p>\n",
       "</div>"
      ],
      "text/plain": [
       "       uid    word_0    word_1    word_2  word_3    word_4    word_5  \\\n",
       "0  u105138  0.170270  0.035110  0.125729     0.0  0.078510  0.000000   \n",
       "1  u108690  0.048984  0.008298  0.030378     0.0  0.060469  0.031747   \n",
       "\n",
       "     word_6    word_7    word_8  ...  word_90   word_91   word_92   word_93  \\\n",
       "0  0.000000  0.066400  0.064866  ...      0.0  0.110193  0.000000  0.000000   \n",
       "1  0.050475  0.026896  0.046313  ...      0.0  0.328820  0.091238  0.035267   \n",
       "\n",
       "    word_94  word_95  word_96   word_97   word_98   word_99  \n",
       "0  0.000000      0.0      0.0  0.000000  0.000000  0.000000  \n",
       "1  0.010589      0.0      0.0  0.039674  0.021024  0.021627  \n",
       "\n",
       "[2 rows x 101 columns]"
      ]
     },
     "execution_count": 135,
     "metadata": {},
     "output_type": "execute_result"
    }
   ],
   "source": [
    "user_embeddings = pd.DataFrame([i for i in users['articles'].apply(lambda x: get_user_embedding(x), 1)])\n",
    "user_embeddings.columns = ['word_{}'.format(i) for i in range(N_features)]\n",
    "user_embeddings['uid'] = users['uid'].values\n",
    "user_embeddings = user_embeddings[['uid']+['word_{}'.format(i) for i in range(N_features)]]\n",
    "user_embeddings.head(2)"
   ]
  },
  {
   "cell_type": "markdown",
   "id": "0ea27303",
   "metadata": {},
   "source": [
    "### prediction model and test"
   ]
  },
  {
   "cell_type": "code",
   "execution_count": 136,
   "id": "134894e1",
   "metadata": {},
   "outputs": [],
   "source": [
    "target = pd.read_csv(\"lesson_2_profiling_user_LDA/users_churn.csv\")"
   ]
  },
  {
   "cell_type": "code",
   "execution_count": 137,
   "id": "8bbe6d96",
   "metadata": {},
   "outputs": [],
   "source": [
    "X = pd.merge(user_embeddings, target, 'left')"
   ]
  },
  {
   "cell_type": "code",
   "execution_count": 138,
   "id": "83e3998c",
   "metadata": {},
   "outputs": [],
   "source": [
    "X_train, X_test, y_train, y_test = train_test_split(X[['word_{}'.format(i) for i in range(N_features)]], \n",
    "                                                    X['churn'], random_state=0)"
   ]
  },
  {
   "cell_type": "code",
   "execution_count": 139,
   "id": "490cb913",
   "metadata": {},
   "outputs": [],
   "source": [
    "logreg = LogisticRegression()"
   ]
  },
  {
   "cell_type": "code",
   "execution_count": 140,
   "id": "d21d2816",
   "metadata": {},
   "outputs": [
    {
     "data": {
      "text/html": [
       "<style>#sk-container-id-5 {color: black;background-color: white;}#sk-container-id-5 pre{padding: 0;}#sk-container-id-5 div.sk-toggleable {background-color: white;}#sk-container-id-5 label.sk-toggleable__label {cursor: pointer;display: block;width: 100%;margin-bottom: 0;padding: 0.3em;box-sizing: border-box;text-align: center;}#sk-container-id-5 label.sk-toggleable__label-arrow:before {content: \"▸\";float: left;margin-right: 0.25em;color: #696969;}#sk-container-id-5 label.sk-toggleable__label-arrow:hover:before {color: black;}#sk-container-id-5 div.sk-estimator:hover label.sk-toggleable__label-arrow:before {color: black;}#sk-container-id-5 div.sk-toggleable__content {max-height: 0;max-width: 0;overflow: hidden;text-align: left;background-color: #f0f8ff;}#sk-container-id-5 div.sk-toggleable__content pre {margin: 0.2em;color: black;border-radius: 0.25em;background-color: #f0f8ff;}#sk-container-id-5 input.sk-toggleable__control:checked~div.sk-toggleable__content {max-height: 200px;max-width: 100%;overflow: auto;}#sk-container-id-5 input.sk-toggleable__control:checked~label.sk-toggleable__label-arrow:before {content: \"▾\";}#sk-container-id-5 div.sk-estimator input.sk-toggleable__control:checked~label.sk-toggleable__label {background-color: #d4ebff;}#sk-container-id-5 div.sk-label input.sk-toggleable__control:checked~label.sk-toggleable__label {background-color: #d4ebff;}#sk-container-id-5 input.sk-hidden--visually {border: 0;clip: rect(1px 1px 1px 1px);clip: rect(1px, 1px, 1px, 1px);height: 1px;margin: -1px;overflow: hidden;padding: 0;position: absolute;width: 1px;}#sk-container-id-5 div.sk-estimator {font-family: monospace;background-color: #f0f8ff;border: 1px dotted black;border-radius: 0.25em;box-sizing: border-box;margin-bottom: 0.5em;}#sk-container-id-5 div.sk-estimator:hover {background-color: #d4ebff;}#sk-container-id-5 div.sk-parallel-item::after {content: \"\";width: 100%;border-bottom: 1px solid gray;flex-grow: 1;}#sk-container-id-5 div.sk-label:hover label.sk-toggleable__label {background-color: #d4ebff;}#sk-container-id-5 div.sk-serial::before {content: \"\";position: absolute;border-left: 1px solid gray;box-sizing: border-box;top: 0;bottom: 0;left: 50%;z-index: 0;}#sk-container-id-5 div.sk-serial {display: flex;flex-direction: column;align-items: center;background-color: white;padding-right: 0.2em;padding-left: 0.2em;position: relative;}#sk-container-id-5 div.sk-item {position: relative;z-index: 1;}#sk-container-id-5 div.sk-parallel {display: flex;align-items: stretch;justify-content: center;background-color: white;position: relative;}#sk-container-id-5 div.sk-item::before, #sk-container-id-5 div.sk-parallel-item::before {content: \"\";position: absolute;border-left: 1px solid gray;box-sizing: border-box;top: 0;bottom: 0;left: 50%;z-index: -1;}#sk-container-id-5 div.sk-parallel-item {display: flex;flex-direction: column;z-index: 1;position: relative;background-color: white;}#sk-container-id-5 div.sk-parallel-item:first-child::after {align-self: flex-end;width: 50%;}#sk-container-id-5 div.sk-parallel-item:last-child::after {align-self: flex-start;width: 50%;}#sk-container-id-5 div.sk-parallel-item:only-child::after {width: 0;}#sk-container-id-5 div.sk-dashed-wrapped {border: 1px dashed gray;margin: 0 0.4em 0.5em 0.4em;box-sizing: border-box;padding-bottom: 0.4em;background-color: white;}#sk-container-id-5 div.sk-label label {font-family: monospace;font-weight: bold;display: inline-block;line-height: 1.2em;}#sk-container-id-5 div.sk-label-container {text-align: center;}#sk-container-id-5 div.sk-container {/* jupyter's `normalize.less` sets `[hidden] { display: none; }` but bootstrap.min.css set `[hidden] { display: none !important; }` so we also need the `!important` here to be able to override the default hidden behavior on the sphinx rendered scikit-learn.org. See: https://github.com/scikit-learn/scikit-learn/issues/21755 */display: inline-block !important;position: relative;}#sk-container-id-5 div.sk-text-repr-fallback {display: none;}</style><div id=\"sk-container-id-5\" class=\"sk-top-container\"><div class=\"sk-text-repr-fallback\"><pre>LogisticRegression()</pre><b>In a Jupyter environment, please rerun this cell to show the HTML representation or trust the notebook. <br />On GitHub, the HTML representation is unable to render, please try loading this page with nbviewer.org.</b></div><div class=\"sk-container\" hidden><div class=\"sk-item\"><div class=\"sk-estimator sk-toggleable\"><input class=\"sk-toggleable__control sk-hidden--visually\" id=\"sk-estimator-id-5\" type=\"checkbox\" checked><label for=\"sk-estimator-id-5\" class=\"sk-toggleable__label sk-toggleable__label-arrow\">LogisticRegression</label><div class=\"sk-toggleable__content\"><pre>LogisticRegression()</pre></div></div></div></div></div>"
      ],
      "text/plain": [
       "LogisticRegression()"
      ]
     },
     "execution_count": 140,
     "metadata": {},
     "output_type": "execute_result"
    }
   ],
   "source": [
    "logreg.fit(X_train, y_train)"
   ]
  },
  {
   "cell_type": "code",
   "execution_count": 141,
   "id": "2d0e90cf",
   "metadata": {},
   "outputs": [],
   "source": [
    "preds = logreg.predict_proba(X_test)[:, 1]"
   ]
  },
  {
   "cell_type": "code",
   "execution_count": 142,
   "id": "a88b6e50",
   "metadata": {},
   "outputs": [],
   "source": [
    "from sklearn.metrics import f1_score, roc_auc_score, precision_score, classification_report, \\\n",
    "                            precision_recall_curve, confusion_matrix"
   ]
  },
  {
   "cell_type": "code",
   "execution_count": 143,
   "id": "f548ee8f",
   "metadata": {},
   "outputs": [
    {
     "name": "stdout",
     "output_type": "stream",
     "text": [
      "Best Threshold=0.296801, F-Score=0.984, Precision=0.976, Recall=0.992\n"
     ]
    }
   ],
   "source": [
    "precision, recall, thresholds = precision_recall_curve(y_test, preds)\n",
    "fscore = (2 * precision * recall) / (precision + recall)\n",
    "\n",
    "# locate the index of the largest f-score\n",
    "ix = np.argmax(fscore)\n",
    "print('Best Threshold=%f, F-Score=%.3f, Precision=%.3f, Recall=%.3f' % (thresholds[ix], \n",
    "                                                                        fscore[ix],\n",
    "                                                                        precision[ix],\n",
    "                                                                        recall[ix]))"
   ]
  },
  {
   "cell_type": "code",
   "execution_count": 144,
   "id": "06c2bdd1",
   "metadata": {},
   "outputs": [
    {
     "name": "stdout",
     "output_type": "stream",
     "text": [
      "Confusion matrix, without normalization\n",
      "[[1749    6]\n",
      " [   3  242]]\n"
     ]
    },
    {
     "data": {
      "image/png": "[encoded data removed]",
      "text/plain": [
       "<Figure size 720x576 with 2 Axes>"
      ]
     },
     "metadata": {
      "needs_background": "light"
     },
     "output_type": "display_data"
    }
   ],
   "source": [
    "font = {'size' : 15}\n",
    "\n",
    "plt.rc('font', **font)\n",
    "\n",
    "cnf_matrix = confusion_matrix(y_test, preds > thresholds[ix])\n",
    "plt.figure(figsize=(10, 8))\n",
    "plot_confusion_matrix(cnf_matrix, classes=['non-churn', 'churn'],\n",
    "                      title='Confusion matrix')\n",
    "# plt.savefig(\"conf_matrix.png\")\n",
    "plt.show()"
   ]
  },
  {
   "cell_type": "code",
   "execution_count": 145,
   "id": "87608630",
   "metadata": {},
   "outputs": [
    {
     "data": {
      "text/plain": [
       "0.9998558055700912"
      ]
     },
     "execution_count": 145,
     "metadata": {},
     "output_type": "execute_result"
    }
   ],
   "source": [
    "roc_auc_score(y_test, preds)"
   ]
  },
  {
   "cell_type": "code",
   "execution_count": 148,
   "id": "e9a12d0f",
   "metadata": {},
   "outputs": [],
   "source": [
    "metrics_tfidf_mean_embedding = [fscore[ix], precision[ix], recall[ix], roc_auc_score(y_test, preds)]"
   ]
  },
  {
   "cell_type": "code",
   "execution_count": null,
   "id": "3ba985ea",
   "metadata": {},
   "outputs": [],
   "source": []
  },
  {
   "cell_type": "code",
   "execution_count": null,
   "id": "37f54c57",
   "metadata": {},
   "outputs": [],
   "source": []
  },
  {
   "cell_type": "code",
   "execution_count": null,
   "id": "ddef7a9e",
   "metadata": {},
   "outputs": [],
   "source": []
  },
  {
   "cell_type": "markdown",
   "id": "111bd044",
   "metadata": {},
   "source": [
    "### Задание 5\n",
    "\n",
    "Сформировать на выходе единую таблицу, сравнивающую качество 4 разных методов получения эмбедингов пользователей: mean, median, max, idf_mean по метрикам roc_auc, precision, recall, f_score"
   ]
  },
  {
   "cell_type": "markdown",
   "id": "8298638d",
   "metadata": {},
   "source": [
    "### table of metrics"
   ]
  },
  {
   "cell_type": "code",
   "execution_count": 149,
   "id": "4b253844",
   "metadata": {},
   "outputs": [
    {
     "data": {
      "text/html": [
       "<div>\n",
       "<style scoped>\n",
       "    .dataframe tbody tr th:only-of-type {\n",
       "        vertical-align: middle;\n",
       "    }\n",
       "\n",
       "    .dataframe tbody tr th {\n",
       "        vertical-align: top;\n",
       "    }\n",
       "\n",
       "    .dataframe thead th {\n",
       "        text-align: right;\n",
       "    }\n",
       "</style>\n",
       "<table border=\"1\" class=\"dataframe\">\n",
       "  <thead>\n",
       "    <tr style=\"text-align: right;\">\n",
       "      <th></th>\n",
       "      <th>fscore</th>\n",
       "      <th>precision</th>\n",
       "      <th>recall</th>\n",
       "      <th>roc_auc_score</th>\n",
       "    </tr>\n",
       "  </thead>\n",
       "  <tbody>\n",
       "    <tr>\n",
       "      <th>metrics_lda_mean_embedding</th>\n",
       "      <td>0.830709</td>\n",
       "      <td>0.802281</td>\n",
       "      <td>0.861224</td>\n",
       "      <td>0.982201</td>\n",
       "    </tr>\n",
       "    <tr>\n",
       "      <th>metrics_lda_median_embedding</th>\n",
       "      <td>0.757741</td>\n",
       "      <td>0.684211</td>\n",
       "      <td>0.848980</td>\n",
       "      <td>0.975252</td>\n",
       "    </tr>\n",
       "    <tr>\n",
       "      <th>metrics_lda_max_embedding</th>\n",
       "      <td>0.844720</td>\n",
       "      <td>0.857143</td>\n",
       "      <td>0.832653</td>\n",
       "      <td>0.983048</td>\n",
       "    </tr>\n",
       "    <tr>\n",
       "      <th>metrics_tfidf_mean_embedding</th>\n",
       "      <td>0.983806</td>\n",
       "      <td>0.975904</td>\n",
       "      <td>0.991837</td>\n",
       "      <td>0.999856</td>\n",
       "    </tr>\n",
       "  </tbody>\n",
       "</table>\n",
       "</div>"
      ],
      "text/plain": [
       "                                fscore  precision    recall  roc_auc_score\n",
       "metrics_lda_mean_embedding    0.830709   0.802281  0.861224       0.982201\n",
       "metrics_lda_median_embedding  0.757741   0.684211  0.848980       0.975252\n",
       "metrics_lda_max_embedding     0.844720   0.857143  0.832653       0.983048\n",
       "metrics_tfidf_mean_embedding  0.983806   0.975904  0.991837       0.999856"
      ]
     },
     "execution_count": 149,
     "metadata": {},
     "output_type": "execute_result"
    }
   ],
   "source": [
    "pd.DataFrame({\n",
    "    'metrics_lda_mean_embedding': metrics_lda_mean_embedding,\n",
    "    'metrics_lda_median_embedding': metrics_lda_median_embedding,\n",
    "    'metrics_lda_max_embedding': metrics_lda_max_embedding,\n",
    "    'metrics_tfidf_mean_embedding': metrics_tfidf_mean_embedding\n",
    "}, index=['fscore', 'precision', 'recall', 'roc_auc_score']).transpose()"
   ]
  },
  {
   "cell_type": "code",
   "execution_count": null,
   "id": "708dabe7",
   "metadata": {},
   "outputs": [],
   "source": []
  },
  {
   "cell_type": "code",
   "execution_count": null,
   "id": "b5309cc9",
   "metadata": {},
   "outputs": [],
   "source": []
  },
  {
   "cell_type": "code",
   "execution_count": null,
   "id": "ad622eab",
   "metadata": {},
   "outputs": [],
   "source": []
  },
  {
   "cell_type": "markdown",
   "id": "edcebbd3",
   "metadata": {},
   "source": [
    "### Задание 6\n",
    "\n",
    "Сделать самостоятельные выводы и предположения о том, почему тот или ной способ оказался эффективнее остальных"
   ]
  },
  {
   "cell_type": "code",
   "execution_count": null,
   "id": "9e37f80f",
   "metadata": {},
   "outputs": [],
   "source": []
  },
  {
   "cell_type": "markdown",
   "id": "70e74de5",
   "metadata": {},
   "source": [
    "1. TF-IDF подход показал себя практически идеально по метрикам (fscore=0.983806), чем подход с LDA. Возможно, в том числе, из-за большего количества сгенерированных признаков (100 в TF-IDF против 25 в LDA).\n",
    "2. Добавление гиперпараметра passes=10 при инициализации LdaModel (LDA подход) существенно улучшило метрики по сравнению с passes=1 по дефолту.\n",
    "3. embedding-и с np.mean и np.median в LDA подходе дали метрики слабее, чем с np.max. Скорее всего, np.max делает более 'выразительные' координаты объектов пользователей в пространстве признаков, тем самым помогая сформировать более лучшую разделяющую гиперплоскость."
   ]
  },
  {
   "cell_type": "code",
   "execution_count": null,
   "id": "57445656",
   "metadata": {},
   "outputs": [],
   "source": []
  },
  {
   "cell_type": "markdown",
   "id": "c11ec793",
   "metadata": {},
   "source": [
    "PS: было очень интересно!"
   ]
  },
  {
   "cell_type": "code",
   "execution_count": null,
   "id": "bd75230a",
   "metadata": {},
   "outputs": [],
   "source": []
  }
 ],
 "metadata": {
  "kernelspec": {
   "display_name": "Python 3 (ipykernel)",
   "language": "python",
   "name": "python3"
  },
  "language_info": {
   "codemirror_mode": {
    "name": "ipython",
    "version": 3
   },
   "file_extension": ".py",
   "mimetype": "text/x-python",
   "name": "python",
   "nbconvert_exporter": "python",
   "pygments_lexer": "ipython3",
   "version": "3.9.7"
  }
 },
 "nbformat": 4,
 "nbformat_minor": 5
}
