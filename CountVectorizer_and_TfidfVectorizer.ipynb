{
 "cells": [
  {
   "cell_type": "markdown",
   "id": "d2b7a7f7",
   "metadata": {},
   "source": [
    "# CountVectorizer"
   ]
  },
  {
   "cell_type": "markdown",
   "id": "0ad69c8f",
   "metadata": {},
   "source": [
    "is a class which is required to create dictionary of key words (.fit_transform(...) method), issue them labels and establish frequencies; .transform(...) method whether words from the dictionary are present in a fed string and what are their frequencies "
   ]
  },
  {
   "cell_type": "code",
   "execution_count": 1,
   "id": "6d0f838f",
   "metadata": {},
   "outputs": [],
   "source": [
    "import pandas as pd\n",
    "from sklearn.feature_extraction.text import CountVectorizer "
   ]
  },
  {
   "cell_type": "code",
   "execution_count": 2,
   "id": "995d535f",
   "metadata": {},
   "outputs": [],
   "source": [
    "docs = [\"the house had a tiny little mouse mouse\", \n",
    "\"the cat saw the mouse\", \n",
    "\"the mouse ran away from the house\", \n",
    "\"the cat finally ate the mouse\", \n",
    "\"the end of the mouse story\"\n",
    "]"
   ]
  },
  {
   "cell_type": "code",
   "execution_count": 3,
   "id": "be8bc52b",
   "metadata": {},
   "outputs": [],
   "source": [
    "cv = CountVectorizer(max_features=16, stop_words='english')"
   ]
  },
  {
   "cell_type": "markdown",
   "id": "d2300f3b",
   "metadata": {},
   "source": [
    "### let's create sparce matrix which represents frequencies of words in lines/elements of docs:"
   ]
  },
  {
   "cell_type": "markdown",
   "id": "859b6dd1",
   "metadata": {},
   "source": [
    "### cv.fit_transform(docs)"
   ]
  },
  {
   "cell_type": "code",
   "execution_count": 4,
   "id": "70083e01",
   "metadata": {},
   "outputs": [],
   "source": [
    "word = cv.fit_transform(docs)"
   ]
  },
  {
   "cell_type": "markdown",
   "id": "1b376a8e",
   "metadata": {},
   "source": [
    "### the dictionary of important/unique words is formed; each word is given a unique label:"
   ]
  },
  {
   "cell_type": "code",
   "execution_count": 5,
   "id": "1e052da2",
   "metadata": {},
   "outputs": [
    {
     "data": {
      "text/plain": [
       "{'house': 5,\n",
       " 'tiny': 11,\n",
       " 'little': 6,\n",
       " 'mouse': 7,\n",
       " 'cat': 2,\n",
       " 'saw': 9,\n",
       " 'ran': 8,\n",
       " 'away': 1,\n",
       " 'finally': 4,\n",
       " 'ate': 0,\n",
       " 'end': 3,\n",
       " 'story': 10}"
      ]
     },
     "execution_count": 5,
     "metadata": {},
     "output_type": "execute_result"
    }
   ],
   "source": [
    "cv.vocabulary_"
   ]
  },
  {
   "cell_type": "markdown",
   "id": "f1c7b02c",
   "metadata": {},
   "source": [
    "### 'word_' is a sparce matrix:"
   ]
  },
  {
   "cell_type": "code",
   "execution_count": 6,
   "id": "f7066ba8",
   "metadata": {},
   "outputs": [
    {
     "data": {
      "text/plain": [
       "scipy.sparse.csr.csr_matrix"
      ]
     },
     "execution_count": 6,
     "metadata": {},
     "output_type": "execute_result"
    }
   ],
   "source": [
    "type(word)"
   ]
  },
  {
   "cell_type": "code",
   "execution_count": 7,
   "id": "25f2c20d",
   "metadata": {},
   "outputs": [
    {
     "name": "stdout",
     "output_type": "stream",
     "text": [
      "  (0, 5)\t1\n",
      "  (0, 11)\t1\n",
      "  (0, 6)\t1\n",
      "  (0, 7)\t2\n",
      "  (1, 7)\t1\n",
      "  (1, 2)\t1\n",
      "  (1, 9)\t1\n",
      "  (2, 5)\t1\n",
      "  (2, 7)\t1\n",
      "  (2, 8)\t1\n",
      "  (2, 1)\t1\n",
      "  (3, 7)\t1\n",
      "  (3, 2)\t1\n",
      "  (3, 4)\t1\n",
      "  (3, 0)\t1\n",
      "  (4, 7)\t1\n",
      "  (4, 3)\t1\n",
      "  (4, 10)\t1\n"
     ]
    }
   ],
   "source": [
    "print(word)"
   ]
  },
  {
   "cell_type": "markdown",
   "id": "e915f51d",
   "metadata": {},
   "source": [
    "'(0, 5)\t1' means that in docs[0] which is \"the house had a tiny little mouse mouse\" the word with label 5 ('house') appears 1 time\n",
    "\n",
    "'(0, 7)\t2' means that in docs[0] which is \"the house had a tiny little mouse mouse\" the word with label 7 ('mouse') appears 2 times"
   ]
  },
  {
   "cell_type": "markdown",
   "id": "2ff0822d",
   "metadata": {},
   "source": [
    "### cv.transform(...)"
   ]
  },
  {
   "cell_type": "code",
   "execution_count": 8,
   "id": "1304ee07",
   "metadata": {},
   "outputs": [
    {
     "name": "stdout",
     "output_type": "stream",
     "text": [
      "['the house had a tiny little mouse mouse']\n",
      "  (0, 5)\t1\n",
      "  (0, 6)\t1\n",
      "  (0, 7)\t2\n",
      "  (0, 11)\t1\n"
     ]
    }
   ],
   "source": [
    "print(docs[:1])\n",
    "print(cv.transform(docs[:1]))"
   ]
  },
  {
   "cell_type": "code",
   "execution_count": 9,
   "id": "2ec4490e",
   "metadata": {},
   "outputs": [
    {
     "data": {
      "text/plain": [
       "['ate',\n",
       " 'away',\n",
       " 'cat',\n",
       " 'end',\n",
       " 'finally',\n",
       " 'house',\n",
       " 'little',\n",
       " 'mouse',\n",
       " 'ran',\n",
       " 'saw',\n",
       " 'story',\n",
       " 'tiny']"
      ]
     },
     "execution_count": 9,
     "metadata": {},
     "output_type": "execute_result"
    }
   ],
   "source": [
    "sorted(cv.vocabulary_)"
   ]
  },
  {
   "cell_type": "markdown",
   "id": "76e7e458",
   "metadata": {},
   "source": [
    "### let's create frequency table of key words in lines:"
   ]
  },
  {
   "cell_type": "code",
   "execution_count": 10,
   "id": "07a1ba1e",
   "metadata": {},
   "outputs": [
    {
     "data": {
      "text/html": [
       "<div>\n",
       "<style scoped>\n",
       "    .dataframe tbody tr th:only-of-type {\n",
       "        vertical-align: middle;\n",
       "    }\n",
       "\n",
       "    .dataframe tbody tr th {\n",
       "        vertical-align: top;\n",
       "    }\n",
       "\n",
       "    .dataframe thead th {\n",
       "        text-align: right;\n",
       "    }\n",
       "</style>\n",
       "<table border=\"1\" class=\"dataframe\">\n",
       "  <thead>\n",
       "    <tr style=\"text-align: right;\">\n",
       "      <th></th>\n",
       "      <th>ate</th>\n",
       "      <th>away</th>\n",
       "      <th>cat</th>\n",
       "      <th>end</th>\n",
       "      <th>finally</th>\n",
       "      <th>house</th>\n",
       "      <th>little</th>\n",
       "      <th>mouse</th>\n",
       "      <th>ran</th>\n",
       "      <th>saw</th>\n",
       "      <th>story</th>\n",
       "      <th>tiny</th>\n",
       "    </tr>\n",
       "  </thead>\n",
       "  <tbody>\n",
       "    <tr>\n",
       "      <th>0</th>\n",
       "      <td>0</td>\n",
       "      <td>0</td>\n",
       "      <td>0</td>\n",
       "      <td>0</td>\n",
       "      <td>0</td>\n",
       "      <td>1</td>\n",
       "      <td>1</td>\n",
       "      <td>2</td>\n",
       "      <td>0</td>\n",
       "      <td>0</td>\n",
       "      <td>0</td>\n",
       "      <td>1</td>\n",
       "    </tr>\n",
       "    <tr>\n",
       "      <th>1</th>\n",
       "      <td>0</td>\n",
       "      <td>0</td>\n",
       "      <td>1</td>\n",
       "      <td>0</td>\n",
       "      <td>0</td>\n",
       "      <td>0</td>\n",
       "      <td>0</td>\n",
       "      <td>1</td>\n",
       "      <td>0</td>\n",
       "      <td>1</td>\n",
       "      <td>0</td>\n",
       "      <td>0</td>\n",
       "    </tr>\n",
       "    <tr>\n",
       "      <th>2</th>\n",
       "      <td>0</td>\n",
       "      <td>1</td>\n",
       "      <td>0</td>\n",
       "      <td>0</td>\n",
       "      <td>0</td>\n",
       "      <td>1</td>\n",
       "      <td>0</td>\n",
       "      <td>1</td>\n",
       "      <td>1</td>\n",
       "      <td>0</td>\n",
       "      <td>0</td>\n",
       "      <td>0</td>\n",
       "    </tr>\n",
       "    <tr>\n",
       "      <th>3</th>\n",
       "      <td>1</td>\n",
       "      <td>0</td>\n",
       "      <td>1</td>\n",
       "      <td>0</td>\n",
       "      <td>1</td>\n",
       "      <td>0</td>\n",
       "      <td>0</td>\n",
       "      <td>1</td>\n",
       "      <td>0</td>\n",
       "      <td>0</td>\n",
       "      <td>0</td>\n",
       "      <td>0</td>\n",
       "    </tr>\n",
       "    <tr>\n",
       "      <th>4</th>\n",
       "      <td>0</td>\n",
       "      <td>0</td>\n",
       "      <td>0</td>\n",
       "      <td>1</td>\n",
       "      <td>0</td>\n",
       "      <td>0</td>\n",
       "      <td>0</td>\n",
       "      <td>1</td>\n",
       "      <td>0</td>\n",
       "      <td>0</td>\n",
       "      <td>1</td>\n",
       "      <td>0</td>\n",
       "    </tr>\n",
       "  </tbody>\n",
       "</table>\n",
       "</div>"
      ],
      "text/plain": [
       "   ate  away  cat  end  finally  house  little  mouse  ran  saw  story  tiny\n",
       "0    0     0    0    0        0      1       1      2    0    0      0     1\n",
       "1    0     0    1    0        0      0       0      1    0    1      0     0\n",
       "2    0     1    0    0        0      1       0      1    1    0      0     0\n",
       "3    1     0    1    0        1      0       0      1    0    0      0     0\n",
       "4    0     0    0    1        0      0       0      1    0    0      1     0"
      ]
     },
     "execution_count": 10,
     "metadata": {},
     "output_type": "execute_result"
    }
   ],
   "source": [
    "# pd.DataFrame.sparse.from_spmatrix(word_,columns = cv.vocabulary_.keys())  # the given code was not correct\n",
    "pd.DataFrame.sparse.from_spmatrix(word, columns=sorted(cv.vocabulary_))  # corrected version"
   ]
  },
  {
   "cell_type": "code",
   "execution_count": 11,
   "id": "0849595f",
   "metadata": {},
   "outputs": [
    {
     "data": {
      "text/plain": [
       "(5, 12)"
      ]
     },
     "execution_count": 11,
     "metadata": {},
     "output_type": "execute_result"
    }
   ],
   "source": [
    "word.shape"
   ]
  },
  {
   "cell_type": "code",
   "execution_count": 12,
   "id": "d67f19da",
   "metadata": {},
   "outputs": [
    {
     "name": "stdout",
     "output_type": "stream",
     "text": [
      "  (0, 5)\t3\n",
      "  (0, 7)\t1\n"
     ]
    }
   ],
   "source": [
    "print(cv.transform([\"house house house mouse\"]))"
   ]
  },
  {
   "cell_type": "code",
   "execution_count": null,
   "id": "5b9f3f7e",
   "metadata": {},
   "outputs": [],
   "source": []
  },
  {
   "cell_type": "code",
   "execution_count": null,
   "id": "27bb74fc",
   "metadata": {},
   "outputs": [],
   "source": []
  },
  {
   "cell_type": "markdown",
   "id": "22c44638",
   "metadata": {},
   "source": [
    "# TFiDF"
   ]
  },
  {
   "cell_type": "markdown",
   "id": "12d0cce1",
   "metadata": {},
   "source": [
    "tf–idf, short for term frequency–inverse document frequency, is a numerical statistic that is intended to reflect how important a word is to a document in a collection. The tf–idf value increases proportionally to the number of times a word appears in the document and is offset by the number of documents in the corpus that contain the word, which helps to adjust for the fact that some words appear more frequently in general."
   ]
  },
  {
   "cell_type": "markdown",
   "id": "61b963c7",
   "metadata": {},
   "source": [
    "tf = number of times that the term occurs in document / total number of words in document\n",
    "\n",
    "idf = log (total number of documents / number of documents that contain the term)\n",
    "\n",
    "tf-idf = tf * idf"
   ]
  },
  {
   "cell_type": "code",
   "execution_count": 13,
   "id": "c289cfaa",
   "metadata": {},
   "outputs": [],
   "source": [
    "from sklearn.feature_extraction.text import TfidfVectorizer"
   ]
  },
  {
   "cell_type": "code",
   "execution_count": 14,
   "id": "91c490c0",
   "metadata": {},
   "outputs": [],
   "source": [
    "tf = TfidfVectorizer(stop_words='english', max_features=16)"
   ]
  },
  {
   "cell_type": "code",
   "execution_count": 15,
   "id": "bfd1875b",
   "metadata": {},
   "outputs": [],
   "source": [
    "# tf.fit(docs)\n",
    "# word = tf.transform(docs)\n",
    "word = tf.fit_transform(docs)"
   ]
  },
  {
   "cell_type": "code",
   "execution_count": 16,
   "id": "29b5399b",
   "metadata": {},
   "outputs": [
    {
     "data": {
      "text/plain": [
       "{'house': 5,\n",
       " 'tiny': 11,\n",
       " 'little': 6,\n",
       " 'mouse': 7,\n",
       " 'cat': 2,\n",
       " 'saw': 9,\n",
       " 'ran': 8,\n",
       " 'away': 1,\n",
       " 'finally': 4,\n",
       " 'ate': 0,\n",
       " 'end': 3,\n",
       " 'story': 10}"
      ]
     },
     "execution_count": 16,
     "metadata": {},
     "output_type": "execute_result"
    }
   ],
   "source": [
    "tf.vocabulary_"
   ]
  },
  {
   "cell_type": "code",
   "execution_count": null,
   "id": "e8cf7592",
   "metadata": {},
   "outputs": [],
   "source": [
    "tf.get_feature_names()"
   ]
  },
  {
   "cell_type": "code",
   "execution_count": 17,
   "id": "b03101fe",
   "metadata": {},
   "outputs": [
    {
     "data": {
      "text/plain": [
       "['ate',\n",
       " 'away',\n",
       " 'cat',\n",
       " 'end',\n",
       " 'finally',\n",
       " 'house',\n",
       " 'little',\n",
       " 'mouse',\n",
       " 'ran',\n",
       " 'saw',\n",
       " 'story',\n",
       " 'tiny']"
      ]
     },
     "execution_count": 17,
     "metadata": {},
     "output_type": "execute_result"
    }
   ],
   "source": [
    "sorted(tf.vocabulary_)"
   ]
  },
  {
   "cell_type": "code",
   "execution_count": 18,
   "id": "0fd1914f",
   "metadata": {},
   "outputs": [
    {
     "name": "stdout",
     "output_type": "stream",
     "text": [
      "  (0, 7)\t0.5051552983522339\n",
      "  (0, 6)\t0.5300625584039018\n",
      "  (0, 11)\t0.5300625584039018\n",
      "  (0, 5)\t0.4276511345750014\n",
      "  (1, 9)\t0.7297183669435993\n",
      "  (1, 2)\t0.5887321837696324\n",
      "  (1, 7)\t0.3477147117091919\n",
      "  (2, 1)\t0.5894630806320427\n",
      "  (2, 8)\t0.5894630806320427\n",
      "  (2, 7)\t0.2808823162882302\n",
      "  (2, 5)\t0.47557510189256375\n",
      "  (3, 0)\t0.5894630806320427\n",
      "  (3, 4)\t0.5894630806320427\n",
      "  (3, 2)\t0.47557510189256375\n",
      "  (3, 7)\t0.2808823162882302\n",
      "  (4, 10)\t0.6700917930430479\n",
      "  (4, 3)\t0.6700917930430479\n",
      "  (4, 7)\t0.3193023297639811\n"
     ]
    }
   ],
   "source": [
    "print(word)"
   ]
  },
  {
   "cell_type": "code",
   "execution_count": 19,
   "id": "156fb641",
   "metadata": {},
   "outputs": [
    {
     "data": {
      "text/html": [
       "<div>\n",
       "<style scoped>\n",
       "    .dataframe tbody tr th:only-of-type {\n",
       "        vertical-align: middle;\n",
       "    }\n",
       "\n",
       "    .dataframe tbody tr th {\n",
       "        vertical-align: top;\n",
       "    }\n",
       "\n",
       "    .dataframe thead th {\n",
       "        text-align: right;\n",
       "    }\n",
       "</style>\n",
       "<table border=\"1\" class=\"dataframe\">\n",
       "  <thead>\n",
       "    <tr style=\"text-align: right;\">\n",
       "      <th></th>\n",
       "      <th>ate</th>\n",
       "      <th>away</th>\n",
       "      <th>cat</th>\n",
       "      <th>end</th>\n",
       "      <th>finally</th>\n",
       "      <th>house</th>\n",
       "      <th>little</th>\n",
       "      <th>mouse</th>\n",
       "      <th>ran</th>\n",
       "      <th>saw</th>\n",
       "      <th>story</th>\n",
       "      <th>tiny</th>\n",
       "    </tr>\n",
       "  </thead>\n",
       "  <tbody>\n",
       "    <tr>\n",
       "      <th>0</th>\n",
       "      <td>0.000000</td>\n",
       "      <td>0.000000</td>\n",
       "      <td>0.000000</td>\n",
       "      <td>0.000000</td>\n",
       "      <td>0.000000</td>\n",
       "      <td>0.427651</td>\n",
       "      <td>0.530063</td>\n",
       "      <td>0.505155</td>\n",
       "      <td>0.000000</td>\n",
       "      <td>0.000000</td>\n",
       "      <td>0.000000</td>\n",
       "      <td>0.530063</td>\n",
       "    </tr>\n",
       "    <tr>\n",
       "      <th>1</th>\n",
       "      <td>0.000000</td>\n",
       "      <td>0.000000</td>\n",
       "      <td>0.588732</td>\n",
       "      <td>0.000000</td>\n",
       "      <td>0.000000</td>\n",
       "      <td>0.000000</td>\n",
       "      <td>0.000000</td>\n",
       "      <td>0.347715</td>\n",
       "      <td>0.000000</td>\n",
       "      <td>0.729718</td>\n",
       "      <td>0.000000</td>\n",
       "      <td>0.000000</td>\n",
       "    </tr>\n",
       "    <tr>\n",
       "      <th>2</th>\n",
       "      <td>0.000000</td>\n",
       "      <td>0.589463</td>\n",
       "      <td>0.000000</td>\n",
       "      <td>0.000000</td>\n",
       "      <td>0.000000</td>\n",
       "      <td>0.475575</td>\n",
       "      <td>0.000000</td>\n",
       "      <td>0.280882</td>\n",
       "      <td>0.589463</td>\n",
       "      <td>0.000000</td>\n",
       "      <td>0.000000</td>\n",
       "      <td>0.000000</td>\n",
       "    </tr>\n",
       "    <tr>\n",
       "      <th>3</th>\n",
       "      <td>0.589463</td>\n",
       "      <td>0.000000</td>\n",
       "      <td>0.475575</td>\n",
       "      <td>0.000000</td>\n",
       "      <td>0.589463</td>\n",
       "      <td>0.000000</td>\n",
       "      <td>0.000000</td>\n",
       "      <td>0.280882</td>\n",
       "      <td>0.000000</td>\n",
       "      <td>0.000000</td>\n",
       "      <td>0.000000</td>\n",
       "      <td>0.000000</td>\n",
       "    </tr>\n",
       "    <tr>\n",
       "      <th>4</th>\n",
       "      <td>0.000000</td>\n",
       "      <td>0.000000</td>\n",
       "      <td>0.000000</td>\n",
       "      <td>0.670092</td>\n",
       "      <td>0.000000</td>\n",
       "      <td>0.000000</td>\n",
       "      <td>0.000000</td>\n",
       "      <td>0.319302</td>\n",
       "      <td>0.000000</td>\n",
       "      <td>0.000000</td>\n",
       "      <td>0.670092</td>\n",
       "      <td>0.000000</td>\n",
       "    </tr>\n",
       "  </tbody>\n",
       "</table>\n",
       "</div>"
      ],
      "text/plain": [
       "        ate      away       cat       end   finally     house    little  \\\n",
       "0  0.000000  0.000000  0.000000  0.000000  0.000000  0.427651  0.530063   \n",
       "1  0.000000  0.000000  0.588732  0.000000  0.000000  0.000000  0.000000   \n",
       "2  0.000000  0.589463  0.000000  0.000000  0.000000  0.475575  0.000000   \n",
       "3  0.589463  0.000000  0.475575  0.000000  0.589463  0.000000  0.000000   \n",
       "4  0.000000  0.000000  0.000000  0.670092  0.000000  0.000000  0.000000   \n",
       "\n",
       "      mouse       ran       saw     story      tiny  \n",
       "0  0.505155  0.000000  0.000000  0.000000  0.530063  \n",
       "1  0.347715  0.000000  0.729718  0.000000  0.000000  \n",
       "2  0.280882  0.589463  0.000000  0.000000  0.000000  \n",
       "3  0.280882  0.000000  0.000000  0.000000  0.000000  \n",
       "4  0.319302  0.000000  0.000000  0.670092  0.000000  "
      ]
     },
     "execution_count": 19,
     "metadata": {},
     "output_type": "execute_result"
    }
   ],
   "source": [
    "pd.DataFrame.sparse.from_spmatrix(word, columns=sorted(tf.vocabulary_))"
   ]
  },
  {
   "cell_type": "code",
   "execution_count": null,
   "id": "c0e95209",
   "metadata": {},
   "outputs": [],
   "source": []
  }
 ],
 "metadata": {
  "kernelspec": {
   "display_name": "Python 3",
   "language": "python",
   "name": "python3"
  },
  "language_info": {
   "codemirror_mode": {
    "name": "ipython",
    "version": 3
   },
   "file_extension": ".py",
   "mimetype": "text/x-python",
   "name": "python",
   "nbconvert_exporter": "python",
   "pygments_lexer": "ipython3",
   "version": "3.8.8"
  }
 },
 "nbformat": 4,
 "nbformat_minor": 5
}
