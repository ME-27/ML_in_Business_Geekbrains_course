{
 "cells": [
  {
   "cell_type": "markdown",
   "id": "5d0dabb2",
   "metadata": {},
   "source": [
    "# Uplift"
   ]
  },
  {
   "cell_type": "code",
   "execution_count": 1,
   "id": "719ccfea",
   "metadata": {},
   "outputs": [],
   "source": [
    "import pandas as pd; pd.set_option('display.max_columns', None)\n",
    "from sklearn.model_selection import train_test_split\n",
    "\n",
    "%matplotlib inline"
   ]
  },
  {
   "cell_type": "markdown",
   "id": "dc36ad8f",
   "metadata": {},
   "source": [
    "### uploading data"
   ]
  },
  {
   "cell_type": "code",
   "execution_count": 2,
   "id": "5d0b8b8c",
   "metadata": {},
   "outputs": [],
   "source": [
    "df_clients = pd.read_csv('uplift_data/clients.csv', index_col='client_id')\n",
    "df_train = pd.read_csv('uplift_data/uplift_train.csv', index_col='client_id')\n",
    "df_test = pd.read_csv('uplift_data/uplift_test.csv', index_col='client_id')"
   ]
  },
  {
   "cell_type": "code",
   "execution_count": 3,
   "id": "847784e1",
   "metadata": {},
   "outputs": [
    {
     "data": {
      "text/html": [
       "<div>\n",
       "<style scoped>\n",
       "    .dataframe tbody tr th:only-of-type {\n",
       "        vertical-align: middle;\n",
       "    }\n",
       "\n",
       "    .dataframe tbody tr th {\n",
       "        vertical-align: top;\n",
       "    }\n",
       "\n",
       "    .dataframe thead th {\n",
       "        text-align: right;\n",
       "    }\n",
       "</style>\n",
       "<table border=\"1\" class=\"dataframe\">\n",
       "  <thead>\n",
       "    <tr style=\"text-align: right;\">\n",
       "      <th></th>\n",
       "      <th>first_issue_date</th>\n",
       "      <th>first_redeem_date</th>\n",
       "      <th>age</th>\n",
       "      <th>gender</th>\n",
       "    </tr>\n",
       "    <tr>\n",
       "      <th>client_id</th>\n",
       "      <th></th>\n",
       "      <th></th>\n",
       "      <th></th>\n",
       "      <th></th>\n",
       "    </tr>\n",
       "  </thead>\n",
       "  <tbody>\n",
       "    <tr>\n",
       "      <th>000012768d</th>\n",
       "      <td>2017-08-05 15:40:48</td>\n",
       "      <td>2018-01-04 19:30:07</td>\n",
       "      <td>45</td>\n",
       "      <td>U</td>\n",
       "    </tr>\n",
       "  </tbody>\n",
       "</table>\n",
       "</div>"
      ],
      "text/plain": [
       "               first_issue_date    first_redeem_date  age gender\n",
       "client_id                                                       \n",
       "000012768d  2017-08-05 15:40:48  2018-01-04 19:30:07   45      U"
      ]
     },
     "execution_count": 3,
     "metadata": {},
     "output_type": "execute_result"
    }
   ],
   "source": [
    "df_clients.head(1)"
   ]
  },
  {
   "cell_type": "markdown",
   "id": "adf97b21",
   "metadata": {},
   "source": [
    "### transformation of 'first_issue_date' and 'first_redeem_date' into Timedelta format"
   ]
  },
  {
   "cell_type": "markdown",
   "id": "65658d0e",
   "metadata": {},
   "source": [
    "### generation of 'issue_redeem_delay' as 'first_redeem_date' - 'first_issue_date'"
   ]
  },
  {
   "cell_type": "code",
   "execution_count": 4,
   "id": "2b1d9bb4",
   "metadata": {},
   "outputs": [],
   "source": [
    "df_features = df_clients.copy()\n",
    "df_features['first_issue_time'] = \\\n",
    "    (pd.to_datetime(df_features['first_issue_date'])\n",
    "     - pd.Timestamp('1970-01-01')) // pd.Timedelta('1s')\n",
    "df_features['first_redeem_time'] = \\\n",
    "    (pd.to_datetime(df_features['first_redeem_date'])\n",
    "     - pd.Timestamp('1970-01-01')) // pd.Timedelta('1s')\n",
    "df_features['issue_redeem_delay'] = df_features['first_redeem_time'] \\\n",
    "    - df_features['first_issue_time']\n",
    "df_features = df_features.drop(['first_issue_date', 'first_redeem_date'], axis=1)"
   ]
  },
  {
   "cell_type": "code",
   "execution_count": 5,
   "id": "42383647",
   "metadata": {},
   "outputs": [
    {
     "data": {
      "text/html": [
       "<div>\n",
       "<style scoped>\n",
       "    .dataframe tbody tr th:only-of-type {\n",
       "        vertical-align: middle;\n",
       "    }\n",
       "\n",
       "    .dataframe tbody tr th {\n",
       "        vertical-align: top;\n",
       "    }\n",
       "\n",
       "    .dataframe thead th {\n",
       "        text-align: right;\n",
       "    }\n",
       "</style>\n",
       "<table border=\"1\" class=\"dataframe\">\n",
       "  <thead>\n",
       "    <tr style=\"text-align: right;\">\n",
       "      <th></th>\n",
       "      <th>age</th>\n",
       "      <th>gender</th>\n",
       "      <th>first_issue_time</th>\n",
       "      <th>first_redeem_time</th>\n",
       "      <th>issue_redeem_delay</th>\n",
       "    </tr>\n",
       "    <tr>\n",
       "      <th>client_id</th>\n",
       "      <th></th>\n",
       "      <th></th>\n",
       "      <th></th>\n",
       "      <th></th>\n",
       "      <th></th>\n",
       "    </tr>\n",
       "  </thead>\n",
       "  <tbody>\n",
       "    <tr>\n",
       "      <th>000012768d</th>\n",
       "      <td>45</td>\n",
       "      <td>U</td>\n",
       "      <td>1501947648</td>\n",
       "      <td>1.515094e+09</td>\n",
       "      <td>13146559.0</td>\n",
       "    </tr>\n",
       "  </tbody>\n",
       "</table>\n",
       "</div>"
      ],
      "text/plain": [
       "            age gender  first_issue_time  first_redeem_time  \\\n",
       "client_id                                                     \n",
       "000012768d   45      U        1501947648       1.515094e+09   \n",
       "\n",
       "            issue_redeem_delay  \n",
       "client_id                       \n",
       "000012768d          13146559.0  "
      ]
     },
     "execution_count": 5,
     "metadata": {},
     "output_type": "execute_result"
    }
   ],
   "source": [
    "df_features.head(1)"
   ]
  },
  {
   "cell_type": "markdown",
   "id": "7e1532cf",
   "metadata": {},
   "source": [
    "### generation of lists of indices"
   ]
  },
  {
   "cell_type": "code",
   "execution_count": 6,
   "id": "f13591fd",
   "metadata": {},
   "outputs": [],
   "source": [
    "indices_train = df_train.index\n",
    "indices_test = df_test.index\n",
    "indices_learn, indices_valid = train_test_split(df_train.index, test_size=0.3, random_state=123)"
   ]
  },
  {
   "cell_type": "code",
   "execution_count": 7,
   "id": "5e24f7ba",
   "metadata": {},
   "outputs": [],
   "source": [
    "# df_clients"
   ]
  },
  {
   "cell_type": "code",
   "execution_count": 8,
   "id": "b913042f",
   "metadata": {},
   "outputs": [
    {
     "data": {
      "text/html": [
       "<div>\n",
       "<style scoped>\n",
       "    .dataframe tbody tr th:only-of-type {\n",
       "        vertical-align: middle;\n",
       "    }\n",
       "\n",
       "    .dataframe tbody tr th {\n",
       "        vertical-align: top;\n",
       "    }\n",
       "\n",
       "    .dataframe thead th {\n",
       "        text-align: right;\n",
       "    }\n",
       "</style>\n",
       "<table border=\"1\" class=\"dataframe\">\n",
       "  <thead>\n",
       "    <tr style=\"text-align: right;\">\n",
       "      <th></th>\n",
       "    </tr>\n",
       "    <tr>\n",
       "      <th>client_id</th>\n",
       "    </tr>\n",
       "  </thead>\n",
       "  <tbody>\n",
       "    <tr>\n",
       "      <th>000048b7a6</th>\n",
       "    </tr>\n",
       "    <tr>\n",
       "      <th>000073194a</th>\n",
       "    </tr>\n",
       "    <tr>\n",
       "      <th>00007c7133</th>\n",
       "    </tr>\n",
       "  </tbody>\n",
       "</table>\n",
       "</div>"
      ],
      "text/plain": [
       "Empty DataFrame\n",
       "Columns: []\n",
       "Index: [000048b7a6, 000073194a, 00007c7133]"
      ]
     },
     "execution_count": 8,
     "metadata": {},
     "output_type": "execute_result"
    }
   ],
   "source": [
    "df_test.head(3)"
   ]
  },
  {
   "cell_type": "code",
   "execution_count": 9,
   "id": "62bac65f",
   "metadata": {},
   "outputs": [
    {
     "data": {
      "text/html": [
       "<div>\n",
       "<style scoped>\n",
       "    .dataframe tbody tr th:only-of-type {\n",
       "        vertical-align: middle;\n",
       "    }\n",
       "\n",
       "    .dataframe tbody tr th {\n",
       "        vertical-align: top;\n",
       "    }\n",
       "\n",
       "    .dataframe thead th {\n",
       "        text-align: right;\n",
       "    }\n",
       "</style>\n",
       "<table border=\"1\" class=\"dataframe\">\n",
       "  <thead>\n",
       "    <tr style=\"text-align: right;\">\n",
       "      <th></th>\n",
       "      <th>count</th>\n",
       "      <th>mean</th>\n",
       "      <th>std</th>\n",
       "      <th>min</th>\n",
       "      <th>25%</th>\n",
       "      <th>50%</th>\n",
       "      <th>75%</th>\n",
       "      <th>max</th>\n",
       "    </tr>\n",
       "    <tr>\n",
       "      <th>treatment_flg</th>\n",
       "      <th></th>\n",
       "      <th></th>\n",
       "      <th></th>\n",
       "      <th></th>\n",
       "      <th></th>\n",
       "      <th></th>\n",
       "      <th></th>\n",
       "      <th></th>\n",
       "    </tr>\n",
       "  </thead>\n",
       "  <tbody>\n",
       "    <tr>\n",
       "      <th>0</th>\n",
       "      <td>100058.0</td>\n",
       "      <td>0.603280</td>\n",
       "      <td>0.489219</td>\n",
       "      <td>0.0</td>\n",
       "      <td>0.0</td>\n",
       "      <td>1.0</td>\n",
       "      <td>1.0</td>\n",
       "      <td>1.0</td>\n",
       "    </tr>\n",
       "    <tr>\n",
       "      <th>1</th>\n",
       "      <td>99981.0</td>\n",
       "      <td>0.636511</td>\n",
       "      <td>0.481006</td>\n",
       "      <td>0.0</td>\n",
       "      <td>0.0</td>\n",
       "      <td>1.0</td>\n",
       "      <td>1.0</td>\n",
       "      <td>1.0</td>\n",
       "    </tr>\n",
       "  </tbody>\n",
       "</table>\n",
       "</div>"
      ],
      "text/plain": [
       "                  count      mean       std  min  25%  50%  75%  max\n",
       "treatment_flg                                                       \n",
       "0              100058.0  0.603280  0.489219  0.0  0.0  1.0  1.0  1.0\n",
       "1               99981.0  0.636511  0.481006  0.0  0.0  1.0  1.0  1.0"
      ]
     },
     "execution_count": 9,
     "metadata": {},
     "output_type": "execute_result"
    }
   ],
   "source": [
    "df_train.groupby(\"treatment_flg\")['target'].describe()"
   ]
  },
  {
   "cell_type": "markdown",
   "id": "e22801a8",
   "metadata": {},
   "source": [
    "### creation of train, val and test dataframes"
   ]
  },
  {
   "cell_type": "code",
   "execution_count": 10,
   "id": "ea2eb1bd",
   "metadata": {},
   "outputs": [],
   "source": [
    "X_train = df_features.loc[indices_learn, :]\n",
    "y_train = df_train.loc[indices_learn, 'target']\n",
    "treat_train = df_train.loc[indices_learn, 'treatment_flg']\n",
    "\n",
    "X_val = df_features.loc[indices_valid, :]\n",
    "y_val = df_train.loc[indices_valid, 'target']\n",
    "treat_val =  df_train.loc[indices_valid, 'treatment_flg']\n",
    "\n",
    "X_train_full = df_features.loc[indices_train, :]\n",
    "y_train_full = df_train.loc[:, 'target']\n",
    "treat_train_full = df_train.loc[:, 'treatment_flg']\n",
    "\n",
    "X_test = df_features.loc[indices_test, :]\n",
    "\n",
    "cat_features = ['gender']\n",
    "\n",
    "models_results = {\n",
    "    'approach': [],\n",
    "    'uplift@30%': []\n",
    "}"
   ]
  },
  {
   "cell_type": "markdown",
   "id": "30c27fbd",
   "metadata": {},
   "source": [
    "# scikit-uplift"
   ]
  },
  {
   "cell_type": "code",
   "execution_count": 11,
   "id": "b603a9b9",
   "metadata": {},
   "outputs": [],
   "source": [
    "# !pip install scikit-uplift\n",
    "# https://github.com/maks-sh/scikit-uplift - instruction on how to install the package\n",
    "# https://scikit-uplift.readthedocs.io/en/latest/ - documentation\n",
    "from sklift.metrics import uplift_at_k\n",
    "from sklift.viz import plot_uplift_preds\n",
    "from sklift.models import SoloModel"
   ]
  },
  {
   "cell_type": "code",
   "execution_count": 12,
   "id": "26521906",
   "metadata": {},
   "outputs": [],
   "source": [
    "# sklift supports any models which satisfy scikit-learn conventions\n",
    "# let's take catboost\n",
    "# !pip install catboost\n",
    "from catboost import CatBoostClassifier"
   ]
  },
  {
   "cell_type": "markdown",
   "id": "7a634a78",
   "metadata": {},
   "source": [
    "## SoloModel"
   ]
  },
  {
   "cell_type": "code",
   "execution_count": 13,
   "id": "f73d309c",
   "metadata": {},
   "outputs": [
    {
     "data": {
      "text/plain": [
       "SoloModel(estimator=<catboost.core.CatBoostClassifier object at 0x00000233046D8C40>)"
      ]
     },
     "execution_count": 13,
     "metadata": {},
     "output_type": "execute_result"
    }
   ],
   "source": [
    "sm = SoloModel(CatBoostClassifier(iterations=20, thread_count=2, random_state=42, silent=True))\n",
    "sm"
   ]
  },
  {
   "cell_type": "code",
   "execution_count": 14,
   "id": "c62ce80c",
   "metadata": {},
   "outputs": [
    {
     "data": {
      "text/plain": [
       "SoloModel(estimator=<catboost.core.CatBoostClassifier object at 0x00000233046D8C40>)"
      ]
     },
     "execution_count": 14,
     "metadata": {},
     "output_type": "execute_result"
    }
   ],
   "source": [
    "sm = sm.fit(X_train, y_train, treat_train, estimator_fit_params={'cat_features': cat_features})\n",
    "sm"
   ]
  },
  {
   "cell_type": "code",
   "execution_count": 15,
   "id": "05693ee3",
   "metadata": {},
   "outputs": [
    {
     "data": {
      "text/plain": [
       "array([-0.00359248,  0.03400879,  0.0557076 , ..., -0.00716601,\n",
       "        0.03736034,  0.01185765])"
      ]
     },
     "execution_count": 15,
     "metadata": {},
     "output_type": "execute_result"
    }
   ],
   "source": [
    "uplift_sm = sm.predict(X_val)\n",
    "uplift_sm"
   ]
  },
  {
   "cell_type": "code",
   "execution_count": 16,
   "id": "3a4ca844",
   "metadata": {},
   "outputs": [
    {
     "data": {
      "text/plain": [
       "0.05726192634218552"
      ]
     },
     "execution_count": 16,
     "metadata": {},
     "output_type": "execute_result"
    }
   ],
   "source": [
    "sm_score = uplift_at_k(y_true=y_val, uplift=uplift_sm, treatment=treat_val, strategy='by_group', k=0.3)\n",
    "sm_score"
   ]
  },
  {
   "cell_type": "code",
   "execution_count": 17,
   "id": "7101a246",
   "metadata": {},
   "outputs": [
    {
     "data": {
      "text/plain": [
       "{'approach': ['SoloModel'], 'uplift@30%': [0.05726192634218552]}"
      ]
     },
     "execution_count": 17,
     "metadata": {},
     "output_type": "execute_result"
    }
   ],
   "source": [
    "models_results['approach'].append('SoloModel')\n",
    "models_results['uplift@30%'].append(sm_score)\n",
    "models_results"
   ]
  },
  {
   "cell_type": "markdown",
   "id": "6533f74d",
   "metadata": {},
   "source": [
    "### let's get notional probabilities of achieving target result with treatment/communication for each object"
   ]
  },
  {
   "cell_type": "code",
   "execution_count": 18,
   "id": "37b0f05f",
   "metadata": {},
   "outputs": [
    {
     "data": {
      "text/plain": [
       "array([0.31296265, 0.76039813, 0.65011679, ..., 0.5757243 , 0.63648408,\n",
       "       0.6556073 ])"
      ]
     },
     "execution_count": 18,
     "metadata": {},
     "output_type": "execute_result"
    }
   ],
   "source": [
    "sm_trmnt_preds = sm.trmnt_preds_\n",
    "sm_trmnt_preds"
   ]
  },
  {
   "cell_type": "markdown",
   "id": "78a6d8db",
   "metadata": {},
   "source": [
    "### let's get notional probabilities of achieving target result without treatment/communication for each object"
   ]
  },
  {
   "cell_type": "code",
   "execution_count": 19,
   "id": "751fe14c",
   "metadata": {},
   "outputs": [
    {
     "data": {
      "text/plain": [
       "array([0.31655513, 0.72638934, 0.59440919, ..., 0.5828903 , 0.59912374,\n",
       "       0.64374965])"
      ]
     },
     "execution_count": 19,
     "metadata": {},
     "output_type": "execute_result"
    }
   ],
   "source": [
    "sm_ctrl_preds = sm.ctrl_preds_\n",
    "sm_ctrl_preds"
   ]
  },
  {
   "cell_type": "markdown",
   "id": "05e4ac94",
   "metadata": {},
   "source": [
    "### let's draw distributions of these probabilities and their difference (uplift)"
   ]
  },
  {
   "cell_type": "code",
   "execution_count": 20,
   "id": "d9738709",
   "metadata": {},
   "outputs": [
    {
     "data": {
      "image/png": "[encoded data removed]",
      "text/plain": [
       "<Figure size 1440x504 with 3 Axes>"
      ]
     },
     "metadata": {
      "needs_background": "light"
     },
     "output_type": "display_data"
    }
   ],
   "source": [
    "plot_uplift_preds(trmnt_preds=sm_trmnt_preds, ctrl_preds=sm_ctrl_preds);"
   ]
  },
  {
   "cell_type": "markdown",
   "id": "94a38a27",
   "metadata": {},
   "source": [
    "### the same code, but in one block"
   ]
  },
  {
   "cell_type": "code",
   "execution_count": 21,
   "id": "21e0d2d2",
   "metadata": {},
   "outputs": [],
   "source": [
    "# sm = SoloModel(CatBoostClassifier(iterations=20, thread_count=2, random_state=42, silent=True))\n",
    "# sm = sm.fit(X_train, y_train, treat_train, estimator_fit_params={'cat_features': cat_features})\n",
    "\n",
    "# uplift_sm = sm.predict(X_val)\n",
    "\n",
    "# sm_score = uplift_at_k(y_true=y_val, uplift=uplift_sm, treatment=treat_val, strategy='by_group', k=0.3)\n",
    "\n",
    "# models_results['approach'].append('SoloModel')\n",
    "# models_results['uplift@30%'].append(sm_score)\n",
    "\n",
    "# sm_trmnt_preds = sm.trmnt_preds_  # probabilities with treatment\n",
    "# sm_ctrl_preds = sm.ctrl_preds_  # probabilities without treatment\n",
    "\n",
    "# plot_uplift_preds(trmnt_preds=sm_trmnt_preds, ctrl_preds=sm_ctrl_preds);"
   ]
  },
  {
   "cell_type": "markdown",
   "id": "fc58a2f0",
   "metadata": {},
   "source": [
    "### identification of feature importances"
   ]
  },
  {
   "cell_type": "code",
   "execution_count": 22,
   "id": "35c0822a",
   "metadata": {},
   "outputs": [
    {
     "data": {
      "text/html": [
       "<div>\n",
       "<style scoped>\n",
       "    .dataframe tbody tr th:only-of-type {\n",
       "        vertical-align: middle;\n",
       "    }\n",
       "\n",
       "    .dataframe tbody tr th {\n",
       "        vertical-align: top;\n",
       "    }\n",
       "\n",
       "    .dataframe thead th {\n",
       "        text-align: right;\n",
       "    }\n",
       "</style>\n",
       "<table border=\"1\" class=\"dataframe\">\n",
       "  <thead>\n",
       "    <tr style=\"text-align: right;\">\n",
       "      <th></th>\n",
       "      <th>feature_name</th>\n",
       "      <th>feature_score</th>\n",
       "    </tr>\n",
       "  </thead>\n",
       "  <tbody>\n",
       "    <tr>\n",
       "      <th>0</th>\n",
       "      <td>first_redeem_time</td>\n",
       "      <td>41.162563</td>\n",
       "    </tr>\n",
       "    <tr>\n",
       "      <th>1</th>\n",
       "      <td>issue_redeem_delay</td>\n",
       "      <td>38.676225</td>\n",
       "    </tr>\n",
       "    <tr>\n",
       "      <th>2</th>\n",
       "      <td>age</td>\n",
       "      <td>8.003793</td>\n",
       "    </tr>\n",
       "    <tr>\n",
       "      <th>3</th>\n",
       "      <td>first_issue_time</td>\n",
       "      <td>6.274424</td>\n",
       "    </tr>\n",
       "    <tr>\n",
       "      <th>4</th>\n",
       "      <td>treatment</td>\n",
       "      <td>3.431789</td>\n",
       "    </tr>\n",
       "    <tr>\n",
       "      <th>5</th>\n",
       "      <td>gender</td>\n",
       "      <td>2.451207</td>\n",
       "    </tr>\n",
       "  </tbody>\n",
       "</table>\n",
       "</div>"
      ],
      "text/plain": [
       "         feature_name  feature_score\n",
       "0   first_redeem_time      41.162563\n",
       "1  issue_redeem_delay      38.676225\n",
       "2                 age       8.003793\n",
       "3    first_issue_time       6.274424\n",
       "4           treatment       3.431789\n",
       "5              gender       2.451207"
      ]
     },
     "execution_count": 22,
     "metadata": {},
     "output_type": "execute_result"
    }
   ],
   "source": [
    "sm_fi = pd.DataFrame({\n",
    "    'feature_name': sm.estimator.feature_names_,\n",
    "    'feature_score': sm.estimator.feature_importances_\n",
    "}).sort_values('feature_score', ascending=False).reset_index(drop=True)\n",
    "\n",
    "sm_fi"
   ]
  },
  {
   "cell_type": "markdown",
   "id": "095f5d27",
   "metadata": {},
   "source": [
    "## TwoModels"
   ]
  },
  {
   "cell_type": "code",
   "execution_count": 23,
   "id": "4cc7d0ce",
   "metadata": {},
   "outputs": [],
   "source": [
    "from sklift.models import TwoModels"
   ]
  },
  {
   "cell_type": "code",
   "execution_count": 24,
   "id": "8e3413dc",
   "metadata": {},
   "outputs": [
    {
     "data": {
      "image/png": "[encoded data removed]",
      "text/plain": [
       "<Figure size 1440x504 with 3 Axes>"
      ]
     },
     "metadata": {
      "needs_background": "light"
     },
     "output_type": "display_data"
    }
   ],
   "source": [
    "tm = TwoModels(\n",
    "    estimator_trmnt=CatBoostClassifier(iterations=20, thread_count=2, random_state=42, silent=True), \n",
    "    estimator_ctrl=CatBoostClassifier(iterations=20, thread_count=2, random_state=42, silent=True), \n",
    "    method='vanilla'\n",
    ")\n",
    "\n",
    "tm = tm.fit(\n",
    "    X_train, y_train, treat_train,\n",
    "    estimator_trmnt_fit_params={'cat_features': cat_features}, \n",
    "    estimator_ctrl_fit_params={'cat_features': cat_features}\n",
    ")\n",
    "\n",
    "uplift_tm = tm.predict(X_val)\n",
    "\n",
    "tm_score = uplift_at_k(y_true=y_val, uplift=uplift_tm, treatment=treat_val, strategy='by_group', k=0.3)\n",
    "\n",
    "models_results['approach'].append('TwoModels')\n",
    "models_results['uplift@30%'].append(tm_score)\n",
    "\n",
    "plot_uplift_preds(trmnt_preds=tm.trmnt_preds_, ctrl_preds=tm.ctrl_preds_);"
   ]
  },
  {
   "cell_type": "code",
   "execution_count": 25,
   "id": "340de56a",
   "metadata": {},
   "outputs": [
    {
     "data": {
      "text/html": [
       "<div>\n",
       "<style scoped>\n",
       "    .dataframe tbody tr th:only-of-type {\n",
       "        vertical-align: middle;\n",
       "    }\n",
       "\n",
       "    .dataframe tbody tr th {\n",
       "        vertical-align: top;\n",
       "    }\n",
       "\n",
       "    .dataframe thead th {\n",
       "        text-align: right;\n",
       "    }\n",
       "</style>\n",
       "<table border=\"1\" class=\"dataframe\">\n",
       "  <thead>\n",
       "    <tr style=\"text-align: right;\">\n",
       "      <th></th>\n",
       "      <th>approach</th>\n",
       "      <th>uplift@30%</th>\n",
       "    </tr>\n",
       "  </thead>\n",
       "  <tbody>\n",
       "    <tr>\n",
       "      <th>0</th>\n",
       "      <td>SoloModel</td>\n",
       "      <td>0.057262</td>\n",
       "    </tr>\n",
       "    <tr>\n",
       "      <th>1</th>\n",
       "      <td>TwoModels</td>\n",
       "      <td>0.049310</td>\n",
       "    </tr>\n",
       "  </tbody>\n",
       "</table>\n",
       "</div>"
      ],
      "text/plain": [
       "    approach  uplift@30%\n",
       "0  SoloModel    0.057262\n",
       "1  TwoModels    0.049310"
      ]
     },
     "execution_count": 25,
     "metadata": {},
     "output_type": "execute_result"
    }
   ],
   "source": [
    "pd.DataFrame(data=models_results).sort_values('uplift@30%', ascending=False)"
   ]
  },
  {
   "cell_type": "markdown",
   "id": "0b0bc81e",
   "metadata": {},
   "source": [
    "### Uplift curve"
   ]
  },
  {
   "cell_type": "code",
   "execution_count": 29,
   "id": "50875eef",
   "metadata": {},
   "outputs": [
    {
     "data": {
      "image/png": "[encoded data removed]",
      "text/plain": [
       "<Figure size 432x288 with 1 Axes>"
      ]
     },
     "metadata": {
      "needs_background": "light"
     },
     "output_type": "display_data"
    }
   ],
   "source": [
    "from sklift.viz import plot_uplift_curve\n",
    "\n",
    "\n",
    "# with ideal curve\n",
    "# perfect=True\n",
    "plot_uplift_curve(y_val, uplift_sm, treat_val, perfect=False); # perfect=True"
   ]
  },
  {
   "cell_type": "markdown",
   "id": "84039d87",
   "metadata": {},
   "source": [
    "### Qini curve"
   ]
  },
  {
   "cell_type": "code",
   "execution_count": 30,
   "id": "85ac6437",
   "metadata": {},
   "outputs": [
    {
     "data": {
      "image/png": "[encoded data removed]",
      "text/plain": [
       "<Figure size 432x288 with 1 Axes>"
      ]
     },
     "metadata": {
      "needs_background": "light"
     },
     "output_type": "display_data"
    }
   ],
   "source": [
    "from sklift.viz import plot_qini_curve\n",
    "\n",
    "\n",
    "# with ideal Qini curve (red line)\n",
    "# perfect=True\n",
    "plot_qini_curve(y_val, uplift_sm, treat_val, perfect=False);"
   ]
  },
  {
   "cell_type": "code",
   "execution_count": 31,
   "id": "d6d84e38",
   "metadata": {},
   "outputs": [
    {
     "name": "stdout",
     "output_type": "stream",
     "text": [
      "Qini coefficient on full data: 0.0137\n"
     ]
    }
   ],
   "source": [
    "from sklift.metrics import qini_auc_score\n",
    "\n",
    "\n",
    "# коэффициент qini, или area under qini curve (AUQC)\n",
    "auqc = qini_auc_score(y_val, uplift_sm, treat_val) \n",
    "print(f\"Qini coefficient on full data: {auqc:.4f}\")"
   ]
  },
  {
   "cell_type": "markdown",
   "id": "c62862ca",
   "metadata": {},
   "source": [
    "### Uplift by percentile"
   ]
  },
  {
   "cell_type": "code",
   "execution_count": 32,
   "id": "1631e866",
   "metadata": {},
   "outputs": [
    {
     "name": "stderr",
     "output_type": "stream",
     "text": [
      "C:\\Users\\fross\\anaconda3\\lib\\site-packages\\numpy\\core\\_asarray.py:102: VisibleDeprecationWarning: Creating an ndarray from ragged nested sequences (which is a list-or-tuple of lists-or-tuples-or ndarrays with different lengths or shapes) is deprecated. If you meant to do this, you must specify 'dtype=object' when creating the ndarray.\n",
      "  return array(a, dtype, copy=False, order=order)\n"
     ]
    },
    {
     "data": {
      "text/html": [
       "<div>\n",
       "<style scoped>\n",
       "    .dataframe tbody tr th:only-of-type {\n",
       "        vertical-align: middle;\n",
       "    }\n",
       "\n",
       "    .dataframe tbody tr th {\n",
       "        vertical-align: top;\n",
       "    }\n",
       "\n",
       "    .dataframe thead th {\n",
       "        text-align: right;\n",
       "    }\n",
       "</style>\n",
       "<table border=\"1\" class=\"dataframe\">\n",
       "  <thead>\n",
       "    <tr style=\"text-align: right;\">\n",
       "      <th></th>\n",
       "      <th>n_treatment</th>\n",
       "      <th>n_control</th>\n",
       "      <th>response_rate_treatment</th>\n",
       "      <th>response_rate_control</th>\n",
       "      <th>uplift</th>\n",
       "      <th>std_treatment</th>\n",
       "      <th>std_control</th>\n",
       "      <th>std_uplift</th>\n",
       "    </tr>\n",
       "    <tr>\n",
       "      <th>percentile</th>\n",
       "      <th></th>\n",
       "      <th></th>\n",
       "      <th></th>\n",
       "      <th></th>\n",
       "      <th></th>\n",
       "      <th></th>\n",
       "      <th></th>\n",
       "      <th></th>\n",
       "    </tr>\n",
       "  </thead>\n",
       "  <tbody>\n",
       "    <tr>\n",
       "      <th>0-10</th>\n",
       "      <td>3079</td>\n",
       "      <td>2923</td>\n",
       "      <td>0.714193</td>\n",
       "      <td>0.659938</td>\n",
       "      <td>0.054255</td>\n",
       "      <td>0.008142</td>\n",
       "      <td>0.008762</td>\n",
       "      <td>0.011961</td>\n",
       "    </tr>\n",
       "    <tr>\n",
       "      <th>10-20</th>\n",
       "      <td>3078</td>\n",
       "      <td>2924</td>\n",
       "      <td>0.698181</td>\n",
       "      <td>0.634747</td>\n",
       "      <td>0.063434</td>\n",
       "      <td>0.008274</td>\n",
       "      <td>0.008904</td>\n",
       "      <td>0.012155</td>\n",
       "    </tr>\n",
       "    <tr>\n",
       "      <th>20-30</th>\n",
       "      <td>3083</td>\n",
       "      <td>2918</td>\n",
       "      <td>0.695751</td>\n",
       "      <td>0.648732</td>\n",
       "      <td>0.047019</td>\n",
       "      <td>0.008286</td>\n",
       "      <td>0.008837</td>\n",
       "      <td>0.012114</td>\n",
       "    </tr>\n",
       "    <tr>\n",
       "      <th>30-40</th>\n",
       "      <td>2965</td>\n",
       "      <td>3036</td>\n",
       "      <td>0.668128</td>\n",
       "      <td>0.619895</td>\n",
       "      <td>0.048234</td>\n",
       "      <td>0.008648</td>\n",
       "      <td>0.008810</td>\n",
       "      <td>0.012345</td>\n",
       "    </tr>\n",
       "    <tr>\n",
       "      <th>40-50</th>\n",
       "      <td>2966</td>\n",
       "      <td>3035</td>\n",
       "      <td>0.651045</td>\n",
       "      <td>0.618451</td>\n",
       "      <td>0.032594</td>\n",
       "      <td>0.008752</td>\n",
       "      <td>0.008818</td>\n",
       "      <td>0.012424</td>\n",
       "    </tr>\n",
       "    <tr>\n",
       "      <th>50-60</th>\n",
       "      <td>3049</td>\n",
       "      <td>2952</td>\n",
       "      <td>0.636602</td>\n",
       "      <td>0.616870</td>\n",
       "      <td>0.019732</td>\n",
       "      <td>0.008711</td>\n",
       "      <td>0.008948</td>\n",
       "      <td>0.012487</td>\n",
       "    </tr>\n",
       "    <tr>\n",
       "      <th>60-70</th>\n",
       "      <td>2963</td>\n",
       "      <td>3038</td>\n",
       "      <td>0.617617</td>\n",
       "      <td>0.599078</td>\n",
       "      <td>0.018539</td>\n",
       "      <td>0.008928</td>\n",
       "      <td>0.008892</td>\n",
       "      <td>0.012600</td>\n",
       "    </tr>\n",
       "    <tr>\n",
       "      <th>70-80</th>\n",
       "      <td>3028</td>\n",
       "      <td>2973</td>\n",
       "      <td>0.618890</td>\n",
       "      <td>0.588295</td>\n",
       "      <td>0.030596</td>\n",
       "      <td>0.008826</td>\n",
       "      <td>0.009026</td>\n",
       "      <td>0.012624</td>\n",
       "    </tr>\n",
       "    <tr>\n",
       "      <th>80-90</th>\n",
       "      <td>2912</td>\n",
       "      <td>3089</td>\n",
       "      <td>0.558036</td>\n",
       "      <td>0.547426</td>\n",
       "      <td>0.010609</td>\n",
       "      <td>0.009203</td>\n",
       "      <td>0.008956</td>\n",
       "      <td>0.012841</td>\n",
       "    </tr>\n",
       "    <tr>\n",
       "      <th>90-100</th>\n",
       "      <td>2799</td>\n",
       "      <td>3202</td>\n",
       "      <td>0.492676</td>\n",
       "      <td>0.519988</td>\n",
       "      <td>-0.027312</td>\n",
       "      <td>0.009450</td>\n",
       "      <td>0.008829</td>\n",
       "      <td>0.012933</td>\n",
       "    </tr>\n",
       "    <tr>\n",
       "      <th>total</th>\n",
       "      <td>29922</td>\n",
       "      <td>30090</td>\n",
       "      <td>0.636789</td>\n",
       "      <td>0.604287</td>\n",
       "      <td>0.032502</td>\n",
       "      <td>0.087219</td>\n",
       "      <td>0.088781</td>\n",
       "      <td>0.124485</td>\n",
       "    </tr>\n",
       "  </tbody>\n",
       "</table>\n",
       "</div>"
      ],
      "text/plain": [
       "            n_treatment  n_control  response_rate_treatment  \\\n",
       "percentile                                                    \n",
       "0-10               3079       2923                 0.714193   \n",
       "10-20              3078       2924                 0.698181   \n",
       "20-30              3083       2918                 0.695751   \n",
       "30-40              2965       3036                 0.668128   \n",
       "40-50              2966       3035                 0.651045   \n",
       "50-60              3049       2952                 0.636602   \n",
       "60-70              2963       3038                 0.617617   \n",
       "70-80              3028       2973                 0.618890   \n",
       "80-90              2912       3089                 0.558036   \n",
       "90-100             2799       3202                 0.492676   \n",
       "total             29922      30090                 0.636789   \n",
       "\n",
       "            response_rate_control    uplift  std_treatment  std_control  \\\n",
       "percentile                                                                \n",
       "0-10                     0.659938  0.054255       0.008142     0.008762   \n",
       "10-20                    0.634747  0.063434       0.008274     0.008904   \n",
       "20-30                    0.648732  0.047019       0.008286     0.008837   \n",
       "30-40                    0.619895  0.048234       0.008648     0.008810   \n",
       "40-50                    0.618451  0.032594       0.008752     0.008818   \n",
       "50-60                    0.616870  0.019732       0.008711     0.008948   \n",
       "60-70                    0.599078  0.018539       0.008928     0.008892   \n",
       "70-80                    0.588295  0.030596       0.008826     0.009026   \n",
       "80-90                    0.547426  0.010609       0.009203     0.008956   \n",
       "90-100                   0.519988 -0.027312       0.009450     0.008829   \n",
       "total                    0.604287  0.032502       0.087219     0.088781   \n",
       "\n",
       "            std_uplift  \n",
       "percentile              \n",
       "0-10          0.011961  \n",
       "10-20         0.012155  \n",
       "20-30         0.012114  \n",
       "30-40         0.012345  \n",
       "40-50         0.012424  \n",
       "50-60         0.012487  \n",
       "60-70         0.012600  \n",
       "70-80         0.012624  \n",
       "80-90         0.012841  \n",
       "90-100        0.012933  \n",
       "total         0.124485  "
      ]
     },
     "execution_count": 32,
     "metadata": {},
     "output_type": "execute_result"
    }
   ],
   "source": [
    "from sklift.metrics import uplift_by_percentile\n",
    "\n",
    "# uplift by decile, или  uplift by percentile, или uplift by bin.\n",
    "uplift_by_percentile(y_val, uplift_sm,  treat_val, \n",
    "                     strategy='overall', \n",
    "                     total=True, std=True, bins=10)"
   ]
  },
  {
   "cell_type": "code",
   "execution_count": 33,
   "id": "08a64211",
   "metadata": {},
   "outputs": [
    {
     "name": "stderr",
     "output_type": "stream",
     "text": [
      "C:\\Users\\fross\\anaconda3\\lib\\site-packages\\numpy\\core\\_asarray.py:102: VisibleDeprecationWarning: Creating an ndarray from ragged nested sequences (which is a list-or-tuple of lists-or-tuples-or ndarrays with different lengths or shapes) is deprecated. If you meant to do this, you must specify 'dtype=object' when creating the ndarray.\n",
      "  return array(a, dtype, copy=False, order=order)\n"
     ]
    },
    {
     "data": {
      "image/png": "[encoded data removed]",
      "text/plain": [
       "<Figure size 576x432 with 2 Axes>"
      ]
     },
     "metadata": {
      "needs_background": "light"
     },
     "output_type": "display_data"
    }
   ],
   "source": [
    "from sklift.viz import plot_uplift_by_percentile\n",
    "\n",
    "plot_uplift_by_percentile(y_val, uplift_sm, treat_val, \n",
    "                          strategy='overall', kind='bar'); # line"
   ]
  },
  {
   "cell_type": "code",
   "execution_count": 34,
   "id": "c27f3f52",
   "metadata": {},
   "outputs": [
    {
     "name": "stdout",
     "output_type": "stream",
     "text": [
      "weighted average uplift on full data: 0.0304\n"
     ]
    }
   ],
   "source": [
    "from sklift.metrics import weighted_average_uplift\n",
    "\n",
    "# с помощью значений в столбцах uplift и n_treatment рассчитаем усредненный uplift на всей выборке, \n",
    "# взвешенный на размер целевой группы — weighted average uplift\n",
    "uplift_full_data = weighted_average_uplift(y_val, uplift_sm, \n",
    "                                            treat_val, bins=10) \n",
    "print(f\"weighted average uplift on full data: {uplift_full_data:.4f}\")"
   ]
  },
  {
   "cell_type": "code",
   "execution_count": 35,
   "id": "e177e9e3",
   "metadata": {},
   "outputs": [
    {
     "data": {
      "text/html": [
       "<div>\n",
       "<style scoped>\n",
       "    .dataframe tbody tr th:only-of-type {\n",
       "        vertical-align: middle;\n",
       "    }\n",
       "\n",
       "    .dataframe tbody tr th {\n",
       "        vertical-align: top;\n",
       "    }\n",
       "\n",
       "    .dataframe thead th {\n",
       "        text-align: right;\n",
       "    }\n",
       "</style>\n",
       "<table border=\"1\" class=\"dataframe\">\n",
       "  <thead>\n",
       "    <tr style=\"text-align: right;\">\n",
       "      <th></th>\n",
       "      <th>feature_name</th>\n",
       "      <th>feature_score</th>\n",
       "    </tr>\n",
       "  </thead>\n",
       "  <tbody>\n",
       "    <tr>\n",
       "      <th>0</th>\n",
       "      <td>first_redeem_time</td>\n",
       "      <td>41.162563</td>\n",
       "    </tr>\n",
       "    <tr>\n",
       "      <th>1</th>\n",
       "      <td>issue_redeem_delay</td>\n",
       "      <td>38.676225</td>\n",
       "    </tr>\n",
       "    <tr>\n",
       "      <th>2</th>\n",
       "      <td>age</td>\n",
       "      <td>8.003793</td>\n",
       "    </tr>\n",
       "    <tr>\n",
       "      <th>3</th>\n",
       "      <td>first_issue_time</td>\n",
       "      <td>6.274424</td>\n",
       "    </tr>\n",
       "    <tr>\n",
       "      <th>4</th>\n",
       "      <td>treatment</td>\n",
       "      <td>3.431789</td>\n",
       "    </tr>\n",
       "    <tr>\n",
       "      <th>5</th>\n",
       "      <td>gender</td>\n",
       "      <td>2.451207</td>\n",
       "    </tr>\n",
       "  </tbody>\n",
       "</table>\n",
       "</div>"
      ],
      "text/plain": [
       "         feature_name  feature_score\n",
       "0   first_redeem_time      41.162563\n",
       "1  issue_redeem_delay      38.676225\n",
       "2                 age       8.003793\n",
       "3    first_issue_time       6.274424\n",
       "4           treatment       3.431789\n",
       "5              gender       2.451207"
      ]
     },
     "execution_count": 35,
     "metadata": {},
     "output_type": "execute_result"
    }
   ],
   "source": [
    "sm_fi = pd.DataFrame({\n",
    "    'feature_name': sm.estimator.feature_names_,\n",
    "    'feature_score': sm.estimator.feature_importances_\n",
    "}).sort_values('feature_score', ascending=False).reset_index(drop=True)\n",
    "\n",
    "sm_fi"
   ]
  },
  {
   "cell_type": "code",
   "execution_count": null,
   "id": "53e183b2",
   "metadata": {},
   "outputs": [],
   "source": []
  },
  {
   "cell_type": "markdown",
   "id": "c9560e37",
   "metadata": {},
   "source": [
    "## UpliftTreeClassifier"
   ]
  },
  {
   "cell_type": "code",
   "execution_count": 26,
   "id": "6c0c07b9",
   "metadata": {},
   "outputs": [],
   "source": [
    "# !conda install -c conda-forge causalml\n",
    "# https://pypi.org/project/causalml/"
   ]
  },
  {
   "cell_type": "code",
   "execution_count": 27,
   "id": "4eb27334",
   "metadata": {},
   "outputs": [],
   "source": [
    "# %%time\n",
    "# from IPython.display import Image\n",
    "# from causalml.inference.tree import UpliftTreeClassifier, UpliftRandomForestClassifier\n",
    "# from causalml.inference.tree import uplift_tree_string, uplift_tree_plot"
   ]
  },
  {
   "cell_type": "code",
   "execution_count": 28,
   "id": "7d7a0df2",
   "metadata": {},
   "outputs": [],
   "source": [
    "# uplift_model = UpliftTreeClassifier(max_depth=8, min_samples_leaf=200, min_samples_treatment=50,\n",
    "#                                     n_reg=100, evaluationFunction='KL', control_name='control')\n",
    "\n",
    "# uplift_model.fit(X_train_tree.values,\n",
    "#                  treatment=treat_train.map({1: 'treatment1', 0: 'control'}).values,\n",
    "#                  y=y_train)\n",
    "\n",
    "# graph = uplift_tree_plot(uplift_model.fitted_uplift_tree, features)\n",
    "# Image(graph.create_png())"
   ]
  },
  {
   "cell_type": "code",
   "execution_count": null,
   "id": "6f844d89",
   "metadata": {},
   "outputs": [],
   "source": []
  }
 ],
 "metadata": {
  "kernelspec": {
   "display_name": "Python 3 (ipykernel)",
   "language": "python",
   "name": "python3"
  },
  "language_info": {
   "codemirror_mode": {
    "name": "ipython",
    "version": 3
   },
   "file_extension": ".py",
   "mimetype": "text/x-python",
   "name": "python",
   "nbconvert_exporter": "python",
   "pygments_lexer": "ipython3",
   "version": "3.9.7"
  }
 },
 "nbformat": 4,
 "nbformat_minor": 5
}
