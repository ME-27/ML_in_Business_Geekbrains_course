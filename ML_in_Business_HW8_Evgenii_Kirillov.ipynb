{
 "cells": [
  {
   "cell_type": "markdown",
   "id": "a75f8704",
   "metadata": {},
   "source": [
    "# Домашнее задание № 8"
   ]
  },
  {
   "cell_type": "markdown",
   "id": "6e3ef63b",
   "metadata": {},
   "source": [
    "## по дисциплине: Машинное обучение в бизнесе"
   ]
  },
  {
   "cell_type": "markdown",
   "id": "d1715fa7",
   "metadata": {},
   "source": [
    "### выполнил: Евгений Кириллов"
   ]
  },
  {
   "cell_type": "code",
   "execution_count": null,
   "id": "e904395b",
   "metadata": {},
   "outputs": [],
   "source": []
  },
  {
   "cell_type": "markdown",
   "id": "b28fcd70",
   "metadata": {},
   "source": [
    "скоро будет"
   ]
  },
  {
   "cell_type": "code",
   "execution_count": null,
   "id": "edb3ad4f",
   "metadata": {},
   "outputs": [],
   "source": []
  }
 ],
 "metadata": {
  "kernelspec": {
   "display_name": "Python 3 (ipykernel)",
   "language": "python",
   "name": "python3"
  },
  "language_info": {
   "codemirror_mode": {
    "name": "ipython",
    "version": 3
   },
   "file_extension": ".py",
   "mimetype": "text/x-python",
   "name": "python",
   "nbconvert_exporter": "python",
   "pygments_lexer": "ipython3",
   "version": "3.9.7"
  }
 },
 "nbformat": 4,
 "nbformat_minor": 5
}
